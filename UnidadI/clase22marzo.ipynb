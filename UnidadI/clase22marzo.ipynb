{
  "nbformat": 4,
  "nbformat_minor": 0,
  "metadata": {
    "colab": {
      "name": "clase22marzo.ipynb",
      "provenance": [],
      "collapsed_sections": []
    },
    "kernelspec": {
      "name": "ir",
      "display_name": "R"
    },
    "language_info": {
      "name": "R"
    }
  },
  "cells": [
    {
      "cell_type": "markdown",
      "source": [
        "# Resolviendo el ejercicio de la clase del 16 de Marzo."
      ],
      "metadata": {
        "id": "hmwTk3UrMabB"
      }
    },
    {
      "cell_type": "code",
      "source": [
        "dat <- read.csv(\"diabetes.csv\")"
      ],
      "metadata": {
        "id": "9sIW8odUMcam"
      },
      "execution_count": 20,
      "outputs": []
    },
    {
      "cell_type": "code",
      "source": [
        "head(dat)"
      ],
      "metadata": {
        "colab": {
          "base_uri": "https://localhost:8080/",
          "height": 286
        },
        "id": "-F330IBIIu7m",
        "outputId": "cb641098-fc56-4d1e-b1b9-5ebe05d04da3"
      },
      "execution_count": 21,
      "outputs": [
        {
          "output_type": "display_data",
          "data": {
            "text/html": [
              "<table class=\"dataframe\">\n",
              "<caption>A data.frame: 6 × 8</caption>\n",
              "<thead>\n",
              "\t<tr><th></th><th scope=col>subject</th><th scope=col>glyhb</th><th scope=col>location</th><th scope=col>age</th><th scope=col>gender</th><th scope=col>height</th><th scope=col>weight</th><th scope=col>frame</th></tr>\n",
              "\t<tr><th></th><th scope=col>&lt;chr&gt;</th><th scope=col>&lt;dbl&gt;</th><th scope=col>&lt;chr&gt;</th><th scope=col>&lt;int&gt;</th><th scope=col>&lt;chr&gt;</th><th scope=col>&lt;int&gt;</th><th scope=col>&lt;int&gt;</th><th scope=col>&lt;chr&gt;</th></tr>\n",
              "</thead>\n",
              "<tbody>\n",
              "\t<tr><th scope=row>1</th><td>S1002</td><td>4.64</td><td>Buckingham</td><td>58</td><td>female</td><td>61</td><td>256</td><td>large </td></tr>\n",
              "\t<tr><th scope=row>2</th><td>S1003</td><td>4.63</td><td>Buckingham</td><td>67</td><td>male  </td><td>67</td><td>119</td><td>large </td></tr>\n",
              "\t<tr><th scope=row>3</th><td>S1005</td><td>7.72</td><td>Buckingham</td><td>64</td><td>male  </td><td>68</td><td>183</td><td>medium</td></tr>\n",
              "\t<tr><th scope=row>4</th><td>S1008</td><td>4.81</td><td>Buckingham</td><td>34</td><td>male  </td><td>71</td><td>190</td><td>large </td></tr>\n",
              "\t<tr><th scope=row>5</th><td>S1011</td><td>4.84</td><td>Buckingham</td><td>30</td><td>male  </td><td>69</td><td>191</td><td>medium</td></tr>\n",
              "\t<tr><th scope=row>6</th><td>S1015</td><td>3.94</td><td>Buckingham</td><td>37</td><td>male  </td><td>59</td><td>170</td><td>medium</td></tr>\n",
              "</tbody>\n",
              "</table>\n"
            ],
            "text/markdown": "\nA data.frame: 6 × 8\n\n| <!--/--> | subject &lt;chr&gt; | glyhb &lt;dbl&gt; | location &lt;chr&gt; | age &lt;int&gt; | gender &lt;chr&gt; | height &lt;int&gt; | weight &lt;int&gt; | frame &lt;chr&gt; |\n|---|---|---|---|---|---|---|---|---|\n| 1 | S1002 | 4.64 | Buckingham | 58 | female | 61 | 256 | large  |\n| 2 | S1003 | 4.63 | Buckingham | 67 | male   | 67 | 119 | large  |\n| 3 | S1005 | 7.72 | Buckingham | 64 | male   | 68 | 183 | medium |\n| 4 | S1008 | 4.81 | Buckingham | 34 | male   | 71 | 190 | large  |\n| 5 | S1011 | 4.84 | Buckingham | 30 | male   | 69 | 191 | medium |\n| 6 | S1015 | 3.94 | Buckingham | 37 | male   | 59 | 170 | medium |\n\n",
            "text/latex": "A data.frame: 6 × 8\n\\begin{tabular}{r|llllllll}\n  & subject & glyhb & location & age & gender & height & weight & frame\\\\\n  & <chr> & <dbl> & <chr> & <int> & <chr> & <int> & <int> & <chr>\\\\\n\\hline\n\t1 & S1002 & 4.64 & Buckingham & 58 & female & 61 & 256 & large \\\\\n\t2 & S1003 & 4.63 & Buckingham & 67 & male   & 67 & 119 & large \\\\\n\t3 & S1005 & 7.72 & Buckingham & 64 & male   & 68 & 183 & medium\\\\\n\t4 & S1008 & 4.81 & Buckingham & 34 & male   & 71 & 190 & large \\\\\n\t5 & S1011 & 4.84 & Buckingham & 30 & male   & 69 & 191 & medium\\\\\n\t6 & S1015 & 3.94 & Buckingham & 37 & male   & 59 & 170 & medium\\\\\n\\end{tabular}\n",
            "text/plain": [
              "  subject glyhb location   age gender height weight frame \n",
              "1 S1002   4.64  Buckingham 58  female 61     256    large \n",
              "2 S1003   4.63  Buckingham 67  male   67     119    large \n",
              "3 S1005   7.72  Buckingham 64  male   68     183    medium\n",
              "4 S1008   4.81  Buckingham 34  male   71     190    large \n",
              "5 S1011   4.84  Buckingham 30  male   69     191    medium\n",
              "6 S1015   3.94  Buckingham 37  male   59     170    medium"
            ]
          },
          "metadata": {}
        }
      ]
    },
    {
      "cell_type": "code",
      "source": [
        "table(dat$gender, dat$location)"
      ],
      "metadata": {
        "colab": {
          "base_uri": "https://localhost:8080/",
          "height": 88
        },
        "id": "lC2mXPUqIv79",
        "outputId": "542ca644-f3e3-471b-bb9e-42230965f5f8"
      },
      "execution_count": 22,
      "outputs": [
        {
          "output_type": "display_data",
          "data": {
            "text/plain": [
              "        \n",
              "         Buckingham Louisa\n",
              "  female        103    103\n",
              "  male           75     73"
            ]
          },
          "metadata": {}
        }
      ]
    },
    {
      "cell_type": "code",
      "source": [
        "dim(dat)"
      ],
      "metadata": {
        "colab": {
          "base_uri": "https://localhost:8080/",
          "height": 34
        },
        "id": "92plYIQQJo-C",
        "outputId": "cb89c38c-704f-417d-ef73-4d8611ad83ff"
      },
      "execution_count": 23,
      "outputs": [
        {
          "output_type": "display_data",
          "data": {
            "text/html": [
              "<style>\n",
              ".list-inline {list-style: none; margin:0; padding: 0}\n",
              ".list-inline>li {display: inline-block}\n",
              ".list-inline>li:not(:last-child)::after {content: \"\\00b7\"; padding: 0 .5ex}\n",
              "</style>\n",
              "<ol class=list-inline><li>354</li><li>8</li></ol>\n"
            ],
            "text/markdown": "1. 354\n2. 8\n\n\n",
            "text/latex": "\\begin{enumerate*}\n\\item 354\n\\item 8\n\\end{enumerate*}\n",
            "text/plain": [
              "[1] 354   8"
            ]
          },
          "metadata": {}
        }
      ]
    },
    {
      "cell_type": "code",
      "source": [
        "sum(is.na(dat))"
      ],
      "metadata": {
        "colab": {
          "base_uri": "https://localhost:8080/",
          "height": 34
        },
        "id": "DG3ktkenJU4v",
        "outputId": "6a125df1-5833-4095-a91b-cf25db86dcdb"
      },
      "execution_count": 24,
      "outputs": [
        {
          "output_type": "display_data",
          "data": {
            "text/html": [
              "29"
            ],
            "text/markdown": "29",
            "text/latex": "29",
            "text/plain": [
              "[1] 29"
            ]
          },
          "metadata": {}
        }
      ]
    },
    {
      "cell_type": "code",
      "source": [
        "min(c(1, 2, 3, 4, NA))"
      ],
      "metadata": {
        "colab": {
          "base_uri": "https://localhost:8080/",
          "height": 34
        },
        "id": "SyzolGczJbIO",
        "outputId": "6216cf8d-f610-409a-84c3-e4a225a77200"
      },
      "execution_count": 25,
      "outputs": [
        {
          "output_type": "display_data",
          "data": {
            "text/html": [
              "&lt;NA&gt;"
            ],
            "text/markdown": "&lt;NA&gt;",
            "text/latex": "<NA>",
            "text/plain": [
              "[1] NA"
            ]
          },
          "metadata": {}
        }
      ]
    },
    {
      "cell_type": "code",
      "source": [
        "dat = na.omit(dat)  # Elimino los datos ausentes"
      ],
      "metadata": {
        "id": "ji9l8ATqJmlA"
      },
      "execution_count": 26,
      "outputs": []
    },
    {
      "cell_type": "code",
      "source": [
        "tapply(dat$age, list(dat$gender, dat$location), min ) # esto se puede hacer aggregate"
      ],
      "metadata": {
        "colab": {
          "base_uri": "https://localhost:8080/",
          "height": 129
        },
        "id": "6U_GwVIJJCtP",
        "outputId": "12faa2f3-a05c-4e2c-d58e-45cd45df8e1f"
      },
      "execution_count": 27,
      "outputs": [
        {
          "output_type": "display_data",
          "data": {
            "text/html": [
              "<table class=\"dataframe\">\n",
              "<caption>A matrix: 2 × 2 of type int</caption>\n",
              "<thead>\n",
              "\t<tr><th></th><th scope=col>Buckingham</th><th scope=col>Louisa</th></tr>\n",
              "</thead>\n",
              "<tbody>\n",
              "\t<tr><th scope=row>female</th><td>19</td><td>19</td></tr>\n",
              "\t<tr><th scope=row>male</th><td>20</td><td>20</td></tr>\n",
              "</tbody>\n",
              "</table>\n"
            ],
            "text/markdown": "\nA matrix: 2 × 2 of type int\n\n| <!--/--> | Buckingham | Louisa |\n|---|---|---|\n| female | 19 | 19 |\n| male | 20 | 20 |\n\n",
            "text/latex": "A matrix: 2 × 2 of type int\n\\begin{tabular}{r|ll}\n  & Buckingham & Louisa\\\\\n\\hline\n\tfemale & 19 & 19\\\\\n\tmale & 20 & 20\\\\\n\\end{tabular}\n",
            "text/plain": [
              "       Buckingham Louisa\n",
              "female 19         19    \n",
              "male   20         20    "
            ]
          },
          "metadata": {}
        }
      ]
    },
    {
      "cell_type": "code",
      "source": [
        "aggregate(dat$age, list(gender = dat$gender, location=dat$location), min)"
      ],
      "metadata": {
        "colab": {
          "base_uri": "https://localhost:8080/",
          "height": 223
        },
        "id": "wGhGzw4YLh1J",
        "outputId": "ccd8f606-9d97-4d59-d170-5d69802295ef"
      },
      "execution_count": 28,
      "outputs": [
        {
          "output_type": "display_data",
          "data": {
            "text/html": [
              "<table class=\"dataframe\">\n",
              "<caption>A data.frame: 4 × 3</caption>\n",
              "<thead>\n",
              "\t<tr><th scope=col>gender</th><th scope=col>location</th><th scope=col>x</th></tr>\n",
              "\t<tr><th scope=col>&lt;chr&gt;</th><th scope=col>&lt;chr&gt;</th><th scope=col>&lt;int&gt;</th></tr>\n",
              "</thead>\n",
              "<tbody>\n",
              "\t<tr><td>female</td><td>Buckingham</td><td>19</td></tr>\n",
              "\t<tr><td>male  </td><td>Buckingham</td><td>20</td></tr>\n",
              "\t<tr><td>female</td><td>Louisa    </td><td>19</td></tr>\n",
              "\t<tr><td>male  </td><td>Louisa    </td><td>20</td></tr>\n",
              "</tbody>\n",
              "</table>\n"
            ],
            "text/markdown": "\nA data.frame: 4 × 3\n\n| gender &lt;chr&gt; | location &lt;chr&gt; | x &lt;int&gt; |\n|---|---|---|\n| female | Buckingham | 19 |\n| male   | Buckingham | 20 |\n| female | Louisa     | 19 |\n| male   | Louisa     | 20 |\n\n",
            "text/latex": "A data.frame: 4 × 3\n\\begin{tabular}{lll}\n gender & location & x\\\\\n <chr> & <chr> & <int>\\\\\n\\hline\n\t female & Buckingham & 19\\\\\n\t male   & Buckingham & 20\\\\\n\t female & Louisa     & 19\\\\\n\t male   & Louisa     & 20\\\\\n\\end{tabular}\n",
            "text/plain": [
              "  gender location   x \n",
              "1 female Buckingham 19\n",
              "2 male   Buckingham 20\n",
              "3 female Louisa     19\n",
              "4 male   Louisa     20"
            ]
          },
          "metadata": {}
        }
      ]
    },
    {
      "cell_type": "code",
      "source": [
        "with(dat, aggregate(age, list(gender = gender, location=location), min))"
      ],
      "metadata": {
        "colab": {
          "base_uri": "https://localhost:8080/",
          "height": 223
        },
        "id": "NRjmYGhUL-i6",
        "outputId": "a15086c4-0c9b-4870-b527-296d1f6b1246"
      },
      "execution_count": 29,
      "outputs": [
        {
          "output_type": "display_data",
          "data": {
            "text/html": [
              "<table class=\"dataframe\">\n",
              "<caption>A data.frame: 4 × 3</caption>\n",
              "<thead>\n",
              "\t<tr><th scope=col>gender</th><th scope=col>location</th><th scope=col>x</th></tr>\n",
              "\t<tr><th scope=col>&lt;chr&gt;</th><th scope=col>&lt;chr&gt;</th><th scope=col>&lt;int&gt;</th></tr>\n",
              "</thead>\n",
              "<tbody>\n",
              "\t<tr><td>female</td><td>Buckingham</td><td>19</td></tr>\n",
              "\t<tr><td>male  </td><td>Buckingham</td><td>20</td></tr>\n",
              "\t<tr><td>female</td><td>Louisa    </td><td>19</td></tr>\n",
              "\t<tr><td>male  </td><td>Louisa    </td><td>20</td></tr>\n",
              "</tbody>\n",
              "</table>\n"
            ],
            "text/markdown": "\nA data.frame: 4 × 3\n\n| gender &lt;chr&gt; | location &lt;chr&gt; | x &lt;int&gt; |\n|---|---|---|\n| female | Buckingham | 19 |\n| male   | Buckingham | 20 |\n| female | Louisa     | 19 |\n| male   | Louisa     | 20 |\n\n",
            "text/latex": "A data.frame: 4 × 3\n\\begin{tabular}{lll}\n gender & location & x\\\\\n <chr> & <chr> & <int>\\\\\n\\hline\n\t female & Buckingham & 19\\\\\n\t male   & Buckingham & 20\\\\\n\t female & Louisa     & 19\\\\\n\t male   & Louisa     & 20\\\\\n\\end{tabular}\n",
            "text/plain": [
              "  gender location   x \n",
              "1 female Buckingham 19\n",
              "2 male   Buckingham 20\n",
              "3 female Louisa     19\n",
              "4 male   Louisa     20"
            ]
          },
          "metadata": {}
        }
      ]
    },
    {
      "cell_type": "markdown",
      "source": [
        "Como usar más de una función en tapply: \n",
        "\n",
        "https://stackoverflow.com/questions/15215076/multiple-functions-in-a-single-tapply-or-aggregate-statement"
      ],
      "metadata": {
        "id": "Snys1q7fwKIl"
      }
    },
    {
      "cell_type": "code",
      "source": [
        "tapply(dat$age, list(dat$gender, dat$location), function(x) { c(min(x), max(x)) } )"
      ],
      "metadata": {
        "colab": {
          "base_uri": "https://localhost:8080/",
          "height": 161
        },
        "id": "nKHIKWxcJStA",
        "outputId": "b0c0c7ee-5f0d-46ac-eff2-9bc6d331b359"
      },
      "execution_count": 30,
      "outputs": [
        {
          "output_type": "display_data",
          "data": {
            "text/html": [
              "<table class=\"dataframe\">\n",
              "<caption>A matrix: 2 × 2</caption>\n",
              "<thead>\n",
              "\t<tr><th></th><th scope=col>Buckingham</th><th scope=col>Louisa</th></tr>\n",
              "\t<tr><th></th><th scope=col>&lt;int&gt;</th><th scope=col>&lt;int&gt;</th><th scope=col>&lt;int&gt;</th><th scope=col>&lt;int&gt;</th></tr>\n",
              "</thead>\n",
              "<tbody>\n",
              "\t<tr><th scope=row>female</th><td>19, 92</td><td>19, 84</td></tr>\n",
              "\t<tr><th scope=row>male</th><td>20, 78</td><td>20, 80</td></tr>\n",
              "</tbody>\n",
              "</table>\n"
            ],
            "text/markdown": "\nA matrix: 2 × 2\n\n| <!--/--> | Buckingham &lt;int&gt; | Louisa &lt;int&gt; | Buckingham &lt;int&gt; | Louisa &lt;int&gt; |\n|---|---|---|\n| female | 19, 92 | 19, 84 |\n| male | 20, 78 | 20, 80 |\n\n",
            "text/latex": "A matrix: 2 × 2\n\\begin{tabular}{r|ll}\n  & Buckingham & Louisa\\\\\n  & <int> & <int> & <int> & <int>\\\\\n\\hline\n\tfemale & 19, 92 & 19, 84\\\\\n\tmale & 20, 78 & 20, 80\\\\\n\\end{tabular}\n",
            "text/plain": [
              "       Buckingham Louisa\n",
              "female 19, 92     19, 84\n",
              "male   20, 78     20, 80"
            ]
          },
          "metadata": {}
        }
      ]
    },
    {
      "cell_type": "code",
      "source": [
        "aggregate(dat$age, list(dat$gender, dat$location), function(x) { c(min(x), max(x)) } )"
      ],
      "metadata": {
        "colab": {
          "base_uri": "https://localhost:8080/",
          "height": 223
        },
        "id": "2Nb_TFuxKL_Z",
        "outputId": "ab694585-5514-4a68-fcd2-9e5238558db8"
      },
      "execution_count": 31,
      "outputs": [
        {
          "output_type": "display_data",
          "data": {
            "text/html": [
              "<table class=\"dataframe\">\n",
              "<caption>A data.frame: 4 × 3</caption>\n",
              "<thead>\n",
              "\t<tr><th scope=col>Group.1</th><th scope=col>Group.2</th><th scope=col>x</th></tr>\n",
              "\t<tr><th scope=col>&lt;chr&gt;</th><th scope=col>&lt;chr&gt;</th><th scope=col>&lt;int[,2]&gt;</th></tr>\n",
              "</thead>\n",
              "<tbody>\n",
              "\t<tr><td>female</td><td>Buckingham</td><td>19, 92</td></tr>\n",
              "\t<tr><td>male  </td><td>Buckingham</td><td>20, 78</td></tr>\n",
              "\t<tr><td>female</td><td>Louisa    </td><td>19, 84</td></tr>\n",
              "\t<tr><td>male  </td><td>Louisa    </td><td>20, 80</td></tr>\n",
              "</tbody>\n",
              "</table>\n"
            ],
            "text/markdown": "\nA data.frame: 4 × 3\n\n| Group.1 &lt;chr&gt; | Group.2 &lt;chr&gt; | x &lt;int[,2]&gt; |\n|---|---|---|\n| female | Buckingham | 19, 92 |\n| male   | Buckingham | 20, 78 |\n| female | Louisa     | 19, 84 |\n| male   | Louisa     | 20, 80 |\n\n",
            "text/latex": "A data.frame: 4 × 3\n\\begin{tabular}{lll}\n Group.1 & Group.2 & x\\\\\n <chr> & <chr> & <int{[},2{]}>\\\\\n\\hline\n\t female & Buckingham & 19, 92\\\\\n\t male   & Buckingham & 20, 78\\\\\n\t female & Louisa     & 19, 84\\\\\n\t male   & Louisa     & 20, 80\\\\\n\\end{tabular}\n",
            "text/plain": [
              "  Group.1 Group.2    x     \n",
              "1 female  Buckingham 19, 92\n",
              "2 male    Buckingham 20, 78\n",
              "3 female  Louisa     19, 84\n",
              "4 male    Louisa     20, 80"
            ]
          },
          "metadata": {}
        }
      ]
    },
    {
      "cell_type": "markdown",
      "source": [
        "# La operación melt \n",
        "\n",
        "Los dataframes son más flexibles que las matrices.\n",
        "\n",
        "Si tengo una matriz entonces este se puede representar como un dataframe. \n",
        "\n",
        "Pero lo contrario no se da es decir: \n",
        "\n",
        "Si tengo un dataframe entonces no necesariamente se puede representar como una matriz.\n",
        "\n",
        "La idea de melt es pasar de una representación de una matriz a un dataframe."
      ],
      "metadata": {
        "id": "dt3VwDsDMtmn"
      }
    },
    {
      "cell_type": "code",
      "source": [
        "install.packages(\"reshape2\")"
      ],
      "metadata": {
        "colab": {
          "base_uri": "https://localhost:8080/"
        },
        "id": "XUW-UtrgNGIf",
        "outputId": "d81fcbb8-b047-4c65-e4eb-48ab734a2ef1"
      },
      "execution_count": 34,
      "outputs": [
        {
          "output_type": "stream",
          "name": "stderr",
          "text": [
            "Installing package into ‘/usr/local/lib/R/site-library’\n",
            "(as ‘lib’ is unspecified)\n",
            "\n",
            "also installing the dependency ‘plyr’\n",
            "\n",
            "\n"
          ]
        }
      ]
    },
    {
      "cell_type": "code",
      "source": [
        "library(\"reshape2\")"
      ],
      "metadata": {
        "id": "XKDrzDqROoJv"
      },
      "execution_count": 35,
      "outputs": []
    },
    {
      "cell_type": "code",
      "source": [
        "averages <- with(dat, tapply(glyhb, list(frame, gender), mean, na.rm=TRUE))"
      ],
      "metadata": {
        "id": "jhAeYkQuO5NO"
      },
      "execution_count": 37,
      "outputs": []
    },
    {
      "cell_type": "markdown",
      "source": [
        "Vamos a tomar como conveción el uso de with. "
      ],
      "metadata": {
        "id": "1Nitwbc8PPqg"
      }
    },
    {
      "cell_type": "code",
      "source": [
        "averages"
      ],
      "metadata": {
        "colab": {
          "base_uri": "https://localhost:8080/",
          "height": 161
        },
        "id": "hw8hFX2pPSA0",
        "outputId": "d1778591-4135-4e7d-8d42-8b927e2b4a98"
      },
      "execution_count": 38,
      "outputs": [
        {
          "output_type": "display_data",
          "data": {
            "text/html": [
              "<table class=\"dataframe\">\n",
              "<caption>A matrix: 3 × 2 of type dbl</caption>\n",
              "<thead>\n",
              "\t<tr><th></th><th scope=col>female</th><th scope=col>male</th></tr>\n",
              "</thead>\n",
              "<tbody>\n",
              "\t<tr><th scope=row>large</th><td>6.089091</td><td>5.929811</td></tr>\n",
              "\t<tr><th scope=row>medium</th><td>5.490106</td><td>5.973273</td></tr>\n",
              "\t<tr><th scope=row>small</th><td>5.061587</td><td>4.811379</td></tr>\n",
              "</tbody>\n",
              "</table>\n"
            ],
            "text/markdown": "\nA matrix: 3 × 2 of type dbl\n\n| <!--/--> | female | male |\n|---|---|---|\n| large | 6.089091 | 5.929811 |\n| medium | 5.490106 | 5.973273 |\n| small | 5.061587 | 4.811379 |\n\n",
            "text/latex": "A matrix: 3 × 2 of type dbl\n\\begin{tabular}{r|ll}\n  & female & male\\\\\n\\hline\n\tlarge & 6.089091 & 5.929811\\\\\n\tmedium & 5.490106 & 5.973273\\\\\n\tsmall & 5.061587 & 4.811379\\\\\n\\end{tabular}\n",
            "text/plain": [
              "       female   male    \n",
              "large  6.089091 5.929811\n",
              "medium 5.490106 5.973273\n",
              "small  5.061587 4.811379"
            ]
          },
          "metadata": {}
        }
      ]
    },
    {
      "cell_type": "code",
      "source": [
        "melt(averages)"
      ],
      "metadata": {
        "colab": {
          "base_uri": "https://localhost:8080/",
          "height": 286
        },
        "id": "jU0Hb_I3Psqb",
        "outputId": "a79e0a9d-ddf2-45ce-f72c-b6a6f09467c6"
      },
      "execution_count": 40,
      "outputs": [
        {
          "output_type": "display_data",
          "data": {
            "text/html": [
              "<table class=\"dataframe\">\n",
              "<caption>A data.frame: 6 × 3</caption>\n",
              "<thead>\n",
              "\t<tr><th scope=col>Var1</th><th scope=col>Var2</th><th scope=col>value</th></tr>\n",
              "\t<tr><th scope=col>&lt;fct&gt;</th><th scope=col>&lt;fct&gt;</th><th scope=col>&lt;dbl&gt;</th></tr>\n",
              "</thead>\n",
              "<tbody>\n",
              "\t<tr><td>large </td><td>female</td><td>6.089091</td></tr>\n",
              "\t<tr><td>medium</td><td>female</td><td>5.490106</td></tr>\n",
              "\t<tr><td>small </td><td>female</td><td>5.061587</td></tr>\n",
              "\t<tr><td>large </td><td>male  </td><td>5.929811</td></tr>\n",
              "\t<tr><td>medium</td><td>male  </td><td>5.973273</td></tr>\n",
              "\t<tr><td>small </td><td>male  </td><td>4.811379</td></tr>\n",
              "</tbody>\n",
              "</table>\n"
            ],
            "text/markdown": "\nA data.frame: 6 × 3\n\n| Var1 &lt;fct&gt; | Var2 &lt;fct&gt; | value &lt;dbl&gt; |\n|---|---|---|\n| large  | female | 6.089091 |\n| medium | female | 5.490106 |\n| small  | female | 5.061587 |\n| large  | male   | 5.929811 |\n| medium | male   | 5.973273 |\n| small  | male   | 4.811379 |\n\n",
            "text/latex": "A data.frame: 6 × 3\n\\begin{tabular}{lll}\n Var1 & Var2 & value\\\\\n <fct> & <fct> & <dbl>\\\\\n\\hline\n\t large  & female & 6.089091\\\\\n\t medium & female & 5.490106\\\\\n\t small  & female & 5.061587\\\\\n\t large  & male   & 5.929811\\\\\n\t medium & male   & 5.973273\\\\\n\t small  & male   & 4.811379\\\\\n\\end{tabular}\n",
            "text/plain": [
              "  Var1   Var2   value   \n",
              "1 large  female 6.089091\n",
              "2 medium female 5.490106\n",
              "3 small  female 5.061587\n",
              "4 large  male   5.929811\n",
              "5 medium male   5.973273\n",
              "6 small  male   4.811379"
            ]
          },
          "metadata": {}
        }
      ]
    },
    {
      "cell_type": "code",
      "source": [
        "counts <- with(dat, table(gender, location))"
      ],
      "metadata": {
        "id": "_4bZkLYkQGE8"
      },
      "execution_count": 41,
      "outputs": []
    },
    {
      "cell_type": "code",
      "source": [
        "counts # esta representación es util a fines de visualización"
      ],
      "metadata": {
        "colab": {
          "base_uri": "https://localhost:8080/",
          "height": 88
        },
        "id": "FRv73YHQQ-A9",
        "outputId": "e201c83e-18fb-4fcb-cc18-2fed5ff0d289"
      },
      "execution_count": 42,
      "outputs": [
        {
          "output_type": "display_data",
          "data": {
            "text/plain": [
              "        location\n",
              "gender   Buckingham Louisa\n",
              "  female         92     98\n",
              "  male           67     70"
            ]
          },
          "metadata": {}
        }
      ]
    },
    {
      "cell_type": "code",
      "source": [
        "melt(counts) # esta representación es más operativa, se puede hacer análisis de datos"
      ],
      "metadata": {
        "colab": {
          "base_uri": "https://localhost:8080/",
          "height": 223
        },
        "id": "1aFM3mloQ-z0",
        "outputId": "ba8a2526-1e46-4f2e-a4d7-4363ed035efe"
      },
      "execution_count": 44,
      "outputs": [
        {
          "output_type": "display_data",
          "data": {
            "text/html": [
              "<table class=\"dataframe\">\n",
              "<caption>A data.frame: 4 × 3</caption>\n",
              "<thead>\n",
              "\t<tr><th scope=col>gender</th><th scope=col>location</th><th scope=col>value</th></tr>\n",
              "\t<tr><th scope=col>&lt;fct&gt;</th><th scope=col>&lt;fct&gt;</th><th scope=col>&lt;int&gt;</th></tr>\n",
              "</thead>\n",
              "<tbody>\n",
              "\t<tr><td>female</td><td>Buckingham</td><td>92</td></tr>\n",
              "\t<tr><td>male  </td><td>Buckingham</td><td>67</td></tr>\n",
              "\t<tr><td>female</td><td>Louisa    </td><td>98</td></tr>\n",
              "\t<tr><td>male  </td><td>Louisa    </td><td>70</td></tr>\n",
              "</tbody>\n",
              "</table>\n"
            ],
            "text/markdown": "\nA data.frame: 4 × 3\n\n| gender &lt;fct&gt; | location &lt;fct&gt; | value &lt;int&gt; |\n|---|---|---|\n| female | Buckingham | 92 |\n| male   | Buckingham | 67 |\n| female | Louisa     | 98 |\n| male   | Louisa     | 70 |\n\n",
            "text/latex": "A data.frame: 4 × 3\n\\begin{tabular}{lll}\n gender & location & value\\\\\n <fct> & <fct> & <int>\\\\\n\\hline\n\t female & Buckingham & 92\\\\\n\t male   & Buckingham & 67\\\\\n\t female & Louisa     & 98\\\\\n\t male   & Louisa     & 70\\\\\n\\end{tabular}\n",
            "text/plain": [
              "  gender location   value\n",
              "1 female Buckingham 92   \n",
              "2 male   Buckingham 67   \n",
              "3 female Louisa     98   \n",
              "4 male   Louisa     70   "
            ]
          },
          "metadata": {}
        }
      ]
    },
    {
      "cell_type": "markdown",
      "source": [
        "# Mezclando dos data frames. "
      ],
      "metadata": {
        "id": "1BmU1oU9SQBv"
      }
    },
    {
      "cell_type": "code",
      "source": [
        "diabetes <- read.csv(\"diabetes.csv\")"
      ],
      "metadata": {
        "id": "jxyIGtNDRKXx"
      },
      "execution_count": 46,
      "outputs": []
    },
    {
      "cell_type": "code",
      "source": [
        "head(diabetes)"
      ],
      "metadata": {
        "colab": {
          "base_uri": "https://localhost:8080/",
          "height": 286
        },
        "id": "-5ecPvY0Suxe",
        "outputId": "8fb4e088-2472-4a1f-9c95-994e19e00afd"
      },
      "execution_count": 47,
      "outputs": [
        {
          "output_type": "display_data",
          "data": {
            "text/html": [
              "<table class=\"dataframe\">\n",
              "<caption>A data.frame: 6 × 8</caption>\n",
              "<thead>\n",
              "\t<tr><th></th><th scope=col>subject</th><th scope=col>glyhb</th><th scope=col>location</th><th scope=col>age</th><th scope=col>gender</th><th scope=col>height</th><th scope=col>weight</th><th scope=col>frame</th></tr>\n",
              "\t<tr><th></th><th scope=col>&lt;chr&gt;</th><th scope=col>&lt;dbl&gt;</th><th scope=col>&lt;chr&gt;</th><th scope=col>&lt;int&gt;</th><th scope=col>&lt;chr&gt;</th><th scope=col>&lt;int&gt;</th><th scope=col>&lt;int&gt;</th><th scope=col>&lt;chr&gt;</th></tr>\n",
              "</thead>\n",
              "<tbody>\n",
              "\t<tr><th scope=row>1</th><td>S1002</td><td>4.64</td><td>Buckingham</td><td>58</td><td>female</td><td>61</td><td>256</td><td>large </td></tr>\n",
              "\t<tr><th scope=row>2</th><td>S1003</td><td>4.63</td><td>Buckingham</td><td>67</td><td>male  </td><td>67</td><td>119</td><td>large </td></tr>\n",
              "\t<tr><th scope=row>3</th><td>S1005</td><td>7.72</td><td>Buckingham</td><td>64</td><td>male  </td><td>68</td><td>183</td><td>medium</td></tr>\n",
              "\t<tr><th scope=row>4</th><td>S1008</td><td>4.81</td><td>Buckingham</td><td>34</td><td>male  </td><td>71</td><td>190</td><td>large </td></tr>\n",
              "\t<tr><th scope=row>5</th><td>S1011</td><td>4.84</td><td>Buckingham</td><td>30</td><td>male  </td><td>69</td><td>191</td><td>medium</td></tr>\n",
              "\t<tr><th scope=row>6</th><td>S1015</td><td>3.94</td><td>Buckingham</td><td>37</td><td>male  </td><td>59</td><td>170</td><td>medium</td></tr>\n",
              "</tbody>\n",
              "</table>\n"
            ],
            "text/markdown": "\nA data.frame: 6 × 8\n\n| <!--/--> | subject &lt;chr&gt; | glyhb &lt;dbl&gt; | location &lt;chr&gt; | age &lt;int&gt; | gender &lt;chr&gt; | height &lt;int&gt; | weight &lt;int&gt; | frame &lt;chr&gt; |\n|---|---|---|---|---|---|---|---|---|\n| 1 | S1002 | 4.64 | Buckingham | 58 | female | 61 | 256 | large  |\n| 2 | S1003 | 4.63 | Buckingham | 67 | male   | 67 | 119 | large  |\n| 3 | S1005 | 7.72 | Buckingham | 64 | male   | 68 | 183 | medium |\n| 4 | S1008 | 4.81 | Buckingham | 34 | male   | 71 | 190 | large  |\n| 5 | S1011 | 4.84 | Buckingham | 30 | male   | 69 | 191 | medium |\n| 6 | S1015 | 3.94 | Buckingham | 37 | male   | 59 | 170 | medium |\n\n",
            "text/latex": "A data.frame: 6 × 8\n\\begin{tabular}{r|llllllll}\n  & subject & glyhb & location & age & gender & height & weight & frame\\\\\n  & <chr> & <dbl> & <chr> & <int> & <chr> & <int> & <int> & <chr>\\\\\n\\hline\n\t1 & S1002 & 4.64 & Buckingham & 58 & female & 61 & 256 & large \\\\\n\t2 & S1003 & 4.63 & Buckingham & 67 & male   & 67 & 119 & large \\\\\n\t3 & S1005 & 7.72 & Buckingham & 64 & male   & 68 & 183 & medium\\\\\n\t4 & S1008 & 4.81 & Buckingham & 34 & male   & 71 & 190 & large \\\\\n\t5 & S1011 & 4.84 & Buckingham & 30 & male   & 69 & 191 & medium\\\\\n\t6 & S1015 & 3.94 & Buckingham & 37 & male   & 59 & 170 & medium\\\\\n\\end{tabular}\n",
            "text/plain": [
              "  subject glyhb location   age gender height weight frame \n",
              "1 S1002   4.64  Buckingham 58  female 61     256    large \n",
              "2 S1003   4.63  Buckingham 67  male   67     119    large \n",
              "3 S1005   7.72  Buckingham 64  male   68     183    medium\n",
              "4 S1008   4.81  Buckingham 34  male   71     190    large \n",
              "5 S1011   4.84  Buckingham 30  male   69     191    medium\n",
              "6 S1015   3.94  Buckingham 37  male   59     170    medium"
            ]
          },
          "metadata": {}
        }
      ]
    },
    {
      "cell_type": "code",
      "source": [
        "cholesterol <- read.csv(\"chol.csv\")"
      ],
      "metadata": {
        "id": "5dwYeoKRSlXa"
      },
      "execution_count": 48,
      "outputs": []
    },
    {
      "cell_type": "code",
      "source": [
        "head(cholesterol)"
      ],
      "metadata": {
        "colab": {
          "base_uri": "https://localhost:8080/",
          "height": 286
        },
        "id": "D5s6G9qbSy-g",
        "outputId": "f65b8a3a-2f64-41e7-b928-30d58cdf0bb3"
      },
      "execution_count": 49,
      "outputs": [
        {
          "output_type": "display_data",
          "data": {
            "text/html": [
              "<table class=\"dataframe\">\n",
              "<caption>A data.frame: 6 × 2</caption>\n",
              "<thead>\n",
              "\t<tr><th></th><th scope=col>subject</th><th scope=col>chol</th></tr>\n",
              "\t<tr><th></th><th scope=col>&lt;chr&gt;</th><th scope=col>&lt;int&gt;</th></tr>\n",
              "</thead>\n",
              "<tbody>\n",
              "\t<tr><th scope=row>1</th><td>S1000</td><td>203</td></tr>\n",
              "\t<tr><th scope=row>2</th><td>S1001</td><td>165</td></tr>\n",
              "\t<tr><th scope=row>3</th><td>S1002</td><td>228</td></tr>\n",
              "\t<tr><th scope=row>4</th><td>S1005</td><td>249</td></tr>\n",
              "\t<tr><th scope=row>5</th><td>S1008</td><td>248</td></tr>\n",
              "\t<tr><th scope=row>6</th><td>S1011</td><td>195</td></tr>\n",
              "</tbody>\n",
              "</table>\n"
            ],
            "text/markdown": "\nA data.frame: 6 × 2\n\n| <!--/--> | subject &lt;chr&gt; | chol &lt;int&gt; |\n|---|---|---|\n| 1 | S1000 | 203 |\n| 2 | S1001 | 165 |\n| 3 | S1002 | 228 |\n| 4 | S1005 | 249 |\n| 5 | S1008 | 248 |\n| 6 | S1011 | 195 |\n\n",
            "text/latex": "A data.frame: 6 × 2\n\\begin{tabular}{r|ll}\n  & subject & chol\\\\\n  & <chr> & <int>\\\\\n\\hline\n\t1 & S1000 & 203\\\\\n\t2 & S1001 & 165\\\\\n\t3 & S1002 & 228\\\\\n\t4 & S1005 & 249\\\\\n\t5 & S1008 & 248\\\\\n\t6 & S1011 & 195\\\\\n\\end{tabular}\n",
            "text/plain": [
              "  subject chol\n",
              "1 S1000   203 \n",
              "2 S1001   165 \n",
              "3 S1002   228 \n",
              "4 S1005   249 \n",
              "5 S1008   248 \n",
              "6 S1011   195 "
            ]
          },
          "metadata": {}
        }
      ]
    },
    {
      "cell_type": "markdown",
      "source": [
        "La idea es unir la información de diabetes con la de colesterol."
      ],
      "metadata": {
        "id": "68ufgU2XTOqv"
      }
    },
    {
      "cell_type": "code",
      "source": [
        "diabetes2 <- diabetes"
      ],
      "metadata": {
        "id": "PyRd443dS1ee"
      },
      "execution_count": 50,
      "outputs": []
    },
    {
      "cell_type": "code",
      "source": [
        "diabetes2$chol <- cholesterol$chol"
      ],
      "metadata": {
        "colab": {
          "base_uri": "https://localhost:8080/",
          "height": 1000
        },
        "id": "TDyD_froTZVJ",
        "outputId": "a6afd25e-d16e-4e26-99ba-87378af7ff3a"
      },
      "execution_count": 51,
      "outputs": [
        {
          "output_type": "error",
          "ename": "ERROR",
          "evalue": "ignored",
          "traceback": [
            "Error in `$<-.data.frame`(`*tmp*`, chol, value = c(203L, 165L, 228L, 249L, : replacement has 362 rows, data has 354\nTraceback:\n",
            "1. `$<-`(`*tmp*`, chol, value = c(203L, 165L, 228L, 249L, 248L, \n . 195L, 227L, 177L, 263L, 242L, 215L, 238L, 183L, 191L, 213L, 255L, \n . 230L, 194L, 186L, 234L, 203L, 281L, 228L, 179L, 232L, NA, 254L, \n . 215L, 177L, 265L, 182L, 199L, 183L, 194L, 190L, 182L, 136L, 218L, \n . 225L, 262L, 213L, 243L, 148L, 128L, 169L, 157L, 196L, 237L, 212L, \n . 233L, 289L, 193L, 204L, 165L, 237L, 218L, 296L, 178L, 443L, 145L, \n . 234L, 146L, 223L, 213L, 173L, 164L, 170L, 180L, 209L, 242L, 134L, \n . 217L, 251L, 217L, 300L, 218L, 189L, 185L, 206L, 218L, 229L, 228L, \n . 159L, 249L, 170L, 174L, 204L, 203L, 241L, 245L, 143L, 224L, 168L, \n . 184L, 199L, 158L, 209L, 293L, 227L, 292L, 218L, 244L, 283L, 186L, \n . 273L, 193L, 194L, 231L, 217L, 225L, 268L, 195L, 179L, 215L, 132L, \n . 175L, 179L, 228L, 181L, 160L, 188L, 168L, 318L, 192L, 209L, 129L, \n . 160L, 211L, 262L, 201L, 263L, 219L, 191L, 171L, 219L, 269L, 164L, \n . 181L, 190L, 255L, 223L, 254L, 236L, 176L, 158L, 181L, 151L, 115L, \n . 271L, 190L, 118L, 168L, 254L, 193L, 187L, 170L, 215L, 199L, 140L, \n . 216L, 204L, 193L, 267L, 204L, 246L, 229L, 172L, 219L, 174L, 192L, \n . 206L, 160L, 236L, 205L, 206L, 143L, 173L, 235L, 169L, 283L, 174L, \n . 271L, 203L, 188L, 293L, 215L, 207L, 179L, 202L, 211L, 211L, 151L, \n . 171L, 179L, 155L, 197L, 200L, 237L, 198L, 240L, 192L, 145L, 269L, \n . 240L, 205L, 266L, 188L, 222L, 142L, 268L, 174L, 214L, 194L, 196L, \n . 207L, 204L, 189L, 179L, 159L, 260L, 228L, 242L, 227L, 208L, 208L, \n . 201L, 176L, 146L, 231L, 241L, 305L, 149L, 183L, 235L, 244L, 224L, \n . 173L, 192L, 157L, 172L, 170L, 215L, 214L, 195L, 230L, 206L, 147L, \n . 234L, 135L, 226L, 179L, 163L, 191L, 138L, 184L, 181L, 293L, 147L, \n . 198L, 152L, 277L, 219L, 182L, 135L, 277L, 212L, 162L, 207L, 255L, \n . 220L, 165L, 243L, 149L, 178L, 190L, 226L, 132L, 160L, 204L, 164L, \n . 155L, 251L, 198L, 179L, 223L, 207L, 244L, 245L, 191L, 221L, 300L, \n . 173L, 138L, 203L, 260L, 166L, 180L, 159L, 207L, 298L, 203L, 164L, \n . 134L, 220L, 180L, 216L, 158L, 172L, 249L, 225L, 193L, 219L, 156L, \n . 181L, 306L, 122L, 219L, 150L, 185L, 226L, 206L, 199L, 242L, 307L, \n . 204L, 212L, 203L, 226L, 217L, 157L, 235L, 252L, 204L, 188L, 194L, \n . 215L, 194L, 337L, 255L, 162L, 322L, 289L, 217L, 209L, 214L, 302L, \n . 179L, 279L, 144L, 270L, 196L, 221L, 210L, 192L, 169L, 179L, 216L, \n . 296L, 284L, 194L, 199L, 159L))",
            "2. `$<-.data.frame`(`*tmp*`, chol, value = c(203L, 165L, 228L, 249L, \n . 248L, 195L, 227L, 177L, 263L, 242L, 215L, 238L, 183L, 191L, 213L, \n . 255L, 230L, 194L, 186L, 234L, 203L, 281L, 228L, 179L, 232L, NA, \n . 254L, 215L, 177L, 265L, 182L, 199L, 183L, 194L, 190L, 182L, 136L, \n . 218L, 225L, 262L, 213L, 243L, 148L, 128L, 169L, 157L, 196L, 237L, \n . 212L, 233L, 289L, 193L, 204L, 165L, 237L, 218L, 296L, 178L, 443L, \n . 145L, 234L, 146L, 223L, 213L, 173L, 164L, 170L, 180L, 209L, 242L, \n . 134L, 217L, 251L, 217L, 300L, 218L, 189L, 185L, 206L, 218L, 229L, \n . 228L, 159L, 249L, 170L, 174L, 204L, 203L, 241L, 245L, 143L, 224L, \n . 168L, 184L, 199L, 158L, 209L, 293L, 227L, 292L, 218L, 244L, 283L, \n . 186L, 273L, 193L, 194L, 231L, 217L, 225L, 268L, 195L, 179L, 215L, \n . 132L, 175L, 179L, 228L, 181L, 160L, 188L, 168L, 318L, 192L, 209L, \n . 129L, 160L, 211L, 262L, 201L, 263L, 219L, 191L, 171L, 219L, 269L, \n . 164L, 181L, 190L, 255L, 223L, 254L, 236L, 176L, 158L, 181L, 151L, \n . 115L, 271L, 190L, 118L, 168L, 254L, 193L, 187L, 170L, 215L, 199L, \n . 140L, 216L, 204L, 193L, 267L, 204L, 246L, 229L, 172L, 219L, 174L, \n . 192L, 206L, 160L, 236L, 205L, 206L, 143L, 173L, 235L, 169L, 283L, \n . 174L, 271L, 203L, 188L, 293L, 215L, 207L, 179L, 202L, 211L, 211L, \n . 151L, 171L, 179L, 155L, 197L, 200L, 237L, 198L, 240L, 192L, 145L, \n . 269L, 240L, 205L, 266L, 188L, 222L, 142L, 268L, 174L, 214L, 194L, \n . 196L, 207L, 204L, 189L, 179L, 159L, 260L, 228L, 242L, 227L, 208L, \n . 208L, 201L, 176L, 146L, 231L, 241L, 305L, 149L, 183L, 235L, 244L, \n . 224L, 173L, 192L, 157L, 172L, 170L, 215L, 214L, 195L, 230L, 206L, \n . 147L, 234L, 135L, 226L, 179L, 163L, 191L, 138L, 184L, 181L, 293L, \n . 147L, 198L, 152L, 277L, 219L, 182L, 135L, 277L, 212L, 162L, 207L, \n . 255L, 220L, 165L, 243L, 149L, 178L, 190L, 226L, 132L, 160L, 204L, \n . 164L, 155L, 251L, 198L, 179L, 223L, 207L, 244L, 245L, 191L, 221L, \n . 300L, 173L, 138L, 203L, 260L, 166L, 180L, 159L, 207L, 298L, 203L, \n . 164L, 134L, 220L, 180L, 216L, 158L, 172L, 249L, 225L, 193L, 219L, \n . 156L, 181L, 306L, 122L, 219L, 150L, 185L, 226L, 206L, 199L, 242L, \n . 307L, 204L, 212L, 203L, 226L, 217L, 157L, 235L, 252L, 204L, 188L, \n . 194L, 215L, 194L, 337L, 255L, 162L, 322L, 289L, 217L, 209L, 214L, \n . 302L, 179L, 279L, 144L, 270L, 196L, 221L, 210L, 192L, 169L, 179L, \n . 216L, 296L, 284L, 194L, 199L, 159L))",
            "3. stop(sprintf(ngettext(N, \"replacement has %d row, data has %d\", \n .     \"replacement has %d rows, data has %d\"), N, nrows), domain = NA)"
          ]
        }
      ]
    },
    {
      "cell_type": "code",
      "source": [
        "dim(diabetes2)"
      ],
      "metadata": {
        "colab": {
          "base_uri": "https://localhost:8080/",
          "height": 34
        },
        "id": "1HH7Juu3Tr7C",
        "outputId": "67622866-e5f8-4480-98b5-6885f28c6278"
      },
      "execution_count": 52,
      "outputs": [
        {
          "output_type": "display_data",
          "data": {
            "text/html": [
              "<style>\n",
              ".list-inline {list-style: none; margin:0; padding: 0}\n",
              ".list-inline>li {display: inline-block}\n",
              ".list-inline>li:not(:last-child)::after {content: \"\\00b7\"; padding: 0 .5ex}\n",
              "</style>\n",
              "<ol class=list-inline><li>354</li><li>8</li></ol>\n"
            ],
            "text/markdown": "1. 354\n2. 8\n\n\n",
            "text/latex": "\\begin{enumerate*}\n\\item 354\n\\item 8\n\\end{enumerate*}\n",
            "text/plain": [
              "[1] 354   8"
            ]
          },
          "metadata": {}
        }
      ]
    },
    {
      "cell_type": "code",
      "source": [
        "dim(cholesterol)"
      ],
      "metadata": {
        "colab": {
          "base_uri": "https://localhost:8080/",
          "height": 34
        },
        "id": "jTSfFhy4T2Gn",
        "outputId": "a1ccaac4-f54c-4efa-a795-b1b74ed01535"
      },
      "execution_count": 53,
      "outputs": [
        {
          "output_type": "display_data",
          "data": {
            "text/html": [
              "<style>\n",
              ".list-inline {list-style: none; margin:0; padding: 0}\n",
              ".list-inline>li {display: inline-block}\n",
              ".list-inline>li:not(:last-child)::after {content: \"\\00b7\"; padding: 0 .5ex}\n",
              "</style>\n",
              "<ol class=list-inline><li>362</li><li>2</li></ol>\n"
            ],
            "text/markdown": "1. 362\n2. 2\n\n\n",
            "text/latex": "\\begin{enumerate*}\n\\item 362\n\\item 2\n\\end{enumerate*}\n",
            "text/plain": [
              "[1] 362   2"
            ]
          },
          "metadata": {}
        }
      ]
    },
    {
      "cell_type": "code",
      "source": [
        "length(intersect(diabetes$subject, cholesterol$subject))"
      ],
      "metadata": {
        "colab": {
          "base_uri": "https://localhost:8080/",
          "height": 34
        },
        "id": "a9si9w1MT35u",
        "outputId": "ccd96247-1577-4b27-9511-ff69bdae4ace"
      },
      "execution_count": 56,
      "outputs": [
        {
          "output_type": "display_data",
          "data": {
            "text/html": [
              "320"
            ],
            "text/markdown": "320",
            "text/latex": "320",
            "text/plain": [
              "[1] 320"
            ]
          },
          "metadata": {}
        }
      ]
    },
    {
      "cell_type": "markdown",
      "source": [
        "La operación que me combinaria los dos dataframes tendria que tener 320 filas."
      ],
      "metadata": {
        "id": "hgXi5bsZUgpk"
      }
    },
    {
      "cell_type": "code",
      "source": [
        "diabetes2 <- merge(diabetes, cholesterol, by=\"subject\") # este tipo de operaciòn \n",
        "                                                        # se le llama inner join"
      ],
      "metadata": {
        "id": "7NQG4-sQUl5C"
      },
      "execution_count": 57,
      "outputs": []
    },
    {
      "cell_type": "code",
      "source": [
        "head(diabetes2)"
      ],
      "metadata": {
        "colab": {
          "base_uri": "https://localhost:8080/",
          "height": 286
        },
        "id": "ifLwUYa6VD-a",
        "outputId": "ae5df8f0-e971-4038-db13-dafe951b2256"
      },
      "execution_count": 58,
      "outputs": [
        {
          "output_type": "display_data",
          "data": {
            "text/html": [
              "<table class=\"dataframe\">\n",
              "<caption>A data.frame: 6 × 9</caption>\n",
              "<thead>\n",
              "\t<tr><th></th><th scope=col>subject</th><th scope=col>glyhb</th><th scope=col>location</th><th scope=col>age</th><th scope=col>gender</th><th scope=col>height</th><th scope=col>weight</th><th scope=col>frame</th><th scope=col>chol</th></tr>\n",
              "\t<tr><th></th><th scope=col>&lt;chr&gt;</th><th scope=col>&lt;dbl&gt;</th><th scope=col>&lt;chr&gt;</th><th scope=col>&lt;int&gt;</th><th scope=col>&lt;chr&gt;</th><th scope=col>&lt;int&gt;</th><th scope=col>&lt;int&gt;</th><th scope=col>&lt;chr&gt;</th><th scope=col>&lt;int&gt;</th></tr>\n",
              "</thead>\n",
              "<tbody>\n",
              "\t<tr><th scope=row>1</th><td>S10001</td><td>4.01</td><td>Buckingham</td><td>21</td><td>female</td><td>65</td><td>169</td><td>large </td><td>132</td></tr>\n",
              "\t<tr><th scope=row>2</th><td>S10016</td><td>6.39</td><td>Buckingham</td><td>71</td><td>female</td><td>63</td><td>244</td><td>large </td><td>228</td></tr>\n",
              "\t<tr><th scope=row>3</th><td>S1002 </td><td>4.64</td><td>Buckingham</td><td>58</td><td>female</td><td>61</td><td>256</td><td>large </td><td>228</td></tr>\n",
              "\t<tr><th scope=row>4</th><td>S10020</td><td>7.53</td><td>Buckingham</td><td>64</td><td>male  </td><td>71</td><td>225</td><td>large </td><td>181</td></tr>\n",
              "\t<tr><th scope=row>5</th><td>S1005 </td><td>7.72</td><td>Buckingham</td><td>64</td><td>male  </td><td>68</td><td>183</td><td>medium</td><td>249</td></tr>\n",
              "\t<tr><th scope=row>6</th><td>S1008 </td><td>4.81</td><td>Buckingham</td><td>34</td><td>male  </td><td>71</td><td>190</td><td>large </td><td>248</td></tr>\n",
              "</tbody>\n",
              "</table>\n"
            ],
            "text/markdown": "\nA data.frame: 6 × 9\n\n| <!--/--> | subject &lt;chr&gt; | glyhb &lt;dbl&gt; | location &lt;chr&gt; | age &lt;int&gt; | gender &lt;chr&gt; | height &lt;int&gt; | weight &lt;int&gt; | frame &lt;chr&gt; | chol &lt;int&gt; |\n|---|---|---|---|---|---|---|---|---|---|\n| 1 | S10001 | 4.01 | Buckingham | 21 | female | 65 | 169 | large  | 132 |\n| 2 | S10016 | 6.39 | Buckingham | 71 | female | 63 | 244 | large  | 228 |\n| 3 | S1002  | 4.64 | Buckingham | 58 | female | 61 | 256 | large  | 228 |\n| 4 | S10020 | 7.53 | Buckingham | 64 | male   | 71 | 225 | large  | 181 |\n| 5 | S1005  | 7.72 | Buckingham | 64 | male   | 68 | 183 | medium | 249 |\n| 6 | S1008  | 4.81 | Buckingham | 34 | male   | 71 | 190 | large  | 248 |\n\n",
            "text/latex": "A data.frame: 6 × 9\n\\begin{tabular}{r|lllllllll}\n  & subject & glyhb & location & age & gender & height & weight & frame & chol\\\\\n  & <chr> & <dbl> & <chr> & <int> & <chr> & <int> & <int> & <chr> & <int>\\\\\n\\hline\n\t1 & S10001 & 4.01 & Buckingham & 21 & female & 65 & 169 & large  & 132\\\\\n\t2 & S10016 & 6.39 & Buckingham & 71 & female & 63 & 244 & large  & 228\\\\\n\t3 & S1002  & 4.64 & Buckingham & 58 & female & 61 & 256 & large  & 228\\\\\n\t4 & S10020 & 7.53 & Buckingham & 64 & male   & 71 & 225 & large  & 181\\\\\n\t5 & S1005  & 7.72 & Buckingham & 64 & male   & 68 & 183 & medium & 249\\\\\n\t6 & S1008  & 4.81 & Buckingham & 34 & male   & 71 & 190 & large  & 248\\\\\n\\end{tabular}\n",
            "text/plain": [
              "  subject glyhb location   age gender height weight frame  chol\n",
              "1 S10001  4.01  Buckingham 21  female 65     169    large  132 \n",
              "2 S10016  6.39  Buckingham 71  female 63     244    large  228 \n",
              "3 S1002   4.64  Buckingham 58  female 61     256    large  228 \n",
              "4 S10020  7.53  Buckingham 64  male   71     225    large  181 \n",
              "5 S1005   7.72  Buckingham 64  male   68     183    medium 249 \n",
              "6 S1008   4.81  Buckingham 34  male   71     190    large  248 "
            ]
          },
          "metadata": {}
        }
      ]
    },
    {
      "cell_type": "code",
      "source": [
        "dim(diabetes2)"
      ],
      "metadata": {
        "colab": {
          "base_uri": "https://localhost:8080/",
          "height": 34
        },
        "id": "SV1CejnlVFfJ",
        "outputId": "380faa4b-f900-4a65-b618-f72f17b3615e"
      },
      "execution_count": 59,
      "outputs": [
        {
          "output_type": "display_data",
          "data": {
            "text/html": [
              "<style>\n",
              ".list-inline {list-style: none; margin:0; padding: 0}\n",
              ".list-inline>li {display: inline-block}\n",
              ".list-inline>li:not(:last-child)::after {content: \"\\00b7\"; padding: 0 .5ex}\n",
              "</style>\n",
              "<ol class=list-inline><li>320</li><li>9</li></ol>\n"
            ],
            "text/markdown": "1. 320\n2. 9\n\n\n",
            "text/latex": "\\begin{enumerate*}\n\\item 320\n\\item 9\n\\end{enumerate*}\n",
            "text/plain": [
              "[1] 320   9"
            ]
          },
          "metadata": {}
        }
      ]
    },
    {
      "cell_type": "code",
      "source": [
        "plot(diabetes2$chol,  diabetes2$glyhb)"
      ],
      "metadata": {
        "colab": {
          "base_uri": "https://localhost:8080/",
          "height": 437
        },
        "id": "_WoOG7O0VRyV",
        "outputId": "614326c1-a0bf-4112-91cb-1c238a1ed722"
      },
      "execution_count": 60,
      "outputs": [
        {
          "output_type": "display_data",
          "data": {
            "text/plain": [
              "plot without title"
            ],
            "image/png": "[encoded data removed]"
          },
          "metadata": {
            "image/png": {
              "width": 420,
              "height": 420
            }
          }
        }
      ]
    },
    {
      "cell_type": "markdown",
      "source": [
        "# Left join "
      ],
      "metadata": {
        "id": "9J5ZP_8GXoll"
      }
    },
    {
      "cell_type": "code",
      "source": [
        "?merge"
      ],
      "metadata": {
        "id": "HikFRTsmXpzr"
      },
      "execution_count": 72,
      "outputs": []
    },
    {
      "cell_type": "code",
      "source": [
        "setdiff(diabetes$subject, cholesterol$subject)"
      ],
      "metadata": {
        "colab": {
          "base_uri": "https://localhost:8080/",
          "height": 69
        },
        "id": "sIFHPrsqX_gd",
        "outputId": "d68fee72-212f-4164-f9cc-57a936cee240"
      },
      "execution_count": 67,
      "outputs": [
        {
          "output_type": "display_data",
          "data": {
            "text/html": [
              "<style>\n",
              ".list-inline {list-style: none; margin:0; padding: 0}\n",
              ".list-inline>li {display: inline-block}\n",
              ".list-inline>li:not(:last-child)::after {content: \"\\00b7\"; padding: 0 .5ex}\n",
              "</style>\n",
              "<ol class=list-inline><li>'S1003'</li><li>'S1250'</li><li>'S1303'</li><li>'S2794'</li><li>'S2795'</li><li>'S3752'</li><li>'S4761'</li><li>'S4833'</li><li>'S10000'</li><li>'S12509'</li><li>'S13501'</li><li>'S15271'</li><li>'S15512'</li><li>'S15517'</li><li>'S15518'</li><li>'S15529'</li><li>'S15800'</li><li>'S17772'</li><li>'S17773'</li><li>'S17781'</li><li>'S17813'</li><li>'S20275'</li><li>'S20313'</li><li>'S20314'</li><li>'S21254'</li><li>'S21255'</li><li>'S21322'</li><li>'S21333'</li><li>'S21345'</li><li>'S40751'</li><li>'S40754'</li><li>'S40804'</li><li>'S40805'</li><li>'S41001'</li></ol>\n"
            ],
            "text/markdown": "1. 'S1003'\n2. 'S1250'\n3. 'S1303'\n4. 'S2794'\n5. 'S2795'\n6. 'S3752'\n7. 'S4761'\n8. 'S4833'\n9. 'S10000'\n10. 'S12509'\n11. 'S13501'\n12. 'S15271'\n13. 'S15512'\n14. 'S15517'\n15. 'S15518'\n16. 'S15529'\n17. 'S15800'\n18. 'S17772'\n19. 'S17773'\n20. 'S17781'\n21. 'S17813'\n22. 'S20275'\n23. 'S20313'\n24. 'S20314'\n25. 'S21254'\n26. 'S21255'\n27. 'S21322'\n28. 'S21333'\n29. 'S21345'\n30. 'S40751'\n31. 'S40754'\n32. 'S40804'\n33. 'S40805'\n34. 'S41001'\n\n\n",
            "text/latex": "\\begin{enumerate*}\n\\item 'S1003'\n\\item 'S1250'\n\\item 'S1303'\n\\item 'S2794'\n\\item 'S2795'\n\\item 'S3752'\n\\item 'S4761'\n\\item 'S4833'\n\\item 'S10000'\n\\item 'S12509'\n\\item 'S13501'\n\\item 'S15271'\n\\item 'S15512'\n\\item 'S15517'\n\\item 'S15518'\n\\item 'S15529'\n\\item 'S15800'\n\\item 'S17772'\n\\item 'S17773'\n\\item 'S17781'\n\\item 'S17813'\n\\item 'S20275'\n\\item 'S20313'\n\\item 'S20314'\n\\item 'S21254'\n\\item 'S21255'\n\\item 'S21322'\n\\item 'S21333'\n\\item 'S21345'\n\\item 'S40751'\n\\item 'S40754'\n\\item 'S40804'\n\\item 'S40805'\n\\item 'S41001'\n\\end{enumerate*}\n",
            "text/plain": [
              " [1] \"S1003\"  \"S1250\"  \"S1303\"  \"S2794\"  \"S2795\"  \"S3752\"  \"S4761\"  \"S4833\" \n",
              " [9] \"S10000\" \"S12509\" \"S13501\" \"S15271\" \"S15512\" \"S15517\" \"S15518\" \"S15529\"\n",
              "[17] \"S15800\" \"S17772\" \"S17773\" \"S17781\" \"S17813\" \"S20275\" \"S20313\" \"S20314\"\n",
              "[25] \"S21254\" \"S21255\" \"S21322\" \"S21333\" \"S21345\" \"S40751\" \"S40754\" \"S40804\"\n",
              "[33] \"S40805\" \"S41001\""
            ]
          },
          "metadata": {}
        }
      ]
    },
    {
      "cell_type": "code",
      "source": [
        "sum(diabetes$subject == \"S1003\")"
      ],
      "metadata": {
        "colab": {
          "base_uri": "https://localhost:8080/",
          "height": 34
        },
        "id": "J1Mf9TCuYbZE",
        "outputId": "2f9dbb90-9b94-4f2e-9661-027c9bbf6855"
      },
      "execution_count": 69,
      "outputs": [
        {
          "output_type": "display_data",
          "data": {
            "text/html": [
              "1"
            ],
            "text/markdown": "1",
            "text/latex": "1",
            "text/plain": [
              "[1] 1"
            ]
          },
          "metadata": {}
        }
      ]
    },
    {
      "cell_type": "code",
      "source": [
        "sum(cholesterol$subject == \"S1003\")"
      ],
      "metadata": {
        "colab": {
          "base_uri": "https://localhost:8080/",
          "height": 34
        },
        "id": "vQ186DJtYqut",
        "outputId": "88f5a844-8acb-4e32-cf26-80cc1a5d1e6a"
      },
      "execution_count": 70,
      "outputs": [
        {
          "output_type": "display_data",
          "data": {
            "text/html": [
              "0"
            ],
            "text/markdown": "0",
            "text/latex": "0",
            "text/plain": [
              "[1] 0"
            ]
          },
          "metadata": {}
        }
      ]
    },
    {
      "cell_type": "code",
      "source": [
        "diabetes_left <- merge(diabetes, cholesterol, by=\"subject\", all.x=TRUE) # este tipo de operaciòn \n",
        "                                                                        # se le llama left join"
      ],
      "metadata": {
        "id": "7HnvJwRaYvR1"
      },
      "execution_count": 73,
      "outputs": []
    },
    {
      "cell_type": "code",
      "source": [
        "head(diabetes_left)"
      ],
      "metadata": {
        "colab": {
          "base_uri": "https://localhost:8080/",
          "height": 286
        },
        "id": "u1IvFtNzZgzj",
        "outputId": "a6f42aad-6fda-4b85-dcdd-e6d4aa5a2c5d"
      },
      "execution_count": 74,
      "outputs": [
        {
          "output_type": "display_data",
          "data": {
            "text/html": [
              "<table class=\"dataframe\">\n",
              "<caption>A data.frame: 6 × 9</caption>\n",
              "<thead>\n",
              "\t<tr><th></th><th scope=col>subject</th><th scope=col>glyhb</th><th scope=col>location</th><th scope=col>age</th><th scope=col>gender</th><th scope=col>height</th><th scope=col>weight</th><th scope=col>frame</th><th scope=col>chol</th></tr>\n",
              "\t<tr><th></th><th scope=col>&lt;chr&gt;</th><th scope=col>&lt;dbl&gt;</th><th scope=col>&lt;chr&gt;</th><th scope=col>&lt;int&gt;</th><th scope=col>&lt;chr&gt;</th><th scope=col>&lt;int&gt;</th><th scope=col>&lt;int&gt;</th><th scope=col>&lt;chr&gt;</th><th scope=col>&lt;int&gt;</th></tr>\n",
              "</thead>\n",
              "<tbody>\n",
              "\t<tr><th scope=row>1</th><td>S10000</td><td>4.83</td><td>Buckingham</td><td>23</td><td>male  </td><td>76</td><td>164</td><td>small</td><td> NA</td></tr>\n",
              "\t<tr><th scope=row>2</th><td>S10001</td><td>4.01</td><td>Buckingham</td><td>21</td><td>female</td><td>65</td><td>169</td><td>large</td><td>132</td></tr>\n",
              "\t<tr><th scope=row>3</th><td>S10016</td><td>6.39</td><td>Buckingham</td><td>71</td><td>female</td><td>63</td><td>244</td><td>large</td><td>228</td></tr>\n",
              "\t<tr><th scope=row>4</th><td>S1002 </td><td>4.64</td><td>Buckingham</td><td>58</td><td>female</td><td>61</td><td>256</td><td>large</td><td>228</td></tr>\n",
              "\t<tr><th scope=row>5</th><td>S10020</td><td>7.53</td><td>Buckingham</td><td>64</td><td>male  </td><td>71</td><td>225</td><td>large</td><td>181</td></tr>\n",
              "\t<tr><th scope=row>6</th><td>S1003 </td><td>4.63</td><td>Buckingham</td><td>67</td><td>male  </td><td>67</td><td>119</td><td>large</td><td> NA</td></tr>\n",
              "</tbody>\n",
              "</table>\n"
            ],
            "text/markdown": "\nA data.frame: 6 × 9\n\n| <!--/--> | subject &lt;chr&gt; | glyhb &lt;dbl&gt; | location &lt;chr&gt; | age &lt;int&gt; | gender &lt;chr&gt; | height &lt;int&gt; | weight &lt;int&gt; | frame &lt;chr&gt; | chol &lt;int&gt; |\n|---|---|---|---|---|---|---|---|---|---|\n| 1 | S10000 | 4.83 | Buckingham | 23 | male   | 76 | 164 | small |  NA |\n| 2 | S10001 | 4.01 | Buckingham | 21 | female | 65 | 169 | large | 132 |\n| 3 | S10016 | 6.39 | Buckingham | 71 | female | 63 | 244 | large | 228 |\n| 4 | S1002  | 4.64 | Buckingham | 58 | female | 61 | 256 | large | 228 |\n| 5 | S10020 | 7.53 | Buckingham | 64 | male   | 71 | 225 | large | 181 |\n| 6 | S1003  | 4.63 | Buckingham | 67 | male   | 67 | 119 | large |  NA |\n\n",
            "text/latex": "A data.frame: 6 × 9\n\\begin{tabular}{r|lllllllll}\n  & subject & glyhb & location & age & gender & height & weight & frame & chol\\\\\n  & <chr> & <dbl> & <chr> & <int> & <chr> & <int> & <int> & <chr> & <int>\\\\\n\\hline\n\t1 & S10000 & 4.83 & Buckingham & 23 & male   & 76 & 164 & small &  NA\\\\\n\t2 & S10001 & 4.01 & Buckingham & 21 & female & 65 & 169 & large & 132\\\\\n\t3 & S10016 & 6.39 & Buckingham & 71 & female & 63 & 244 & large & 228\\\\\n\t4 & S1002  & 4.64 & Buckingham & 58 & female & 61 & 256 & large & 228\\\\\n\t5 & S10020 & 7.53 & Buckingham & 64 & male   & 71 & 225 & large & 181\\\\\n\t6 & S1003  & 4.63 & Buckingham & 67 & male   & 67 & 119 & large &  NA\\\\\n\\end{tabular}\n",
            "text/plain": [
              "  subject glyhb location   age gender height weight frame chol\n",
              "1 S10000  4.83  Buckingham 23  male   76     164    small  NA \n",
              "2 S10001  4.01  Buckingham 21  female 65     169    large 132 \n",
              "3 S10016  6.39  Buckingham 71  female 63     244    large 228 \n",
              "4 S1002   4.64  Buckingham 58  female 61     256    large 228 \n",
              "5 S10020  7.53  Buckingham 64  male   71     225    large 181 \n",
              "6 S1003   4.63  Buckingham 67  male   67     119    large  NA "
            ]
          },
          "metadata": {}
        }
      ]
    },
    {
      "cell_type": "markdown",
      "source": [
        "# Fundamentos básicos de programación\n",
        "\n",
        "Referencia: \n",
        "\n",
        "https://www.datamentor.io/r-programming/if-else-statement/"
      ],
      "metadata": {
        "id": "4_LvLYYFaCuy"
      }
    },
    {
      "cell_type": "code",
      "source": [
        "x <- 10 \n",
        "\n",
        "if ( x > 0){\n",
        "  print(\"Número positivo\")\n",
        "}"
      ],
      "metadata": {
        "colab": {
          "base_uri": "https://localhost:8080/"
        },
        "id": "3mK0rrRaaFPO",
        "outputId": "da8919b8-6db5-435a-d277-d388adaca520"
      },
      "execution_count": 75,
      "outputs": [
        {
          "output_type": "stream",
          "name": "stdout",
          "text": [
            "[1] \"Número positivo\"\n"
          ]
        }
      ]
    },
    {
      "cell_type": "code",
      "source": [
        "x <- 0\n",
        "\n",
        "if ( x > 0){\n",
        "  print(\"Número positivo\")\n",
        "}"
      ],
      "metadata": {
        "id": "c2KhvGmta94N"
      },
      "execution_count": 76,
      "outputs": []
    },
    {
      "cell_type": "code",
      "source": [
        "x <- 10\n",
        "\n",
        "\n",
        "if ( x >= 0 ){\n",
        "   print(\"Número no-negativo\")\n",
        "} else{\n",
        "  print(\"Número negativo\")\n",
        "}\n",
        "\n",
        "\n"
      ],
      "metadata": {
        "colab": {
          "base_uri": "https://localhost:8080/"
        },
        "id": "D7cV754hbOwQ",
        "outputId": "370f9b1a-674c-4168-881e-4910aa254a60"
      },
      "execution_count": 78,
      "outputs": [
        {
          "output_type": "stream",
          "name": "stdout",
          "text": [
            "[1] \"Número no-negativo\"\n"
          ]
        }
      ]
    },
    {
      "cell_type": "code",
      "source": [
        "x <- -10\n",
        "\n",
        "\n",
        "if ( x >= 0 ){\n",
        "   print(\"Número no-negativo\")\n",
        "} else{\n",
        "  print(\"Número negativo\")\n",
        "}\n",
        "\n"
      ],
      "metadata": {
        "colab": {
          "base_uri": "https://localhost:8080/"
        },
        "id": "XaU1gtdOcDD3",
        "outputId": "313a8bce-8a8c-45d7-e6d4-a37c288e2fc9"
      },
      "execution_count": 79,
      "outputs": [
        {
          "output_type": "stream",
          "name": "stdout",
          "text": [
            "[1] \"Número negativo\"\n"
          ]
        }
      ]
    },
    {
      "cell_type": "code",
      "source": [
        ""
      ],
      "metadata": {
        "id": "Pe8C-oy1cXXZ"
      },
      "execution_count": null,
      "outputs": []
    }
  ]
}