{
  "nbformat": 4,
  "nbformat_minor": 0,
  "metadata": {
    "colab": {
      "name": "clase6abril.ipynb",
      "provenance": [],
      "collapsed_sections": []
    },
    "kernelspec": {
      "name": "ir",
      "display_name": "R"
    },
    "language_info": {
      "name": "R"
    }
  },
  "cells": [
    {
      "cell_type": "markdown",
      "source": [
        "# Environments (Entornos)\n",
        "\n"
      ],
      "metadata": {
        "id": "rE8P-T78XBs1"
      }
    },
    {
      "cell_type": "code",
      "source": [
        ".GlobalEnv"
      ],
      "metadata": {
        "colab": {
          "base_uri": "https://localhost:8080/",
          "height": 34
        },
        "id": "Bty1Mc2BXGzU",
        "outputId": "e513f307-eea9-4669-dac7-b63602bb0a5d"
      },
      "execution_count": 1,
      "outputs": [
        {
          "output_type": "display_data",
          "data": {
            "text/plain": [
              "<environment: R_GlobalEnv>"
            ]
          },
          "metadata": {}
        }
      ]
    },
    {
      "cell_type": "code",
      "source": [
        "ls()"
      ],
      "metadata": {
        "colab": {
          "base_uri": "https://localhost:8080/",
          "height": 17
        },
        "id": "zmbwci_kXIHL",
        "outputId": "13fd1e8a-4ef2-4784-83bf-7056a8d0d006"
      },
      "execution_count": 2,
      "outputs": [
        {
          "output_type": "display_data",
          "data": {
            "text/html": [
              ""
            ],
            "text/markdown": "",
            "text/latex": "",
            "text/plain": [
              "character(0)"
            ]
          },
          "metadata": {}
        }
      ]
    },
    {
      "cell_type": "code",
      "source": [
        "environment()"
      ],
      "metadata": {
        "colab": {
          "base_uri": "https://localhost:8080/",
          "height": 34
        },
        "id": "G9jP2DKkXfMC",
        "outputId": "c4075ad7-4dcc-4e6a-c5c3-afd45443f147"
      },
      "execution_count": 3,
      "outputs": [
        {
          "output_type": "display_data",
          "data": {
            "text/plain": [
              "<environment: R_GlobalEnv>"
            ]
          },
          "metadata": {}
        }
      ]
    },
    {
      "cell_type": "code",
      "source": [
        "f <- function(f_x){\n",
        "   g <- function(g_x){     \n",
        "     print(\"Inside g\")\n",
        "     print(environment())\n",
        "     print(ls())\n",
        "   }\n",
        "   \n",
        "   g(5)\n",
        "   print(\"Inside f\")\n",
        "   print(environment())\n",
        "   print(ls())\n",
        "   \n",
        "}"
      ],
      "metadata": {
        "id": "ZXH9Gu-HXkdy"
      },
      "execution_count": 4,
      "outputs": []
    },
    {
      "cell_type": "code",
      "source": [
        "f(6)"
      ],
      "metadata": {
        "colab": {
          "base_uri": "https://localhost:8080/"
        },
        "id": "j5JheOzeYfvQ",
        "outputId": "699d1fa0-86eb-406e-f1fe-c6658860438e"
      },
      "execution_count": 5,
      "outputs": [
        {
          "output_type": "stream",
          "name": "stdout",
          "text": [
            "[1] \"Inside g\"\n",
            "<environment: 0x55feae0c6238>\n",
            "[1] \"g_x\"\n",
            "[1] \"Inside f\"\n",
            "<environment: 0x55feae0c6430>\n",
            "[1] \"f_x\" \"g\"  \n"
          ]
        }
      ]
    },
    {
      "cell_type": "code",
      "source": [
        "outer_func <- function(){  \n",
        "  \n",
        "  a <- 20\n",
        "  inner_func <- function(){\n",
        "    a <- 30\n",
        "    print(a)\n",
        "  }\n",
        "  \n",
        "  inner_func()\n",
        "  print(a)\n",
        "\n",
        "}"
      ],
      "metadata": {
        "id": "_Dfq7lzuYjcb"
      },
      "execution_count": 6,
      "outputs": []
    },
    {
      "cell_type": "code",
      "source": [
        "a <- 10 \n",
        "outer_func()\n",
        "print(a)"
      ],
      "metadata": {
        "colab": {
          "base_uri": "https://localhost:8080/"
        },
        "id": "DkNZVn2AdJuw",
        "outputId": "41ea42ed-a1e8-4257-f44a-468cb49683de"
      },
      "execution_count": 7,
      "outputs": [
        {
          "output_type": "stream",
          "name": "stdout",
          "text": [
            "[1] 30\n",
            "[1] 20\n",
            "[1] 10\n"
          ]
        }
      ]
    },
    {
      "cell_type": "code",
      "source": [
        "outer_func <- function(){\n",
        "  \n",
        "  inner_func <- function(){\n",
        "    a <<- 30\n",
        "    print(a)\n",
        "  }\n",
        "\n",
        "  inner_func()\n",
        "  print(a)\n",
        "\n",
        "}"
      ],
      "metadata": {
        "id": "ASMvVx6DdSEV"
      },
      "execution_count": 18,
      "outputs": []
    },
    {
      "cell_type": "code",
      "source": [
        "ls()"
      ],
      "metadata": {
        "colab": {
          "base_uri": "https://localhost:8080/",
          "height": 34
        },
        "id": "c5wCNEpOfL1U",
        "outputId": "b9efd387-6a55-49cf-d5a8-9d6a3f54078f"
      },
      "execution_count": 9,
      "outputs": [
        {
          "output_type": "display_data",
          "data": {
            "text/html": [
              "<style>\n",
              ".list-inline {list-style: none; margin:0; padding: 0}\n",
              ".list-inline>li {display: inline-block}\n",
              ".list-inline>li:not(:last-child)::after {content: \"\\00b7\"; padding: 0 .5ex}\n",
              "</style>\n",
              "<ol class=list-inline><li>'a'</li><li>'f'</li><li>'outer_func'</li></ol>\n"
            ],
            "text/markdown": "1. 'a'\n2. 'f'\n3. 'outer_func'\n\n\n",
            "text/latex": "\\begin{enumerate*}\n\\item 'a'\n\\item 'f'\n\\item 'outer\\_func'\n\\end{enumerate*}\n",
            "text/plain": [
              "[1] \"a\"          \"f\"          \"outer_func\""
            ]
          },
          "metadata": {}
        }
      ]
    },
    {
      "cell_type": "code",
      "source": [
        "a"
      ],
      "metadata": {
        "colab": {
          "base_uri": "https://localhost:8080/",
          "height": 34
        },
        "id": "BUEMV9LTfOLy",
        "outputId": "8917c4ce-f86e-4b26-ce1f-030dfebc861f"
      },
      "execution_count": 10,
      "outputs": [
        {
          "output_type": "display_data",
          "data": {
            "text/html": [
              "10"
            ],
            "text/markdown": "10",
            "text/latex": "10",
            "text/plain": [
              "[1] 10"
            ]
          },
          "metadata": {}
        }
      ]
    },
    {
      "cell_type": "code",
      "source": [
        "outer_func()\n",
        "print(a)"
      ],
      "metadata": {
        "colab": {
          "base_uri": "https://localhost:8080/"
        },
        "id": "r--GnPeBfPiT",
        "outputId": "ba31ff7a-8292-41fd-a06d-4956436925e7"
      },
      "execution_count": 11,
      "outputs": [
        {
          "output_type": "stream",
          "name": "stdout",
          "text": [
            "[1] 30\n",
            "[1] 30\n",
            "[1] 30\n"
          ]
        }
      ]
    },
    {
      "cell_type": "code",
      "source": [
        "ls()"
      ],
      "metadata": {
        "colab": {
          "base_uri": "https://localhost:8080/",
          "height": 34
        },
        "id": "jvKMHBSlf2nU",
        "outputId": "18076f78-33d6-4e9e-8664-f90e53b2f6e4"
      },
      "execution_count": 12,
      "outputs": [
        {
          "output_type": "display_data",
          "data": {
            "text/html": [
              "<style>\n",
              ".list-inline {list-style: none; margin:0; padding: 0}\n",
              ".list-inline>li {display: inline-block}\n",
              ".list-inline>li:not(:last-child)::after {content: \"\\00b7\"; padding: 0 .5ex}\n",
              "</style>\n",
              "<ol class=list-inline><li>'a'</li><li>'f'</li><li>'outer_func'</li></ol>\n"
            ],
            "text/markdown": "1. 'a'\n2. 'f'\n3. 'outer_func'\n\n\n",
            "text/latex": "\\begin{enumerate*}\n\\item 'a'\n\\item 'f'\n\\item 'outer\\_func'\n\\end{enumerate*}\n",
            "text/plain": [
              "[1] \"a\"          \"f\"          \"outer_func\""
            ]
          },
          "metadata": {}
        }
      ]
    },
    {
      "cell_type": "code",
      "source": [
        "rm(list=ls()) # borro las variables, funciones y objetos que estan en el entorno global"
      ],
      "metadata": {
        "id": "JEyoyzuPf_PM"
      },
      "execution_count": 15,
      "outputs": []
    },
    {
      "cell_type": "code",
      "source": [
        "ls()"
      ],
      "metadata": {
        "colab": {
          "base_uri": "https://localhost:8080/",
          "height": 17
        },
        "id": "_OrDL6X6gQuL",
        "outputId": "4fe43e4a-7284-49af-f8d9-189594405067"
      },
      "execution_count": 16,
      "outputs": [
        {
          "output_type": "display_data",
          "data": {
            "text/html": [
              ""
            ],
            "text/markdown": "",
            "text/latex": "",
            "text/plain": [
              "character(0)"
            ]
          },
          "metadata": {}
        }
      ]
    },
    {
      "cell_type": "code",
      "source": [
        "outer_func()\n",
        "print(a)"
      ],
      "metadata": {
        "colab": {
          "base_uri": "https://localhost:8080/"
        },
        "id": "unKaEN3-gTWa",
        "outputId": "b40f7eed-37e4-438b-a47d-a282089f5a6d"
      },
      "execution_count": 19,
      "outputs": [
        {
          "output_type": "stream",
          "name": "stdout",
          "text": [
            "[1] 30\n",
            "[1] 30\n",
            "[1] 30\n"
          ]
        }
      ]
    },
    {
      "cell_type": "code",
      "source": [
        "ls()"
      ],
      "metadata": {
        "colab": {
          "base_uri": "https://localhost:8080/",
          "height": 34
        },
        "id": "gwRGRYSTgXTQ",
        "outputId": "9be60636-1832-47ed-b1f3-c2318519d22b"
      },
      "execution_count": 20,
      "outputs": [
        {
          "output_type": "display_data",
          "data": {
            "text/html": [
              "<style>\n",
              ".list-inline {list-style: none; margin:0; padding: 0}\n",
              ".list-inline>li {display: inline-block}\n",
              ".list-inline>li:not(:last-child)::after {content: \"\\00b7\"; padding: 0 .5ex}\n",
              "</style>\n",
              "<ol class=list-inline><li>'a'</li><li>'outer_func'</li></ol>\n"
            ],
            "text/markdown": "1. 'a'\n2. 'outer_func'\n\n\n",
            "text/latex": "\\begin{enumerate*}\n\\item 'a'\n\\item 'outer\\_func'\n\\end{enumerate*}\n",
            "text/plain": [
              "[1] \"a\"          \"outer_func\""
            ]
          },
          "metadata": {}
        }
      ]
    },
    {
      "cell_type": "code",
      "source": [
        ""
      ],
      "metadata": {
        "id": "u6LTBn-ygjjs"
      },
      "execution_count": null,
      "outputs": []
    },
    {
      "cell_type": "markdown",
      "source": [
        "# Funciones recursivas"
      ],
      "metadata": {
        "id": "d4Ts2SbUjXWF"
      }
    },
    {
      "cell_type": "code",
      "source": [
        "recursive.factorial <- function(x){\n",
        "\n",
        "  if ( x == 0 ){\n",
        "    return(1)\n",
        "  } else{\n",
        "    #cat(\"Calling \", x, \" X recursive.factorial(\", x-1, \")\", \"\\n\")\n",
        "    return ( x * recursive.factorial(x-1))\n",
        "    }\n",
        "\n",
        "}"
      ],
      "metadata": {
        "id": "wwlGRJbbjZRq"
      },
      "execution_count": 37,
      "outputs": []
    },
    {
      "cell_type": "code",
      "source": [
        "recursive.factorial(0)"
      ],
      "metadata": {
        "colab": {
          "base_uri": "https://localhost:8080/",
          "height": 34
        },
        "id": "q5I4wQ-EjdiH",
        "outputId": "c5fd7af2-13e8-4409-dea4-bee6afd5d4fb"
      },
      "execution_count": 32,
      "outputs": [
        {
          "output_type": "display_data",
          "data": {
            "text/html": [
              "1"
            ],
            "text/markdown": "1",
            "text/latex": "1",
            "text/plain": [
              "[1] 1"
            ]
          },
          "metadata": {}
        }
      ]
    },
    {
      "cell_type": "code",
      "source": [
        "recursive.factorial(1)"
      ],
      "metadata": {
        "colab": {
          "base_uri": "https://localhost:8080/",
          "height": 52
        },
        "id": "0Z0oglPLj-vF",
        "outputId": "93bade8a-0551-4ed6-9e99-3e4b812a9f28"
      },
      "execution_count": 33,
      "outputs": [
        {
          "output_type": "stream",
          "name": "stdout",
          "text": [
            "Calling  1  X recursive.factorial( 0 ) \n"
          ]
        },
        {
          "output_type": "display_data",
          "data": {
            "text/html": [
              "1"
            ],
            "text/markdown": "1",
            "text/latex": "1",
            "text/plain": [
              "[1] 1"
            ]
          },
          "metadata": {}
        }
      ]
    },
    {
      "cell_type": "code",
      "source": [
        "recursive.factorial(2)"
      ],
      "metadata": {
        "colab": {
          "base_uri": "https://localhost:8080/",
          "height": 69
        },
        "id": "UDxU_AJKkOrv",
        "outputId": "2ee48bbe-6b2d-460f-f0ed-368ca006ee0a"
      },
      "execution_count": 34,
      "outputs": [
        {
          "output_type": "stream",
          "name": "stdout",
          "text": [
            "Calling  2  X recursive.factorial( 1 ) \n",
            "Calling  1  X recursive.factorial( 0 ) \n"
          ]
        },
        {
          "output_type": "display_data",
          "data": {
            "text/html": [
              "2"
            ],
            "text/markdown": "2",
            "text/latex": "2",
            "text/plain": [
              "[1] 2"
            ]
          },
          "metadata": {}
        }
      ]
    },
    {
      "cell_type": "code",
      "source": [
        "recursive.factorial(10)"
      ],
      "metadata": {
        "colab": {
          "base_uri": "https://localhost:8080/",
          "height": 208
        },
        "id": "eDPmV-_ckmxv",
        "outputId": "9720fbb6-2351-4e0d-87f3-e1fde476aa32"
      },
      "execution_count": 35,
      "outputs": [
        {
          "output_type": "stream",
          "name": "stdout",
          "text": [
            "Calling  10  X recursive.factorial( 9 ) \n",
            "Calling  9  X recursive.factorial( 8 ) \n",
            "Calling  8  X recursive.factorial( 7 ) \n",
            "Calling  7  X recursive.factorial( 6 ) \n",
            "Calling  6  X recursive.factorial( 5 ) \n",
            "Calling  5  X recursive.factorial( 4 ) \n",
            "Calling  4  X recursive.factorial( 3 ) \n",
            "Calling  3  X recursive.factorial( 2 ) \n",
            "Calling  2  X recursive.factorial( 1 ) \n",
            "Calling  1  X recursive.factorial( 0 ) \n"
          ]
        },
        {
          "output_type": "display_data",
          "data": {
            "text/html": [
              "3628800"
            ],
            "text/markdown": "3628800",
            "text/latex": "3628800",
            "text/plain": [
              "[1] 3628800"
            ]
          },
          "metadata": {}
        }
      ]
    },
    {
      "cell_type": "markdown",
      "source": [
        "## Comparando el factorial recursivo con el no-recursivo."
      ],
      "metadata": {
        "id": "jmpUUtK0lNW8"
      }
    },
    {
      "cell_type": "code",
      "source": [
        "start = Sys.time()\n",
        "recursive.factorial(100)\n",
        "end = Sys.time()\n",
        "cat(\"El tiempo transcurrido es \", end - start)"
      ],
      "metadata": {
        "colab": {
          "base_uri": "https://localhost:8080/",
          "height": 52
        },
        "id": "OD1LlThyk31S",
        "outputId": "c048c42d-e738-443f-bcd6-5e24742a583f"
      },
      "execution_count": 40,
      "outputs": [
        {
          "output_type": "display_data",
          "data": {
            "text/html": [
              "9.33262154439441e+157"
            ],
            "text/markdown": "9.33262154439441e+157",
            "text/latex": "9.33262154439441e+157",
            "text/plain": [
              "[1] 9.332622e+157"
            ]
          },
          "metadata": {}
        },
        {
          "output_type": "stream",
          "name": "stdout",
          "text": [
            "El tiempo transcurrido es  0.005596161"
          ]
        }
      ]
    },
    {
      "cell_type": "code",
      "source": [
        "start = Sys.time()\n",
        "factorial(100)\n",
        "end = Sys.time()\n",
        "cat(\"El tiempo transcurrido es \", end - start)"
      ],
      "metadata": {
        "colab": {
          "base_uri": "https://localhost:8080/",
          "height": 52
        },
        "id": "DOWHCpx9lHht",
        "outputId": "217501f7-435a-48f5-b42e-adb384ebfb48"
      },
      "execution_count": 41,
      "outputs": [
        {
          "output_type": "display_data",
          "data": {
            "text/html": [
              "9.33262154439422e+157"
            ],
            "text/markdown": "9.33262154439422e+157",
            "text/latex": "9.33262154439422e+157",
            "text/plain": [
              "[1] 9.332622e+157"
            ]
          },
          "metadata": {}
        },
        {
          "output_type": "stream",
          "name": "stdout",
          "text": [
            "El tiempo transcurrido es  0.006924629"
          ]
        }
      ]
    },
    {
      "cell_type": "code",
      "source": [
        "start = Sys.time()\n",
        "recursive.factorial(150)\n",
        "end = Sys.time()\n",
        "cat(\"El tiempo transcurrido es \", end - start)"
      ],
      "metadata": {
        "colab": {
          "base_uri": "https://localhost:8080/",
          "height": 52
        },
        "id": "3v6JN7Csly3c",
        "outputId": "4e8d7bd1-b315-4586-aca5-5d45e243dc2f"
      },
      "execution_count": 43,
      "outputs": [
        {
          "output_type": "display_data",
          "data": {
            "text/html": [
              "5.71338395644585e+262"
            ],
            "text/markdown": "5.71338395644585e+262",
            "text/latex": "5.71338395644585e+262",
            "text/plain": [
              "[1] 5.713384e+262"
            ]
          },
          "metadata": {}
        },
        {
          "output_type": "stream",
          "name": "stdout",
          "text": [
            "El tiempo transcurrido es  0.01510453"
          ]
        }
      ]
    },
    {
      "cell_type": "code",
      "source": [
        "start = Sys.time()\n",
        "factorial(150)\n",
        "end = Sys.time()\n",
        "cat(\"El tiempo transcurrido es \", end - start)"
      ],
      "metadata": {
        "colab": {
          "base_uri": "https://localhost:8080/",
          "height": 52
        },
        "id": "82PbmiMXl-Fr",
        "outputId": "bc66b11a-3cda-4ddf-bad7-b0879d6a3754"
      },
      "execution_count": 44,
      "outputs": [
        {
          "output_type": "display_data",
          "data": {
            "text/html": [
              "5.71338395644635e+262"
            ],
            "text/markdown": "5.71338395644635e+262",
            "text/latex": "5.71338395644635e+262",
            "text/plain": [
              "[1] 5.713384e+262"
            ]
          },
          "metadata": {}
        },
        {
          "output_type": "stream",
          "name": "stdout",
          "text": [
            "El tiempo transcurrido es  0.009837627"
          ]
        }
      ]
    },
    {
      "cell_type": "markdown",
      "source": [
        "# Operador infijo"
      ],
      "metadata": {
        "id": "7yKJYPelrFj4"
      }
    },
    {
      "cell_type": "code",
      "source": [
        "5+3\n",
        "`+`(5,3)\n",
        "5-3\n",
        "`-`(5,3)\n",
        "5*3-1\n",
        "`-`(`*`(5,3),1)"
      ],
      "metadata": {
        "colab": {
          "base_uri": "https://localhost:8080/",
          "height": 121
        },
        "id": "gl3Oji3tmGPP",
        "outputId": "0df8be97-9081-439b-a350-040e781eb7f3"
      },
      "execution_count": 48,
      "outputs": [
        {
          "output_type": "display_data",
          "data": {
            "text/html": [
              "8"
            ],
            "text/markdown": "8",
            "text/latex": "8",
            "text/plain": [
              "[1] 8"
            ]
          },
          "metadata": {}
        },
        {
          "output_type": "display_data",
          "data": {
            "text/html": [
              "8"
            ],
            "text/markdown": "8",
            "text/latex": "8",
            "text/plain": [
              "[1] 8"
            ]
          },
          "metadata": {}
        },
        {
          "output_type": "display_data",
          "data": {
            "text/html": [
              "2"
            ],
            "text/markdown": "2",
            "text/latex": "2",
            "text/plain": [
              "[1] 2"
            ]
          },
          "metadata": {}
        },
        {
          "output_type": "display_data",
          "data": {
            "text/html": [
              "2"
            ],
            "text/markdown": "2",
            "text/latex": "2",
            "text/plain": [
              "[1] 2"
            ]
          },
          "metadata": {}
        },
        {
          "output_type": "display_data",
          "data": {
            "text/html": [
              "14"
            ],
            "text/markdown": "14",
            "text/latex": "14",
            "text/plain": [
              "[1] 14"
            ]
          },
          "metadata": {}
        },
        {
          "output_type": "display_data",
          "data": {
            "text/html": [
              "14"
            ],
            "text/markdown": "14",
            "text/latex": "14",
            "text/plain": [
              "[1] 14"
            ]
          },
          "metadata": {}
        }
      ]
    },
    {
      "cell_type": "code",
      "source": [
        "`%divisible%` <- function(x,y){\n",
        "  if (x%%y ==0){\n",
        "    return (TRUE)\n",
        "  } else{\n",
        "    return (FALSE)\n",
        "  } \n",
        "}"
      ],
      "metadata": {
        "id": "G7zV0-VTqX1I"
      },
      "execution_count": 52,
      "outputs": []
    },
    {
      "cell_type": "code",
      "source": [
        "10 %divisible% 2 "
      ],
      "metadata": {
        "colab": {
          "base_uri": "https://localhost:8080/",
          "height": 34
        },
        "id": "cR78PmkxrJMy",
        "outputId": "a88ec472-594c-41c9-fc5c-20bf7d31a8c8"
      },
      "execution_count": 53,
      "outputs": [
        {
          "output_type": "display_data",
          "data": {
            "text/html": [
              "TRUE"
            ],
            "text/markdown": "TRUE",
            "text/latex": "TRUE",
            "text/plain": [
              "[1] TRUE"
            ]
          },
          "metadata": {}
        }
      ]
    },
    {
      "cell_type": "code",
      "source": [
        "121 %divisible% 5 "
      ],
      "metadata": {
        "colab": {
          "base_uri": "https://localhost:8080/",
          "height": 34
        },
        "id": "RBXIV7darMx8",
        "outputId": "3ffd43a4-31bb-44d8-fcdc-a980fb929ad2"
      },
      "execution_count": 54,
      "outputs": [
        {
          "output_type": "display_data",
          "data": {
            "text/html": [
              "FALSE"
            ],
            "text/markdown": "FALSE",
            "text/latex": "FALSE",
            "text/plain": [
              "[1] FALSE"
            ]
          },
          "metadata": {}
        }
      ]
    },
    {
      "cell_type": "markdown",
      "source": [
        "# La función switch "
      ],
      "metadata": {
        "id": "-MTXasu7sqF5"
      }
    },
    {
      "cell_type": "code",
      "source": [
        "switch(2,\"red\",\"green\",\"blue\")"
      ],
      "metadata": {
        "colab": {
          "base_uri": "https://localhost:8080/",
          "height": 34
        },
        "id": "d9m3en2lsrmX",
        "outputId": "3a51da8b-dfcf-407e-d680-7c07fe29da0d"
      },
      "execution_count": 60,
      "outputs": [
        {
          "output_type": "display_data",
          "data": {
            "text/html": [
              "'green'"
            ],
            "text/markdown": "'green'",
            "text/latex": "'green'",
            "text/plain": [
              "[1] \"green\""
            ]
          },
          "metadata": {}
        }
      ]
    },
    {
      "cell_type": "code",
      "source": [
        "x <- switch(0,\"red\",\"green\",\"blue\")"
      ],
      "metadata": {
        "id": "VoX7pR4msr93"
      },
      "execution_count": 61,
      "outputs": []
    },
    {
      "cell_type": "code",
      "source": [
        "x"
      ],
      "metadata": {
        "colab": {
          "base_uri": "https://localhost:8080/",
          "height": 34
        },
        "id": "DNoqq69BtPWT",
        "outputId": "91b8683f-b59c-41ac-c537-e14168e2c2c9"
      },
      "execution_count": 62,
      "outputs": [
        {
          "output_type": "display_data",
          "data": {
            "text/plain": [
              "NULL"
            ]
          },
          "metadata": {}
        }
      ]
    },
    {
      "cell_type": "code",
      "source": [
        "switch(\"color\", \"color\" = \"red\", \"shape\" = \"square\", \"length\" = 5)"
      ],
      "metadata": {
        "colab": {
          "base_uri": "https://localhost:8080/",
          "height": 34
        },
        "id": "jfa-hlaVsu3H",
        "outputId": "57d04c3e-e004-4b95-93cc-715f8de9b3c9"
      },
      "execution_count": 57,
      "outputs": [
        {
          "output_type": "display_data",
          "data": {
            "text/html": [
              "'red'"
            ],
            "text/markdown": "'red'",
            "text/latex": "'red'",
            "text/plain": [
              "[1] \"red\""
            ]
          },
          "metadata": {}
        }
      ]
    },
    {
      "cell_type": "code",
      "source": [
        "switch(\"length\", \"color\" = \"red\", \"shape\" = \"square\", \"length\" = 5)"
      ],
      "metadata": {
        "colab": {
          "base_uri": "https://localhost:8080/",
          "height": 34
        },
        "id": "39sD4FyqtC3H",
        "outputId": "bdb428e8-cdae-4755-db90-48cdd7525b1f"
      },
      "execution_count": 59,
      "outputs": [
        {
          "output_type": "display_data",
          "data": {
            "text/html": [
              "5"
            ],
            "text/markdown": "5",
            "text/latex": "5",
            "text/plain": [
              "[1] 5"
            ]
          },
          "metadata": {}
        }
      ]
    },
    {
      "cell_type": "code",
      "source": [
        ""
      ],
      "metadata": {
        "id": "NShGiXzetE7m"
      },
      "execution_count": null,
      "outputs": []
    }
  ]
}