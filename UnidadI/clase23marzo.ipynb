{
  "nbformat": 4,
  "nbformat_minor": 0,
  "metadata": {
    "colab": {
      "name": "clase23marzo.ipynb",
      "provenance": [],
      "collapsed_sections": []
    },
    "kernelspec": {
      "name": "ir",
      "display_name": "R"
    },
    "language_info": {
      "name": "R"
    }
  },
  "cells": [
    {
      "cell_type": "markdown",
      "source": [
        "# Fundamentos básicos de programación\n",
        "\n",
        "Referencia: \n",
        "\n",
        "https://www.datamentor.io/r-programming/if-else-statement/"
      ],
      "metadata": {
        "id": "4_LvLYYFaCuy"
      }
    },
    {
      "cell_type": "code",
      "source": [
        "x <- 10 \n",
        "\n",
        "if ( x > 0){\n",
        "  print(\"Número positivo\")\n",
        "}\n"
      ],
      "metadata": {
        "colab": {
          "base_uri": "https://localhost:8080/"
        },
        "id": "3mK0rrRaaFPO",
        "outputId": "6ec0b9d8-f1e1-4d09-cb88-0264434e6a3f"
      },
      "execution_count": 1,
      "outputs": [
        {
          "output_type": "stream",
          "name": "stdout",
          "text": [
            "[1] \"Número positivo\"\n"
          ]
        }
      ]
    },
    {
      "cell_type": "code",
      "source": [
        "x <- 0\n",
        "\n",
        "if ( x > 0){\n",
        "  print(\"Número positivo\")\n",
        "}"
      ],
      "metadata": {
        "id": "c2KhvGmta94N"
      },
      "execution_count": 2,
      "outputs": []
    },
    {
      "cell_type": "code",
      "source": [
        "x <- 10\n",
        "\n",
        "\n",
        "if ( x >= 0 ){\n",
        "   print(\"Número no-negativo\")\n",
        "} else{\n",
        "  print(\"Número negativo\")\n",
        "}\n",
        "\n",
        "\n"
      ],
      "metadata": {
        "colab": {
          "base_uri": "https://localhost:8080/"
        },
        "id": "D7cV754hbOwQ",
        "outputId": "4a777bcd-9108-4e52-c733-01103eb924ed"
      },
      "execution_count": 3,
      "outputs": [
        {
          "output_type": "stream",
          "name": "stdout",
          "text": [
            "[1] \"Número no-negativo\"\n"
          ]
        }
      ]
    },
    {
      "cell_type": "code",
      "source": [
        "x <- -10\n",
        "\n",
        "\n",
        "if ( x >= 0 ){\n",
        "   print(\"Número no-negativo\")\n",
        "} else{\n",
        "  print(\"Número negativo\")\n",
        "}\n",
        "\n"
      ],
      "metadata": {
        "colab": {
          "base_uri": "https://localhost:8080/"
        },
        "id": "XaU1gtdOcDD3",
        "outputId": "f6403bb6-6264-4afd-b46e-8f06111cc7a0"
      },
      "execution_count": 4,
      "outputs": [
        {
          "output_type": "stream",
          "name": "stdout",
          "text": [
            "[1] \"Número negativo\"\n"
          ]
        }
      ]
    },
    {
      "cell_type": "code",
      "source": [
        "x <- 0\n",
        "\n",
        "if (x > 0){\n",
        "  print(\"Número positivo\")\n",
        "} else if (x < 0) {\n",
        "  print(\"Número negativo\")\n",
        "} else {\n",
        "  print(\"Cero\")\n",
        "}"
      ],
      "metadata": {
        "id": "Pe8C-oy1cXXZ",
        "colab": {
          "base_uri": "https://localhost:8080/"
        },
        "outputId": "ef579f10-ca10-4be2-d94e-82ff3bdec4f4"
      },
      "execution_count": 8,
      "outputs": [
        {
          "output_type": "stream",
          "name": "stdout",
          "text": [
            "[1] \"Cero\"\n"
          ]
        }
      ]
    },
    {
      "cell_type": "code",
      "source": [
        "x <- c(1, 2, 3)"
      ],
      "metadata": {
        "id": "V0ia_9V8VBhz"
      },
      "execution_count": 9,
      "outputs": []
    },
    {
      "cell_type": "code",
      "source": [
        "x"
      ],
      "metadata": {
        "colab": {
          "base_uri": "https://localhost:8080/",
          "height": 34
        },
        "id": "d-80dX_NWJXb",
        "outputId": "804d0b3c-b9be-403f-a097-1da18fd31b93"
      },
      "execution_count": 10,
      "outputs": [
        {
          "output_type": "display_data",
          "data": {
            "text/html": [
              "<style>\n",
              ".list-inline {list-style: none; margin:0; padding: 0}\n",
              ".list-inline>li {display: inline-block}\n",
              ".list-inline>li:not(:last-child)::after {content: \"\\00b7\"; padding: 0 .5ex}\n",
              "</style>\n",
              "<ol class=list-inline><li>1</li><li>2</li><li>3</li></ol>\n"
            ],
            "text/markdown": "1. 1\n2. 2\n3. 3\n\n\n",
            "text/latex": "\\begin{enumerate*}\n\\item 1\n\\item 2\n\\item 3\n\\end{enumerate*}\n",
            "text/plain": [
              "[1] 1 2 3"
            ]
          },
          "metadata": {}
        }
      ]
    },
    {
      "cell_type": "markdown",
      "source": [
        "Ejemplo de %% , operación modulo."
      ],
      "metadata": {
        "id": "M032JJseX5pW"
      }
    },
    {
      "cell_type": "code",
      "source": [
        "12 %% 2 "
      ],
      "metadata": {
        "colab": {
          "base_uri": "https://localhost:8080/",
          "height": 34
        },
        "id": "8ZH-XD7xWJtS",
        "outputId": "75681a7c-c2c7-4423-fa7a-c4a8e6d4574f"
      },
      "execution_count": 11,
      "outputs": [
        {
          "output_type": "display_data",
          "data": {
            "text/html": [
              "0"
            ],
            "text/markdown": "0",
            "text/latex": "0",
            "text/plain": [
              "[1] 0"
            ]
          },
          "metadata": {}
        }
      ]
    },
    {
      "cell_type": "code",
      "source": [
        "13 %% 2 "
      ],
      "metadata": {
        "colab": {
          "base_uri": "https://localhost:8080/",
          "height": 34
        },
        "id": "gQJqZDRNYBS_",
        "outputId": "e6ccf1cd-60f0-4653-81f4-c3a2814110f1"
      },
      "execution_count": 12,
      "outputs": [
        {
          "output_type": "display_data",
          "data": {
            "text/html": [
              "1"
            ],
            "text/markdown": "1",
            "text/latex": "1",
            "text/plain": [
              "[1] 1"
            ]
          },
          "metadata": {}
        }
      ]
    },
    {
      "cell_type": "code",
      "source": [
        "c(10:20) %% 2 "
      ],
      "metadata": {
        "colab": {
          "base_uri": "https://localhost:8080/",
          "height": 34
        },
        "id": "r9XdK1ebYCn_",
        "outputId": "4f7d7be4-5265-42e5-8965-65b006a67093"
      },
      "execution_count": 13,
      "outputs": [
        {
          "output_type": "display_data",
          "data": {
            "text/html": [
              "<style>\n",
              ".list-inline {list-style: none; margin:0; padding: 0}\n",
              ".list-inline>li {display: inline-block}\n",
              ".list-inline>li:not(:last-child)::after {content: \"\\00b7\"; padding: 0 .5ex}\n",
              "</style>\n",
              "<ol class=list-inline><li>0</li><li>1</li><li>0</li><li>1</li><li>0</li><li>1</li><li>0</li><li>1</li><li>0</li><li>1</li><li>0</li></ol>\n"
            ],
            "text/markdown": "1. 0\n2. 1\n3. 0\n4. 1\n5. 0\n6. 1\n7. 0\n8. 1\n9. 0\n10. 1\n11. 0\n\n\n",
            "text/latex": "\\begin{enumerate*}\n\\item 0\n\\item 1\n\\item 0\n\\item 1\n\\item 0\n\\item 1\n\\item 0\n\\item 1\n\\item 0\n\\item 1\n\\item 0\n\\end{enumerate*}\n",
            "text/plain": [
              " [1] 0 1 0 1 0 1 0 1 0 1 0"
            ]
          },
          "metadata": {}
        }
      ]
    },
    {
      "cell_type": "code",
      "source": [
        "a = c( 13, 20, 24, 21, 48, 36, 72, 333)"
      ],
      "metadata": {
        "id": "dMd-JHzYYFy4"
      },
      "execution_count": 14,
      "outputs": []
    },
    {
      "cell_type": "code",
      "source": [
        "a %% 12 == 0"
      ],
      "metadata": {
        "colab": {
          "base_uri": "https://localhost:8080/",
          "height": 34
        },
        "id": "vr7BZWlfY8rH",
        "outputId": "5bfb4adb-8bb5-492a-97b3-f68d9fec1617"
      },
      "execution_count": 15,
      "outputs": [
        {
          "output_type": "display_data",
          "data": {
            "text/html": [
              "<style>\n",
              ".list-inline {list-style: none; margin:0; padding: 0}\n",
              ".list-inline>li {display: inline-block}\n",
              ".list-inline>li:not(:last-child)::after {content: \"\\00b7\"; padding: 0 .5ex}\n",
              "</style>\n",
              "<ol class=list-inline><li>FALSE</li><li>FALSE</li><li>TRUE</li><li>FALSE</li><li>TRUE</li><li>TRUE</li><li>TRUE</li><li>FALSE</li></ol>\n"
            ],
            "text/markdown": "1. FALSE\n2. FALSE\n3. TRUE\n4. FALSE\n5. TRUE\n6. TRUE\n7. TRUE\n8. FALSE\n\n\n",
            "text/latex": "\\begin{enumerate*}\n\\item FALSE\n\\item FALSE\n\\item TRUE\n\\item FALSE\n\\item TRUE\n\\item TRUE\n\\item TRUE\n\\item FALSE\n\\end{enumerate*}\n",
            "text/plain": [
              "[1] FALSE FALSE  TRUE FALSE  TRUE  TRUE  TRUE FALSE"
            ]
          },
          "metadata": {}
        }
      ]
    },
    {
      "cell_type": "markdown",
      "source": [
        "Del vector a imprimir si el número en la posición i (con $ i = 1,\\dots,8$) es múltiplo de 12 o no es múltiplo de 12.  "
      ],
      "metadata": {
        "id": "BpjGV1VrYdTX"
      }
    },
    {
      "cell_type": "code",
      "source": [
        "ifelse( a %% 12 == 0, \"Es múltiplo de 12\", \"No es múltiplo de 12\")"
      ],
      "metadata": {
        "colab": {
          "base_uri": "https://localhost:8080/",
          "height": 52
        },
        "id": "TjGtsktSYTzC",
        "outputId": "d5d31983-b493-41c9-e5d6-e9bb28c91a4f"
      },
      "execution_count": 16,
      "outputs": [
        {
          "output_type": "display_data",
          "data": {
            "text/html": [
              "<style>\n",
              ".list-inline {list-style: none; margin:0; padding: 0}\n",
              ".list-inline>li {display: inline-block}\n",
              ".list-inline>li:not(:last-child)::after {content: \"\\00b7\"; padding: 0 .5ex}\n",
              "</style>\n",
              "<ol class=list-inline><li>'No es múltiplo de 12'</li><li>'No es múltiplo de 12'</li><li>'Es múltiplo de 12'</li><li>'No es múltiplo de 12'</li><li>'Es múltiplo de 12'</li><li>'Es múltiplo de 12'</li><li>'Es múltiplo de 12'</li><li>'No es múltiplo de 12'</li></ol>\n"
            ],
            "text/markdown": "1. 'No es múltiplo de 12'\n2. 'No es múltiplo de 12'\n3. 'Es múltiplo de 12'\n4. 'No es múltiplo de 12'\n5. 'Es múltiplo de 12'\n6. 'Es múltiplo de 12'\n7. 'Es múltiplo de 12'\n8. 'No es múltiplo de 12'\n\n\n",
            "text/latex": "\\begin{enumerate*}\n\\item 'No es múltiplo de 12'\n\\item 'No es múltiplo de 12'\n\\item 'Es múltiplo de 12'\n\\item 'No es múltiplo de 12'\n\\item 'Es múltiplo de 12'\n\\item 'Es múltiplo de 12'\n\\item 'Es múltiplo de 12'\n\\item 'No es múltiplo de 12'\n\\end{enumerate*}\n",
            "text/plain": [
              "[1] \"No es múltiplo de 12\" \"No es múltiplo de 12\" \"Es múltiplo de 12\"   \n",
              "[4] \"No es múltiplo de 12\" \"Es múltiplo de 12\"    \"Es múltiplo de 12\"   \n",
              "[7] \"Es múltiplo de 12\"    \"No es múltiplo de 12\""
            ]
          },
          "metadata": {}
        }
      ]
    },
    {
      "cell_type": "markdown",
      "source": [
        "Interpretar los siguientes códigos: "
      ],
      "metadata": {
        "id": "zd-YGdbsaoPD"
      }
    },
    {
      "cell_type": "code",
      "source": [
        "ifelse(sqrt(9)<2,sqrt(9),0)"
      ],
      "metadata": {
        "colab": {
          "base_uri": "https://localhost:8080/",
          "height": 34
        },
        "id": "sIBQLyP8ZaYR",
        "outputId": "b0f91e70-4815-4e44-cca5-ccabcceb5e1a"
      },
      "execution_count": 17,
      "outputs": [
        {
          "output_type": "display_data",
          "data": {
            "text/html": [
              "0"
            ],
            "text/markdown": "0",
            "text/latex": "0",
            "text/plain": [
              "[1] 0"
            ]
          },
          "metadata": {}
        }
      ]
    },
    {
      "cell_type": "code",
      "source": [
        "letters"
      ],
      "metadata": {
        "colab": {
          "base_uri": "https://localhost:8080/",
          "height": 34
        },
        "id": "J1ppUmgldvf-",
        "outputId": "56ccbb23-c2ca-4879-bb5c-27c55d444edf"
      },
      "execution_count": 22,
      "outputs": [
        {
          "output_type": "display_data",
          "data": {
            "text/html": [
              "<style>\n",
              ".list-inline {list-style: none; margin:0; padding: 0}\n",
              ".list-inline>li {display: inline-block}\n",
              ".list-inline>li:not(:last-child)::after {content: \"\\00b7\"; padding: 0 .5ex}\n",
              "</style>\n",
              "<ol class=list-inline><li>'a'</li><li>'b'</li><li>'c'</li><li>'d'</li><li>'e'</li><li>'f'</li><li>'g'</li><li>'h'</li><li>'i'</li><li>'j'</li><li>'k'</li><li>'l'</li><li>'m'</li><li>'n'</li><li>'o'</li><li>'p'</li><li>'q'</li><li>'r'</li><li>'s'</li><li>'t'</li><li>'u'</li><li>'v'</li><li>'w'</li><li>'x'</li><li>'y'</li><li>'z'</li></ol>\n"
            ],
            "text/markdown": "1. 'a'\n2. 'b'\n3. 'c'\n4. 'd'\n5. 'e'\n6. 'f'\n7. 'g'\n8. 'h'\n9. 'i'\n10. 'j'\n11. 'k'\n12. 'l'\n13. 'm'\n14. 'n'\n15. 'o'\n16. 'p'\n17. 'q'\n18. 'r'\n19. 's'\n20. 't'\n21. 'u'\n22. 'v'\n23. 'w'\n24. 'x'\n25. 'y'\n26. 'z'\n\n\n",
            "text/latex": "\\begin{enumerate*}\n\\item 'a'\n\\item 'b'\n\\item 'c'\n\\item 'd'\n\\item 'e'\n\\item 'f'\n\\item 'g'\n\\item 'h'\n\\item 'i'\n\\item 'j'\n\\item 'k'\n\\item 'l'\n\\item 'm'\n\\item 'n'\n\\item 'o'\n\\item 'p'\n\\item 'q'\n\\item 'r'\n\\item 's'\n\\item 't'\n\\item 'u'\n\\item 'v'\n\\item 'w'\n\\item 'x'\n\\item 'y'\n\\item 'z'\n\\end{enumerate*}\n",
            "text/plain": [
              " [1] \"a\" \"b\" \"c\" \"d\" \"e\" \"f\" \"g\" \"h\" \"i\" \"j\" \"k\" \"l\" \"m\" \"n\" \"o\" \"p\" \"q\" \"r\" \"s\"\n",
              "[20] \"t\" \"u\" \"v\" \"w\" \"x\" \"y\" \"z\""
            ]
          },
          "metadata": {}
        }
      ]
    },
    {
      "cell_type": "code",
      "source": [
        "letters[20]"
      ],
      "metadata": {
        "colab": {
          "base_uri": "https://localhost:8080/",
          "height": 34
        },
        "id": "PHwo6IMeeK4g",
        "outputId": "e49d7152-1c8d-4e27-e98a-10acf3a38f22"
      },
      "execution_count": 24,
      "outputs": [
        {
          "output_type": "display_data",
          "data": {
            "text/html": [
              "'t'"
            ],
            "text/markdown": "'t'",
            "text/latex": "'t'",
            "text/plain": [
              "[1] \"t\""
            ]
          },
          "metadata": {}
        }
      ]
    },
    {
      "cell_type": "code",
      "source": [
        " x=letters[20]\n",
        " \n",
        " if (is.numeric(x)){\n",
        "    print('is numeric')\n",
        " } else {\n",
        "      if (is.character(x)){\n",
        "         print('is character')\n",
        "      } \n",
        " }"
      ],
      "metadata": {
        "colab": {
          "base_uri": "https://localhost:8080/"
        },
        "id": "v9M3jMNrar8Q",
        "outputId": "887f5fe7-9728-4dc0-9ac9-71ea442e1b91"
      },
      "execution_count": 25,
      "outputs": [
        {
          "output_type": "stream",
          "name": "stdout",
          "text": [
            "[1] \"is character\"\n"
          ]
        }
      ]
    },
    {
      "cell_type": "code",
      "source": [
        "z = rnorm(100)"
      ],
      "metadata": {
        "id": "Nv84Jyz-bCFR"
      },
      "execution_count": 26,
      "outputs": []
    },
    {
      "cell_type": "code",
      "source": [
        "z"
      ],
      "metadata": {
        "colab": {
          "base_uri": "https://localhost:8080/",
          "height": 312
        },
        "id": "cHJwVvLRexPc",
        "outputId": "019d3400-6a3e-4f45-c974-3132b6b76b46"
      },
      "execution_count": 27,
      "outputs": [
        {
          "output_type": "display_data",
          "data": {
            "text/html": [
              "<style>\n",
              ".list-inline {list-style: none; margin:0; padding: 0}\n",
              ".list-inline>li {display: inline-block}\n",
              ".list-inline>li:not(:last-child)::after {content: \"\\00b7\"; padding: 0 .5ex}\n",
              "</style>\n",
              "<ol class=list-inline><li>-0.343913865794762</li><li>-0.770002235765881</li><li>-1.31231949454051</li><li>0.909196478594275</li><li>0.124784711254756</li><li>-0.399568384074035</li><li>0.110824821263162</li><li>1.00735925860033</li><li>0.686214385914485</li><li>0.461245418962067</li><li>-0.394946229698569</li><li>-0.0823904945380425</li><li>-1.60622626157647</li><li>-1.28672739336972</li><li>1.64867945099871</li><li>-0.550204026786068</li><li>0.689273508132471</li><li>-0.148827808998493</li><li>0.691752826355918</li><li>-0.363378920777233</li><li>-0.980451371112932</li><li>-0.551412958654437</li><li>-0.504214881355258</li><li>1.45936177687795</li><li>-0.507745996217256</li><li>-1.18018424278967</li><li>-0.793819417739847</li><li>-0.813262897906348</li><li>0.869357797289551</li><li>-0.986861294182469</li><li>0.335325810186951</li><li>-0.567432728119821</li><li>1.14397644754499</li><li>-0.799966511615687</li><li>0.270207614536342</li><li>0.629228545968223</li><li>1.63533890562395</li><li>1.01231856738997</li><li>0.521148991112714</li><li>0.579559567660815</li><li>1.40231715594508</li><li>-0.361420561475915</li><li>1.01264415549566</li><li>0.169525921024868</li><li>-0.77733993543729</li><li>0.746544393964116</li><li>-0.890279088772295</li><li>-1.48263130387252</li><li>-0.550330915677444</li><li>0.378253052185384</li><li>1.72046804373033</li><li>-0.738821742443033</li><li>1.02399589483118</li><li>0.775493946507645</li><li>-0.375955334282513</li><li>-0.218205778063355</li><li>-1.62303949515522</li><li>-0.371143184775007</li><li>-1.03532350376593</li><li>-0.405123451087498</li><li>-0.0480331942251846</li><li>0.75252829699349</li><li>0.381655854501761</li><li>0.851282323914702</li><li>0.645194266243444</li><li>0.26312631998011</li><li>0.0136122029484522</li><li>-0.0233562074423986</li><li>-0.681964370881979</li><li>0.0845771311340568</li><li>-0.752843001949825</li><li>1.95701003369781</li><li>-0.981355192023987</li><li>-1.68313353386652</li><li>0.948974965487761</li><li>2.02068995725985</li><li>0.980090036590951</li><li>0.616826131403694</li><li>0.745737235044082</li><li>0.272800620333149</li><li>1.49226163969889</li><li>-1.8367464921686</li><li>0.81927225009793</li><li>-0.415198929550041</li><li>-0.47640070047498</li><li>1.44264205259077</li><li>0.260502427902929</li><li>-0.428414516454596</li><li>0.91642109019806</li><li>0.883455929156358</li><li>0.90208533200587</li><li>-0.884722402689536</li><li>-1.98849508686383</li><li>-0.639332420557814</li><li>1.71533373924191</li><li>-0.54508895386454</li><li>0.0787665749713065</li><li>0.757672870143469</li><li>-0.130443946577734</li><li>1.24269190623725</li></ol>\n"
            ],
            "text/markdown": "1. -0.343913865794762\n2. -0.770002235765881\n3. -1.31231949454051\n4. 0.909196478594275\n5. 0.124784711254756\n6. -0.399568384074035\n7. 0.110824821263162\n8. 1.00735925860033\n9. 0.686214385914485\n10. 0.461245418962067\n11. -0.394946229698569\n12. -0.0823904945380425\n13. -1.60622626157647\n14. -1.28672739336972\n15. 1.64867945099871\n16. -0.550204026786068\n17. 0.689273508132471\n18. -0.148827808998493\n19. 0.691752826355918\n20. -0.363378920777233\n21. -0.980451371112932\n22. -0.551412958654437\n23. -0.504214881355258\n24. 1.45936177687795\n25. -0.507745996217256\n26. -1.18018424278967\n27. -0.793819417739847\n28. -0.813262897906348\n29. 0.869357797289551\n30. -0.986861294182469\n31. 0.335325810186951\n32. -0.567432728119821\n33. 1.14397644754499\n34. -0.799966511615687\n35. 0.270207614536342\n36. 0.629228545968223\n37. 1.63533890562395\n38. 1.01231856738997\n39. 0.521148991112714\n40. 0.579559567660815\n41. 1.40231715594508\n42. -0.361420561475915\n43. 1.01264415549566\n44. 0.169525921024868\n45. -0.77733993543729\n46. 0.746544393964116\n47. -0.890279088772295\n48. -1.48263130387252\n49. -0.550330915677444\n50. 0.378253052185384\n51. 1.72046804373033\n52. -0.738821742443033\n53. 1.02399589483118\n54. 0.775493946507645\n55. -0.375955334282513\n56. -0.218205778063355\n57. -1.62303949515522\n58. -0.371143184775007\n59. -1.03532350376593\n60. -0.405123451087498\n61. -0.0480331942251846\n62. 0.75252829699349\n63. 0.381655854501761\n64. 0.851282323914702\n65. 0.645194266243444\n66. 0.26312631998011\n67. 0.0136122029484522\n68. -0.0233562074423986\n69. -0.681964370881979\n70. 0.0845771311340568\n71. -0.752843001949825\n72. 1.95701003369781\n73. -0.981355192023987\n74. -1.68313353386652\n75. 0.948974965487761\n76. 2.02068995725985\n77. 0.980090036590951\n78. 0.616826131403694\n79. 0.745737235044082\n80. 0.272800620333149\n81. 1.49226163969889\n82. -1.8367464921686\n83. 0.81927225009793\n84. -0.415198929550041\n85. -0.47640070047498\n86. 1.44264205259077\n87. 0.260502427902929\n88. -0.428414516454596\n89. 0.91642109019806\n90. 0.883455929156358\n91. 0.90208533200587\n92. -0.884722402689536\n93. -1.98849508686383\n94. -0.639332420557814\n95. 1.71533373924191\n96. -0.54508895386454\n97. 0.0787665749713065\n98. 0.757672870143469\n99. -0.130443946577734\n100. 1.24269190623725\n\n\n",
            "text/latex": "\\begin{enumerate*}\n\\item -0.343913865794762\n\\item -0.770002235765881\n\\item -1.31231949454051\n\\item 0.909196478594275\n\\item 0.124784711254756\n\\item -0.399568384074035\n\\item 0.110824821263162\n\\item 1.00735925860033\n\\item 0.686214385914485\n\\item 0.461245418962067\n\\item -0.394946229698569\n\\item -0.0823904945380425\n\\item -1.60622626157647\n\\item -1.28672739336972\n\\item 1.64867945099871\n\\item -0.550204026786068\n\\item 0.689273508132471\n\\item -0.148827808998493\n\\item 0.691752826355918\n\\item -0.363378920777233\n\\item -0.980451371112932\n\\item -0.551412958654437\n\\item -0.504214881355258\n\\item 1.45936177687795\n\\item -0.507745996217256\n\\item -1.18018424278967\n\\item -0.793819417739847\n\\item -0.813262897906348\n\\item 0.869357797289551\n\\item -0.986861294182469\n\\item 0.335325810186951\n\\item -0.567432728119821\n\\item 1.14397644754499\n\\item -0.799966511615687\n\\item 0.270207614536342\n\\item 0.629228545968223\n\\item 1.63533890562395\n\\item 1.01231856738997\n\\item 0.521148991112714\n\\item 0.579559567660815\n\\item 1.40231715594508\n\\item -0.361420561475915\n\\item 1.01264415549566\n\\item 0.169525921024868\n\\item -0.77733993543729\n\\item 0.746544393964116\n\\item -0.890279088772295\n\\item -1.48263130387252\n\\item -0.550330915677444\n\\item 0.378253052185384\n\\item 1.72046804373033\n\\item -0.738821742443033\n\\item 1.02399589483118\n\\item 0.775493946507645\n\\item -0.375955334282513\n\\item -0.218205778063355\n\\item -1.62303949515522\n\\item -0.371143184775007\n\\item -1.03532350376593\n\\item -0.405123451087498\n\\item -0.0480331942251846\n\\item 0.75252829699349\n\\item 0.381655854501761\n\\item 0.851282323914702\n\\item 0.645194266243444\n\\item 0.26312631998011\n\\item 0.0136122029484522\n\\item -0.0233562074423986\n\\item -0.681964370881979\n\\item 0.0845771311340568\n\\item -0.752843001949825\n\\item 1.95701003369781\n\\item -0.981355192023987\n\\item -1.68313353386652\n\\item 0.948974965487761\n\\item 2.02068995725985\n\\item 0.980090036590951\n\\item 0.616826131403694\n\\item 0.745737235044082\n\\item 0.272800620333149\n\\item 1.49226163969889\n\\item -1.8367464921686\n\\item 0.81927225009793\n\\item -0.415198929550041\n\\item -0.47640070047498\n\\item 1.44264205259077\n\\item 0.260502427902929\n\\item -0.428414516454596\n\\item 0.91642109019806\n\\item 0.883455929156358\n\\item 0.90208533200587\n\\item -0.884722402689536\n\\item -1.98849508686383\n\\item -0.639332420557814\n\\item 1.71533373924191\n\\item -0.54508895386454\n\\item 0.0787665749713065\n\\item 0.757672870143469\n\\item -0.130443946577734\n\\item 1.24269190623725\n\\end{enumerate*}\n",
            "text/plain": [
              "  [1] -0.34391387 -0.77000224 -1.31231949  0.90919648  0.12478471 -0.39956838\n",
              "  [7]  0.11082482  1.00735926  0.68621439  0.46124542 -0.39494623 -0.08239049\n",
              " [13] -1.60622626 -1.28672739  1.64867945 -0.55020403  0.68927351 -0.14882781\n",
              " [19]  0.69175283 -0.36337892 -0.98045137 -0.55141296 -0.50421488  1.45936178\n",
              " [25] -0.50774600 -1.18018424 -0.79381942 -0.81326290  0.86935780 -0.98686129\n",
              " [31]  0.33532581 -0.56743273  1.14397645 -0.79996651  0.27020761  0.62922855\n",
              " [37]  1.63533891  1.01231857  0.52114899  0.57955957  1.40231716 -0.36142056\n",
              " [43]  1.01264416  0.16952592 -0.77733994  0.74654439 -0.89027909 -1.48263130\n",
              " [49] -0.55033092  0.37825305  1.72046804 -0.73882174  1.02399589  0.77549395\n",
              " [55] -0.37595533 -0.21820578 -1.62303950 -0.37114318 -1.03532350 -0.40512345\n",
              " [61] -0.04803319  0.75252830  0.38165585  0.85128232  0.64519427  0.26312632\n",
              " [67]  0.01361220 -0.02335621 -0.68196437  0.08457713 -0.75284300  1.95701003\n",
              " [73] -0.98135519 -1.68313353  0.94897497  2.02068996  0.98009004  0.61682613\n",
              " [79]  0.74573724  0.27280062  1.49226164 -1.83674649  0.81927225 -0.41519893\n",
              " [85] -0.47640070  1.44264205  0.26050243 -0.42841452  0.91642109  0.88345593\n",
              " [91]  0.90208533 -0.88472240 -1.98849509 -0.63933242  1.71533374 -0.54508895\n",
              " [97]  0.07876657  0.75767287 -0.13044395  1.24269191"
            ]
          },
          "metadata": {}
        }
      ]
    },
    {
      "cell_type": "code",
      "source": [
        "ifelse(z > mean(z), \"> Media\", \"<= Media\" )"
      ],
      "metadata": {
        "colab": {
          "base_uri": "https://localhost:8080/",
          "height": 156
        },
        "id": "NcaY6tV2bMmP",
        "outputId": "1994fd9c-f5d3-423d-c098-2cf3f6e89752"
      },
      "execution_count": 20,
      "outputs": [
        {
          "output_type": "display_data",
          "data": {
            "text/html": [
              "<style>\n",
              ".list-inline {list-style: none; margin:0; padding: 0}\n",
              ".list-inline>li {display: inline-block}\n",
              ".list-inline>li:not(:last-child)::after {content: \"\\00b7\"; padding: 0 .5ex}\n",
              "</style>\n",
              "<ol class=list-inline><li>'&lt;= Media'</li><li>'&gt; Media'</li><li>'&lt;= Media'</li><li>'&lt;= Media'</li><li>'&gt; Media'</li><li>'&lt;= Media'</li><li>'&lt;= Media'</li><li>'&gt; Media'</li><li>'&lt;= Media'</li><li>'&lt;= Media'</li><li>'&lt;= Media'</li><li>'&gt; Media'</li><li>'&gt; Media'</li><li>'&lt;= Media'</li><li>'&gt; Media'</li><li>'&gt; Media'</li><li>'&gt; Media'</li><li>'&gt; Media'</li><li>'&gt; Media'</li><li>'&lt;= Media'</li><li>'&gt; Media'</li><li>'&lt;= Media'</li><li>'&gt; Media'</li><li>'&gt; Media'</li><li>'&gt; Media'</li><li>'&gt; Media'</li><li>'&gt; Media'</li><li>'&gt; Media'</li><li>'&gt; Media'</li><li>'&gt; Media'</li><li>'&gt; Media'</li><li>'&gt; Media'</li><li>'&gt; Media'</li><li>'&gt; Media'</li><li>'&lt;= Media'</li><li>'&gt; Media'</li><li>'&gt; Media'</li><li>'&lt;= Media'</li><li>'&gt; Media'</li><li>'&gt; Media'</li><li>'&lt;= Media'</li><li>'&gt; Media'</li><li>'&lt;= Media'</li><li>'&lt;= Media'</li><li>'&lt;= Media'</li><li>'&gt; Media'</li><li>'&lt;= Media'</li><li>'&gt; Media'</li><li>'&gt; Media'</li><li>'&lt;= Media'</li><li>'&lt;= Media'</li><li>'&lt;= Media'</li><li>'&gt; Media'</li><li>'&lt;= Media'</li><li>'&lt;= Media'</li><li>'&gt; Media'</li><li>'&gt; Media'</li><li>'&gt; Media'</li><li>'&lt;= Media'</li><li>'&lt;= Media'</li><li>'&lt;= Media'</li><li>'&gt; Media'</li><li>'&lt;= Media'</li><li>'&gt; Media'</li><li>'&lt;= Media'</li><li>'&gt; Media'</li><li>'&gt; Media'</li><li>'&lt;= Media'</li><li>'&gt; Media'</li><li>'&gt; Media'</li><li>'&gt; Media'</li><li>'&gt; Media'</li><li>'&gt; Media'</li><li>'&lt;= Media'</li><li>'&gt; Media'</li><li>'&gt; Media'</li><li>'&gt; Media'</li><li>'&lt;= Media'</li><li>'&gt; Media'</li><li>'&lt;= Media'</li><li>'&lt;= Media'</li><li>'&lt;= Media'</li><li>'&gt; Media'</li><li>'&gt; Media'</li><li>'&lt;= Media'</li><li>'&lt;= Media'</li><li>'&lt;= Media'</li><li>'&lt;= Media'</li><li>'&lt;= Media'</li><li>'&gt; Media'</li><li>'&lt;= Media'</li><li>'&gt; Media'</li><li>'&gt; Media'</li><li>'&lt;= Media'</li><li>'&gt; Media'</li><li>'&lt;= Media'</li><li>'&lt;= Media'</li><li>'&gt; Media'</li><li>'&lt;= Media'</li><li>'&lt;= Media'</li></ol>\n"
            ],
            "text/markdown": "1. '&lt;= Media'\n2. '&gt; Media'\n3. '&lt;= Media'\n4. '&lt;= Media'\n5. '&gt; Media'\n6. '&lt;= Media'\n7. '&lt;= Media'\n8. '&gt; Media'\n9. '&lt;= Media'\n10. '&lt;= Media'\n11. '&lt;= Media'\n12. '&gt; Media'\n13. '&gt; Media'\n14. '&lt;= Media'\n15. '&gt; Media'\n16. '&gt; Media'\n17. '&gt; Media'\n18. '&gt; Media'\n19. '&gt; Media'\n20. '&lt;= Media'\n21. '&gt; Media'\n22. '&lt;= Media'\n23. '&gt; Media'\n24. '&gt; Media'\n25. '&gt; Media'\n26. '&gt; Media'\n27. '&gt; Media'\n28. '&gt; Media'\n29. '&gt; Media'\n30. '&gt; Media'\n31. '&gt; Media'\n32. '&gt; Media'\n33. '&gt; Media'\n34. '&gt; Media'\n35. '&lt;= Media'\n36. '&gt; Media'\n37. '&gt; Media'\n38. '&lt;= Media'\n39. '&gt; Media'\n40. '&gt; Media'\n41. '&lt;= Media'\n42. '&gt; Media'\n43. '&lt;= Media'\n44. '&lt;= Media'\n45. '&lt;= Media'\n46. '&gt; Media'\n47. '&lt;= Media'\n48. '&gt; Media'\n49. '&gt; Media'\n50. '&lt;= Media'\n51. '&lt;= Media'\n52. '&lt;= Media'\n53. '&gt; Media'\n54. '&lt;= Media'\n55. '&lt;= Media'\n56. '&gt; Media'\n57. '&gt; Media'\n58. '&gt; Media'\n59. '&lt;= Media'\n60. '&lt;= Media'\n61. '&lt;= Media'\n62. '&gt; Media'\n63. '&lt;= Media'\n64. '&gt; Media'\n65. '&lt;= Media'\n66. '&gt; Media'\n67. '&gt; Media'\n68. '&lt;= Media'\n69. '&gt; Media'\n70. '&gt; Media'\n71. '&gt; Media'\n72. '&gt; Media'\n73. '&gt; Media'\n74. '&lt;= Media'\n75. '&gt; Media'\n76. '&gt; Media'\n77. '&gt; Media'\n78. '&lt;= Media'\n79. '&gt; Media'\n80. '&lt;= Media'\n81. '&lt;= Media'\n82. '&lt;= Media'\n83. '&gt; Media'\n84. '&gt; Media'\n85. '&lt;= Media'\n86. '&lt;= Media'\n87. '&lt;= Media'\n88. '&lt;= Media'\n89. '&lt;= Media'\n90. '&gt; Media'\n91. '&lt;= Media'\n92. '&gt; Media'\n93. '&gt; Media'\n94. '&lt;= Media'\n95. '&gt; Media'\n96. '&lt;= Media'\n97. '&lt;= Media'\n98. '&gt; Media'\n99. '&lt;= Media'\n100. '&lt;= Media'\n\n\n",
            "text/latex": "\\begin{enumerate*}\n\\item '<= Media'\n\\item '> Media'\n\\item '<= Media'\n\\item '<= Media'\n\\item '> Media'\n\\item '<= Media'\n\\item '<= Media'\n\\item '> Media'\n\\item '<= Media'\n\\item '<= Media'\n\\item '<= Media'\n\\item '> Media'\n\\item '> Media'\n\\item '<= Media'\n\\item '> Media'\n\\item '> Media'\n\\item '> Media'\n\\item '> Media'\n\\item '> Media'\n\\item '<= Media'\n\\item '> Media'\n\\item '<= Media'\n\\item '> Media'\n\\item '> Media'\n\\item '> Media'\n\\item '> Media'\n\\item '> Media'\n\\item '> Media'\n\\item '> Media'\n\\item '> Media'\n\\item '> Media'\n\\item '> Media'\n\\item '> Media'\n\\item '> Media'\n\\item '<= Media'\n\\item '> Media'\n\\item '> Media'\n\\item '<= Media'\n\\item '> Media'\n\\item '> Media'\n\\item '<= Media'\n\\item '> Media'\n\\item '<= Media'\n\\item '<= Media'\n\\item '<= Media'\n\\item '> Media'\n\\item '<= Media'\n\\item '> Media'\n\\item '> Media'\n\\item '<= Media'\n\\item '<= Media'\n\\item '<= Media'\n\\item '> Media'\n\\item '<= Media'\n\\item '<= Media'\n\\item '> Media'\n\\item '> Media'\n\\item '> Media'\n\\item '<= Media'\n\\item '<= Media'\n\\item '<= Media'\n\\item '> Media'\n\\item '<= Media'\n\\item '> Media'\n\\item '<= Media'\n\\item '> Media'\n\\item '> Media'\n\\item '<= Media'\n\\item '> Media'\n\\item '> Media'\n\\item '> Media'\n\\item '> Media'\n\\item '> Media'\n\\item '<= Media'\n\\item '> Media'\n\\item '> Media'\n\\item '> Media'\n\\item '<= Media'\n\\item '> Media'\n\\item '<= Media'\n\\item '<= Media'\n\\item '<= Media'\n\\item '> Media'\n\\item '> Media'\n\\item '<= Media'\n\\item '<= Media'\n\\item '<= Media'\n\\item '<= Media'\n\\item '<= Media'\n\\item '> Media'\n\\item '<= Media'\n\\item '> Media'\n\\item '> Media'\n\\item '<= Media'\n\\item '> Media'\n\\item '<= Media'\n\\item '<= Media'\n\\item '> Media'\n\\item '<= Media'\n\\item '<= Media'\n\\end{enumerate*}\n",
            "text/plain": [
              "  [1] \"<= Media\" \"> Media\"  \"<= Media\" \"<= Media\" \"> Media\"  \"<= Media\"\n",
              "  [7] \"<= Media\" \"> Media\"  \"<= Media\" \"<= Media\" \"<= Media\" \"> Media\" \n",
              " [13] \"> Media\"  \"<= Media\" \"> Media\"  \"> Media\"  \"> Media\"  \"> Media\" \n",
              " [19] \"> Media\"  \"<= Media\" \"> Media\"  \"<= Media\" \"> Media\"  \"> Media\" \n",
              " [25] \"> Media\"  \"> Media\"  \"> Media\"  \"> Media\"  \"> Media\"  \"> Media\" \n",
              " [31] \"> Media\"  \"> Media\"  \"> Media\"  \"> Media\"  \"<= Media\" \"> Media\" \n",
              " [37] \"> Media\"  \"<= Media\" \"> Media\"  \"> Media\"  \"<= Media\" \"> Media\" \n",
              " [43] \"<= Media\" \"<= Media\" \"<= Media\" \"> Media\"  \"<= Media\" \"> Media\" \n",
              " [49] \"> Media\"  \"<= Media\" \"<= Media\" \"<= Media\" \"> Media\"  \"<= Media\"\n",
              " [55] \"<= Media\" \"> Media\"  \"> Media\"  \"> Media\"  \"<= Media\" \"<= Media\"\n",
              " [61] \"<= Media\" \"> Media\"  \"<= Media\" \"> Media\"  \"<= Media\" \"> Media\" \n",
              " [67] \"> Media\"  \"<= Media\" \"> Media\"  \"> Media\"  \"> Media\"  \"> Media\" \n",
              " [73] \"> Media\"  \"<= Media\" \"> Media\"  \"> Media\"  \"> Media\"  \"<= Media\"\n",
              " [79] \"> Media\"  \"<= Media\" \"<= Media\" \"<= Media\" \"> Media\"  \"> Media\" \n",
              " [85] \"<= Media\" \"<= Media\" \"<= Media\" \"<= Media\" \"<= Media\" \"> Media\" \n",
              " [91] \"<= Media\" \"> Media\"  \"> Media\"  \"<= Media\" \"> Media\"  \"<= Media\"\n",
              " [97] \"<= Media\" \"> Media\"  \"<= Media\" \"<= Media\""
            ]
          },
          "metadata": {}
        }
      ]
    },
    {
      "cell_type": "code",
      "source": [
        "z_dicotomica <- ifelse(z > mean(z), \"> Media\", \"<= Media\" )"
      ],
      "metadata": {
        "id": "X_Bx4y01bXDJ"
      },
      "execution_count": 28,
      "outputs": []
    },
    {
      "cell_type": "code",
      "source": [
        "table(z_dicotomica)"
      ],
      "metadata": {
        "colab": {
          "base_uri": "https://localhost:8080/",
          "height": 70
        },
        "id": "WYVOoEGefBcH",
        "outputId": "8fd3e406-4c85-4429-bb18-bb90c9fe1c4e"
      },
      "execution_count": 29,
      "outputs": [
        {
          "output_type": "display_data",
          "data": {
            "text/plain": [
              "z_dicotomica\n",
              "<= Media  > Media \n",
              "      49       51 "
            ]
          },
          "metadata": {}
        }
      ]
    },
    {
      "cell_type": "code",
      "source": [
        "for (i in 0:9){\n",
        "  print(i)\n",
        "}"
      ],
      "metadata": {
        "colab": {
          "base_uri": "https://localhost:8080/"
        },
        "id": "UlrAIbu6fHF-",
        "outputId": "338f2591-e24a-4d14-80cc-0ab1ad5e57a2"
      },
      "execution_count": 30,
      "outputs": [
        {
          "output_type": "stream",
          "name": "stdout",
          "text": [
            "[1] 0\n",
            "[1] 1\n",
            "[1] 2\n",
            "[1] 3\n",
            "[1] 4\n",
            "[1] 5\n",
            "[1] 6\n",
            "[1] 7\n",
            "[1] 8\n",
            "[1] 9\n"
          ]
        }
      ]
    },
    {
      "cell_type": "code",
      "source": [
        "x <- c(2,5,3,9,8,11,6)\n"
      ],
      "metadata": {
        "id": "cHhd8uh_iGkJ"
      },
      "execution_count": 31,
      "outputs": []
    },
    {
      "cell_type": "code",
      "source": [
        "x"
      ],
      "metadata": {
        "colab": {
          "base_uri": "https://localhost:8080/",
          "height": 34
        },
        "id": "T_pHP8nrkUhH",
        "outputId": "664ace83-1c91-4293-e849-a1fc207c28b4"
      },
      "execution_count": 32,
      "outputs": [
        {
          "output_type": "display_data",
          "data": {
            "text/html": [
              "<style>\n",
              ".list-inline {list-style: none; margin:0; padding: 0}\n",
              ".list-inline>li {display: inline-block}\n",
              ".list-inline>li:not(:last-child)::after {content: \"\\00b7\"; padding: 0 .5ex}\n",
              "</style>\n",
              "<ol class=list-inline><li>2</li><li>5</li><li>3</li><li>9</li><li>8</li><li>11</li><li>6</li></ol>\n"
            ],
            "text/markdown": "1. 2\n2. 5\n3. 3\n4. 9\n5. 8\n6. 11\n7. 6\n\n\n",
            "text/latex": "\\begin{enumerate*}\n\\item 2\n\\item 5\n\\item 3\n\\item 9\n\\item 8\n\\item 11\n\\item 6\n\\end{enumerate*}\n",
            "text/plain": [
              "[1]  2  5  3  9  8 11  6"
            ]
          },
          "metadata": {}
        }
      ]
    },
    {
      "cell_type": "code",
      "source": [
        "count <- 0\n",
        "for (val in x) {\n",
        "   if(val %% 2 == 0){\n",
        "      count = count+1  \n",
        "   }  \n",
        "}\n",
        "print(count)"
      ],
      "metadata": {
        "colab": {
          "base_uri": "https://localhost:8080/"
        },
        "id": "1a33fSOhirj-",
        "outputId": "c8a5af73-c504-41e0-db77-34465446d655"
      },
      "execution_count": 33,
      "outputs": [
        {
          "output_type": "stream",
          "name": "stdout",
          "text": [
            "[1] 3\n"
          ]
        }
      ]
    },
    {
      "cell_type": "code",
      "source": [
        "i <- 1\n",
        "while (i < 6){\n",
        "   print(i)\n",
        "   i = i+1\n",
        "}"
      ],
      "metadata": {
        "colab": {
          "base_uri": "https://localhost:8080/"
        },
        "id": "E-anUz2ylDWk",
        "outputId": "8573e291-4cce-41ae-b922-61d484d79076"
      },
      "execution_count": 34,
      "outputs": [
        {
          "output_type": "stream",
          "name": "stdout",
          "text": [
            "[1] 1\n",
            "[1] 2\n",
            "[1] 3\n",
            "[1] 4\n",
            "[1] 5\n"
          ]
        }
      ]
    },
    {
      "cell_type": "code",
      "source": [
        "#i <- 1\n",
        "#while (i < 6){\n",
        "#   print(i)   \n",
        "#}\n",
        "# advertencia bucle infinito"
      ],
      "metadata": {
        "id": "7nT8SnDBmBwn"
      },
      "execution_count": 2,
      "outputs": []
    },
    {
      "cell_type": "code",
      "source": [
        ""
      ],
      "metadata": {
        "id": "V7oNcE7wmGv0"
      },
      "execution_count": null,
      "outputs": []
    }
  ]
}