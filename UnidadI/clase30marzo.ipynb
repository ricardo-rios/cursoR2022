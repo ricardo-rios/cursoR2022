{
  "nbformat": 4,
  "nbformat_minor": 0,
  "metadata": {
    "colab": {
      "name": "clase30marzo.ipynb",
      "provenance": [],
      "collapsed_sections": []
    },
    "kernelspec": {
      "name": "ir",
      "display_name": "R"
    },
    "language_info": {
      "name": "R"
    }
  },
  "cells": [
    {
      "cell_type": "markdown",
      "source": [
        "# Bucle repeat "
      ],
      "metadata": {
        "id": "zGqdWlcJWcKy"
      }
    },
    {
      "cell_type": "code",
      "source": [
        "x <- 1 \n",
        "\n",
        "repeat{\n",
        "  \n",
        "  print(x)\n",
        "  x <- x +1 \n",
        "\n",
        "  if(x == 6){\n",
        "    break\n",
        "  }\n",
        "\n",
        "\n",
        "}"
      ],
      "metadata": {
        "colab": {
          "base_uri": "https://localhost:8080/"
        },
        "id": "iiknIpawWdx_",
        "outputId": "9dd7e56c-d4a4-4b22-8b96-d2b052b454c6"
      },
      "execution_count": 1,
      "outputs": [
        {
          "output_type": "stream",
          "name": "stdout",
          "text": [
            "[1] 1\n",
            "[1] 2\n",
            "[1] 3\n",
            "[1] 4\n",
            "[1] 5\n"
          ]
        }
      ]
    },
    {
      "cell_type": "code",
      "source": [
        "# Equivalente al bucle anterior pero más legible.\n",
        "for(i in 1:5){\n",
        "  print(i)\n",
        "}"
      ],
      "metadata": {
        "colab": {
          "base_uri": "https://localhost:8080/"
        },
        "id": "Feop-3GpWsUF",
        "outputId": "69a82425-8f0d-48ba-ea65-e232acd8ff8e"
      },
      "execution_count": 2,
      "outputs": [
        {
          "output_type": "stream",
          "name": "stdout",
          "text": [
            "[1] 1\n",
            "[1] 2\n",
            "[1] 3\n",
            "[1] 4\n",
            "[1] 5\n"
          ]
        }
      ]
    },
    {
      "cell_type": "markdown",
      "source": [
        "**Ejercicio**: Usando estructuras de repetición y de control flujo crear un código que nos diga si el número 8128 es un número perfecto. Un número perfecto es aquel que es igual a la suma de sus divisores, por ejemplo 6 = 1 + 2 + 3 por lo que 6 es perfecto."
      ],
      "metadata": {
        "id": "K8y_G2UjX9yt"
      }
    },
    {
      "cell_type": "code",
      "source": [
        "10 %% 2  # recordamos que con el operador %% puedo \n",
        "         # saber los divisores.\n",
        "         # 2 es divisor de 10 por que tiene 10 entre 2 tiene residuo 0."
      ],
      "metadata": {
        "colab": {
          "base_uri": "https://localhost:8080/",
          "height": 34
        },
        "id": "uYdREeeIYb0m",
        "outputId": "df1049d5-3d55-4ca3-f516-37e826c19d0b"
      },
      "execution_count": 6,
      "outputs": [
        {
          "output_type": "display_data",
          "data": {
            "text/html": [
              "0"
            ],
            "text/markdown": "0",
            "text/latex": "0",
            "text/plain": [
              "[1] 0"
            ]
          },
          "metadata": {}
        }
      ]
    },
    {
      "cell_type": "code",
      "source": [
        "10 %% 3 "
      ],
      "metadata": {
        "colab": {
          "base_uri": "https://localhost:8080/",
          "height": 34
        },
        "id": "Y_SlNSfObDrt",
        "outputId": "a2161d6b-8e43-41c0-9d6b-ecad41a5877b"
      },
      "execution_count": 7,
      "outputs": [
        {
          "output_type": "display_data",
          "data": {
            "text/html": [
              "1"
            ],
            "text/markdown": "1",
            "text/latex": "1",
            "text/plain": [
              "[1] 1"
            ]
          },
          "metadata": {}
        }
      ]
    },
    {
      "cell_type": "code",
      "source": [
        "15/2"
      ],
      "metadata": {
        "colab": {
          "base_uri": "https://localhost:8080/",
          "height": 34
        },
        "id": "SZRMqc-dbvQu",
        "outputId": "d33e1721-27a6-47ba-ce24-a314603a03df"
      },
      "execution_count": 8,
      "outputs": [
        {
          "output_type": "display_data",
          "data": {
            "text/html": [
              "7.5"
            ],
            "text/markdown": "7.5",
            "text/latex": "7.5",
            "text/plain": [
              "[1] 7.5"
            ]
          },
          "metadata": {}
        }
      ]
    },
    {
      "cell_type": "code",
      "source": [
        "as.integer(15/2)"
      ],
      "metadata": {
        "colab": {
          "base_uri": "https://localhost:8080/",
          "height": 34
        },
        "id": "4SPwwx9Ub0dV",
        "outputId": "268d9b89-4a47-417b-d413-497f6374285a"
      },
      "execution_count": 9,
      "outputs": [
        {
          "output_type": "display_data",
          "data": {
            "text/html": [
              "7"
            ],
            "text/markdown": "7",
            "text/latex": "7",
            "text/plain": [
              "[1] 7"
            ]
          },
          "metadata": {}
        }
      ]
    },
    {
      "cell_type": "code",
      "source": [
        "as.integer(7.8)"
      ],
      "metadata": {
        "colab": {
          "base_uri": "https://localhost:8080/",
          "height": 34
        },
        "id": "0rrHY7ytcBAU",
        "outputId": "378a9147-41d0-43a2-b533-93fde1a63eca"
      },
      "execution_count": 10,
      "outputs": [
        {
          "output_type": "display_data",
          "data": {
            "text/html": [
              "7"
            ],
            "text/markdown": "7",
            "text/latex": "7",
            "text/plain": [
              "[1] 7"
            ]
          },
          "metadata": {}
        }
      ]
    },
    {
      "cell_type": "code",
      "source": [
        "n <- 8128\n",
        "\n",
        "i <- as.integer(n/2)\n",
        "suma <- 0 \n",
        "\n",
        "while( i >= 1  ){\n",
        "\n",
        "  if ( n %% i == 0){\n",
        "    cat(\"Divisor: \", i, \"\\n\")\n",
        "    suma <- suma + i \n",
        "  }\n",
        "\n",
        "  i <- i - 1\n",
        "\n",
        "}\n",
        "\n",
        "if ( n == suma ){\n",
        "  cat(\"El número \", n, \"es un número perfecto\" )\n",
        "} else{\n",
        "  cat(\"El número \", n, \"no es un número perfecto\" )\n",
        "}"
      ],
      "metadata": {
        "colab": {
          "base_uri": "https://localhost:8080/"
        },
        "id": "LVCTbfgDbbTk",
        "outputId": "092d8482-b395-47a6-b124-aa11c054a373"
      },
      "execution_count": 17,
      "outputs": [
        {
          "output_type": "stream",
          "name": "stdout",
          "text": [
            "Divisor:  4064 \n",
            "Divisor:  2032 \n",
            "Divisor:  1016 \n",
            "Divisor:  508 \n",
            "Divisor:  254 \n",
            "Divisor:  127 \n",
            "Divisor:  64 \n",
            "Divisor:  32 \n",
            "Divisor:  16 \n",
            "Divisor:  8 \n",
            "Divisor:  4 \n",
            "Divisor:  2 \n",
            "Divisor:  1 \n",
            "El número  8128 es un número perfecto"
          ]
        }
      ]
    },
    {
      "cell_type": "markdown",
      "source": [
        "# Funciones\n",
        "\n",
        "A continuación mostramos un ejemplo de función."
      ],
      "metadata": {
        "id": "d8DJCJ30ennX"
      }
    },
    {
      "cell_type": "code",
      "source": [
        "pow <- function(x, y){\n",
        "\n",
        "  # function that prints x raised to the power y \n",
        "  result <- x^y \n",
        "  print(paste(x, \"raised to the power\", y, \"is\", result))\n",
        "  \n",
        "}"
      ],
      "metadata": {
        "id": "-WF3z0D_gK5M"
      },
      "execution_count": 18,
      "outputs": []
    },
    {
      "cell_type": "code",
      "source": [
        "pow(8, 2)"
      ],
      "metadata": {
        "colab": {
          "base_uri": "https://localhost:8080/"
        },
        "id": "ryUKDfQ7g1QC",
        "outputId": "00639d2d-3b9a-46bd-dee4-8c5a21cc7ab9"
      },
      "execution_count": 19,
      "outputs": [
        {
          "output_type": "stream",
          "name": "stdout",
          "text": [
            "[1] \"8 raised to the power 2 is 64\"\n"
          ]
        }
      ]
    },
    {
      "cell_type": "code",
      "source": [
        "pow(2, 8)"
      ],
      "metadata": {
        "colab": {
          "base_uri": "https://localhost:8080/"
        },
        "id": "8llhX7gahXSV",
        "outputId": "b7d00378-8c89-4587-eb86-b977f51920aa"
      },
      "execution_count": 20,
      "outputs": [
        {
          "output_type": "stream",
          "name": "stdout",
          "text": [
            "[1] \"2 raised to the power 8 is 256\"\n"
          ]
        }
      ]
    },
    {
      "cell_type": "code",
      "source": [
        "pow(8, 2)\n",
        "pow(x=8, y=2)\n",
        "pow(y=2, x=8)"
      ],
      "metadata": {
        "colab": {
          "base_uri": "https://localhost:8080/"
        },
        "id": "jy3zhjFbhkOa",
        "outputId": "544f3ede-0aab-40d7-b6d0-e67805f6b461"
      },
      "execution_count": 22,
      "outputs": [
        {
          "output_type": "stream",
          "name": "stdout",
          "text": [
            "[1] \"8 raised to the power 2 is 64\"\n",
            "[1] \"8 raised to the power 2 is 64\"\n",
            "[1] \"8 raised to the power 2 is 64\"\n"
          ]
        }
      ]
    },
    {
      "cell_type": "code",
      "source": [
        "pow(x=8, 2)"
      ],
      "metadata": {
        "colab": {
          "base_uri": "https://localhost:8080/"
        },
        "id": "QCaGbmRtjJU6",
        "outputId": "44af6a7d-9cb5-4910-998c-41a68e2aed8d"
      },
      "execution_count": 23,
      "outputs": [
        {
          "output_type": "stream",
          "name": "stdout",
          "text": [
            "[1] \"8 raised to the power 2 is 64\"\n"
          ]
        }
      ]
    },
    {
      "cell_type": "code",
      "source": [
        "pow(2, x=8)"
      ],
      "metadata": {
        "colab": {
          "base_uri": "https://localhost:8080/"
        },
        "id": "Ez6-_ZBAl1aQ",
        "outputId": "8de689f6-6658-4666-fae1-7ed38422cdb7"
      },
      "execution_count": 24,
      "outputs": [
        {
          "output_type": "stream",
          "name": "stdout",
          "text": [
            "[1] \"8 raised to the power 2 is 64\"\n"
          ]
        }
      ]
    },
    {
      "cell_type": "code",
      "source": [
        "pow <- function(x, y=2){\n",
        "\n",
        "  # function that prints x raised to the power y \n",
        "  result <- x^y \n",
        "  print(paste(x, \"raised to the power\", y, \"is\", result))\n",
        "  \n",
        "}"
      ],
      "metadata": {
        "id": "VHERSggZl4WP"
      },
      "execution_count": 25,
      "outputs": []
    },
    {
      "cell_type": "code",
      "source": [
        "pow(3)"
      ],
      "metadata": {
        "colab": {
          "base_uri": "https://localhost:8080/"
        },
        "id": "wr4gTLtDnCtM",
        "outputId": "e3c4701a-b17b-4f18-cb20-94f135a0c294"
      },
      "execution_count": 26,
      "outputs": [
        {
          "output_type": "stream",
          "name": "stdout",
          "text": [
            "[1] \"3 raised to the power 2 is 9\"\n"
          ]
        }
      ]
    },
    {
      "cell_type": "code",
      "source": [
        "pow(3, 1)"
      ],
      "metadata": {
        "colab": {
          "base_uri": "https://localhost:8080/"
        },
        "id": "9Yp9p-4KnIj0",
        "outputId": "e7b994d2-b1eb-473d-fb00-715cf8ca0d0d"
      },
      "execution_count": 27,
      "outputs": [
        {
          "output_type": "stream",
          "name": "stdout",
          "text": [
            "[1] \"3 raised to the power 1 is 3\"\n"
          ]
        }
      ]
    },
    {
      "cell_type": "code",
      "source": [
        "check <- function(x){\n",
        "\n",
        "  if (x > 0){\n",
        "    result <- \"Positive\"\n",
        "  } else if(x < 0){\n",
        "    result <- \"Negative\"\n",
        "  } else{\n",
        "    result <- \"Zero\"\n",
        "  }\n",
        "\n",
        "  return(result)\n",
        "\n",
        "}"
      ],
      "metadata": {
        "id": "K5GxmK_YnLrP"
      },
      "execution_count": 28,
      "outputs": []
    },
    {
      "cell_type": "code",
      "source": [
        "check(1)"
      ],
      "metadata": {
        "colab": {
          "base_uri": "https://localhost:8080/",
          "height": 34
        },
        "id": "OTdPpVnBo3Sn",
        "outputId": "034888d2-9a6b-4d1c-a5d6-385eba82f1ec"
      },
      "execution_count": 29,
      "outputs": [
        {
          "output_type": "display_data",
          "data": {
            "text/html": [
              "'Positive'"
            ],
            "text/markdown": "'Positive'",
            "text/latex": "'Positive'",
            "text/plain": [
              "[1] \"Positive\""
            ]
          },
          "metadata": {}
        }
      ]
    },
    {
      "cell_type": "code",
      "source": [
        "check(-10)"
      ],
      "metadata": {
        "colab": {
          "base_uri": "https://localhost:8080/",
          "height": 34
        },
        "id": "BfvIn8hQo9XP",
        "outputId": "87493e0f-76e6-4ba9-bacf-8a3457912621"
      },
      "execution_count": 30,
      "outputs": [
        {
          "output_type": "display_data",
          "data": {
            "text/html": [
              "'Negative'"
            ],
            "text/markdown": "'Negative'",
            "text/latex": "'Negative'",
            "text/plain": [
              "[1] \"Negative\""
            ]
          },
          "metadata": {}
        }
      ]
    },
    {
      "cell_type": "code",
      "source": [
        "check(0)"
      ],
      "metadata": {
        "colab": {
          "base_uri": "https://localhost:8080/",
          "height": 34
        },
        "id": "HbgGPJO7o-dm",
        "outputId": "87a07b12-5d35-44d1-9b0a-2502a3fb33b5"
      },
      "execution_count": 31,
      "outputs": [
        {
          "output_type": "display_data",
          "data": {
            "text/html": [
              "'Zero'"
            ],
            "text/markdown": "'Zero'",
            "text/latex": "'Zero'",
            "text/plain": [
              "[1] \"Zero\""
            ]
          },
          "metadata": {}
        }
      ]
    },
    {
      "cell_type": "code",
      "source": [
        ""
      ],
      "metadata": {
        "id": "VbQLiW-Yo_Lf"
      },
      "execution_count": null,
      "outputs": []
    }
  ]
}