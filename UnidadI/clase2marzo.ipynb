{
  "nbformat": 4,
  "nbformat_minor": 0,
  "metadata": {
    "colab": {
      "name": "clase2marzo.ipynb",
      "provenance": [],
      "collapsed_sections": []
    },
    "kernelspec": {
      "name": "ir",
      "display_name": "R"
    },
    "language_info": {
      "name": "R"
    }
  },
  "cells": [
    {
      "cell_type": "code",
      "execution_count": null,
      "metadata": {
        "id": "9CKKx-BhEzNX",
        "colab": {
          "base_uri": "https://localhost:8080/",
          "height": 34
        },
        "outputId": "2f270182-c202-4704-86a9-3331e830be65"
      },
      "outputs": [
        {
          "output_type": "display_data",
          "data": {
            "text/plain": [
              "[1] 2"
            ],
            "text/latex": "2",
            "text/markdown": "2",
            "text/html": [
              "2"
            ]
          },
          "metadata": {}
        }
      ],
      "source": [
        "1 + 1 "
      ]
    },
    {
      "cell_type": "markdown",
      "source": [
        "# Ejemplo de markdown \n",
        "\n",
        "Esto es una prueba \n",
        "## Titulo 2\n",
        "\n",
        "Esto es una prueba \n",
        "\n",
        "## Titulo 3\n",
        "\n",
        "Esto es una prueba \n",
        "\n",
        "\n",
        "# Titulo 4\n",
        "\n",
        "[Enlace](https://google.com)\n",
        "\n",
        "$$ z^2 = x^2 + y^2  $$\n",
        "\n",
        "Esta es una ecuación $ \\alpha = \\beta + 1 $.\n",
        "\n",
        "\n",
        "| Altura | Peso |\n",
        "|--------|------|\n",
        "| 1.7    | 150  |\n"
      ],
      "metadata": {
        "id": "SLuO6KIEGub-"
      }
    },
    {
      "cell_type": "markdown",
      "source": [
        "# Operadores en R "
      ],
      "metadata": {
        "id": "fUnND873LPog"
      }
    },
    {
      "cell_type": "code",
      "source": [
        "2 + 2"
      ],
      "metadata": {
        "colab": {
          "base_uri": "https://localhost:8080/",
          "height": 34
        },
        "id": "B-PakVg0LShG",
        "outputId": "bbbbcf4a-6ab0-401c-9e93-22597dc6e6e5"
      },
      "execution_count": null,
      "outputs": [
        {
          "output_type": "display_data",
          "data": {
            "text/plain": [
              "[1] 4"
            ],
            "text/latex": "4",
            "text/markdown": "4",
            "text/html": [
              "4"
            ]
          },
          "metadata": {}
        }
      ]
    },
    {
      "cell_type": "code",
      "source": [
        "1 + 2 * 3 "
      ],
      "metadata": {
        "colab": {
          "base_uri": "https://localhost:8080/",
          "height": 34
        },
        "id": "7xYwZqQZLTyi",
        "outputId": "c30d90df-6f03-41f5-e35d-e4ee98663dc6"
      },
      "execution_count": null,
      "outputs": [
        {
          "output_type": "display_data",
          "data": {
            "text/plain": [
              "[1] 7"
            ],
            "text/latex": "7",
            "text/markdown": "7",
            "text/html": [
              "7"
            ]
          },
          "metadata": {}
        }
      ]
    },
    {
      "cell_type": "code",
      "source": [
        "(1 + 2) * 3 "
      ],
      "metadata": {
        "colab": {
          "base_uri": "https://localhost:8080/",
          "height": 34
        },
        "id": "tJ6O7I35LWM3",
        "outputId": "2fa7b02e-800e-4be1-c531-ff17badf26cf"
      },
      "execution_count": null,
      "outputs": [
        {
          "output_type": "display_data",
          "data": {
            "text/plain": [
              "[1] 9"
            ],
            "text/latex": "9",
            "text/markdown": "9",
            "text/html": [
              "9"
            ]
          },
          "metadata": {}
        }
      ]
    },
    {
      "cell_type": "code",
      "source": [
        "(2 * 2) == 4"
      ],
      "metadata": {
        "colab": {
          "base_uri": "https://localhost:8080/",
          "height": 34
        },
        "id": "9YrnGV_KLmuU",
        "outputId": "263f40b0-0117-4a80-a932-8728a63caeff"
      },
      "execution_count": null,
      "outputs": [
        {
          "output_type": "display_data",
          "data": {
            "text/plain": [
              "[1] TRUE"
            ],
            "text/latex": "TRUE",
            "text/markdown": "TRUE",
            "text/html": [
              "TRUE"
            ]
          },
          "metadata": {}
        }
      ]
    },
    {
      "cell_type": "code",
      "source": [
        "pi "
      ],
      "metadata": {
        "colab": {
          "base_uri": "https://localhost:8080/",
          "height": 34
        },
        "id": "nAO-47FpLzid",
        "outputId": "ebcc885d-ac9d-4929-9367-b5030a3f3402"
      },
      "execution_count": null,
      "outputs": [
        {
          "output_type": "display_data",
          "data": {
            "text/plain": [
              "[1] 3.141593"
            ],
            "text/latex": "3.14159265358979",
            "text/markdown": "3.14159265358979",
            "text/html": [
              "3.14159265358979"
            ]
          },
          "metadata": {}
        }
      ]
    },
    {
      "cell_type": "code",
      "source": [
        "pi >= 10"
      ],
      "metadata": {
        "colab": {
          "base_uri": "https://localhost:8080/",
          "height": 34
        },
        "id": "yRw6-AuLMLRs",
        "outputId": "8734043b-052a-4b70-dd21-5d2f19e02d31"
      },
      "execution_count": null,
      "outputs": [
        {
          "output_type": "display_data",
          "data": {
            "text/plain": [
              "[1] FALSE"
            ],
            "text/latex": "FALSE",
            "text/markdown": "FALSE",
            "text/html": [
              "FALSE"
            ]
          },
          "metadata": {}
        }
      ]
    },
    {
      "cell_type": "code",
      "source": [
        "pi < 1"
      ],
      "metadata": {
        "colab": {
          "base_uri": "https://localhost:8080/",
          "height": 34
        },
        "id": "rc8fzYsIMNXT",
        "outputId": "e4b3d176-07a6-4547-e029-b80b69bd35a5"
      },
      "execution_count": null,
      "outputs": [
        {
          "output_type": "display_data",
          "data": {
            "text/plain": [
              "[1] FALSE"
            ],
            "text/latex": "FALSE",
            "text/markdown": "FALSE",
            "text/html": [
              "FALSE"
            ]
          },
          "metadata": {}
        }
      ]
    },
    {
      "cell_type": "markdown",
      "source": [
        "# Variables\n",
        "\n",
        "Digamos que una persona pesa 55 kilogramos y queremos almacenar esta información en una variable, esto lo podes hacer de la siguiente manera. "
      ],
      "metadata": {
        "id": "Q65sTJAuMY3M"
      }
    },
    {
      "cell_type": "code",
      "source": [
        "weight_kg1 = 55"
      ],
      "metadata": {
        "id": "bY48aiNKMbiG"
      },
      "execution_count": null,
      "outputs": []
    },
    {
      "cell_type": "code",
      "source": [
        "weight_kg2 <- 55"
      ],
      "metadata": {
        "id": "Cyf-23ohMwOG"
      },
      "execution_count": null,
      "outputs": []
    },
    {
      "cell_type": "code",
      "source": [
        "weight_kg1 == weight_kg2"
      ],
      "metadata": {
        "colab": {
          "base_uri": "https://localhost:8080/",
          "height": 34
        },
        "id": "g926ujvMNFoW",
        "outputId": "16a3ad39-c468-4b81-c5c2-daabc4e3d092"
      },
      "execution_count": null,
      "outputs": [
        {
          "output_type": "display_data",
          "data": {
            "text/plain": [
              "[1] TRUE"
            ],
            "text/latex": "TRUE",
            "text/markdown": "TRUE",
            "text/html": [
              "TRUE"
            ]
          },
          "metadata": {}
        }
      ]
    },
    {
      "cell_type": "markdown",
      "source": [
        "De aqui en adelante vamos a usar el operador de asignación <- en lugar del =. La elección de esto es por conveniencia, sin embargo, en un ambiente profesional se le podria dar mas prioridad al =. "
      ],
      "metadata": {
        "id": "K3P7noaLPcft"
      }
    },
    {
      "cell_type": "code",
      "source": [
        "hola mundo <- 10 # no es un nombre valido de variable."
      ],
      "metadata": {
        "colab": {
          "base_uri": "https://localhost:8080/",
          "height": 134
        },
        "id": "0dLhwVhYNIMH",
        "outputId": "76c71f5a-ded5-461e-cd05-fe8bcb04be08"
      },
      "execution_count": null,
      "outputs": [
        {
          "output_type": "error",
          "ename": "ERROR",
          "evalue": "ignored",
          "traceback": [
            "Error in parse(text = x, srcfile = src): <text>:1:6: unexpected symbol\n1: hola mundo\n         ^\nTraceback:\n"
          ]
        }
      ]
    },
    {
      "cell_type": "code",
      "source": [
        "canción <- \"el himno de la alegria\""
      ],
      "metadata": {
        "id": "fIE9ZlbKPbcu"
      },
      "execution_count": null,
      "outputs": []
    },
    {
      "cell_type": "code",
      "source": [
        "canción"
      ],
      "metadata": {
        "colab": {
          "base_uri": "https://localhost:8080/",
          "height": 34
        },
        "id": "JKcDLcoiP4Nc",
        "outputId": "f9386130-5843-4f7b-e504-4121a3ac1692"
      },
      "execution_count": null,
      "outputs": [
        {
          "output_type": "display_data",
          "data": {
            "text/plain": [
              "[1] \"el himno de la alegria\""
            ],
            "text/latex": "'el himno de la alegria'",
            "text/markdown": "'el himno de la alegria'",
            "text/html": [
              "'el himno de la alegria'"
            ]
          },
          "metadata": {}
        }
      ]
    },
    {
      "cell_type": "markdown",
      "source": [
        "Poner acentos en las variables es una mala práctica, no lo hagan puede crear confusión con personas que no hablen español. "
      ],
      "metadata": {
        "id": "-j2geMluP7YB"
      }
    },
    {
      "cell_type": "code",
      "source": [
        "2.2 * weight_kg1 # haciendo aritmetica con variables"
      ],
      "metadata": {
        "colab": {
          "base_uri": "https://localhost:8080/",
          "height": 34
        },
        "id": "k3MZwcTMP6I0",
        "outputId": "0f5ae1b7-7b3f-4e50-c1d7-9c3f5c306dd0"
      },
      "execution_count": null,
      "outputs": [
        {
          "output_type": "display_data",
          "data": {
            "text/plain": [
              "[1] 121"
            ],
            "text/latex": "121",
            "text/markdown": "121",
            "text/html": [
              "121"
            ]
          },
          "metadata": {}
        }
      ]
    },
    {
      "cell_type": "code",
      "source": [
        "weight_kg1 <- 57.5 # reasignando valores \n",
        "weight_kg1"
      ],
      "metadata": {
        "colab": {
          "base_uri": "https://localhost:8080/",
          "height": 34
        },
        "id": "5xJqSNgBQiZE",
        "outputId": "3e8b82e2-1e13-4268-cd51-61e51ef36d16"
      },
      "execution_count": null,
      "outputs": [
        {
          "output_type": "display_data",
          "data": {
            "text/plain": [
              "[1] 57.5"
            ],
            "text/latex": "57.5",
            "text/markdown": "57.5",
            "text/html": [
              "57.5"
            ]
          },
          "metadata": {}
        }
      ]
    },
    {
      "cell_type": "code",
      "source": [
        "weight_kg1 <- 2.2 * weight_kg1\n",
        "weight_kg1 "
      ],
      "metadata": {
        "colab": {
          "base_uri": "https://localhost:8080/",
          "height": 34
        },
        "id": "sdLcjxtEQvz_",
        "outputId": "66ee1b62-b1a2-4423-a020-2a84ae2fb8c6"
      },
      "execution_count": null,
      "outputs": [
        {
          "output_type": "display_data",
          "data": {
            "text/plain": [
              "[1] 126.5"
            ],
            "text/latex": "126.5",
            "text/markdown": "126.5",
            "text/html": [
              "126.5"
            ]
          },
          "metadata": {}
        }
      ]
    },
    {
      "cell_type": "code",
      "source": [
        "weight_lb1 <- 2.2 * weight_kg1\n",
        "weight_lb1\n",
        "weight_kg1"
      ],
      "metadata": {
        "colab": {
          "base_uri": "https://localhost:8080/",
          "height": 52
        },
        "id": "cI_76BGOQ2TG",
        "outputId": "b712f5c9-c23a-46fb-89a3-d5aa76d8b15b"
      },
      "execution_count": null,
      "outputs": [
        {
          "output_type": "display_data",
          "data": {
            "text/plain": [
              "[1] 278.3"
            ],
            "text/latex": "278.3",
            "text/markdown": "278.3",
            "text/html": [
              "278.3"
            ]
          },
          "metadata": {}
        },
        {
          "output_type": "display_data",
          "data": {
            "text/plain": [
              "[1] 126.5"
            ],
            "text/latex": "126.5",
            "text/markdown": "126.5",
            "text/html": [
              "126.5"
            ]
          },
          "metadata": {}
        }
      ]
    },
    {
      "cell_type": "code",
      "source": [
        "weight_kg1 <- 100.0 \n",
        "weight_kg1"
      ],
      "metadata": {
        "colab": {
          "base_uri": "https://localhost:8080/",
          "height": 34
        },
        "id": "5mNCtoSPRUb8",
        "outputId": "0908268d-8b70-4150-9915-a90485bcadb6"
      },
      "execution_count": null,
      "outputs": [
        {
          "output_type": "display_data",
          "data": {
            "text/plain": [
              "[1] 100"
            ],
            "text/latex": "100",
            "text/markdown": "100",
            "text/html": [
              "100"
            ]
          },
          "metadata": {}
        }
      ]
    },
    {
      "cell_type": "code",
      "source": [
        "weight_lb1"
      ],
      "metadata": {
        "colab": {
          "base_uri": "https://localhost:8080/",
          "height": 34
        },
        "id": "lmUGXHGzRkte",
        "outputId": "14d99a4b-fcf6-4a66-c24a-3b1d92434786"
      },
      "execution_count": null,
      "outputs": [
        {
          "output_type": "display_data",
          "data": {
            "text/plain": [
              "[1] 278.3"
            ],
            "text/latex": "278.3",
            "text/markdown": "278.3",
            "text/html": [
              "278.3"
            ]
          },
          "metadata": {}
        }
      ]
    },
    {
      "cell_type": "markdown",
      "source": [
        "# Vectores\n",
        "\n",
        "Un vector de numeros es una colección de numeros. Los miembros individuales se les llama elementos. "
      ],
      "metadata": {
        "id": "O0iAhbR-SBgF"
      }
    },
    {
      "cell_type": "code",
      "source": [
        "myvec <- c(10, 20, 30, 40, 50) # creamos un vector numerico de 5 elementos."
      ],
      "metadata": {
        "id": "RYiCfvDvSEt8"
      },
      "execution_count": null,
      "outputs": []
    },
    {
      "cell_type": "code",
      "source": [
        "myvec"
      ],
      "metadata": {
        "colab": {
          "base_uri": "https://localhost:8080/",
          "height": 34
        },
        "id": "kwhIjLT5Sde2",
        "outputId": "a23a1b5d-cc7b-4e43-d798-b40fadc3bc2a"
      },
      "execution_count": null,
      "outputs": [
        {
          "output_type": "display_data",
          "data": {
            "text/plain": [
              "[1] 10 20 30 40 50"
            ],
            "text/latex": "\\begin{enumerate*}\n\\item 10\n\\item 20\n\\item 30\n\\item 40\n\\item 50\n\\end{enumerate*}\n",
            "text/markdown": "1. 10\n2. 20\n3. 30\n4. 40\n5. 50\n\n\n",
            "text/html": [
              "<style>\n",
              ".list-inline {list-style: none; margin:0; padding: 0}\n",
              ".list-inline>li {display: inline-block}\n",
              ".list-inline>li:not(:last-child)::after {content: \"\\00b7\"; padding: 0 .5ex}\n",
              "</style>\n",
              "<ol class=list-inline><li>10</li><li>20</li><li>30</li><li>40</li><li>50</li></ol>\n"
            ]
          },
          "metadata": {}
        }
      ]
    },
    {
      "cell_type": "code",
      "source": [
        "str(myvec)"
      ],
      "metadata": {
        "colab": {
          "base_uri": "https://localhost:8080/"
        },
        "id": "Y0e_sctmSf_t",
        "outputId": "52a50383-52f9-4f0e-d003-285ea7b9dbb3"
      },
      "execution_count": null,
      "outputs": [
        {
          "output_type": "stream",
          "name": "stdout",
          "text": [
            " num [1:5] 10 20 30 40 50\n"
          ]
        }
      ]
    },
    {
      "cell_type": "code",
      "source": [
        "myvec + 1 "
      ],
      "metadata": {
        "colab": {
          "base_uri": "https://localhost:8080/",
          "height": 34
        },
        "id": "i-mtcB6rSirL",
        "outputId": "aeedff09-af2c-44ea-f0ff-d7e9522e0397"
      },
      "execution_count": null,
      "outputs": [
        {
          "output_type": "display_data",
          "data": {
            "text/plain": [
              "[1] 11 21 31 41 51"
            ],
            "text/latex": "\\begin{enumerate*}\n\\item 11\n\\item 21\n\\item 31\n\\item 41\n\\item 51\n\\end{enumerate*}\n",
            "text/markdown": "1. 11\n2. 21\n3. 31\n4. 41\n5. 51\n\n\n",
            "text/html": [
              "<style>\n",
              ".list-inline {list-style: none; margin:0; padding: 0}\n",
              ".list-inline>li {display: inline-block}\n",
              ".list-inline>li:not(:last-child)::after {content: \"\\00b7\"; padding: 0 .5ex}\n",
              "</style>\n",
              "<ol class=list-inline><li>11</li><li>21</li><li>31</li><li>41</li><li>51</li></ol>\n"
            ]
          },
          "metadata": {}
        }
      ]
    },
    {
      "cell_type": "code",
      "source": [
        "myvec + myvec "
      ],
      "metadata": {
        "colab": {
          "base_uri": "https://localhost:8080/",
          "height": 34
        },
        "id": "yzP61xUCSpcp",
        "outputId": "f3e20c90-cd6d-4af1-f179-488647c82daa"
      },
      "execution_count": null,
      "outputs": [
        {
          "output_type": "display_data",
          "data": {
            "text/plain": [
              "[1]  20  40  60  80 100"
            ],
            "text/latex": "\\begin{enumerate*}\n\\item 20\n\\item 40\n\\item 60\n\\item 80\n\\item 100\n\\end{enumerate*}\n",
            "text/markdown": "1. 20\n2. 40\n3. 60\n4. 80\n5. 100\n\n\n",
            "text/html": [
              "<style>\n",
              ".list-inline {list-style: none; margin:0; padding: 0}\n",
              ".list-inline>li {display: inline-block}\n",
              ".list-inline>li:not(:last-child)::after {content: \"\\00b7\"; padding: 0 .5ex}\n",
              "</style>\n",
              "<ol class=list-inline><li>20</li><li>40</li><li>60</li><li>80</li><li>100</li></ol>\n"
            ]
          },
          "metadata": {}
        }
      ]
    },
    {
      "cell_type": "code",
      "source": [
        "length(myvec)"
      ],
      "metadata": {
        "colab": {
          "base_uri": "https://localhost:8080/",
          "height": 34
        },
        "id": "98z279KZStMA",
        "outputId": "2d732a8a-29ee-49ee-f0bf-e85ca8a5b0ab"
      },
      "execution_count": null,
      "outputs": [
        {
          "output_type": "display_data",
          "data": {
            "text/plain": [
              "[1] 5"
            ],
            "text/latex": "5",
            "text/markdown": "5",
            "text/html": [
              "5"
            ]
          },
          "metadata": {}
        }
      ]
    },
    {
      "cell_type": "code",
      "source": [
        "c(60, myvec)"
      ],
      "metadata": {
        "colab": {
          "base_uri": "https://localhost:8080/",
          "height": 34
        },
        "id": "7hkO4fFsSv8g",
        "outputId": "3cf8c939-8364-4238-ec72-a6b43477ec0b"
      },
      "execution_count": null,
      "outputs": [
        {
          "output_type": "display_data",
          "data": {
            "text/plain": [
              "[1] 60 10 20 30 40 50"
            ],
            "text/latex": "\\begin{enumerate*}\n\\item 60\n\\item 10\n\\item 20\n\\item 30\n\\item 40\n\\item 50\n\\end{enumerate*}\n",
            "text/markdown": "1. 60\n2. 10\n3. 20\n4. 30\n5. 40\n6. 50\n\n\n",
            "text/html": [
              "<style>\n",
              ".list-inline {list-style: none; margin:0; padding: 0}\n",
              ".list-inline>li {display: inline-block}\n",
              ".list-inline>li:not(:last-child)::after {content: \"\\00b7\"; padding: 0 .5ex}\n",
              "</style>\n",
              "<ol class=list-inline><li>60</li><li>10</li><li>20</li><li>30</li><li>40</li><li>50</li></ol>\n"
            ]
          },
          "metadata": {}
        }
      ]
    },
    {
      "cell_type": "code",
      "source": [
        "myvec2 <- c(60, myvec)"
      ],
      "metadata": {
        "id": "EDAmVTM4S9Yt"
      },
      "execution_count": null,
      "outputs": []
    },
    {
      "cell_type": "code",
      "source": [
        "myvec2"
      ],
      "metadata": {
        "id": "rNhapTmkTDNx",
        "outputId": "b7259878-a523-4681-8cba-fc00802c6d22",
        "colab": {
          "base_uri": "https://localhost:8080/",
          "height": 34
        }
      },
      "execution_count": null,
      "outputs": [
        {
          "output_type": "display_data",
          "data": {
            "text/plain": [
              "[1] 60 10 20 30 40 50"
            ],
            "text/latex": "\\begin{enumerate*}\n\\item 60\n\\item 10\n\\item 20\n\\item 30\n\\item 40\n\\item 50\n\\end{enumerate*}\n",
            "text/markdown": "1. 60\n2. 10\n3. 20\n4. 30\n5. 40\n6. 50\n\n\n",
            "text/html": [
              "<style>\n",
              ".list-inline {list-style: none; margin:0; padding: 0}\n",
              ".list-inline>li {display: inline-block}\n",
              ".list-inline>li:not(:last-child)::after {content: \"\\00b7\"; padding: 0 .5ex}\n",
              "</style>\n",
              "<ol class=list-inline><li>60</li><li>10</li><li>20</li><li>30</li><li>40</li><li>50</li></ol>\n"
            ]
          },
          "metadata": {}
        }
      ]
    },
    {
      "cell_type": "code",
      "source": [
        "c(myvec, myvec)"
      ],
      "metadata": {
        "id": "IlOQ7y_ETEUa",
        "outputId": "6be2719b-ab20-4f38-9f36-18d8097783ed",
        "colab": {
          "base_uri": "https://localhost:8080/",
          "height": 34
        }
      },
      "execution_count": null,
      "outputs": [
        {
          "output_type": "display_data",
          "data": {
            "text/plain": [
              " [1] 10 20 30 40 50 10 20 30 40 50"
            ],
            "text/latex": "\\begin{enumerate*}\n\\item 10\n\\item 20\n\\item 30\n\\item 40\n\\item 50\n\\item 10\n\\item 20\n\\item 30\n\\item 40\n\\item 50\n\\end{enumerate*}\n",
            "text/markdown": "1. 10\n2. 20\n3. 30\n4. 40\n5. 50\n6. 10\n7. 20\n8. 30\n9. 40\n10. 50\n\n\n",
            "text/html": [
              "<style>\n",
              ".list-inline {list-style: none; margin:0; padding: 0}\n",
              ".list-inline>li {display: inline-block}\n",
              ".list-inline>li:not(:last-child)::after {content: \"\\00b7\"; padding: 0 .5ex}\n",
              "</style>\n",
              "<ol class=list-inline><li>10</li><li>20</li><li>30</li><li>40</li><li>50</li><li>10</li><li>20</li><li>30</li><li>40</li><li>50</li></ol>\n"
            ]
          },
          "metadata": {}
        }
      ]
    },
    {
      "cell_type": "markdown",
      "source": [
        "Crear un vector con las notas que obtuviste el anterior ciclo y asignarlo a la variable notas."
      ],
      "metadata": {
        "id": "-x8h0fCaJOLP"
      }
    },
    {
      "cell_type": "code",
      "source": [
        "notas <- c(10, 7, 8, 9)\n",
        "notas"
      ],
      "metadata": {
        "id": "txazbV89TIYI",
        "colab": {
          "base_uri": "https://localhost:8080/",
          "height": 34
        },
        "outputId": "dcd9cfba-9bfc-489d-c940-9be926046268"
      },
      "execution_count": null,
      "outputs": [
        {
          "output_type": "display_data",
          "data": {
            "text/plain": [
              "[1] 10  7  8  9"
            ],
            "text/latex": "\\begin{enumerate*}\n\\item 10\n\\item 7\n\\item 8\n\\item 9\n\\end{enumerate*}\n",
            "text/markdown": "1. 10\n2. 7\n3. 8\n4. 9\n\n\n",
            "text/html": [
              "<style>\n",
              ".list-inline {list-style: none; margin:0; padding: 0}\n",
              ".list-inline>li {display: inline-block}\n",
              ".list-inline>li:not(:last-child)::after {content: \"\\00b7\"; padding: 0 .5ex}\n",
              "</style>\n",
              "<ol class=list-inline><li>10</li><li>7</li><li>8</li><li>9</li></ol>\n"
            ]
          },
          "metadata": {}
        }
      ]
    },
    {
      "cell_type": "markdown",
      "source": [
        "## Tipos de vectores "
      ],
      "metadata": {
        "id": "mW8FB-t-J_lM"
      }
    },
    {
      "cell_type": "code",
      "source": [
        "vector_cadenas = c(\"hola\", \"mundo\") # vector de cadenas"
      ],
      "metadata": {
        "id": "JSZzU9piKCj1"
      },
      "execution_count": null,
      "outputs": []
    },
    {
      "cell_type": "code",
      "source": [
        "vector_cadenas"
      ],
      "metadata": {
        "colab": {
          "base_uri": "https://localhost:8080/",
          "height": 34
        },
        "id": "FpNyUfxgKIbt",
        "outputId": "1498d46f-bf2f-4596-fe87-2e40344d3409"
      },
      "execution_count": null,
      "outputs": [
        {
          "output_type": "display_data",
          "data": {
            "text/plain": [
              "[1] \"hola\"  \"mundo\""
            ],
            "text/latex": "\\begin{enumerate*}\n\\item 'hola'\n\\item 'mundo'\n\\end{enumerate*}\n",
            "text/markdown": "1. 'hola'\n2. 'mundo'\n\n\n",
            "text/html": [
              "<style>\n",
              ".list-inline {list-style: none; margin:0; padding: 0}\n",
              ".list-inline>li {display: inline-block}\n",
              ".list-inline>li:not(:last-child)::after {content: \"\\00b7\"; padding: 0 .5ex}\n",
              "</style>\n",
              "<ol class=list-inline><li>'hola'</li><li>'mundo'</li></ol>\n"
            ]
          },
          "metadata": {}
        }
      ]
    },
    {
      "cell_type": "code",
      "source": [
        "vector_logicos = c(TRUE, FALSE, TRUE, TRUE) # vector de valores logicos\n",
        "vector_logicos"
      ],
      "metadata": {
        "colab": {
          "base_uri": "https://localhost:8080/",
          "height": 34
        },
        "id": "XaB1pDy-KJZc",
        "outputId": "bf0d884e-1b83-409d-90da-2fb2dd6665cd"
      },
      "execution_count": null,
      "outputs": [
        {
          "output_type": "display_data",
          "data": {
            "text/plain": [
              "[1]  TRUE FALSE  TRUE  TRUE"
            ],
            "text/latex": "\\begin{enumerate*}\n\\item TRUE\n\\item FALSE\n\\item TRUE\n\\item TRUE\n\\end{enumerate*}\n",
            "text/markdown": "1. TRUE\n2. FALSE\n3. TRUE\n4. TRUE\n\n\n",
            "text/html": [
              "<style>\n",
              ".list-inline {list-style: none; margin:0; padding: 0}\n",
              ".list-inline>li {display: inline-block}\n",
              ".list-inline>li:not(:last-child)::after {content: \"\\00b7\"; padding: 0 .5ex}\n",
              "</style>\n",
              "<ol class=list-inline><li>TRUE</li><li>FALSE</li><li>TRUE</li><li>TRUE</li></ol>\n"
            ]
          },
          "metadata": {}
        }
      ]
    },
    {
      "cell_type": "markdown",
      "source": [
        "¿Que pasa si creo un vector que tenga a su vez valores númericos y valores tipo cadena (string)? "
      ],
      "metadata": {
        "id": "vr71uU8NKlZN"
      }
    },
    {
      "cell_type": "code",
      "source": [
        "vector_logico_y_cadena = c(10, \"Hola\", 9, \"mundo\")"
      ],
      "metadata": {
        "id": "yOH7wsMGKU_X"
      },
      "execution_count": null,
      "outputs": []
    },
    {
      "cell_type": "code",
      "source": [
        "vector_logico_y_cadena"
      ],
      "metadata": {
        "colab": {
          "base_uri": "https://localhost:8080/",
          "height": 34
        },
        "id": "Y4RsxXl9LM-X",
        "outputId": "3eacb819-939f-491d-8e3c-3ce686e4eaab"
      },
      "execution_count": null,
      "outputs": [
        {
          "output_type": "display_data",
          "data": {
            "text/plain": [
              "[1] \"10\"    \"Hola\"  \"9\"     \"mundo\""
            ],
            "text/latex": "\\begin{enumerate*}\n\\item '10'\n\\item 'Hola'\n\\item '9'\n\\item 'mundo'\n\\end{enumerate*}\n",
            "text/markdown": "1. '10'\n2. 'Hola'\n3. '9'\n4. 'mundo'\n\n\n",
            "text/html": [
              "<style>\n",
              ".list-inline {list-style: none; margin:0; padding: 0}\n",
              ".list-inline>li {display: inline-block}\n",
              ".list-inline>li:not(:last-child)::after {content: \"\\00b7\"; padding: 0 .5ex}\n",
              "</style>\n",
              "<ol class=list-inline><li>'10'</li><li>'Hola'</li><li>'9'</li><li>'mundo'</li></ol>\n"
            ]
          },
          "metadata": {}
        }
      ]
    },
    {
      "cell_type": "code",
      "source": [
        "vector_enteros_y_flotantes = c(10, 10.9, pi)\n",
        "vector_enteros_y_flotantes"
      ],
      "metadata": {
        "colab": {
          "base_uri": "https://localhost:8080/",
          "height": 34
        },
        "id": "GZiqNZZtLOZ2",
        "outputId": "088b83c3-57cb-4100-fc0d-3aeee059afc8"
      },
      "execution_count": null,
      "outputs": [
        {
          "output_type": "display_data",
          "data": {
            "text/plain": [
              "[1] 10.000000 10.900000  3.141593"
            ],
            "text/latex": "\\begin{enumerate*}\n\\item 10\n\\item 10.9\n\\item 3.14159265358979\n\\end{enumerate*}\n",
            "text/markdown": "1. 10\n2. 10.9\n3. 3.14159265358979\n\n\n",
            "text/html": [
              "<style>\n",
              ".list-inline {list-style: none; margin:0; padding: 0}\n",
              ".list-inline>li {display: inline-block}\n",
              ".list-inline>li:not(:last-child)::after {content: \"\\00b7\"; padding: 0 .5ex}\n",
              "</style>\n",
              "<ol class=list-inline><li>10</li><li>10.9</li><li>3.14159265358979</li></ol>\n"
            ]
          },
          "metadata": {}
        }
      ]
    },
    {
      "cell_type": "markdown",
      "source": [
        "## Indexamiento de vectores"
      ],
      "metadata": {
        "id": "YNmLkF_4Lr_c"
      }
    },
    {
      "cell_type": "code",
      "source": [
        "myvec"
      ],
      "metadata": {
        "colab": {
          "base_uri": "https://localhost:8080/",
          "height": 34
        },
        "id": "ijKNW7_eLt_Y",
        "outputId": "c7816b39-8770-48cc-acf6-469c73965da1"
      },
      "execution_count": null,
      "outputs": [
        {
          "output_type": "display_data",
          "data": {
            "text/plain": [
              "[1] 10 20 30 40 50"
            ],
            "text/latex": "\\begin{enumerate*}\n\\item 10\n\\item 20\n\\item 30\n\\item 40\n\\item 50\n\\end{enumerate*}\n",
            "text/markdown": "1. 10\n2. 20\n3. 30\n4. 40\n5. 50\n\n\n",
            "text/html": [
              "<style>\n",
              ".list-inline {list-style: none; margin:0; padding: 0}\n",
              ".list-inline>li {display: inline-block}\n",
              ".list-inline>li:not(:last-child)::after {content: \"\\00b7\"; padding: 0 .5ex}\n",
              "</style>\n",
              "<ol class=list-inline><li>10</li><li>20</li><li>30</li><li>40</li><li>50</li></ol>\n"
            ]
          },
          "metadata": {}
        }
      ]
    },
    {
      "cell_type": "code",
      "source": [
        "myvec[1] # accesando al primer elemento "
      ],
      "metadata": {
        "colab": {
          "base_uri": "https://localhost:8080/",
          "height": 34
        },
        "id": "zkxBDRw3LxjY",
        "outputId": "d25418b2-30b1-4654-a8cb-54e919de2e73"
      },
      "execution_count": null,
      "outputs": [
        {
          "output_type": "display_data",
          "data": {
            "text/plain": [
              "[1] 10"
            ],
            "text/latex": "10",
            "text/markdown": "10",
            "text/html": [
              "10"
            ]
          },
          "metadata": {}
        }
      ]
    },
    {
      "cell_type": "code",
      "source": [
        "myvec[2]"
      ],
      "metadata": {
        "colab": {
          "base_uri": "https://localhost:8080/",
          "height": 34
        },
        "id": "oGeDhzLvL1aO",
        "outputId": "bd46f0c7-9283-43f7-9f1b-10040fc9d725"
      },
      "execution_count": null,
      "outputs": [
        {
          "output_type": "display_data",
          "data": {
            "text/plain": [
              "[1] 20"
            ],
            "text/latex": "20",
            "text/markdown": "20",
            "text/html": [
              "20"
            ]
          },
          "metadata": {}
        }
      ]
    },
    {
      "cell_type": "code",
      "source": [
        "myvec[2] <- 5"
      ],
      "metadata": {
        "id": "HUz0RreuL7LM"
      },
      "execution_count": null,
      "outputs": []
    },
    {
      "cell_type": "code",
      "source": [
        "myvec"
      ],
      "metadata": {
        "colab": {
          "base_uri": "https://localhost:8080/",
          "height": 34
        },
        "id": "rX5cb9GpMAXU",
        "outputId": "49808d01-c7fd-4548-ff23-823f5c599915"
      },
      "execution_count": null,
      "outputs": [
        {
          "output_type": "display_data",
          "data": {
            "text/plain": [
              "[1] 10  5 30 40 50"
            ],
            "text/latex": "\\begin{enumerate*}\n\\item 10\n\\item 5\n\\item 30\n\\item 40\n\\item 50\n\\end{enumerate*}\n",
            "text/markdown": "1. 10\n2. 5\n3. 30\n4. 40\n5. 50\n\n\n",
            "text/html": [
              "<style>\n",
              ".list-inline {list-style: none; margin:0; padding: 0}\n",
              ".list-inline>li {display: inline-block}\n",
              ".list-inline>li:not(:last-child)::after {content: \"\\00b7\"; padding: 0 .5ex}\n",
              "</style>\n",
              "<ol class=list-inline><li>10</li><li>5</li><li>30</li><li>40</li><li>50</li></ol>\n"
            ]
          },
          "metadata": {}
        }
      ]
    },
    {
      "cell_type": "markdown",
      "source": [
        "¿Podemos usar un vector para indexar un vector? "
      ],
      "metadata": {
        "id": "rNcsTfDCMFhR"
      }
    },
    {
      "cell_type": "code",
      "source": [
        "myvec[c(4, 3, 2)]"
      ],
      "metadata": {
        "colab": {
          "base_uri": "https://localhost:8080/",
          "height": 34
        },
        "id": "Fle6xUnvMBAJ",
        "outputId": "75627c8f-b209-4df4-c188-c8f0733b411a"
      },
      "execution_count": null,
      "outputs": [
        {
          "output_type": "display_data",
          "data": {
            "text/plain": [
              "[1] 40 30  5"
            ],
            "text/latex": "\\begin{enumerate*}\n\\item 40\n\\item 30\n\\item 5\n\\end{enumerate*}\n",
            "text/markdown": "1. 40\n2. 30\n3. 5\n\n\n",
            "text/html": [
              "<style>\n",
              ".list-inline {list-style: none; margin:0; padding: 0}\n",
              ".list-inline>li {display: inline-block}\n",
              ".list-inline>li:not(:last-child)::after {content: \"\\00b7\"; padding: 0 .5ex}\n",
              "</style>\n",
              "<ol class=list-inline><li>40</li><li>30</li><li>5</li></ol>\n"
            ]
          },
          "metadata": {}
        }
      ]
    },
    {
      "cell_type": "code",
      "source": [
        "myind <- c(4, 3, 4)\n",
        "myvec[myind]"
      ],
      "metadata": {
        "colab": {
          "base_uri": "https://localhost:8080/",
          "height": 34
        },
        "id": "p3yCBZ3zMbiH",
        "outputId": "6f9393e4-a417-4a2c-c029-4fea6ea48fa0"
      },
      "execution_count": null,
      "outputs": [
        {
          "output_type": "display_data",
          "data": {
            "text/plain": [
              "[1] 40 30 40"
            ],
            "text/latex": "\\begin{enumerate*}\n\\item 40\n\\item 30\n\\item 40\n\\end{enumerate*}\n",
            "text/markdown": "1. 40\n2. 30\n3. 40\n\n\n",
            "text/html": [
              "<style>\n",
              ".list-inline {list-style: none; margin:0; padding: 0}\n",
              ".list-inline>li {display: inline-block}\n",
              ".list-inline>li:not(:last-child)::after {content: \"\\00b7\"; padding: 0 .5ex}\n",
              "</style>\n",
              "<ol class=list-inline><li>40</li><li>30</li><li>40</li></ol>\n"
            ]
          },
          "metadata": {}
        }
      ]
    },
    {
      "cell_type": "code",
      "source": [
        "1:10"
      ],
      "metadata": {
        "colab": {
          "base_uri": "https://localhost:8080/",
          "height": 34
        },
        "id": "5zDOwJV9Mq6g",
        "outputId": "c1a02b22-ce18-412a-be07-5eb3913bb604"
      },
      "execution_count": null,
      "outputs": [
        {
          "output_type": "display_data",
          "data": {
            "text/plain": [
              " [1]  1  2  3  4  5  6  7  8  9 10"
            ],
            "text/latex": "\\begin{enumerate*}\n\\item 1\n\\item 2\n\\item 3\n\\item 4\n\\item 5\n\\item 6\n\\item 7\n\\item 8\n\\item 9\n\\item 10\n\\end{enumerate*}\n",
            "text/markdown": "1. 1\n2. 2\n3. 3\n4. 4\n5. 5\n6. 6\n7. 7\n8. 8\n9. 9\n10. 10\n\n\n",
            "text/html": [
              "<style>\n",
              ".list-inline {list-style: none; margin:0; padding: 0}\n",
              ".list-inline>li {display: inline-block}\n",
              ".list-inline>li:not(:last-child)::after {content: \"\\00b7\"; padding: 0 .5ex}\n",
              "</style>\n",
              "<ol class=list-inline><li>1</li><li>2</li><li>3</li><li>4</li><li>5</li><li>6</li><li>7</li><li>8</li><li>9</li><li>10</li></ol>\n"
            ]
          },
          "metadata": {}
        }
      ]
    },
    {
      "cell_type": "code",
      "source": [
        "myvec[2:4]"
      ],
      "metadata": {
        "colab": {
          "base_uri": "https://localhost:8080/",
          "height": 34
        },
        "id": "SOwi7dpXMzwl",
        "outputId": "268e1d42-92e4-443f-af8e-72b551fe446f"
      },
      "execution_count": null,
      "outputs": [
        {
          "output_type": "display_data",
          "data": {
            "text/plain": [
              "[1]  5 30 40"
            ],
            "text/latex": "\\begin{enumerate*}\n\\item 5\n\\item 30\n\\item 40\n\\end{enumerate*}\n",
            "text/markdown": "1. 5\n2. 30\n3. 40\n\n\n",
            "text/html": [
              "<style>\n",
              ".list-inline {list-style: none; margin:0; padding: 0}\n",
              ".list-inline>li {display: inline-block}\n",
              ".list-inline>li:not(:last-child)::after {content: \"\\00b7\"; padding: 0 .5ex}\n",
              "</style>\n",
              "<ol class=list-inline><li>5</li><li>30</li><li>40</li></ol>\n"
            ]
          },
          "metadata": {}
        }
      ]
    },
    {
      "cell_type": "code",
      "source": [
        "myvec[4:2]"
      ],
      "metadata": {
        "colab": {
          "base_uri": "https://localhost:8080/",
          "height": 34
        },
        "id": "PO7vEa8zM9Gx",
        "outputId": "e5a6e0fc-b548-4e4a-c259-bad48551d552"
      },
      "execution_count": null,
      "outputs": [
        {
          "output_type": "display_data",
          "data": {
            "text/plain": [
              "[1] 40 30  5"
            ],
            "text/latex": "\\begin{enumerate*}\n\\item 40\n\\item 30\n\\item 5\n\\end{enumerate*}\n",
            "text/markdown": "1. 40\n2. 30\n3. 5\n\n\n",
            "text/html": [
              "<style>\n",
              ".list-inline {list-style: none; margin:0; padding: 0}\n",
              ".list-inline>li {display: inline-block}\n",
              ".list-inline>li:not(:last-child)::after {content: \"\\00b7\"; padding: 0 .5ex}\n",
              "</style>\n",
              "<ol class=list-inline><li>40</li><li>30</li><li>5</li></ol>\n"
            ]
          },
          "metadata": {}
        }
      ]
    },
    {
      "cell_type": "code",
      "source": [
        "10:5"
      ],
      "metadata": {
        "colab": {
          "base_uri": "https://localhost:8080/",
          "height": 34
        },
        "id": "h3IRU7uUNDbG",
        "outputId": "86808c42-c766-4a54-92d3-c6be6739fdb4"
      },
      "execution_count": null,
      "outputs": [
        {
          "output_type": "display_data",
          "data": {
            "text/plain": [
              "[1] 10  9  8  7  6  5"
            ],
            "text/latex": "\\begin{enumerate*}\n\\item 10\n\\item 9\n\\item 8\n\\item 7\n\\item 6\n\\item 5\n\\end{enumerate*}\n",
            "text/markdown": "1. 10\n2. 9\n3. 8\n4. 7\n5. 6\n6. 5\n\n\n",
            "text/html": [
              "<style>\n",
              ".list-inline {list-style: none; margin:0; padding: 0}\n",
              ".list-inline>li {display: inline-block}\n",
              ".list-inline>li:not(:last-child)::after {content: \"\\00b7\"; padding: 0 .5ex}\n",
              "</style>\n",
              "<ol class=list-inline><li>10</li><li>9</li><li>8</li><li>7</li><li>6</li><li>5</li></ol>\n"
            ]
          },
          "metadata": {}
        }
      ]
    },
    {
      "cell_type": "code",
      "source": [
        "1:50"
      ],
      "metadata": {
        "colab": {
          "base_uri": "https://localhost:8080/",
          "height": 52
        },
        "id": "L767VXIcNHpO",
        "outputId": "ee791d1b-810f-4d9b-dcb0-1f17d34bf287"
      },
      "execution_count": null,
      "outputs": [
        {
          "output_type": "display_data",
          "data": {
            "text/plain": [
              " [1]  1  2  3  4  5  6  7  8  9 10 11 12 13 14 15 16 17 18 19 20 21 22 23 24 25\n",
              "[26] 26 27 28 29 30 31 32 33 34 35 36 37 38 39 40 41 42 43 44 45 46 47 48 49 50"
            ],
            "text/latex": "\\begin{enumerate*}\n\\item 1\n\\item 2\n\\item 3\n\\item 4\n\\item 5\n\\item 6\n\\item 7\n\\item 8\n\\item 9\n\\item 10\n\\item 11\n\\item 12\n\\item 13\n\\item 14\n\\item 15\n\\item 16\n\\item 17\n\\item 18\n\\item 19\n\\item 20\n\\item 21\n\\item 22\n\\item 23\n\\item 24\n\\item 25\n\\item 26\n\\item 27\n\\item 28\n\\item 29\n\\item 30\n\\item 31\n\\item 32\n\\item 33\n\\item 34\n\\item 35\n\\item 36\n\\item 37\n\\item 38\n\\item 39\n\\item 40\n\\item 41\n\\item 42\n\\item 43\n\\item 44\n\\item 45\n\\item 46\n\\item 47\n\\item 48\n\\item 49\n\\item 50\n\\end{enumerate*}\n",
            "text/markdown": "1. 1\n2. 2\n3. 3\n4. 4\n5. 5\n6. 6\n7. 7\n8. 8\n9. 9\n10. 10\n11. 11\n12. 12\n13. 13\n14. 14\n15. 15\n16. 16\n17. 17\n18. 18\n19. 19\n20. 20\n21. 21\n22. 22\n23. 23\n24. 24\n25. 25\n26. 26\n27. 27\n28. 28\n29. 29\n30. 30\n31. 31\n32. 32\n33. 33\n34. 34\n35. 35\n36. 36\n37. 37\n38. 38\n39. 39\n40. 40\n41. 41\n42. 42\n43. 43\n44. 44\n45. 45\n46. 46\n47. 47\n48. 48\n49. 49\n50. 50\n\n\n",
            "text/html": [
              "<style>\n",
              ".list-inline {list-style: none; margin:0; padding: 0}\n",
              ".list-inline>li {display: inline-block}\n",
              ".list-inline>li:not(:last-child)::after {content: \"\\00b7\"; padding: 0 .5ex}\n",
              "</style>\n",
              "<ol class=list-inline><li>1</li><li>2</li><li>3</li><li>4</li><li>5</li><li>6</li><li>7</li><li>8</li><li>9</li><li>10</li><li>11</li><li>12</li><li>13</li><li>14</li><li>15</li><li>16</li><li>17</li><li>18</li><li>19</li><li>20</li><li>21</li><li>22</li><li>23</li><li>24</li><li>25</li><li>26</li><li>27</li><li>28</li><li>29</li><li>30</li><li>31</li><li>32</li><li>33</li><li>34</li><li>35</li><li>36</li><li>37</li><li>38</li><li>39</li><li>40</li><li>41</li><li>42</li><li>43</li><li>44</li><li>45</li><li>46</li><li>47</li><li>48</li><li>49</li><li>50</li></ol>\n"
            ]
          },
          "metadata": {}
        }
      ]
    },
    {
      "cell_type": "markdown",
      "source": [
        "¿Como obtener de los números del 1 al 10 sus cuadrados? "
      ],
      "metadata": {
        "id": "VY5zdVcbNe3f"
      }
    },
    {
      "cell_type": "code",
      "source": [
        "numbers <- 1:10 "
      ],
      "metadata": {
        "id": "GEmlw2erNXRG"
      },
      "execution_count": null,
      "outputs": []
    },
    {
      "cell_type": "code",
      "source": [
        "numbers * numbers"
      ],
      "metadata": {
        "colab": {
          "base_uri": "https://localhost:8080/",
          "height": 34
        },
        "id": "Ra-08q5kNnlP",
        "outputId": "de292a31-6808-4415-f926-6e842fdd1f01"
      },
      "execution_count": null,
      "outputs": [
        {
          "output_type": "display_data",
          "data": {
            "text/plain": [
              " [1]   1   4   9  16  25  36  49  64  81 100"
            ],
            "text/latex": "\\begin{enumerate*}\n\\item 1\n\\item 4\n\\item 9\n\\item 16\n\\item 25\n\\item 36\n\\item 49\n\\item 64\n\\item 81\n\\item 100\n\\end{enumerate*}\n",
            "text/markdown": "1. 1\n2. 4\n3. 9\n4. 16\n5. 25\n6. 36\n7. 49\n8. 64\n9. 81\n10. 100\n\n\n",
            "text/html": [
              "<style>\n",
              ".list-inline {list-style: none; margin:0; padding: 0}\n",
              ".list-inline>li {display: inline-block}\n",
              ".list-inline>li:not(:last-child)::after {content: \"\\00b7\"; padding: 0 .5ex}\n",
              "</style>\n",
              "<ol class=list-inline><li>1</li><li>4</li><li>9</li><li>16</li><li>25</li><li>36</li><li>49</li><li>64</li><li>81</li><li>100</li></ol>\n"
            ]
          },
          "metadata": {}
        }
      ]
    },
    {
      "cell_type": "code",
      "source": [
        "numbers^2 "
      ],
      "metadata": {
        "colab": {
          "base_uri": "https://localhost:8080/",
          "height": 34
        },
        "id": "GAGUjoIZNo8X",
        "outputId": "12d0b4fc-2f05-4ad8-bd8e-da8fa89a17a5"
      },
      "execution_count": null,
      "outputs": [
        {
          "output_type": "display_data",
          "data": {
            "text/plain": [
              " [1]   1   4   9  16  25  36  49  64  81 100"
            ],
            "text/latex": "\\begin{enumerate*}\n\\item 1\n\\item 4\n\\item 9\n\\item 16\n\\item 25\n\\item 36\n\\item 49\n\\item 64\n\\item 81\n\\item 100\n\\end{enumerate*}\n",
            "text/markdown": "1. 1\n2. 4\n3. 9\n4. 16\n5. 25\n6. 36\n7. 49\n8. 64\n9. 81\n10. 100\n\n\n",
            "text/html": [
              "<style>\n",
              ".list-inline {list-style: none; margin:0; padding: 0}\n",
              ".list-inline>li {display: inline-block}\n",
              ".list-inline>li:not(:last-child)::after {content: \"\\00b7\"; padding: 0 .5ex}\n",
              "</style>\n",
              "<ol class=list-inline><li>1</li><li>4</li><li>9</li><li>16</li><li>25</li><li>36</li><li>49</li><li>64</li><li>81</li><li>100</li></ol>\n"
            ]
          },
          "metadata": {}
        }
      ]
    },
    {
      "cell_type": "markdown",
      "source": [
        "Ejercicio:"
      ],
      "metadata": {
        "id": "YWzy5LpgN1Kw"
      }
    },
    {
      "cell_type": "code",
      "source": [
        "phrase <- c(\"Yo\", \"no\", \"se\", \"Yo\", \"se\")"
      ],
      "metadata": {
        "id": "JYBWaS7ON4bZ"
      },
      "execution_count": null,
      "outputs": []
    },
    {
      "cell_type": "code",
      "source": [
        "phrase[1:3]"
      ],
      "metadata": {
        "colab": {
          "base_uri": "https://localhost:8080/",
          "height": 34
        },
        "id": "edugRu-rOFoc",
        "outputId": "83385862-fb5a-40c2-9479-bdf70edfab22"
      },
      "execution_count": null,
      "outputs": [
        {
          "output_type": "display_data",
          "data": {
            "text/plain": [
              "[1] \"Yo\" \"no\" \"se\""
            ],
            "text/latex": "\\begin{enumerate*}\n\\item 'Yo'\n\\item 'no'\n\\item 'se'\n\\end{enumerate*}\n",
            "text/markdown": "1. 'Yo'\n2. 'no'\n3. 'se'\n\n\n",
            "text/html": [
              "<style>\n",
              ".list-inline {list-style: none; margin:0; padding: 0}\n",
              ".list-inline>li {display: inline-block}\n",
              ".list-inline>li:not(:last-child)::after {content: \"\\00b7\"; padding: 0 .5ex}\n",
              "</style>\n",
              "<ol class=list-inline><li>'Yo'</li><li>'no'</li><li>'se'</li></ol>\n"
            ]
          },
          "metadata": {}
        }
      ]
    },
    {
      "cell_type": "code",
      "source": [
        "phrase[3:5]"
      ],
      "metadata": {
        "colab": {
          "base_uri": "https://localhost:8080/",
          "height": 34
        },
        "id": "SDfQ53uiOIhi",
        "outputId": "3baf96f8-e010-499f-e23c-eaf0a9497a6a"
      },
      "execution_count": null,
      "outputs": [
        {
          "output_type": "display_data",
          "data": {
            "text/plain": [
              "[1] \"se\" \"Yo\" \"se\""
            ],
            "text/latex": "\\begin{enumerate*}\n\\item 'se'\n\\item 'Yo'\n\\item 'se'\n\\end{enumerate*}\n",
            "text/markdown": "1. 'se'\n2. 'Yo'\n3. 'se'\n\n\n",
            "text/html": [
              "<style>\n",
              ".list-inline {list-style: none; margin:0; padding: 0}\n",
              ".list-inline>li {display: inline-block}\n",
              ".list-inline>li:not(:last-child)::after {content: \"\\00b7\"; padding: 0 .5ex}\n",
              "</style>\n",
              "<ol class=list-inline><li>'se'</li><li>'Yo'</li><li>'se'</li></ol>\n"
            ]
          },
          "metadata": {}
        }
      ]
    },
    {
      "cell_type": "code",
      "source": [
        "phrase[3:] # no se puede dejar vacio el elemento final si uso el operador secuencia :."
      ],
      "metadata": {
        "colab": {
          "base_uri": "https://localhost:8080/",
          "height": 134
        },
        "id": "FaEvi6w3OQq3",
        "outputId": "06de00af-a41d-4e80-8506-02e0d79de072"
      },
      "execution_count": null,
      "outputs": [
        {
          "output_type": "error",
          "ename": "ERROR",
          "evalue": "ignored",
          "traceback": [
            "Error in parse(text = x, srcfile = src): <text>:1:10: unexpected ']'\n1: phrase[3:]\n             ^\nTraceback:\n"
          ]
        }
      ]
    },
    {
      "cell_type": "markdown",
      "source": [
        "¿Del vector phrase yo se que las primeras 4 palabras las puedo obtener con phrase[1:4]. Como puedo obtener las primeras 4 palabras pero en reversa. "
      ],
      "metadata": {
        "id": "CExQIutTOpPm"
      }
    },
    {
      "cell_type": "code",
      "source": [
        "phrase[1:4]"
      ],
      "metadata": {
        "colab": {
          "base_uri": "https://localhost:8080/",
          "height": 34
        },
        "id": "F78xVl15OerS",
        "outputId": "49515c2e-3633-4446-a118-e00a49af8a8c"
      },
      "execution_count": null,
      "outputs": [
        {
          "output_type": "display_data",
          "data": {
            "text/plain": [
              "[1] \"Yo\" \"no\" \"se\" \"Yo\""
            ],
            "text/latex": "\\begin{enumerate*}\n\\item 'Yo'\n\\item 'no'\n\\item 'se'\n\\item 'Yo'\n\\end{enumerate*}\n",
            "text/markdown": "1. 'Yo'\n2. 'no'\n3. 'se'\n4. 'Yo'\n\n\n",
            "text/html": [
              "<style>\n",
              ".list-inline {list-style: none; margin:0; padding: 0}\n",
              ".list-inline>li {display: inline-block}\n",
              ".list-inline>li:not(:last-child)::after {content: \"\\00b7\"; padding: 0 .5ex}\n",
              "</style>\n",
              "<ol class=list-inline><li>'Yo'</li><li>'no'</li><li>'se'</li><li>'Yo'</li></ol>\n"
            ]
          },
          "metadata": {}
        }
      ]
    },
    {
      "cell_type": "code",
      "source": [
        "phrase[4:1]"
      ],
      "metadata": {
        "colab": {
          "base_uri": "https://localhost:8080/",
          "height": 34
        },
        "id": "miRtRCtZO8dc",
        "outputId": "eb84fbc0-399c-402a-deeb-79cb5c1cb6f7"
      },
      "execution_count": null,
      "outputs": [
        {
          "output_type": "display_data",
          "data": {
            "text/plain": [
              "[1] \"Yo\" \"se\" \"no\" \"Yo\""
            ],
            "text/latex": "\\begin{enumerate*}\n\\item 'Yo'\n\\item 'se'\n\\item 'no'\n\\item 'Yo'\n\\end{enumerate*}\n",
            "text/markdown": "1. 'Yo'\n2. 'se'\n3. 'no'\n4. 'Yo'\n\n\n",
            "text/html": [
              "<style>\n",
              ".list-inline {list-style: none; margin:0; padding: 0}\n",
              ".list-inline>li {display: inline-block}\n",
              ".list-inline>li:not(:last-child)::after {content: \"\\00b7\"; padding: 0 .5ex}\n",
              "</style>\n",
              "<ol class=list-inline><li>'Yo'</li><li>'se'</li><li>'no'</li><li>'Yo'</li></ol>\n"
            ]
          },
          "metadata": {}
        }
      ]
    },
    {
      "cell_type": "markdown",
      "source": [
        "Probar lo siguiente y deducir que pasa:  \n",
        "* phrase[-2]\n",
        "* phrase[-5]\n",
        "* phrase[-1:-3]\n",
        "\n"
      ],
      "metadata": {
        "id": "WJtB6g27PIoq"
      }
    },
    {
      "cell_type": "code",
      "source": [
        "phrase"
      ],
      "metadata": {
        "colab": {
          "base_uri": "https://localhost:8080/",
          "height": 34
        },
        "id": "MFoFnBO1PCLj",
        "outputId": "51f9e86e-280b-40c1-9224-69794574b3c9"
      },
      "execution_count": null,
      "outputs": [
        {
          "output_type": "display_data",
          "data": {
            "text/plain": [
              "[1] \"Yo\" \"no\" \"se\" \"Yo\" \"se\""
            ],
            "text/latex": "\\begin{enumerate*}\n\\item 'Yo'\n\\item 'no'\n\\item 'se'\n\\item 'Yo'\n\\item 'se'\n\\end{enumerate*}\n",
            "text/markdown": "1. 'Yo'\n2. 'no'\n3. 'se'\n4. 'Yo'\n5. 'se'\n\n\n",
            "text/html": [
              "<style>\n",
              ".list-inline {list-style: none; margin:0; padding: 0}\n",
              ".list-inline>li {display: inline-block}\n",
              ".list-inline>li:not(:last-child)::after {content: \"\\00b7\"; padding: 0 .5ex}\n",
              "</style>\n",
              "<ol class=list-inline><li>'Yo'</li><li>'no'</li><li>'se'</li><li>'Yo'</li><li>'se'</li></ol>\n"
            ]
          },
          "metadata": {}
        }
      ]
    },
    {
      "cell_type": "code",
      "source": [
        "phrase[-2]"
      ],
      "metadata": {
        "colab": {
          "base_uri": "https://localhost:8080/",
          "height": 34
        },
        "id": "CkcmTVW3QAKR",
        "outputId": "2d54cf37-cabd-420f-f7a8-d526a360ea2d"
      },
      "execution_count": null,
      "outputs": [
        {
          "output_type": "display_data",
          "data": {
            "text/plain": [
              "[1] \"Yo\" \"se\" \"Yo\" \"se\""
            ],
            "text/latex": "\\begin{enumerate*}\n\\item 'Yo'\n\\item 'se'\n\\item 'Yo'\n\\item 'se'\n\\end{enumerate*}\n",
            "text/markdown": "1. 'Yo'\n2. 'se'\n3. 'Yo'\n4. 'se'\n\n\n",
            "text/html": [
              "<style>\n",
              ".list-inline {list-style: none; margin:0; padding: 0}\n",
              ".list-inline>li {display: inline-block}\n",
              ".list-inline>li:not(:last-child)::after {content: \"\\00b7\"; padding: 0 .5ex}\n",
              "</style>\n",
              "<ol class=list-inline><li>'Yo'</li><li>'se'</li><li>'Yo'</li><li>'se'</li></ol>\n"
            ]
          },
          "metadata": {}
        }
      ]
    },
    {
      "cell_type": "code",
      "source": [
        "phrase = c(\"uno\",\"dos\",\"tres\",\"cuatro\",\"cinco\")"
      ],
      "metadata": {
        "id": "C5HPfW0DQBb_"
      },
      "execution_count": null,
      "outputs": []
    },
    {
      "cell_type": "code",
      "source": [
        "phrase"
      ],
      "metadata": {
        "colab": {
          "base_uri": "https://localhost:8080/",
          "height": 34
        },
        "id": "oO3Z18RMQT-4",
        "outputId": "76d74bb4-c872-4fe5-acce-2f8436bb06c5"
      },
      "execution_count": null,
      "outputs": [
        {
          "output_type": "display_data",
          "data": {
            "text/plain": [
              "[1] \"uno\"    \"dos\"    \"tres\"   \"cuatro\" \"cinco\" "
            ],
            "text/latex": "\\begin{enumerate*}\n\\item 'uno'\n\\item 'dos'\n\\item 'tres'\n\\item 'cuatro'\n\\item 'cinco'\n\\end{enumerate*}\n",
            "text/markdown": "1. 'uno'\n2. 'dos'\n3. 'tres'\n4. 'cuatro'\n5. 'cinco'\n\n\n",
            "text/html": [
              "<style>\n",
              ".list-inline {list-style: none; margin:0; padding: 0}\n",
              ".list-inline>li {display: inline-block}\n",
              ".list-inline>li:not(:last-child)::after {content: \"\\00b7\"; padding: 0 .5ex}\n",
              "</style>\n",
              "<ol class=list-inline><li>'uno'</li><li>'dos'</li><li>'tres'</li><li>'cuatro'</li><li>'cinco'</li></ol>\n"
            ]
          },
          "metadata": {}
        }
      ]
    },
    {
      "cell_type": "code",
      "source": [
        "phrase[-2]"
      ],
      "metadata": {
        "colab": {
          "base_uri": "https://localhost:8080/",
          "height": 34
        },
        "id": "LsJoJDtBQVnQ",
        "outputId": "6ea5409e-ab03-47f2-eb7f-b365b38e120c"
      },
      "execution_count": null,
      "outputs": [
        {
          "output_type": "display_data",
          "data": {
            "text/plain": [
              "[1] \"uno\"    \"tres\"   \"cuatro\" \"cinco\" "
            ],
            "text/latex": "\\begin{enumerate*}\n\\item 'uno'\n\\item 'tres'\n\\item 'cuatro'\n\\item 'cinco'\n\\end{enumerate*}\n",
            "text/markdown": "1. 'uno'\n2. 'tres'\n3. 'cuatro'\n4. 'cinco'\n\n\n",
            "text/html": [
              "<style>\n",
              ".list-inline {list-style: none; margin:0; padding: 0}\n",
              ".list-inline>li {display: inline-block}\n",
              ".list-inline>li:not(:last-child)::after {content: \"\\00b7\"; padding: 0 .5ex}\n",
              "</style>\n",
              "<ol class=list-inline><li>'uno'</li><li>'tres'</li><li>'cuatro'</li><li>'cinco'</li></ol>\n"
            ]
          },
          "metadata": {}
        }
      ]
    },
    {
      "cell_type": "code",
      "source": [
        "phrase[-5]"
      ],
      "metadata": {
        "colab": {
          "base_uri": "https://localhost:8080/",
          "height": 34
        },
        "id": "2oGElbdaQYiA",
        "outputId": "95fa6016-6325-4c01-ff22-ca8213bd8c75"
      },
      "execution_count": null,
      "outputs": [
        {
          "output_type": "display_data",
          "data": {
            "text/plain": [
              "[1] \"uno\"    \"dos\"    \"tres\"   \"cuatro\""
            ],
            "text/latex": "\\begin{enumerate*}\n\\item 'uno'\n\\item 'dos'\n\\item 'tres'\n\\item 'cuatro'\n\\end{enumerate*}\n",
            "text/markdown": "1. 'uno'\n2. 'dos'\n3. 'tres'\n4. 'cuatro'\n\n\n",
            "text/html": [
              "<style>\n",
              ".list-inline {list-style: none; margin:0; padding: 0}\n",
              ".list-inline>li {display: inline-block}\n",
              ".list-inline>li:not(:last-child)::after {content: \"\\00b7\"; padding: 0 .5ex}\n",
              "</style>\n",
              "<ol class=list-inline><li>'uno'</li><li>'dos'</li><li>'tres'</li><li>'cuatro'</li></ol>\n"
            ]
          },
          "metadata": {}
        }
      ]
    },
    {
      "cell_type": "code",
      "source": [
        "phrase[-1:-3]"
      ],
      "metadata": {
        "colab": {
          "base_uri": "https://localhost:8080/",
          "height": 34
        },
        "id": "IpQcLoz_Qopo",
        "outputId": "302d7659-42bb-4128-e63e-34634e4aaabd"
      },
      "execution_count": null,
      "outputs": [
        {
          "output_type": "display_data",
          "data": {
            "text/plain": [
              "[1] \"cuatro\" \"cinco\" "
            ],
            "text/latex": "\\begin{enumerate*}\n\\item 'cuatro'\n\\item 'cinco'\n\\end{enumerate*}\n",
            "text/markdown": "1. 'cuatro'\n2. 'cinco'\n\n\n",
            "text/html": [
              "<style>\n",
              ".list-inline {list-style: none; margin:0; padding: 0}\n",
              ".list-inline>li {display: inline-block}\n",
              ".list-inline>li:not(:last-child)::after {content: \"\\00b7\"; padding: 0 .5ex}\n",
              "</style>\n",
              "<ol class=list-inline><li>'cuatro'</li><li>'cinco'</li></ol>\n"
            ]
          },
          "metadata": {}
        }
      ]
    },
    {
      "cell_type": "markdown",
      "source": [
        "De: \n",
        "\n",
        "phrase = c(\"uno\",\"dos\",\"tres\",\"cuatro\",\"cinco\")\n",
        "\n",
        "Quitar los elementos dos y cuatro."
      ],
      "metadata": {
        "id": "I93hcBVPQ0tl"
      }
    },
    {
      "cell_type": "code",
      "source": [
        "phrase = c(\"uno\",\"dos\",\"tres\",\"cuatro\",\"cinco\")"
      ],
      "metadata": {
        "id": "GerhRDMVQ4-f"
      },
      "execution_count": null,
      "outputs": []
    },
    {
      "cell_type": "code",
      "source": [
        "phrase <- phrase[c(-2, -4)]"
      ],
      "metadata": {
        "id": "vQMHCk6MQ6zg"
      },
      "execution_count": null,
      "outputs": []
    },
    {
      "cell_type": "code",
      "source": [
        "phrase"
      ],
      "metadata": {
        "colab": {
          "base_uri": "https://localhost:8080/",
          "height": 34
        },
        "id": "z0JED8snQ-Ye",
        "outputId": "a684eadd-c987-44f8-afbc-85acad03f53b"
      },
      "execution_count": null,
      "outputs": [
        {
          "output_type": "display_data",
          "data": {
            "text/plain": [
              "[1] \"uno\"   \"tres\"  \"cinco\""
            ],
            "text/latex": "\\begin{enumerate*}\n\\item 'uno'\n\\item 'tres'\n\\item 'cinco'\n\\end{enumerate*}\n",
            "text/markdown": "1. 'uno'\n2. 'tres'\n3. 'cinco'\n\n\n",
            "text/html": [
              "<style>\n",
              ".list-inline {list-style: none; margin:0; padding: 0}\n",
              ".list-inline>li {display: inline-block}\n",
              ".list-inline>li:not(:last-child)::after {content: \"\\00b7\"; padding: 0 .5ex}\n",
              "</style>\n",
              "<ol class=list-inline><li>'uno'</li><li>'tres'</li><li>'cinco'</li></ol>\n"
            ]
          },
          "metadata": {}
        }
      ]
    },
    {
      "cell_type": "markdown",
      "source": [
        "# Funciones\n",
        "\n",
        "Vamos a revisar la función sum que actua sobre vectores."
      ],
      "metadata": {
        "id": "7DfTw-BURIqt"
      }
    },
    {
      "cell_type": "code",
      "source": [
        "?sum  # con ? accedo a la ayuda"
      ],
      "metadata": {
        "id": "VFPHa2YHRLa4"
      },
      "execution_count": null,
      "outputs": []
    },
    {
      "cell_type": "code",
      "source": [
        "sum(myvec)"
      ],
      "metadata": {
        "colab": {
          "base_uri": "https://localhost:8080/",
          "height": 34
        },
        "id": "h5XAbV4_R2hX",
        "outputId": "34a1ff50-5caa-4d60-cbe8-db6174436399"
      },
      "execution_count": null,
      "outputs": [
        {
          "output_type": "display_data",
          "data": {
            "text/plain": [
              "[1] 135"
            ],
            "text/latex": "135",
            "text/markdown": "135",
            "text/html": [
              "135"
            ]
          },
          "metadata": {}
        }
      ]
    },
    {
      "cell_type": "code",
      "source": [
        "myvec"
      ],
      "metadata": {
        "colab": {
          "base_uri": "https://localhost:8080/",
          "height": 34
        },
        "id": "NxWgSg51SWoU",
        "outputId": "f1405f06-d0cc-4bdb-ebd4-7c8e9a68b548"
      },
      "execution_count": null,
      "outputs": [
        {
          "output_type": "display_data",
          "data": {
            "text/plain": [
              "[1] 10  5 30 40 50"
            ],
            "text/latex": "\\begin{enumerate*}\n\\item 10\n\\item 5\n\\item 30\n\\item 40\n\\item 50\n\\end{enumerate*}\n",
            "text/markdown": "1. 10\n2. 5\n3. 30\n4. 40\n5. 50\n\n\n",
            "text/html": [
              "<style>\n",
              ".list-inline {list-style: none; margin:0; padding: 0}\n",
              ".list-inline>li {display: inline-block}\n",
              ".list-inline>li:not(:last-child)::after {content: \"\\00b7\"; padding: 0 .5ex}\n",
              "</style>\n",
              "<ol class=list-inline><li>10</li><li>5</li><li>30</li><li>40</li><li>50</li></ol>\n"
            ]
          },
          "metadata": {}
        }
      ]
    },
    {
      "cell_type": "code",
      "source": [
        "sum(myvec, myvec)"
      ],
      "metadata": {
        "colab": {
          "base_uri": "https://localhost:8080/",
          "height": 34
        },
        "id": "fzGpg1qRSXzN",
        "outputId": "7c09fbf3-8065-461c-d08f-4a56dca5c63c"
      },
      "execution_count": null,
      "outputs": [
        {
          "output_type": "display_data",
          "data": {
            "text/plain": [
              "[1] 270"
            ],
            "text/latex": "270",
            "text/markdown": "270",
            "text/html": [
              "270"
            ]
          },
          "metadata": {}
        }
      ]
    },
    {
      "cell_type": "code",
      "source": [
        "myvec3 <- c(10, 15, 7, NA, 0)"
      ],
      "metadata": {
        "id": "mt8dGeUvSgHT"
      },
      "execution_count": null,
      "outputs": []
    },
    {
      "cell_type": "code",
      "source": [
        "myvec3"
      ],
      "metadata": {
        "colab": {
          "base_uri": "https://localhost:8080/",
          "height": 34
        },
        "id": "u1C956DqSysS",
        "outputId": "3f224580-0c1b-4afa-ed09-2d010074abf9"
      },
      "execution_count": null,
      "outputs": [
        {
          "output_type": "display_data",
          "data": {
            "text/plain": [
              "[1] 10 15  7 NA  0"
            ],
            "text/latex": "\\begin{enumerate*}\n\\item 10\n\\item 15\n\\item 7\n\\item <NA>\n\\item 0\n\\end{enumerate*}\n",
            "text/markdown": "1. 10\n2. 15\n3. 7\n4. &lt;NA&gt;\n5. 0\n\n\n",
            "text/html": [
              "<style>\n",
              ".list-inline {list-style: none; margin:0; padding: 0}\n",
              ".list-inline>li {display: inline-block}\n",
              ".list-inline>li:not(:last-child)::after {content: \"\\00b7\"; padding: 0 .5ex}\n",
              "</style>\n",
              "<ol class=list-inline><li>10</li><li>15</li><li>7</li><li>&lt;NA&gt;</li><li>0</li></ol>\n"
            ]
          },
          "metadata": {}
        }
      ]
    },
    {
      "cell_type": "code",
      "source": [
        "?NA"
      ],
      "metadata": {
        "id": "7e5Pni3yS4ln"
      },
      "execution_count": null,
      "outputs": []
    },
    {
      "cell_type": "code",
      "source": [
        "is.na(myvec3)"
      ],
      "metadata": {
        "colab": {
          "base_uri": "https://localhost:8080/",
          "height": 34
        },
        "id": "9hhZTa19S9B5",
        "outputId": "b62d2d4b-94e4-42a1-d882-6e535d5369d5"
      },
      "execution_count": null,
      "outputs": [
        {
          "output_type": "display_data",
          "data": {
            "text/plain": [
              "[1] FALSE FALSE FALSE  TRUE FALSE"
            ],
            "text/latex": "\\begin{enumerate*}\n\\item FALSE\n\\item FALSE\n\\item FALSE\n\\item TRUE\n\\item FALSE\n\\end{enumerate*}\n",
            "text/markdown": "1. FALSE\n2. FALSE\n3. FALSE\n4. TRUE\n5. FALSE\n\n\n",
            "text/html": [
              "<style>\n",
              ".list-inline {list-style: none; margin:0; padding: 0}\n",
              ".list-inline>li {display: inline-block}\n",
              ".list-inline>li:not(:last-child)::after {content: \"\\00b7\"; padding: 0 .5ex}\n",
              "</style>\n",
              "<ol class=list-inline><li>FALSE</li><li>FALSE</li><li>FALSE</li><li>TRUE</li><li>FALSE</li></ol>\n"
            ]
          },
          "metadata": {}
        }
      ]
    },
    {
      "cell_type": "code",
      "source": [
        "sum(is.na(myvec3)) # cuantos NA's hay."
      ],
      "metadata": {
        "colab": {
          "base_uri": "https://localhost:8080/",
          "height": 34
        },
        "id": "zA9LezztTOOF",
        "outputId": "307870ee-1ae3-4aa0-ac74-198d0ef18a79"
      },
      "execution_count": null,
      "outputs": [
        {
          "output_type": "display_data",
          "data": {
            "text/plain": [
              "[1] 1"
            ],
            "text/latex": "1",
            "text/markdown": "1",
            "text/html": [
              "1"
            ]
          },
          "metadata": {}
        }
      ]
    },
    {
      "cell_type": "code",
      "source": [
        "sum(myvec3)"
      ],
      "metadata": {
        "colab": {
          "base_uri": "https://localhost:8080/",
          "height": 34
        },
        "id": "7sUVNybQTZ3q",
        "outputId": "30177fb8-aca0-44e3-8a14-b5c875ceeccf"
      },
      "execution_count": null,
      "outputs": [
        {
          "output_type": "display_data",
          "data": {
            "text/plain": [
              "[1] NA"
            ],
            "text/latex": "<NA>",
            "text/markdown": "&lt;NA&gt;",
            "text/html": [
              "&lt;NA&gt;"
            ]
          },
          "metadata": {}
        }
      ]
    },
    {
      "cell_type": "code",
      "source": [
        "sum(myvec3, na.rm=TRUE)"
      ],
      "metadata": {
        "colab": {
          "base_uri": "https://localhost:8080/",
          "height": 34
        },
        "id": "sYMOdH3mULln",
        "outputId": "1c5de6d0-dda4-4355-acc3-239706846403"
      },
      "execution_count": null,
      "outputs": [
        {
          "output_type": "display_data",
          "data": {
            "text/plain": [
              "[1] 32"
            ],
            "text/latex": "32",
            "text/markdown": "32",
            "text/html": [
              "32"
            ]
          },
          "metadata": {}
        }
      ]
    },
    {
      "cell_type": "markdown",
      "source": [
        "Puedo calcular la suma de los valores diferentes a null usando el hecho que is.na(myvec3) te da los indices de los elementos que son na como TRUE entonces con el operador ! puedo negarlo y luego hacer la suma. Pero este codigo es peligroso muy dificil de leer y no recomendable de manera profesional, hay que tratar de escribir código legible."
      ],
      "metadata": {
        "id": "EkkUjiqZU1KS"
      }
    },
    {
      "cell_type": "code",
      "source": [
        "myvec3"
      ],
      "metadata": {
        "colab": {
          "base_uri": "https://localhost:8080/",
          "height": 34
        },
        "id": "O7ERaTXXVYL1",
        "outputId": "134adefb-c81d-45db-9678-8bb14524f7e0"
      },
      "execution_count": null,
      "outputs": [
        {
          "output_type": "display_data",
          "data": {
            "text/plain": [
              "[1] 10 15  7 NA  0"
            ],
            "text/latex": "\\begin{enumerate*}\n\\item 10\n\\item 15\n\\item 7\n\\item <NA>\n\\item 0\n\\end{enumerate*}\n",
            "text/markdown": "1. 10\n2. 15\n3. 7\n4. &lt;NA&gt;\n5. 0\n\n\n",
            "text/html": [
              "<style>\n",
              ".list-inline {list-style: none; margin:0; padding: 0}\n",
              ".list-inline>li {display: inline-block}\n",
              ".list-inline>li:not(:last-child)::after {content: \"\\00b7\"; padding: 0 .5ex}\n",
              "</style>\n",
              "<ol class=list-inline><li>10</li><li>15</li><li>7</li><li>&lt;NA&gt;</li><li>0</li></ol>\n"
            ]
          },
          "metadata": {}
        }
      ]
    },
    {
      "cell_type": "code",
      "source": [
        "index_not_na = !is.na(myvec3)\n",
        "index_not_na "
      ],
      "metadata": {
        "colab": {
          "base_uri": "https://localhost:8080/",
          "height": 34
        },
        "id": "VjjX3dkDVErI",
        "outputId": "3bf649f4-a8fd-4ad4-9be2-e7e35e5f1cd7"
      },
      "execution_count": null,
      "outputs": [
        {
          "output_type": "display_data",
          "data": {
            "text/plain": [
              "[1]  TRUE  TRUE  TRUE FALSE  TRUE"
            ],
            "text/latex": "\\begin{enumerate*}\n\\item TRUE\n\\item TRUE\n\\item TRUE\n\\item FALSE\n\\item TRUE\n\\end{enumerate*}\n",
            "text/markdown": "1. TRUE\n2. TRUE\n3. TRUE\n4. FALSE\n5. TRUE\n\n\n",
            "text/html": [
              "<style>\n",
              ".list-inline {list-style: none; margin:0; padding: 0}\n",
              ".list-inline>li {display: inline-block}\n",
              ".list-inline>li:not(:last-child)::after {content: \"\\00b7\"; padding: 0 .5ex}\n",
              "</style>\n",
              "<ol class=list-inline><li>TRUE</li><li>TRUE</li><li>TRUE</li><li>FALSE</li><li>TRUE</li></ol>\n"
            ]
          },
          "metadata": {}
        }
      ]
    },
    {
      "cell_type": "code",
      "source": [
        "sum(myvec3[index_not_na]) # este codigo es confuso y solo se ha hecho \n",
        "                          # para efectos pedagogicos, es mucho mejor \n",
        "                          # sum(myvec3, na.rm=TRUE)"
      ],
      "metadata": {
        "colab": {
          "base_uri": "https://localhost:8080/",
          "height": 34
        },
        "id": "DXQJ1w4MVg-4",
        "outputId": "593a56fc-4b1d-455d-e66f-8eb53efe9589"
      },
      "execution_count": null,
      "outputs": [
        {
          "output_type": "display_data",
          "data": {
            "text/plain": [
              "[1] 32"
            ],
            "text/latex": "32",
            "text/markdown": "32",
            "text/html": [
              "32"
            ]
          },
          "metadata": {}
        }
      ]
    },
    {
      "cell_type": "code",
      "source": [
        "?rep"
      ],
      "metadata": {
        "id": "Z2B9XmHbVmwu"
      },
      "execution_count": null,
      "outputs": []
    },
    {
      "cell_type": "code",
      "source": [
        "?sum"
      ],
      "metadata": {
        "id": "kHtR3gWDV6Oi"
      },
      "execution_count": null,
      "outputs": []
    },
    {
      "cell_type": "markdown",
      "source": [
        "Repetir el valor 42 unas 10 veces en un vector, lo puedo hacer con rep."
      ],
      "metadata": {
        "id": "Ow8erRxaWOYB"
      }
    },
    {
      "cell_type": "code",
      "source": [
        "rep(42, 10)"
      ],
      "metadata": {
        "colab": {
          "base_uri": "https://localhost:8080/",
          "height": 34
        },
        "id": "vJLvST6JWGXs",
        "outputId": "551660a7-f36b-4b9d-9f62-989578928c20"
      },
      "execution_count": null,
      "outputs": [
        {
          "output_type": "display_data",
          "data": {
            "text/plain": [
              " [1] 42 42 42 42 42 42 42 42 42 42"
            ],
            "text/latex": "\\begin{enumerate*}\n\\item 42\n\\item 42\n\\item 42\n\\item 42\n\\item 42\n\\item 42\n\\item 42\n\\item 42\n\\item 42\n\\item 42\n\\end{enumerate*}\n",
            "text/markdown": "1. 42\n2. 42\n3. 42\n4. 42\n5. 42\n6. 42\n7. 42\n8. 42\n9. 42\n10. 42\n\n\n",
            "text/html": [
              "<style>\n",
              ".list-inline {list-style: none; margin:0; padding: 0}\n",
              ".list-inline>li {display: inline-block}\n",
              ".list-inline>li:not(:last-child)::after {content: \"\\00b7\"; padding: 0 .5ex}\n",
              "</style>\n",
              "<ol class=list-inline><li>42</li><li>42</li><li>42</li><li>42</li><li>42</li><li>42</li><li>42</li><li>42</li><li>42</li><li>42</li></ol>\n"
            ]
          },
          "metadata": {}
        }
      ]
    },
    {
      "cell_type": "code",
      "source": [
        "rep(c(1, 2, 3), 10)"
      ],
      "metadata": {
        "colab": {
          "base_uri": "https://localhost:8080/",
          "height": 34
        },
        "id": "a42m0A8pWKU8",
        "outputId": "da346ce9-606a-4151-cb80-2bd356dd7f6d"
      },
      "execution_count": null,
      "outputs": [
        {
          "output_type": "display_data",
          "data": {
            "text/plain": [
              " [1] 1 2 3 1 2 3 1 2 3 1 2 3 1 2 3 1 2 3 1 2 3 1 2 3 1 2 3 1 2 3"
            ],
            "text/latex": "\\begin{enumerate*}\n\\item 1\n\\item 2\n\\item 3\n\\item 1\n\\item 2\n\\item 3\n\\item 1\n\\item 2\n\\item 3\n\\item 1\n\\item 2\n\\item 3\n\\item 1\n\\item 2\n\\item 3\n\\item 1\n\\item 2\n\\item 3\n\\item 1\n\\item 2\n\\item 3\n\\item 1\n\\item 2\n\\item 3\n\\item 1\n\\item 2\n\\item 3\n\\item 1\n\\item 2\n\\item 3\n\\end{enumerate*}\n",
            "text/markdown": "1. 1\n2. 2\n3. 3\n4. 1\n5. 2\n6. 3\n7. 1\n8. 2\n9. 3\n10. 1\n11. 2\n12. 3\n13. 1\n14. 2\n15. 3\n16. 1\n17. 2\n18. 3\n19. 1\n20. 2\n21. 3\n22. 1\n23. 2\n24. 3\n25. 1\n26. 2\n27. 3\n28. 1\n29. 2\n30. 3\n\n\n",
            "text/html": [
              "<style>\n",
              ".list-inline {list-style: none; margin:0; padding: 0}\n",
              ".list-inline>li {display: inline-block}\n",
              ".list-inline>li:not(:last-child)::after {content: \"\\00b7\"; padding: 0 .5ex}\n",
              "</style>\n",
              "<ol class=list-inline><li>1</li><li>2</li><li>3</li><li>1</li><li>2</li><li>3</li><li>1</li><li>2</li><li>3</li><li>1</li><li>2</li><li>3</li><li>1</li><li>2</li><li>3</li><li>1</li><li>2</li><li>3</li><li>1</li><li>2</li><li>3</li><li>1</li><li>2</li><li>3</li><li>1</li><li>2</li><li>3</li><li>1</li><li>2</li><li>3</li></ol>\n"
            ]
          },
          "metadata": {}
        }
      ]
    },
    {
      "cell_type": "code",
      "source": [
        "rep(c(1,2,3), times=10)"
      ],
      "metadata": {
        "colab": {
          "base_uri": "https://localhost:8080/",
          "height": 34
        },
        "id": "RexjKcEXWrNq",
        "outputId": "7914002a-fb5c-4449-ecfb-eb64540ff639"
      },
      "execution_count": null,
      "outputs": [
        {
          "output_type": "display_data",
          "data": {
            "text/plain": [
              " [1] 1 2 3 1 2 3 1 2 3 1 2 3 1 2 3 1 2 3 1 2 3 1 2 3 1 2 3 1 2 3"
            ],
            "text/latex": "\\begin{enumerate*}\n\\item 1\n\\item 2\n\\item 3\n\\item 1\n\\item 2\n\\item 3\n\\item 1\n\\item 2\n\\item 3\n\\item 1\n\\item 2\n\\item 3\n\\item 1\n\\item 2\n\\item 3\n\\item 1\n\\item 2\n\\item 3\n\\item 1\n\\item 2\n\\item 3\n\\item 1\n\\item 2\n\\item 3\n\\item 1\n\\item 2\n\\item 3\n\\item 1\n\\item 2\n\\item 3\n\\end{enumerate*}\n",
            "text/markdown": "1. 1\n2. 2\n3. 3\n4. 1\n5. 2\n6. 3\n7. 1\n8. 2\n9. 3\n10. 1\n11. 2\n12. 3\n13. 1\n14. 2\n15. 3\n16. 1\n17. 2\n18. 3\n19. 1\n20. 2\n21. 3\n22. 1\n23. 2\n24. 3\n25. 1\n26. 2\n27. 3\n28. 1\n29. 2\n30. 3\n\n\n",
            "text/html": [
              "<style>\n",
              ".list-inline {list-style: none; margin:0; padding: 0}\n",
              ".list-inline>li {display: inline-block}\n",
              ".list-inline>li:not(:last-child)::after {content: \"\\00b7\"; padding: 0 .5ex}\n",
              "</style>\n",
              "<ol class=list-inline><li>1</li><li>2</li><li>3</li><li>1</li><li>2</li><li>3</li><li>1</li><li>2</li><li>3</li><li>1</li><li>2</li><li>3</li><li>1</li><li>2</li><li>3</li><li>1</li><li>2</li><li>3</li><li>1</li><li>2</li><li>3</li><li>1</li><li>2</li><li>3</li><li>1</li><li>2</li><li>3</li><li>1</li><li>2</li><li>3</li></ol>\n"
            ]
          },
          "metadata": {}
        }
      ]
    },
    {
      "cell_type": "code",
      "source": [
        "rep(x=c(1,2,3), times=10)"
      ],
      "metadata": {
        "colab": {
          "base_uri": "https://localhost:8080/",
          "height": 34
        },
        "id": "mtGmwalhW2P4",
        "outputId": "7098d66d-5481-4a24-fa66-f5b50f797df9"
      },
      "execution_count": null,
      "outputs": [
        {
          "output_type": "display_data",
          "data": {
            "text/plain": [
              " [1] 1 2 3 1 2 3 1 2 3 1 2 3 1 2 3 1 2 3 1 2 3 1 2 3 1 2 3 1 2 3"
            ],
            "text/latex": "\\begin{enumerate*}\n\\item 1\n\\item 2\n\\item 3\n\\item 1\n\\item 2\n\\item 3\n\\item 1\n\\item 2\n\\item 3\n\\item 1\n\\item 2\n\\item 3\n\\item 1\n\\item 2\n\\item 3\n\\item 1\n\\item 2\n\\item 3\n\\item 1\n\\item 2\n\\item 3\n\\item 1\n\\item 2\n\\item 3\n\\item 1\n\\item 2\n\\item 3\n\\item 1\n\\item 2\n\\item 3\n\\end{enumerate*}\n",
            "text/markdown": "1. 1\n2. 2\n3. 3\n4. 1\n5. 2\n6. 3\n7. 1\n8. 2\n9. 3\n10. 1\n11. 2\n12. 3\n13. 1\n14. 2\n15. 3\n16. 1\n17. 2\n18. 3\n19. 1\n20. 2\n21. 3\n22. 1\n23. 2\n24. 3\n25. 1\n26. 2\n27. 3\n28. 1\n29. 2\n30. 3\n\n\n",
            "text/html": [
              "<style>\n",
              ".list-inline {list-style: none; margin:0; padding: 0}\n",
              ".list-inline>li {display: inline-block}\n",
              ".list-inline>li:not(:last-child)::after {content: \"\\00b7\"; padding: 0 .5ex}\n",
              "</style>\n",
              "<ol class=list-inline><li>1</li><li>2</li><li>3</li><li>1</li><li>2</li><li>3</li><li>1</li><li>2</li><li>3</li><li>1</li><li>2</li><li>3</li><li>1</li><li>2</li><li>3</li><li>1</li><li>2</li><li>3</li><li>1</li><li>2</li><li>3</li><li>1</li><li>2</li><li>3</li><li>1</li><li>2</li><li>3</li><li>1</li><li>2</li><li>3</li></ol>\n"
            ]
          },
          "metadata": {}
        }
      ]
    },
    {
      "cell_type": "code",
      "source": [
        "rep(times=10, x=c(1,2,3))"
      ],
      "metadata": {
        "colab": {
          "base_uri": "https://localhost:8080/",
          "height": 34
        },
        "id": "UmK_UnGiW5u1",
        "outputId": "0b17996b-90a0-4084-e572-e6406751e994"
      },
      "execution_count": null,
      "outputs": [
        {
          "output_type": "display_data",
          "data": {
            "text/plain": [
              " [1] 1 2 3 1 2 3 1 2 3 1 2 3 1 2 3 1 2 3 1 2 3 1 2 3 1 2 3 1 2 3"
            ],
            "text/latex": "\\begin{enumerate*}\n\\item 1\n\\item 2\n\\item 3\n\\item 1\n\\item 2\n\\item 3\n\\item 1\n\\item 2\n\\item 3\n\\item 1\n\\item 2\n\\item 3\n\\item 1\n\\item 2\n\\item 3\n\\item 1\n\\item 2\n\\item 3\n\\item 1\n\\item 2\n\\item 3\n\\item 1\n\\item 2\n\\item 3\n\\item 1\n\\item 2\n\\item 3\n\\item 1\n\\item 2\n\\item 3\n\\end{enumerate*}\n",
            "text/markdown": "1. 1\n2. 2\n3. 3\n4. 1\n5. 2\n6. 3\n7. 1\n8. 2\n9. 3\n10. 1\n11. 2\n12. 3\n13. 1\n14. 2\n15. 3\n16. 1\n17. 2\n18. 3\n19. 1\n20. 2\n21. 3\n22. 1\n23. 2\n24. 3\n25. 1\n26. 2\n27. 3\n28. 1\n29. 2\n30. 3\n\n\n",
            "text/html": [
              "<style>\n",
              ".list-inline {list-style: none; margin:0; padding: 0}\n",
              ".list-inline>li {display: inline-block}\n",
              ".list-inline>li:not(:last-child)::after {content: \"\\00b7\"; padding: 0 .5ex}\n",
              "</style>\n",
              "<ol class=list-inline><li>1</li><li>2</li><li>3</li><li>1</li><li>2</li><li>3</li><li>1</li><li>2</li><li>3</li><li>1</li><li>2</li><li>3</li><li>1</li><li>2</li><li>3</li><li>1</li><li>2</li><li>3</li><li>1</li><li>2</li><li>3</li><li>1</li><li>2</li><li>3</li><li>1</li><li>2</li><li>3</li><li>1</li><li>2</li><li>3</li></ol>\n"
            ]
          },
          "metadata": {}
        }
      ]
    },
    {
      "cell_type": "code",
      "source": [
        "rep(10, c(1,2,3))"
      ],
      "metadata": {
        "colab": {
          "base_uri": "https://localhost:8080/",
          "height": 99
        },
        "id": "FCtDU0mgXBGO",
        "outputId": "d0b7c910-8c58-4e68-e9d7-66d44e413aab"
      },
      "execution_count": null,
      "outputs": [
        {
          "output_type": "error",
          "ename": "ERROR",
          "evalue": "ignored",
          "traceback": [
            "Error in rep(10, c(1, 2, 3)): invalid 'times' argument\nTraceback:\n"
          ]
        }
      ]
    },
    {
      "cell_type": "code",
      "source": [
        "rep(c(1,2,3), times=10)"
      ],
      "metadata": {
        "colab": {
          "base_uri": "https://localhost:8080/",
          "height": 34
        },
        "id": "x4Bu4IyaXPt4",
        "outputId": "c550f1af-4da5-4070-e5fa-e56f5eacd838"
      },
      "execution_count": null,
      "outputs": [
        {
          "output_type": "display_data",
          "data": {
            "text/plain": [
              " [1] 1 2 3 1 2 3 1 2 3 1 2 3 1 2 3 1 2 3 1 2 3 1 2 3 1 2 3 1 2 3"
            ],
            "text/latex": "\\begin{enumerate*}\n\\item 1\n\\item 2\n\\item 3\n\\item 1\n\\item 2\n\\item 3\n\\item 1\n\\item 2\n\\item 3\n\\item 1\n\\item 2\n\\item 3\n\\item 1\n\\item 2\n\\item 3\n\\item 1\n\\item 2\n\\item 3\n\\item 1\n\\item 2\n\\item 3\n\\item 1\n\\item 2\n\\item 3\n\\item 1\n\\item 2\n\\item 3\n\\item 1\n\\item 2\n\\item 3\n\\end{enumerate*}\n",
            "text/markdown": "1. 1\n2. 2\n3. 3\n4. 1\n5. 2\n6. 3\n7. 1\n8. 2\n9. 3\n10. 1\n11. 2\n12. 3\n13. 1\n14. 2\n15. 3\n16. 1\n17. 2\n18. 3\n19. 1\n20. 2\n21. 3\n22. 1\n23. 2\n24. 3\n25. 1\n26. 2\n27. 3\n28. 1\n29. 2\n30. 3\n\n\n",
            "text/html": [
              "<style>\n",
              ".list-inline {list-style: none; margin:0; padding: 0}\n",
              ".list-inline>li {display: inline-block}\n",
              ".list-inline>li:not(:last-child)::after {content: \"\\00b7\"; padding: 0 .5ex}\n",
              "</style>\n",
              "<ol class=list-inline><li>1</li><li>2</li><li>3</li><li>1</li><li>2</li><li>3</li><li>1</li><li>2</li><li>3</li><li>1</li><li>2</li><li>3</li><li>1</li><li>2</li><li>3</li><li>1</li><li>2</li><li>3</li><li>1</li><li>2</li><li>3</li><li>1</li><li>2</li><li>3</li><li>1</li><li>2</li><li>3</li><li>1</li><li>2</li><li>3</li></ol>\n"
            ]
          },
          "metadata": {}
        }
      ]
    },
    {
      "cell_type": "code",
      "source": [
        "rep(c(1,2,3), times=10, each=1)"
      ],
      "metadata": {
        "colab": {
          "base_uri": "https://localhost:8080/",
          "height": 34
        },
        "id": "7jnddADSXxN8",
        "outputId": "38977eca-a8a5-4f59-d043-9a5aecb37d1b"
      },
      "execution_count": null,
      "outputs": [
        {
          "output_type": "display_data",
          "data": {
            "text/plain": [
              " [1] 1 2 3 1 2 3 1 2 3 1 2 3 1 2 3 1 2 3 1 2 3 1 2 3 1 2 3 1 2 3"
            ],
            "text/latex": "\\begin{enumerate*}\n\\item 1\n\\item 2\n\\item 3\n\\item 1\n\\item 2\n\\item 3\n\\item 1\n\\item 2\n\\item 3\n\\item 1\n\\item 2\n\\item 3\n\\item 1\n\\item 2\n\\item 3\n\\item 1\n\\item 2\n\\item 3\n\\item 1\n\\item 2\n\\item 3\n\\item 1\n\\item 2\n\\item 3\n\\item 1\n\\item 2\n\\item 3\n\\item 1\n\\item 2\n\\item 3\n\\end{enumerate*}\n",
            "text/markdown": "1. 1\n2. 2\n3. 3\n4. 1\n5. 2\n6. 3\n7. 1\n8. 2\n9. 3\n10. 1\n11. 2\n12. 3\n13. 1\n14. 2\n15. 3\n16. 1\n17. 2\n18. 3\n19. 1\n20. 2\n21. 3\n22. 1\n23. 2\n24. 3\n25. 1\n26. 2\n27. 3\n28. 1\n29. 2\n30. 3\n\n\n",
            "text/html": [
              "<style>\n",
              ".list-inline {list-style: none; margin:0; padding: 0}\n",
              ".list-inline>li {display: inline-block}\n",
              ".list-inline>li:not(:last-child)::after {content: \"\\00b7\"; padding: 0 .5ex}\n",
              "</style>\n",
              "<ol class=list-inline><li>1</li><li>2</li><li>3</li><li>1</li><li>2</li><li>3</li><li>1</li><li>2</li><li>3</li><li>1</li><li>2</li><li>3</li><li>1</li><li>2</li><li>3</li><li>1</li><li>2</li><li>3</li><li>1</li><li>2</li><li>3</li><li>1</li><li>2</li><li>3</li><li>1</li><li>2</li><li>3</li><li>1</li><li>2</li><li>3</li></ol>\n"
            ]
          },
          "metadata": {}
        }
      ]
    },
    {
      "cell_type": "code",
      "source": [
        "rep(c(1,2,3), times=10, each=2)"
      ],
      "metadata": {
        "colab": {
          "base_uri": "https://localhost:8080/",
          "height": 52
        },
        "id": "CZiJhVMVXzNT",
        "outputId": "15f4e950-129b-4cf2-d776-63855d76c448"
      },
      "execution_count": null,
      "outputs": [
        {
          "output_type": "display_data",
          "data": {
            "text/plain": [
              " [1] 1 1 2 2 3 3 1 1 2 2 3 3 1 1 2 2 3 3 1 1 2 2 3 3 1 1 2 2 3 3 1 1 2 2 3 3 1 1\n",
              "[39] 2 2 3 3 1 1 2 2 3 3 1 1 2 2 3 3 1 1 2 2 3 3"
            ],
            "text/latex": "\\begin{enumerate*}\n\\item 1\n\\item 1\n\\item 2\n\\item 2\n\\item 3\n\\item 3\n\\item 1\n\\item 1\n\\item 2\n\\item 2\n\\item 3\n\\item 3\n\\item 1\n\\item 1\n\\item 2\n\\item 2\n\\item 3\n\\item 3\n\\item 1\n\\item 1\n\\item 2\n\\item 2\n\\item 3\n\\item 3\n\\item 1\n\\item 1\n\\item 2\n\\item 2\n\\item 3\n\\item 3\n\\item 1\n\\item 1\n\\item 2\n\\item 2\n\\item 3\n\\item 3\n\\item 1\n\\item 1\n\\item 2\n\\item 2\n\\item 3\n\\item 3\n\\item 1\n\\item 1\n\\item 2\n\\item 2\n\\item 3\n\\item 3\n\\item 1\n\\item 1\n\\item 2\n\\item 2\n\\item 3\n\\item 3\n\\item 1\n\\item 1\n\\item 2\n\\item 2\n\\item 3\n\\item 3\n\\end{enumerate*}\n",
            "text/markdown": "1. 1\n2. 1\n3. 2\n4. 2\n5. 3\n6. 3\n7. 1\n8. 1\n9. 2\n10. 2\n11. 3\n12. 3\n13. 1\n14. 1\n15. 2\n16. 2\n17. 3\n18. 3\n19. 1\n20. 1\n21. 2\n22. 2\n23. 3\n24. 3\n25. 1\n26. 1\n27. 2\n28. 2\n29. 3\n30. 3\n31. 1\n32. 1\n33. 2\n34. 2\n35. 3\n36. 3\n37. 1\n38. 1\n39. 2\n40. 2\n41. 3\n42. 3\n43. 1\n44. 1\n45. 2\n46. 2\n47. 3\n48. 3\n49. 1\n50. 1\n51. 2\n52. 2\n53. 3\n54. 3\n55. 1\n56. 1\n57. 2\n58. 2\n59. 3\n60. 3\n\n\n",
            "text/html": [
              "<style>\n",
              ".list-inline {list-style: none; margin:0; padding: 0}\n",
              ".list-inline>li {display: inline-block}\n",
              ".list-inline>li:not(:last-child)::after {content: \"\\00b7\"; padding: 0 .5ex}\n",
              "</style>\n",
              "<ol class=list-inline><li>1</li><li>1</li><li>2</li><li>2</li><li>3</li><li>3</li><li>1</li><li>1</li><li>2</li><li>2</li><li>3</li><li>3</li><li>1</li><li>1</li><li>2</li><li>2</li><li>3</li><li>3</li><li>1</li><li>1</li><li>2</li><li>2</li><li>3</li><li>3</li><li>1</li><li>1</li><li>2</li><li>2</li><li>3</li><li>3</li><li>1</li><li>1</li><li>2</li><li>2</li><li>3</li><li>3</li><li>1</li><li>1</li><li>2</li><li>2</li><li>3</li><li>3</li><li>1</li><li>1</li><li>2</li><li>2</li><li>3</li><li>3</li><li>1</li><li>1</li><li>2</li><li>2</li><li>3</li><li>3</li><li>1</li><li>1</li><li>2</li><li>2</li><li>3</li><li>3</li></ol>\n"
            ]
          },
          "metadata": {}
        }
      ]
    },
    {
      "cell_type": "code",
      "source": [
        "rep(c(1,2,3), times=10, each=4)"
      ],
      "metadata": {
        "colab": {
          "base_uri": "https://localhost:8080/",
          "height": 69
        },
        "id": "LNNmD3CVX3i0",
        "outputId": "d70518e1-8acd-4291-845f-37453ef5f460"
      },
      "execution_count": null,
      "outputs": [
        {
          "output_type": "display_data",
          "data": {
            "text/plain": [
              "  [1] 1 1 1 1 2 2 2 2 3 3 3 3 1 1 1 1 2 2 2 2 3 3 3 3 1 1 1 1 2 2 2 2 3 3 3 3 1\n",
              " [38] 1 1 1 2 2 2 2 3 3 3 3 1 1 1 1 2 2 2 2 3 3 3 3 1 1 1 1 2 2 2 2 3 3 3 3 1 1\n",
              " [75] 1 1 2 2 2 2 3 3 3 3 1 1 1 1 2 2 2 2 3 3 3 3 1 1 1 1 2 2 2 2 3 3 3 3 1 1 1\n",
              "[112] 1 2 2 2 2 3 3 3 3"
            ],
            "text/latex": "\\begin{enumerate*}\n\\item 1\n\\item 1\n\\item 1\n\\item 1\n\\item 2\n\\item 2\n\\item 2\n\\item 2\n\\item 3\n\\item 3\n\\item 3\n\\item 3\n\\item 1\n\\item 1\n\\item 1\n\\item 1\n\\item 2\n\\item 2\n\\item 2\n\\item 2\n\\item 3\n\\item 3\n\\item 3\n\\item 3\n\\item 1\n\\item 1\n\\item 1\n\\item 1\n\\item 2\n\\item 2\n\\item 2\n\\item 2\n\\item 3\n\\item 3\n\\item 3\n\\item 3\n\\item 1\n\\item 1\n\\item 1\n\\item 1\n\\item 2\n\\item 2\n\\item 2\n\\item 2\n\\item 3\n\\item 3\n\\item 3\n\\item 3\n\\item 1\n\\item 1\n\\item 1\n\\item 1\n\\item 2\n\\item 2\n\\item 2\n\\item 2\n\\item 3\n\\item 3\n\\item 3\n\\item 3\n\\item 1\n\\item 1\n\\item 1\n\\item 1\n\\item 2\n\\item 2\n\\item 2\n\\item 2\n\\item 3\n\\item 3\n\\item 3\n\\item 3\n\\item 1\n\\item 1\n\\item 1\n\\item 1\n\\item 2\n\\item 2\n\\item 2\n\\item 2\n\\item 3\n\\item 3\n\\item 3\n\\item 3\n\\item 1\n\\item 1\n\\item 1\n\\item 1\n\\item 2\n\\item 2\n\\item 2\n\\item 2\n\\item 3\n\\item 3\n\\item 3\n\\item 3\n\\item 1\n\\item 1\n\\item 1\n\\item 1\n\\item 2\n\\item 2\n\\item 2\n\\item 2\n\\item 3\n\\item 3\n\\item 3\n\\item 3\n\\item 1\n\\item 1\n\\item 1\n\\item 1\n\\item 2\n\\item 2\n\\item 2\n\\item 2\n\\item 3\n\\item 3\n\\item 3\n\\item 3\n\\end{enumerate*}\n",
            "text/markdown": "1. 1\n2. 1\n3. 1\n4. 1\n5. 2\n6. 2\n7. 2\n8. 2\n9. 3\n10. 3\n11. 3\n12. 3\n13. 1\n14. 1\n15. 1\n16. 1\n17. 2\n18. 2\n19. 2\n20. 2\n21. 3\n22. 3\n23. 3\n24. 3\n25. 1\n26. 1\n27. 1\n28. 1\n29. 2\n30. 2\n31. 2\n32. 2\n33. 3\n34. 3\n35. 3\n36. 3\n37. 1\n38. 1\n39. 1\n40. 1\n41. 2\n42. 2\n43. 2\n44. 2\n45. 3\n46. 3\n47. 3\n48. 3\n49. 1\n50. 1\n51. 1\n52. 1\n53. 2\n54. 2\n55. 2\n56. 2\n57. 3\n58. 3\n59. 3\n60. 3\n61. 1\n62. 1\n63. 1\n64. 1\n65. 2\n66. 2\n67. 2\n68. 2\n69. 3\n70. 3\n71. 3\n72. 3\n73. 1\n74. 1\n75. 1\n76. 1\n77. 2\n78. 2\n79. 2\n80. 2\n81. 3\n82. 3\n83. 3\n84. 3\n85. 1\n86. 1\n87. 1\n88. 1\n89. 2\n90. 2\n91. 2\n92. 2\n93. 3\n94. 3\n95. 3\n96. 3\n97. 1\n98. 1\n99. 1\n100. 1\n101. 2\n102. 2\n103. 2\n104. 2\n105. 3\n106. 3\n107. 3\n108. 3\n109. 1\n110. 1\n111. 1\n112. 1\n113. 2\n114. 2\n115. 2\n116. 2\n117. 3\n118. 3\n119. 3\n120. 3\n\n\n",
            "text/html": [
              "<style>\n",
              ".list-inline {list-style: none; margin:0; padding: 0}\n",
              ".list-inline>li {display: inline-block}\n",
              ".list-inline>li:not(:last-child)::after {content: \"\\00b7\"; padding: 0 .5ex}\n",
              "</style>\n",
              "<ol class=list-inline><li>1</li><li>1</li><li>1</li><li>1</li><li>2</li><li>2</li><li>2</li><li>2</li><li>3</li><li>3</li><li>3</li><li>3</li><li>1</li><li>1</li><li>1</li><li>1</li><li>2</li><li>2</li><li>2</li><li>2</li><li>3</li><li>3</li><li>3</li><li>3</li><li>1</li><li>1</li><li>1</li><li>1</li><li>2</li><li>2</li><li>2</li><li>2</li><li>3</li><li>3</li><li>3</li><li>3</li><li>1</li><li>1</li><li>1</li><li>1</li><li>2</li><li>2</li><li>2</li><li>2</li><li>3</li><li>3</li><li>3</li><li>3</li><li>1</li><li>1</li><li>1</li><li>1</li><li>2</li><li>2</li><li>2</li><li>2</li><li>3</li><li>3</li><li>3</li><li>3</li><li>1</li><li>1</li><li>1</li><li>1</li><li>2</li><li>2</li><li>2</li><li>2</li><li>3</li><li>3</li><li>3</li><li>3</li><li>1</li><li>1</li><li>1</li><li>1</li><li>2</li><li>2</li><li>2</li><li>2</li><li>3</li><li>3</li><li>3</li><li>3</li><li>1</li><li>1</li><li>1</li><li>1</li><li>2</li><li>2</li><li>2</li><li>2</li><li>3</li><li>3</li><li>3</li><li>3</li><li>1</li><li>1</li><li>1</li><li>1</li><li>2</li><li>2</li><li>2</li><li>2</li><li>3</li><li>3</li><li>3</li><li>3</li><li>1</li><li>1</li><li>1</li><li>1</li><li>2</li><li>2</li><li>2</li><li>2</li><li>3</li><li>3</li><li>3</li><li>3</li></ol>\n"
            ]
          },
          "metadata": {}
        }
      ]
    },
    {
      "cell_type": "markdown",
      "source": [
        "# Listas"
      ],
      "metadata": {
        "id": "aaatq5dOajFj"
      }
    },
    {
      "cell_type": "code",
      "source": [
        "my_list <- list(num=42, greeting=\"Hello world\")"
      ],
      "metadata": {
        "id": "Uy4d_zo5am0u"
      },
      "execution_count": null,
      "outputs": []
    },
    {
      "cell_type": "code",
      "source": [
        "my_list"
      ],
      "metadata": {
        "colab": {
          "base_uri": "https://localhost:8080/",
          "height": 114
        },
        "id": "ROuGojcSa235",
        "outputId": "03c28985-c50b-46fb-846f-3d1a7446a199"
      },
      "execution_count": null,
      "outputs": [
        {
          "output_type": "display_data",
          "data": {
            "text/plain": [
              "$num\n",
              "[1] 42\n",
              "\n",
              "$greeting\n",
              "[1] \"Hello world\"\n"
            ],
            "text/latex": "\\begin{description}\n\\item[\\$num] 42\n\\item[\\$greeting] 'Hello world'\n\\end{description}\n",
            "text/markdown": "$num\n:   42\n$greeting\n:   'Hello world'\n\n\n",
            "text/html": [
              "<dl>\n",
              "\t<dt>$num</dt>\n",
              "\t\t<dd>42</dd>\n",
              "\t<dt>$greeting</dt>\n",
              "\t\t<dd>'Hello world'</dd>\n",
              "</dl>\n"
            ]
          },
          "metadata": {}
        }
      ]
    },
    {
      "cell_type": "code",
      "source": [
        "my_list$num"
      ],
      "metadata": {
        "colab": {
          "base_uri": "https://localhost:8080/",
          "height": 34
        },
        "id": "eluaSsjna66P",
        "outputId": "e86006da-f459-4560-cd8c-92fb758bf058"
      },
      "execution_count": null,
      "outputs": [
        {
          "output_type": "display_data",
          "data": {
            "text/plain": [
              "[1] 42"
            ],
            "text/latex": "42",
            "text/markdown": "42",
            "text/html": [
              "42"
            ]
          },
          "metadata": {}
        }
      ]
    },
    {
      "cell_type": "code",
      "source": [
        "my_list$greeting"
      ],
      "metadata": {
        "colab": {
          "base_uri": "https://localhost:8080/",
          "height": 34
        },
        "id": "tMr3XGoza_hs",
        "outputId": "6cbe0f2a-fdf9-4e3b-a070-a36831da7b5c"
      },
      "execution_count": null,
      "outputs": [
        {
          "output_type": "display_data",
          "data": {
            "text/plain": [
              "[1] \"Hello world\""
            ],
            "text/latex": "'Hello world'",
            "text/markdown": "'Hello world'",
            "text/html": [
              "'Hello world'"
            ]
          },
          "metadata": {}
        }
      ]
    },
    {
      "cell_type": "code",
      "source": [
        "my_list[1] # Me devuelve el elemento 1 como una lista. "
      ],
      "metadata": {
        "colab": {
          "base_uri": "https://localhost:8080/",
          "height": 34
        },
        "id": "L3ux-R3nbE-7",
        "outputId": "61b8687c-815a-42c6-a41e-3949e16cc67a"
      },
      "execution_count": null,
      "outputs": [
        {
          "output_type": "display_data",
          "data": {
            "text/plain": [
              "$num\n",
              "[1] 42\n"
            ],
            "text/latex": "\\textbf{\\$num} = 42",
            "text/markdown": "**$num** = 42",
            "text/html": [
              "<strong>$num</strong> = 42"
            ]
          },
          "metadata": {}
        }
      ]
    },
    {
      "cell_type": "code",
      "source": [
        "my_list[[1]] # Accesando al elemento num de la lista.  "
      ],
      "metadata": {
        "colab": {
          "base_uri": "https://localhost:8080/",
          "height": 34
        },
        "id": "bq6M79e5bJyg",
        "outputId": "a837a72c-23ad-4fac-f88d-722f1d87c08d"
      },
      "execution_count": null,
      "outputs": [
        {
          "output_type": "display_data",
          "data": {
            "text/plain": [
              "[1] 42"
            ],
            "text/latex": "42",
            "text/markdown": "42",
            "text/html": [
              "42"
            ]
          },
          "metadata": {}
        }
      ]
    },
    {
      "cell_type": "code",
      "source": [
        "my_list[[2]]"
      ],
      "metadata": {
        "colab": {
          "base_uri": "https://localhost:8080/",
          "height": 34
        },
        "id": "7zXdP769bd9J",
        "outputId": "dc8a70d6-3439-41e0-d351-d3a36b5d3586"
      },
      "execution_count": null,
      "outputs": [
        {
          "output_type": "display_data",
          "data": {
            "text/plain": [
              "[1] \"Hello world\""
            ],
            "text/latex": "'Hello world'",
            "text/markdown": "'Hello world'",
            "text/html": [
              "'Hello world'"
            ]
          },
          "metadata": {}
        }
      ]
    },
    {
      "cell_type": "markdown",
      "source": [
        "Ejemplo de como nombrar los elementos de un vector. "
      ],
      "metadata": {
        "id": "Ssw91zDrcQg1"
      }
    },
    {
      "cell_type": "code",
      "source": [
        "numeros <- c(1, 2, 3)"
      ],
      "metadata": {
        "id": "6zjNxB_3bpSX"
      },
      "execution_count": null,
      "outputs": []
    },
    {
      "cell_type": "code",
      "source": [
        "numeros"
      ],
      "metadata": {
        "colab": {
          "base_uri": "https://localhost:8080/",
          "height": 34
        },
        "id": "HyCDyQ0lcc8V",
        "outputId": "24dc4bf4-83b8-47f6-9657-7dc621920851"
      },
      "execution_count": null,
      "outputs": [
        {
          "output_type": "display_data",
          "data": {
            "text/plain": [
              "[1] 1 2 3"
            ],
            "text/latex": "\\begin{enumerate*}\n\\item 1\n\\item 2\n\\item 3\n\\end{enumerate*}\n",
            "text/markdown": "1. 1\n2. 2\n3. 3\n\n\n",
            "text/html": [
              "<style>\n",
              ".list-inline {list-style: none; margin:0; padding: 0}\n",
              ".list-inline>li {display: inline-block}\n",
              ".list-inline>li:not(:last-child)::after {content: \"\\00b7\"; padding: 0 .5ex}\n",
              "</style>\n",
              "<ol class=list-inline><li>1</li><li>2</li><li>3</li></ol>\n"
            ]
          },
          "metadata": {}
        }
      ]
    },
    {
      "cell_type": "code",
      "source": [
        "names(numeros)"
      ],
      "metadata": {
        "colab": {
          "base_uri": "https://localhost:8080/",
          "height": 35
        },
        "id": "l2j2P6W4ceCN",
        "outputId": "69304506-2465-40c6-f3c7-857707fb3171"
      },
      "execution_count": null,
      "outputs": [
        {
          "output_type": "display_data",
          "data": {
            "text/plain": [
              "NULL"
            ]
          },
          "metadata": {}
        }
      ]
    },
    {
      "cell_type": "code",
      "source": [
        "names(numeros) <- c(\"primero\", \"segundo\", \"tercero\")"
      ],
      "metadata": {
        "id": "XHtf_B4DchuU"
      },
      "execution_count": null,
      "outputs": []
    },
    {
      "cell_type": "code",
      "source": [
        "numeros"
      ],
      "metadata": {
        "colab": {
          "base_uri": "https://localhost:8080/",
          "height": 34
        },
        "id": "gHQujpgqcnIE",
        "outputId": "a5a3f024-6146-4d24-b3d4-b272e46cda50"
      },
      "execution_count": null,
      "outputs": [
        {
          "output_type": "display_data",
          "data": {
            "text/plain": [
              "primero segundo tercero \n",
              "      1       2       3 "
            ],
            "text/latex": "\\begin{description*}\n\\item[primero] 1\n\\item[segundo] 2\n\\item[tercero] 3\n\\end{description*}\n",
            "text/markdown": "primero\n:   1segundo\n:   2tercero\n:   3\n\n",
            "text/html": [
              "<style>\n",
              ".dl-inline {width: auto; margin:0; padding: 0}\n",
              ".dl-inline>dt, .dl-inline>dd {float: none; width: auto; display: inline-block}\n",
              ".dl-inline>dt::after {content: \":\\0020\"; padding-right: .5ex}\n",
              ".dl-inline>dt:not(:first-of-type) {padding-left: .5ex}\n",
              "</style><dl class=dl-inline><dt>primero</dt><dd>1</dd><dt>segundo</dt><dd>2</dd><dt>tercero</dt><dd>3</dd></dl>\n"
            ]
          },
          "metadata": {}
        }
      ]
    },
    {
      "cell_type": "markdown",
      "source": [
        "Si no estoy seguro del tipo de objeto puedo usar las siguientes funciones: \n"
      ],
      "metadata": {
        "id": "tluGtiZBc5ti"
      }
    },
    {
      "cell_type": "code",
      "source": [
        "class(myvec)"
      ],
      "metadata": {
        "colab": {
          "base_uri": "https://localhost:8080/",
          "height": 34
        },
        "id": "PzjasLJucnxx",
        "outputId": "4bf1b4f8-ffb4-4102-c54b-a2595f4748c7"
      },
      "execution_count": null,
      "outputs": [
        {
          "output_type": "display_data",
          "data": {
            "text/plain": [
              "[1] \"numeric\""
            ],
            "text/latex": "'numeric'",
            "text/markdown": "'numeric'",
            "text/html": [
              "'numeric'"
            ]
          },
          "metadata": {}
        }
      ]
    },
    {
      "cell_type": "code",
      "source": [
        "typeof(myvec)"
      ],
      "metadata": {
        "colab": {
          "base_uri": "https://localhost:8080/",
          "height": 34
        },
        "id": "yJZVj1zydFWx",
        "outputId": "b3bc8a93-ea7f-4462-af45-fdb101a5e0d1"
      },
      "execution_count": null,
      "outputs": [
        {
          "output_type": "display_data",
          "data": {
            "text/plain": [
              "[1] \"double\""
            ],
            "text/latex": "'double'",
            "text/markdown": "'double'",
            "text/html": [
              "'double'"
            ]
          },
          "metadata": {}
        }
      ]
    },
    {
      "cell_type": "code",
      "source": [
        "str(myvec)"
      ],
      "metadata": {
        "colab": {
          "base_uri": "https://localhost:8080/"
        },
        "id": "J-9F1foWdOBJ",
        "outputId": "37a4a210-2a98-475c-d102-6a73ac948934"
      },
      "execution_count": null,
      "outputs": [
        {
          "output_type": "stream",
          "name": "stdout",
          "text": [
            " num [1:5] 10 5 30 40 50\n"
          ]
        }
      ]
    },
    {
      "cell_type": "code",
      "source": [
        "class(my_list)"
      ],
      "metadata": {
        "colab": {
          "base_uri": "https://localhost:8080/",
          "height": 34
        },
        "id": "UoP7ZiFWdGrR",
        "outputId": "ca8024a6-9c04-4d3f-a344-3768fe5ae385"
      },
      "execution_count": null,
      "outputs": [
        {
          "output_type": "display_data",
          "data": {
            "text/plain": [
              "[1] \"list\""
            ],
            "text/latex": "'list'",
            "text/markdown": "'list'",
            "text/html": [
              "'list'"
            ]
          },
          "metadata": {}
        }
      ]
    },
    {
      "cell_type": "code",
      "source": [
        "typeof(my_list)"
      ],
      "metadata": {
        "colab": {
          "base_uri": "https://localhost:8080/",
          "height": 34
        },
        "id": "sAUB2xvAdJpw",
        "outputId": "77b3eb8d-7516-4677-b389-cf7aa91f694c"
      },
      "execution_count": null,
      "outputs": [
        {
          "output_type": "display_data",
          "data": {
            "text/plain": [
              "[1] \"list\""
            ],
            "text/latex": "'list'",
            "text/markdown": "'list'",
            "text/html": [
              "'list'"
            ]
          },
          "metadata": {}
        }
      ]
    },
    {
      "cell_type": "code",
      "source": [
        "str(my_list)"
      ],
      "metadata": {
        "colab": {
          "base_uri": "https://localhost:8080/"
        },
        "id": "SUgT8Q-cdTRU",
        "outputId": "6e992a33-7cb6-4b34-f33b-1ce4783b3a96"
      },
      "execution_count": null,
      "outputs": [
        {
          "output_type": "stream",
          "name": "stdout",
          "text": [
            "List of 2\n",
            " $ num     : num 42\n",
            " $ greeting: chr \"Hello world\"\n"
          ]
        }
      ]
    },
    {
      "cell_type": "code",
      "source": [
        ""
      ],
      "metadata": {
        "id": "JJyMl6PmdUTy"
      },
      "execution_count": null,
      "outputs": []
    }
  ]
}