{
  "nbformat": 4,
  "nbformat_minor": 0,
  "metadata": {
    "colab": {
      "name": "clase1marzo.ipynb",
      "provenance": [],
      "collapsed_sections": []
    },
    "kernelspec": {
      "name": "ir",
      "display_name": "R"
    },
    "language_info": {
      "name": "R"
    }
  },
  "cells": [
    {
      "cell_type": "code",
      "execution_count": null,
      "metadata": {
        "id": "9CKKx-BhEzNX"
      },
      "outputs": [],
      "source": [
        "1 + 1 "
      ]
    },
    {
      "cell_type": "markdown",
      "source": [
        "# Ejemplo de markdown \n",
        "\n",
        "Esto es una prueba \n",
        "## Titulo 2\n",
        "\n",
        "Esto es una prueba \n",
        "\n",
        "## Titulo 3\n",
        "\n",
        "Esto es una prueba \n",
        "\n",
        "\n",
        "# Titulo 4\n",
        "\n",
        "[Enlace](https://google.com)\n",
        "\n",
        "$$ z^2 = x^2 + y^2  $$\n",
        "\n",
        "Esta es una ecuación $ \\alpha = \\beta + 1 $.\n",
        "\n",
        "\n",
        "| Altura | Peso |\n",
        "|--------|------|\n",
        "| 1.7    | 150  |\n"
      ],
      "metadata": {
        "id": "SLuO6KIEGub-"
      }
    },
    {
      "cell_type": "markdown",
      "source": [
        "# Operadores en R "
      ],
      "metadata": {
        "id": "fUnND873LPog"
      }
    },
    {
      "cell_type": "code",
      "source": [
        "2 + 2"
      ],
      "metadata": {
        "colab": {
          "base_uri": "https://localhost:8080/",
          "height": 34
        },
        "id": "B-PakVg0LShG",
        "outputId": "82357472-ccdc-40ed-e176-c5d9fb706918"
      },
      "execution_count": null,
      "outputs": [
        {
          "output_type": "display_data",
          "data": {
            "text/plain": [
              "[1] 4"
            ],
            "text/latex": "4",
            "text/markdown": "4",
            "text/html": [
              "4"
            ]
          },
          "metadata": {}
        }
      ]
    },
    {
      "cell_type": "code",
      "source": [
        "1 + 2 * 3 "
      ],
      "metadata": {
        "colab": {
          "base_uri": "https://localhost:8080/",
          "height": 34
        },
        "id": "7xYwZqQZLTyi",
        "outputId": "c54542a5-9a0b-4d15-d8b4-f782ae754424"
      },
      "execution_count": null,
      "outputs": [
        {
          "output_type": "display_data",
          "data": {
            "text/plain": [
              "[1] 7"
            ],
            "text/latex": "7",
            "text/markdown": "7",
            "text/html": [
              "7"
            ]
          },
          "metadata": {}
        }
      ]
    },
    {
      "cell_type": "code",
      "source": [
        "(1 + 2) * 3 "
      ],
      "metadata": {
        "colab": {
          "base_uri": "https://localhost:8080/",
          "height": 34
        },
        "id": "tJ6O7I35LWM3",
        "outputId": "a42b9b3d-bcee-4513-d95c-d0a41453b5d6"
      },
      "execution_count": null,
      "outputs": [
        {
          "output_type": "display_data",
          "data": {
            "text/plain": [
              "[1] 9"
            ],
            "text/latex": "9",
            "text/markdown": "9",
            "text/html": [
              "9"
            ]
          },
          "metadata": {}
        }
      ]
    },
    {
      "cell_type": "code",
      "source": [
        "(2 * 2) == 4"
      ],
      "metadata": {
        "colab": {
          "base_uri": "https://localhost:8080/",
          "height": 34
        },
        "id": "9YrnGV_KLmuU",
        "outputId": "d82dd82b-1ed0-4c92-87ff-3922f5108f8e"
      },
      "execution_count": null,
      "outputs": [
        {
          "output_type": "display_data",
          "data": {
            "text/plain": [
              "[1] TRUE"
            ],
            "text/latex": "TRUE",
            "text/markdown": "TRUE",
            "text/html": [
              "TRUE"
            ]
          },
          "metadata": {}
        }
      ]
    },
    {
      "cell_type": "code",
      "source": [
        "pi "
      ],
      "metadata": {
        "colab": {
          "base_uri": "https://localhost:8080/",
          "height": 34
        },
        "id": "nAO-47FpLzid",
        "outputId": "b11d18a2-d301-436d-a9df-9b677aed42af"
      },
      "execution_count": null,
      "outputs": [
        {
          "output_type": "display_data",
          "data": {
            "text/plain": [
              "[1] 3.141593"
            ],
            "text/latex": "3.14159265358979",
            "text/markdown": "3.14159265358979",
            "text/html": [
              "3.14159265358979"
            ]
          },
          "metadata": {}
        }
      ]
    },
    {
      "cell_type": "code",
      "source": [
        "pi >= 10"
      ],
      "metadata": {
        "colab": {
          "base_uri": "https://localhost:8080/",
          "height": 34
        },
        "id": "yRw6-AuLMLRs",
        "outputId": "6ca97ef5-6f83-47e6-ddc6-a09dd9689620"
      },
      "execution_count": null,
      "outputs": [
        {
          "output_type": "display_data",
          "data": {
            "text/plain": [
              "[1] FALSE"
            ],
            "text/latex": "FALSE",
            "text/markdown": "FALSE",
            "text/html": [
              "FALSE"
            ]
          },
          "metadata": {}
        }
      ]
    },
    {
      "cell_type": "code",
      "source": [
        "pi < 1"
      ],
      "metadata": {
        "colab": {
          "base_uri": "https://localhost:8080/",
          "height": 34
        },
        "id": "rc8fzYsIMNXT",
        "outputId": "d4a72c39-f600-4c69-8b17-0324a6fad6f0"
      },
      "execution_count": null,
      "outputs": [
        {
          "output_type": "display_data",
          "data": {
            "text/plain": [
              "[1] FALSE"
            ],
            "text/latex": "FALSE",
            "text/markdown": "FALSE",
            "text/html": [
              "FALSE"
            ]
          },
          "metadata": {}
        }
      ]
    },
    {
      "cell_type": "markdown",
      "source": [
        "# Variables\n",
        "\n",
        "Digamos que una persona pesa 55 kilogramos y queremos almacenar esta información en una variable, esto lo podes hacer de la siguiente manera. "
      ],
      "metadata": {
        "id": "Q65sTJAuMY3M"
      }
    },
    {
      "cell_type": "code",
      "source": [
        "weight_kg1 = 55"
      ],
      "metadata": {
        "id": "bY48aiNKMbiG"
      },
      "execution_count": null,
      "outputs": []
    },
    {
      "cell_type": "code",
      "source": [
        "weight_kg2 <- 55"
      ],
      "metadata": {
        "id": "Cyf-23ohMwOG"
      },
      "execution_count": null,
      "outputs": []
    },
    {
      "cell_type": "code",
      "source": [
        "weight_kg1 == weight_kg2"
      ],
      "metadata": {
        "colab": {
          "base_uri": "https://localhost:8080/",
          "height": 34
        },
        "id": "g926ujvMNFoW",
        "outputId": "a3a7269c-4d4a-4761-f54b-586a390ed92e"
      },
      "execution_count": null,
      "outputs": [
        {
          "output_type": "display_data",
          "data": {
            "text/plain": [
              "[1] TRUE"
            ],
            "text/latex": "TRUE",
            "text/markdown": "TRUE",
            "text/html": [
              "TRUE"
            ]
          },
          "metadata": {}
        }
      ]
    },
    {
      "cell_type": "markdown",
      "source": [
        "De aqui en adelante vamos a usar el operador de asignación <- en lugar del =. La elección de esto es por conveniencia, sin embargo, en un ambiente profesional se le podria dar mas prioridad al =. "
      ],
      "metadata": {
        "id": "K3P7noaLPcft"
      }
    },
    {
      "cell_type": "code",
      "source": [
        "hola mundo <- 10 # no es un nombre valido de variable."
      ],
      "metadata": {
        "colab": {
          "base_uri": "https://localhost:8080/",
          "height": 134
        },
        "id": "0dLhwVhYNIMH",
        "outputId": "e6a71bec-8ba3-41e2-db9f-249d382e299a"
      },
      "execution_count": null,
      "outputs": [
        {
          "output_type": "error",
          "ename": "ERROR",
          "evalue": "ignored",
          "traceback": [
            "Error in parse(text = x, srcfile = src): <text>:1:6: unexpected symbol\n1: hola mundo\n         ^\nTraceback:\n"
          ]
        }
      ]
    },
    {
      "cell_type": "code",
      "source": [
        "canción <- \"el himno de la alegria\""
      ],
      "metadata": {
        "id": "fIE9ZlbKPbcu"
      },
      "execution_count": null,
      "outputs": []
    },
    {
      "cell_type": "code",
      "source": [
        "canción"
      ],
      "metadata": {
        "colab": {
          "base_uri": "https://localhost:8080/",
          "height": 34
        },
        "id": "JKcDLcoiP4Nc",
        "outputId": "03e13ec1-07c9-4cdb-d0d5-1b4ee9bc061e"
      },
      "execution_count": null,
      "outputs": [
        {
          "output_type": "display_data",
          "data": {
            "text/plain": [
              "[1] \"el himno de la alegria\""
            ],
            "text/latex": "'el himno de la alegria'",
            "text/markdown": "'el himno de la alegria'",
            "text/html": [
              "'el himno de la alegria'"
            ]
          },
          "metadata": {}
        }
      ]
    },
    {
      "cell_type": "markdown",
      "source": [
        "Poner acentos en las variables es una mala práctica, no lo hagan puede crear confusión con personas que no hablen español. "
      ],
      "metadata": {
        "id": "-j2geMluP7YB"
      }
    },
    {
      "cell_type": "code",
      "source": [
        "2.2 * weight_kg1 # haciendo aritmetica con variables"
      ],
      "metadata": {
        "colab": {
          "base_uri": "https://localhost:8080/",
          "height": 34
        },
        "id": "k3MZwcTMP6I0",
        "outputId": "f4af9531-77ab-4c75-e68a-93343be39853"
      },
      "execution_count": null,
      "outputs": [
        {
          "output_type": "display_data",
          "data": {
            "text/plain": [
              "[1] 121"
            ],
            "text/latex": "121",
            "text/markdown": "121",
            "text/html": [
              "121"
            ]
          },
          "metadata": {}
        }
      ]
    },
    {
      "cell_type": "code",
      "source": [
        "weight_kg1 <- 57.5 # reasignando valores \n",
        "weight_kg1"
      ],
      "metadata": {
        "colab": {
          "base_uri": "https://localhost:8080/",
          "height": 34
        },
        "id": "5xJqSNgBQiZE",
        "outputId": "d79313d7-bc16-45dd-f02a-a9e9c72b6cf7"
      },
      "execution_count": null,
      "outputs": [
        {
          "output_type": "display_data",
          "data": {
            "text/plain": [
              "[1] 57.5"
            ],
            "text/latex": "57.5",
            "text/markdown": "57.5",
            "text/html": [
              "57.5"
            ]
          },
          "metadata": {}
        }
      ]
    },
    {
      "cell_type": "code",
      "source": [
        "weight_kg1 <- 2.2 * weight_kg1\n",
        "weight_kg1 "
      ],
      "metadata": {
        "colab": {
          "base_uri": "https://localhost:8080/",
          "height": 34
        },
        "id": "sdLcjxtEQvz_",
        "outputId": "ef355b49-7f08-4b83-a862-b87cbc53f1e4"
      },
      "execution_count": null,
      "outputs": [
        {
          "output_type": "display_data",
          "data": {
            "text/plain": [
              "[1] 126.5"
            ],
            "text/latex": "126.5",
            "text/markdown": "126.5",
            "text/html": [
              "126.5"
            ]
          },
          "metadata": {}
        }
      ]
    },
    {
      "cell_type": "code",
      "source": [
        "weight_lb1 <- 2.2 * weight_kg1\n",
        "weight_lb1\n",
        "weight_kg1"
      ],
      "metadata": {
        "colab": {
          "base_uri": "https://localhost:8080/",
          "height": 52
        },
        "id": "cI_76BGOQ2TG",
        "outputId": "a3e00403-34d2-4b32-8ffb-bf1a42cd82f8"
      },
      "execution_count": null,
      "outputs": [
        {
          "output_type": "display_data",
          "data": {
            "text/plain": [
              "[1] 278.3"
            ],
            "text/latex": "278.3",
            "text/markdown": "278.3",
            "text/html": [
              "278.3"
            ]
          },
          "metadata": {}
        },
        {
          "output_type": "display_data",
          "data": {
            "text/plain": [
              "[1] 126.5"
            ],
            "text/latex": "126.5",
            "text/markdown": "126.5",
            "text/html": [
              "126.5"
            ]
          },
          "metadata": {}
        }
      ]
    },
    {
      "cell_type": "code",
      "source": [
        "weight_kg1 <- 100.0 \n",
        "weight_kg1"
      ],
      "metadata": {
        "colab": {
          "base_uri": "https://localhost:8080/",
          "height": 34
        },
        "id": "5mNCtoSPRUb8",
        "outputId": "4b228b0f-95d1-4c1a-f5e1-13f471ed4df9"
      },
      "execution_count": null,
      "outputs": [
        {
          "output_type": "display_data",
          "data": {
            "text/plain": [
              "[1] 100"
            ],
            "text/latex": "100",
            "text/markdown": "100",
            "text/html": [
              "100"
            ]
          },
          "metadata": {}
        }
      ]
    },
    {
      "cell_type": "code",
      "source": [
        "weight_lb1"
      ],
      "metadata": {
        "colab": {
          "base_uri": "https://localhost:8080/",
          "height": 34
        },
        "id": "lmUGXHGzRkte",
        "outputId": "a01e8c49-5a28-4e74-bdf4-a17e2dfd89e2"
      },
      "execution_count": null,
      "outputs": [
        {
          "output_type": "display_data",
          "data": {
            "text/plain": [
              "[1] 278.3"
            ],
            "text/latex": "278.3",
            "text/markdown": "278.3",
            "text/html": [
              "278.3"
            ]
          },
          "metadata": {}
        }
      ]
    },
    {
      "cell_type": "markdown",
      "source": [
        "# Vectores\n",
        "\n",
        "Un vector de numeros es una colección de numeros. Los miembros individuales se les llama elementos. "
      ],
      "metadata": {
        "id": "O0iAhbR-SBgF"
      }
    },
    {
      "cell_type": "code",
      "source": [
        "myvec <- c(10, 20, 30, 40, 50) # creamos un vector numerico de 5 elementos."
      ],
      "metadata": {
        "id": "RYiCfvDvSEt8"
      },
      "execution_count": null,
      "outputs": []
    },
    {
      "cell_type": "code",
      "source": [
        "myvec"
      ],
      "metadata": {
        "colab": {
          "base_uri": "https://localhost:8080/",
          "height": 34
        },
        "id": "kwhIjLT5Sde2",
        "outputId": "6351bc15-555a-4a1a-d827-4a3d9a1912e5"
      },
      "execution_count": null,
      "outputs": [
        {
          "output_type": "display_data",
          "data": {
            "text/plain": [
              "[1] 10 20 30 40 50"
            ],
            "text/latex": "\\begin{enumerate*}\n\\item 10\n\\item 20\n\\item 30\n\\item 40\n\\item 50\n\\end{enumerate*}\n",
            "text/markdown": "1. 10\n2. 20\n3. 30\n4. 40\n5. 50\n\n\n",
            "text/html": [
              "<style>\n",
              ".list-inline {list-style: none; margin:0; padding: 0}\n",
              ".list-inline>li {display: inline-block}\n",
              ".list-inline>li:not(:last-child)::after {content: \"\\00b7\"; padding: 0 .5ex}\n",
              "</style>\n",
              "<ol class=list-inline><li>10</li><li>20</li><li>30</li><li>40</li><li>50</li></ol>\n"
            ]
          },
          "metadata": {}
        }
      ]
    },
    {
      "cell_type": "code",
      "source": [
        "str(myvec)"
      ],
      "metadata": {
        "colab": {
          "base_uri": "https://localhost:8080/"
        },
        "id": "Y0e_sctmSf_t",
        "outputId": "c4038f52-a62f-432e-e54a-5a6d068bbdd3"
      },
      "execution_count": null,
      "outputs": [
        {
          "output_type": "stream",
          "name": "stdout",
          "text": [
            " num [1:5] 10 20 30 40 50\n"
          ]
        }
      ]
    },
    {
      "cell_type": "code",
      "source": [
        "myvec + 1 "
      ],
      "metadata": {
        "colab": {
          "base_uri": "https://localhost:8080/",
          "height": 34
        },
        "id": "i-mtcB6rSirL",
        "outputId": "5c1443ce-6c2f-4596-fb08-4d0bd73a19ce"
      },
      "execution_count": null,
      "outputs": [
        {
          "output_type": "display_data",
          "data": {
            "text/plain": [
              "[1] 11 21 31 41 51"
            ],
            "text/latex": "\\begin{enumerate*}\n\\item 11\n\\item 21\n\\item 31\n\\item 41\n\\item 51\n\\end{enumerate*}\n",
            "text/markdown": "1. 11\n2. 21\n3. 31\n4. 41\n5. 51\n\n\n",
            "text/html": [
              "<style>\n",
              ".list-inline {list-style: none; margin:0; padding: 0}\n",
              ".list-inline>li {display: inline-block}\n",
              ".list-inline>li:not(:last-child)::after {content: \"\\00b7\"; padding: 0 .5ex}\n",
              "</style>\n",
              "<ol class=list-inline><li>11</li><li>21</li><li>31</li><li>41</li><li>51</li></ol>\n"
            ]
          },
          "metadata": {}
        }
      ]
    },
    {
      "cell_type": "code",
      "source": [
        "myvec + myvec "
      ],
      "metadata": {
        "colab": {
          "base_uri": "https://localhost:8080/",
          "height": 34
        },
        "id": "yzP61xUCSpcp",
        "outputId": "9db678fa-40c2-4539-e7fc-03c396bd187d"
      },
      "execution_count": null,
      "outputs": [
        {
          "output_type": "display_data",
          "data": {
            "text/plain": [
              "[1]  20  40  60  80 100"
            ],
            "text/latex": "\\begin{enumerate*}\n\\item 20\n\\item 40\n\\item 60\n\\item 80\n\\item 100\n\\end{enumerate*}\n",
            "text/markdown": "1. 20\n2. 40\n3. 60\n4. 80\n5. 100\n\n\n",
            "text/html": [
              "<style>\n",
              ".list-inline {list-style: none; margin:0; padding: 0}\n",
              ".list-inline>li {display: inline-block}\n",
              ".list-inline>li:not(:last-child)::after {content: \"\\00b7\"; padding: 0 .5ex}\n",
              "</style>\n",
              "<ol class=list-inline><li>20</li><li>40</li><li>60</li><li>80</li><li>100</li></ol>\n"
            ]
          },
          "metadata": {}
        }
      ]
    },
    {
      "cell_type": "code",
      "source": [
        "length(myvec)"
      ],
      "metadata": {
        "colab": {
          "base_uri": "https://localhost:8080/",
          "height": 34
        },
        "id": "98z279KZStMA",
        "outputId": "e3fa0d3b-abe8-4fa7-e562-f77374737494"
      },
      "execution_count": null,
      "outputs": [
        {
          "output_type": "display_data",
          "data": {
            "text/plain": [
              "[1] 5"
            ],
            "text/latex": "5",
            "text/markdown": "5",
            "text/html": [
              "5"
            ]
          },
          "metadata": {}
        }
      ]
    },
    {
      "cell_type": "code",
      "source": [
        "c(60, myvec)"
      ],
      "metadata": {
        "colab": {
          "base_uri": "https://localhost:8080/",
          "height": 34
        },
        "id": "7hkO4fFsSv8g",
        "outputId": "f5c62967-1f5d-4f03-bdf0-c88357a8b6b0"
      },
      "execution_count": null,
      "outputs": [
        {
          "output_type": "display_data",
          "data": {
            "text/plain": [
              "[1] 60 10 20 30 40 50"
            ],
            "text/latex": "\\begin{enumerate*}\n\\item 60\n\\item 10\n\\item 20\n\\item 30\n\\item 40\n\\item 50\n\\end{enumerate*}\n",
            "text/markdown": "1. 60\n2. 10\n3. 20\n4. 30\n5. 40\n6. 50\n\n\n",
            "text/html": [
              "<style>\n",
              ".list-inline {list-style: none; margin:0; padding: 0}\n",
              ".list-inline>li {display: inline-block}\n",
              ".list-inline>li:not(:last-child)::after {content: \"\\00b7\"; padding: 0 .5ex}\n",
              "</style>\n",
              "<ol class=list-inline><li>60</li><li>10</li><li>20</li><li>30</li><li>40</li><li>50</li></ol>\n"
            ]
          },
          "metadata": {}
        }
      ]
    },
    {
      "cell_type": "code",
      "source": [
        "myvec2 <- c(60, myvec)"
      ],
      "metadata": {
        "id": "EDAmVTM4S9Yt"
      },
      "execution_count": null,
      "outputs": []
    },
    {
      "cell_type": "code",
      "source": [
        "myvec2"
      ],
      "metadata": {
        "id": "rNhapTmkTDNx",
        "outputId": "6ce544c4-8df2-4307-c44a-85b95aa59a47",
        "colab": {
          "base_uri": "https://localhost:8080/",
          "height": 34
        }
      },
      "execution_count": null,
      "outputs": [
        {
          "output_type": "display_data",
          "data": {
            "text/plain": [
              "[1] 60 10 20 30 40 50"
            ],
            "text/latex": "\\begin{enumerate*}\n\\item 60\n\\item 10\n\\item 20\n\\item 30\n\\item 40\n\\item 50\n\\end{enumerate*}\n",
            "text/markdown": "1. 60\n2. 10\n3. 20\n4. 30\n5. 40\n6. 50\n\n\n",
            "text/html": [
              "<style>\n",
              ".list-inline {list-style: none; margin:0; padding: 0}\n",
              ".list-inline>li {display: inline-block}\n",
              ".list-inline>li:not(:last-child)::after {content: \"\\00b7\"; padding: 0 .5ex}\n",
              "</style>\n",
              "<ol class=list-inline><li>60</li><li>10</li><li>20</li><li>30</li><li>40</li><li>50</li></ol>\n"
            ]
          },
          "metadata": {}
        }
      ]
    },
    {
      "cell_type": "code",
      "source": [
        "c(myvec, myvec)"
      ],
      "metadata": {
        "id": "IlOQ7y_ETEUa",
        "outputId": "81ad0eec-60ca-4eda-c765-1f8961e68f4e",
        "colab": {
          "base_uri": "https://localhost:8080/",
          "height": 34
        }
      },
      "execution_count": null,
      "outputs": [
        {
          "output_type": "display_data",
          "data": {
            "text/plain": [
              " [1] 10 20 30 40 50 10 20 30 40 50"
            ],
            "text/latex": "\\begin{enumerate*}\n\\item 10\n\\item 20\n\\item 30\n\\item 40\n\\item 50\n\\item 10\n\\item 20\n\\item 30\n\\item 40\n\\item 50\n\\end{enumerate*}\n",
            "text/markdown": "1. 10\n2. 20\n3. 30\n4. 40\n5. 50\n6. 10\n7. 20\n8. 30\n9. 40\n10. 50\n\n\n",
            "text/html": [
              "<style>\n",
              ".list-inline {list-style: none; margin:0; padding: 0}\n",
              ".list-inline>li {display: inline-block}\n",
              ".list-inline>li:not(:last-child)::after {content: \"\\00b7\"; padding: 0 .5ex}\n",
              "</style>\n",
              "<ol class=list-inline><li>10</li><li>20</li><li>30</li><li>40</li><li>50</li><li>10</li><li>20</li><li>30</li><li>40</li><li>50</li></ol>\n"
            ]
          },
          "metadata": {}
        }
      ]
    },
    {
      "cell_type": "code",
      "source": [
        ""
      ],
      "metadata": {
        "id": "txazbV89TIYI"
      },
      "execution_count": null,
      "outputs": []
    }
  ]
}