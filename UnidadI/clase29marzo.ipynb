{
  "nbformat": 4,
  "nbformat_minor": 0,
  "metadata": {
    "colab": {
      "name": "clase29marzo.ipynb",
      "provenance": [],
      "collapsed_sections": [
        "y-d6JXZXKc7Q"
      ]
    },
    "kernelspec": {
      "name": "ir",
      "display_name": "R"
    },
    "language_info": {
      "name": "R"
    }
  },
  "cells": [
    {
      "cell_type": "markdown",
      "source": [
        "# Ejercicio propuesto"
      ],
      "metadata": {
        "id": "y-d6JXZXKc7Q"
      }
    },
    {
      "cell_type": "code",
      "source": [
        "s <- rnorm(10000)"
      ],
      "metadata": {
        "id": "AGNgB04gKePo"
      },
      "execution_count": 1,
      "outputs": []
    },
    {
      "cell_type": "code",
      "source": [
        "is.vector(s)"
      ],
      "metadata": {
        "colab": {
          "base_uri": "https://localhost:8080/",
          "height": 34
        },
        "id": "2MEeu2SzKmL8",
        "outputId": "03cef80b-2294-4eeb-8da8-a7d58c72956d"
      },
      "execution_count": 2,
      "outputs": [
        {
          "output_type": "display_data",
          "data": {
            "text/html": [
              "TRUE"
            ],
            "text/markdown": "TRUE",
            "text/latex": "TRUE",
            "text/plain": [
              "[1] TRUE"
            ]
          },
          "metadata": {}
        }
      ]
    },
    {
      "cell_type": "code",
      "source": [
        "start <- Sys.time()\n",
        "\n",
        "counter <- 0 \n",
        "for (i in 1:length(s)){   \n",
        "\n",
        "  if (  s[i] >= -1.96 & s[i] <= 1.96 ){\n",
        "    counter = counter + 1\n",
        "  }\n",
        "\n",
        "}\n",
        "\n",
        "prob <- counter / length(s)\n",
        "cat(\"El valor de la probabilidad es: \", prob, \"\\n\")\n",
        "end <- Sys.time()\n",
        "elapsed <- end - start\n",
        "print(elapsed)"
      ],
      "metadata": {
        "colab": {
          "base_uri": "https://localhost:8080/"
        },
        "id": "KFxIMzqRKwAL",
        "outputId": "78291972-420d-4364-cace-0b25cb0fea32"
      },
      "execution_count": 6,
      "outputs": [
        {
          "output_type": "stream",
          "name": "stdout",
          "text": [
            "El valor de la probabilidad es:  0.9526 \n",
            "Time difference of 0.01578188 secs\n"
          ]
        }
      ]
    },
    {
      "cell_type": "code",
      "source": [
        "start <- Sys.time()\n",
        "\n",
        "counter <- 0 \n",
        "i <- 1\n",
        "\n",
        "while( i <= length(s) ){   \n",
        "\n",
        "  \n",
        "  \n",
        "  if (  s[i] >= -1.96 & s[i] <= 1.96 ){\n",
        "    counter = counter + 1\n",
        "  }\n",
        "\n",
        "  i <- i + 1 \n",
        "  \n",
        "\n",
        "}\n",
        "\n",
        "prob <- counter / length(s)\n",
        "cat(\"El valor de la probabilidad es: \", prob, \"\\n\")\n",
        "end <- Sys.time()\n",
        "elapsed <- end - start\n",
        "print(elapsed)"
      ],
      "metadata": {
        "colab": {
          "base_uri": "https://localhost:8080/"
        },
        "id": "5wSBG8x6PGxn",
        "outputId": "e297eb09-9264-47db-8f6d-d0bf0a2a5cd9"
      },
      "execution_count": 7,
      "outputs": [
        {
          "output_type": "stream",
          "name": "stdout",
          "text": [
            "El valor de la probabilidad es:  0.9526 \n",
            "Time difference of 0.02136111 secs\n"
          ]
        }
      ]
    },
    {
      "cell_type": "code",
      "source": [
        "start <- Sys.time()\n",
        "\n",
        "prob <- mean( s[i] >= -1.96 & s[i] <= 1.96 )\n",
        "cat(\"El valor de la probabilidad es: \", prob, \"\\n\")\n",
        "\n",
        "end <- Sys.time()\n",
        "elapsed <- end - start\n",
        "print(elapsed)"
      ],
      "metadata": {
        "colab": {
          "base_uri": "https://localhost:8080/"
        },
        "id": "Vb1GBsMcMYZE",
        "outputId": "1e3521e9-94a9-4eb6-b741-2315ad4326a1"
      },
      "execution_count": 8,
      "outputs": [
        {
          "output_type": "stream",
          "name": "stdout",
          "text": [
            "El valor de la probabilidad es:  NA \n",
            "Time difference of 0.005727291 secs\n"
          ]
        }
      ]
    },
    {
      "cell_type": "markdown",
      "source": [
        "La versión vectorizada es mucho más rápida y concisa por lo que es preferible. "
      ],
      "metadata": {
        "id": "bOKUzijfOdQx"
      }
    },
    {
      "cell_type": "markdown",
      "source": [
        "# Estructuras de repetición"
      ],
      "metadata": {
        "id": "5misdrr4OvZc"
      }
    },
    {
      "cell_type": "markdown",
      "source": [
        "## Declaración next "
      ],
      "metadata": {
        "id": "6ynHBFovSzkj"
      }
    },
    {
      "cell_type": "code",
      "source": [
        "x <- 1:5 \n"
      ],
      "metadata": {
        "id": "9gevhiw9N7fK"
      },
      "execution_count": 45,
      "outputs": []
    },
    {
      "cell_type": "markdown",
      "source": [
        "Crearemos un bucle for que navegue en el vector x, imprima sus valores y rompa el bucle cuando el valor del vector sea 3. "
      ],
      "metadata": {
        "id": "gB_zAu_iS_Fq"
      }
    },
    {
      "cell_type": "code",
      "source": [
        "for (i in 1:length(x)){\n",
        "\n",
        "   if (x[i] == 3){\n",
        "     break\n",
        "   }\n",
        "\n",
        "   print(x[i])\n",
        "\n",
        "}"
      ],
      "metadata": {
        "colab": {
          "base_uri": "https://localhost:8080/"
        },
        "id": "_RCHsVS3TGA0",
        "outputId": "d7f89b3a-fbac-41f8-a7ab-c71d7f0d7cf1"
      },
      "execution_count": 46,
      "outputs": [
        {
          "output_type": "stream",
          "name": "stdout",
          "text": [
            "[1] 1\n",
            "[1] 2\n"
          ]
        }
      ]
    },
    {
      "cell_type": "code",
      "source": [
        "for (val in x){\n",
        "  \n",
        "  if (val == 3){\n",
        "     break \n",
        "  }\n",
        "  \n",
        "  print(val)\n",
        " \n",
        "}"
      ],
      "metadata": {
        "colab": {
          "base_uri": "https://localhost:8080/"
        },
        "id": "8TyapqgXTjAs",
        "outputId": "3f441f61-98a0-47f7-ccdd-3949138f465b"
      },
      "execution_count": 47,
      "outputs": [
        {
          "output_type": "stream",
          "name": "stdout",
          "text": [
            "[1] 1\n",
            "[1] 2\n"
          ]
        }
      ]
    },
    {
      "cell_type": "markdown",
      "source": [
        "**Advertencia**:  El uso de las declaraciones break y next debe usarse con cuidado solo en caso de ser necesario ya que puede llevar a códigos poco legibles."
      ],
      "metadata": {
        "id": "ElK0j3ARUFce"
      }
    },
    {
      "cell_type": "markdown",
      "source": [
        "**Ejercicio**: Con la matriz m que se crea a continuación: "
      ],
      "metadata": {
        "id": "Z3zUh-tmVI1N"
      }
    },
    {
      "cell_type": "code",
      "source": [
        "n <- 10000\n",
        "dat <- rnorm(n)\n",
        "m <- matrix(dat, ncol=100)"
      ],
      "metadata": {
        "id": "7Def3UihTq6n"
      },
      "execution_count": 48,
      "outputs": []
    },
    {
      "cell_type": "code",
      "source": [
        "head(m)"
      ],
      "metadata": {
        "colab": {
          "base_uri": "https://localhost:8080/",
          "height": 243
        },
        "id": "kQv00BHRU0OD",
        "outputId": "567ac69b-34d5-493c-db6c-920c2d5c1453"
      },
      "execution_count": 49,
      "outputs": [
        {
          "output_type": "display_data",
          "data": {
            "text/html": [
              "<table class=\"dataframe\">\n",
              "<caption>A matrix: 6 × 100 of type dbl</caption>\n",
              "<tbody>\n",
              "\t<tr><td> 0.2001713</td><td> 1.19478506</td><td>-0.1370459</td><td>-0.41248585</td><td>-0.31687141</td><td>-0.71357948</td><td>-0.3124348</td><td> 0.30460926</td><td>-0.5415550</td><td> 0.07792239</td><td>⋯</td><td>-0.2687041</td><td>-0.3178478</td><td> 0.02608554</td><td>-1.51306317</td><td>-0.0267006</td><td> 0.3520705</td><td> 0.888585419</td><td> 1.6177042</td><td> 0.1016832</td><td> 1.6340786</td></tr>\n",
              "\t<tr><td> 1.3653485</td><td> 0.97318844</td><td> 0.6576558</td><td> 0.54522218</td><td> 0.42759128</td><td>-1.16518822</td><td>-0.2764499</td><td>-0.33367882</td><td> 2.2985292</td><td>-0.07351639</td><td>⋯</td><td>-1.1899068</td><td> 1.5188716</td><td> 0.59989511</td><td> 1.42641509</td><td> 0.5353641</td><td> 1.6753104</td><td>-0.835605735</td><td> 0.4394212</td><td>-0.5683223</td><td> 0.3898349</td></tr>\n",
              "\t<tr><td> 0.5142164</td><td> 0.46805841</td><td>-1.1494206</td><td>-0.07247612</td><td>-0.10833566</td><td> 0.04175458</td><td> 0.4913695</td><td> 3.38732070</td><td>-1.6548394</td><td> 0.89700035</td><td>⋯</td><td> 0.6757350</td><td> 2.3272747</td><td>-0.53396563</td><td> 1.36525464</td><td>-0.2602452</td><td>-2.2938116</td><td>-0.238628193</td><td> 0.8471572</td><td>-0.8552289</td><td> 0.2093801</td></tr>\n",
              "\t<tr><td> 1.2250607</td><td>-0.84795103</td><td> 0.7142816</td><td> 0.57476055</td><td> 0.02632266</td><td> 0.15895093</td><td> 0.1953292</td><td> 1.93574364</td><td> 0.9892482</td><td> 0.38979064</td><td>⋯</td><td> 0.2073328</td><td>-2.7052174</td><td>-0.56719530</td><td>-0.23983868</td><td> 0.5882246</td><td> 0.4090378</td><td>-0.589577537</td><td>-1.7853173</td><td> 0.7618941</td><td>-0.8247066</td></tr>\n",
              "\t<tr><td> 0.7230708</td><td>-0.03739662</td><td> 0.6071486</td><td>-0.03089668</td><td> 0.03496459</td><td>-0.23800607</td><td> 0.9113031</td><td> 1.80554273</td><td>-0.6872509</td><td> 0.64218326</td><td>⋯</td><td>-0.3092925</td><td>-0.6119608</td><td> 0.74614574</td><td>-1.43246401</td><td> 0.6155070</td><td>-1.6195344</td><td>-0.233454501</td><td>-1.9049179</td><td> 0.5490814</td><td> 1.4007753</td></tr>\n",
              "\t<tr><td>-1.7751564</td><td> 0.55428561</td><td> 1.1634393</td><td>-0.99160519</td><td>-0.16880548</td><td> 0.68774552</td><td> 2.1786807</td><td>-0.07725187</td><td>-0.1346240</td><td>-0.23940312</td><td>⋯</td><td>-1.1895115</td><td> 0.8216510</td><td> 1.00688377</td><td> 0.05576154</td><td> 0.7898635</td><td> 1.1400653</td><td> 0.002633074</td><td> 0.4393331</td><td> 0.7469249</td><td>-1.3145388</td></tr>\n",
              "</tbody>\n",
              "</table>\n"
            ],
            "text/markdown": "\nA matrix: 6 × 100 of type dbl\n\n|  0.2001713 |  1.19478506 | -0.1370459 | -0.41248585 | -0.31687141 | -0.71357948 | -0.3124348 |  0.30460926 | -0.5415550 |  0.07792239 | ⋯ | -0.2687041 | -0.3178478 |  0.02608554 | -1.51306317 | -0.0267006 |  0.3520705 |  0.888585419 |  1.6177042 |  0.1016832 |  1.6340786 |\n|  1.3653485 |  0.97318844 |  0.6576558 |  0.54522218 |  0.42759128 | -1.16518822 | -0.2764499 | -0.33367882 |  2.2985292 | -0.07351639 | ⋯ | -1.1899068 |  1.5188716 |  0.59989511 |  1.42641509 |  0.5353641 |  1.6753104 | -0.835605735 |  0.4394212 | -0.5683223 |  0.3898349 |\n|  0.5142164 |  0.46805841 | -1.1494206 | -0.07247612 | -0.10833566 |  0.04175458 |  0.4913695 |  3.38732070 | -1.6548394 |  0.89700035 | ⋯ |  0.6757350 |  2.3272747 | -0.53396563 |  1.36525464 | -0.2602452 | -2.2938116 | -0.238628193 |  0.8471572 | -0.8552289 |  0.2093801 |\n|  1.2250607 | -0.84795103 |  0.7142816 |  0.57476055 |  0.02632266 |  0.15895093 |  0.1953292 |  1.93574364 |  0.9892482 |  0.38979064 | ⋯ |  0.2073328 | -2.7052174 | -0.56719530 | -0.23983868 |  0.5882246 |  0.4090378 | -0.589577537 | -1.7853173 |  0.7618941 | -0.8247066 |\n|  0.7230708 | -0.03739662 |  0.6071486 | -0.03089668 |  0.03496459 | -0.23800607 |  0.9113031 |  1.80554273 | -0.6872509 |  0.64218326 | ⋯ | -0.3092925 | -0.6119608 |  0.74614574 | -1.43246401 |  0.6155070 | -1.6195344 | -0.233454501 | -1.9049179 |  0.5490814 |  1.4007753 |\n| -1.7751564 |  0.55428561 |  1.1634393 | -0.99160519 | -0.16880548 |  0.68774552 |  2.1786807 | -0.07725187 | -0.1346240 | -0.23940312 | ⋯ | -1.1895115 |  0.8216510 |  1.00688377 |  0.05576154 |  0.7898635 |  1.1400653 |  0.002633074 |  0.4393331 |  0.7469249 | -1.3145388 |\n\n",
            "text/latex": "A matrix: 6 × 100 of type dbl\n\\begin{tabular}{lllllllllllllllllllll}\n\t  0.2001713 &  1.19478506 & -0.1370459 & -0.41248585 & -0.31687141 & -0.71357948 & -0.3124348 &  0.30460926 & -0.5415550 &  0.07792239 & ⋯ & -0.2687041 & -0.3178478 &  0.02608554 & -1.51306317 & -0.0267006 &  0.3520705 &  0.888585419 &  1.6177042 &  0.1016832 &  1.6340786\\\\\n\t  1.3653485 &  0.97318844 &  0.6576558 &  0.54522218 &  0.42759128 & -1.16518822 & -0.2764499 & -0.33367882 &  2.2985292 & -0.07351639 & ⋯ & -1.1899068 &  1.5188716 &  0.59989511 &  1.42641509 &  0.5353641 &  1.6753104 & -0.835605735 &  0.4394212 & -0.5683223 &  0.3898349\\\\\n\t  0.5142164 &  0.46805841 & -1.1494206 & -0.07247612 & -0.10833566 &  0.04175458 &  0.4913695 &  3.38732070 & -1.6548394 &  0.89700035 & ⋯ &  0.6757350 &  2.3272747 & -0.53396563 &  1.36525464 & -0.2602452 & -2.2938116 & -0.238628193 &  0.8471572 & -0.8552289 &  0.2093801\\\\\n\t  1.2250607 & -0.84795103 &  0.7142816 &  0.57476055 &  0.02632266 &  0.15895093 &  0.1953292 &  1.93574364 &  0.9892482 &  0.38979064 & ⋯ &  0.2073328 & -2.7052174 & -0.56719530 & -0.23983868 &  0.5882246 &  0.4090378 & -0.589577537 & -1.7853173 &  0.7618941 & -0.8247066\\\\\n\t  0.7230708 & -0.03739662 &  0.6071486 & -0.03089668 &  0.03496459 & -0.23800607 &  0.9113031 &  1.80554273 & -0.6872509 &  0.64218326 & ⋯ & -0.3092925 & -0.6119608 &  0.74614574 & -1.43246401 &  0.6155070 & -1.6195344 & -0.233454501 & -1.9049179 &  0.5490814 &  1.4007753\\\\\n\t -1.7751564 &  0.55428561 &  1.1634393 & -0.99160519 & -0.16880548 &  0.68774552 &  2.1786807 & -0.07725187 & -0.1346240 & -0.23940312 & ⋯ & -1.1895115 &  0.8216510 &  1.00688377 &  0.05576154 &  0.7898635 &  1.1400653 &  0.002633074 &  0.4393331 &  0.7469249 & -1.3145388\\\\\n\\end{tabular}\n",
            "text/plain": [
              "     [,1]       [,2]        [,3]       [,4]        [,5]        [,6]       \n",
              "[1,]  0.2001713  1.19478506 -0.1370459 -0.41248585 -0.31687141 -0.71357948\n",
              "[2,]  1.3653485  0.97318844  0.6576558  0.54522218  0.42759128 -1.16518822\n",
              "[3,]  0.5142164  0.46805841 -1.1494206 -0.07247612 -0.10833566  0.04175458\n",
              "[4,]  1.2250607 -0.84795103  0.7142816  0.57476055  0.02632266  0.15895093\n",
              "[5,]  0.7230708 -0.03739662  0.6071486 -0.03089668  0.03496459 -0.23800607\n",
              "[6,] -1.7751564  0.55428561  1.1634393 -0.99160519 -0.16880548  0.68774552\n",
              "     [,7]       [,8]        [,9]       [,10]       [,11] [,12]      [,13]     \n",
              "[1,] -0.3124348  0.30460926 -0.5415550  0.07792239 ⋯     -0.2687041 -0.3178478\n",
              "[2,] -0.2764499 -0.33367882  2.2985292 -0.07351639 ⋯     -1.1899068  1.5188716\n",
              "[3,]  0.4913695  3.38732070 -1.6548394  0.89700035 ⋯      0.6757350  2.3272747\n",
              "[4,]  0.1953292  1.93574364  0.9892482  0.38979064 ⋯      0.2073328 -2.7052174\n",
              "[5,]  0.9113031  1.80554273 -0.6872509  0.64218326 ⋯     -0.3092925 -0.6119608\n",
              "[6,]  2.1786807 -0.07725187 -0.1346240 -0.23940312 ⋯     -1.1895115  0.8216510\n",
              "     [,14]       [,15]       [,16]      [,17]      [,18]        [,19]     \n",
              "[1,]  0.02608554 -1.51306317 -0.0267006  0.3520705  0.888585419  1.6177042\n",
              "[2,]  0.59989511  1.42641509  0.5353641  1.6753104 -0.835605735  0.4394212\n",
              "[3,] -0.53396563  1.36525464 -0.2602452 -2.2938116 -0.238628193  0.8471572\n",
              "[4,] -0.56719530 -0.23983868  0.5882246  0.4090378 -0.589577537 -1.7853173\n",
              "[5,]  0.74614574 -1.43246401  0.6155070 -1.6195344 -0.233454501 -1.9049179\n",
              "[6,]  1.00688377  0.05576154  0.7898635  1.1400653  0.002633074  0.4393331\n",
              "     [,20]      [,21]     \n",
              "[1,]  0.1016832  1.6340786\n",
              "[2,] -0.5683223  0.3898349\n",
              "[3,] -0.8552289  0.2093801\n",
              "[4,]  0.7618941 -0.8247066\n",
              "[5,]  0.5490814  1.4007753\n",
              "[6,]  0.7469249 -1.3145388"
            ]
          },
          "metadata": {}
        }
      ]
    },
    {
      "cell_type": "markdown",
      "source": [
        "Hace dos bucles for que naveguen en la matriz m y que detecten cuando un valor sea mayor o igual que 3 (se debe imprimir su valor) si es que existe. **Ojo**: Seria de utilidad calcular la probabilidad de obtener un valor igual o mayor a 3 en una normal estandard. "
      ],
      "metadata": {
        "id": "rNxgWc4bVuRK"
      }
    },
    {
      "cell_type": "code",
      "source": [
        "pnorm(3, lower.tail = FALSE)"
      ],
      "metadata": {
        "colab": {
          "base_uri": "https://localhost:8080/",
          "height": 34
        },
        "id": "HszaRcaOZaUO",
        "outputId": "ea2e0069-99fc-47bc-ac74-60b1fd3af5f5"
      },
      "execution_count": 50,
      "outputs": [
        {
          "output_type": "display_data",
          "data": {
            "text/html": [
              "0.00134989803163009"
            ],
            "text/markdown": "0.00134989803163009",
            "text/latex": "0.00134989803163009",
            "text/plain": [
              "[1] 0.001349898"
            ]
          },
          "metadata": {}
        }
      ]
    },
    {
      "cell_type": "code",
      "source": [
        "ncol(m) * nrow(m)"
      ],
      "metadata": {
        "colab": {
          "base_uri": "https://localhost:8080/",
          "height": 34
        },
        "id": "fkYIE6XYZrNk",
        "outputId": "2c32cded-ea48-4e2a-eb04-ac1719b3eb68"
      },
      "execution_count": 51,
      "outputs": [
        {
          "output_type": "display_data",
          "data": {
            "text/html": [
              "10000"
            ],
            "text/markdown": "10000",
            "text/latex": "10000",
            "text/plain": [
              "[1] 10000"
            ]
          },
          "metadata": {}
        }
      ]
    },
    {
      "cell_type": "code",
      "source": [
        "ncol(m) * nrow(m) * pnorm(3, lower.tail = FALSE)"
      ],
      "metadata": {
        "colab": {
          "base_uri": "https://localhost:8080/",
          "height": 34
        },
        "id": "tQVeLnFMZnc5",
        "outputId": "7d1fe4dc-065a-47fc-f579-e4e6109cf497"
      },
      "execution_count": 52,
      "outputs": [
        {
          "output_type": "display_data",
          "data": {
            "text/html": [
              "13.4989803163009"
            ],
            "text/markdown": "13.4989803163009",
            "text/latex": "13.4989803163009",
            "text/plain": [
              "[1] 13.49898"
            ]
          },
          "metadata": {}
        }
      ]
    },
    {
      "cell_type": "code",
      "source": [
        "stop <- FALSE\n",
        "\n",
        "for( i in 1:nrow(m)){\n",
        "\n",
        "  for(j in 1:ncol(m)){    \n",
        "\n",
        "    if ( m[i, j] >= 3 )\n",
        "    {\n",
        "      print(m[i, j])\n",
        "      stop <- TRUE \n",
        "      break \n",
        "    }\n",
        "    \n",
        "  }\n",
        "\n",
        "  if (stop){\n",
        "    break \n",
        "  }\n",
        "}"
      ],
      "metadata": {
        "colab": {
          "base_uri": "https://localhost:8080/"
        },
        "id": "O4SMRxBaYgMZ",
        "outputId": "3ce7ccd0-d7ad-41de-acd0-f1ff7bd7f083"
      },
      "execution_count": 53,
      "outputs": [
        {
          "output_type": "stream",
          "name": "stdout",
          "text": [
            "[1] 3.05715\n"
          ]
        }
      ]
    },
    {
      "cell_type": "code",
      "source": [
        "x <- 1:5"
      ],
      "metadata": {
        "id": "gItFB0wtZ4Xl"
      },
      "execution_count": 54,
      "outputs": []
    },
    {
      "cell_type": "code",
      "source": [
        "x"
      ],
      "metadata": {
        "colab": {
          "base_uri": "https://localhost:8080/",
          "height": 34
        },
        "id": "OvNTed0eeaLT",
        "outputId": "261493b9-f6dd-4929-fb93-f1ca0a85b84a"
      },
      "execution_count": 55,
      "outputs": [
        {
          "output_type": "display_data",
          "data": {
            "text/html": [
              "<style>\n",
              ".list-inline {list-style: none; margin:0; padding: 0}\n",
              ".list-inline>li {display: inline-block}\n",
              ".list-inline>li:not(:last-child)::after {content: \"\\00b7\"; padding: 0 .5ex}\n",
              "</style>\n",
              "<ol class=list-inline><li>1</li><li>2</li><li>3</li><li>4</li><li>5</li></ol>\n"
            ],
            "text/markdown": "1. 1\n2. 2\n3. 3\n4. 4\n5. 5\n\n\n",
            "text/latex": "\\begin{enumerate*}\n\\item 1\n\\item 2\n\\item 3\n\\item 4\n\\item 5\n\\end{enumerate*}\n",
            "text/plain": [
              "[1] 1 2 3 4 5"
            ]
          },
          "metadata": {}
        }
      ]
    },
    {
      "cell_type": "code",
      "source": [
        "for (val in x){\n",
        "  \n",
        "  if (val == 3){\n",
        "    next \n",
        "  } else{\n",
        "    print(val)\n",
        "  }\n",
        "\n",
        "\n",
        "}"
      ],
      "metadata": {
        "colab": {
          "base_uri": "https://localhost:8080/"
        },
        "id": "sd05tHQReapq",
        "outputId": "54954572-bb23-4088-d3a9-61948f4bfd50"
      },
      "execution_count": 56,
      "outputs": [
        {
          "output_type": "stream",
          "name": "stdout",
          "text": [
            "[1] 1\n",
            "[1] 2\n",
            "[1] 4\n",
            "[1] 5\n"
          ]
        }
      ]
    },
    {
      "cell_type": "markdown",
      "source": [
        "**Ejercicio**: De los números del 1 al 100 imprimir aquellos que son divisibles por 13."
      ],
      "metadata": {
        "id": "eBEmTpl0ev-d"
      }
    },
    {
      "cell_type": "code",
      "source": [
        "10 %% 3 "
      ],
      "metadata": {
        "colab": {
          "base_uri": "https://localhost:8080/",
          "height": 34
        },
        "id": "vQY6JJvDeh3-",
        "outputId": "1f207b69-69c6-495b-be14-cef69774d92f"
      },
      "execution_count": 57,
      "outputs": [
        {
          "output_type": "display_data",
          "data": {
            "text/html": [
              "1"
            ],
            "text/markdown": "1",
            "text/latex": "1",
            "text/plain": [
              "[1] 1"
            ]
          },
          "metadata": {}
        }
      ]
    },
    {
      "cell_type": "code",
      "source": [
        "20 %% 2 "
      ],
      "metadata": {
        "colab": {
          "base_uri": "https://localhost:8080/",
          "height": 34
        },
        "id": "Nxfmbd5kfBEJ",
        "outputId": "77740c2a-dc47-418f-9b57-373c248d1745"
      },
      "execution_count": 58,
      "outputs": [
        {
          "output_type": "display_data",
          "data": {
            "text/html": [
              "0"
            ],
            "text/markdown": "0",
            "text/latex": "0",
            "text/plain": [
              "[1] 0"
            ]
          },
          "metadata": {}
        }
      ]
    },
    {
      "cell_type": "code",
      "source": [
        "x <- 1:100 "
      ],
      "metadata": {
        "id": "t9u3_dL4fDEM"
      },
      "execution_count": 59,
      "outputs": []
    },
    {
      "cell_type": "code",
      "source": [
        "number <- 17\n",
        "\n",
        "for (val in x){\n",
        "\n",
        "  if (val %% number != 0){\n",
        "    next\n",
        "  } else{\n",
        "    print(val)\n",
        "  }\n",
        "\n",
        "\n",
        "\n",
        "}"
      ],
      "metadata": {
        "colab": {
          "base_uri": "https://localhost:8080/"
        },
        "id": "289BoQMmfZ4W",
        "outputId": "60afd55f-0d1b-4a9f-920b-f35c9bdab1b8"
      },
      "execution_count": 63,
      "outputs": [
        {
          "output_type": "stream",
          "name": "stdout",
          "text": [
            "[1] 17\n",
            "[1] 34\n",
            "[1] 51\n",
            "[1] 68\n",
            "[1] 85\n"
          ]
        }
      ]
    }
  ]
}