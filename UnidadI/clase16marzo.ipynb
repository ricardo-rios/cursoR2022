{
  "nbformat": 4,
  "nbformat_minor": 0,
  "metadata": {
    "colab": {
      "name": "clase16marzo.ipynb",
      "provenance": [],
      "collapsed_sections": []
    },
    "kernelspec": {
      "name": "ir",
      "display_name": "R"
    },
    "language_info": {
      "name": "R"
    }
  },
  "cells": [
    {
      "cell_type": "markdown",
      "source": [
        "# Cargando el dataset diabetes"
      ],
      "metadata": {
        "id": "exvBWtlGQFaQ"
      }
    },
    {
      "cell_type": "code",
      "source": [
        "diabetes <- read.csv(\"diabetes.csv\")"
      ],
      "metadata": {
        "id": "SLCkfkyEQIqd"
      },
      "execution_count": null,
      "outputs": []
    },
    {
      "cell_type": "code",
      "source": [
        "class(diabetes)"
      ],
      "metadata": {
        "colab": {
          "base_uri": "https://localhost:8080/",
          "height": 34
        },
        "id": "ltgPRByUQlF0",
        "outputId": "7490074d-3dfb-4b09-ef67-24f692156837"
      },
      "execution_count": null,
      "outputs": [
        {
          "output_type": "display_data",
          "data": {
            "text/html": [
              "'data.frame'"
            ],
            "text/markdown": "'data.frame'",
            "text/latex": "'data.frame'",
            "text/plain": [
              "[1] \"data.frame\""
            ]
          },
          "metadata": {}
        }
      ]
    },
    {
      "cell_type": "code",
      "source": [
        "head(diabetes)"
      ],
      "metadata": {
        "colab": {
          "base_uri": "https://localhost:8080/",
          "height": 286
        },
        "id": "zSbTC1efQnM7",
        "outputId": "8cc43ef7-59c9-4b59-be8b-1cf1b0f87da2"
      },
      "execution_count": null,
      "outputs": [
        {
          "output_type": "display_data",
          "data": {
            "text/html": [
              "<table class=\"dataframe\">\n",
              "<caption>A data.frame: 6 × 8</caption>\n",
              "<thead>\n",
              "\t<tr><th></th><th scope=col>subject</th><th scope=col>glyhb</th><th scope=col>location</th><th scope=col>age</th><th scope=col>gender</th><th scope=col>height</th><th scope=col>weight</th><th scope=col>frame</th></tr>\n",
              "\t<tr><th></th><th scope=col>&lt;chr&gt;</th><th scope=col>&lt;dbl&gt;</th><th scope=col>&lt;chr&gt;</th><th scope=col>&lt;int&gt;</th><th scope=col>&lt;chr&gt;</th><th scope=col>&lt;int&gt;</th><th scope=col>&lt;int&gt;</th><th scope=col>&lt;chr&gt;</th></tr>\n",
              "</thead>\n",
              "<tbody>\n",
              "\t<tr><th scope=row>1</th><td>S1002</td><td>4.64</td><td>Buckingham</td><td>58</td><td>female</td><td>61</td><td>256</td><td>large </td></tr>\n",
              "\t<tr><th scope=row>2</th><td>S1003</td><td>4.63</td><td>Buckingham</td><td>67</td><td>male  </td><td>67</td><td>119</td><td>large </td></tr>\n",
              "\t<tr><th scope=row>3</th><td>S1005</td><td>7.72</td><td>Buckingham</td><td>64</td><td>male  </td><td>68</td><td>183</td><td>medium</td></tr>\n",
              "\t<tr><th scope=row>4</th><td>S1008</td><td>4.81</td><td>Buckingham</td><td>34</td><td>male  </td><td>71</td><td>190</td><td>large </td></tr>\n",
              "\t<tr><th scope=row>5</th><td>S1011</td><td>4.84</td><td>Buckingham</td><td>30</td><td>male  </td><td>69</td><td>191</td><td>medium</td></tr>\n",
              "\t<tr><th scope=row>6</th><td>S1015</td><td>3.94</td><td>Buckingham</td><td>37</td><td>male  </td><td>59</td><td>170</td><td>medium</td></tr>\n",
              "</tbody>\n",
              "</table>\n"
            ],
            "text/markdown": "\nA data.frame: 6 × 8\n\n| <!--/--> | subject &lt;chr&gt; | glyhb &lt;dbl&gt; | location &lt;chr&gt; | age &lt;int&gt; | gender &lt;chr&gt; | height &lt;int&gt; | weight &lt;int&gt; | frame &lt;chr&gt; |\n|---|---|---|---|---|---|---|---|---|\n| 1 | S1002 | 4.64 | Buckingham | 58 | female | 61 | 256 | large  |\n| 2 | S1003 | 4.63 | Buckingham | 67 | male   | 67 | 119 | large  |\n| 3 | S1005 | 7.72 | Buckingham | 64 | male   | 68 | 183 | medium |\n| 4 | S1008 | 4.81 | Buckingham | 34 | male   | 71 | 190 | large  |\n| 5 | S1011 | 4.84 | Buckingham | 30 | male   | 69 | 191 | medium |\n| 6 | S1015 | 3.94 | Buckingham | 37 | male   | 59 | 170 | medium |\n\n",
            "text/latex": "A data.frame: 6 × 8\n\\begin{tabular}{r|llllllll}\n  & subject & glyhb & location & age & gender & height & weight & frame\\\\\n  & <chr> & <dbl> & <chr> & <int> & <chr> & <int> & <int> & <chr>\\\\\n\\hline\n\t1 & S1002 & 4.64 & Buckingham & 58 & female & 61 & 256 & large \\\\\n\t2 & S1003 & 4.63 & Buckingham & 67 & male   & 67 & 119 & large \\\\\n\t3 & S1005 & 7.72 & Buckingham & 64 & male   & 68 & 183 & medium\\\\\n\t4 & S1008 & 4.81 & Buckingham & 34 & male   & 71 & 190 & large \\\\\n\t5 & S1011 & 4.84 & Buckingham & 30 & male   & 69 & 191 & medium\\\\\n\t6 & S1015 & 3.94 & Buckingham & 37 & male   & 59 & 170 & medium\\\\\n\\end{tabular}\n",
            "text/plain": [
              "  subject glyhb location   age gender height weight frame \n",
              "1 S1002   4.64  Buckingham 58  female 61     256    large \n",
              "2 S1003   4.63  Buckingham 67  male   67     119    large \n",
              "3 S1005   7.72  Buckingham 64  male   68     183    medium\n",
              "4 S1008   4.81  Buckingham 34  male   71     190    large \n",
              "5 S1011   4.84  Buckingham 30  male   69     191    medium\n",
              "6 S1015   3.94  Buckingham 37  male   59     170    medium"
            ]
          },
          "metadata": {}
        }
      ]
    },
    {
      "cell_type": "code",
      "source": [
        "colnames(diabetes)"
      ],
      "metadata": {
        "colab": {
          "base_uri": "https://localhost:8080/",
          "height": 34
        },
        "id": "8XhkSNJgQqJY",
        "outputId": "8475315e-c608-452e-c5a7-17e324177cdc"
      },
      "execution_count": null,
      "outputs": [
        {
          "output_type": "display_data",
          "data": {
            "text/html": [
              "<style>\n",
              ".list-inline {list-style: none; margin:0; padding: 0}\n",
              ".list-inline>li {display: inline-block}\n",
              ".list-inline>li:not(:last-child)::after {content: \"\\00b7\"; padding: 0 .5ex}\n",
              "</style>\n",
              "<ol class=list-inline><li>'subject'</li><li>'glyhb'</li><li>'location'</li><li>'age'</li><li>'gender'</li><li>'height'</li><li>'weight'</li><li>'frame'</li></ol>\n"
            ],
            "text/markdown": "1. 'subject'\n2. 'glyhb'\n3. 'location'\n4. 'age'\n5. 'gender'\n6. 'height'\n7. 'weight'\n8. 'frame'\n\n\n",
            "text/latex": "\\begin{enumerate*}\n\\item 'subject'\n\\item 'glyhb'\n\\item 'location'\n\\item 'age'\n\\item 'gender'\n\\item 'height'\n\\item 'weight'\n\\item 'frame'\n\\end{enumerate*}\n",
            "text/plain": [
              "[1] \"subject\"  \"glyhb\"    \"location\" \"age\"      \"gender\"   \"height\"   \"weight\"  \n",
              "[8] \"frame\"   "
            ]
          },
          "metadata": {}
        }
      ]
    },
    {
      "cell_type": "markdown",
      "source": [
        "**Ejercicio**: Con el dataset diabetes recuperar la información de los individuos con una edad mayor o igual a 80 años. "
      ],
      "metadata": {
        "id": "5HwPb3vzRSnA"
      }
    },
    {
      "cell_type": "code",
      "source": [
        "is_over_80 <- diabetes$age >= 80 "
      ],
      "metadata": {
        "id": "LUXFy681Rf6L"
      },
      "execution_count": null,
      "outputs": []
    },
    {
      "cell_type": "code",
      "source": [
        "diabetes[is_over_80, ]"
      ],
      "metadata": {
        "colab": {
          "base_uri": "https://localhost:8080/",
          "height": 380
        },
        "id": "Y2bLSjkCSy3d",
        "outputId": "fbdcacb7-689d-40c1-da9e-d75225cd4912"
      },
      "execution_count": null,
      "outputs": [
        {
          "output_type": "display_data",
          "data": {
            "text/html": [
              "<table class=\"dataframe\">\n",
              "<caption>A data.frame: 9 × 8</caption>\n",
              "<thead>\n",
              "\t<tr><th></th><th scope=col>subject</th><th scope=col>glyhb</th><th scope=col>location</th><th scope=col>age</th><th scope=col>gender</th><th scope=col>height</th><th scope=col>weight</th><th scope=col>frame</th></tr>\n",
              "\t<tr><th></th><th scope=col>&lt;chr&gt;</th><th scope=col>&lt;dbl&gt;</th><th scope=col>&lt;chr&gt;</th><th scope=col>&lt;int&gt;</th><th scope=col>&lt;chr&gt;</th><th scope=col>&lt;int&gt;</th><th scope=col>&lt;int&gt;</th><th scope=col>&lt;chr&gt;</th></tr>\n",
              "</thead>\n",
              "<tbody>\n",
              "\t<tr><th scope=row>45</th><td>S2770 </td><td> 4.98</td><td>Buckingham</td><td>92</td><td>female</td><td>62</td><td>217</td><td>large </td></tr>\n",
              "\t<tr><th scope=row>56</th><td>S2794 </td><td> 8.40</td><td>Buckingham</td><td>91</td><td>female</td><td>61</td><td>127</td><td>NA    </td></tr>\n",
              "\t<tr><th scope=row>90</th><td>S4803 </td><td> 5.71</td><td>Louisa    </td><td>83</td><td>female</td><td>59</td><td>125</td><td>medium</td></tr>\n",
              "\t<tr><th scope=row>130</th><td>S13500</td><td> 5.60</td><td>Louisa    </td><td>82</td><td>male  </td><td>66</td><td>163</td><td>NA    </td></tr>\n",
              "\t<tr><th scope=row>139</th><td>S15013</td><td> 4.57</td><td>Louisa    </td><td>81</td><td>female</td><td>64</td><td>158</td><td>medium</td></tr>\n",
              "\t<tr><th scope=row>193</th><td>S15815</td><td> 4.92</td><td>Buckingham</td><td>82</td><td>female</td><td>63</td><td>170</td><td>medium</td></tr>\n",
              "\t<tr><th scope=row>321</th><td>S40784</td><td>10.07</td><td>Louisa    </td><td>84</td><td>female</td><td>60</td><td>192</td><td>small </td></tr>\n",
              "\t<tr><th scope=row>323</th><td>S40786</td><td> 6.48</td><td>Louisa    </td><td>80</td><td>male  </td><td>71</td><td>212</td><td>medium</td></tr>\n",
              "\t<tr><th scope=row>324</th><td>S40789</td><td>11.18</td><td>Louisa    </td><td>80</td><td>female</td><td>62</td><td>162</td><td>small </td></tr>\n",
              "</tbody>\n",
              "</table>\n"
            ],
            "text/markdown": "\nA data.frame: 9 × 8\n\n| <!--/--> | subject &lt;chr&gt; | glyhb &lt;dbl&gt; | location &lt;chr&gt; | age &lt;int&gt; | gender &lt;chr&gt; | height &lt;int&gt; | weight &lt;int&gt; | frame &lt;chr&gt; |\n|---|---|---|---|---|---|---|---|---|\n| 45 | S2770  |  4.98 | Buckingham | 92 | female | 62 | 217 | large  |\n| 56 | S2794  |  8.40 | Buckingham | 91 | female | 61 | 127 | NA     |\n| 90 | S4803  |  5.71 | Louisa     | 83 | female | 59 | 125 | medium |\n| 130 | S13500 |  5.60 | Louisa     | 82 | male   | 66 | 163 | NA     |\n| 139 | S15013 |  4.57 | Louisa     | 81 | female | 64 | 158 | medium |\n| 193 | S15815 |  4.92 | Buckingham | 82 | female | 63 | 170 | medium |\n| 321 | S40784 | 10.07 | Louisa     | 84 | female | 60 | 192 | small  |\n| 323 | S40786 |  6.48 | Louisa     | 80 | male   | 71 | 212 | medium |\n| 324 | S40789 | 11.18 | Louisa     | 80 | female | 62 | 162 | small  |\n\n",
            "text/latex": "A data.frame: 9 × 8\n\\begin{tabular}{r|llllllll}\n  & subject & glyhb & location & age & gender & height & weight & frame\\\\\n  & <chr> & <dbl> & <chr> & <int> & <chr> & <int> & <int> & <chr>\\\\\n\\hline\n\t45 & S2770  &  4.98 & Buckingham & 92 & female & 62 & 217 & large \\\\\n\t56 & S2794  &  8.40 & Buckingham & 91 & female & 61 & 127 & NA    \\\\\n\t90 & S4803  &  5.71 & Louisa     & 83 & female & 59 & 125 & medium\\\\\n\t130 & S13500 &  5.60 & Louisa     & 82 & male   & 66 & 163 & NA    \\\\\n\t139 & S15013 &  4.57 & Louisa     & 81 & female & 64 & 158 & medium\\\\\n\t193 & S15815 &  4.92 & Buckingham & 82 & female & 63 & 170 & medium\\\\\n\t321 & S40784 & 10.07 & Louisa     & 84 & female & 60 & 192 & small \\\\\n\t323 & S40786 &  6.48 & Louisa     & 80 & male   & 71 & 212 & medium\\\\\n\t324 & S40789 & 11.18 & Louisa     & 80 & female & 62 & 162 & small \\\\\n\\end{tabular}\n",
            "text/plain": [
              "    subject glyhb location   age gender height weight frame \n",
              "45  S2770    4.98 Buckingham 92  female 62     217    large \n",
              "56  S2794    8.40 Buckingham 91  female 61     127    NA    \n",
              "90  S4803    5.71 Louisa     83  female 59     125    medium\n",
              "130 S13500   5.60 Louisa     82  male   66     163    NA    \n",
              "139 S15013   4.57 Louisa     81  female 64     158    medium\n",
              "193 S15815   4.92 Buckingham 82  female 63     170    medium\n",
              "321 S40784  10.07 Louisa     84  female 60     192    small \n",
              "323 S40786   6.48 Louisa     80  male   71     212    medium\n",
              "324 S40789  11.18 Louisa     80  female 62     162    small "
            ]
          },
          "metadata": {}
        }
      ]
    },
    {
      "cell_type": "code",
      "source": [
        "dim(diabetes[is_over_80, ])"
      ],
      "metadata": {
        "colab": {
          "base_uri": "https://localhost:8080/",
          "height": 34
        },
        "id": "EvxV76qqS4Xq",
        "outputId": "00eb19ff-4960-4e1b-c31d-567d7c8879bc"
      },
      "execution_count": null,
      "outputs": [
        {
          "output_type": "display_data",
          "data": {
            "text/html": [
              "<style>\n",
              ".list-inline {list-style: none; margin:0; padding: 0}\n",
              ".list-inline>li {display: inline-block}\n",
              ".list-inline>li:not(:last-child)::after {content: \"\\00b7\"; padding: 0 .5ex}\n",
              "</style>\n",
              "<ol class=list-inline><li>9</li><li>8</li></ol>\n"
            ],
            "text/markdown": "1. 9\n2. 8\n\n\n",
            "text/latex": "\\begin{enumerate*}\n\\item 9\n\\item 8\n\\end{enumerate*}\n",
            "text/plain": [
              "[1] 9 8"
            ]
          },
          "metadata": {}
        }
      ]
    },
    {
      "cell_type": "markdown",
      "source": [
        "¿Que filas son las que se corresponden con los individuos que son mayores o iguales a 80 años?"
      ],
      "metadata": {
        "id": "3viU_xn_TSVz"
      }
    },
    {
      "cell_type": "code",
      "source": [
        "which(diabetes$age >= 80)"
      ],
      "metadata": {
        "colab": {
          "base_uri": "https://localhost:8080/",
          "height": 34
        },
        "id": "p1SjqWNuTbvQ",
        "outputId": "a0df41bd-86ac-4ae8-9365-2b8ac97a7653"
      },
      "execution_count": null,
      "outputs": [
        {
          "output_type": "display_data",
          "data": {
            "text/html": [
              "<style>\n",
              ".list-inline {list-style: none; margin:0; padding: 0}\n",
              ".list-inline>li {display: inline-block}\n",
              ".list-inline>li:not(:last-child)::after {content: \"\\00b7\"; padding: 0 .5ex}\n",
              "</style>\n",
              "<ol class=list-inline><li>45</li><li>56</li><li>90</li><li>130</li><li>139</li><li>193</li><li>321</li><li>323</li><li>324</li></ol>\n"
            ],
            "text/markdown": "1. 45\n2. 56\n3. 90\n4. 130\n5. 139\n6. 193\n7. 321\n8. 323\n9. 324\n\n\n",
            "text/latex": "\\begin{enumerate*}\n\\item 45\n\\item 56\n\\item 90\n\\item 130\n\\item 139\n\\item 193\n\\item 321\n\\item 323\n\\item 324\n\\end{enumerate*}\n",
            "text/plain": [
              "[1]  45  56  90 130 139 193 321 323 324"
            ]
          },
          "metadata": {}
        }
      ]
    },
    {
      "cell_type": "code",
      "source": [
        "which(is_over_80)"
      ],
      "metadata": {
        "colab": {
          "base_uri": "https://localhost:8080/",
          "height": 34
        },
        "id": "D57QPrzOU4l-",
        "outputId": "7997ed94-5c82-4358-8a57-b08681c98913"
      },
      "execution_count": null,
      "outputs": [
        {
          "output_type": "display_data",
          "data": {
            "text/html": [
              "<style>\n",
              ".list-inline {list-style: none; margin:0; padding: 0}\n",
              ".list-inline>li {display: inline-block}\n",
              ".list-inline>li:not(:last-child)::after {content: \"\\00b7\"; padding: 0 .5ex}\n",
              "</style>\n",
              "<ol class=list-inline><li>45</li><li>56</li><li>90</li><li>130</li><li>139</li><li>193</li><li>321</li><li>323</li><li>324</li></ol>\n"
            ],
            "text/markdown": "1. 45\n2. 56\n3. 90\n4. 130\n5. 139\n6. 193\n7. 321\n8. 323\n9. 324\n\n\n",
            "text/latex": "\\begin{enumerate*}\n\\item 45\n\\item 56\n\\item 90\n\\item 130\n\\item 139\n\\item 193\n\\item 321\n\\item 323\n\\item 324\n\\end{enumerate*}\n",
            "text/plain": [
              "[1]  45  56  90 130 139 193 321 323 324"
            ]
          },
          "metadata": {}
        }
      ]
    },
    {
      "cell_type": "markdown",
      "source": [
        "Si lo que quiero es filtar las mujeres mayores de 80 años."
      ],
      "metadata": {
        "id": "6Z8Sxa0oVEwZ"
      }
    },
    {
      "cell_type": "code",
      "source": [
        "head(diabetes)"
      ],
      "metadata": {
        "colab": {
          "base_uri": "https://localhost:8080/",
          "height": 286
        },
        "id": "8nfPDeC0U9tA",
        "outputId": "93de90a0-fb10-425a-a9b5-c98312014c26"
      },
      "execution_count": null,
      "outputs": [
        {
          "output_type": "display_data",
          "data": {
            "text/html": [
              "<table class=\"dataframe\">\n",
              "<caption>A data.frame: 6 × 8</caption>\n",
              "<thead>\n",
              "\t<tr><th></th><th scope=col>subject</th><th scope=col>glyhb</th><th scope=col>location</th><th scope=col>age</th><th scope=col>gender</th><th scope=col>height</th><th scope=col>weight</th><th scope=col>frame</th></tr>\n",
              "\t<tr><th></th><th scope=col>&lt;chr&gt;</th><th scope=col>&lt;dbl&gt;</th><th scope=col>&lt;chr&gt;</th><th scope=col>&lt;int&gt;</th><th scope=col>&lt;chr&gt;</th><th scope=col>&lt;int&gt;</th><th scope=col>&lt;int&gt;</th><th scope=col>&lt;chr&gt;</th></tr>\n",
              "</thead>\n",
              "<tbody>\n",
              "\t<tr><th scope=row>1</th><td>S1002</td><td>4.64</td><td>Buckingham</td><td>58</td><td>female</td><td>61</td><td>256</td><td>large </td></tr>\n",
              "\t<tr><th scope=row>2</th><td>S1003</td><td>4.63</td><td>Buckingham</td><td>67</td><td>male  </td><td>67</td><td>119</td><td>large </td></tr>\n",
              "\t<tr><th scope=row>3</th><td>S1005</td><td>7.72</td><td>Buckingham</td><td>64</td><td>male  </td><td>68</td><td>183</td><td>medium</td></tr>\n",
              "\t<tr><th scope=row>4</th><td>S1008</td><td>4.81</td><td>Buckingham</td><td>34</td><td>male  </td><td>71</td><td>190</td><td>large </td></tr>\n",
              "\t<tr><th scope=row>5</th><td>S1011</td><td>4.84</td><td>Buckingham</td><td>30</td><td>male  </td><td>69</td><td>191</td><td>medium</td></tr>\n",
              "\t<tr><th scope=row>6</th><td>S1015</td><td>3.94</td><td>Buckingham</td><td>37</td><td>male  </td><td>59</td><td>170</td><td>medium</td></tr>\n",
              "</tbody>\n",
              "</table>\n"
            ],
            "text/markdown": "\nA data.frame: 6 × 8\n\n| <!--/--> | subject &lt;chr&gt; | glyhb &lt;dbl&gt; | location &lt;chr&gt; | age &lt;int&gt; | gender &lt;chr&gt; | height &lt;int&gt; | weight &lt;int&gt; | frame &lt;chr&gt; |\n|---|---|---|---|---|---|---|---|---|\n| 1 | S1002 | 4.64 | Buckingham | 58 | female | 61 | 256 | large  |\n| 2 | S1003 | 4.63 | Buckingham | 67 | male   | 67 | 119 | large  |\n| 3 | S1005 | 7.72 | Buckingham | 64 | male   | 68 | 183 | medium |\n| 4 | S1008 | 4.81 | Buckingham | 34 | male   | 71 | 190 | large  |\n| 5 | S1011 | 4.84 | Buckingham | 30 | male   | 69 | 191 | medium |\n| 6 | S1015 | 3.94 | Buckingham | 37 | male   | 59 | 170 | medium |\n\n",
            "text/latex": "A data.frame: 6 × 8\n\\begin{tabular}{r|llllllll}\n  & subject & glyhb & location & age & gender & height & weight & frame\\\\\n  & <chr> & <dbl> & <chr> & <int> & <chr> & <int> & <int> & <chr>\\\\\n\\hline\n\t1 & S1002 & 4.64 & Buckingham & 58 & female & 61 & 256 & large \\\\\n\t2 & S1003 & 4.63 & Buckingham & 67 & male   & 67 & 119 & large \\\\\n\t3 & S1005 & 7.72 & Buckingham & 64 & male   & 68 & 183 & medium\\\\\n\t4 & S1008 & 4.81 & Buckingham & 34 & male   & 71 & 190 & large \\\\\n\t5 & S1011 & 4.84 & Buckingham & 30 & male   & 69 & 191 & medium\\\\\n\t6 & S1015 & 3.94 & Buckingham & 37 & male   & 59 & 170 & medium\\\\\n\\end{tabular}\n",
            "text/plain": [
              "  subject glyhb location   age gender height weight frame \n",
              "1 S1002   4.64  Buckingham 58  female 61     256    large \n",
              "2 S1003   4.63  Buckingham 67  male   67     119    large \n",
              "3 S1005   7.72  Buckingham 64  male   68     183    medium\n",
              "4 S1008   4.81  Buckingham 34  male   71     190    large \n",
              "5 S1011   4.84  Buckingham 30  male   69     191    medium\n",
              "6 S1015   3.94  Buckingham 37  male   59     170    medium"
            ]
          },
          "metadata": {}
        }
      ]
    },
    {
      "cell_type": "code",
      "source": [
        "is_over_80_and_female <- diabetes$age >= 80  & diabetes$gender == \"female\" "
      ],
      "metadata": {
        "id": "yGejYzO8VXMr"
      },
      "execution_count": null,
      "outputs": []
    },
    {
      "cell_type": "code",
      "source": [
        "diabetes[is_over_80_and_female, ]"
      ],
      "metadata": {
        "colab": {
          "base_uri": "https://localhost:8080/",
          "height": 318
        },
        "id": "vonv_r3LV8JE",
        "outputId": "0f43a011-2b67-4561-ab19-6f553ca7e2ea"
      },
      "execution_count": null,
      "outputs": [
        {
          "output_type": "display_data",
          "data": {
            "text/html": [
              "<table class=\"dataframe\">\n",
              "<caption>A data.frame: 7 × 8</caption>\n",
              "<thead>\n",
              "\t<tr><th></th><th scope=col>subject</th><th scope=col>glyhb</th><th scope=col>location</th><th scope=col>age</th><th scope=col>gender</th><th scope=col>height</th><th scope=col>weight</th><th scope=col>frame</th></tr>\n",
              "\t<tr><th></th><th scope=col>&lt;chr&gt;</th><th scope=col>&lt;dbl&gt;</th><th scope=col>&lt;chr&gt;</th><th scope=col>&lt;int&gt;</th><th scope=col>&lt;chr&gt;</th><th scope=col>&lt;int&gt;</th><th scope=col>&lt;int&gt;</th><th scope=col>&lt;chr&gt;</th></tr>\n",
              "</thead>\n",
              "<tbody>\n",
              "\t<tr><th scope=row>45</th><td>S2770 </td><td> 4.98</td><td>Buckingham</td><td>92</td><td>female</td><td>62</td><td>217</td><td>large </td></tr>\n",
              "\t<tr><th scope=row>56</th><td>S2794 </td><td> 8.40</td><td>Buckingham</td><td>91</td><td>female</td><td>61</td><td>127</td><td>NA    </td></tr>\n",
              "\t<tr><th scope=row>90</th><td>S4803 </td><td> 5.71</td><td>Louisa    </td><td>83</td><td>female</td><td>59</td><td>125</td><td>medium</td></tr>\n",
              "\t<tr><th scope=row>139</th><td>S15013</td><td> 4.57</td><td>Louisa    </td><td>81</td><td>female</td><td>64</td><td>158</td><td>medium</td></tr>\n",
              "\t<tr><th scope=row>193</th><td>S15815</td><td> 4.92</td><td>Buckingham</td><td>82</td><td>female</td><td>63</td><td>170</td><td>medium</td></tr>\n",
              "\t<tr><th scope=row>321</th><td>S40784</td><td>10.07</td><td>Louisa    </td><td>84</td><td>female</td><td>60</td><td>192</td><td>small </td></tr>\n",
              "\t<tr><th scope=row>324</th><td>S40789</td><td>11.18</td><td>Louisa    </td><td>80</td><td>female</td><td>62</td><td>162</td><td>small </td></tr>\n",
              "</tbody>\n",
              "</table>\n"
            ],
            "text/markdown": "\nA data.frame: 7 × 8\n\n| <!--/--> | subject &lt;chr&gt; | glyhb &lt;dbl&gt; | location &lt;chr&gt; | age &lt;int&gt; | gender &lt;chr&gt; | height &lt;int&gt; | weight &lt;int&gt; | frame &lt;chr&gt; |\n|---|---|---|---|---|---|---|---|---|\n| 45 | S2770  |  4.98 | Buckingham | 92 | female | 62 | 217 | large  |\n| 56 | S2794  |  8.40 | Buckingham | 91 | female | 61 | 127 | NA     |\n| 90 | S4803  |  5.71 | Louisa     | 83 | female | 59 | 125 | medium |\n| 139 | S15013 |  4.57 | Louisa     | 81 | female | 64 | 158 | medium |\n| 193 | S15815 |  4.92 | Buckingham | 82 | female | 63 | 170 | medium |\n| 321 | S40784 | 10.07 | Louisa     | 84 | female | 60 | 192 | small  |\n| 324 | S40789 | 11.18 | Louisa     | 80 | female | 62 | 162 | small  |\n\n",
            "text/latex": "A data.frame: 7 × 8\n\\begin{tabular}{r|llllllll}\n  & subject & glyhb & location & age & gender & height & weight & frame\\\\\n  & <chr> & <dbl> & <chr> & <int> & <chr> & <int> & <int> & <chr>\\\\\n\\hline\n\t45 & S2770  &  4.98 & Buckingham & 92 & female & 62 & 217 & large \\\\\n\t56 & S2794  &  8.40 & Buckingham & 91 & female & 61 & 127 & NA    \\\\\n\t90 & S4803  &  5.71 & Louisa     & 83 & female & 59 & 125 & medium\\\\\n\t139 & S15013 &  4.57 & Louisa     & 81 & female & 64 & 158 & medium\\\\\n\t193 & S15815 &  4.92 & Buckingham & 82 & female & 63 & 170 & medium\\\\\n\t321 & S40784 & 10.07 & Louisa     & 84 & female & 60 & 192 & small \\\\\n\t324 & S40789 & 11.18 & Louisa     & 80 & female & 62 & 162 & small \\\\\n\\end{tabular}\n",
            "text/plain": [
              "    subject glyhb location   age gender height weight frame \n",
              "45  S2770    4.98 Buckingham 92  female 62     217    large \n",
              "56  S2794    8.40 Buckingham 91  female 61     127    NA    \n",
              "90  S4803    5.71 Louisa     83  female 59     125    medium\n",
              "139 S15013   4.57 Louisa     81  female 64     158    medium\n",
              "193 S15815   4.92 Buckingham 82  female 63     170    medium\n",
              "321 S40784  10.07 Louisa     84  female 60     192    small \n",
              "324 S40789  11.18 Louisa     80  female 62     162    small "
            ]
          },
          "metadata": {}
        }
      ]
    },
    {
      "cell_type": "markdown",
      "source": [
        "¿ Mostar las mujeres de Buckingham que estan arriba de 25 años?"
      ],
      "metadata": {
        "id": "-3L6fyy5WMa0"
      }
    },
    {
      "cell_type": "code",
      "source": [
        "fem_buck_over_25 <- diabetes$location == \"Buckingham\" & diabetes$gender == \"female\" & diabetes$age > 25"
      ],
      "metadata": {
        "id": "x_5L4XG6WE2R"
      },
      "execution_count": null,
      "outputs": []
    },
    {
      "cell_type": "code",
      "source": [
        "diabetes[fem_buck_over_25, ]"
      ],
      "metadata": {
        "colab": {
          "base_uri": "https://localhost:8080/",
          "height": 1000
        },
        "id": "qgW1mGIQYsFF",
        "outputId": "eb490419-1b41-4037-8f5c-97c189453ca9"
      },
      "execution_count": null,
      "outputs": [
        {
          "output_type": "display_data",
          "data": {
            "text/html": [
              "<table class=\"dataframe\">\n",
              "<caption>A data.frame: 89 × 8</caption>\n",
              "<thead>\n",
              "\t<tr><th></th><th scope=col>subject</th><th scope=col>glyhb</th><th scope=col>location</th><th scope=col>age</th><th scope=col>gender</th><th scope=col>height</th><th scope=col>weight</th><th scope=col>frame</th></tr>\n",
              "\t<tr><th></th><th scope=col>&lt;chr&gt;</th><th scope=col>&lt;dbl&gt;</th><th scope=col>&lt;chr&gt;</th><th scope=col>&lt;int&gt;</th><th scope=col>&lt;chr&gt;</th><th scope=col>&lt;int&gt;</th><th scope=col>&lt;int&gt;</th><th scope=col>&lt;chr&gt;</th></tr>\n",
              "</thead>\n",
              "<tbody>\n",
              "\t<tr><th scope=row>1</th><td>S1002</td><td> 4.64</td><td>Buckingham</td><td>58</td><td>female</td><td>61</td><td>256</td><td>large </td></tr>\n",
              "\t<tr><th scope=row>8</th><td>S1022</td><td> 5.78</td><td>Buckingham</td><td>55</td><td>female</td><td>63</td><td>202</td><td>small </td></tr>\n",
              "\t<tr><th scope=row>15</th><td>S1250</td><td>11.24</td><td>Buckingham</td><td>62</td><td>female</td><td>65</td><td>196</td><td>large </td></tr>\n",
              "\t<tr><th scope=row>18</th><td>S1277</td><td> 4.18</td><td>Buckingham</td><td>41</td><td>female</td><td>72</td><td>118</td><td>small </td></tr>\n",
              "\t<tr><th scope=row>20</th><td>S1282</td><td> 4.52</td><td>Buckingham</td><td>43</td><td>female</td><td>62</td><td>145</td><td>medium</td></tr>\n",
              "\t<tr><th scope=row>22</th><td>S1301</td><td> 5.11</td><td>Buckingham</td><td>42</td><td>female</td><td>65</td><td>174</td><td>medium</td></tr>\n",
              "\t<tr><th scope=row>25</th><td>S1305</td><td> 5.66</td><td>Buckingham</td><td>61</td><td>female</td><td>69</td><td>174</td><td>medium</td></tr>\n",
              "\t<tr><th scope=row>27</th><td>S1312</td><td> 4.03</td><td>Buckingham</td><td>47</td><td>female</td><td>66</td><td>186</td><td>medium</td></tr>\n",
              "\t<tr><th scope=row>32</th><td>S1321</td><td> 3.89</td><td>Buckingham</td><td>52</td><td>female</td><td>62</td><td>170</td><td>medium</td></tr>\n",
              "\t<tr><th scope=row>34</th><td>S1500</td><td> 5.96</td><td>Buckingham</td><td>72</td><td>female</td><td>59</td><td>137</td><td>large </td></tr>\n",
              "\t<tr><th scope=row>35</th><td>S1502</td><td> 6.14</td><td>Buckingham</td><td>54</td><td>female</td><td>67</td><td>165</td><td>medium</td></tr>\n",
              "\t<tr><th scope=row>37</th><td>S2753</td><td> 5.57</td><td>Buckingham</td><td>55</td><td>female</td><td>66</td><td>219</td><td>medium</td></tr>\n",
              "\t<tr><th scope=row>39</th><td>S2756</td><td> 5.35</td><td>Buckingham</td><td>43</td><td>female</td><td>64</td><td>181</td><td>medium</td></tr>\n",
              "\t<tr><th scope=row>40</th><td>S2757</td><td> 6.33</td><td>Buckingham</td><td>65</td><td>female</td><td>61</td><td>187</td><td>large </td></tr>\n",
              "\t<tr><th scope=row>41</th><td>S2758</td><td> 4.56</td><td>Buckingham</td><td>45</td><td>female</td><td>64</td><td>167</td><td>large </td></tr>\n",
              "\t<tr><th scope=row>42</th><td>S2762</td><td> 9.39</td><td>Buckingham</td><td>70</td><td>female</td><td>60</td><td>220</td><td>medium</td></tr>\n",
              "\t<tr><th scope=row>45</th><td>S2770</td><td> 4.98</td><td>Buckingham</td><td>92</td><td>female</td><td>62</td><td>217</td><td>large </td></tr>\n",
              "\t<tr><th scope=row>46</th><td>S2773</td><td>13.70</td><td>Buckingham</td><td>49</td><td>female</td><td>62</td><td>189</td><td>large </td></tr>\n",
              "\t<tr><th scope=row>47</th><td>S2774</td><td>   NA</td><td>Buckingham</td><td>44</td><td>female</td><td>66</td><td>191</td><td>large </td></tr>\n",
              "\t<tr><th scope=row>48</th><td>S2775</td><td>10.93</td><td>Buckingham</td><td>74</td><td>female</td><td>63</td><td>183</td><td>large </td></tr>\n",
              "\t<tr><th scope=row>49</th><td>S2778</td><td>14.31</td><td>Buckingham</td><td>51</td><td>female</td><td>70</td><td>235</td><td>medium</td></tr>\n",
              "\t<tr><th scope=row>50</th><td>S2780</td><td> 3.99</td><td>Buckingham</td><td>38</td><td>female</td><td>NA</td><td>125</td><td>NA    </td></tr>\n",
              "\t<tr><th scope=row>52</th><td>S2785</td><td> 4.27</td><td>Buckingham</td><td>28</td><td>female</td><td>64</td><td>126</td><td>small </td></tr>\n",
              "\t<tr><th scope=row>54</th><td>S2791</td><td>11.41</td><td>Buckingham</td><td>71</td><td>female</td><td>63</td><td>165</td><td>medium</td></tr>\n",
              "\t<tr><th scope=row>55</th><td>S2793</td><td> 4.44</td><td>Buckingham</td><td>76</td><td>female</td><td>61</td><td>102</td><td>medium</td></tr>\n",
              "\t<tr><th scope=row>56</th><td>S2794</td><td> 8.40</td><td>Buckingham</td><td>91</td><td>female</td><td>61</td><td>127</td><td>NA    </td></tr>\n",
              "\t<tr><th scope=row>60</th><td>S3751</td><td> 5.20</td><td>Buckingham</td><td>40</td><td>female</td><td>68</td><td>264</td><td>medium</td></tr>\n",
              "\t<tr><th scope=row>62</th><td>S4000</td><td> 7.44</td><td>Buckingham</td><td>76</td><td>female</td><td>60</td><td>143</td><td>large </td></tr>\n",
              "\t<tr><th scope=row>63</th><td>S4500</td><td> 5.47</td><td>Buckingham</td><td>46</td><td>female</td><td>62</td><td>183</td><td>medium</td></tr>\n",
              "\t<tr><th scope=row>66</th><td>S4515</td><td> 6.96</td><td>Buckingham</td><td>58</td><td>female</td><td>63</td><td>154</td><td>large </td></tr>\n",
              "\t<tr><th scope=row>⋮</th><td>⋮</td><td>⋮</td><td>⋮</td><td>⋮</td><td>⋮</td><td>⋮</td><td>⋮</td><td>⋮</td></tr>\n",
              "\t<tr><th scope=row>190</th><td>S15812</td><td>3.55</td><td>Buckingham</td><td>40</td><td>female</td><td>62</td><td>105</td><td>small </td></tr>\n",
              "\t<tr><th scope=row>192</th><td>S15814</td><td>4.44</td><td>Buckingham</td><td>68</td><td>female</td><td>63</td><td>124</td><td>medium</td></tr>\n",
              "\t<tr><th scope=row>193</th><td>S15815</td><td>4.92</td><td>Buckingham</td><td>82</td><td>female</td><td>63</td><td>170</td><td>medium</td></tr>\n",
              "\t<tr><th scope=row>194</th><td>S15816</td><td>4.59</td><td>Buckingham</td><td>60</td><td>female</td><td>62</td><td>134</td><td>small </td></tr>\n",
              "\t<tr><th scope=row>195</th><td>S15818</td><td>4.73</td><td>Buckingham</td><td>30</td><td>female</td><td>65</td><td>165</td><td>small </td></tr>\n",
              "\t<tr><th scope=row>197</th><td>S15827</td><td>4.87</td><td>Buckingham</td><td>72</td><td>female</td><td>61</td><td>180</td><td>NA    </td></tr>\n",
              "\t<tr><th scope=row>199</th><td>S16000</td><td>5.13</td><td>Buckingham</td><td>50</td><td>female</td><td>61</td><td>147</td><td>large </td></tr>\n",
              "\t<tr><th scope=row>200</th><td>S16001</td><td>4.64</td><td>Buckingham</td><td>51</td><td>female</td><td>66</td><td>110</td><td>small </td></tr>\n",
              "\t<tr><th scope=row>202</th><td>S16004</td><td>5.36</td><td>Buckingham</td><td>38</td><td>female</td><td>63</td><td>181</td><td>medium</td></tr>\n",
              "\t<tr><th scope=row>204</th><td>S16016</td><td>5.38</td><td>Buckingham</td><td>44</td><td>female</td><td>NA</td><td>190</td><td>large </td></tr>\n",
              "\t<tr><th scope=row>211</th><td>S17760</td><td>4.78</td><td>Buckingham</td><td>69</td><td>female</td><td>59</td><td>179</td><td>large </td></tr>\n",
              "\t<tr><th scope=row>213</th><td>S17765</td><td>3.97</td><td>Buckingham</td><td>70</td><td>female</td><td>66</td><td>200</td><td>medium</td></tr>\n",
              "\t<tr><th scope=row>215</th><td>S17767</td><td>6.48</td><td>Buckingham</td><td>42</td><td>female</td><td>62</td><td>141</td><td>large </td></tr>\n",
              "\t<tr><th scope=row>217</th><td>S17772</td><td>4.85</td><td>Buckingham</td><td>31</td><td>female</td><td>67</td><td>160</td><td>medium</td></tr>\n",
              "\t<tr><th scope=row>218</th><td>S17773</td><td>4.61</td><td>Buckingham</td><td>31</td><td>female</td><td>65</td><td>120</td><td>small </td></tr>\n",
              "\t<tr><th scope=row>219</th><td>S17776</td><td>4.10</td><td>Buckingham</td><td>27</td><td>female</td><td>65</td><td>145</td><td>small </td></tr>\n",
              "\t<tr><th scope=row>220</th><td>S17781</td><td>7.51</td><td>Buckingham</td><td>73</td><td>female</td><td>64</td><td>174</td><td>large </td></tr>\n",
              "\t<tr><th scope=row>222</th><td>S17791</td><td>3.75</td><td>Buckingham</td><td>71</td><td>female</td><td>63</td><td>155</td><td>small </td></tr>\n",
              "\t<tr><th scope=row>223</th><td>S17794</td><td>5.04</td><td>Buckingham</td><td>27</td><td>female</td><td>63</td><td>179</td><td>medium</td></tr>\n",
              "\t<tr><th scope=row>226</th><td>S17802</td><td>4.37</td><td>Buckingham</td><td>31</td><td>female</td><td>66</td><td>190</td><td>medium</td></tr>\n",
              "\t<tr><th scope=row>227</th><td>S17805</td><td>7.48</td><td>Buckingham</td><td>62</td><td>female</td><td>63</td><td>290</td><td>large </td></tr>\n",
              "\t<tr><th scope=row>229</th><td>S17813</td><td>4.74</td><td>Buckingham</td><td>36</td><td>female</td><td>66</td><td>255</td><td>large </td></tr>\n",
              "\t<tr><th scope=row>235</th><td>S17829</td><td>5.03</td><td>Buckingham</td><td>59</td><td>female</td><td>63</td><td>176</td><td>large </td></tr>\n",
              "\t<tr><th scope=row>236</th><td>S17830</td><td>4.41</td><td>Buckingham</td><td>37</td><td>female</td><td>64</td><td>145</td><td>medium</td></tr>\n",
              "\t<tr><th scope=row>238</th><td>S17841</td><td>4.07</td><td>Buckingham</td><td>38</td><td>female</td><td>69</td><td>167</td><td>medium</td></tr>\n",
              "\t<tr><th scope=row>241</th><td>S20254</td><td>3.96</td><td>Buckingham</td><td>29</td><td>female</td><td>65</td><td>123</td><td>small </td></tr>\n",
              "\t<tr><th scope=row>242</th><td>S20258</td><td>  NA</td><td>Buckingham</td><td>49</td><td>female</td><td>63</td><td>128</td><td>small </td></tr>\n",
              "\t<tr><th scope=row>244</th><td>S20261</td><td>4.31</td><td>Buckingham</td><td>29</td><td>female</td><td>62</td><td> 99</td><td>small </td></tr>\n",
              "\t<tr><th scope=row>290</th><td>S21254</td><td>8.06</td><td>Buckingham</td><td>31</td><td>female</td><td>62</td><td>237</td><td>large </td></tr>\n",
              "\t<tr><th scope=row>292</th><td>S21281</td><td>3.80</td><td>Buckingham</td><td>28</td><td>female</td><td>67</td><td>180</td><td>small </td></tr>\n",
              "</tbody>\n",
              "</table>\n"
            ],
            "text/markdown": "\nA data.frame: 89 × 8\n\n| <!--/--> | subject &lt;chr&gt; | glyhb &lt;dbl&gt; | location &lt;chr&gt; | age &lt;int&gt; | gender &lt;chr&gt; | height &lt;int&gt; | weight &lt;int&gt; | frame &lt;chr&gt; |\n|---|---|---|---|---|---|---|---|---|\n| 1 | S1002 |  4.64 | Buckingham | 58 | female | 61 | 256 | large  |\n| 8 | S1022 |  5.78 | Buckingham | 55 | female | 63 | 202 | small  |\n| 15 | S1250 | 11.24 | Buckingham | 62 | female | 65 | 196 | large  |\n| 18 | S1277 |  4.18 | Buckingham | 41 | female | 72 | 118 | small  |\n| 20 | S1282 |  4.52 | Buckingham | 43 | female | 62 | 145 | medium |\n| 22 | S1301 |  5.11 | Buckingham | 42 | female | 65 | 174 | medium |\n| 25 | S1305 |  5.66 | Buckingham | 61 | female | 69 | 174 | medium |\n| 27 | S1312 |  4.03 | Buckingham | 47 | female | 66 | 186 | medium |\n| 32 | S1321 |  3.89 | Buckingham | 52 | female | 62 | 170 | medium |\n| 34 | S1500 |  5.96 | Buckingham | 72 | female | 59 | 137 | large  |\n| 35 | S1502 |  6.14 | Buckingham | 54 | female | 67 | 165 | medium |\n| 37 | S2753 |  5.57 | Buckingham | 55 | female | 66 | 219 | medium |\n| 39 | S2756 |  5.35 | Buckingham | 43 | female | 64 | 181 | medium |\n| 40 | S2757 |  6.33 | Buckingham | 65 | female | 61 | 187 | large  |\n| 41 | S2758 |  4.56 | Buckingham | 45 | female | 64 | 167 | large  |\n| 42 | S2762 |  9.39 | Buckingham | 70 | female | 60 | 220 | medium |\n| 45 | S2770 |  4.98 | Buckingham | 92 | female | 62 | 217 | large  |\n| 46 | S2773 | 13.70 | Buckingham | 49 | female | 62 | 189 | large  |\n| 47 | S2774 |    NA | Buckingham | 44 | female | 66 | 191 | large  |\n| 48 | S2775 | 10.93 | Buckingham | 74 | female | 63 | 183 | large  |\n| 49 | S2778 | 14.31 | Buckingham | 51 | female | 70 | 235 | medium |\n| 50 | S2780 |  3.99 | Buckingham | 38 | female | NA | 125 | NA     |\n| 52 | S2785 |  4.27 | Buckingham | 28 | female | 64 | 126 | small  |\n| 54 | S2791 | 11.41 | Buckingham | 71 | female | 63 | 165 | medium |\n| 55 | S2793 |  4.44 | Buckingham | 76 | female | 61 | 102 | medium |\n| 56 | S2794 |  8.40 | Buckingham | 91 | female | 61 | 127 | NA     |\n| 60 | S3751 |  5.20 | Buckingham | 40 | female | 68 | 264 | medium |\n| 62 | S4000 |  7.44 | Buckingham | 76 | female | 60 | 143 | large  |\n| 63 | S4500 |  5.47 | Buckingham | 46 | female | 62 | 183 | medium |\n| 66 | S4515 |  6.96 | Buckingham | 58 | female | 63 | 154 | large  |\n| ⋮ | ⋮ | ⋮ | ⋮ | ⋮ | ⋮ | ⋮ | ⋮ | ⋮ |\n| 190 | S15812 | 3.55 | Buckingham | 40 | female | 62 | 105 | small  |\n| 192 | S15814 | 4.44 | Buckingham | 68 | female | 63 | 124 | medium |\n| 193 | S15815 | 4.92 | Buckingham | 82 | female | 63 | 170 | medium |\n| 194 | S15816 | 4.59 | Buckingham | 60 | female | 62 | 134 | small  |\n| 195 | S15818 | 4.73 | Buckingham | 30 | female | 65 | 165 | small  |\n| 197 | S15827 | 4.87 | Buckingham | 72 | female | 61 | 180 | NA     |\n| 199 | S16000 | 5.13 | Buckingham | 50 | female | 61 | 147 | large  |\n| 200 | S16001 | 4.64 | Buckingham | 51 | female | 66 | 110 | small  |\n| 202 | S16004 | 5.36 | Buckingham | 38 | female | 63 | 181 | medium |\n| 204 | S16016 | 5.38 | Buckingham | 44 | female | NA | 190 | large  |\n| 211 | S17760 | 4.78 | Buckingham | 69 | female | 59 | 179 | large  |\n| 213 | S17765 | 3.97 | Buckingham | 70 | female | 66 | 200 | medium |\n| 215 | S17767 | 6.48 | Buckingham | 42 | female | 62 | 141 | large  |\n| 217 | S17772 | 4.85 | Buckingham | 31 | female | 67 | 160 | medium |\n| 218 | S17773 | 4.61 | Buckingham | 31 | female | 65 | 120 | small  |\n| 219 | S17776 | 4.10 | Buckingham | 27 | female | 65 | 145 | small  |\n| 220 | S17781 | 7.51 | Buckingham | 73 | female | 64 | 174 | large  |\n| 222 | S17791 | 3.75 | Buckingham | 71 | female | 63 | 155 | small  |\n| 223 | S17794 | 5.04 | Buckingham | 27 | female | 63 | 179 | medium |\n| 226 | S17802 | 4.37 | Buckingham | 31 | female | 66 | 190 | medium |\n| 227 | S17805 | 7.48 | Buckingham | 62 | female | 63 | 290 | large  |\n| 229 | S17813 | 4.74 | Buckingham | 36 | female | 66 | 255 | large  |\n| 235 | S17829 | 5.03 | Buckingham | 59 | female | 63 | 176 | large  |\n| 236 | S17830 | 4.41 | Buckingham | 37 | female | 64 | 145 | medium |\n| 238 | S17841 | 4.07 | Buckingham | 38 | female | 69 | 167 | medium |\n| 241 | S20254 | 3.96 | Buckingham | 29 | female | 65 | 123 | small  |\n| 242 | S20258 |   NA | Buckingham | 49 | female | 63 | 128 | small  |\n| 244 | S20261 | 4.31 | Buckingham | 29 | female | 62 |  99 | small  |\n| 290 | S21254 | 8.06 | Buckingham | 31 | female | 62 | 237 | large  |\n| 292 | S21281 | 3.80 | Buckingham | 28 | female | 67 | 180 | small  |\n\n",
            "text/latex": "A data.frame: 89 × 8\n\\begin{tabular}{r|llllllll}\n  & subject & glyhb & location & age & gender & height & weight & frame\\\\\n  & <chr> & <dbl> & <chr> & <int> & <chr> & <int> & <int> & <chr>\\\\\n\\hline\n\t1 & S1002 &  4.64 & Buckingham & 58 & female & 61 & 256 & large \\\\\n\t8 & S1022 &  5.78 & Buckingham & 55 & female & 63 & 202 & small \\\\\n\t15 & S1250 & 11.24 & Buckingham & 62 & female & 65 & 196 & large \\\\\n\t18 & S1277 &  4.18 & Buckingham & 41 & female & 72 & 118 & small \\\\\n\t20 & S1282 &  4.52 & Buckingham & 43 & female & 62 & 145 & medium\\\\\n\t22 & S1301 &  5.11 & Buckingham & 42 & female & 65 & 174 & medium\\\\\n\t25 & S1305 &  5.66 & Buckingham & 61 & female & 69 & 174 & medium\\\\\n\t27 & S1312 &  4.03 & Buckingham & 47 & female & 66 & 186 & medium\\\\\n\t32 & S1321 &  3.89 & Buckingham & 52 & female & 62 & 170 & medium\\\\\n\t34 & S1500 &  5.96 & Buckingham & 72 & female & 59 & 137 & large \\\\\n\t35 & S1502 &  6.14 & Buckingham & 54 & female & 67 & 165 & medium\\\\\n\t37 & S2753 &  5.57 & Buckingham & 55 & female & 66 & 219 & medium\\\\\n\t39 & S2756 &  5.35 & Buckingham & 43 & female & 64 & 181 & medium\\\\\n\t40 & S2757 &  6.33 & Buckingham & 65 & female & 61 & 187 & large \\\\\n\t41 & S2758 &  4.56 & Buckingham & 45 & female & 64 & 167 & large \\\\\n\t42 & S2762 &  9.39 & Buckingham & 70 & female & 60 & 220 & medium\\\\\n\t45 & S2770 &  4.98 & Buckingham & 92 & female & 62 & 217 & large \\\\\n\t46 & S2773 & 13.70 & Buckingham & 49 & female & 62 & 189 & large \\\\\n\t47 & S2774 &    NA & Buckingham & 44 & female & 66 & 191 & large \\\\\n\t48 & S2775 & 10.93 & Buckingham & 74 & female & 63 & 183 & large \\\\\n\t49 & S2778 & 14.31 & Buckingham & 51 & female & 70 & 235 & medium\\\\\n\t50 & S2780 &  3.99 & Buckingham & 38 & female & NA & 125 & NA    \\\\\n\t52 & S2785 &  4.27 & Buckingham & 28 & female & 64 & 126 & small \\\\\n\t54 & S2791 & 11.41 & Buckingham & 71 & female & 63 & 165 & medium\\\\\n\t55 & S2793 &  4.44 & Buckingham & 76 & female & 61 & 102 & medium\\\\\n\t56 & S2794 &  8.40 & Buckingham & 91 & female & 61 & 127 & NA    \\\\\n\t60 & S3751 &  5.20 & Buckingham & 40 & female & 68 & 264 & medium\\\\\n\t62 & S4000 &  7.44 & Buckingham & 76 & female & 60 & 143 & large \\\\\n\t63 & S4500 &  5.47 & Buckingham & 46 & female & 62 & 183 & medium\\\\\n\t66 & S4515 &  6.96 & Buckingham & 58 & female & 63 & 154 & large \\\\\n\t⋮ & ⋮ & ⋮ & ⋮ & ⋮ & ⋮ & ⋮ & ⋮ & ⋮\\\\\n\t190 & S15812 & 3.55 & Buckingham & 40 & female & 62 & 105 & small \\\\\n\t192 & S15814 & 4.44 & Buckingham & 68 & female & 63 & 124 & medium\\\\\n\t193 & S15815 & 4.92 & Buckingham & 82 & female & 63 & 170 & medium\\\\\n\t194 & S15816 & 4.59 & Buckingham & 60 & female & 62 & 134 & small \\\\\n\t195 & S15818 & 4.73 & Buckingham & 30 & female & 65 & 165 & small \\\\\n\t197 & S15827 & 4.87 & Buckingham & 72 & female & 61 & 180 & NA    \\\\\n\t199 & S16000 & 5.13 & Buckingham & 50 & female & 61 & 147 & large \\\\\n\t200 & S16001 & 4.64 & Buckingham & 51 & female & 66 & 110 & small \\\\\n\t202 & S16004 & 5.36 & Buckingham & 38 & female & 63 & 181 & medium\\\\\n\t204 & S16016 & 5.38 & Buckingham & 44 & female & NA & 190 & large \\\\\n\t211 & S17760 & 4.78 & Buckingham & 69 & female & 59 & 179 & large \\\\\n\t213 & S17765 & 3.97 & Buckingham & 70 & female & 66 & 200 & medium\\\\\n\t215 & S17767 & 6.48 & Buckingham & 42 & female & 62 & 141 & large \\\\\n\t217 & S17772 & 4.85 & Buckingham & 31 & female & 67 & 160 & medium\\\\\n\t218 & S17773 & 4.61 & Buckingham & 31 & female & 65 & 120 & small \\\\\n\t219 & S17776 & 4.10 & Buckingham & 27 & female & 65 & 145 & small \\\\\n\t220 & S17781 & 7.51 & Buckingham & 73 & female & 64 & 174 & large \\\\\n\t222 & S17791 & 3.75 & Buckingham & 71 & female & 63 & 155 & small \\\\\n\t223 & S17794 & 5.04 & Buckingham & 27 & female & 63 & 179 & medium\\\\\n\t226 & S17802 & 4.37 & Buckingham & 31 & female & 66 & 190 & medium\\\\\n\t227 & S17805 & 7.48 & Buckingham & 62 & female & 63 & 290 & large \\\\\n\t229 & S17813 & 4.74 & Buckingham & 36 & female & 66 & 255 & large \\\\\n\t235 & S17829 & 5.03 & Buckingham & 59 & female & 63 & 176 & large \\\\\n\t236 & S17830 & 4.41 & Buckingham & 37 & female & 64 & 145 & medium\\\\\n\t238 & S17841 & 4.07 & Buckingham & 38 & female & 69 & 167 & medium\\\\\n\t241 & S20254 & 3.96 & Buckingham & 29 & female & 65 & 123 & small \\\\\n\t242 & S20258 &   NA & Buckingham & 49 & female & 63 & 128 & small \\\\\n\t244 & S20261 & 4.31 & Buckingham & 29 & female & 62 &  99 & small \\\\\n\t290 & S21254 & 8.06 & Buckingham & 31 & female & 62 & 237 & large \\\\\n\t292 & S21281 & 3.80 & Buckingham & 28 & female & 67 & 180 & small \\\\\n\\end{tabular}\n",
            "text/plain": [
              "    subject glyhb location   age gender height weight frame \n",
              "1   S1002    4.64 Buckingham 58  female 61     256    large \n",
              "8   S1022    5.78 Buckingham 55  female 63     202    small \n",
              "15  S1250   11.24 Buckingham 62  female 65     196    large \n",
              "18  S1277    4.18 Buckingham 41  female 72     118    small \n",
              "20  S1282    4.52 Buckingham 43  female 62     145    medium\n",
              "22  S1301    5.11 Buckingham 42  female 65     174    medium\n",
              "25  S1305    5.66 Buckingham 61  female 69     174    medium\n",
              "27  S1312    4.03 Buckingham 47  female 66     186    medium\n",
              "32  S1321    3.89 Buckingham 52  female 62     170    medium\n",
              "34  S1500    5.96 Buckingham 72  female 59     137    large \n",
              "35  S1502    6.14 Buckingham 54  female 67     165    medium\n",
              "37  S2753    5.57 Buckingham 55  female 66     219    medium\n",
              "39  S2756    5.35 Buckingham 43  female 64     181    medium\n",
              "40  S2757    6.33 Buckingham 65  female 61     187    large \n",
              "41  S2758    4.56 Buckingham 45  female 64     167    large \n",
              "42  S2762    9.39 Buckingham 70  female 60     220    medium\n",
              "45  S2770    4.98 Buckingham 92  female 62     217    large \n",
              "46  S2773   13.70 Buckingham 49  female 62     189    large \n",
              "47  S2774      NA Buckingham 44  female 66     191    large \n",
              "48  S2775   10.93 Buckingham 74  female 63     183    large \n",
              "49  S2778   14.31 Buckingham 51  female 70     235    medium\n",
              "50  S2780    3.99 Buckingham 38  female NA     125    NA    \n",
              "52  S2785    4.27 Buckingham 28  female 64     126    small \n",
              "54  S2791   11.41 Buckingham 71  female 63     165    medium\n",
              "55  S2793    4.44 Buckingham 76  female 61     102    medium\n",
              "56  S2794    8.40 Buckingham 91  female 61     127    NA    \n",
              "60  S3751    5.20 Buckingham 40  female 68     264    medium\n",
              "62  S4000    7.44 Buckingham 76  female 60     143    large \n",
              "63  S4500    5.47 Buckingham 46  female 62     183    medium\n",
              "66  S4515    6.96 Buckingham 58  female 63     154    large \n",
              "⋮   ⋮       ⋮     ⋮          ⋮   ⋮      ⋮      ⋮      ⋮     \n",
              "190 S15812  3.55  Buckingham 40  female 62     105    small \n",
              "192 S15814  4.44  Buckingham 68  female 63     124    medium\n",
              "193 S15815  4.92  Buckingham 82  female 63     170    medium\n",
              "194 S15816  4.59  Buckingham 60  female 62     134    small \n",
              "195 S15818  4.73  Buckingham 30  female 65     165    small \n",
              "197 S15827  4.87  Buckingham 72  female 61     180    NA    \n",
              "199 S16000  5.13  Buckingham 50  female 61     147    large \n",
              "200 S16001  4.64  Buckingham 51  female 66     110    small \n",
              "202 S16004  5.36  Buckingham 38  female 63     181    medium\n",
              "204 S16016  5.38  Buckingham 44  female NA     190    large \n",
              "211 S17760  4.78  Buckingham 69  female 59     179    large \n",
              "213 S17765  3.97  Buckingham 70  female 66     200    medium\n",
              "215 S17767  6.48  Buckingham 42  female 62     141    large \n",
              "217 S17772  4.85  Buckingham 31  female 67     160    medium\n",
              "218 S17773  4.61  Buckingham 31  female 65     120    small \n",
              "219 S17776  4.10  Buckingham 27  female 65     145    small \n",
              "220 S17781  7.51  Buckingham 73  female 64     174    large \n",
              "222 S17791  3.75  Buckingham 71  female 63     155    small \n",
              "223 S17794  5.04  Buckingham 27  female 63     179    medium\n",
              "226 S17802  4.37  Buckingham 31  female 66     190    medium\n",
              "227 S17805  7.48  Buckingham 62  female 63     290    large \n",
              "229 S17813  4.74  Buckingham 36  female 66     255    large \n",
              "235 S17829  5.03  Buckingham 59  female 63     176    large \n",
              "236 S17830  4.41  Buckingham 37  female 64     145    medium\n",
              "238 S17841  4.07  Buckingham 38  female 69     167    medium\n",
              "241 S20254  3.96  Buckingham 29  female 65     123    small \n",
              "242 S20258    NA  Buckingham 49  female 63     128    small \n",
              "244 S20261  4.31  Buckingham 29  female 62      99    small \n",
              "290 S21254  8.06  Buckingham 31  female 62     237    large \n",
              "292 S21281  3.80  Buckingham 28  female 67     180    small "
            ]
          },
          "metadata": {}
        }
      ]
    },
    {
      "cell_type": "code",
      "source": [
        "dim(diabetes[fem_buck_over_25, ])"
      ],
      "metadata": {
        "colab": {
          "base_uri": "https://localhost:8080/",
          "height": 34
        },
        "id": "Drj1GmQRYwKg",
        "outputId": "51d9a2e2-4e93-4d64-b69e-8cdd22ca4df5"
      },
      "execution_count": null,
      "outputs": [
        {
          "output_type": "display_data",
          "data": {
            "text/html": [
              "<style>\n",
              ".list-inline {list-style: none; margin:0; padding: 0}\n",
              ".list-inline>li {display: inline-block}\n",
              ".list-inline>li:not(:last-child)::after {content: \"\\00b7\"; padding: 0 .5ex}\n",
              "</style>\n",
              "<ol class=list-inline><li>89</li><li>8</li></ol>\n"
            ],
            "text/markdown": "1. 89\n2. 8\n\n\n",
            "text/latex": "\\begin{enumerate*}\n\\item 89\n\\item 8\n\\end{enumerate*}\n",
            "text/plain": [
              "[1] 89  8"
            ]
          },
          "metadata": {}
        }
      ]
    },
    {
      "cell_type": "code",
      "source": [
        "summary(diabetes)"
      ],
      "metadata": {
        "colab": {
          "base_uri": "https://localhost:8080/",
          "height": 302
        },
        "id": "FsbWnINTY1Rh",
        "outputId": "6a726ff1-93e1-4746-d5dd-df77312829af"
      },
      "execution_count": null,
      "outputs": [
        {
          "output_type": "display_data",
          "data": {
            "text/plain": [
              "   subject              glyhb          location              age       \n",
              " Length:354         Min.   : 2.680   Length:354         Min.   :19.00  \n",
              " Class :character   1st Qu.: 4.385   Class :character   1st Qu.:35.00  \n",
              " Mode  :character   Median : 4.840   Mode  :character   Median :45.00  \n",
              "                    Mean   : 5.580                      Mean   :46.91  \n",
              "                    3rd Qu.: 5.565                      3rd Qu.:60.00  \n",
              "                    Max.   :16.110                      Max.   :92.00  \n",
              "                    NA's   :11                                         \n",
              "    gender              height          weight         frame          \n",
              " Length:354         Min.   :52.00   Min.   : 99.0   Length:354        \n",
              " Class :character   1st Qu.:63.00   1st Qu.:150.0   Class :character  \n",
              " Mode  :character   Median :66.00   Median :171.0   Mode  :character  \n",
              "                    Mean   :65.93   Mean   :176.2                     \n",
              "                    3rd Qu.:69.00   3rd Qu.:198.0                     \n",
              "                    Max.   :76.00   Max.   :325.0                     \n",
              "                    NA's   :5       NA's   :1                         "
            ]
          },
          "metadata": {}
        }
      ]
    },
    {
      "cell_type": "code",
      "source": [
        "mean(diabetes$glyhb)"
      ],
      "metadata": {
        "colab": {
          "base_uri": "https://localhost:8080/",
          "height": 34
        },
        "id": "qx1txLKRY6vu",
        "outputId": "850c8694-e896-489f-e4bd-2615ece838ce"
      },
      "execution_count": null,
      "outputs": [
        {
          "output_type": "display_data",
          "data": {
            "text/html": [
              "&lt;NA&gt;"
            ],
            "text/markdown": "&lt;NA&gt;",
            "text/latex": "<NA>",
            "text/plain": [
              "[1] NA"
            ]
          },
          "metadata": {}
        }
      ]
    },
    {
      "cell_type": "code",
      "source": [
        "mean(diabetes$glyhb, na.rm = TRUE)"
      ],
      "metadata": {
        "colab": {
          "base_uri": "https://localhost:8080/",
          "height": 34
        },
        "id": "FhpqY567ZJK3",
        "outputId": "bb8b551f-7423-400a-ad59-32d3a036c817"
      },
      "execution_count": null,
      "outputs": [
        {
          "output_type": "display_data",
          "data": {
            "text/html": [
              "5.58029155507289"
            ],
            "text/markdown": "5.58029155507289",
            "text/latex": "5.58029155507289",
            "text/plain": [
              "[1] 5.580292"
            ]
          },
          "metadata": {}
        }
      ]
    },
    {
      "cell_type": "code",
      "source": [
        "diabetes2 <- diabetes"
      ],
      "metadata": {
        "id": "-AUJLVD7ZXaN"
      },
      "execution_count": null,
      "outputs": []
    },
    {
      "cell_type": "code",
      "source": [
        "summary(diabetes2)"
      ],
      "metadata": {
        "colab": {
          "base_uri": "https://localhost:8080/",
          "height": 302
        },
        "id": "EOvsgZzlZgds",
        "outputId": "065f321d-d4e8-4bb1-889c-6d14261f8869"
      },
      "execution_count": null,
      "outputs": [
        {
          "output_type": "display_data",
          "data": {
            "text/plain": [
              "   subject              glyhb          location              age       \n",
              " Length:354         Min.   : 2.680   Length:354         Min.   :19.00  \n",
              " Class :character   1st Qu.: 4.385   Class :character   1st Qu.:35.00  \n",
              " Mode  :character   Median : 4.840   Mode  :character   Median :45.00  \n",
              "                    Mean   : 5.580                      Mean   :46.91  \n",
              "                    3rd Qu.: 5.565                      3rd Qu.:60.00  \n",
              "                    Max.   :16.110                      Max.   :92.00  \n",
              "                    NA's   :11                                         \n",
              "    gender              height          weight         frame          \n",
              " Length:354         Min.   :52.00   Min.   : 99.0   Length:354        \n",
              " Class :character   1st Qu.:63.00   1st Qu.:150.0   Class :character  \n",
              " Mode  :character   Median :66.00   Median :171.0   Mode  :character  \n",
              "                    Mean   :65.93   Mean   :176.2                     \n",
              "                    3rd Qu.:69.00   3rd Qu.:198.0                     \n",
              "                    Max.   :76.00   Max.   :325.0                     \n",
              "                    NA's   :5       NA's   :1                         "
            ]
          },
          "metadata": {}
        }
      ]
    },
    {
      "cell_type": "code",
      "source": [
        "diabetes2 <- na.omit(diabetes)"
      ],
      "metadata": {
        "id": "FUls-gQFZhqV"
      },
      "execution_count": null,
      "outputs": []
    },
    {
      "cell_type": "code",
      "source": [
        "summary(diabetes2)"
      ],
      "metadata": {
        "colab": {
          "base_uri": "https://localhost:8080/",
          "height": 266
        },
        "id": "IQpj1jFXZkuk",
        "outputId": "2361de5d-2fad-4819-83dd-842a43aff9ce"
      },
      "execution_count": null,
      "outputs": [
        {
          "output_type": "display_data",
          "data": {
            "text/plain": [
              "   subject              glyhb          location              age      \n",
              " Length:327         Min.   : 2.680   Length:327         Min.   :19.0  \n",
              " Class :character   1st Qu.: 4.385   Class :character   1st Qu.:34.5  \n",
              " Mode  :character   Median : 4.840   Mode  :character   Median :45.0  \n",
              "                    Mean   : 5.560                      Mean   :46.6  \n",
              "                    3rd Qu.: 5.560                      3rd Qu.:60.0  \n",
              "                    Max.   :16.110                      Max.   :92.0  \n",
              "    gender              height          weight         frame          \n",
              " Length:327         Min.   :52.00   Min.   : 99.0   Length:327        \n",
              " Class :character   1st Qu.:63.00   1st Qu.:149.0   Class :character  \n",
              " Mode  :character   Median :66.00   Median :172.0   Mode  :character  \n",
              "                    Mean   :65.95   Mean   :176.3                     \n",
              "                    3rd Qu.:69.00   3rd Qu.:198.0                     \n",
              "                    Max.   :76.00   Max.   :325.0                     "
            ]
          },
          "metadata": {}
        }
      ]
    },
    {
      "cell_type": "markdown",
      "source": [
        "¿Usando un vector lógico filtar los valores que no son ausentes (NA) en la variable glyhb y calcular la media en la variable glyhb?"
      ],
      "metadata": {
        "id": "4saGaIp_Z761"
      }
    },
    {
      "cell_type": "code",
      "source": [
        "not_missing_glyhb <- !is.na(diabetes$glyhb)"
      ],
      "metadata": {
        "id": "SCimbnKYaeEI"
      },
      "execution_count": null,
      "outputs": []
    },
    {
      "cell_type": "code",
      "source": [
        "mean(diabetes$glyhb[not_missing_glyhb])"
      ],
      "metadata": {
        "colab": {
          "base_uri": "https://localhost:8080/",
          "height": 34
        },
        "id": "5WGDede1am8m",
        "outputId": "4d598385-f540-44ad-f41e-9b499733507f"
      },
      "execution_count": null,
      "outputs": [
        {
          "output_type": "display_data",
          "data": {
            "text/html": [
              "5.58029155507289"
            ],
            "text/markdown": "5.58029155507289",
            "text/latex": "5.58029155507289",
            "text/plain": [
              "[1] 5.580292"
            ]
          },
          "metadata": {}
        }
      ]
    },
    {
      "cell_type": "code",
      "source": [
        "which(not_missing_glyhb)"
      ],
      "metadata": {
        "colab": {
          "base_uri": "https://localhost:8080/",
          "height": 208
        },
        "id": "3aeSJr8OaqS9",
        "outputId": "a6021d85-14eb-49f3-d9e9-b26d68b0afe2"
      },
      "execution_count": null,
      "outputs": [
        {
          "output_type": "display_data",
          "data": {
            "text/html": [
              "<style>\n",
              ".list-inline {list-style: none; margin:0; padding: 0}\n",
              ".list-inline>li {display: inline-block}\n",
              ".list-inline>li:not(:last-child)::after {content: \"\\00b7\"; padding: 0 .5ex}\n",
              "</style>\n",
              "<ol class=list-inline><li>1</li><li>2</li><li>3</li><li>4</li><li>5</li><li>6</li><li>7</li><li>8</li><li>9</li><li>10</li><li>11</li><li>12</li><li>13</li><li>14</li><li>15</li><li>16</li><li>17</li><li>18</li><li>19</li><li>20</li><li>21</li><li>22</li><li>23</li><li>24</li><li>25</li><li>26</li><li>27</li><li>28</li><li>29</li><li>30</li><li>31</li><li>32</li><li>33</li><li>34</li><li>35</li><li>36</li><li>37</li><li>38</li><li>39</li><li>40</li><li>41</li><li>42</li><li>43</li><li>44</li><li>45</li><li>46</li><li>48</li><li>49</li><li>50</li><li>52</li><li>53</li><li>54</li><li>55</li><li>56</li><li>57</li><li>58</li><li>59</li><li>60</li><li>61</li><li>62</li><li>63</li><li>64</li><li>65</li><li>66</li><li>67</li><li>68</li><li>69</li><li>70</li><li>71</li><li>72</li><li>73</li><li>74</li><li>75</li><li>76</li><li>77</li><li>78</li><li>79</li><li>80</li><li>81</li><li>82</li><li>83</li><li>84</li><li>85</li><li>86</li><li>87</li><li>88</li><li>89</li><li>90</li><li>91</li><li>93</li><li>94</li><li>95</li><li>96</li><li>97</li><li>98</li><li>101</li><li>102</li><li>103</li><li>104</li><li>105</li><li>106</li><li>107</li><li>108</li><li>109</li><li>110</li><li>111</li><li>112</li><li>113</li><li>114</li><li>115</li><li>116</li><li>117</li><li>118</li><li>119</li><li>120</li><li>121</li><li>122</li><li>123</li><li>124</li><li>125</li><li>126</li><li>127</li><li>128</li><li>129</li><li>130</li><li>131</li><li>132</li><li>133</li><li>134</li><li>135</li><li>136</li><li>137</li><li>138</li><li>139</li><li>140</li><li>141</li><li>142</li><li>143</li><li>144</li><li>145</li><li>146</li><li>147</li><li>148</li><li>149</li><li>150</li><li>151</li><li>152</li><li>153</li><li>154</li><li>155</li><li>156</li><li>157</li><li>158</li><li>159</li><li>160</li><li>161</li><li>162</li><li>163</li><li>164</li><li>165</li><li>166</li><li>168</li><li>169</li><li>170</li><li>171</li><li>172</li><li>173</li><li>174</li><li>175</li><li>176</li><li>177</li><li>178</li><li>179</li><li>180</li><li>181</li><li>182</li><li>183</li><li>184</li><li>185</li><li>186</li><li>187</li><li>188</li><li>189</li><li>190</li><li>192</li><li>193</li><li>194</li><li>195</li><li>196</li><li>197</li><li>198</li><li>199</li><li>200</li><li>201</li><li>202</li><li>203</li><li>204</li><li>205</li><li>206</li><li>207</li><li>208</li><li>209</li><li>210</li><li>211</li><li>212</li><li>213</li><li>214</li><li>215</li><li>216</li><li>217</li><li>218</li><li>219</li><li>220</li><li>221</li><li>222</li><li>223</li><li>224</li><li>225</li><li>226</li><li>227</li><li>228</li><li>229</li><li>230</li><li>231</li><li>232</li><li>233</li><li>234</li><li>235</li><li>236</li><li>237</li><li>238</li><li>239</li><li>240</li><li>241</li><li>243</li><li>244</li><li>245</li><li>246</li><li>247</li><li>248</li><li>249</li><li>250</li><li>251</li><li>252</li><li>253</li><li>254</li><li>255</li><li>256</li><li>257</li><li>258</li><li>259</li><li>260</li><li>261</li><li>262</li><li>263</li><li>264</li><li>265</li><li>266</li><li>267</li><li>268</li><li>269</li><li>270</li><li>271</li><li>272</li><li>273</li><li>274</li><li>275</li><li>276</li><li>277</li><li>278</li><li>279</li><li>280</li><li>281</li><li>282</li><li>283</li><li>284</li><li>285</li><li>286</li><li>287</li><li>290</li><li>291</li><li>292</li><li>293</li><li>294</li><li>295</li><li>296</li><li>297</li><li>298</li><li>299</li><li>300</li><li>301</li><li>302</li><li>303</li><li>304</li><li>305</li><li>306</li><li>307</li><li>308</li><li>309</li><li>310</li><li>311</li><li>312</li><li>313</li><li>314</li><li>315</li><li>316</li><li>317</li><li>318</li><li>319</li><li>320</li><li>321</li><li>322</li><li>323</li><li>324</li><li>325</li><li>326</li><li>327</li><li>328</li><li>329</li><li>330</li><li>331</li><li>332</li><li>333</li><li>334</li><li>335</li><li>336</li><li>337</li><li>338</li><li>339</li><li>340</li><li>341</li><li>342</li><li>343</li><li>344</li><li>345</li><li>346</li><li>347</li><li>348</li><li>349</li><li>350</li><li>351</li><li>352</li><li>353</li></ol>\n"
            ],
            "text/markdown": "1. 1\n2. 2\n3. 3\n4. 4\n5. 5\n6. 6\n7. 7\n8. 8\n9. 9\n10. 10\n11. 11\n12. 12\n13. 13\n14. 14\n15. 15\n16. 16\n17. 17\n18. 18\n19. 19\n20. 20\n21. 21\n22. 22\n23. 23\n24. 24\n25. 25\n26. 26\n27. 27\n28. 28\n29. 29\n30. 30\n31. 31\n32. 32\n33. 33\n34. 34\n35. 35\n36. 36\n37. 37\n38. 38\n39. 39\n40. 40\n41. 41\n42. 42\n43. 43\n44. 44\n45. 45\n46. 46\n47. 48\n48. 49\n49. 50\n50. 52\n51. 53\n52. 54\n53. 55\n54. 56\n55. 57\n56. 58\n57. 59\n58. 60\n59. 61\n60. 62\n61. 63\n62. 64\n63. 65\n64. 66\n65. 67\n66. 68\n67. 69\n68. 70\n69. 71\n70. 72\n71. 73\n72. 74\n73. 75\n74. 76\n75. 77\n76. 78\n77. 79\n78. 80\n79. 81\n80. 82\n81. 83\n82. 84\n83. 85\n84. 86\n85. 87\n86. 88\n87. 89\n88. 90\n89. 91\n90. 93\n91. 94\n92. 95\n93. 96\n94. 97\n95. 98\n96. 101\n97. 102\n98. 103\n99. 104\n100. 105\n101. 106\n102. 107\n103. 108\n104. 109\n105. 110\n106. 111\n107. 112\n108. 113\n109. 114\n110. 115\n111. 116\n112. 117\n113. 118\n114. 119\n115. 120\n116. 121\n117. 122\n118. 123\n119. 124\n120. 125\n121. 126\n122. 127\n123. 128\n124. 129\n125. 130\n126. 131\n127. 132\n128. 133\n129. 134\n130. 135\n131. 136\n132. 137\n133. 138\n134. 139\n135. 140\n136. 141\n137. 142\n138. 143\n139. 144\n140. 145\n141. 146\n142. 147\n143. 148\n144. 149\n145. 150\n146. 151\n147. 152\n148. 153\n149. 154\n150. 155\n151. 156\n152. 157\n153. 158\n154. 159\n155. 160\n156. 161\n157. 162\n158. 163\n159. 164\n160. 165\n161. 166\n162. 168\n163. 169\n164. 170\n165. 171\n166. 172\n167. 173\n168. 174\n169. 175\n170. 176\n171. 177\n172. 178\n173. 179\n174. 180\n175. 181\n176. 182\n177. 183\n178. 184\n179. 185\n180. 186\n181. 187\n182. 188\n183. 189\n184. 190\n185. 192\n186. 193\n187. 194\n188. 195\n189. 196\n190. 197\n191. 198\n192. 199\n193. 200\n194. 201\n195. 202\n196. 203\n197. 204\n198. 205\n199. 206\n200. 207\n201. 208\n202. 209\n203. 210\n204. 211\n205. 212\n206. 213\n207. 214\n208. 215\n209. 216\n210. 217\n211. 218\n212. 219\n213. 220\n214. 221\n215. 222\n216. 223\n217. 224\n218. 225\n219. 226\n220. 227\n221. 228\n222. 229\n223. 230\n224. 231\n225. 232\n226. 233\n227. 234\n228. 235\n229. 236\n230. 237\n231. 238\n232. 239\n233. 240\n234. 241\n235. 243\n236. 244\n237. 245\n238. 246\n239. 247\n240. 248\n241. 249\n242. 250\n243. 251\n244. 252\n245. 253\n246. 254\n247. 255\n248. 256\n249. 257\n250. 258\n251. 259\n252. 260\n253. 261\n254. 262\n255. 263\n256. 264\n257. 265\n258. 266\n259. 267\n260. 268\n261. 269\n262. 270\n263. 271\n264. 272\n265. 273\n266. 274\n267. 275\n268. 276\n269. 277\n270. 278\n271. 279\n272. 280\n273. 281\n274. 282\n275. 283\n276. 284\n277. 285\n278. 286\n279. 287\n280. 290\n281. 291\n282. 292\n283. 293\n284. 294\n285. 295\n286. 296\n287. 297\n288. 298\n289. 299\n290. 300\n291. 301\n292. 302\n293. 303\n294. 304\n295. 305\n296. 306\n297. 307\n298. 308\n299. 309\n300. 310\n301. 311\n302. 312\n303. 313\n304. 314\n305. 315\n306. 316\n307. 317\n308. 318\n309. 319\n310. 320\n311. 321\n312. 322\n313. 323\n314. 324\n315. 325\n316. 326\n317. 327\n318. 328\n319. 329\n320. 330\n321. 331\n322. 332\n323. 333\n324. 334\n325. 335\n326. 336\n327. 337\n328. 338\n329. 339\n330. 340\n331. 341\n332. 342\n333. 343\n334. 344\n335. 345\n336. 346\n337. 347\n338. 348\n339. 349\n340. 350\n341. 351\n342. 352\n343. 353\n\n\n",
            "text/latex": "\\begin{enumerate*}\n\\item 1\n\\item 2\n\\item 3\n\\item 4\n\\item 5\n\\item 6\n\\item 7\n\\item 8\n\\item 9\n\\item 10\n\\item 11\n\\item 12\n\\item 13\n\\item 14\n\\item 15\n\\item 16\n\\item 17\n\\item 18\n\\item 19\n\\item 20\n\\item 21\n\\item 22\n\\item 23\n\\item 24\n\\item 25\n\\item 26\n\\item 27\n\\item 28\n\\item 29\n\\item 30\n\\item 31\n\\item 32\n\\item 33\n\\item 34\n\\item 35\n\\item 36\n\\item 37\n\\item 38\n\\item 39\n\\item 40\n\\item 41\n\\item 42\n\\item 43\n\\item 44\n\\item 45\n\\item 46\n\\item 48\n\\item 49\n\\item 50\n\\item 52\n\\item 53\n\\item 54\n\\item 55\n\\item 56\n\\item 57\n\\item 58\n\\item 59\n\\item 60\n\\item 61\n\\item 62\n\\item 63\n\\item 64\n\\item 65\n\\item 66\n\\item 67\n\\item 68\n\\item 69\n\\item 70\n\\item 71\n\\item 72\n\\item 73\n\\item 74\n\\item 75\n\\item 76\n\\item 77\n\\item 78\n\\item 79\n\\item 80\n\\item 81\n\\item 82\n\\item 83\n\\item 84\n\\item 85\n\\item 86\n\\item 87\n\\item 88\n\\item 89\n\\item 90\n\\item 91\n\\item 93\n\\item 94\n\\item 95\n\\item 96\n\\item 97\n\\item 98\n\\item 101\n\\item 102\n\\item 103\n\\item 104\n\\item 105\n\\item 106\n\\item 107\n\\item 108\n\\item 109\n\\item 110\n\\item 111\n\\item 112\n\\item 113\n\\item 114\n\\item 115\n\\item 116\n\\item 117\n\\item 118\n\\item 119\n\\item 120\n\\item 121\n\\item 122\n\\item 123\n\\item 124\n\\item 125\n\\item 126\n\\item 127\n\\item 128\n\\item 129\n\\item 130\n\\item 131\n\\item 132\n\\item 133\n\\item 134\n\\item 135\n\\item 136\n\\item 137\n\\item 138\n\\item 139\n\\item 140\n\\item 141\n\\item 142\n\\item 143\n\\item 144\n\\item 145\n\\item 146\n\\item 147\n\\item 148\n\\item 149\n\\item 150\n\\item 151\n\\item 152\n\\item 153\n\\item 154\n\\item 155\n\\item 156\n\\item 157\n\\item 158\n\\item 159\n\\item 160\n\\item 161\n\\item 162\n\\item 163\n\\item 164\n\\item 165\n\\item 166\n\\item 168\n\\item 169\n\\item 170\n\\item 171\n\\item 172\n\\item 173\n\\item 174\n\\item 175\n\\item 176\n\\item 177\n\\item 178\n\\item 179\n\\item 180\n\\item 181\n\\item 182\n\\item 183\n\\item 184\n\\item 185\n\\item 186\n\\item 187\n\\item 188\n\\item 189\n\\item 190\n\\item 192\n\\item 193\n\\item 194\n\\item 195\n\\item 196\n\\item 197\n\\item 198\n\\item 199\n\\item 200\n\\item 201\n\\item 202\n\\item 203\n\\item 204\n\\item 205\n\\item 206\n\\item 207\n\\item 208\n\\item 209\n\\item 210\n\\item 211\n\\item 212\n\\item 213\n\\item 214\n\\item 215\n\\item 216\n\\item 217\n\\item 218\n\\item 219\n\\item 220\n\\item 221\n\\item 222\n\\item 223\n\\item 224\n\\item 225\n\\item 226\n\\item 227\n\\item 228\n\\item 229\n\\item 230\n\\item 231\n\\item 232\n\\item 233\n\\item 234\n\\item 235\n\\item 236\n\\item 237\n\\item 238\n\\item 239\n\\item 240\n\\item 241\n\\item 243\n\\item 244\n\\item 245\n\\item 246\n\\item 247\n\\item 248\n\\item 249\n\\item 250\n\\item 251\n\\item 252\n\\item 253\n\\item 254\n\\item 255\n\\item 256\n\\item 257\n\\item 258\n\\item 259\n\\item 260\n\\item 261\n\\item 262\n\\item 263\n\\item 264\n\\item 265\n\\item 266\n\\item 267\n\\item 268\n\\item 269\n\\item 270\n\\item 271\n\\item 272\n\\item 273\n\\item 274\n\\item 275\n\\item 276\n\\item 277\n\\item 278\n\\item 279\n\\item 280\n\\item 281\n\\item 282\n\\item 283\n\\item 284\n\\item 285\n\\item 286\n\\item 287\n\\item 290\n\\item 291\n\\item 292\n\\item 293\n\\item 294\n\\item 295\n\\item 296\n\\item 297\n\\item 298\n\\item 299\n\\item 300\n\\item 301\n\\item 302\n\\item 303\n\\item 304\n\\item 305\n\\item 306\n\\item 307\n\\item 308\n\\item 309\n\\item 310\n\\item 311\n\\item 312\n\\item 313\n\\item 314\n\\item 315\n\\item 316\n\\item 317\n\\item 318\n\\item 319\n\\item 320\n\\item 321\n\\item 322\n\\item 323\n\\item 324\n\\item 325\n\\item 326\n\\item 327\n\\item 328\n\\item 329\n\\item 330\n\\item 331\n\\item 332\n\\item 333\n\\item 334\n\\item 335\n\\item 336\n\\item 337\n\\item 338\n\\item 339\n\\item 340\n\\item 341\n\\item 342\n\\item 343\n\\item 344\n\\item 345\n\\item 346\n\\item 347\n\\item 348\n\\item 349\n\\item 350\n\\item 351\n\\item 352\n\\item 353\n\\end{enumerate*}\n",
            "text/plain": [
              "  [1]   1   2   3   4   5   6   7   8   9  10  11  12  13  14  15  16  17  18\n",
              " [19]  19  20  21  22  23  24  25  26  27  28  29  30  31  32  33  34  35  36\n",
              " [37]  37  38  39  40  41  42  43  44  45  46  48  49  50  52  53  54  55  56\n",
              " [55]  57  58  59  60  61  62  63  64  65  66  67  68  69  70  71  72  73  74\n",
              " [73]  75  76  77  78  79  80  81  82  83  84  85  86  87  88  89  90  91  93\n",
              " [91]  94  95  96  97  98 101 102 103 104 105 106 107 108 109 110 111 112 113\n",
              "[109] 114 115 116 117 118 119 120 121 122 123 124 125 126 127 128 129 130 131\n",
              "[127] 132 133 134 135 136 137 138 139 140 141 142 143 144 145 146 147 148 149\n",
              "[145] 150 151 152 153 154 155 156 157 158 159 160 161 162 163 164 165 166 168\n",
              "[163] 169 170 171 172 173 174 175 176 177 178 179 180 181 182 183 184 185 186\n",
              "[181] 187 188 189 190 192 193 194 195 196 197 198 199 200 201 202 203 204 205\n",
              "[199] 206 207 208 209 210 211 212 213 214 215 216 217 218 219 220 221 222 223\n",
              "[217] 224 225 226 227 228 229 230 231 232 233 234 235 236 237 238 239 240 241\n",
              "[235] 243 244 245 246 247 248 249 250 251 252 253 254 255 256 257 258 259 260\n",
              "[253] 261 262 263 264 265 266 267 268 269 270 271 272 273 274 275 276 277 278\n",
              "[271] 279 280 281 282 283 284 285 286 287 290 291 292 293 294 295 296 297 298\n",
              "[289] 299 300 301 302 303 304 305 306 307 308 309 310 311 312 313 314 315 316\n",
              "[307] 317 318 319 320 321 322 323 324 325 326 327 328 329 330 331 332 333 334\n",
              "[325] 335 336 337 338 339 340 341 342 343 344 345 346 347 348 349 350 351 352\n",
              "[343] 353"
            ]
          },
          "metadata": {}
        }
      ]
    },
    {
      "cell_type": "code",
      "source": [
        "which(!not_missing_glyhb)"
      ],
      "metadata": {
        "colab": {
          "base_uri": "https://localhost:8080/",
          "height": 34
        },
        "id": "pCGTvjnCbAUg",
        "outputId": "081efb08-a73e-4c00-c642-bc5ea03f297e"
      },
      "execution_count": null,
      "outputs": [
        {
          "output_type": "display_data",
          "data": {
            "text/html": [
              "<style>\n",
              ".list-inline {list-style: none; margin:0; padding: 0}\n",
              ".list-inline>li {display: inline-block}\n",
              ".list-inline>li:not(:last-child)::after {content: \"\\00b7\"; padding: 0 .5ex}\n",
              "</style>\n",
              "<ol class=list-inline><li>47</li><li>51</li><li>92</li><li>99</li><li>100</li><li>167</li><li>191</li><li>242</li><li>288</li><li>289</li><li>354</li></ol>\n"
            ],
            "text/markdown": "1. 47\n2. 51\n3. 92\n4. 99\n5. 100\n6. 167\n7. 191\n8. 242\n9. 288\n10. 289\n11. 354\n\n\n",
            "text/latex": "\\begin{enumerate*}\n\\item 47\n\\item 51\n\\item 92\n\\item 99\n\\item 100\n\\item 167\n\\item 191\n\\item 242\n\\item 288\n\\item 289\n\\item 354\n\\end{enumerate*}\n",
            "text/plain": [
              " [1]  47  51  92  99 100 167 191 242 288 289 354"
            ]
          },
          "metadata": {}
        }
      ]
    },
    {
      "cell_type": "code",
      "source": [
        "diabetes[!not_missing_glyhb, ]"
      ],
      "metadata": {
        "colab": {
          "base_uri": "https://localhost:8080/",
          "height": 443
        },
        "id": "BiR98WAwbETQ",
        "outputId": "1ce11dc4-2e1b-458e-d608-22c77e86c2f6"
      },
      "execution_count": null,
      "outputs": [
        {
          "output_type": "display_data",
          "data": {
            "text/html": [
              "<table class=\"dataframe\">\n",
              "<caption>A data.frame: 11 × 8</caption>\n",
              "<thead>\n",
              "\t<tr><th></th><th scope=col>subject</th><th scope=col>glyhb</th><th scope=col>location</th><th scope=col>age</th><th scope=col>gender</th><th scope=col>height</th><th scope=col>weight</th><th scope=col>frame</th></tr>\n",
              "\t<tr><th></th><th scope=col>&lt;chr&gt;</th><th scope=col>&lt;dbl&gt;</th><th scope=col>&lt;chr&gt;</th><th scope=col>&lt;int&gt;</th><th scope=col>&lt;chr&gt;</th><th scope=col>&lt;int&gt;</th><th scope=col>&lt;int&gt;</th><th scope=col>&lt;chr&gt;</th></tr>\n",
              "</thead>\n",
              "<tbody>\n",
              "\t<tr><th scope=row>47</th><td>S2774 </td><td>NA</td><td>Buckingham</td><td>44</td><td>female</td><td>66</td><td>191</td><td>large </td></tr>\n",
              "\t<tr><th scope=row>51</th><td>S2784 </td><td>NA</td><td>Buckingham</td><td>31</td><td>male  </td><td>70</td><td>165</td><td>medium</td></tr>\n",
              "\t<tr><th scope=row>92</th><td>S4808 </td><td>NA</td><td>Buckingham</td><td>68</td><td>male  </td><td>70</td><td>170</td><td>large </td></tr>\n",
              "\t<tr><th scope=row>99</th><td>S4826 </td><td>NA</td><td>Buckingham</td><td>58</td><td>female</td><td>63</td><td>230</td><td>large </td></tr>\n",
              "\t<tr><th scope=row>100</th><td>S4827 </td><td>NA</td><td>Buckingham</td><td>53</td><td>female</td><td>63</td><td>158</td><td>medium</td></tr>\n",
              "\t<tr><th scope=row>167</th><td>S15542</td><td>NA</td><td>Louisa    </td><td>57</td><td>male  </td><td>66</td><td>171</td><td>medium</td></tr>\n",
              "\t<tr><th scope=row>191</th><td>S15813</td><td>NA</td><td>Buckingham</td><td>45</td><td>male  </td><td>69</td><td>130</td><td>small </td></tr>\n",
              "\t<tr><th scope=row>242</th><td>S20258</td><td>NA</td><td>Buckingham</td><td>49</td><td>female</td><td>63</td><td>128</td><td>small </td></tr>\n",
              "\t<tr><th scope=row>288</th><td>S20787</td><td>NA</td><td>Buckingham</td><td>28</td><td>male  </td><td>66</td><td>209</td><td>medium</td></tr>\n",
              "\t<tr><th scope=row>289</th><td>S20790</td><td>NA</td><td>Buckingham</td><td>41</td><td>male  </td><td>71</td><td>210</td><td>NA    </td></tr>\n",
              "\t<tr><th scope=row>354</th><td>S41756</td><td>NA</td><td>Louisa    </td><td>68</td><td>female</td><td>64</td><td>220</td><td>medium</td></tr>\n",
              "</tbody>\n",
              "</table>\n"
            ],
            "text/markdown": "\nA data.frame: 11 × 8\n\n| <!--/--> | subject &lt;chr&gt; | glyhb &lt;dbl&gt; | location &lt;chr&gt; | age &lt;int&gt; | gender &lt;chr&gt; | height &lt;int&gt; | weight &lt;int&gt; | frame &lt;chr&gt; |\n|---|---|---|---|---|---|---|---|---|\n| 47 | S2774  | NA | Buckingham | 44 | female | 66 | 191 | large  |\n| 51 | S2784  | NA | Buckingham | 31 | male   | 70 | 165 | medium |\n| 92 | S4808  | NA | Buckingham | 68 | male   | 70 | 170 | large  |\n| 99 | S4826  | NA | Buckingham | 58 | female | 63 | 230 | large  |\n| 100 | S4827  | NA | Buckingham | 53 | female | 63 | 158 | medium |\n| 167 | S15542 | NA | Louisa     | 57 | male   | 66 | 171 | medium |\n| 191 | S15813 | NA | Buckingham | 45 | male   | 69 | 130 | small  |\n| 242 | S20258 | NA | Buckingham | 49 | female | 63 | 128 | small  |\n| 288 | S20787 | NA | Buckingham | 28 | male   | 66 | 209 | medium |\n| 289 | S20790 | NA | Buckingham | 41 | male   | 71 | 210 | NA     |\n| 354 | S41756 | NA | Louisa     | 68 | female | 64 | 220 | medium |\n\n",
            "text/latex": "A data.frame: 11 × 8\n\\begin{tabular}{r|llllllll}\n  & subject & glyhb & location & age & gender & height & weight & frame\\\\\n  & <chr> & <dbl> & <chr> & <int> & <chr> & <int> & <int> & <chr>\\\\\n\\hline\n\t47 & S2774  & NA & Buckingham & 44 & female & 66 & 191 & large \\\\\n\t51 & S2784  & NA & Buckingham & 31 & male   & 70 & 165 & medium\\\\\n\t92 & S4808  & NA & Buckingham & 68 & male   & 70 & 170 & large \\\\\n\t99 & S4826  & NA & Buckingham & 58 & female & 63 & 230 & large \\\\\n\t100 & S4827  & NA & Buckingham & 53 & female & 63 & 158 & medium\\\\\n\t167 & S15542 & NA & Louisa     & 57 & male   & 66 & 171 & medium\\\\\n\t191 & S15813 & NA & Buckingham & 45 & male   & 69 & 130 & small \\\\\n\t242 & S20258 & NA & Buckingham & 49 & female & 63 & 128 & small \\\\\n\t288 & S20787 & NA & Buckingham & 28 & male   & 66 & 209 & medium\\\\\n\t289 & S20790 & NA & Buckingham & 41 & male   & 71 & 210 & NA    \\\\\n\t354 & S41756 & NA & Louisa     & 68 & female & 64 & 220 & medium\\\\\n\\end{tabular}\n",
            "text/plain": [
              "    subject glyhb location   age gender height weight frame \n",
              "47  S2774   NA    Buckingham 44  female 66     191    large \n",
              "51  S2784   NA    Buckingham 31  male   70     165    medium\n",
              "92  S4808   NA    Buckingham 68  male   70     170    large \n",
              "99  S4826   NA    Buckingham 58  female 63     230    large \n",
              "100 S4827   NA    Buckingham 53  female 63     158    medium\n",
              "167 S15542  NA    Louisa     57  male   66     171    medium\n",
              "191 S15813  NA    Buckingham 45  male   69     130    small \n",
              "242 S20258  NA    Buckingham 49  female 63     128    small \n",
              "288 S20787  NA    Buckingham 28  male   66     209    medium\n",
              "289 S20790  NA    Buckingham 41  male   71     210    NA    \n",
              "354 S41756  NA    Louisa     68  female 64     220    medium"
            ]
          },
          "metadata": {}
        }
      ]
    },
    {
      "cell_type": "code",
      "source": [
        "str(diabetes)"
      ],
      "metadata": {
        "colab": {
          "base_uri": "https://localhost:8080/"
        },
        "id": "ugZ34CIjbfXY",
        "outputId": "da279893-f77d-4029-aea4-83e986074fa1"
      },
      "execution_count": null,
      "outputs": [
        {
          "output_type": "stream",
          "name": "stdout",
          "text": [
            "'data.frame':\t354 obs. of  8 variables:\n",
            " $ subject : chr  \"S1002\" \"S1003\" \"S1005\" \"S1008\" ...\n",
            " $ glyhb   : num  4.64 4.63 7.72 4.81 4.84 ...\n",
            " $ location: chr  \"Buckingham\" \"Buckingham\" \"Buckingham\" \"Buckingham\" ...\n",
            " $ age     : int  58 67 64 34 30 37 45 55 60 38 ...\n",
            " $ gender  : chr  \"female\" \"male\" \"male\" \"male\" ...\n",
            " $ height  : int  61 67 68 71 69 59 69 63 65 58 ...\n",
            " $ weight  : int  256 119 183 190 191 170 166 202 156 195 ...\n",
            " $ frame   : chr  \"large\" \"large\" \"medium\" \"large\" ...\n"
          ]
        }
      ]
    },
    {
      "cell_type": "code",
      "source": [
        "diabetes$subject <- factor(diabetes$subject)\n",
        "diabetes$location <- factor(diabetes$location)\n",
        "diabetes$gender <- factor(diabetes$gender)\n",
        "diabetes$frame <- factor(diabetes$frame)"
      ],
      "metadata": {
        "id": "xXLwOmaDbyFa"
      },
      "execution_count": null,
      "outputs": []
    },
    {
      "cell_type": "code",
      "source": [
        "str(diabetes)"
      ],
      "metadata": {
        "colab": {
          "base_uri": "https://localhost:8080/"
        },
        "id": "qeGaFloUcWY6",
        "outputId": "ba6c2193-f26f-4b79-8d90-3ebe483e8255"
      },
      "execution_count": null,
      "outputs": [
        {
          "output_type": "stream",
          "name": "stdout",
          "text": [
            "'data.frame':\t354 obs. of  8 variables:\n",
            " $ subject : Factor w/ 354 levels \"S10000\",\"S10001\",..: 4 6 7 8 9 10 11 12 13 14 ...\n",
            " $ glyhb   : num  4.64 4.63 7.72 4.81 4.84 ...\n",
            " $ location: Factor w/ 2 levels \"Buckingham\",\"Louisa\": 1 1 1 1 1 1 1 1 2 2 ...\n",
            " $ age     : int  58 67 64 34 30 37 45 55 60 38 ...\n",
            " $ gender  : Factor w/ 2 levels \"female\",\"male\": 1 2 2 2 2 2 2 1 1 1 ...\n",
            " $ height  : int  61 67 68 71 69 59 69 63 65 58 ...\n",
            " $ weight  : int  256 119 183 190 191 170 166 202 156 195 ...\n",
            " $ frame   : Factor w/ 3 levels \"large\",\"medium\",..: 1 1 2 1 2 2 1 3 2 2 ...\n"
          ]
        }
      ]
    },
    {
      "cell_type": "code",
      "source": [
        "plot( diabetes$frame )"
      ],
      "metadata": {
        "colab": {
          "base_uri": "https://localhost:8080/",
          "height": 437
        },
        "id": "J0lsCjElcXoA",
        "outputId": "5762bb62-839c-47be-9a16-719037f589a8"
      },
      "execution_count": null,
      "outputs": [
        {
          "output_type": "display_data",
          "data": {
            "text/plain": [
              "plot without title"
            ],
            "image/png": "[encoded data removed]"
          },
          "metadata": {
            "image/png": {
              "width": 420,
              "height": 420
            }
          }
        }
      ]
    },
    {
      "cell_type": "code",
      "source": [
        "plot( diabetes$gender, diabetes$frame )"
      ],
      "metadata": {
        "colab": {
          "base_uri": "https://localhost:8080/",
          "height": 437
        },
        "id": "Q6o4qejncjZu",
        "outputId": "cce17b1e-8725-4c5f-fe12-fe7a560e7ea4"
      },
      "execution_count": null,
      "outputs": [
        {
          "output_type": "display_data",
          "data": {
            "text/plain": [
              "Plot with title “”"
            ],
            "image/png": "[encoded data removed]"
          },
          "metadata": {
            "image/png": {
              "width": 420,
              "height": 420
            }
          }
        }
      ]
    },
    {
      "cell_type": "code",
      "source": [
        "table(diabetes$frame)"
      ],
      "metadata": {
        "colab": {
          "base_uri": "https://localhost:8080/",
          "height": 70
        },
        "id": "VRY4eqE3cuyb",
        "outputId": "70ac5008-0625-4ba4-95e1-4c12fc851802"
      },
      "execution_count": null,
      "outputs": [
        {
          "output_type": "display_data",
          "data": {
            "text/plain": [
              "\n",
              " large medium  small \n",
              "    91    155     96 "
            ]
          },
          "metadata": {}
        }
      ]
    },
    {
      "cell_type": "markdown",
      "source": [
        "Usando tapply calcule la media de la variable glyhb pero agrupandola por la variable factor (cualitativa) frame. \n",
        "\n",
        "**Nota**: Si hay valores ausentes no tomarlos en cuenta."
      ],
      "metadata": {
        "id": "rZuI3np6dDba"
      }
    },
    {
      "cell_type": "code",
      "source": [
        "head(diabetes)"
      ],
      "metadata": {
        "colab": {
          "base_uri": "https://localhost:8080/",
          "height": 286
        },
        "id": "YaQP1T7BeapQ",
        "outputId": "77363954-c2c6-4c3d-b73c-f4b60f3f9337"
      },
      "execution_count": null,
      "outputs": [
        {
          "output_type": "display_data",
          "data": {
            "text/html": [
              "<table class=\"dataframe\">\n",
              "<caption>A data.frame: 6 × 8</caption>\n",
              "<thead>\n",
              "\t<tr><th></th><th scope=col>subject</th><th scope=col>glyhb</th><th scope=col>location</th><th scope=col>age</th><th scope=col>gender</th><th scope=col>height</th><th scope=col>weight</th><th scope=col>frame</th></tr>\n",
              "\t<tr><th></th><th scope=col>&lt;fct&gt;</th><th scope=col>&lt;dbl&gt;</th><th scope=col>&lt;fct&gt;</th><th scope=col>&lt;int&gt;</th><th scope=col>&lt;fct&gt;</th><th scope=col>&lt;int&gt;</th><th scope=col>&lt;int&gt;</th><th scope=col>&lt;fct&gt;</th></tr>\n",
              "</thead>\n",
              "<tbody>\n",
              "\t<tr><th scope=row>1</th><td>S1002</td><td>4.64</td><td>Buckingham</td><td>58</td><td>female</td><td>61</td><td>256</td><td>large </td></tr>\n",
              "\t<tr><th scope=row>2</th><td>S1003</td><td>4.63</td><td>Buckingham</td><td>67</td><td>male  </td><td>67</td><td>119</td><td>large </td></tr>\n",
              "\t<tr><th scope=row>3</th><td>S1005</td><td>7.72</td><td>Buckingham</td><td>64</td><td>male  </td><td>68</td><td>183</td><td>medium</td></tr>\n",
              "\t<tr><th scope=row>4</th><td>S1008</td><td>4.81</td><td>Buckingham</td><td>34</td><td>male  </td><td>71</td><td>190</td><td>large </td></tr>\n",
              "\t<tr><th scope=row>5</th><td>S1011</td><td>4.84</td><td>Buckingham</td><td>30</td><td>male  </td><td>69</td><td>191</td><td>medium</td></tr>\n",
              "\t<tr><th scope=row>6</th><td>S1015</td><td>3.94</td><td>Buckingham</td><td>37</td><td>male  </td><td>59</td><td>170</td><td>medium</td></tr>\n",
              "</tbody>\n",
              "</table>\n"
            ],
            "text/markdown": "\nA data.frame: 6 × 8\n\n| <!--/--> | subject &lt;fct&gt; | glyhb &lt;dbl&gt; | location &lt;fct&gt; | age &lt;int&gt; | gender &lt;fct&gt; | height &lt;int&gt; | weight &lt;int&gt; | frame &lt;fct&gt; |\n|---|---|---|---|---|---|---|---|---|\n| 1 | S1002 | 4.64 | Buckingham | 58 | female | 61 | 256 | large  |\n| 2 | S1003 | 4.63 | Buckingham | 67 | male   | 67 | 119 | large  |\n| 3 | S1005 | 7.72 | Buckingham | 64 | male   | 68 | 183 | medium |\n| 4 | S1008 | 4.81 | Buckingham | 34 | male   | 71 | 190 | large  |\n| 5 | S1011 | 4.84 | Buckingham | 30 | male   | 69 | 191 | medium |\n| 6 | S1015 | 3.94 | Buckingham | 37 | male   | 59 | 170 | medium |\n\n",
            "text/latex": "A data.frame: 6 × 8\n\\begin{tabular}{r|llllllll}\n  & subject & glyhb & location & age & gender & height & weight & frame\\\\\n  & <fct> & <dbl> & <fct> & <int> & <fct> & <int> & <int> & <fct>\\\\\n\\hline\n\t1 & S1002 & 4.64 & Buckingham & 58 & female & 61 & 256 & large \\\\\n\t2 & S1003 & 4.63 & Buckingham & 67 & male   & 67 & 119 & large \\\\\n\t3 & S1005 & 7.72 & Buckingham & 64 & male   & 68 & 183 & medium\\\\\n\t4 & S1008 & 4.81 & Buckingham & 34 & male   & 71 & 190 & large \\\\\n\t5 & S1011 & 4.84 & Buckingham & 30 & male   & 69 & 191 & medium\\\\\n\t6 & S1015 & 3.94 & Buckingham & 37 & male   & 59 & 170 & medium\\\\\n\\end{tabular}\n",
            "text/plain": [
              "  subject glyhb location   age gender height weight frame \n",
              "1 S1002   4.64  Buckingham 58  female 61     256    large \n",
              "2 S1003   4.63  Buckingham 67  male   67     119    large \n",
              "3 S1005   7.72  Buckingham 64  male   68     183    medium\n",
              "4 S1008   4.81  Buckingham 34  male   71     190    large \n",
              "5 S1011   4.84  Buckingham 30  male   69     191    medium\n",
              "6 S1015   3.94  Buckingham 37  male   59     170    medium"
            ]
          },
          "metadata": {}
        }
      ]
    },
    {
      "cell_type": "code",
      "source": [
        "apply(diabetes[, c(\"age\", \"height\", \"weight\") ], 2, mean ) "
      ],
      "metadata": {
        "colab": {
          "base_uri": "https://localhost:8080/",
          "height": 34
        },
        "id": "-aZbETA2eb_c",
        "outputId": "c9957f93-4c61-4a40-e0d9-f8797fc3da68"
      },
      "execution_count": null,
      "outputs": [
        {
          "output_type": "display_data",
          "data": {
            "text/html": [
              "<style>\n",
              ".dl-inline {width: auto; margin:0; padding: 0}\n",
              ".dl-inline>dt, .dl-inline>dd {float: none; width: auto; display: inline-block}\n",
              ".dl-inline>dt::after {content: \":\\0020\"; padding-right: .5ex}\n",
              ".dl-inline>dt:not(:first-of-type) {padding-left: .5ex}\n",
              "</style><dl class=dl-inline><dt>age</dt><dd>46.9067796610169</dd><dt>height</dt><dd>&lt;NA&gt;</dd><dt>weight</dt><dd>&lt;NA&gt;</dd></dl>\n"
            ],
            "text/markdown": "age\n:   46.9067796610169height\n:   &lt;NA&gt;weight\n:   &lt;NA&gt;\n\n",
            "text/latex": "\\begin{description*}\n\\item[age] 46.9067796610169\n\\item[height] <NA>\n\\item[weight] <NA>\n\\end{description*}\n",
            "text/plain": [
              "     age   height   weight \n",
              "46.90678       NA       NA "
            ]
          },
          "metadata": {}
        }
      ]
    },
    {
      "cell_type": "code",
      "source": [
        "apply(diabetes[, c(\"age\", \"height\", \"weight\") ], 2, mean, na.rm=TRUE ) "
      ],
      "metadata": {
        "colab": {
          "base_uri": "https://localhost:8080/",
          "height": 34
        },
        "id": "KVPu32dBeoAq",
        "outputId": "6c17e6b5-a113-4457-9aa1-e4931dba5149"
      },
      "execution_count": null,
      "outputs": [
        {
          "output_type": "display_data",
          "data": {
            "text/html": [
              "<style>\n",
              ".dl-inline {width: auto; margin:0; padding: 0}\n",
              ".dl-inline>dt, .dl-inline>dd {float: none; width: auto; display: inline-block}\n",
              ".dl-inline>dt::after {content: \":\\0020\"; padding-right: .5ex}\n",
              ".dl-inline>dt:not(:first-of-type) {padding-left: .5ex}\n",
              "</style><dl class=dl-inline><dt>age</dt><dd>46.9067796610169</dd><dt>height</dt><dd>65.9340974212034</dd><dt>weight</dt><dd>176.189801699717</dd></dl>\n"
            ],
            "text/markdown": "age\n:   46.9067796610169height\n:   65.9340974212034weight\n:   176.189801699717\n\n",
            "text/latex": "\\begin{description*}\n\\item[age] 46.9067796610169\n\\item[height] 65.9340974212034\n\\item[weight] 176.189801699717\n\\end{description*}\n",
            "text/plain": [
              "      age    height    weight \n",
              " 46.90678  65.93410 176.18980 "
            ]
          },
          "metadata": {}
        }
      ]
    },
    {
      "cell_type": "code",
      "source": [
        "tapply(diabetes$glyhb, diabetes$frame, mean)"
      ],
      "metadata": {
        "colab": {
          "base_uri": "https://localhost:8080/",
          "height": 34
        },
        "id": "JdkvTJ28fLCb",
        "outputId": "4adc9eb6-0e9b-4ba5-9c12-4c10be70d42e"
      },
      "execution_count": null,
      "outputs": [
        {
          "output_type": "display_data",
          "data": {
            "text/html": [
              "<style>\n",
              ".dl-inline {width: auto; margin:0; padding: 0}\n",
              ".dl-inline>dt, .dl-inline>dd {float: none; width: auto; display: inline-block}\n",
              ".dl-inline>dt::after {content: \":\\0020\"; padding-right: .5ex}\n",
              ".dl-inline>dt:not(:first-of-type) {padding-left: .5ex}\n",
              "</style><dl class=dl-inline><dt>large</dt><dd>&lt;NA&gt;</dd><dt>medium</dt><dd>&lt;NA&gt;</dd><dt>small</dt><dd>&lt;NA&gt;</dd></dl>\n"
            ],
            "text/markdown": "large\n:   &lt;NA&gt;medium\n:   &lt;NA&gt;small\n:   &lt;NA&gt;\n\n",
            "text/latex": "\\begin{description*}\n\\item[large] <NA>\n\\item[medium] <NA>\n\\item[small] <NA>\n\\end{description*}\n",
            "text/plain": [
              " large medium  small \n",
              "    NA     NA     NA "
            ]
          },
          "metadata": {}
        }
      ]
    },
    {
      "cell_type": "code",
      "source": [
        "tapply(diabetes$glyhb, diabetes$frame, mean, na.rm=TRUE)"
      ],
      "metadata": {
        "colab": {
          "base_uri": "https://localhost:8080/",
          "height": 34
        },
        "id": "pTqG4bXefco3",
        "outputId": "cb221c00-074d-4bb1-a9b2-a45e18a60b47"
      },
      "execution_count": null,
      "outputs": [
        {
          "output_type": "display_data",
          "data": {
            "text/html": [
              "<style>\n",
              ".dl-inline {width: auto; margin:0; padding: 0}\n",
              ".dl-inline>dt, .dl-inline>dd {float: none; width: auto; display: inline-block}\n",
              ".dl-inline>dt::after {content: \":\\0020\"; padding-right: .5ex}\n",
              ".dl-inline>dt:not(:first-of-type) {padding-left: .5ex}\n",
              "</style><dl class=dl-inline><dt>large</dt><dd>6.03579546625</dd><dt>medium</dt><dd>5.72133334553333</dd><dt>small</dt><dd>4.97106384446808</dd></dl>\n"
            ],
            "text/markdown": "large\n:   6.03579546625medium\n:   5.72133334553333small\n:   4.97106384446808\n\n",
            "text/latex": "\\begin{description*}\n\\item[large] 6.03579546625\n\\item[medium] 5.72133334553333\n\\item[small] 4.97106384446808\n\\end{description*}\n",
            "text/plain": [
              "   large   medium    small \n",
              "6.035795 5.721333 4.971064 "
            ]
          },
          "metadata": {}
        }
      ]
    },
    {
      "cell_type": "markdown",
      "source": [
        "Usando tapply calcule la media de la variable glyhb pero agrupandola por las variables tipo factor: frame y gender, con lo que tendria 6 combinaciones y por lo tante 6 medias. \n",
        "\n",
        "**Nota**: Si hay valores ausentes no tomarlos en cuenta."
      ],
      "metadata": {
        "id": "VQ09VitwgBTs"
      }
    },
    {
      "cell_type": "code",
      "source": [
        "tapply(diabetes$glyhb, list(diabetes$frame, diabetes$gender), mean)"
      ],
      "metadata": {
        "colab": {
          "base_uri": "https://localhost:8080/",
          "height": 161
        },
        "id": "r6ITkHi1ftwg",
        "outputId": "fa837f82-ebce-495c-8b8c-8ff5ae69eb0d"
      },
      "execution_count": null,
      "outputs": [
        {
          "output_type": "display_data",
          "data": {
            "text/html": [
              "<table class=\"dataframe\">\n",
              "<caption>A matrix: 3 × 2 of type dbl</caption>\n",
              "<thead>\n",
              "\t<tr><th></th><th scope=col>female</th><th scope=col>male</th></tr>\n",
              "</thead>\n",
              "<tbody>\n",
              "\t<tr><th scope=row>large</th><td>NA</td><td>NA</td></tr>\n",
              "\t<tr><th scope=row>medium</th><td>NA</td><td>NA</td></tr>\n",
              "\t<tr><th scope=row>small</th><td>NA</td><td>NA</td></tr>\n",
              "</tbody>\n",
              "</table>\n"
            ],
            "text/markdown": "\nA matrix: 3 × 2 of type dbl\n\n| <!--/--> | female | male |\n|---|---|---|\n| large | NA | NA |\n| medium | NA | NA |\n| small | NA | NA |\n\n",
            "text/latex": "A matrix: 3 × 2 of type dbl\n\\begin{tabular}{r|ll}\n  & female & male\\\\\n\\hline\n\tlarge & NA & NA\\\\\n\tmedium & NA & NA\\\\\n\tsmall & NA & NA\\\\\n\\end{tabular}\n",
            "text/plain": [
              "       female male\n",
              "large  NA     NA  \n",
              "medium NA     NA  \n",
              "small  NA     NA  "
            ]
          },
          "metadata": {}
        }
      ]
    },
    {
      "cell_type": "code",
      "source": [
        "tapply(diabetes$glyhb, list(diabetes$frame, diabetes$gender), mean, na.rm=TRUE)"
      ],
      "metadata": {
        "colab": {
          "base_uri": "https://localhost:8080/",
          "height": 161
        },
        "id": "2frsuXX2gYNp",
        "outputId": "523ea3fb-455a-46df-bba0-4dd95cf01a07"
      },
      "execution_count": null,
      "outputs": [
        {
          "output_type": "display_data",
          "data": {
            "text/html": [
              "<table class=\"dataframe\">\n",
              "<caption>A matrix: 3 × 2 of type dbl</caption>\n",
              "<thead>\n",
              "\t<tr><th></th><th scope=col>female</th><th scope=col>male</th></tr>\n",
              "</thead>\n",
              "<tbody>\n",
              "\t<tr><th scope=row>large</th><td>6.196286</td><td>5.929811</td></tr>\n",
              "\t<tr><th scope=row>medium</th><td>5.490106</td><td>6.109464</td></tr>\n",
              "\t<tr><th scope=row>small</th><td>5.042308</td><td>4.811379</td></tr>\n",
              "</tbody>\n",
              "</table>\n"
            ],
            "text/markdown": "\nA matrix: 3 × 2 of type dbl\n\n| <!--/--> | female | male |\n|---|---|---|\n| large | 6.196286 | 5.929811 |\n| medium | 5.490106 | 6.109464 |\n| small | 5.042308 | 4.811379 |\n\n",
            "text/latex": "A matrix: 3 × 2 of type dbl\n\\begin{tabular}{r|ll}\n  & female & male\\\\\n\\hline\n\tlarge & 6.196286 & 5.929811\\\\\n\tmedium & 5.490106 & 6.109464\\\\\n\tsmall & 5.042308 & 4.811379\\\\\n\\end{tabular}\n",
            "text/plain": [
              "       female   male    \n",
              "large  6.196286 5.929811\n",
              "medium 5.490106 6.109464\n",
              "small  5.042308 4.811379"
            ]
          },
          "metadata": {}
        }
      ]
    },
    {
      "cell_type": "markdown",
      "source": [
        "Calcular la media de la variable glyhb en las agrupaciones determinadas por las combinaciones de location y gender. "
      ],
      "metadata": {
        "id": "qK0GW4U0gunQ"
      }
    },
    {
      "cell_type": "code",
      "source": [
        "tapply(diabetes$glyhb, list(diabetes$location, diabetes$gender), mean)"
      ],
      "metadata": {
        "colab": {
          "base_uri": "https://localhost:8080/",
          "height": 129
        },
        "id": "_ohSsTqrggPN",
        "outputId": "fb5c27ec-91bb-401d-bce4-603a7a8cd895"
      },
      "execution_count": null,
      "outputs": [
        {
          "output_type": "display_data",
          "data": {
            "text/html": [
              "<table class=\"dataframe\">\n",
              "<caption>A matrix: 2 × 2 of type dbl</caption>\n",
              "<thead>\n",
              "\t<tr><th></th><th scope=col>female</th><th scope=col>male</th></tr>\n",
              "</thead>\n",
              "<tbody>\n",
              "\t<tr><th scope=row>Buckingham</th><td>NA</td><td>NA</td></tr>\n",
              "\t<tr><th scope=row>Louisa</th><td>NA</td><td>NA</td></tr>\n",
              "</tbody>\n",
              "</table>\n"
            ],
            "text/markdown": "\nA matrix: 2 × 2 of type dbl\n\n| <!--/--> | female | male |\n|---|---|---|\n| Buckingham | NA | NA |\n| Louisa | NA | NA |\n\n",
            "text/latex": "A matrix: 2 × 2 of type dbl\n\\begin{tabular}{r|ll}\n  & female & male\\\\\n\\hline\n\tBuckingham & NA & NA\\\\\n\tLouisa & NA & NA\\\\\n\\end{tabular}\n",
            "text/plain": [
              "           female male\n",
              "Buckingham NA     NA  \n",
              "Louisa     NA     NA  "
            ]
          },
          "metadata": {}
        }
      ]
    },
    {
      "cell_type": "code",
      "source": [
        "tapply(diabetes$glyhb, list(diabetes$location, diabetes$gender), mean, na.rm=TRUE)"
      ],
      "metadata": {
        "colab": {
          "base_uri": "https://localhost:8080/",
          "height": 129
        },
        "id": "oPQUnIZHh6rj",
        "outputId": "a0ab0097-1f4c-4127-af6e-d5b50711b10e"
      },
      "execution_count": null,
      "outputs": [
        {
          "output_type": "display_data",
          "data": {
            "text/html": [
              "<table class=\"dataframe\">\n",
              "<caption>A matrix: 2 × 2 of type dbl</caption>\n",
              "<thead>\n",
              "\t<tr><th></th><th scope=col>female</th><th scope=col>male</th></tr>\n",
              "</thead>\n",
              "<tbody>\n",
              "\t<tr><th scope=row>Buckingham</th><td>5.588283</td><td>5.891857</td></tr>\n",
              "\t<tr><th scope=row>Louisa</th><td>5.318431</td><td>5.637361</td></tr>\n",
              "</tbody>\n",
              "</table>\n"
            ],
            "text/markdown": "\nA matrix: 2 × 2 of type dbl\n\n| <!--/--> | female | male |\n|---|---|---|\n| Buckingham | 5.588283 | 5.891857 |\n| Louisa | 5.318431 | 5.637361 |\n\n",
            "text/latex": "A matrix: 2 × 2 of type dbl\n\\begin{tabular}{r|ll}\n  & female & male\\\\\n\\hline\n\tBuckingham & 5.588283 & 5.891857\\\\\n\tLouisa & 5.318431 & 5.637361\\\\\n\\end{tabular}\n",
            "text/plain": [
              "           female   male    \n",
              "Buckingham 5.588283 5.891857\n",
              "Louisa     5.318431 5.637361"
            ]
          },
          "metadata": {}
        }
      ]
    },
    {
      "cell_type": "code",
      "source": [
        ""
      ],
      "metadata": {
        "id": "kZ4Rp16EiIQs"
      },
      "execution_count": null,
      "outputs": []
    }
  ]
}