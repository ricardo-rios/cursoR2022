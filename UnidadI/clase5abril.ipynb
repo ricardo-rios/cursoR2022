{
  "nbformat": 4,
  "nbformat_minor": 0,
  "metadata": {
    "colab": {
      "name": "clase5abril.ipynb",
      "provenance": [],
      "collapsed_sections": []
    },
    "kernelspec": {
      "name": "ir",
      "display_name": "R"
    },
    "language_info": {
      "name": "R"
    }
  },
  "cells": [
    {
      "cell_type": "markdown",
      "source": [
        "# Ejercicio"
      ],
      "metadata": {
        "id": "UuaGK6yDNgSO"
      }
    },
    {
      "cell_type": "code",
      "source": [
        "# Código tomado de: \n",
        "# https://stackoverflow.com/questions/3476782/check-if-the-number-is-integer\n",
        "\n",
        "is.wholenumber <- function(x, tol = .Machine$double.eps^0.5){\n",
        "  abs(x - round(x)) < tol\n",
        "}  "
      ],
      "metadata": {
        "id": "8fSb6J6JWeHP"
      },
      "execution_count": null,
      "outputs": []
    },
    {
      "cell_type": "code",
      "source": [
        "# función para decir si un número positivo es perfecto\n",
        "\n",
        "num_perfecto <- function(n){\n",
        "\n",
        "\n",
        "  if (!is.wholenumber(n) ){\n",
        "    stop(\"Debo proporcionar un número entero\")\n",
        "\n",
        "  }\n",
        "\n",
        "  if ( is.wholenumber(n) & n < 5){\n",
        "    stop(\"Debo proporcionar un número mayor o igual a 6\")  \n",
        "  }\n",
        "\n",
        "  num_iter <- as.integer(n/2)\n",
        "  suma_divisors <- 0 \n",
        "\n",
        "  for ( i in 1:num_iter){\n",
        "\n",
        "    if ( n %% i == 0 ){\n",
        "      suma_divisors <- suma_divisors + i \n",
        "    }\n",
        "\n",
        "  }\n",
        "\n",
        "\n",
        "  if (suma_divisors == n){\n",
        "    return(TRUE)\n",
        "  } else{\n",
        "    return(FALSE)\n",
        "  }\n",
        "\n",
        "\n",
        "}"
      ],
      "metadata": {
        "id": "8vM0KskvNhVR"
      },
      "execution_count": null,
      "outputs": []
    },
    {
      "cell_type": "code",
      "source": [
        "num_perfecto(15)"
      ],
      "metadata": {
        "id": "_6eZ0KUOXWc-"
      },
      "execution_count": null,
      "outputs": []
    },
    {
      "cell_type": "code",
      "source": [
        "num_perfecto(100)"
      ],
      "metadata": {
        "id": "9-CzFXJXXvJ0"
      },
      "execution_count": null,
      "outputs": []
    },
    {
      "cell_type": "code",
      "source": [
        "num_perfecto(6)"
      ],
      "metadata": {
        "id": "O__SGKkzZZSB"
      },
      "execution_count": null,
      "outputs": []
    },
    {
      "cell_type": "code",
      "source": [
        "num_perfecto(8128)"
      ],
      "metadata": {
        "id": "dSyMRJXGZcLH"
      },
      "execution_count": null,
      "outputs": []
    },
    {
      "cell_type": "code",
      "source": [
        "num_perfecto(33550336)"
      ],
      "metadata": {
        "id": "T4t551qKZfIs"
      },
      "execution_count": null,
      "outputs": []
    },
    {
      "cell_type": "markdown",
      "source": [
        "# La instrucción return "
      ],
      "metadata": {
        "id": "LI1YpJ2ZbAfz"
      }
    },
    {
      "cell_type": "code",
      "source": [
        "check <- function(x){\n",
        "\n",
        "  if ( x > 0 ){\n",
        "    result <- \"Positive\"\n",
        "  } else if ( x < 0 ){\n",
        "    result <- \"Negative\"\n",
        "  } else {\n",
        "    result <- \"Zero\"\n",
        "  }\n",
        "\n",
        "  return(result)\n",
        "\n",
        "}"
      ],
      "metadata": {
        "id": "HSnOGhgkbCae"
      },
      "execution_count": null,
      "outputs": []
    },
    {
      "cell_type": "code",
      "source": [
        "check(10)"
      ],
      "metadata": {
        "id": "Hmm_mubibgL0"
      },
      "execution_count": null,
      "outputs": []
    },
    {
      "cell_type": "code",
      "source": [
        "check(-10)"
      ],
      "metadata": {
        "id": "7f28jPf8bpcE"
      },
      "execution_count": null,
      "outputs": []
    },
    {
      "cell_type": "code",
      "source": [
        "check(0)"
      ],
      "metadata": {
        "id": "zu3YRA6ebtfe"
      },
      "execution_count": null,
      "outputs": []
    },
    {
      "cell_type": "markdown",
      "source": [
        "# Retornando sin la instrucción return "
      ],
      "metadata": {
        "id": "Lf5-WPOKd-a2"
      }
    },
    {
      "cell_type": "code",
      "source": [
        "check2 <- function(x){\n",
        "\n",
        "  if ( x > 0 ){\n",
        "    result <- \"Positive\"\n",
        "  } else if ( x < 0 ){\n",
        "    result <- \"Negative\"\n",
        "  } else {\n",
        "    result <- \"Zero\"\n",
        "  }\n",
        "\n",
        "  result\n",
        "\n",
        "}"
      ],
      "metadata": {
        "id": "lqUYguGGbue-"
      },
      "execution_count": null,
      "outputs": []
    },
    {
      "cell_type": "code",
      "source": [
        "check2(10)"
      ],
      "metadata": {
        "id": "ZOB6dvNSeK2q"
      },
      "execution_count": null,
      "outputs": []
    },
    {
      "cell_type": "code",
      "source": [
        "check2(-10)"
      ],
      "metadata": {
        "id": "9sT_dI2reQB8"
      },
      "execution_count": null,
      "outputs": []
    },
    {
      "cell_type": "code",
      "source": [
        "check2(0)"
      ],
      "metadata": {
        "id": "Vh-zioPdeQ5L"
      },
      "execution_count": null,
      "outputs": []
    },
    {
      "cell_type": "code",
      "source": [
        "check3 <- function(x){\n",
        "\n",
        "  if ( x > 0 ){\n",
        "    return(\"Positive\")\n",
        "  } else if ( x < 0 ){\n",
        "    return(\"Negative\")\n",
        "  } else {\n",
        "    return(\"Zero\")\n",
        "  }\n",
        "\n",
        "}"
      ],
      "metadata": {
        "id": "EkHD2MQOeRs9"
      },
      "execution_count": null,
      "outputs": []
    },
    {
      "cell_type": "code",
      "source": [
        "check3(10)"
      ],
      "metadata": {
        "id": "9IXSW3Qve_Nc"
      },
      "execution_count": null,
      "outputs": []
    },
    {
      "cell_type": "code",
      "source": [
        "check3(-10)"
      ],
      "metadata": {
        "id": "OCBZrJAlfA8U"
      },
      "execution_count": null,
      "outputs": []
    },
    {
      "cell_type": "code",
      "source": [
        "check3(0)"
      ],
      "metadata": {
        "id": "ooFByx3xfB2z"
      },
      "execution_count": null,
      "outputs": []
    },
    {
      "cell_type": "code",
      "source": [
        "x2 <- check3(20)"
      ],
      "metadata": {
        "id": "NMGJ2PBMfDRC"
      },
      "execution_count": null,
      "outputs": []
    },
    {
      "cell_type": "code",
      "source": [
        "x2 "
      ],
      "metadata": {
        "id": "BmKXtFSLfS2l"
      },
      "execution_count": null,
      "outputs": []
    },
    {
      "cell_type": "markdown",
      "source": [
        "# Retornando múltiples valores "
      ],
      "metadata": {
        "id": "RP7400WDgB6y"
      }
    },
    {
      "cell_type": "code",
      "source": [
        "multi_return <- function(){\n",
        "  \n",
        "  my_list <- list(\"color\" = \"red\", \"size\" = 20, \"shape\" = \"round\")\n",
        "  return(my_list)\n",
        "\n",
        "}"
      ],
      "metadata": {
        "id": "WaxyTDcNfTR4"
      },
      "execution_count": null,
      "outputs": []
    },
    {
      "cell_type": "code",
      "source": [
        "a <- multi_return()"
      ],
      "metadata": {
        "id": "QIQ72pEHgbC-"
      },
      "execution_count": null,
      "outputs": []
    },
    {
      "cell_type": "code",
      "source": [
        "names(a)"
      ],
      "metadata": {
        "id": "MriJd6CPggdE"
      },
      "execution_count": null,
      "outputs": []
    },
    {
      "cell_type": "code",
      "source": [
        "a$color"
      ],
      "metadata": {
        "id": "5RRJgd3ZghqM"
      },
      "execution_count": null,
      "outputs": []
    },
    {
      "cell_type": "code",
      "source": [
        "a$size"
      ],
      "metadata": {
        "id": "pqQDQdOzgk4b"
      },
      "execution_count": null,
      "outputs": []
    },
    {
      "cell_type": "code",
      "source": [
        "a$shape"
      ],
      "metadata": {
        "id": "m-7UBFC1gmQD"
      },
      "execution_count": null,
      "outputs": []
    },
    {
      "cell_type": "markdown",
      "source": [
        "# Entornos en R "
      ],
      "metadata": {
        "id": "R6Dxa4dRiDNA"
      }
    },
    {
      "cell_type": "code",
      "source": [
        "a <- 2 \n",
        "b <- 5 \n",
        "f <- function(x){\n",
        "  x <- 0 \n",
        "  print(environment())\n",
        "}"
      ],
      "metadata": {
        "id": "_tJJ8GsHiE4l"
      },
      "execution_count": null,
      "outputs": []
    },
    {
      "cell_type": "code",
      "source": [
        "ls()"
      ],
      "metadata": {
        "colab": {
          "base_uri": "https://localhost:8080/",
          "height": 34
        },
        "id": "u_AmA_EAiccW",
        "outputId": "a8cd8b86-4986-40cd-a58e-af8d936af0a5"
      },
      "execution_count": null,
      "outputs": [
        {
          "output_type": "display_data",
          "data": {
            "text/html": [
              "<style>\n",
              ".list-inline {list-style: none; margin:0; padding: 0}\n",
              ".list-inline>li {display: inline-block}\n",
              ".list-inline>li:not(:last-child)::after {content: \"\\00b7\"; padding: 0 .5ex}\n",
              "</style>\n",
              "<ol class=list-inline><li>'a'</li><li>'b'</li><li>'f'</li></ol>\n"
            ],
            "text/markdown": "1. 'a'\n2. 'b'\n3. 'f'\n\n\n",
            "text/latex": "\\begin{enumerate*}\n\\item 'a'\n\\item 'b'\n\\item 'f'\n\\end{enumerate*}\n",
            "text/plain": [
              "[1] \"a\" \"b\" \"f\""
            ]
          },
          "metadata": {}
        }
      ]
    },
    {
      "cell_type": "code",
      "source": [
        "environment()"
      ],
      "metadata": {
        "colab": {
          "base_uri": "https://localhost:8080/",
          "height": 34
        },
        "id": "ATjr5gVOidC3",
        "outputId": "2766d4ad-9f02-4666-de6e-004a665db3b2"
      },
      "execution_count": null,
      "outputs": [
        {
          "output_type": "display_data",
          "data": {
            "text/plain": [
              "<environment: R_GlobalEnv>"
            ]
          },
          "metadata": {}
        }
      ]
    },
    {
      "cell_type": "code",
      "source": [
        ".GlobalEnv"
      ],
      "metadata": {
        "colab": {
          "base_uri": "https://localhost:8080/",
          "height": 34
        },
        "id": "wcSF5maAihV0",
        "outputId": "69e96a57-040e-46c8-d043-b7403a522384"
      },
      "execution_count": null,
      "outputs": [
        {
          "output_type": "display_data",
          "data": {
            "text/plain": [
              "<environment: R_GlobalEnv>"
            ]
          },
          "metadata": {}
        }
      ]
    },
    {
      "cell_type": "code",
      "source": [
        "# ?save.image # para salvar entornos a disco"
      ],
      "metadata": {
        "id": "FlcX1KOsijtt"
      },
      "execution_count": null,
      "outputs": []
    },
    {
      "cell_type": "code",
      "source": [
        "f(10)"
      ],
      "metadata": {
        "colab": {
          "base_uri": "https://localhost:8080/"
        },
        "id": "_YcBK_fliy0Q",
        "outputId": "a03fed8d-9819-4f58-8130-116a4b61aa1a"
      },
      "execution_count": null,
      "outputs": [
        {
          "output_type": "stream",
          "name": "stdout",
          "text": [
            "<environment: 0x557f253553b8>\n"
          ]
        }
      ]
    },
    {
      "cell_type": "code",
      "source": [
        ""
      ],
      "metadata": {
        "id": "b1etKp7WjcHV"
      },
      "execution_count": null,
      "outputs": []
    }
  ]
}