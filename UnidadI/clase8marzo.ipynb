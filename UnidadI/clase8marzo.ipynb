{
  "nbformat": 4,
  "nbformat_minor": 0,
  "metadata": {
    "colab": {
      "name": "clase8marzo.ipynb",
      "provenance": [],
      "collapsed_sections": []
    },
    "kernelspec": {
      "name": "ir",
      "display_name": "R"
    },
    "language_info": {
      "name": "R"
    }
  },
  "cells": [
    {
      "cell_type": "code",
      "execution_count": null,
      "metadata": {
        "id": "9CKKx-BhEzNX",
        "colab": {
          "base_uri": "https://localhost:8080/",
          "height": 34
        },
        "outputId": "2f270182-c202-4704-86a9-3331e830be65"
      },
      "outputs": [
        {
          "output_type": "display_data",
          "data": {
            "text/plain": [
              "[1] 2"
            ],
            "text/latex": "2",
            "text/markdown": "2",
            "text/html": [
              "2"
            ]
          },
          "metadata": {}
        }
      ],
      "source": [
        "#1 + 1 "
      ]
    },
    {
      "cell_type": "markdown",
      "source": [
        "# Ejemplo de markdown \n",
        "\n",
        "Esto es una prueba \n",
        "## Titulo 2\n",
        "\n",
        "Esto es una prueba \n",
        "\n",
        "## Titulo 3\n",
        "\n",
        "Esto es una prueba \n",
        "\n",
        "\n",
        "# Titulo 4\n",
        "\n",
        "[Enlace](https://google.com)\n",
        "\n",
        "$$ z^2 = x^2 + y^2  $$\n",
        "\n",
        "Esta es una ecuación $ \\alpha = \\beta + 1 $.\n",
        "\n",
        "\n",
        "| Altura | Peso |\n",
        "|--------|------|\n",
        "| 1.7    | 150  |\n"
      ],
      "metadata": {
        "id": "SLuO6KIEGub-"
      }
    },
    {
      "cell_type": "markdown",
      "source": [
        "# Operadores en R "
      ],
      "metadata": {
        "id": "fUnND873LPog"
      }
    },
    {
      "cell_type": "code",
      "source": [
        "2 + 2"
      ],
      "metadata": {
        "colab": {
          "base_uri": "https://localhost:8080/",
          "height": 34
        },
        "id": "B-PakVg0LShG",
        "outputId": "bbbbcf4a-6ab0-401c-9e93-22597dc6e6e5"
      },
      "execution_count": null,
      "outputs": [
        {
          "output_type": "display_data",
          "data": {
            "text/plain": [
              "[1] 4"
            ],
            "text/latex": "4",
            "text/markdown": "4",
            "text/html": [
              "4"
            ]
          },
          "metadata": {}
        }
      ]
    },
    {
      "cell_type": "code",
      "source": [
        "1 + 2 * 3 "
      ],
      "metadata": {
        "colab": {
          "base_uri": "https://localhost:8080/",
          "height": 34
        },
        "id": "7xYwZqQZLTyi",
        "outputId": "c30d90df-6f03-41f5-e35d-e4ee98663dc6"
      },
      "execution_count": null,
      "outputs": [
        {
          "output_type": "display_data",
          "data": {
            "text/plain": [
              "[1] 7"
            ],
            "text/latex": "7",
            "text/markdown": "7",
            "text/html": [
              "7"
            ]
          },
          "metadata": {}
        }
      ]
    },
    {
      "cell_type": "code",
      "source": [
        "(1 + 2) * 3 "
      ],
      "metadata": {
        "colab": {
          "base_uri": "https://localhost:8080/",
          "height": 34
        },
        "id": "tJ6O7I35LWM3",
        "outputId": "2fa7b02e-800e-4be1-c531-ff17badf26cf"
      },
      "execution_count": null,
      "outputs": [
        {
          "output_type": "display_data",
          "data": {
            "text/plain": [
              "[1] 9"
            ],
            "text/latex": "9",
            "text/markdown": "9",
            "text/html": [
              "9"
            ]
          },
          "metadata": {}
        }
      ]
    },
    {
      "cell_type": "code",
      "source": [
        "(2 * 2) == 4"
      ],
      "metadata": {
        "colab": {
          "base_uri": "https://localhost:8080/",
          "height": 34
        },
        "id": "9YrnGV_KLmuU",
        "outputId": "263f40b0-0117-4a80-a932-8728a63caeff"
      },
      "execution_count": null,
      "outputs": [
        {
          "output_type": "display_data",
          "data": {
            "text/plain": [
              "[1] TRUE"
            ],
            "text/latex": "TRUE",
            "text/markdown": "TRUE",
            "text/html": [
              "TRUE"
            ]
          },
          "metadata": {}
        }
      ]
    },
    {
      "cell_type": "code",
      "source": [
        "pi "
      ],
      "metadata": {
        "colab": {
          "base_uri": "https://localhost:8080/",
          "height": 34
        },
        "id": "nAO-47FpLzid",
        "outputId": "ebcc885d-ac9d-4929-9367-b5030a3f3402"
      },
      "execution_count": null,
      "outputs": [
        {
          "output_type": "display_data",
          "data": {
            "text/plain": [
              "[1] 3.141593"
            ],
            "text/latex": "3.14159265358979",
            "text/markdown": "3.14159265358979",
            "text/html": [
              "3.14159265358979"
            ]
          },
          "metadata": {}
        }
      ]
    },
    {
      "cell_type": "code",
      "source": [
        "pi >= 10"
      ],
      "metadata": {
        "colab": {
          "base_uri": "https://localhost:8080/",
          "height": 34
        },
        "id": "yRw6-AuLMLRs",
        "outputId": "8734043b-052a-4b70-dd21-5d2f19e02d31"
      },
      "execution_count": null,
      "outputs": [
        {
          "output_type": "display_data",
          "data": {
            "text/plain": [
              "[1] FALSE"
            ],
            "text/latex": "FALSE",
            "text/markdown": "FALSE",
            "text/html": [
              "FALSE"
            ]
          },
          "metadata": {}
        }
      ]
    },
    {
      "cell_type": "code",
      "source": [
        "pi < 1"
      ],
      "metadata": {
        "colab": {
          "base_uri": "https://localhost:8080/",
          "height": 34
        },
        "id": "rc8fzYsIMNXT",
        "outputId": "e4b3d176-07a6-4547-e029-b80b69bd35a5"
      },
      "execution_count": null,
      "outputs": [
        {
          "output_type": "display_data",
          "data": {
            "text/plain": [
              "[1] FALSE"
            ],
            "text/latex": "FALSE",
            "text/markdown": "FALSE",
            "text/html": [
              "FALSE"
            ]
          },
          "metadata": {}
        }
      ]
    },
    {
      "cell_type": "markdown",
      "source": [
        "# Variables\n",
        "\n",
        "Digamos que una persona pesa 55 kilogramos y queremos almacenar esta información en una variable, esto lo podes hacer de la siguiente manera. "
      ],
      "metadata": {
        "id": "Q65sTJAuMY3M"
      }
    },
    {
      "cell_type": "code",
      "source": [
        "weight_kg1 = 55"
      ],
      "metadata": {
        "id": "bY48aiNKMbiG"
      },
      "execution_count": null,
      "outputs": []
    },
    {
      "cell_type": "code",
      "source": [
        "weight_kg2 <- 55"
      ],
      "metadata": {
        "id": "Cyf-23ohMwOG"
      },
      "execution_count": null,
      "outputs": []
    },
    {
      "cell_type": "code",
      "source": [
        "weight_kg1 == weight_kg2"
      ],
      "metadata": {
        "colab": {
          "base_uri": "https://localhost:8080/",
          "height": 34
        },
        "id": "g926ujvMNFoW",
        "outputId": "16a3ad39-c468-4b81-c5c2-daabc4e3d092"
      },
      "execution_count": null,
      "outputs": [
        {
          "output_type": "display_data",
          "data": {
            "text/plain": [
              "[1] TRUE"
            ],
            "text/latex": "TRUE",
            "text/markdown": "TRUE",
            "text/html": [
              "TRUE"
            ]
          },
          "metadata": {}
        }
      ]
    },
    {
      "cell_type": "markdown",
      "source": [
        "De aqui en adelante vamos a usar el operador de asignación <- en lugar del =. La elección de esto es por conveniencia, sin embargo, en un ambiente profesional se le podria dar mas prioridad al =. "
      ],
      "metadata": {
        "id": "K3P7noaLPcft"
      }
    },
    {
      "cell_type": "code",
      "source": [
        "hola mundo <- 10 # no es un nombre valido de variable."
      ],
      "metadata": {
        "colab": {
          "base_uri": "https://localhost:8080/",
          "height": 134
        },
        "id": "0dLhwVhYNIMH",
        "outputId": "76c71f5a-ded5-461e-cd05-fe8bcb04be08"
      },
      "execution_count": null,
      "outputs": [
        {
          "output_type": "error",
          "ename": "ERROR",
          "evalue": "ignored",
          "traceback": [
            "Error in parse(text = x, srcfile = src): <text>:1:6: unexpected symbol\n1: hola mundo\n         ^\nTraceback:\n"
          ]
        }
      ]
    },
    {
      "cell_type": "code",
      "source": [
        "canción <- \"el himno de la alegria\""
      ],
      "metadata": {
        "id": "fIE9ZlbKPbcu"
      },
      "execution_count": null,
      "outputs": []
    },
    {
      "cell_type": "code",
      "source": [
        "canción"
      ],
      "metadata": {
        "colab": {
          "base_uri": "https://localhost:8080/",
          "height": 34
        },
        "id": "JKcDLcoiP4Nc",
        "outputId": "f9386130-5843-4f7b-e504-4121a3ac1692"
      },
      "execution_count": null,
      "outputs": [
        {
          "output_type": "display_data",
          "data": {
            "text/plain": [
              "[1] \"el himno de la alegria\""
            ],
            "text/latex": "'el himno de la alegria'",
            "text/markdown": "'el himno de la alegria'",
            "text/html": [
              "'el himno de la alegria'"
            ]
          },
          "metadata": {}
        }
      ]
    },
    {
      "cell_type": "markdown",
      "source": [
        "Poner acentos en las variables es una mala práctica, no lo hagan puede crear confusión con personas que no hablen español. "
      ],
      "metadata": {
        "id": "-j2geMluP7YB"
      }
    },
    {
      "cell_type": "code",
      "source": [
        "2.2 * weight_kg1 # haciendo aritmetica con variables"
      ],
      "metadata": {
        "colab": {
          "base_uri": "https://localhost:8080/",
          "height": 34
        },
        "id": "k3MZwcTMP6I0",
        "outputId": "0f5ae1b7-7b3f-4e50-c1d7-9c3f5c306dd0"
      },
      "execution_count": null,
      "outputs": [
        {
          "output_type": "display_data",
          "data": {
            "text/plain": [
              "[1] 121"
            ],
            "text/latex": "121",
            "text/markdown": "121",
            "text/html": [
              "121"
            ]
          },
          "metadata": {}
        }
      ]
    },
    {
      "cell_type": "code",
      "source": [
        "weight_kg1 <- 57.5 # reasignando valores \n",
        "weight_kg1"
      ],
      "metadata": {
        "colab": {
          "base_uri": "https://localhost:8080/",
          "height": 34
        },
        "id": "5xJqSNgBQiZE",
        "outputId": "3e8b82e2-1e13-4268-cd51-61e51ef36d16"
      },
      "execution_count": null,
      "outputs": [
        {
          "output_type": "display_data",
          "data": {
            "text/plain": [
              "[1] 57.5"
            ],
            "text/latex": "57.5",
            "text/markdown": "57.5",
            "text/html": [
              "57.5"
            ]
          },
          "metadata": {}
        }
      ]
    },
    {
      "cell_type": "code",
      "source": [
        "weight_kg1 <- 2.2 * weight_kg1\n",
        "weight_kg1 "
      ],
      "metadata": {
        "colab": {
          "base_uri": "https://localhost:8080/",
          "height": 34
        },
        "id": "sdLcjxtEQvz_",
        "outputId": "66ee1b62-b1a2-4423-a020-2a84ae2fb8c6"
      },
      "execution_count": null,
      "outputs": [
        {
          "output_type": "display_data",
          "data": {
            "text/plain": [
              "[1] 126.5"
            ],
            "text/latex": "126.5",
            "text/markdown": "126.5",
            "text/html": [
              "126.5"
            ]
          },
          "metadata": {}
        }
      ]
    },
    {
      "cell_type": "code",
      "source": [
        "weight_lb1 <- 2.2 * weight_kg1\n",
        "weight_lb1\n",
        "weight_kg1"
      ],
      "metadata": {
        "colab": {
          "base_uri": "https://localhost:8080/",
          "height": 52
        },
        "id": "cI_76BGOQ2TG",
        "outputId": "b712f5c9-c23a-46fb-89a3-d5aa76d8b15b"
      },
      "execution_count": null,
      "outputs": [
        {
          "output_type": "display_data",
          "data": {
            "text/plain": [
              "[1] 278.3"
            ],
            "text/latex": "278.3",
            "text/markdown": "278.3",
            "text/html": [
              "278.3"
            ]
          },
          "metadata": {}
        },
        {
          "output_type": "display_data",
          "data": {
            "text/plain": [
              "[1] 126.5"
            ],
            "text/latex": "126.5",
            "text/markdown": "126.5",
            "text/html": [
              "126.5"
            ]
          },
          "metadata": {}
        }
      ]
    },
    {
      "cell_type": "code",
      "source": [
        "weight_kg1 <- 100.0 \n",
        "weight_kg1"
      ],
      "metadata": {
        "colab": {
          "base_uri": "https://localhost:8080/",
          "height": 34
        },
        "id": "5mNCtoSPRUb8",
        "outputId": "0908268d-8b70-4150-9915-a90485bcadb6"
      },
      "execution_count": null,
      "outputs": [
        {
          "output_type": "display_data",
          "data": {
            "text/plain": [
              "[1] 100"
            ],
            "text/latex": "100",
            "text/markdown": "100",
            "text/html": [
              "100"
            ]
          },
          "metadata": {}
        }
      ]
    },
    {
      "cell_type": "code",
      "source": [
        "weight_lb1"
      ],
      "metadata": {
        "colab": {
          "base_uri": "https://localhost:8080/",
          "height": 34
        },
        "id": "lmUGXHGzRkte",
        "outputId": "14d99a4b-fcf6-4a66-c24a-3b1d92434786"
      },
      "execution_count": null,
      "outputs": [
        {
          "output_type": "display_data",
          "data": {
            "text/plain": [
              "[1] 278.3"
            ],
            "text/latex": "278.3",
            "text/markdown": "278.3",
            "text/html": [
              "278.3"
            ]
          },
          "metadata": {}
        }
      ]
    },
    {
      "cell_type": "markdown",
      "source": [
        "# Vectores\n",
        "\n",
        "Un vector de numeros es una colección de numeros. Los miembros individuales se les llama elementos. "
      ],
      "metadata": {
        "id": "O0iAhbR-SBgF"
      }
    },
    {
      "cell_type": "code",
      "source": [
        "myvec <- c(10, 20, 30, 40, 50) # creamos un vector numerico de 5 elementos."
      ],
      "metadata": {
        "id": "RYiCfvDvSEt8"
      },
      "execution_count": null,
      "outputs": []
    },
    {
      "cell_type": "code",
      "source": [
        "myvec"
      ],
      "metadata": {
        "colab": {
          "base_uri": "https://localhost:8080/",
          "height": 34
        },
        "id": "kwhIjLT5Sde2",
        "outputId": "a23a1b5d-cc7b-4e43-d798-b40fadc3bc2a"
      },
      "execution_count": null,
      "outputs": [
        {
          "output_type": "display_data",
          "data": {
            "text/plain": [
              "[1] 10 20 30 40 50"
            ],
            "text/latex": "\\begin{enumerate*}\n\\item 10\n\\item 20\n\\item 30\n\\item 40\n\\item 50\n\\end{enumerate*}\n",
            "text/markdown": "1. 10\n2. 20\n3. 30\n4. 40\n5. 50\n\n\n",
            "text/html": [
              "<style>\n",
              ".list-inline {list-style: none; margin:0; padding: 0}\n",
              ".list-inline>li {display: inline-block}\n",
              ".list-inline>li:not(:last-child)::after {content: \"\\00b7\"; padding: 0 .5ex}\n",
              "</style>\n",
              "<ol class=list-inline><li>10</li><li>20</li><li>30</li><li>40</li><li>50</li></ol>\n"
            ]
          },
          "metadata": {}
        }
      ]
    },
    {
      "cell_type": "code",
      "source": [
        "str(myvec)"
      ],
      "metadata": {
        "colab": {
          "base_uri": "https://localhost:8080/"
        },
        "id": "Y0e_sctmSf_t",
        "outputId": "52a50383-52f9-4f0e-d003-285ea7b9dbb3"
      },
      "execution_count": null,
      "outputs": [
        {
          "output_type": "stream",
          "name": "stdout",
          "text": [
            " num [1:5] 10 20 30 40 50\n"
          ]
        }
      ]
    },
    {
      "cell_type": "code",
      "source": [
        "myvec + 1 "
      ],
      "metadata": {
        "colab": {
          "base_uri": "https://localhost:8080/",
          "height": 34
        },
        "id": "i-mtcB6rSirL",
        "outputId": "aeedff09-af2c-44ea-f0ff-d7e9522e0397"
      },
      "execution_count": null,
      "outputs": [
        {
          "output_type": "display_data",
          "data": {
            "text/plain": [
              "[1] 11 21 31 41 51"
            ],
            "text/latex": "\\begin{enumerate*}\n\\item 11\n\\item 21\n\\item 31\n\\item 41\n\\item 51\n\\end{enumerate*}\n",
            "text/markdown": "1. 11\n2. 21\n3. 31\n4. 41\n5. 51\n\n\n",
            "text/html": [
              "<style>\n",
              ".list-inline {list-style: none; margin:0; padding: 0}\n",
              ".list-inline>li {display: inline-block}\n",
              ".list-inline>li:not(:last-child)::after {content: \"\\00b7\"; padding: 0 .5ex}\n",
              "</style>\n",
              "<ol class=list-inline><li>11</li><li>21</li><li>31</li><li>41</li><li>51</li></ol>\n"
            ]
          },
          "metadata": {}
        }
      ]
    },
    {
      "cell_type": "code",
      "source": [
        "myvec + myvec "
      ],
      "metadata": {
        "colab": {
          "base_uri": "https://localhost:8080/",
          "height": 34
        },
        "id": "yzP61xUCSpcp",
        "outputId": "f3e20c90-cd6d-4af1-f179-488647c82daa"
      },
      "execution_count": null,
      "outputs": [
        {
          "output_type": "display_data",
          "data": {
            "text/plain": [
              "[1]  20  40  60  80 100"
            ],
            "text/latex": "\\begin{enumerate*}\n\\item 20\n\\item 40\n\\item 60\n\\item 80\n\\item 100\n\\end{enumerate*}\n",
            "text/markdown": "1. 20\n2. 40\n3. 60\n4. 80\n5. 100\n\n\n",
            "text/html": [
              "<style>\n",
              ".list-inline {list-style: none; margin:0; padding: 0}\n",
              ".list-inline>li {display: inline-block}\n",
              ".list-inline>li:not(:last-child)::after {content: \"\\00b7\"; padding: 0 .5ex}\n",
              "</style>\n",
              "<ol class=list-inline><li>20</li><li>40</li><li>60</li><li>80</li><li>100</li></ol>\n"
            ]
          },
          "metadata": {}
        }
      ]
    },
    {
      "cell_type": "code",
      "source": [
        "length(myvec)"
      ],
      "metadata": {
        "colab": {
          "base_uri": "https://localhost:8080/",
          "height": 34
        },
        "id": "98z279KZStMA",
        "outputId": "2d732a8a-29ee-49ee-f0bf-e85ca8a5b0ab"
      },
      "execution_count": null,
      "outputs": [
        {
          "output_type": "display_data",
          "data": {
            "text/plain": [
              "[1] 5"
            ],
            "text/latex": "5",
            "text/markdown": "5",
            "text/html": [
              "5"
            ]
          },
          "metadata": {}
        }
      ]
    },
    {
      "cell_type": "code",
      "source": [
        "c(60, myvec)"
      ],
      "metadata": {
        "colab": {
          "base_uri": "https://localhost:8080/",
          "height": 34
        },
        "id": "7hkO4fFsSv8g",
        "outputId": "3cf8c939-8364-4238-ec72-a6b43477ec0b"
      },
      "execution_count": null,
      "outputs": [
        {
          "output_type": "display_data",
          "data": {
            "text/plain": [
              "[1] 60 10 20 30 40 50"
            ],
            "text/latex": "\\begin{enumerate*}\n\\item 60\n\\item 10\n\\item 20\n\\item 30\n\\item 40\n\\item 50\n\\end{enumerate*}\n",
            "text/markdown": "1. 60\n2. 10\n3. 20\n4. 30\n5. 40\n6. 50\n\n\n",
            "text/html": [
              "<style>\n",
              ".list-inline {list-style: none; margin:0; padding: 0}\n",
              ".list-inline>li {display: inline-block}\n",
              ".list-inline>li:not(:last-child)::after {content: \"\\00b7\"; padding: 0 .5ex}\n",
              "</style>\n",
              "<ol class=list-inline><li>60</li><li>10</li><li>20</li><li>30</li><li>40</li><li>50</li></ol>\n"
            ]
          },
          "metadata": {}
        }
      ]
    },
    {
      "cell_type": "code",
      "source": [
        "myvec2 <- c(60, myvec)"
      ],
      "metadata": {
        "id": "EDAmVTM4S9Yt"
      },
      "execution_count": null,
      "outputs": []
    },
    {
      "cell_type": "code",
      "source": [
        "myvec2"
      ],
      "metadata": {
        "id": "rNhapTmkTDNx",
        "outputId": "b7259878-a523-4681-8cba-fc00802c6d22",
        "colab": {
          "base_uri": "https://localhost:8080/",
          "height": 34
        }
      },
      "execution_count": null,
      "outputs": [
        {
          "output_type": "display_data",
          "data": {
            "text/plain": [
              "[1] 60 10 20 30 40 50"
            ],
            "text/latex": "\\begin{enumerate*}\n\\item 60\n\\item 10\n\\item 20\n\\item 30\n\\item 40\n\\item 50\n\\end{enumerate*}\n",
            "text/markdown": "1. 60\n2. 10\n3. 20\n4. 30\n5. 40\n6. 50\n\n\n",
            "text/html": [
              "<style>\n",
              ".list-inline {list-style: none; margin:0; padding: 0}\n",
              ".list-inline>li {display: inline-block}\n",
              ".list-inline>li:not(:last-child)::after {content: \"\\00b7\"; padding: 0 .5ex}\n",
              "</style>\n",
              "<ol class=list-inline><li>60</li><li>10</li><li>20</li><li>30</li><li>40</li><li>50</li></ol>\n"
            ]
          },
          "metadata": {}
        }
      ]
    },
    {
      "cell_type": "code",
      "source": [
        "c(myvec, myvec)"
      ],
      "metadata": {
        "id": "IlOQ7y_ETEUa",
        "outputId": "6be2719b-ab20-4f38-9f36-18d8097783ed",
        "colab": {
          "base_uri": "https://localhost:8080/",
          "height": 34
        }
      },
      "execution_count": null,
      "outputs": [
        {
          "output_type": "display_data",
          "data": {
            "text/plain": [
              " [1] 10 20 30 40 50 10 20 30 40 50"
            ],
            "text/latex": "\\begin{enumerate*}\n\\item 10\n\\item 20\n\\item 30\n\\item 40\n\\item 50\n\\item 10\n\\item 20\n\\item 30\n\\item 40\n\\item 50\n\\end{enumerate*}\n",
            "text/markdown": "1. 10\n2. 20\n3. 30\n4. 40\n5. 50\n6. 10\n7. 20\n8. 30\n9. 40\n10. 50\n\n\n",
            "text/html": [
              "<style>\n",
              ".list-inline {list-style: none; margin:0; padding: 0}\n",
              ".list-inline>li {display: inline-block}\n",
              ".list-inline>li:not(:last-child)::after {content: \"\\00b7\"; padding: 0 .5ex}\n",
              "</style>\n",
              "<ol class=list-inline><li>10</li><li>20</li><li>30</li><li>40</li><li>50</li><li>10</li><li>20</li><li>30</li><li>40</li><li>50</li></ol>\n"
            ]
          },
          "metadata": {}
        }
      ]
    },
    {
      "cell_type": "markdown",
      "source": [
        "Crear un vector con las notas que obtuviste el anterior ciclo y asignarlo a la variable notas."
      ],
      "metadata": {
        "id": "-x8h0fCaJOLP"
      }
    },
    {
      "cell_type": "code",
      "source": [
        "notas <- c(10, 7, 8, 9)\n",
        "notas"
      ],
      "metadata": {
        "id": "txazbV89TIYI",
        "colab": {
          "base_uri": "https://localhost:8080/",
          "height": 34
        },
        "outputId": "dcd9cfba-9bfc-489d-c940-9be926046268"
      },
      "execution_count": null,
      "outputs": [
        {
          "output_type": "display_data",
          "data": {
            "text/plain": [
              "[1] 10  7  8  9"
            ],
            "text/latex": "\\begin{enumerate*}\n\\item 10\n\\item 7\n\\item 8\n\\item 9\n\\end{enumerate*}\n",
            "text/markdown": "1. 10\n2. 7\n3. 8\n4. 9\n\n\n",
            "text/html": [
              "<style>\n",
              ".list-inline {list-style: none; margin:0; padding: 0}\n",
              ".list-inline>li {display: inline-block}\n",
              ".list-inline>li:not(:last-child)::after {content: \"\\00b7\"; padding: 0 .5ex}\n",
              "</style>\n",
              "<ol class=list-inline><li>10</li><li>7</li><li>8</li><li>9</li></ol>\n"
            ]
          },
          "metadata": {}
        }
      ]
    },
    {
      "cell_type": "markdown",
      "source": [
        "## Tipos de vectores "
      ],
      "metadata": {
        "id": "mW8FB-t-J_lM"
      }
    },
    {
      "cell_type": "code",
      "source": [
        "vector_cadenas = c(\"hola\", \"mundo\") # vector de cadenas"
      ],
      "metadata": {
        "id": "JSZzU9piKCj1"
      },
      "execution_count": null,
      "outputs": []
    },
    {
      "cell_type": "code",
      "source": [
        "vector_cadenas"
      ],
      "metadata": {
        "colab": {
          "base_uri": "https://localhost:8080/",
          "height": 34
        },
        "id": "FpNyUfxgKIbt",
        "outputId": "1498d46f-bf2f-4596-fe87-2e40344d3409"
      },
      "execution_count": null,
      "outputs": [
        {
          "output_type": "display_data",
          "data": {
            "text/plain": [
              "[1] \"hola\"  \"mundo\""
            ],
            "text/latex": "\\begin{enumerate*}\n\\item 'hola'\n\\item 'mundo'\n\\end{enumerate*}\n",
            "text/markdown": "1. 'hola'\n2. 'mundo'\n\n\n",
            "text/html": [
              "<style>\n",
              ".list-inline {list-style: none; margin:0; padding: 0}\n",
              ".list-inline>li {display: inline-block}\n",
              ".list-inline>li:not(:last-child)::after {content: \"\\00b7\"; padding: 0 .5ex}\n",
              "</style>\n",
              "<ol class=list-inline><li>'hola'</li><li>'mundo'</li></ol>\n"
            ]
          },
          "metadata": {}
        }
      ]
    },
    {
      "cell_type": "code",
      "source": [
        "vector_logicos = c(TRUE, FALSE, TRUE, TRUE) # vector de valores logicos\n",
        "vector_logicos"
      ],
      "metadata": {
        "colab": {
          "base_uri": "https://localhost:8080/",
          "height": 34
        },
        "id": "XaB1pDy-KJZc",
        "outputId": "bf0d884e-1b83-409d-90da-2fb2dd6665cd"
      },
      "execution_count": null,
      "outputs": [
        {
          "output_type": "display_data",
          "data": {
            "text/plain": [
              "[1]  TRUE FALSE  TRUE  TRUE"
            ],
            "text/latex": "\\begin{enumerate*}\n\\item TRUE\n\\item FALSE\n\\item TRUE\n\\item TRUE\n\\end{enumerate*}\n",
            "text/markdown": "1. TRUE\n2. FALSE\n3. TRUE\n4. TRUE\n\n\n",
            "text/html": [
              "<style>\n",
              ".list-inline {list-style: none; margin:0; padding: 0}\n",
              ".list-inline>li {display: inline-block}\n",
              ".list-inline>li:not(:last-child)::after {content: \"\\00b7\"; padding: 0 .5ex}\n",
              "</style>\n",
              "<ol class=list-inline><li>TRUE</li><li>FALSE</li><li>TRUE</li><li>TRUE</li></ol>\n"
            ]
          },
          "metadata": {}
        }
      ]
    },
    {
      "cell_type": "markdown",
      "source": [
        "¿Que pasa si creo un vector que tenga a su vez valores númericos y valores tipo cadena (string)? "
      ],
      "metadata": {
        "id": "vr71uU8NKlZN"
      }
    },
    {
      "cell_type": "code",
      "source": [
        "vector_logico_y_cadena = c(10, \"Hola\", 9, \"mundo\")"
      ],
      "metadata": {
        "id": "yOH7wsMGKU_X"
      },
      "execution_count": null,
      "outputs": []
    },
    {
      "cell_type": "code",
      "source": [
        "vector_logico_y_cadena"
      ],
      "metadata": {
        "colab": {
          "base_uri": "https://localhost:8080/",
          "height": 34
        },
        "id": "Y4RsxXl9LM-X",
        "outputId": "3eacb819-939f-491d-8e3c-3ce686e4eaab"
      },
      "execution_count": null,
      "outputs": [
        {
          "output_type": "display_data",
          "data": {
            "text/plain": [
              "[1] \"10\"    \"Hola\"  \"9\"     \"mundo\""
            ],
            "text/latex": "\\begin{enumerate*}\n\\item '10'\n\\item 'Hola'\n\\item '9'\n\\item 'mundo'\n\\end{enumerate*}\n",
            "text/markdown": "1. '10'\n2. 'Hola'\n3. '9'\n4. 'mundo'\n\n\n",
            "text/html": [
              "<style>\n",
              ".list-inline {list-style: none; margin:0; padding: 0}\n",
              ".list-inline>li {display: inline-block}\n",
              ".list-inline>li:not(:last-child)::after {content: \"\\00b7\"; padding: 0 .5ex}\n",
              "</style>\n",
              "<ol class=list-inline><li>'10'</li><li>'Hola'</li><li>'9'</li><li>'mundo'</li></ol>\n"
            ]
          },
          "metadata": {}
        }
      ]
    },
    {
      "cell_type": "code",
      "source": [
        "vector_enteros_y_flotantes = c(10, 10.9, pi)\n",
        "vector_enteros_y_flotantes"
      ],
      "metadata": {
        "colab": {
          "base_uri": "https://localhost:8080/",
          "height": 34
        },
        "id": "GZiqNZZtLOZ2",
        "outputId": "088b83c3-57cb-4100-fc0d-3aeee059afc8"
      },
      "execution_count": null,
      "outputs": [
        {
          "output_type": "display_data",
          "data": {
            "text/plain": [
              "[1] 10.000000 10.900000  3.141593"
            ],
            "text/latex": "\\begin{enumerate*}\n\\item 10\n\\item 10.9\n\\item 3.14159265358979\n\\end{enumerate*}\n",
            "text/markdown": "1. 10\n2. 10.9\n3. 3.14159265358979\n\n\n",
            "text/html": [
              "<style>\n",
              ".list-inline {list-style: none; margin:0; padding: 0}\n",
              ".list-inline>li {display: inline-block}\n",
              ".list-inline>li:not(:last-child)::after {content: \"\\00b7\"; padding: 0 .5ex}\n",
              "</style>\n",
              "<ol class=list-inline><li>10</li><li>10.9</li><li>3.14159265358979</li></ol>\n"
            ]
          },
          "metadata": {}
        }
      ]
    },
    {
      "cell_type": "markdown",
      "source": [
        "## Indexamiento de vectores"
      ],
      "metadata": {
        "id": "YNmLkF_4Lr_c"
      }
    },
    {
      "cell_type": "code",
      "source": [
        "myvec"
      ],
      "metadata": {
        "colab": {
          "base_uri": "https://localhost:8080/",
          "height": 34
        },
        "id": "ijKNW7_eLt_Y",
        "outputId": "c7816b39-8770-48cc-acf6-469c73965da1"
      },
      "execution_count": null,
      "outputs": [
        {
          "output_type": "display_data",
          "data": {
            "text/plain": [
              "[1] 10 20 30 40 50"
            ],
            "text/latex": "\\begin{enumerate*}\n\\item 10\n\\item 20\n\\item 30\n\\item 40\n\\item 50\n\\end{enumerate*}\n",
            "text/markdown": "1. 10\n2. 20\n3. 30\n4. 40\n5. 50\n\n\n",
            "text/html": [
              "<style>\n",
              ".list-inline {list-style: none; margin:0; padding: 0}\n",
              ".list-inline>li {display: inline-block}\n",
              ".list-inline>li:not(:last-child)::after {content: \"\\00b7\"; padding: 0 .5ex}\n",
              "</style>\n",
              "<ol class=list-inline><li>10</li><li>20</li><li>30</li><li>40</li><li>50</li></ol>\n"
            ]
          },
          "metadata": {}
        }
      ]
    },
    {
      "cell_type": "code",
      "source": [
        "myvec[1] # accesando al primer elemento "
      ],
      "metadata": {
        "colab": {
          "base_uri": "https://localhost:8080/",
          "height": 34
        },
        "id": "zkxBDRw3LxjY",
        "outputId": "d25418b2-30b1-4654-a8cb-54e919de2e73"
      },
      "execution_count": null,
      "outputs": [
        {
          "output_type": "display_data",
          "data": {
            "text/plain": [
              "[1] 10"
            ],
            "text/latex": "10",
            "text/markdown": "10",
            "text/html": [
              "10"
            ]
          },
          "metadata": {}
        }
      ]
    },
    {
      "cell_type": "code",
      "source": [
        "myvec[2]"
      ],
      "metadata": {
        "colab": {
          "base_uri": "https://localhost:8080/",
          "height": 34
        },
        "id": "oGeDhzLvL1aO",
        "outputId": "bd46f0c7-9283-43f7-9f1b-10040fc9d725"
      },
      "execution_count": null,
      "outputs": [
        {
          "output_type": "display_data",
          "data": {
            "text/plain": [
              "[1] 20"
            ],
            "text/latex": "20",
            "text/markdown": "20",
            "text/html": [
              "20"
            ]
          },
          "metadata": {}
        }
      ]
    },
    {
      "cell_type": "code",
      "source": [
        "myvec[2] <- 5"
      ],
      "metadata": {
        "id": "HUz0RreuL7LM"
      },
      "execution_count": null,
      "outputs": []
    },
    {
      "cell_type": "code",
      "source": [
        "myvec"
      ],
      "metadata": {
        "colab": {
          "base_uri": "https://localhost:8080/",
          "height": 34
        },
        "id": "rX5cb9GpMAXU",
        "outputId": "49808d01-c7fd-4548-ff23-823f5c599915"
      },
      "execution_count": null,
      "outputs": [
        {
          "output_type": "display_data",
          "data": {
            "text/plain": [
              "[1] 10  5 30 40 50"
            ],
            "text/latex": "\\begin{enumerate*}\n\\item 10\n\\item 5\n\\item 30\n\\item 40\n\\item 50\n\\end{enumerate*}\n",
            "text/markdown": "1. 10\n2. 5\n3. 30\n4. 40\n5. 50\n\n\n",
            "text/html": [
              "<style>\n",
              ".list-inline {list-style: none; margin:0; padding: 0}\n",
              ".list-inline>li {display: inline-block}\n",
              ".list-inline>li:not(:last-child)::after {content: \"\\00b7\"; padding: 0 .5ex}\n",
              "</style>\n",
              "<ol class=list-inline><li>10</li><li>5</li><li>30</li><li>40</li><li>50</li></ol>\n"
            ]
          },
          "metadata": {}
        }
      ]
    },
    {
      "cell_type": "markdown",
      "source": [
        "¿Podemos usar un vector para indexar un vector? "
      ],
      "metadata": {
        "id": "rNcsTfDCMFhR"
      }
    },
    {
      "cell_type": "code",
      "source": [
        "myvec[c(4, 3, 2)]"
      ],
      "metadata": {
        "colab": {
          "base_uri": "https://localhost:8080/",
          "height": 34
        },
        "id": "Fle6xUnvMBAJ",
        "outputId": "75627c8f-b209-4df4-c188-c8f0733b411a"
      },
      "execution_count": null,
      "outputs": [
        {
          "output_type": "display_data",
          "data": {
            "text/plain": [
              "[1] 40 30  5"
            ],
            "text/latex": "\\begin{enumerate*}\n\\item 40\n\\item 30\n\\item 5\n\\end{enumerate*}\n",
            "text/markdown": "1. 40\n2. 30\n3. 5\n\n\n",
            "text/html": [
              "<style>\n",
              ".list-inline {list-style: none; margin:0; padding: 0}\n",
              ".list-inline>li {display: inline-block}\n",
              ".list-inline>li:not(:last-child)::after {content: \"\\00b7\"; padding: 0 .5ex}\n",
              "</style>\n",
              "<ol class=list-inline><li>40</li><li>30</li><li>5</li></ol>\n"
            ]
          },
          "metadata": {}
        }
      ]
    },
    {
      "cell_type": "code",
      "source": [
        "myind <- c(4, 3, 4)\n",
        "myvec[myind]"
      ],
      "metadata": {
        "colab": {
          "base_uri": "https://localhost:8080/",
          "height": 34
        },
        "id": "p3yCBZ3zMbiH",
        "outputId": "6f9393e4-a417-4a2c-c029-4fea6ea48fa0"
      },
      "execution_count": null,
      "outputs": [
        {
          "output_type": "display_data",
          "data": {
            "text/plain": [
              "[1] 40 30 40"
            ],
            "text/latex": "\\begin{enumerate*}\n\\item 40\n\\item 30\n\\item 40\n\\end{enumerate*}\n",
            "text/markdown": "1. 40\n2. 30\n3. 40\n\n\n",
            "text/html": [
              "<style>\n",
              ".list-inline {list-style: none; margin:0; padding: 0}\n",
              ".list-inline>li {display: inline-block}\n",
              ".list-inline>li:not(:last-child)::after {content: \"\\00b7\"; padding: 0 .5ex}\n",
              "</style>\n",
              "<ol class=list-inline><li>40</li><li>30</li><li>40</li></ol>\n"
            ]
          },
          "metadata": {}
        }
      ]
    },
    {
      "cell_type": "code",
      "source": [
        "1:10"
      ],
      "metadata": {
        "colab": {
          "base_uri": "https://localhost:8080/",
          "height": 34
        },
        "id": "5zDOwJV9Mq6g",
        "outputId": "c1a02b22-ce18-412a-be07-5eb3913bb604"
      },
      "execution_count": null,
      "outputs": [
        {
          "output_type": "display_data",
          "data": {
            "text/plain": [
              " [1]  1  2  3  4  5  6  7  8  9 10"
            ],
            "text/latex": "\\begin{enumerate*}\n\\item 1\n\\item 2\n\\item 3\n\\item 4\n\\item 5\n\\item 6\n\\item 7\n\\item 8\n\\item 9\n\\item 10\n\\end{enumerate*}\n",
            "text/markdown": "1. 1\n2. 2\n3. 3\n4. 4\n5. 5\n6. 6\n7. 7\n8. 8\n9. 9\n10. 10\n\n\n",
            "text/html": [
              "<style>\n",
              ".list-inline {list-style: none; margin:0; padding: 0}\n",
              ".list-inline>li {display: inline-block}\n",
              ".list-inline>li:not(:last-child)::after {content: \"\\00b7\"; padding: 0 .5ex}\n",
              "</style>\n",
              "<ol class=list-inline><li>1</li><li>2</li><li>3</li><li>4</li><li>5</li><li>6</li><li>7</li><li>8</li><li>9</li><li>10</li></ol>\n"
            ]
          },
          "metadata": {}
        }
      ]
    },
    {
      "cell_type": "code",
      "source": [
        "myvec[2:4]"
      ],
      "metadata": {
        "colab": {
          "base_uri": "https://localhost:8080/",
          "height": 34
        },
        "id": "SOwi7dpXMzwl",
        "outputId": "268e1d42-92e4-443f-af8e-72b551fe446f"
      },
      "execution_count": null,
      "outputs": [
        {
          "output_type": "display_data",
          "data": {
            "text/plain": [
              "[1]  5 30 40"
            ],
            "text/latex": "\\begin{enumerate*}\n\\item 5\n\\item 30\n\\item 40\n\\end{enumerate*}\n",
            "text/markdown": "1. 5\n2. 30\n3. 40\n\n\n",
            "text/html": [
              "<style>\n",
              ".list-inline {list-style: none; margin:0; padding: 0}\n",
              ".list-inline>li {display: inline-block}\n",
              ".list-inline>li:not(:last-child)::after {content: \"\\00b7\"; padding: 0 .5ex}\n",
              "</style>\n",
              "<ol class=list-inline><li>5</li><li>30</li><li>40</li></ol>\n"
            ]
          },
          "metadata": {}
        }
      ]
    },
    {
      "cell_type": "code",
      "source": [
        "myvec[4:2]"
      ],
      "metadata": {
        "colab": {
          "base_uri": "https://localhost:8080/",
          "height": 34
        },
        "id": "PO7vEa8zM9Gx",
        "outputId": "e5a6e0fc-b548-4e4a-c259-bad48551d552"
      },
      "execution_count": null,
      "outputs": [
        {
          "output_type": "display_data",
          "data": {
            "text/plain": [
              "[1] 40 30  5"
            ],
            "text/latex": "\\begin{enumerate*}\n\\item 40\n\\item 30\n\\item 5\n\\end{enumerate*}\n",
            "text/markdown": "1. 40\n2. 30\n3. 5\n\n\n",
            "text/html": [
              "<style>\n",
              ".list-inline {list-style: none; margin:0; padding: 0}\n",
              ".list-inline>li {display: inline-block}\n",
              ".list-inline>li:not(:last-child)::after {content: \"\\00b7\"; padding: 0 .5ex}\n",
              "</style>\n",
              "<ol class=list-inline><li>40</li><li>30</li><li>5</li></ol>\n"
            ]
          },
          "metadata": {}
        }
      ]
    },
    {
      "cell_type": "code",
      "source": [
        "10:5"
      ],
      "metadata": {
        "colab": {
          "base_uri": "https://localhost:8080/",
          "height": 34
        },
        "id": "h3IRU7uUNDbG",
        "outputId": "86808c42-c766-4a54-92d3-c6be6739fdb4"
      },
      "execution_count": null,
      "outputs": [
        {
          "output_type": "display_data",
          "data": {
            "text/plain": [
              "[1] 10  9  8  7  6  5"
            ],
            "text/latex": "\\begin{enumerate*}\n\\item 10\n\\item 9\n\\item 8\n\\item 7\n\\item 6\n\\item 5\n\\end{enumerate*}\n",
            "text/markdown": "1. 10\n2. 9\n3. 8\n4. 7\n5. 6\n6. 5\n\n\n",
            "text/html": [
              "<style>\n",
              ".list-inline {list-style: none; margin:0; padding: 0}\n",
              ".list-inline>li {display: inline-block}\n",
              ".list-inline>li:not(:last-child)::after {content: \"\\00b7\"; padding: 0 .5ex}\n",
              "</style>\n",
              "<ol class=list-inline><li>10</li><li>9</li><li>8</li><li>7</li><li>6</li><li>5</li></ol>\n"
            ]
          },
          "metadata": {}
        }
      ]
    },
    {
      "cell_type": "code",
      "source": [
        "1:50"
      ],
      "metadata": {
        "colab": {
          "base_uri": "https://localhost:8080/",
          "height": 52
        },
        "id": "L767VXIcNHpO",
        "outputId": "ee791d1b-810f-4d9b-dcb0-1f17d34bf287"
      },
      "execution_count": null,
      "outputs": [
        {
          "output_type": "display_data",
          "data": {
            "text/plain": [
              " [1]  1  2  3  4  5  6  7  8  9 10 11 12 13 14 15 16 17 18 19 20 21 22 23 24 25\n",
              "[26] 26 27 28 29 30 31 32 33 34 35 36 37 38 39 40 41 42 43 44 45 46 47 48 49 50"
            ],
            "text/latex": "\\begin{enumerate*}\n\\item 1\n\\item 2\n\\item 3\n\\item 4\n\\item 5\n\\item 6\n\\item 7\n\\item 8\n\\item 9\n\\item 10\n\\item 11\n\\item 12\n\\item 13\n\\item 14\n\\item 15\n\\item 16\n\\item 17\n\\item 18\n\\item 19\n\\item 20\n\\item 21\n\\item 22\n\\item 23\n\\item 24\n\\item 25\n\\item 26\n\\item 27\n\\item 28\n\\item 29\n\\item 30\n\\item 31\n\\item 32\n\\item 33\n\\item 34\n\\item 35\n\\item 36\n\\item 37\n\\item 38\n\\item 39\n\\item 40\n\\item 41\n\\item 42\n\\item 43\n\\item 44\n\\item 45\n\\item 46\n\\item 47\n\\item 48\n\\item 49\n\\item 50\n\\end{enumerate*}\n",
            "text/markdown": "1. 1\n2. 2\n3. 3\n4. 4\n5. 5\n6. 6\n7. 7\n8. 8\n9. 9\n10. 10\n11. 11\n12. 12\n13. 13\n14. 14\n15. 15\n16. 16\n17. 17\n18. 18\n19. 19\n20. 20\n21. 21\n22. 22\n23. 23\n24. 24\n25. 25\n26. 26\n27. 27\n28. 28\n29. 29\n30. 30\n31. 31\n32. 32\n33. 33\n34. 34\n35. 35\n36. 36\n37. 37\n38. 38\n39. 39\n40. 40\n41. 41\n42. 42\n43. 43\n44. 44\n45. 45\n46. 46\n47. 47\n48. 48\n49. 49\n50. 50\n\n\n",
            "text/html": [
              "<style>\n",
              ".list-inline {list-style: none; margin:0; padding: 0}\n",
              ".list-inline>li {display: inline-block}\n",
              ".list-inline>li:not(:last-child)::after {content: \"\\00b7\"; padding: 0 .5ex}\n",
              "</style>\n",
              "<ol class=list-inline><li>1</li><li>2</li><li>3</li><li>4</li><li>5</li><li>6</li><li>7</li><li>8</li><li>9</li><li>10</li><li>11</li><li>12</li><li>13</li><li>14</li><li>15</li><li>16</li><li>17</li><li>18</li><li>19</li><li>20</li><li>21</li><li>22</li><li>23</li><li>24</li><li>25</li><li>26</li><li>27</li><li>28</li><li>29</li><li>30</li><li>31</li><li>32</li><li>33</li><li>34</li><li>35</li><li>36</li><li>37</li><li>38</li><li>39</li><li>40</li><li>41</li><li>42</li><li>43</li><li>44</li><li>45</li><li>46</li><li>47</li><li>48</li><li>49</li><li>50</li></ol>\n"
            ]
          },
          "metadata": {}
        }
      ]
    },
    {
      "cell_type": "markdown",
      "source": [
        "¿Como obtener de los números del 1 al 10 sus cuadrados? "
      ],
      "metadata": {
        "id": "VY5zdVcbNe3f"
      }
    },
    {
      "cell_type": "code",
      "source": [
        "numbers <- 1:10 "
      ],
      "metadata": {
        "id": "GEmlw2erNXRG"
      },
      "execution_count": null,
      "outputs": []
    },
    {
      "cell_type": "code",
      "source": [
        "numbers * numbers"
      ],
      "metadata": {
        "colab": {
          "base_uri": "https://localhost:8080/",
          "height": 34
        },
        "id": "Ra-08q5kNnlP",
        "outputId": "de292a31-6808-4415-f926-6e842fdd1f01"
      },
      "execution_count": null,
      "outputs": [
        {
          "output_type": "display_data",
          "data": {
            "text/plain": [
              " [1]   1   4   9  16  25  36  49  64  81 100"
            ],
            "text/latex": "\\begin{enumerate*}\n\\item 1\n\\item 4\n\\item 9\n\\item 16\n\\item 25\n\\item 36\n\\item 49\n\\item 64\n\\item 81\n\\item 100\n\\end{enumerate*}\n",
            "text/markdown": "1. 1\n2. 4\n3. 9\n4. 16\n5. 25\n6. 36\n7. 49\n8. 64\n9. 81\n10. 100\n\n\n",
            "text/html": [
              "<style>\n",
              ".list-inline {list-style: none; margin:0; padding: 0}\n",
              ".list-inline>li {display: inline-block}\n",
              ".list-inline>li:not(:last-child)::after {content: \"\\00b7\"; padding: 0 .5ex}\n",
              "</style>\n",
              "<ol class=list-inline><li>1</li><li>4</li><li>9</li><li>16</li><li>25</li><li>36</li><li>49</li><li>64</li><li>81</li><li>100</li></ol>\n"
            ]
          },
          "metadata": {}
        }
      ]
    },
    {
      "cell_type": "code",
      "source": [
        "numbers^2 "
      ],
      "metadata": {
        "colab": {
          "base_uri": "https://localhost:8080/",
          "height": 34
        },
        "id": "GAGUjoIZNo8X",
        "outputId": "12d0b4fc-2f05-4ad8-bd8e-da8fa89a17a5"
      },
      "execution_count": null,
      "outputs": [
        {
          "output_type": "display_data",
          "data": {
            "text/plain": [
              " [1]   1   4   9  16  25  36  49  64  81 100"
            ],
            "text/latex": "\\begin{enumerate*}\n\\item 1\n\\item 4\n\\item 9\n\\item 16\n\\item 25\n\\item 36\n\\item 49\n\\item 64\n\\item 81\n\\item 100\n\\end{enumerate*}\n",
            "text/markdown": "1. 1\n2. 4\n3. 9\n4. 16\n5. 25\n6. 36\n7. 49\n8. 64\n9. 81\n10. 100\n\n\n",
            "text/html": [
              "<style>\n",
              ".list-inline {list-style: none; margin:0; padding: 0}\n",
              ".list-inline>li {display: inline-block}\n",
              ".list-inline>li:not(:last-child)::after {content: \"\\00b7\"; padding: 0 .5ex}\n",
              "</style>\n",
              "<ol class=list-inline><li>1</li><li>4</li><li>9</li><li>16</li><li>25</li><li>36</li><li>49</li><li>64</li><li>81</li><li>100</li></ol>\n"
            ]
          },
          "metadata": {}
        }
      ]
    },
    {
      "cell_type": "markdown",
      "source": [
        "Ejercicio:"
      ],
      "metadata": {
        "id": "YWzy5LpgN1Kw"
      }
    },
    {
      "cell_type": "code",
      "source": [
        "phrase <- c(\"Yo\", \"no\", \"se\", \"Yo\", \"se\")"
      ],
      "metadata": {
        "id": "JYBWaS7ON4bZ"
      },
      "execution_count": null,
      "outputs": []
    },
    {
      "cell_type": "code",
      "source": [
        "phrase[1:3]"
      ],
      "metadata": {
        "colab": {
          "base_uri": "https://localhost:8080/",
          "height": 34
        },
        "id": "edugRu-rOFoc",
        "outputId": "83385862-fb5a-40c2-9479-bdf70edfab22"
      },
      "execution_count": null,
      "outputs": [
        {
          "output_type": "display_data",
          "data": {
            "text/plain": [
              "[1] \"Yo\" \"no\" \"se\""
            ],
            "text/latex": "\\begin{enumerate*}\n\\item 'Yo'\n\\item 'no'\n\\item 'se'\n\\end{enumerate*}\n",
            "text/markdown": "1. 'Yo'\n2. 'no'\n3. 'se'\n\n\n",
            "text/html": [
              "<style>\n",
              ".list-inline {list-style: none; margin:0; padding: 0}\n",
              ".list-inline>li {display: inline-block}\n",
              ".list-inline>li:not(:last-child)::after {content: \"\\00b7\"; padding: 0 .5ex}\n",
              "</style>\n",
              "<ol class=list-inline><li>'Yo'</li><li>'no'</li><li>'se'</li></ol>\n"
            ]
          },
          "metadata": {}
        }
      ]
    },
    {
      "cell_type": "code",
      "source": [
        "phrase[3:5]"
      ],
      "metadata": {
        "colab": {
          "base_uri": "https://localhost:8080/",
          "height": 34
        },
        "id": "SDfQ53uiOIhi",
        "outputId": "3baf96f8-e010-499f-e23c-eaf0a9497a6a"
      },
      "execution_count": null,
      "outputs": [
        {
          "output_type": "display_data",
          "data": {
            "text/plain": [
              "[1] \"se\" \"Yo\" \"se\""
            ],
            "text/latex": "\\begin{enumerate*}\n\\item 'se'\n\\item 'Yo'\n\\item 'se'\n\\end{enumerate*}\n",
            "text/markdown": "1. 'se'\n2. 'Yo'\n3. 'se'\n\n\n",
            "text/html": [
              "<style>\n",
              ".list-inline {list-style: none; margin:0; padding: 0}\n",
              ".list-inline>li {display: inline-block}\n",
              ".list-inline>li:not(:last-child)::after {content: \"\\00b7\"; padding: 0 .5ex}\n",
              "</style>\n",
              "<ol class=list-inline><li>'se'</li><li>'Yo'</li><li>'se'</li></ol>\n"
            ]
          },
          "metadata": {}
        }
      ]
    },
    {
      "cell_type": "code",
      "source": [
        "phrase[3:] # no se puede dejar vacio el elemento final si uso el operador secuencia :."
      ],
      "metadata": {
        "colab": {
          "base_uri": "https://localhost:8080/",
          "height": 134
        },
        "id": "FaEvi6w3OQq3",
        "outputId": "06de00af-a41d-4e80-8506-02e0d79de072"
      },
      "execution_count": null,
      "outputs": [
        {
          "output_type": "error",
          "ename": "ERROR",
          "evalue": "ignored",
          "traceback": [
            "Error in parse(text = x, srcfile = src): <text>:1:10: unexpected ']'\n1: phrase[3:]\n             ^\nTraceback:\n"
          ]
        }
      ]
    },
    {
      "cell_type": "markdown",
      "source": [
        "¿Del vector phrase yo se que las primeras 4 palabras las puedo obtener con phrase[1:4]. Como puedo obtener las primeras 4 palabras pero en reversa. "
      ],
      "metadata": {
        "id": "CExQIutTOpPm"
      }
    },
    {
      "cell_type": "code",
      "source": [
        "phrase[1:4]"
      ],
      "metadata": {
        "colab": {
          "base_uri": "https://localhost:8080/",
          "height": 34
        },
        "id": "F78xVl15OerS",
        "outputId": "49515c2e-3633-4446-a118-e00a49af8a8c"
      },
      "execution_count": null,
      "outputs": [
        {
          "output_type": "display_data",
          "data": {
            "text/plain": [
              "[1] \"Yo\" \"no\" \"se\" \"Yo\""
            ],
            "text/latex": "\\begin{enumerate*}\n\\item 'Yo'\n\\item 'no'\n\\item 'se'\n\\item 'Yo'\n\\end{enumerate*}\n",
            "text/markdown": "1. 'Yo'\n2. 'no'\n3. 'se'\n4. 'Yo'\n\n\n",
            "text/html": [
              "<style>\n",
              ".list-inline {list-style: none; margin:0; padding: 0}\n",
              ".list-inline>li {display: inline-block}\n",
              ".list-inline>li:not(:last-child)::after {content: \"\\00b7\"; padding: 0 .5ex}\n",
              "</style>\n",
              "<ol class=list-inline><li>'Yo'</li><li>'no'</li><li>'se'</li><li>'Yo'</li></ol>\n"
            ]
          },
          "metadata": {}
        }
      ]
    },
    {
      "cell_type": "code",
      "source": [
        "phrase[4:1]"
      ],
      "metadata": {
        "colab": {
          "base_uri": "https://localhost:8080/",
          "height": 34
        },
        "id": "miRtRCtZO8dc",
        "outputId": "eb84fbc0-399c-402a-deeb-79cb5c1cb6f7"
      },
      "execution_count": null,
      "outputs": [
        {
          "output_type": "display_data",
          "data": {
            "text/plain": [
              "[1] \"Yo\" \"se\" \"no\" \"Yo\""
            ],
            "text/latex": "\\begin{enumerate*}\n\\item 'Yo'\n\\item 'se'\n\\item 'no'\n\\item 'Yo'\n\\end{enumerate*}\n",
            "text/markdown": "1. 'Yo'\n2. 'se'\n3. 'no'\n4. 'Yo'\n\n\n",
            "text/html": [
              "<style>\n",
              ".list-inline {list-style: none; margin:0; padding: 0}\n",
              ".list-inline>li {display: inline-block}\n",
              ".list-inline>li:not(:last-child)::after {content: \"\\00b7\"; padding: 0 .5ex}\n",
              "</style>\n",
              "<ol class=list-inline><li>'Yo'</li><li>'se'</li><li>'no'</li><li>'Yo'</li></ol>\n"
            ]
          },
          "metadata": {}
        }
      ]
    },
    {
      "cell_type": "markdown",
      "source": [
        "Probar lo siguiente y deducir que pasa:  \n",
        "* phrase[-2]\n",
        "* phrase[-5]\n",
        "* phrase[-1:-3]\n",
        "\n"
      ],
      "metadata": {
        "id": "WJtB6g27PIoq"
      }
    },
    {
      "cell_type": "code",
      "source": [
        "phrase"
      ],
      "metadata": {
        "colab": {
          "base_uri": "https://localhost:8080/",
          "height": 34
        },
        "id": "MFoFnBO1PCLj",
        "outputId": "51f9e86e-280b-40c1-9224-69794574b3c9"
      },
      "execution_count": null,
      "outputs": [
        {
          "output_type": "display_data",
          "data": {
            "text/plain": [
              "[1] \"Yo\" \"no\" \"se\" \"Yo\" \"se\""
            ],
            "text/latex": "\\begin{enumerate*}\n\\item 'Yo'\n\\item 'no'\n\\item 'se'\n\\item 'Yo'\n\\item 'se'\n\\end{enumerate*}\n",
            "text/markdown": "1. 'Yo'\n2. 'no'\n3. 'se'\n4. 'Yo'\n5. 'se'\n\n\n",
            "text/html": [
              "<style>\n",
              ".list-inline {list-style: none; margin:0; padding: 0}\n",
              ".list-inline>li {display: inline-block}\n",
              ".list-inline>li:not(:last-child)::after {content: \"\\00b7\"; padding: 0 .5ex}\n",
              "</style>\n",
              "<ol class=list-inline><li>'Yo'</li><li>'no'</li><li>'se'</li><li>'Yo'</li><li>'se'</li></ol>\n"
            ]
          },
          "metadata": {}
        }
      ]
    },
    {
      "cell_type": "code",
      "source": [
        "phrase[-2]"
      ],
      "metadata": {
        "colab": {
          "base_uri": "https://localhost:8080/",
          "height": 34
        },
        "id": "CkcmTVW3QAKR",
        "outputId": "2d54cf37-cabd-420f-f7a8-d526a360ea2d"
      },
      "execution_count": null,
      "outputs": [
        {
          "output_type": "display_data",
          "data": {
            "text/plain": [
              "[1] \"Yo\" \"se\" \"Yo\" \"se\""
            ],
            "text/latex": "\\begin{enumerate*}\n\\item 'Yo'\n\\item 'se'\n\\item 'Yo'\n\\item 'se'\n\\end{enumerate*}\n",
            "text/markdown": "1. 'Yo'\n2. 'se'\n3. 'Yo'\n4. 'se'\n\n\n",
            "text/html": [
              "<style>\n",
              ".list-inline {list-style: none; margin:0; padding: 0}\n",
              ".list-inline>li {display: inline-block}\n",
              ".list-inline>li:not(:last-child)::after {content: \"\\00b7\"; padding: 0 .5ex}\n",
              "</style>\n",
              "<ol class=list-inline><li>'Yo'</li><li>'se'</li><li>'Yo'</li><li>'se'</li></ol>\n"
            ]
          },
          "metadata": {}
        }
      ]
    },
    {
      "cell_type": "code",
      "source": [
        "phrase = c(\"uno\",\"dos\",\"tres\",\"cuatro\",\"cinco\")"
      ],
      "metadata": {
        "id": "C5HPfW0DQBb_"
      },
      "execution_count": null,
      "outputs": []
    },
    {
      "cell_type": "code",
      "source": [
        "phrase"
      ],
      "metadata": {
        "colab": {
          "base_uri": "https://localhost:8080/",
          "height": 34
        },
        "id": "oO3Z18RMQT-4",
        "outputId": "76d74bb4-c872-4fe5-acce-2f8436bb06c5"
      },
      "execution_count": null,
      "outputs": [
        {
          "output_type": "display_data",
          "data": {
            "text/plain": [
              "[1] \"uno\"    \"dos\"    \"tres\"   \"cuatro\" \"cinco\" "
            ],
            "text/latex": "\\begin{enumerate*}\n\\item 'uno'\n\\item 'dos'\n\\item 'tres'\n\\item 'cuatro'\n\\item 'cinco'\n\\end{enumerate*}\n",
            "text/markdown": "1. 'uno'\n2. 'dos'\n3. 'tres'\n4. 'cuatro'\n5. 'cinco'\n\n\n",
            "text/html": [
              "<style>\n",
              ".list-inline {list-style: none; margin:0; padding: 0}\n",
              ".list-inline>li {display: inline-block}\n",
              ".list-inline>li:not(:last-child)::after {content: \"\\00b7\"; padding: 0 .5ex}\n",
              "</style>\n",
              "<ol class=list-inline><li>'uno'</li><li>'dos'</li><li>'tres'</li><li>'cuatro'</li><li>'cinco'</li></ol>\n"
            ]
          },
          "metadata": {}
        }
      ]
    },
    {
      "cell_type": "code",
      "source": [
        "phrase[-2]"
      ],
      "metadata": {
        "colab": {
          "base_uri": "https://localhost:8080/",
          "height": 34
        },
        "id": "LsJoJDtBQVnQ",
        "outputId": "6ea5409e-ab03-47f2-eb7f-b365b38e120c"
      },
      "execution_count": null,
      "outputs": [
        {
          "output_type": "display_data",
          "data": {
            "text/plain": [
              "[1] \"uno\"    \"tres\"   \"cuatro\" \"cinco\" "
            ],
            "text/latex": "\\begin{enumerate*}\n\\item 'uno'\n\\item 'tres'\n\\item 'cuatro'\n\\item 'cinco'\n\\end{enumerate*}\n",
            "text/markdown": "1. 'uno'\n2. 'tres'\n3. 'cuatro'\n4. 'cinco'\n\n\n",
            "text/html": [
              "<style>\n",
              ".list-inline {list-style: none; margin:0; padding: 0}\n",
              ".list-inline>li {display: inline-block}\n",
              ".list-inline>li:not(:last-child)::after {content: \"\\00b7\"; padding: 0 .5ex}\n",
              "</style>\n",
              "<ol class=list-inline><li>'uno'</li><li>'tres'</li><li>'cuatro'</li><li>'cinco'</li></ol>\n"
            ]
          },
          "metadata": {}
        }
      ]
    },
    {
      "cell_type": "code",
      "source": [
        "phrase[-5]"
      ],
      "metadata": {
        "colab": {
          "base_uri": "https://localhost:8080/",
          "height": 34
        },
        "id": "2oGElbdaQYiA",
        "outputId": "95fa6016-6325-4c01-ff22-ca8213bd8c75"
      },
      "execution_count": null,
      "outputs": [
        {
          "output_type": "display_data",
          "data": {
            "text/plain": [
              "[1] \"uno\"    \"dos\"    \"tres\"   \"cuatro\""
            ],
            "text/latex": "\\begin{enumerate*}\n\\item 'uno'\n\\item 'dos'\n\\item 'tres'\n\\item 'cuatro'\n\\end{enumerate*}\n",
            "text/markdown": "1. 'uno'\n2. 'dos'\n3. 'tres'\n4. 'cuatro'\n\n\n",
            "text/html": [
              "<style>\n",
              ".list-inline {list-style: none; margin:0; padding: 0}\n",
              ".list-inline>li {display: inline-block}\n",
              ".list-inline>li:not(:last-child)::after {content: \"\\00b7\"; padding: 0 .5ex}\n",
              "</style>\n",
              "<ol class=list-inline><li>'uno'</li><li>'dos'</li><li>'tres'</li><li>'cuatro'</li></ol>\n"
            ]
          },
          "metadata": {}
        }
      ]
    },
    {
      "cell_type": "code",
      "source": [
        "phrase[-1:-3]"
      ],
      "metadata": {
        "colab": {
          "base_uri": "https://localhost:8080/",
          "height": 34
        },
        "id": "IpQcLoz_Qopo",
        "outputId": "302d7659-42bb-4128-e63e-34634e4aaabd"
      },
      "execution_count": null,
      "outputs": [
        {
          "output_type": "display_data",
          "data": {
            "text/plain": [
              "[1] \"cuatro\" \"cinco\" "
            ],
            "text/latex": "\\begin{enumerate*}\n\\item 'cuatro'\n\\item 'cinco'\n\\end{enumerate*}\n",
            "text/markdown": "1. 'cuatro'\n2. 'cinco'\n\n\n",
            "text/html": [
              "<style>\n",
              ".list-inline {list-style: none; margin:0; padding: 0}\n",
              ".list-inline>li {display: inline-block}\n",
              ".list-inline>li:not(:last-child)::after {content: \"\\00b7\"; padding: 0 .5ex}\n",
              "</style>\n",
              "<ol class=list-inline><li>'cuatro'</li><li>'cinco'</li></ol>\n"
            ]
          },
          "metadata": {}
        }
      ]
    },
    {
      "cell_type": "markdown",
      "source": [
        "De: \n",
        "\n",
        "phrase = c(\"uno\",\"dos\",\"tres\",\"cuatro\",\"cinco\")\n",
        "\n",
        "Quitar los elementos dos y cuatro."
      ],
      "metadata": {
        "id": "I93hcBVPQ0tl"
      }
    },
    {
      "cell_type": "code",
      "source": [
        "phrase = c(\"uno\",\"dos\",\"tres\",\"cuatro\",\"cinco\")"
      ],
      "metadata": {
        "id": "GerhRDMVQ4-f"
      },
      "execution_count": null,
      "outputs": []
    },
    {
      "cell_type": "code",
      "source": [
        "phrase <- phrase[c(-2, -4)]"
      ],
      "metadata": {
        "id": "vQMHCk6MQ6zg"
      },
      "execution_count": null,
      "outputs": []
    },
    {
      "cell_type": "code",
      "source": [
        "phrase"
      ],
      "metadata": {
        "colab": {
          "base_uri": "https://localhost:8080/",
          "height": 34
        },
        "id": "z0JED8snQ-Ye",
        "outputId": "a684eadd-c987-44f8-afbc-85acad03f53b"
      },
      "execution_count": null,
      "outputs": [
        {
          "output_type": "display_data",
          "data": {
            "text/plain": [
              "[1] \"uno\"   \"tres\"  \"cinco\""
            ],
            "text/latex": "\\begin{enumerate*}\n\\item 'uno'\n\\item 'tres'\n\\item 'cinco'\n\\end{enumerate*}\n",
            "text/markdown": "1. 'uno'\n2. 'tres'\n3. 'cinco'\n\n\n",
            "text/html": [
              "<style>\n",
              ".list-inline {list-style: none; margin:0; padding: 0}\n",
              ".list-inline>li {display: inline-block}\n",
              ".list-inline>li:not(:last-child)::after {content: \"\\00b7\"; padding: 0 .5ex}\n",
              "</style>\n",
              "<ol class=list-inline><li>'uno'</li><li>'tres'</li><li>'cinco'</li></ol>\n"
            ]
          },
          "metadata": {}
        }
      ]
    },
    {
      "cell_type": "markdown",
      "source": [
        "# Funciones\n",
        "\n",
        "Vamos a revisar la función sum que actua sobre vectores."
      ],
      "metadata": {
        "id": "7DfTw-BURIqt"
      }
    },
    {
      "cell_type": "code",
      "source": [
        "?sum  # con ? accedo a la ayuda"
      ],
      "metadata": {
        "id": "VFPHa2YHRLa4"
      },
      "execution_count": null,
      "outputs": []
    },
    {
      "cell_type": "code",
      "source": [
        "sum(myvec)"
      ],
      "metadata": {
        "colab": {
          "base_uri": "https://localhost:8080/",
          "height": 34
        },
        "id": "h5XAbV4_R2hX",
        "outputId": "34a1ff50-5caa-4d60-cbe8-db6174436399"
      },
      "execution_count": null,
      "outputs": [
        {
          "output_type": "display_data",
          "data": {
            "text/plain": [
              "[1] 135"
            ],
            "text/latex": "135",
            "text/markdown": "135",
            "text/html": [
              "135"
            ]
          },
          "metadata": {}
        }
      ]
    },
    {
      "cell_type": "code",
      "source": [
        "myvec"
      ],
      "metadata": {
        "colab": {
          "base_uri": "https://localhost:8080/",
          "height": 34
        },
        "id": "NxWgSg51SWoU",
        "outputId": "f1405f06-d0cc-4bdb-ebd4-7c8e9a68b548"
      },
      "execution_count": null,
      "outputs": [
        {
          "output_type": "display_data",
          "data": {
            "text/plain": [
              "[1] 10  5 30 40 50"
            ],
            "text/latex": "\\begin{enumerate*}\n\\item 10\n\\item 5\n\\item 30\n\\item 40\n\\item 50\n\\end{enumerate*}\n",
            "text/markdown": "1. 10\n2. 5\n3. 30\n4. 40\n5. 50\n\n\n",
            "text/html": [
              "<style>\n",
              ".list-inline {list-style: none; margin:0; padding: 0}\n",
              ".list-inline>li {display: inline-block}\n",
              ".list-inline>li:not(:last-child)::after {content: \"\\00b7\"; padding: 0 .5ex}\n",
              "</style>\n",
              "<ol class=list-inline><li>10</li><li>5</li><li>30</li><li>40</li><li>50</li></ol>\n"
            ]
          },
          "metadata": {}
        }
      ]
    },
    {
      "cell_type": "code",
      "source": [
        "sum(myvec, myvec)"
      ],
      "metadata": {
        "colab": {
          "base_uri": "https://localhost:8080/",
          "height": 34
        },
        "id": "fzGpg1qRSXzN",
        "outputId": "7c09fbf3-8065-461c-d08f-4a56dca5c63c"
      },
      "execution_count": null,
      "outputs": [
        {
          "output_type": "display_data",
          "data": {
            "text/plain": [
              "[1] 270"
            ],
            "text/latex": "270",
            "text/markdown": "270",
            "text/html": [
              "270"
            ]
          },
          "metadata": {}
        }
      ]
    },
    {
      "cell_type": "code",
      "source": [
        "myvec3 <- c(10, 15, 7, NA, 0)"
      ],
      "metadata": {
        "id": "mt8dGeUvSgHT"
      },
      "execution_count": null,
      "outputs": []
    },
    {
      "cell_type": "code",
      "source": [
        "myvec3"
      ],
      "metadata": {
        "colab": {
          "base_uri": "https://localhost:8080/",
          "height": 34
        },
        "id": "u1C956DqSysS",
        "outputId": "3f224580-0c1b-4afa-ed09-2d010074abf9"
      },
      "execution_count": null,
      "outputs": [
        {
          "output_type": "display_data",
          "data": {
            "text/plain": [
              "[1] 10 15  7 NA  0"
            ],
            "text/latex": "\\begin{enumerate*}\n\\item 10\n\\item 15\n\\item 7\n\\item <NA>\n\\item 0\n\\end{enumerate*}\n",
            "text/markdown": "1. 10\n2. 15\n3. 7\n4. &lt;NA&gt;\n5. 0\n\n\n",
            "text/html": [
              "<style>\n",
              ".list-inline {list-style: none; margin:0; padding: 0}\n",
              ".list-inline>li {display: inline-block}\n",
              ".list-inline>li:not(:last-child)::after {content: \"\\00b7\"; padding: 0 .5ex}\n",
              "</style>\n",
              "<ol class=list-inline><li>10</li><li>15</li><li>7</li><li>&lt;NA&gt;</li><li>0</li></ol>\n"
            ]
          },
          "metadata": {}
        }
      ]
    },
    {
      "cell_type": "code",
      "source": [
        "?NA"
      ],
      "metadata": {
        "id": "7e5Pni3yS4ln"
      },
      "execution_count": null,
      "outputs": []
    },
    {
      "cell_type": "code",
      "source": [
        "is.na(myvec3)"
      ],
      "metadata": {
        "colab": {
          "base_uri": "https://localhost:8080/",
          "height": 34
        },
        "id": "9hhZTa19S9B5",
        "outputId": "b62d2d4b-94e4-42a1-d882-6e535d5369d5"
      },
      "execution_count": null,
      "outputs": [
        {
          "output_type": "display_data",
          "data": {
            "text/plain": [
              "[1] FALSE FALSE FALSE  TRUE FALSE"
            ],
            "text/latex": "\\begin{enumerate*}\n\\item FALSE\n\\item FALSE\n\\item FALSE\n\\item TRUE\n\\item FALSE\n\\end{enumerate*}\n",
            "text/markdown": "1. FALSE\n2. FALSE\n3. FALSE\n4. TRUE\n5. FALSE\n\n\n",
            "text/html": [
              "<style>\n",
              ".list-inline {list-style: none; margin:0; padding: 0}\n",
              ".list-inline>li {display: inline-block}\n",
              ".list-inline>li:not(:last-child)::after {content: \"\\00b7\"; padding: 0 .5ex}\n",
              "</style>\n",
              "<ol class=list-inline><li>FALSE</li><li>FALSE</li><li>FALSE</li><li>TRUE</li><li>FALSE</li></ol>\n"
            ]
          },
          "metadata": {}
        }
      ]
    },
    {
      "cell_type": "code",
      "source": [
        "sum(is.na(myvec3)) # cuantos NA's hay."
      ],
      "metadata": {
        "colab": {
          "base_uri": "https://localhost:8080/",
          "height": 34
        },
        "id": "zA9LezztTOOF",
        "outputId": "307870ee-1ae3-4aa0-ac74-198d0ef18a79"
      },
      "execution_count": null,
      "outputs": [
        {
          "output_type": "display_data",
          "data": {
            "text/plain": [
              "[1] 1"
            ],
            "text/latex": "1",
            "text/markdown": "1",
            "text/html": [
              "1"
            ]
          },
          "metadata": {}
        }
      ]
    },
    {
      "cell_type": "code",
      "source": [
        "sum(myvec3)"
      ],
      "metadata": {
        "colab": {
          "base_uri": "https://localhost:8080/",
          "height": 34
        },
        "id": "7sUVNybQTZ3q",
        "outputId": "30177fb8-aca0-44e3-8a14-b5c875ceeccf"
      },
      "execution_count": null,
      "outputs": [
        {
          "output_type": "display_data",
          "data": {
            "text/plain": [
              "[1] NA"
            ],
            "text/latex": "<NA>",
            "text/markdown": "&lt;NA&gt;",
            "text/html": [
              "&lt;NA&gt;"
            ]
          },
          "metadata": {}
        }
      ]
    },
    {
      "cell_type": "code",
      "source": [
        "sum(myvec3, na.rm=TRUE)"
      ],
      "metadata": {
        "colab": {
          "base_uri": "https://localhost:8080/",
          "height": 34
        },
        "id": "sYMOdH3mULln",
        "outputId": "1c5de6d0-dda4-4355-acc3-239706846403"
      },
      "execution_count": null,
      "outputs": [
        {
          "output_type": "display_data",
          "data": {
            "text/plain": [
              "[1] 32"
            ],
            "text/latex": "32",
            "text/markdown": "32",
            "text/html": [
              "32"
            ]
          },
          "metadata": {}
        }
      ]
    },
    {
      "cell_type": "markdown",
      "source": [
        "Puedo calcular la suma de los valores diferentes a null usando el hecho que is.na(myvec3) te da los indices de los elementos que son na como TRUE entonces con el operador ! puedo negarlo y luego hacer la suma. Pero este codigo es peligroso muy dificil de leer y no recomendable de manera profesional, hay que tratar de escribir código legible."
      ],
      "metadata": {
        "id": "EkkUjiqZU1KS"
      }
    },
    {
      "cell_type": "code",
      "source": [
        "myvec3"
      ],
      "metadata": {
        "colab": {
          "base_uri": "https://localhost:8080/",
          "height": 34
        },
        "id": "O7ERaTXXVYL1",
        "outputId": "134adefb-c81d-45db-9678-8bb14524f7e0"
      },
      "execution_count": null,
      "outputs": [
        {
          "output_type": "display_data",
          "data": {
            "text/plain": [
              "[1] 10 15  7 NA  0"
            ],
            "text/latex": "\\begin{enumerate*}\n\\item 10\n\\item 15\n\\item 7\n\\item <NA>\n\\item 0\n\\end{enumerate*}\n",
            "text/markdown": "1. 10\n2. 15\n3. 7\n4. &lt;NA&gt;\n5. 0\n\n\n",
            "text/html": [
              "<style>\n",
              ".list-inline {list-style: none; margin:0; padding: 0}\n",
              ".list-inline>li {display: inline-block}\n",
              ".list-inline>li:not(:last-child)::after {content: \"\\00b7\"; padding: 0 .5ex}\n",
              "</style>\n",
              "<ol class=list-inline><li>10</li><li>15</li><li>7</li><li>&lt;NA&gt;</li><li>0</li></ol>\n"
            ]
          },
          "metadata": {}
        }
      ]
    },
    {
      "cell_type": "code",
      "source": [
        "index_not_na = !is.na(myvec3)\n",
        "index_not_na "
      ],
      "metadata": {
        "colab": {
          "base_uri": "https://localhost:8080/",
          "height": 34
        },
        "id": "VjjX3dkDVErI",
        "outputId": "3bf649f4-a8fd-4ad4-9be2-e7e35e5f1cd7"
      },
      "execution_count": null,
      "outputs": [
        {
          "output_type": "display_data",
          "data": {
            "text/plain": [
              "[1]  TRUE  TRUE  TRUE FALSE  TRUE"
            ],
            "text/latex": "\\begin{enumerate*}\n\\item TRUE\n\\item TRUE\n\\item TRUE\n\\item FALSE\n\\item TRUE\n\\end{enumerate*}\n",
            "text/markdown": "1. TRUE\n2. TRUE\n3. TRUE\n4. FALSE\n5. TRUE\n\n\n",
            "text/html": [
              "<style>\n",
              ".list-inline {list-style: none; margin:0; padding: 0}\n",
              ".list-inline>li {display: inline-block}\n",
              ".list-inline>li:not(:last-child)::after {content: \"\\00b7\"; padding: 0 .5ex}\n",
              "</style>\n",
              "<ol class=list-inline><li>TRUE</li><li>TRUE</li><li>TRUE</li><li>FALSE</li><li>TRUE</li></ol>\n"
            ]
          },
          "metadata": {}
        }
      ]
    },
    {
      "cell_type": "code",
      "source": [
        "sum(myvec3[index_not_na]) # este codigo es confuso y solo se ha hecho \n",
        "                          # para efectos pedagogicos, es mucho mejor \n",
        "                          # sum(myvec3, na.rm=TRUE)"
      ],
      "metadata": {
        "colab": {
          "base_uri": "https://localhost:8080/",
          "height": 34
        },
        "id": "DXQJ1w4MVg-4",
        "outputId": "593a56fc-4b1d-455d-e66f-8eb53efe9589"
      },
      "execution_count": null,
      "outputs": [
        {
          "output_type": "display_data",
          "data": {
            "text/plain": [
              "[1] 32"
            ],
            "text/latex": "32",
            "text/markdown": "32",
            "text/html": [
              "32"
            ]
          },
          "metadata": {}
        }
      ]
    },
    {
      "cell_type": "code",
      "source": [
        "?rep"
      ],
      "metadata": {
        "id": "Z2B9XmHbVmwu"
      },
      "execution_count": null,
      "outputs": []
    },
    {
      "cell_type": "code",
      "source": [
        "?sum"
      ],
      "metadata": {
        "id": "kHtR3gWDV6Oi"
      },
      "execution_count": null,
      "outputs": []
    },
    {
      "cell_type": "markdown",
      "source": [
        "Repetir el valor 42 unas 10 veces en un vector, lo puedo hacer con rep."
      ],
      "metadata": {
        "id": "Ow8erRxaWOYB"
      }
    },
    {
      "cell_type": "code",
      "source": [
        "rep(42, 10)"
      ],
      "metadata": {
        "colab": {
          "base_uri": "https://localhost:8080/",
          "height": 34
        },
        "id": "vJLvST6JWGXs",
        "outputId": "551660a7-f36b-4b9d-9f62-989578928c20"
      },
      "execution_count": null,
      "outputs": [
        {
          "output_type": "display_data",
          "data": {
            "text/plain": [
              " [1] 42 42 42 42 42 42 42 42 42 42"
            ],
            "text/latex": "\\begin{enumerate*}\n\\item 42\n\\item 42\n\\item 42\n\\item 42\n\\item 42\n\\item 42\n\\item 42\n\\item 42\n\\item 42\n\\item 42\n\\end{enumerate*}\n",
            "text/markdown": "1. 42\n2. 42\n3. 42\n4. 42\n5. 42\n6. 42\n7. 42\n8. 42\n9. 42\n10. 42\n\n\n",
            "text/html": [
              "<style>\n",
              ".list-inline {list-style: none; margin:0; padding: 0}\n",
              ".list-inline>li {display: inline-block}\n",
              ".list-inline>li:not(:last-child)::after {content: \"\\00b7\"; padding: 0 .5ex}\n",
              "</style>\n",
              "<ol class=list-inline><li>42</li><li>42</li><li>42</li><li>42</li><li>42</li><li>42</li><li>42</li><li>42</li><li>42</li><li>42</li></ol>\n"
            ]
          },
          "metadata": {}
        }
      ]
    },
    {
      "cell_type": "code",
      "source": [
        "rep(c(1, 2, 3), 10)"
      ],
      "metadata": {
        "colab": {
          "base_uri": "https://localhost:8080/",
          "height": 34
        },
        "id": "a42m0A8pWKU8",
        "outputId": "da346ce9-606a-4151-cb80-2bd356dd7f6d"
      },
      "execution_count": null,
      "outputs": [
        {
          "output_type": "display_data",
          "data": {
            "text/plain": [
              " [1] 1 2 3 1 2 3 1 2 3 1 2 3 1 2 3 1 2 3 1 2 3 1 2 3 1 2 3 1 2 3"
            ],
            "text/latex": "\\begin{enumerate*}\n\\item 1\n\\item 2\n\\item 3\n\\item 1\n\\item 2\n\\item 3\n\\item 1\n\\item 2\n\\item 3\n\\item 1\n\\item 2\n\\item 3\n\\item 1\n\\item 2\n\\item 3\n\\item 1\n\\item 2\n\\item 3\n\\item 1\n\\item 2\n\\item 3\n\\item 1\n\\item 2\n\\item 3\n\\item 1\n\\item 2\n\\item 3\n\\item 1\n\\item 2\n\\item 3\n\\end{enumerate*}\n",
            "text/markdown": "1. 1\n2. 2\n3. 3\n4. 1\n5. 2\n6. 3\n7. 1\n8. 2\n9. 3\n10. 1\n11. 2\n12. 3\n13. 1\n14. 2\n15. 3\n16. 1\n17. 2\n18. 3\n19. 1\n20. 2\n21. 3\n22. 1\n23. 2\n24. 3\n25. 1\n26. 2\n27. 3\n28. 1\n29. 2\n30. 3\n\n\n",
            "text/html": [
              "<style>\n",
              ".list-inline {list-style: none; margin:0; padding: 0}\n",
              ".list-inline>li {display: inline-block}\n",
              ".list-inline>li:not(:last-child)::after {content: \"\\00b7\"; padding: 0 .5ex}\n",
              "</style>\n",
              "<ol class=list-inline><li>1</li><li>2</li><li>3</li><li>1</li><li>2</li><li>3</li><li>1</li><li>2</li><li>3</li><li>1</li><li>2</li><li>3</li><li>1</li><li>2</li><li>3</li><li>1</li><li>2</li><li>3</li><li>1</li><li>2</li><li>3</li><li>1</li><li>2</li><li>3</li><li>1</li><li>2</li><li>3</li><li>1</li><li>2</li><li>3</li></ol>\n"
            ]
          },
          "metadata": {}
        }
      ]
    },
    {
      "cell_type": "code",
      "source": [
        "rep(c(1,2,3), times=10)"
      ],
      "metadata": {
        "colab": {
          "base_uri": "https://localhost:8080/",
          "height": 34
        },
        "id": "RexjKcEXWrNq",
        "outputId": "7914002a-fb5c-4449-ecfb-eb64540ff639"
      },
      "execution_count": null,
      "outputs": [
        {
          "output_type": "display_data",
          "data": {
            "text/plain": [
              " [1] 1 2 3 1 2 3 1 2 3 1 2 3 1 2 3 1 2 3 1 2 3 1 2 3 1 2 3 1 2 3"
            ],
            "text/latex": "\\begin{enumerate*}\n\\item 1\n\\item 2\n\\item 3\n\\item 1\n\\item 2\n\\item 3\n\\item 1\n\\item 2\n\\item 3\n\\item 1\n\\item 2\n\\item 3\n\\item 1\n\\item 2\n\\item 3\n\\item 1\n\\item 2\n\\item 3\n\\item 1\n\\item 2\n\\item 3\n\\item 1\n\\item 2\n\\item 3\n\\item 1\n\\item 2\n\\item 3\n\\item 1\n\\item 2\n\\item 3\n\\end{enumerate*}\n",
            "text/markdown": "1. 1\n2. 2\n3. 3\n4. 1\n5. 2\n6. 3\n7. 1\n8. 2\n9. 3\n10. 1\n11. 2\n12. 3\n13. 1\n14. 2\n15. 3\n16. 1\n17. 2\n18. 3\n19. 1\n20. 2\n21. 3\n22. 1\n23. 2\n24. 3\n25. 1\n26. 2\n27. 3\n28. 1\n29. 2\n30. 3\n\n\n",
            "text/html": [
              "<style>\n",
              ".list-inline {list-style: none; margin:0; padding: 0}\n",
              ".list-inline>li {display: inline-block}\n",
              ".list-inline>li:not(:last-child)::after {content: \"\\00b7\"; padding: 0 .5ex}\n",
              "</style>\n",
              "<ol class=list-inline><li>1</li><li>2</li><li>3</li><li>1</li><li>2</li><li>3</li><li>1</li><li>2</li><li>3</li><li>1</li><li>2</li><li>3</li><li>1</li><li>2</li><li>3</li><li>1</li><li>2</li><li>3</li><li>1</li><li>2</li><li>3</li><li>1</li><li>2</li><li>3</li><li>1</li><li>2</li><li>3</li><li>1</li><li>2</li><li>3</li></ol>\n"
            ]
          },
          "metadata": {}
        }
      ]
    },
    {
      "cell_type": "code",
      "source": [
        "rep(x=c(1,2,3), times=10)"
      ],
      "metadata": {
        "colab": {
          "base_uri": "https://localhost:8080/",
          "height": 34
        },
        "id": "mtGmwalhW2P4",
        "outputId": "7098d66d-5481-4a24-fa66-f5b50f797df9"
      },
      "execution_count": null,
      "outputs": [
        {
          "output_type": "display_data",
          "data": {
            "text/plain": [
              " [1] 1 2 3 1 2 3 1 2 3 1 2 3 1 2 3 1 2 3 1 2 3 1 2 3 1 2 3 1 2 3"
            ],
            "text/latex": "\\begin{enumerate*}\n\\item 1\n\\item 2\n\\item 3\n\\item 1\n\\item 2\n\\item 3\n\\item 1\n\\item 2\n\\item 3\n\\item 1\n\\item 2\n\\item 3\n\\item 1\n\\item 2\n\\item 3\n\\item 1\n\\item 2\n\\item 3\n\\item 1\n\\item 2\n\\item 3\n\\item 1\n\\item 2\n\\item 3\n\\item 1\n\\item 2\n\\item 3\n\\item 1\n\\item 2\n\\item 3\n\\end{enumerate*}\n",
            "text/markdown": "1. 1\n2. 2\n3. 3\n4. 1\n5. 2\n6. 3\n7. 1\n8. 2\n9. 3\n10. 1\n11. 2\n12. 3\n13. 1\n14. 2\n15. 3\n16. 1\n17. 2\n18. 3\n19. 1\n20. 2\n21. 3\n22. 1\n23. 2\n24. 3\n25. 1\n26. 2\n27. 3\n28. 1\n29. 2\n30. 3\n\n\n",
            "text/html": [
              "<style>\n",
              ".list-inline {list-style: none; margin:0; padding: 0}\n",
              ".list-inline>li {display: inline-block}\n",
              ".list-inline>li:not(:last-child)::after {content: \"\\00b7\"; padding: 0 .5ex}\n",
              "</style>\n",
              "<ol class=list-inline><li>1</li><li>2</li><li>3</li><li>1</li><li>2</li><li>3</li><li>1</li><li>2</li><li>3</li><li>1</li><li>2</li><li>3</li><li>1</li><li>2</li><li>3</li><li>1</li><li>2</li><li>3</li><li>1</li><li>2</li><li>3</li><li>1</li><li>2</li><li>3</li><li>1</li><li>2</li><li>3</li><li>1</li><li>2</li><li>3</li></ol>\n"
            ]
          },
          "metadata": {}
        }
      ]
    },
    {
      "cell_type": "code",
      "source": [
        "rep(times=10, x=c(1,2,3))"
      ],
      "metadata": {
        "colab": {
          "base_uri": "https://localhost:8080/",
          "height": 34
        },
        "id": "UmK_UnGiW5u1",
        "outputId": "0b17996b-90a0-4084-e572-e6406751e994"
      },
      "execution_count": null,
      "outputs": [
        {
          "output_type": "display_data",
          "data": {
            "text/plain": [
              " [1] 1 2 3 1 2 3 1 2 3 1 2 3 1 2 3 1 2 3 1 2 3 1 2 3 1 2 3 1 2 3"
            ],
            "text/latex": "\\begin{enumerate*}\n\\item 1\n\\item 2\n\\item 3\n\\item 1\n\\item 2\n\\item 3\n\\item 1\n\\item 2\n\\item 3\n\\item 1\n\\item 2\n\\item 3\n\\item 1\n\\item 2\n\\item 3\n\\item 1\n\\item 2\n\\item 3\n\\item 1\n\\item 2\n\\item 3\n\\item 1\n\\item 2\n\\item 3\n\\item 1\n\\item 2\n\\item 3\n\\item 1\n\\item 2\n\\item 3\n\\end{enumerate*}\n",
            "text/markdown": "1. 1\n2. 2\n3. 3\n4. 1\n5. 2\n6. 3\n7. 1\n8. 2\n9. 3\n10. 1\n11. 2\n12. 3\n13. 1\n14. 2\n15. 3\n16. 1\n17. 2\n18. 3\n19. 1\n20. 2\n21. 3\n22. 1\n23. 2\n24. 3\n25. 1\n26. 2\n27. 3\n28. 1\n29. 2\n30. 3\n\n\n",
            "text/html": [
              "<style>\n",
              ".list-inline {list-style: none; margin:0; padding: 0}\n",
              ".list-inline>li {display: inline-block}\n",
              ".list-inline>li:not(:last-child)::after {content: \"\\00b7\"; padding: 0 .5ex}\n",
              "</style>\n",
              "<ol class=list-inline><li>1</li><li>2</li><li>3</li><li>1</li><li>2</li><li>3</li><li>1</li><li>2</li><li>3</li><li>1</li><li>2</li><li>3</li><li>1</li><li>2</li><li>3</li><li>1</li><li>2</li><li>3</li><li>1</li><li>2</li><li>3</li><li>1</li><li>2</li><li>3</li><li>1</li><li>2</li><li>3</li><li>1</li><li>2</li><li>3</li></ol>\n"
            ]
          },
          "metadata": {}
        }
      ]
    },
    {
      "cell_type": "code",
      "source": [
        "rep(10, c(1,2,3))"
      ],
      "metadata": {
        "colab": {
          "base_uri": "https://localhost:8080/",
          "height": 99
        },
        "id": "FCtDU0mgXBGO",
        "outputId": "d0b7c910-8c58-4e68-e9d7-66d44e413aab"
      },
      "execution_count": null,
      "outputs": [
        {
          "output_type": "error",
          "ename": "ERROR",
          "evalue": "ignored",
          "traceback": [
            "Error in rep(10, c(1, 2, 3)): invalid 'times' argument\nTraceback:\n"
          ]
        }
      ]
    },
    {
      "cell_type": "code",
      "source": [
        "rep(c(1,2,3), times=10)"
      ],
      "metadata": {
        "colab": {
          "base_uri": "https://localhost:8080/",
          "height": 34
        },
        "id": "x4Bu4IyaXPt4",
        "outputId": "c550f1af-4da5-4070-e5fa-e56f5eacd838"
      },
      "execution_count": null,
      "outputs": [
        {
          "output_type": "display_data",
          "data": {
            "text/plain": [
              " [1] 1 2 3 1 2 3 1 2 3 1 2 3 1 2 3 1 2 3 1 2 3 1 2 3 1 2 3 1 2 3"
            ],
            "text/latex": "\\begin{enumerate*}\n\\item 1\n\\item 2\n\\item 3\n\\item 1\n\\item 2\n\\item 3\n\\item 1\n\\item 2\n\\item 3\n\\item 1\n\\item 2\n\\item 3\n\\item 1\n\\item 2\n\\item 3\n\\item 1\n\\item 2\n\\item 3\n\\item 1\n\\item 2\n\\item 3\n\\item 1\n\\item 2\n\\item 3\n\\item 1\n\\item 2\n\\item 3\n\\item 1\n\\item 2\n\\item 3\n\\end{enumerate*}\n",
            "text/markdown": "1. 1\n2. 2\n3. 3\n4. 1\n5. 2\n6. 3\n7. 1\n8. 2\n9. 3\n10. 1\n11. 2\n12. 3\n13. 1\n14. 2\n15. 3\n16. 1\n17. 2\n18. 3\n19. 1\n20. 2\n21. 3\n22. 1\n23. 2\n24. 3\n25. 1\n26. 2\n27. 3\n28. 1\n29. 2\n30. 3\n\n\n",
            "text/html": [
              "<style>\n",
              ".list-inline {list-style: none; margin:0; padding: 0}\n",
              ".list-inline>li {display: inline-block}\n",
              ".list-inline>li:not(:last-child)::after {content: \"\\00b7\"; padding: 0 .5ex}\n",
              "</style>\n",
              "<ol class=list-inline><li>1</li><li>2</li><li>3</li><li>1</li><li>2</li><li>3</li><li>1</li><li>2</li><li>3</li><li>1</li><li>2</li><li>3</li><li>1</li><li>2</li><li>3</li><li>1</li><li>2</li><li>3</li><li>1</li><li>2</li><li>3</li><li>1</li><li>2</li><li>3</li><li>1</li><li>2</li><li>3</li><li>1</li><li>2</li><li>3</li></ol>\n"
            ]
          },
          "metadata": {}
        }
      ]
    },
    {
      "cell_type": "code",
      "source": [
        "rep(c(1,2,3), times=10, each=1)"
      ],
      "metadata": {
        "colab": {
          "base_uri": "https://localhost:8080/",
          "height": 34
        },
        "id": "7jnddADSXxN8",
        "outputId": "38977eca-a8a5-4f59-d043-9a5aecb37d1b"
      },
      "execution_count": null,
      "outputs": [
        {
          "output_type": "display_data",
          "data": {
            "text/plain": [
              " [1] 1 2 3 1 2 3 1 2 3 1 2 3 1 2 3 1 2 3 1 2 3 1 2 3 1 2 3 1 2 3"
            ],
            "text/latex": "\\begin{enumerate*}\n\\item 1\n\\item 2\n\\item 3\n\\item 1\n\\item 2\n\\item 3\n\\item 1\n\\item 2\n\\item 3\n\\item 1\n\\item 2\n\\item 3\n\\item 1\n\\item 2\n\\item 3\n\\item 1\n\\item 2\n\\item 3\n\\item 1\n\\item 2\n\\item 3\n\\item 1\n\\item 2\n\\item 3\n\\item 1\n\\item 2\n\\item 3\n\\item 1\n\\item 2\n\\item 3\n\\end{enumerate*}\n",
            "text/markdown": "1. 1\n2. 2\n3. 3\n4. 1\n5. 2\n6. 3\n7. 1\n8. 2\n9. 3\n10. 1\n11. 2\n12. 3\n13. 1\n14. 2\n15. 3\n16. 1\n17. 2\n18. 3\n19. 1\n20. 2\n21. 3\n22. 1\n23. 2\n24. 3\n25. 1\n26. 2\n27. 3\n28. 1\n29. 2\n30. 3\n\n\n",
            "text/html": [
              "<style>\n",
              ".list-inline {list-style: none; margin:0; padding: 0}\n",
              ".list-inline>li {display: inline-block}\n",
              ".list-inline>li:not(:last-child)::after {content: \"\\00b7\"; padding: 0 .5ex}\n",
              "</style>\n",
              "<ol class=list-inline><li>1</li><li>2</li><li>3</li><li>1</li><li>2</li><li>3</li><li>1</li><li>2</li><li>3</li><li>1</li><li>2</li><li>3</li><li>1</li><li>2</li><li>3</li><li>1</li><li>2</li><li>3</li><li>1</li><li>2</li><li>3</li><li>1</li><li>2</li><li>3</li><li>1</li><li>2</li><li>3</li><li>1</li><li>2</li><li>3</li></ol>\n"
            ]
          },
          "metadata": {}
        }
      ]
    },
    {
      "cell_type": "code",
      "source": [
        "rep(c(1,2,3), times=10, each=2)"
      ],
      "metadata": {
        "colab": {
          "base_uri": "https://localhost:8080/",
          "height": 52
        },
        "id": "CZiJhVMVXzNT",
        "outputId": "15f4e950-129b-4cf2-d776-63855d76c448"
      },
      "execution_count": null,
      "outputs": [
        {
          "output_type": "display_data",
          "data": {
            "text/plain": [
              " [1] 1 1 2 2 3 3 1 1 2 2 3 3 1 1 2 2 3 3 1 1 2 2 3 3 1 1 2 2 3 3 1 1 2 2 3 3 1 1\n",
              "[39] 2 2 3 3 1 1 2 2 3 3 1 1 2 2 3 3 1 1 2 2 3 3"
            ],
            "text/latex": "\\begin{enumerate*}\n\\item 1\n\\item 1\n\\item 2\n\\item 2\n\\item 3\n\\item 3\n\\item 1\n\\item 1\n\\item 2\n\\item 2\n\\item 3\n\\item 3\n\\item 1\n\\item 1\n\\item 2\n\\item 2\n\\item 3\n\\item 3\n\\item 1\n\\item 1\n\\item 2\n\\item 2\n\\item 3\n\\item 3\n\\item 1\n\\item 1\n\\item 2\n\\item 2\n\\item 3\n\\item 3\n\\item 1\n\\item 1\n\\item 2\n\\item 2\n\\item 3\n\\item 3\n\\item 1\n\\item 1\n\\item 2\n\\item 2\n\\item 3\n\\item 3\n\\item 1\n\\item 1\n\\item 2\n\\item 2\n\\item 3\n\\item 3\n\\item 1\n\\item 1\n\\item 2\n\\item 2\n\\item 3\n\\item 3\n\\item 1\n\\item 1\n\\item 2\n\\item 2\n\\item 3\n\\item 3\n\\end{enumerate*}\n",
            "text/markdown": "1. 1\n2. 1\n3. 2\n4. 2\n5. 3\n6. 3\n7. 1\n8. 1\n9. 2\n10. 2\n11. 3\n12. 3\n13. 1\n14. 1\n15. 2\n16. 2\n17. 3\n18. 3\n19. 1\n20. 1\n21. 2\n22. 2\n23. 3\n24. 3\n25. 1\n26. 1\n27. 2\n28. 2\n29. 3\n30. 3\n31. 1\n32. 1\n33. 2\n34. 2\n35. 3\n36. 3\n37. 1\n38. 1\n39. 2\n40. 2\n41. 3\n42. 3\n43. 1\n44. 1\n45. 2\n46. 2\n47. 3\n48. 3\n49. 1\n50. 1\n51. 2\n52. 2\n53. 3\n54. 3\n55. 1\n56. 1\n57. 2\n58. 2\n59. 3\n60. 3\n\n\n",
            "text/html": [
              "<style>\n",
              ".list-inline {list-style: none; margin:0; padding: 0}\n",
              ".list-inline>li {display: inline-block}\n",
              ".list-inline>li:not(:last-child)::after {content: \"\\00b7\"; padding: 0 .5ex}\n",
              "</style>\n",
              "<ol class=list-inline><li>1</li><li>1</li><li>2</li><li>2</li><li>3</li><li>3</li><li>1</li><li>1</li><li>2</li><li>2</li><li>3</li><li>3</li><li>1</li><li>1</li><li>2</li><li>2</li><li>3</li><li>3</li><li>1</li><li>1</li><li>2</li><li>2</li><li>3</li><li>3</li><li>1</li><li>1</li><li>2</li><li>2</li><li>3</li><li>3</li><li>1</li><li>1</li><li>2</li><li>2</li><li>3</li><li>3</li><li>1</li><li>1</li><li>2</li><li>2</li><li>3</li><li>3</li><li>1</li><li>1</li><li>2</li><li>2</li><li>3</li><li>3</li><li>1</li><li>1</li><li>2</li><li>2</li><li>3</li><li>3</li><li>1</li><li>1</li><li>2</li><li>2</li><li>3</li><li>3</li></ol>\n"
            ]
          },
          "metadata": {}
        }
      ]
    },
    {
      "cell_type": "code",
      "source": [
        "rep(c(1,2,3), times=10, each=4)"
      ],
      "metadata": {
        "colab": {
          "base_uri": "https://localhost:8080/",
          "height": 69
        },
        "id": "LNNmD3CVX3i0",
        "outputId": "d70518e1-8acd-4291-845f-37453ef5f460"
      },
      "execution_count": null,
      "outputs": [
        {
          "output_type": "display_data",
          "data": {
            "text/plain": [
              "  [1] 1 1 1 1 2 2 2 2 3 3 3 3 1 1 1 1 2 2 2 2 3 3 3 3 1 1 1 1 2 2 2 2 3 3 3 3 1\n",
              " [38] 1 1 1 2 2 2 2 3 3 3 3 1 1 1 1 2 2 2 2 3 3 3 3 1 1 1 1 2 2 2 2 3 3 3 3 1 1\n",
              " [75] 1 1 2 2 2 2 3 3 3 3 1 1 1 1 2 2 2 2 3 3 3 3 1 1 1 1 2 2 2 2 3 3 3 3 1 1 1\n",
              "[112] 1 2 2 2 2 3 3 3 3"
            ],
            "text/latex": "\\begin{enumerate*}\n\\item 1\n\\item 1\n\\item 1\n\\item 1\n\\item 2\n\\item 2\n\\item 2\n\\item 2\n\\item 3\n\\item 3\n\\item 3\n\\item 3\n\\item 1\n\\item 1\n\\item 1\n\\item 1\n\\item 2\n\\item 2\n\\item 2\n\\item 2\n\\item 3\n\\item 3\n\\item 3\n\\item 3\n\\item 1\n\\item 1\n\\item 1\n\\item 1\n\\item 2\n\\item 2\n\\item 2\n\\item 2\n\\item 3\n\\item 3\n\\item 3\n\\item 3\n\\item 1\n\\item 1\n\\item 1\n\\item 1\n\\item 2\n\\item 2\n\\item 2\n\\item 2\n\\item 3\n\\item 3\n\\item 3\n\\item 3\n\\item 1\n\\item 1\n\\item 1\n\\item 1\n\\item 2\n\\item 2\n\\item 2\n\\item 2\n\\item 3\n\\item 3\n\\item 3\n\\item 3\n\\item 1\n\\item 1\n\\item 1\n\\item 1\n\\item 2\n\\item 2\n\\item 2\n\\item 2\n\\item 3\n\\item 3\n\\item 3\n\\item 3\n\\item 1\n\\item 1\n\\item 1\n\\item 1\n\\item 2\n\\item 2\n\\item 2\n\\item 2\n\\item 3\n\\item 3\n\\item 3\n\\item 3\n\\item 1\n\\item 1\n\\item 1\n\\item 1\n\\item 2\n\\item 2\n\\item 2\n\\item 2\n\\item 3\n\\item 3\n\\item 3\n\\item 3\n\\item 1\n\\item 1\n\\item 1\n\\item 1\n\\item 2\n\\item 2\n\\item 2\n\\item 2\n\\item 3\n\\item 3\n\\item 3\n\\item 3\n\\item 1\n\\item 1\n\\item 1\n\\item 1\n\\item 2\n\\item 2\n\\item 2\n\\item 2\n\\item 3\n\\item 3\n\\item 3\n\\item 3\n\\end{enumerate*}\n",
            "text/markdown": "1. 1\n2. 1\n3. 1\n4. 1\n5. 2\n6. 2\n7. 2\n8. 2\n9. 3\n10. 3\n11. 3\n12. 3\n13. 1\n14. 1\n15. 1\n16. 1\n17. 2\n18. 2\n19. 2\n20. 2\n21. 3\n22. 3\n23. 3\n24. 3\n25. 1\n26. 1\n27. 1\n28. 1\n29. 2\n30. 2\n31. 2\n32. 2\n33. 3\n34. 3\n35. 3\n36. 3\n37. 1\n38. 1\n39. 1\n40. 1\n41. 2\n42. 2\n43. 2\n44. 2\n45. 3\n46. 3\n47. 3\n48. 3\n49. 1\n50. 1\n51. 1\n52. 1\n53. 2\n54. 2\n55. 2\n56. 2\n57. 3\n58. 3\n59. 3\n60. 3\n61. 1\n62. 1\n63. 1\n64. 1\n65. 2\n66. 2\n67. 2\n68. 2\n69. 3\n70. 3\n71. 3\n72. 3\n73. 1\n74. 1\n75. 1\n76. 1\n77. 2\n78. 2\n79. 2\n80. 2\n81. 3\n82. 3\n83. 3\n84. 3\n85. 1\n86. 1\n87. 1\n88. 1\n89. 2\n90. 2\n91. 2\n92. 2\n93. 3\n94. 3\n95. 3\n96. 3\n97. 1\n98. 1\n99. 1\n100. 1\n101. 2\n102. 2\n103. 2\n104. 2\n105. 3\n106. 3\n107. 3\n108. 3\n109. 1\n110. 1\n111. 1\n112. 1\n113. 2\n114. 2\n115. 2\n116. 2\n117. 3\n118. 3\n119. 3\n120. 3\n\n\n",
            "text/html": [
              "<style>\n",
              ".list-inline {list-style: none; margin:0; padding: 0}\n",
              ".list-inline>li {display: inline-block}\n",
              ".list-inline>li:not(:last-child)::after {content: \"\\00b7\"; padding: 0 .5ex}\n",
              "</style>\n",
              "<ol class=list-inline><li>1</li><li>1</li><li>1</li><li>1</li><li>2</li><li>2</li><li>2</li><li>2</li><li>3</li><li>3</li><li>3</li><li>3</li><li>1</li><li>1</li><li>1</li><li>1</li><li>2</li><li>2</li><li>2</li><li>2</li><li>3</li><li>3</li><li>3</li><li>3</li><li>1</li><li>1</li><li>1</li><li>1</li><li>2</li><li>2</li><li>2</li><li>2</li><li>3</li><li>3</li><li>3</li><li>3</li><li>1</li><li>1</li><li>1</li><li>1</li><li>2</li><li>2</li><li>2</li><li>2</li><li>3</li><li>3</li><li>3</li><li>3</li><li>1</li><li>1</li><li>1</li><li>1</li><li>2</li><li>2</li><li>2</li><li>2</li><li>3</li><li>3</li><li>3</li><li>3</li><li>1</li><li>1</li><li>1</li><li>1</li><li>2</li><li>2</li><li>2</li><li>2</li><li>3</li><li>3</li><li>3</li><li>3</li><li>1</li><li>1</li><li>1</li><li>1</li><li>2</li><li>2</li><li>2</li><li>2</li><li>3</li><li>3</li><li>3</li><li>3</li><li>1</li><li>1</li><li>1</li><li>1</li><li>2</li><li>2</li><li>2</li><li>2</li><li>3</li><li>3</li><li>3</li><li>3</li><li>1</li><li>1</li><li>1</li><li>1</li><li>2</li><li>2</li><li>2</li><li>2</li><li>3</li><li>3</li><li>3</li><li>3</li><li>1</li><li>1</li><li>1</li><li>1</li><li>2</li><li>2</li><li>2</li><li>2</li><li>3</li><li>3</li><li>3</li><li>3</li></ol>\n"
            ]
          },
          "metadata": {}
        }
      ]
    },
    {
      "cell_type": "markdown",
      "source": [
        "# Listas"
      ],
      "metadata": {
        "id": "aaatq5dOajFj"
      }
    },
    {
      "cell_type": "code",
      "source": [
        "my_list <- list(num=42, greeting=\"Hello world\")"
      ],
      "metadata": {
        "id": "Uy4d_zo5am0u"
      },
      "execution_count": null,
      "outputs": []
    },
    {
      "cell_type": "code",
      "source": [
        "my_list"
      ],
      "metadata": {
        "colab": {
          "base_uri": "https://localhost:8080/",
          "height": 114
        },
        "id": "ROuGojcSa235",
        "outputId": "03c28985-c50b-46fb-846f-3d1a7446a199"
      },
      "execution_count": null,
      "outputs": [
        {
          "output_type": "display_data",
          "data": {
            "text/plain": [
              "$num\n",
              "[1] 42\n",
              "\n",
              "$greeting\n",
              "[1] \"Hello world\"\n"
            ],
            "text/latex": "\\begin{description}\n\\item[\\$num] 42\n\\item[\\$greeting] 'Hello world'\n\\end{description}\n",
            "text/markdown": "$num\n:   42\n$greeting\n:   'Hello world'\n\n\n",
            "text/html": [
              "<dl>\n",
              "\t<dt>$num</dt>\n",
              "\t\t<dd>42</dd>\n",
              "\t<dt>$greeting</dt>\n",
              "\t\t<dd>'Hello world'</dd>\n",
              "</dl>\n"
            ]
          },
          "metadata": {}
        }
      ]
    },
    {
      "cell_type": "code",
      "source": [
        "my_list$num"
      ],
      "metadata": {
        "colab": {
          "base_uri": "https://localhost:8080/",
          "height": 34
        },
        "id": "eluaSsjna66P",
        "outputId": "e86006da-f459-4560-cd8c-92fb758bf058"
      },
      "execution_count": null,
      "outputs": [
        {
          "output_type": "display_data",
          "data": {
            "text/plain": [
              "[1] 42"
            ],
            "text/latex": "42",
            "text/markdown": "42",
            "text/html": [
              "42"
            ]
          },
          "metadata": {}
        }
      ]
    },
    {
      "cell_type": "code",
      "source": [
        "my_list$greeting"
      ],
      "metadata": {
        "colab": {
          "base_uri": "https://localhost:8080/",
          "height": 34
        },
        "id": "tMr3XGoza_hs",
        "outputId": "6cbe0f2a-fdf9-4e3b-a070-a36831da7b5c"
      },
      "execution_count": null,
      "outputs": [
        {
          "output_type": "display_data",
          "data": {
            "text/plain": [
              "[1] \"Hello world\""
            ],
            "text/latex": "'Hello world'",
            "text/markdown": "'Hello world'",
            "text/html": [
              "'Hello world'"
            ]
          },
          "metadata": {}
        }
      ]
    },
    {
      "cell_type": "code",
      "source": [
        "my_list[1] # Me devuelve el elemento 1 como una lista. "
      ],
      "metadata": {
        "colab": {
          "base_uri": "https://localhost:8080/",
          "height": 34
        },
        "id": "L3ux-R3nbE-7",
        "outputId": "61b8687c-815a-42c6-a41e-3949e16cc67a"
      },
      "execution_count": null,
      "outputs": [
        {
          "output_type": "display_data",
          "data": {
            "text/plain": [
              "$num\n",
              "[1] 42\n"
            ],
            "text/latex": "\\textbf{\\$num} = 42",
            "text/markdown": "**$num** = 42",
            "text/html": [
              "<strong>$num</strong> = 42"
            ]
          },
          "metadata": {}
        }
      ]
    },
    {
      "cell_type": "code",
      "source": [
        "my_list[[1]] # Accesando al elemento num de la lista.  "
      ],
      "metadata": {
        "colab": {
          "base_uri": "https://localhost:8080/",
          "height": 34
        },
        "id": "bq6M79e5bJyg",
        "outputId": "a837a72c-23ad-4fac-f88d-722f1d87c08d"
      },
      "execution_count": null,
      "outputs": [
        {
          "output_type": "display_data",
          "data": {
            "text/plain": [
              "[1] 42"
            ],
            "text/latex": "42",
            "text/markdown": "42",
            "text/html": [
              "42"
            ]
          },
          "metadata": {}
        }
      ]
    },
    {
      "cell_type": "code",
      "source": [
        "my_list[[2]]"
      ],
      "metadata": {
        "colab": {
          "base_uri": "https://localhost:8080/",
          "height": 34
        },
        "id": "7zXdP769bd9J",
        "outputId": "dc8a70d6-3439-41e0-d351-d3a36b5d3586"
      },
      "execution_count": null,
      "outputs": [
        {
          "output_type": "display_data",
          "data": {
            "text/plain": [
              "[1] \"Hello world\""
            ],
            "text/latex": "'Hello world'",
            "text/markdown": "'Hello world'",
            "text/html": [
              "'Hello world'"
            ]
          },
          "metadata": {}
        }
      ]
    },
    {
      "cell_type": "markdown",
      "source": [
        "Ejemplo de como nombrar los elementos de un vector. "
      ],
      "metadata": {
        "id": "Ssw91zDrcQg1"
      }
    },
    {
      "cell_type": "code",
      "source": [
        "numeros <- c(1, 2, 3)"
      ],
      "metadata": {
        "id": "6zjNxB_3bpSX"
      },
      "execution_count": null,
      "outputs": []
    },
    {
      "cell_type": "code",
      "source": [
        "numeros"
      ],
      "metadata": {
        "colab": {
          "base_uri": "https://localhost:8080/",
          "height": 34
        },
        "id": "HyCDyQ0lcc8V",
        "outputId": "24dc4bf4-83b8-47f6-9657-7dc621920851"
      },
      "execution_count": null,
      "outputs": [
        {
          "output_type": "display_data",
          "data": {
            "text/plain": [
              "[1] 1 2 3"
            ],
            "text/latex": "\\begin{enumerate*}\n\\item 1\n\\item 2\n\\item 3\n\\end{enumerate*}\n",
            "text/markdown": "1. 1\n2. 2\n3. 3\n\n\n",
            "text/html": [
              "<style>\n",
              ".list-inline {list-style: none; margin:0; padding: 0}\n",
              ".list-inline>li {display: inline-block}\n",
              ".list-inline>li:not(:last-child)::after {content: \"\\00b7\"; padding: 0 .5ex}\n",
              "</style>\n",
              "<ol class=list-inline><li>1</li><li>2</li><li>3</li></ol>\n"
            ]
          },
          "metadata": {}
        }
      ]
    },
    {
      "cell_type": "code",
      "source": [
        "names(numeros)"
      ],
      "metadata": {
        "colab": {
          "base_uri": "https://localhost:8080/",
          "height": 35
        },
        "id": "l2j2P6W4ceCN",
        "outputId": "69304506-2465-40c6-f3c7-857707fb3171"
      },
      "execution_count": null,
      "outputs": [
        {
          "output_type": "display_data",
          "data": {
            "text/plain": [
              "NULL"
            ]
          },
          "metadata": {}
        }
      ]
    },
    {
      "cell_type": "code",
      "source": [
        "names(numeros) <- c(\"primero\", \"segundo\", \"tercero\")"
      ],
      "metadata": {
        "id": "XHtf_B4DchuU"
      },
      "execution_count": null,
      "outputs": []
    },
    {
      "cell_type": "code",
      "source": [
        "numeros"
      ],
      "metadata": {
        "colab": {
          "base_uri": "https://localhost:8080/",
          "height": 34
        },
        "id": "gHQujpgqcnIE",
        "outputId": "a5a3f024-6146-4d24-b3d4-b272e46cda50"
      },
      "execution_count": null,
      "outputs": [
        {
          "output_type": "display_data",
          "data": {
            "text/plain": [
              "primero segundo tercero \n",
              "      1       2       3 "
            ],
            "text/latex": "\\begin{description*}\n\\item[primero] 1\n\\item[segundo] 2\n\\item[tercero] 3\n\\end{description*}\n",
            "text/markdown": "primero\n:   1segundo\n:   2tercero\n:   3\n\n",
            "text/html": [
              "<style>\n",
              ".dl-inline {width: auto; margin:0; padding: 0}\n",
              ".dl-inline>dt, .dl-inline>dd {float: none; width: auto; display: inline-block}\n",
              ".dl-inline>dt::after {content: \":\\0020\"; padding-right: .5ex}\n",
              ".dl-inline>dt:not(:first-of-type) {padding-left: .5ex}\n",
              "</style><dl class=dl-inline><dt>primero</dt><dd>1</dd><dt>segundo</dt><dd>2</dd><dt>tercero</dt><dd>3</dd></dl>\n"
            ]
          },
          "metadata": {}
        }
      ]
    },
    {
      "cell_type": "markdown",
      "source": [
        "Si no estoy seguro del tipo de objeto puedo usar las siguientes funciones: \n"
      ],
      "metadata": {
        "id": "tluGtiZBc5ti"
      }
    },
    {
      "cell_type": "code",
      "source": [
        "class(myvec)"
      ],
      "metadata": {
        "colab": {
          "base_uri": "https://localhost:8080/",
          "height": 34
        },
        "id": "PzjasLJucnxx",
        "outputId": "4bf1b4f8-ffb4-4102-c54b-a2595f4748c7"
      },
      "execution_count": null,
      "outputs": [
        {
          "output_type": "display_data",
          "data": {
            "text/plain": [
              "[1] \"numeric\""
            ],
            "text/latex": "'numeric'",
            "text/markdown": "'numeric'",
            "text/html": [
              "'numeric'"
            ]
          },
          "metadata": {}
        }
      ]
    },
    {
      "cell_type": "code",
      "source": [
        "typeof(myvec)"
      ],
      "metadata": {
        "colab": {
          "base_uri": "https://localhost:8080/",
          "height": 34
        },
        "id": "yJZVj1zydFWx",
        "outputId": "b3bc8a93-ea7f-4462-af45-fdb101a5e0d1"
      },
      "execution_count": null,
      "outputs": [
        {
          "output_type": "display_data",
          "data": {
            "text/plain": [
              "[1] \"double\""
            ],
            "text/latex": "'double'",
            "text/markdown": "'double'",
            "text/html": [
              "'double'"
            ]
          },
          "metadata": {}
        }
      ]
    },
    {
      "cell_type": "code",
      "source": [
        "str(myvec)"
      ],
      "metadata": {
        "colab": {
          "base_uri": "https://localhost:8080/"
        },
        "id": "J-9F1foWdOBJ",
        "outputId": "37a4a210-2a98-475c-d102-6a73ac948934"
      },
      "execution_count": null,
      "outputs": [
        {
          "output_type": "stream",
          "name": "stdout",
          "text": [
            " num [1:5] 10 5 30 40 50\n"
          ]
        }
      ]
    },
    {
      "cell_type": "code",
      "source": [
        "class(my_list)"
      ],
      "metadata": {
        "colab": {
          "base_uri": "https://localhost:8080/",
          "height": 34
        },
        "id": "UoP7ZiFWdGrR",
        "outputId": "ca8024a6-9c04-4d3f-a344-3768fe5ae385"
      },
      "execution_count": null,
      "outputs": [
        {
          "output_type": "display_data",
          "data": {
            "text/plain": [
              "[1] \"list\""
            ],
            "text/latex": "'list'",
            "text/markdown": "'list'",
            "text/html": [
              "'list'"
            ]
          },
          "metadata": {}
        }
      ]
    },
    {
      "cell_type": "code",
      "source": [
        "typeof(my_list)"
      ],
      "metadata": {
        "colab": {
          "base_uri": "https://localhost:8080/",
          "height": 34
        },
        "id": "sAUB2xvAdJpw",
        "outputId": "77b3eb8d-7516-4677-b389-cf7aa91f694c"
      },
      "execution_count": null,
      "outputs": [
        {
          "output_type": "display_data",
          "data": {
            "text/plain": [
              "[1] \"list\""
            ],
            "text/latex": "'list'",
            "text/markdown": "'list'",
            "text/html": [
              "'list'"
            ]
          },
          "metadata": {}
        }
      ]
    },
    {
      "cell_type": "code",
      "source": [
        "str(my_list)"
      ],
      "metadata": {
        "colab": {
          "base_uri": "https://localhost:8080/"
        },
        "id": "SUgT8Q-cdTRU",
        "outputId": "6e992a33-7cb6-4b34-f33b-1ce4783b3a96"
      },
      "execution_count": null,
      "outputs": [
        {
          "output_type": "stream",
          "name": "stdout",
          "text": [
            "List of 2\n",
            " $ num     : num 42\n",
            " $ greeting: chr \"Hello world\"\n"
          ]
        }
      ]
    },
    {
      "cell_type": "markdown",
      "source": [
        "**Ejercicios propuestos**"
      ],
      "metadata": {
        "id": "XpVeKz-4Bmtq"
      }
    },
    {
      "cell_type": "code",
      "source": [
        "sum(1:5)"
      ],
      "metadata": {
        "colab": {
          "base_uri": "https://localhost:8080/",
          "height": 34
        },
        "id": "kE5tPKg2Bp2W",
        "outputId": "88a6deaa-1965-4aa9-8a91-2b50b204de78"
      },
      "execution_count": null,
      "outputs": [
        {
          "output_type": "display_data",
          "data": {
            "text/plain": [
              "[1] 15"
            ],
            "text/latex": "15",
            "text/markdown": "15",
            "text/html": [
              "15"
            ]
          },
          "metadata": {}
        }
      ]
    },
    {
      "cell_type": "code",
      "source": [
        "sum(1:10000)"
      ],
      "metadata": {
        "colab": {
          "base_uri": "https://localhost:8080/",
          "height": 34
        },
        "id": "LvCfYzrVBsuR",
        "outputId": "fc78ef33-9eb8-4808-cc31-edda24d38831"
      },
      "execution_count": null,
      "outputs": [
        {
          "output_type": "display_data",
          "data": {
            "text/plain": [
              "[1] 50005000"
            ],
            "text/latex": "50005000",
            "text/markdown": "50005000",
            "text/html": [
              "50005000"
            ]
          },
          "metadata": {}
        }
      ]
    },
    {
      "cell_type": "code",
      "source": [
        "(10000*10001)/2"
      ],
      "metadata": {
        "colab": {
          "base_uri": "https://localhost:8080/",
          "height": 34
        },
        "id": "DRn5oJbbB69z",
        "outputId": "f0ae8300-6b53-4fa7-de26-be4ff3300e3e"
      },
      "execution_count": null,
      "outputs": [
        {
          "output_type": "display_data",
          "data": {
            "text/plain": [
              "[1] 50005000"
            ],
            "text/latex": "50005000",
            "text/markdown": "50005000",
            "text/html": [
              "50005000"
            ]
          },
          "metadata": {}
        }
      ]
    },
    {
      "cell_type": "code",
      "source": [
        "help(seq)"
      ],
      "metadata": {
        "id": "hUGd_mOACB15"
      },
      "execution_count": null,
      "outputs": []
    },
    {
      "cell_type": "code",
      "source": [
        "seq(from=1, to=100, by=2) # numeros impares entre 1 y 100"
      ],
      "metadata": {
        "colab": {
          "base_uri": "https://localhost:8080/",
          "height": 69
        },
        "id": "COF71tASCH8P",
        "outputId": "1ce566d0-b09b-42a2-f83a-765589a2fa66"
      },
      "execution_count": null,
      "outputs": [
        {
          "output_type": "display_data",
          "data": {
            "text/plain": [
              " [1]  1  3  5  7  9 11 13 15 17 19 21 23 25 27 29 31 33 35 37 39 41 43 45 47 49\n",
              "[26] 51 53 55 57 59 61 63 65 67 69 71 73 75 77 79 81 83 85 87 89 91 93 95 97 99"
            ],
            "text/latex": "\\begin{enumerate*}\n\\item 1\n\\item 3\n\\item 5\n\\item 7\n\\item 9\n\\item 11\n\\item 13\n\\item 15\n\\item 17\n\\item 19\n\\item 21\n\\item 23\n\\item 25\n\\item 27\n\\item 29\n\\item 31\n\\item 33\n\\item 35\n\\item 37\n\\item 39\n\\item 41\n\\item 43\n\\item 45\n\\item 47\n\\item 49\n\\item 51\n\\item 53\n\\item 55\n\\item 57\n\\item 59\n\\item 61\n\\item 63\n\\item 65\n\\item 67\n\\item 69\n\\item 71\n\\item 73\n\\item 75\n\\item 77\n\\item 79\n\\item 81\n\\item 83\n\\item 85\n\\item 87\n\\item 89\n\\item 91\n\\item 93\n\\item 95\n\\item 97\n\\item 99\n\\end{enumerate*}\n",
            "text/markdown": "1. 1\n2. 3\n3. 5\n4. 7\n5. 9\n6. 11\n7. 13\n8. 15\n9. 17\n10. 19\n11. 21\n12. 23\n13. 25\n14. 27\n15. 29\n16. 31\n17. 33\n18. 35\n19. 37\n20. 39\n21. 41\n22. 43\n23. 45\n24. 47\n25. 49\n26. 51\n27. 53\n28. 55\n29. 57\n30. 59\n31. 61\n32. 63\n33. 65\n34. 67\n35. 69\n36. 71\n37. 73\n38. 75\n39. 77\n40. 79\n41. 81\n42. 83\n43. 85\n44. 87\n45. 89\n46. 91\n47. 93\n48. 95\n49. 97\n50. 99\n\n\n",
            "text/html": [
              "<style>\n",
              ".list-inline {list-style: none; margin:0; padding: 0}\n",
              ".list-inline>li {display: inline-block}\n",
              ".list-inline>li:not(:last-child)::after {content: \"\\00b7\"; padding: 0 .5ex}\n",
              "</style>\n",
              "<ol class=list-inline><li>1</li><li>3</li><li>5</li><li>7</li><li>9</li><li>11</li><li>13</li><li>15</li><li>17</li><li>19</li><li>21</li><li>23</li><li>25</li><li>27</li><li>29</li><li>31</li><li>33</li><li>35</li><li>37</li><li>39</li><li>41</li><li>43</li><li>45</li><li>47</li><li>49</li><li>51</li><li>53</li><li>55</li><li>57</li><li>59</li><li>61</li><li>63</li><li>65</li><li>67</li><li>69</li><li>71</li><li>73</li><li>75</li><li>77</li><li>79</li><li>81</li><li>83</li><li>85</li><li>87</li><li>89</li><li>91</li><li>93</li><li>95</li><li>97</li><li>99</li></ol>\n"
            ]
          },
          "metadata": {}
        }
      ]
    },
    {
      "cell_type": "code",
      "source": [
        "seq(from=2, to=100, by=2)"
      ],
      "metadata": {
        "colab": {
          "base_uri": "https://localhost:8080/",
          "height": 52
        },
        "id": "0V9ZvSa_DJJQ",
        "outputId": "806279d7-c27e-494f-b233-eb2cf0faa235"
      },
      "execution_count": null,
      "outputs": [
        {
          "output_type": "display_data",
          "data": {
            "text/plain": [
              " [1]   2   4   6   8  10  12  14  16  18  20  22  24  26  28  30  32  34  36  38\n",
              "[20]  40  42  44  46  48  50  52  54  56  58  60  62  64  66  68  70  72  74  76\n",
              "[39]  78  80  82  84  86  88  90  92  94  96  98 100"
            ],
            "text/latex": "\\begin{enumerate*}\n\\item 2\n\\item 4\n\\item 6\n\\item 8\n\\item 10\n\\item 12\n\\item 14\n\\item 16\n\\item 18\n\\item 20\n\\item 22\n\\item 24\n\\item 26\n\\item 28\n\\item 30\n\\item 32\n\\item 34\n\\item 36\n\\item 38\n\\item 40\n\\item 42\n\\item 44\n\\item 46\n\\item 48\n\\item 50\n\\item 52\n\\item 54\n\\item 56\n\\item 58\n\\item 60\n\\item 62\n\\item 64\n\\item 66\n\\item 68\n\\item 70\n\\item 72\n\\item 74\n\\item 76\n\\item 78\n\\item 80\n\\item 82\n\\item 84\n\\item 86\n\\item 88\n\\item 90\n\\item 92\n\\item 94\n\\item 96\n\\item 98\n\\item 100\n\\end{enumerate*}\n",
            "text/markdown": "1. 2\n2. 4\n3. 6\n4. 8\n5. 10\n6. 12\n7. 14\n8. 16\n9. 18\n10. 20\n11. 22\n12. 24\n13. 26\n14. 28\n15. 30\n16. 32\n17. 34\n18. 36\n19. 38\n20. 40\n21. 42\n22. 44\n23. 46\n24. 48\n25. 50\n26. 52\n27. 54\n28. 56\n29. 58\n30. 60\n31. 62\n32. 64\n33. 66\n34. 68\n35. 70\n36. 72\n37. 74\n38. 76\n39. 78\n40. 80\n41. 82\n42. 84\n43. 86\n44. 88\n45. 90\n46. 92\n47. 94\n48. 96\n49. 98\n50. 100\n\n\n",
            "text/html": [
              "<style>\n",
              ".list-inline {list-style: none; margin:0; padding: 0}\n",
              ".list-inline>li {display: inline-block}\n",
              ".list-inline>li:not(:last-child)::after {content: \"\\00b7\"; padding: 0 .5ex}\n",
              "</style>\n",
              "<ol class=list-inline><li>2</li><li>4</li><li>6</li><li>8</li><li>10</li><li>12</li><li>14</li><li>16</li><li>18</li><li>20</li><li>22</li><li>24</li><li>26</li><li>28</li><li>30</li><li>32</li><li>34</li><li>36</li><li>38</li><li>40</li><li>42</li><li>44</li><li>46</li><li>48</li><li>50</li><li>52</li><li>54</li><li>56</li><li>58</li><li>60</li><li>62</li><li>64</li><li>66</li><li>68</li><li>70</li><li>72</li><li>74</li><li>76</li><li>78</li><li>80</li><li>82</li><li>84</li><li>86</li><li>88</li><li>90</li><li>92</li><li>94</li><li>96</li><li>98</li><li>100</li></ol>\n"
            ]
          },
          "metadata": {}
        }
      ]
    },
    {
      "cell_type": "code",
      "source": [
        "seq(from=1, to=100, by=2)  +  1"
      ],
      "metadata": {
        "colab": {
          "base_uri": "https://localhost:8080/",
          "height": 69
        },
        "id": "MTkspjVqDVRR",
        "outputId": "8d8e06f0-4555-4e10-f0ac-c57bdeaebbe7"
      },
      "execution_count": null,
      "outputs": [
        {
          "output_type": "display_data",
          "data": {
            "text/plain": [
              " [1]   2   4   6   8  10  12  14  16  18  20  22  24  26  28  30  32  34  36  38\n",
              "[20]  40  42  44  46  48  50  52  54  56  58  60  62  64  66  68  70  72  74  76\n",
              "[39]  78  80  82  84  86  88  90  92  94  96  98 100"
            ],
            "text/latex": "\\begin{enumerate*}\n\\item 2\n\\item 4\n\\item 6\n\\item 8\n\\item 10\n\\item 12\n\\item 14\n\\item 16\n\\item 18\n\\item 20\n\\item 22\n\\item 24\n\\item 26\n\\item 28\n\\item 30\n\\item 32\n\\item 34\n\\item 36\n\\item 38\n\\item 40\n\\item 42\n\\item 44\n\\item 46\n\\item 48\n\\item 50\n\\item 52\n\\item 54\n\\item 56\n\\item 58\n\\item 60\n\\item 62\n\\item 64\n\\item 66\n\\item 68\n\\item 70\n\\item 72\n\\item 74\n\\item 76\n\\item 78\n\\item 80\n\\item 82\n\\item 84\n\\item 86\n\\item 88\n\\item 90\n\\item 92\n\\item 94\n\\item 96\n\\item 98\n\\item 100\n\\end{enumerate*}\n",
            "text/markdown": "1. 2\n2. 4\n3. 6\n4. 8\n5. 10\n6. 12\n7. 14\n8. 16\n9. 18\n10. 20\n11. 22\n12. 24\n13. 26\n14. 28\n15. 30\n16. 32\n17. 34\n18. 36\n19. 38\n20. 40\n21. 42\n22. 44\n23. 46\n24. 48\n25. 50\n26. 52\n27. 54\n28. 56\n29. 58\n30. 60\n31. 62\n32. 64\n33. 66\n34. 68\n35. 70\n36. 72\n37. 74\n38. 76\n39. 78\n40. 80\n41. 82\n42. 84\n43. 86\n44. 88\n45. 90\n46. 92\n47. 94\n48. 96\n49. 98\n50. 100\n\n\n",
            "text/html": [
              "<style>\n",
              ".list-inline {list-style: none; margin:0; padding: 0}\n",
              ".list-inline>li {display: inline-block}\n",
              ".list-inline>li:not(:last-child)::after {content: \"\\00b7\"; padding: 0 .5ex}\n",
              "</style>\n",
              "<ol class=list-inline><li>2</li><li>4</li><li>6</li><li>8</li><li>10</li><li>12</li><li>14</li><li>16</li><li>18</li><li>20</li><li>22</li><li>24</li><li>26</li><li>28</li><li>30</li><li>32</li><li>34</li><li>36</li><li>38</li><li>40</li><li>42</li><li>44</li><li>46</li><li>48</li><li>50</li><li>52</li><li>54</li><li>56</li><li>58</li><li>60</li><li>62</li><li>64</li><li>66</li><li>68</li><li>70</li><li>72</li><li>74</li><li>76</li><li>78</li><li>80</li><li>82</li><li>84</li><li>86</li><li>88</li><li>90</li><li>92</li><li>94</li><li>96</li><li>98</li><li>100</li></ol>\n"
            ]
          },
          "metadata": {}
        }
      ]
    },
    {
      "cell_type": "markdown",
      "source": [
        "# Matrices"
      ],
      "metadata": {
        "id": "vhGWTrAYDkh5"
      }
    },
    {
      "cell_type": "code",
      "source": [
        "x <- 1:9 "
      ],
      "metadata": {
        "id": "YoINJzayDnTC"
      },
      "execution_count": null,
      "outputs": []
    },
    {
      "cell_type": "code",
      "source": [
        "x"
      ],
      "metadata": {
        "colab": {
          "base_uri": "https://localhost:8080/",
          "height": 34
        },
        "id": "Fu5Us5AoD7-V",
        "outputId": "94e6a701-b0d8-4727-eb3b-40cf433aefa4"
      },
      "execution_count": null,
      "outputs": [
        {
          "output_type": "display_data",
          "data": {
            "text/plain": [
              "[1] 1 2 3 4 5 6 7 8 9"
            ],
            "text/latex": "\\begin{enumerate*}\n\\item 1\n\\item 2\n\\item 3\n\\item 4\n\\item 5\n\\item 6\n\\item 7\n\\item 8\n\\item 9\n\\end{enumerate*}\n",
            "text/markdown": "1. 1\n2. 2\n3. 3\n4. 4\n5. 5\n6. 6\n7. 7\n8. 8\n9. 9\n\n\n",
            "text/html": [
              "<style>\n",
              ".list-inline {list-style: none; margin:0; padding: 0}\n",
              ".list-inline>li {display: inline-block}\n",
              ".list-inline>li:not(:last-child)::after {content: \"\\00b7\"; padding: 0 .5ex}\n",
              "</style>\n",
              "<ol class=list-inline><li>1</li><li>2</li><li>3</li><li>4</li><li>5</li><li>6</li><li>7</li><li>8</li><li>9</li></ol>\n"
            ]
          },
          "metadata": {}
        }
      ]
    },
    {
      "cell_type": "code",
      "source": [
        "m <- matrix(x)"
      ],
      "metadata": {
        "id": "pzwof4uAD8k7"
      },
      "execution_count": null,
      "outputs": []
    },
    {
      "cell_type": "code",
      "source": [
        "m"
      ],
      "metadata": {
        "colab": {
          "base_uri": "https://localhost:8080/",
          "height": 386
        },
        "id": "5-rYL-snElwH",
        "outputId": "2db16827-747f-4b15-ffc9-6ab92e3b71f6"
      },
      "execution_count": null,
      "outputs": [
        {
          "output_type": "display_data",
          "data": {
            "text/plain": [
              "      [,1]\n",
              " [1,] 1   \n",
              " [2,] 2   \n",
              " [3,] 3   \n",
              " [4,] 4   \n",
              " [5,] 5   \n",
              " [6,] 6   \n",
              " [7,] 7   \n",
              " [8,] 8   \n",
              " [9,] 9   "
            ],
            "text/latex": "A matrix: 9 × 1 of type int\n\\begin{tabular}{l}\n\t 1\\\\\n\t 2\\\\\n\t 3\\\\\n\t 4\\\\\n\t 5\\\\\n\t 6\\\\\n\t 7\\\\\n\t 8\\\\\n\t 9\\\\\n\\end{tabular}\n",
            "text/markdown": "\nA matrix: 9 × 1 of type int\n\n| 1 |\n| 2 |\n| 3 |\n| 4 |\n| 5 |\n| 6 |\n| 7 |\n| 8 |\n| 9 |\n\n",
            "text/html": [
              "<table class=\"dataframe\">\n",
              "<caption>A matrix: 9 × 1 of type int</caption>\n",
              "<tbody>\n",
              "\t<tr><td>1</td></tr>\n",
              "\t<tr><td>2</td></tr>\n",
              "\t<tr><td>3</td></tr>\n",
              "\t<tr><td>4</td></tr>\n",
              "\t<tr><td>5</td></tr>\n",
              "\t<tr><td>6</td></tr>\n",
              "\t<tr><td>7</td></tr>\n",
              "\t<tr><td>8</td></tr>\n",
              "\t<tr><td>9</td></tr>\n",
              "</tbody>\n",
              "</table>\n"
            ]
          },
          "metadata": {}
        }
      ]
    },
    {
      "cell_type": "markdown",
      "source": [
        "Lo que quiero es la siguiente matriz: \n",
        "\n",
        "\n",
        "$$\\begin{bmatrix}1 & 4 & 7\\\\\n",
        "2 & 5 & 8\\\\\n",
        "3 & 6 & 9\n",
        "\\end{bmatrix}$$\n"
      ],
      "metadata": {
        "id": "LzMBoyBlErlz"
      }
    },
    {
      "cell_type": "code",
      "source": [
        "?matrix"
      ],
      "metadata": {
        "id": "Y7ldKS_MEn4S"
      },
      "execution_count": null,
      "outputs": []
    },
    {
      "cell_type": "code",
      "source": [
        "m <- matrix(x, ncol=3)"
      ],
      "metadata": {
        "id": "7GFjzpq7Fukx"
      },
      "execution_count": null,
      "outputs": []
    },
    {
      "cell_type": "code",
      "source": [
        "m"
      ],
      "metadata": {
        "colab": {
          "base_uri": "https://localhost:8080/",
          "height": 163
        },
        "id": "0G0lIhV3F-ge",
        "outputId": "5651a4b4-628e-414e-f2f8-edcda43ed7d8"
      },
      "execution_count": null,
      "outputs": [
        {
          "output_type": "display_data",
          "data": {
            "text/plain": [
              "     [,1] [,2] [,3]\n",
              "[1,] 1    4    7   \n",
              "[2,] 2    5    8   \n",
              "[3,] 3    6    9   "
            ],
            "text/latex": "A matrix: 3 × 3 of type int\n\\begin{tabular}{lll}\n\t 1 & 4 & 7\\\\\n\t 2 & 5 & 8\\\\\n\t 3 & 6 & 9\\\\\n\\end{tabular}\n",
            "text/markdown": "\nA matrix: 3 × 3 of type int\n\n| 1 | 4 | 7 |\n| 2 | 5 | 8 |\n| 3 | 6 | 9 |\n\n",
            "text/html": [
              "<table class=\"dataframe\">\n",
              "<caption>A matrix: 3 × 3 of type int</caption>\n",
              "<tbody>\n",
              "\t<tr><td>1</td><td>4</td><td>7</td></tr>\n",
              "\t<tr><td>2</td><td>5</td><td>8</td></tr>\n",
              "\t<tr><td>3</td><td>6</td><td>9</td></tr>\n",
              "</tbody>\n",
              "</table>\n"
            ]
          },
          "metadata": {}
        }
      ]
    },
    {
      "cell_type": "code",
      "source": [
        "m <- matrix(x, ncol=3, byrow=FALSE)"
      ],
      "metadata": {
        "id": "tE1KT6-hGCsU"
      },
      "execution_count": null,
      "outputs": []
    },
    {
      "cell_type": "code",
      "source": [
        "m"
      ],
      "metadata": {
        "colab": {
          "base_uri": "https://localhost:8080/",
          "height": 163
        },
        "id": "pu6QooN_GIL6",
        "outputId": "18b35176-17d5-4524-a231-ccecbd9263c2"
      },
      "execution_count": null,
      "outputs": [
        {
          "output_type": "display_data",
          "data": {
            "text/plain": [
              "     [,1] [,2] [,3]\n",
              "[1,] 1    4    7   \n",
              "[2,] 2    5    8   \n",
              "[3,] 3    6    9   "
            ],
            "text/latex": "A matrix: 3 × 3 of type int\n\\begin{tabular}{lll}\n\t 1 & 4 & 7\\\\\n\t 2 & 5 & 8\\\\\n\t 3 & 6 & 9\\\\\n\\end{tabular}\n",
            "text/markdown": "\nA matrix: 3 × 3 of type int\n\n| 1 | 4 | 7 |\n| 2 | 5 | 8 |\n| 3 | 6 | 9 |\n\n",
            "text/html": [
              "<table class=\"dataframe\">\n",
              "<caption>A matrix: 3 × 3 of type int</caption>\n",
              "<tbody>\n",
              "\t<tr><td>1</td><td>4</td><td>7</td></tr>\n",
              "\t<tr><td>2</td><td>5</td><td>8</td></tr>\n",
              "\t<tr><td>3</td><td>6</td><td>9</td></tr>\n",
              "</tbody>\n",
              "</table>\n"
            ]
          },
          "metadata": {}
        }
      ]
    },
    {
      "cell_type": "code",
      "source": [
        "m <- matrix(x, ncol=3, byrow=TRUE)"
      ],
      "metadata": {
        "id": "xdfE5KB6GIks"
      },
      "execution_count": null,
      "outputs": []
    },
    {
      "cell_type": "code",
      "source": [
        "m"
      ],
      "metadata": {
        "colab": {
          "base_uri": "https://localhost:8080/",
          "height": 163
        },
        "id": "sUcTRi4vGO_I",
        "outputId": "861233d0-8ab2-4168-d613-cb9706a6275b"
      },
      "execution_count": null,
      "outputs": [
        {
          "output_type": "display_data",
          "data": {
            "text/plain": [
              "     [,1] [,2] [,3]\n",
              "[1,] 1    2    3   \n",
              "[2,] 4    5    6   \n",
              "[3,] 7    8    9   "
            ],
            "text/latex": "A matrix: 3 × 3 of type int\n\\begin{tabular}{lll}\n\t 1 & 2 & 3\\\\\n\t 4 & 5 & 6\\\\\n\t 7 & 8 & 9\\\\\n\\end{tabular}\n",
            "text/markdown": "\nA matrix: 3 × 3 of type int\n\n| 1 | 2 | 3 |\n| 4 | 5 | 6 |\n| 7 | 8 | 9 |\n\n",
            "text/html": [
              "<table class=\"dataframe\">\n",
              "<caption>A matrix: 3 × 3 of type int</caption>\n",
              "<tbody>\n",
              "\t<tr><td>1</td><td>2</td><td>3</td></tr>\n",
              "\t<tr><td>4</td><td>5</td><td>6</td></tr>\n",
              "\t<tr><td>7</td><td>8</td><td>9</td></tr>\n",
              "</tbody>\n",
              "</table>\n"
            ]
          },
          "metadata": {}
        }
      ]
    },
    {
      "cell_type": "code",
      "source": [
        "m + m "
      ],
      "metadata": {
        "colab": {
          "base_uri": "https://localhost:8080/",
          "height": 146
        },
        "id": "8bQv8h-fGPaX",
        "outputId": "bdcf9b0c-03c9-466d-cbcf-ae9f02239a0a"
      },
      "execution_count": null,
      "outputs": [
        {
          "output_type": "display_data",
          "data": {
            "text/plain": [
              "     [,1] [,2] [,3]\n",
              "[1,]  2    4    6  \n",
              "[2,]  8   10   12  \n",
              "[3,] 14   16   18  "
            ],
            "text/latex": "A matrix: 3 × 3 of type int\n\\begin{tabular}{lll}\n\t  2 &  4 &  6\\\\\n\t  8 & 10 & 12\\\\\n\t 14 & 16 & 18\\\\\n\\end{tabular}\n",
            "text/markdown": "\nA matrix: 3 × 3 of type int\n\n|  2 |  4 |  6 |\n|  8 | 10 | 12 |\n| 14 | 16 | 18 |\n\n",
            "text/html": [
              "<table class=\"dataframe\">\n",
              "<caption>A matrix: 3 × 3 of type int</caption>\n",
              "<tbody>\n",
              "\t<tr><td> 2</td><td> 4</td><td> 6</td></tr>\n",
              "\t<tr><td> 8</td><td>10</td><td>12</td></tr>\n",
              "\t<tr><td>14</td><td>16</td><td>18</td></tr>\n",
              "</tbody>\n",
              "</table>\n"
            ]
          },
          "metadata": {}
        }
      ]
    },
    {
      "cell_type": "code",
      "source": [
        "solve(m)"
      ],
      "metadata": {
        "colab": {
          "base_uri": "https://localhost:8080/",
          "height": 152
        },
        "id": "-yZzJgZFGe2E",
        "outputId": "de4ce5f9-a1e9-41f4-d4c5-4428a06f3365"
      },
      "execution_count": null,
      "outputs": [
        {
          "output_type": "error",
          "ename": "ERROR",
          "evalue": "ignored",
          "traceback": [
            "Error in solve.default(m): Lapack routine dgesv: system is exactly singular: U[3,3] = 0\nTraceback:\n",
            "1. solve(m)",
            "2. solve.default(m)"
          ]
        }
      ]
    },
    {
      "cell_type": "code",
      "source": [
        "m2 = matrix(c(4,2,1,5), ncol=2)"
      ],
      "metadata": {
        "id": "Cc-0prdsGjOa"
      },
      "execution_count": null,
      "outputs": []
    },
    {
      "cell_type": "code",
      "source": [
        "m2"
      ],
      "metadata": {
        "colab": {
          "base_uri": "https://localhost:8080/",
          "height": 167
        },
        "id": "6FJhn4o3GxlO",
        "outputId": "ece813f7-2241-48e8-b183-bedee273a0fa"
      },
      "execution_count": null,
      "outputs": [
        {
          "output_type": "display_data",
          "data": {
            "text/plain": [
              "     [,1] [,2]\n",
              "[1,] 4    1   \n",
              "[2,] 2    5   "
            ],
            "text/latex": "A matrix: 2 × 2 of type dbl\n\\begin{tabular}{ll}\n\t 4 & 1\\\\\n\t 2 & 5\\\\\n\\end{tabular}\n",
            "text/markdown": "\nA matrix: 2 × 2 of type dbl\n\n| 4 | 1 |\n| 2 | 5 |\n\n",
            "text/html": [
              "<table class=\"dataframe\">\n",
              "<caption>A matrix: 2 × 2 of type dbl</caption>\n",
              "<tbody>\n",
              "\t<tr><td>4</td><td>1</td></tr>\n",
              "\t<tr><td>2</td><td>5</td></tr>\n",
              "</tbody>\n",
              "</table>\n"
            ]
          },
          "metadata": {}
        }
      ]
    },
    {
      "cell_type": "code",
      "source": [
        "solve(m2)"
      ],
      "metadata": {
        "colab": {
          "base_uri": "https://localhost:8080/",
          "height": 97
        },
        "id": "oRSt61rhGx-1",
        "outputId": "e95094f9-6a0a-4e61-990a-cf276c8daf15"
      },
      "execution_count": null,
      "outputs": [
        {
          "output_type": "display_data",
          "data": {
            "text/plain": [
              "     [,1]       [,2]       \n",
              "[1,]  0.2777778 -0.05555556\n",
              "[2,] -0.1111111  0.22222222"
            ],
            "text/latex": "A matrix: 2 × 2 of type dbl\n\\begin{tabular}{ll}\n\t  0.2777778 & -0.05555556\\\\\n\t -0.1111111 &  0.22222222\\\\\n\\end{tabular}\n",
            "text/markdown": "\nA matrix: 2 × 2 of type dbl\n\n|  0.2777778 | -0.05555556 |\n| -0.1111111 |  0.22222222 |\n\n",
            "text/html": [
              "<table class=\"dataframe\">\n",
              "<caption>A matrix: 2 × 2 of type dbl</caption>\n",
              "<tbody>\n",
              "\t<tr><td> 0.2777778</td><td>-0.05555556</td></tr>\n",
              "\t<tr><td>-0.1111111</td><td> 0.22222222</td></tr>\n",
              "</tbody>\n",
              "</table>\n"
            ]
          },
          "metadata": {}
        }
      ]
    },
    {
      "cell_type": "code",
      "source": [
        "m3 <- solve(m2)"
      ],
      "metadata": {
        "id": "A-Uhb_GfGzZv"
      },
      "execution_count": null,
      "outputs": []
    },
    {
      "cell_type": "code",
      "source": [
        "m2 %*% m3"
      ],
      "metadata": {
        "colab": {
          "base_uri": "https://localhost:8080/",
          "height": 114
        },
        "id": "_bPwoDNUG2ud",
        "outputId": "cf5a6440-9b0b-4c90-94b8-7aafb520b6a4"
      },
      "execution_count": null,
      "outputs": [
        {
          "output_type": "display_data",
          "data": {
            "text/plain": [
              "     [,1]         [,2]\n",
              "[1,] 1.000000e+00 0   \n",
              "[2,] 5.551115e-17 1   "
            ],
            "text/latex": "A matrix: 2 × 2 of type dbl\n\\begin{tabular}{ll}\n\t 1.000000e+00 & 0\\\\\n\t 5.551115e-17 & 1\\\\\n\\end{tabular}\n",
            "text/markdown": "\nA matrix: 2 × 2 of type dbl\n\n| 1.000000e+00 | 0 |\n| 5.551115e-17 | 1 |\n\n",
            "text/html": [
              "<table class=\"dataframe\">\n",
              "<caption>A matrix: 2 × 2 of type dbl</caption>\n",
              "<tbody>\n",
              "\t<tr><td>1.000000e+00</td><td>0</td></tr>\n",
              "\t<tr><td>5.551115e-17</td><td>1</td></tr>\n",
              "</tbody>\n",
              "</table>\n"
            ]
          },
          "metadata": {}
        }
      ]
    },
    {
      "cell_type": "code",
      "source": [
        "m3"
      ],
      "metadata": {
        "colab": {
          "base_uri": "https://localhost:8080/",
          "height": 97
        },
        "id": "qqlv6044G6ai",
        "outputId": "c56e8c76-c5e2-4087-f3b2-9efd11abb69b"
      },
      "execution_count": null,
      "outputs": [
        {
          "output_type": "display_data",
          "data": {
            "text/plain": [
              "     [,1]       [,2]       \n",
              "[1,]  0.2777778 -0.05555556\n",
              "[2,] -0.1111111  0.22222222"
            ],
            "text/latex": "A matrix: 2 × 2 of type dbl\n\\begin{tabular}{ll}\n\t  0.2777778 & -0.05555556\\\\\n\t -0.1111111 &  0.22222222\\\\\n\\end{tabular}\n",
            "text/markdown": "\nA matrix: 2 × 2 of type dbl\n\n|  0.2777778 | -0.05555556 |\n| -0.1111111 |  0.22222222 |\n\n",
            "text/html": [
              "<table class=\"dataframe\">\n",
              "<caption>A matrix: 2 × 2 of type dbl</caption>\n",
              "<tbody>\n",
              "\t<tr><td> 0.2777778</td><td>-0.05555556</td></tr>\n",
              "\t<tr><td>-0.1111111</td><td> 0.22222222</td></tr>\n",
              "</tbody>\n",
              "</table>\n"
            ]
          },
          "metadata": {}
        }
      ]
    },
    {
      "cell_type": "code",
      "source": [
        "m3[1, ] # accesando a la primera fila"
      ],
      "metadata": {
        "colab": {
          "base_uri": "https://localhost:8080/",
          "height": 34
        },
        "id": "6-mbXgfaHHRQ",
        "outputId": "8b163d0e-6c1d-4ded-888f-42fde0a2957e"
      },
      "execution_count": null,
      "outputs": [
        {
          "output_type": "display_data",
          "data": {
            "text/plain": [
              "[1]  0.27777778 -0.05555556"
            ],
            "text/latex": "\\begin{enumerate*}\n\\item 0.277777777777778\n\\item -0.0555555555555556\n\\end{enumerate*}\n",
            "text/markdown": "1. 0.277777777777778\n2. -0.0555555555555556\n\n\n",
            "text/html": [
              "<style>\n",
              ".list-inline {list-style: none; margin:0; padding: 0}\n",
              ".list-inline>li {display: inline-block}\n",
              ".list-inline>li:not(:last-child)::after {content: \"\\00b7\"; padding: 0 .5ex}\n",
              "</style>\n",
              "<ol class=list-inline><li>0.277777777777778</li><li>-0.0555555555555556</li></ol>\n"
            ]
          },
          "metadata": {}
        }
      ]
    },
    {
      "cell_type": "code",
      "source": [
        "m3[, 2]  # accesando a la segunda columna "
      ],
      "metadata": {
        "colab": {
          "base_uri": "https://localhost:8080/",
          "height": 34
        },
        "id": "ca-lJaHwHLMY",
        "outputId": "592ea609-388a-45e9-da33-c05d482f429a"
      },
      "execution_count": null,
      "outputs": [
        {
          "output_type": "display_data",
          "data": {
            "text/plain": [
              "[1] -0.05555556  0.22222222"
            ],
            "text/latex": "\\begin{enumerate*}\n\\item -0.0555555555555556\n\\item 0.222222222222222\n\\end{enumerate*}\n",
            "text/markdown": "1. -0.0555555555555556\n2. 0.222222222222222\n\n\n",
            "text/html": [
              "<style>\n",
              ".list-inline {list-style: none; margin:0; padding: 0}\n",
              ".list-inline>li {display: inline-block}\n",
              ".list-inline>li:not(:last-child)::after {content: \"\\00b7\"; padding: 0 .5ex}\n",
              "</style>\n",
              "<ol class=list-inline><li>-0.0555555555555556</li><li>0.222222222222222</li></ol>\n"
            ]
          },
          "metadata": {}
        }
      ]
    },
    {
      "cell_type": "code",
      "source": [
        "m4 <- matrix(1:16, ncol=4)"
      ],
      "metadata": {
        "id": "2SexDhIuHYLc"
      },
      "execution_count": null,
      "outputs": []
    },
    {
      "cell_type": "code",
      "source": [
        "m4"
      ],
      "metadata": {
        "colab": {
          "base_uri": "https://localhost:8080/",
          "height": 177
        },
        "id": "p4ZjEp7yHh4B",
        "outputId": "a0636c2b-ab92-4ca9-9b26-15c165fbf792"
      },
      "execution_count": null,
      "outputs": [
        {
          "output_type": "display_data",
          "data": {
            "text/plain": [
              "     [,1] [,2] [,3] [,4]\n",
              "[1,] 1    5     9   13  \n",
              "[2,] 2    6    10   14  \n",
              "[3,] 3    7    11   15  \n",
              "[4,] 4    8    12   16  "
            ],
            "text/latex": "A matrix: 4 × 4 of type int\n\\begin{tabular}{llll}\n\t 1 & 5 &  9 & 13\\\\\n\t 2 & 6 & 10 & 14\\\\\n\t 3 & 7 & 11 & 15\\\\\n\t 4 & 8 & 12 & 16\\\\\n\\end{tabular}\n",
            "text/markdown": "\nA matrix: 4 × 4 of type int\n\n| 1 | 5 |  9 | 13 |\n| 2 | 6 | 10 | 14 |\n| 3 | 7 | 11 | 15 |\n| 4 | 8 | 12 | 16 |\n\n",
            "text/html": [
              "<table class=\"dataframe\">\n",
              "<caption>A matrix: 4 × 4 of type int</caption>\n",
              "<tbody>\n",
              "\t<tr><td>1</td><td>5</td><td> 9</td><td>13</td></tr>\n",
              "\t<tr><td>2</td><td>6</td><td>10</td><td>14</td></tr>\n",
              "\t<tr><td>3</td><td>7</td><td>11</td><td>15</td></tr>\n",
              "\t<tr><td>4</td><td>8</td><td>12</td><td>16</td></tr>\n",
              "</tbody>\n",
              "</table>\n"
            ]
          },
          "metadata": {}
        }
      ]
    },
    {
      "cell_type": "code",
      "source": [
        "m4[, c(2, 4)]"
      ],
      "metadata": {
        "colab": {
          "base_uri": "https://localhost:8080/",
          "height": 212
        },
        "id": "W2C3MTCsHiVR",
        "outputId": "e871ae3a-1e84-4bc0-f531-99fd658f44e4"
      },
      "execution_count": null,
      "outputs": [
        {
          "output_type": "display_data",
          "data": {
            "text/plain": [
              "     [,1] [,2]\n",
              "[1,] 5    13  \n",
              "[2,] 6    14  \n",
              "[3,] 7    15  \n",
              "[4,] 8    16  "
            ],
            "text/latex": "A matrix: 4 × 2 of type int\n\\begin{tabular}{ll}\n\t 5 & 13\\\\\n\t 6 & 14\\\\\n\t 7 & 15\\\\\n\t 8 & 16\\\\\n\\end{tabular}\n",
            "text/markdown": "\nA matrix: 4 × 2 of type int\n\n| 5 | 13 |\n| 6 | 14 |\n| 7 | 15 |\n| 8 | 16 |\n\n",
            "text/html": [
              "<table class=\"dataframe\">\n",
              "<caption>A matrix: 4 × 2 of type int</caption>\n",
              "<tbody>\n",
              "\t<tr><td>5</td><td>13</td></tr>\n",
              "\t<tr><td>6</td><td>14</td></tr>\n",
              "\t<tr><td>7</td><td>15</td></tr>\n",
              "\t<tr><td>8</td><td>16</td></tr>\n",
              "</tbody>\n",
              "</table>\n"
            ]
          },
          "metadata": {}
        }
      ]
    },
    {
      "cell_type": "code",
      "source": [
        "m4[1:2, ]"
      ],
      "metadata": {
        "colab": {
          "base_uri": "https://localhost:8080/",
          "height": 114
        },
        "id": "fgssAXePHqQ3",
        "outputId": "f19daf1e-d107-4e36-b957-e6df413ea6d6"
      },
      "execution_count": null,
      "outputs": [
        {
          "output_type": "display_data",
          "data": {
            "text/plain": [
              "     [,1] [,2] [,3] [,4]\n",
              "[1,] 1    5     9   13  \n",
              "[2,] 2    6    10   14  "
            ],
            "text/latex": "A matrix: 2 × 4 of type int\n\\begin{tabular}{llll}\n\t 1 & 5 &  9 & 13\\\\\n\t 2 & 6 & 10 & 14\\\\\n\\end{tabular}\n",
            "text/markdown": "\nA matrix: 2 × 4 of type int\n\n| 1 | 5 |  9 | 13 |\n| 2 | 6 | 10 | 14 |\n\n",
            "text/html": [
              "<table class=\"dataframe\">\n",
              "<caption>A matrix: 2 × 4 of type int</caption>\n",
              "<tbody>\n",
              "\t<tr><td>1</td><td>5</td><td> 9</td><td>13</td></tr>\n",
              "\t<tr><td>2</td><td>6</td><td>10</td><td>14</td></tr>\n",
              "</tbody>\n",
              "</table>\n"
            ]
          },
          "metadata": {}
        }
      ]
    },
    {
      "cell_type": "code",
      "source": [
        "m4[c(1,2), ]"
      ],
      "metadata": {
        "colab": {
          "base_uri": "https://localhost:8080/",
          "height": 114
        },
        "id": "T0_dEY1QHvQ2",
        "outputId": "a3d76d24-bad8-4a9f-c4fe-9a6acbfee0ac"
      },
      "execution_count": null,
      "outputs": [
        {
          "output_type": "display_data",
          "data": {
            "text/plain": [
              "     [,1] [,2] [,3] [,4]\n",
              "[1,] 1    5     9   13  \n",
              "[2,] 2    6    10   14  "
            ],
            "text/latex": "A matrix: 2 × 4 of type int\n\\begin{tabular}{llll}\n\t 1 & 5 &  9 & 13\\\\\n\t 2 & 6 & 10 & 14\\\\\n\\end{tabular}\n",
            "text/markdown": "\nA matrix: 2 × 4 of type int\n\n| 1 | 5 |  9 | 13 |\n| 2 | 6 | 10 | 14 |\n\n",
            "text/html": [
              "<table class=\"dataframe\">\n",
              "<caption>A matrix: 2 × 4 of type int</caption>\n",
              "<tbody>\n",
              "\t<tr><td>1</td><td>5</td><td> 9</td><td>13</td></tr>\n",
              "\t<tr><td>2</td><td>6</td><td>10</td><td>14</td></tr>\n",
              "</tbody>\n",
              "</table>\n"
            ]
          },
          "metadata": {}
        }
      ]
    },
    {
      "cell_type": "code",
      "source": [
        "m4"
      ],
      "metadata": {
        "colab": {
          "base_uri": "https://localhost:8080/",
          "height": 177
        },
        "id": "HgoNU0-THyXs",
        "outputId": "8f99f50c-24a6-4106-feef-2a2ad3a97e2a"
      },
      "execution_count": null,
      "outputs": [
        {
          "output_type": "display_data",
          "data": {
            "text/plain": [
              "     [,1] [,2] [,3] [,4]\n",
              "[1,] 1    5     9   13  \n",
              "[2,] 2    6    10   14  \n",
              "[3,] 3    7    11   15  \n",
              "[4,] 4    8    12   16  "
            ],
            "text/latex": "A matrix: 4 × 4 of type int\n\\begin{tabular}{llll}\n\t 1 & 5 &  9 & 13\\\\\n\t 2 & 6 & 10 & 14\\\\\n\t 3 & 7 & 11 & 15\\\\\n\t 4 & 8 & 12 & 16\\\\\n\\end{tabular}\n",
            "text/markdown": "\nA matrix: 4 × 4 of type int\n\n| 1 | 5 |  9 | 13 |\n| 2 | 6 | 10 | 14 |\n| 3 | 7 | 11 | 15 |\n| 4 | 8 | 12 | 16 |\n\n",
            "text/html": [
              "<table class=\"dataframe\">\n",
              "<caption>A matrix: 4 × 4 of type int</caption>\n",
              "<tbody>\n",
              "\t<tr><td>1</td><td>5</td><td> 9</td><td>13</td></tr>\n",
              "\t<tr><td>2</td><td>6</td><td>10</td><td>14</td></tr>\n",
              "\t<tr><td>3</td><td>7</td><td>11</td><td>15</td></tr>\n",
              "\t<tr><td>4</td><td>8</td><td>12</td><td>16</td></tr>\n",
              "</tbody>\n",
              "</table>\n"
            ]
          },
          "metadata": {}
        }
      ]
    },
    {
      "cell_type": "markdown",
      "source": [
        "Puedo nombrar las columnas y filas."
      ],
      "metadata": {
        "id": "CS_9C6OFIIwR"
      }
    },
    {
      "cell_type": "code",
      "source": [
        "colnames(m4)"
      ],
      "metadata": {
        "colab": {
          "base_uri": "https://localhost:8080/",
          "height": 35
        },
        "id": "0WiMVG22IH7A",
        "outputId": "fc226d24-2635-47f5-e4b0-0332c196a67f"
      },
      "execution_count": null,
      "outputs": [
        {
          "output_type": "display_data",
          "data": {
            "text/plain": [
              "NULL"
            ]
          },
          "metadata": {}
        }
      ]
    },
    {
      "cell_type": "code",
      "source": [
        "rownames(m4)"
      ],
      "metadata": {
        "colab": {
          "base_uri": "https://localhost:8080/",
          "height": 35
        },
        "id": "AAzdKPr-IM9N",
        "outputId": "5312a173-7158-47cc-8584-e6a296c52292"
      },
      "execution_count": null,
      "outputs": [
        {
          "output_type": "display_data",
          "data": {
            "text/plain": [
              "NULL"
            ]
          },
          "metadata": {}
        }
      ]
    },
    {
      "cell_type": "code",
      "source": [
        "colnames(m4) <- c(\"C1\", \"C2\", \"C3\", \"C4\")"
      ],
      "metadata": {
        "id": "MXcLUdtEIOx6"
      },
      "execution_count": null,
      "outputs": []
    },
    {
      "cell_type": "code",
      "source": [
        "m4"
      ],
      "metadata": {
        "colab": {
          "base_uri": "https://localhost:8080/",
          "height": 209
        },
        "id": "6aMH8NO2IW1j",
        "outputId": "94f403fa-5fd7-4466-cf20-8c372b215f7a"
      },
      "execution_count": null,
      "outputs": [
        {
          "output_type": "display_data",
          "data": {
            "text/plain": [
              "     C1 C2 C3 C4\n",
              "[1,] 1  5   9 13\n",
              "[2,] 2  6  10 14\n",
              "[3,] 3  7  11 15\n",
              "[4,] 4  8  12 16"
            ],
            "text/latex": "A matrix: 4 × 4 of type int\n\\begin{tabular}{llll}\n C1 & C2 & C3 & C4\\\\\n\\hline\n\t 1 & 5 &  9 & 13\\\\\n\t 2 & 6 & 10 & 14\\\\\n\t 3 & 7 & 11 & 15\\\\\n\t 4 & 8 & 12 & 16\\\\\n\\end{tabular}\n",
            "text/markdown": "\nA matrix: 4 × 4 of type int\n\n| C1 | C2 | C3 | C4 |\n|---|---|---|---|\n| 1 | 5 |  9 | 13 |\n| 2 | 6 | 10 | 14 |\n| 3 | 7 | 11 | 15 |\n| 4 | 8 | 12 | 16 |\n\n",
            "text/html": [
              "<table class=\"dataframe\">\n",
              "<caption>A matrix: 4 × 4 of type int</caption>\n",
              "<thead>\n",
              "\t<tr><th scope=col>C1</th><th scope=col>C2</th><th scope=col>C3</th><th scope=col>C4</th></tr>\n",
              "</thead>\n",
              "<tbody>\n",
              "\t<tr><td>1</td><td>5</td><td> 9</td><td>13</td></tr>\n",
              "\t<tr><td>2</td><td>6</td><td>10</td><td>14</td></tr>\n",
              "\t<tr><td>3</td><td>7</td><td>11</td><td>15</td></tr>\n",
              "\t<tr><td>4</td><td>8</td><td>12</td><td>16</td></tr>\n",
              "</tbody>\n",
              "</table>\n"
            ]
          },
          "metadata": {}
        }
      ]
    },
    {
      "cell_type": "code",
      "source": [
        "rownames(m4) <- c(\"R1\", \"R2\", \"R3\", \"R4\")"
      ],
      "metadata": {
        "id": "JJFm_W5JIaRb"
      },
      "execution_count": null,
      "outputs": []
    },
    {
      "cell_type": "code",
      "source": [
        "m4"
      ],
      "metadata": {
        "colab": {
          "base_uri": "https://localhost:8080/",
          "height": 209
        },
        "id": "rs_YQbMpIqrX",
        "outputId": "f500c207-c9d1-4e4f-9b94-019363a8e938"
      },
      "execution_count": null,
      "outputs": [
        {
          "output_type": "display_data",
          "data": {
            "text/plain": [
              "   C1 C2 C3 C4\n",
              "R1 1  5   9 13\n",
              "R2 2  6  10 14\n",
              "R3 3  7  11 15\n",
              "R4 4  8  12 16"
            ],
            "text/latex": "A matrix: 4 × 4 of type int\n\\begin{tabular}{r|llll}\n  & C1 & C2 & C3 & C4\\\\\n\\hline\n\tR1 & 1 & 5 &  9 & 13\\\\\n\tR2 & 2 & 6 & 10 & 14\\\\\n\tR3 & 3 & 7 & 11 & 15\\\\\n\tR4 & 4 & 8 & 12 & 16\\\\\n\\end{tabular}\n",
            "text/markdown": "\nA matrix: 4 × 4 of type int\n\n| <!--/--> | C1 | C2 | C3 | C4 |\n|---|---|---|---|---|\n| R1 | 1 | 5 |  9 | 13 |\n| R2 | 2 | 6 | 10 | 14 |\n| R3 | 3 | 7 | 11 | 15 |\n| R4 | 4 | 8 | 12 | 16 |\n\n",
            "text/html": [
              "<table class=\"dataframe\">\n",
              "<caption>A matrix: 4 × 4 of type int</caption>\n",
              "<thead>\n",
              "\t<tr><th></th><th scope=col>C1</th><th scope=col>C2</th><th scope=col>C3</th><th scope=col>C4</th></tr>\n",
              "</thead>\n",
              "<tbody>\n",
              "\t<tr><th scope=row>R1</th><td>1</td><td>5</td><td> 9</td><td>13</td></tr>\n",
              "\t<tr><th scope=row>R2</th><td>2</td><td>6</td><td>10</td><td>14</td></tr>\n",
              "\t<tr><th scope=row>R3</th><td>3</td><td>7</td><td>11</td><td>15</td></tr>\n",
              "\t<tr><th scope=row>R4</th><td>4</td><td>8</td><td>12</td><td>16</td></tr>\n",
              "</tbody>\n",
              "</table>\n"
            ]
          },
          "metadata": {}
        }
      ]
    },
    {
      "cell_type": "code",
      "source": [
        "m4[C1, ]"
      ],
      "metadata": {
        "colab": {
          "base_uri": "https://localhost:8080/",
          "height": 99
        },
        "id": "1Xd8z7z6IrZ-",
        "outputId": "76390c28-9e5b-48b9-b835-ca0d53c61f14"
      },
      "execution_count": null,
      "outputs": [
        {
          "output_type": "error",
          "ename": "ERROR",
          "evalue": "ignored",
          "traceback": [
            "Error in eval(expr, envir, enclos): object 'C1' not found\nTraceback:\n"
          ]
        }
      ]
    },
    {
      "cell_type": "code",
      "source": [
        "m4[\"R1\", ]"
      ],
      "metadata": {
        "colab": {
          "base_uri": "https://localhost:8080/",
          "height": 34
        },
        "id": "3Uazk48EIx67",
        "outputId": "2972f9ee-257a-46d6-8e79-d68ee30feb28"
      },
      "execution_count": null,
      "outputs": [
        {
          "output_type": "display_data",
          "data": {
            "text/plain": [
              "C1 C2 C3 C4 \n",
              " 1  5  9 13 "
            ],
            "text/latex": "\\begin{description*}\n\\item[C1] 1\n\\item[C2] 5\n\\item[C3] 9\n\\item[C4] 13\n\\end{description*}\n",
            "text/markdown": "C1\n:   1C2\n:   5C3\n:   9C4\n:   13\n\n",
            "text/html": [
              "<style>\n",
              ".dl-inline {width: auto; margin:0; padding: 0}\n",
              ".dl-inline>dt, .dl-inline>dd {float: none; width: auto; display: inline-block}\n",
              ".dl-inline>dt::after {content: \":\\0020\"; padding-right: .5ex}\n",
              ".dl-inline>dt:not(:first-of-type) {padding-left: .5ex}\n",
              "</style><dl class=dl-inline><dt>C1</dt><dd>1</dd><dt>C2</dt><dd>5</dd><dt>C3</dt><dd>9</dd><dt>C4</dt><dd>13</dd></dl>\n"
            ]
          },
          "metadata": {}
        }
      ]
    },
    {
      "cell_type": "code",
      "source": [
        "m4[, \"C1\"]"
      ],
      "metadata": {
        "colab": {
          "base_uri": "https://localhost:8080/",
          "height": 34
        },
        "id": "Oxa1MEiTI0yq",
        "outputId": "68bbda2a-56e9-43b0-bc70-41aad620ed40"
      },
      "execution_count": null,
      "outputs": [
        {
          "output_type": "display_data",
          "data": {
            "text/plain": [
              "R1 R2 R3 R4 \n",
              " 1  2  3  4 "
            ],
            "text/latex": "\\begin{description*}\n\\item[R1] 1\n\\item[R2] 2\n\\item[R3] 3\n\\item[R4] 4\n\\end{description*}\n",
            "text/markdown": "R1\n:   1R2\n:   2R3\n:   3R4\n:   4\n\n",
            "text/html": [
              "<style>\n",
              ".dl-inline {width: auto; margin:0; padding: 0}\n",
              ".dl-inline>dt, .dl-inline>dd {float: none; width: auto; display: inline-block}\n",
              ".dl-inline>dt::after {content: \":\\0020\"; padding-right: .5ex}\n",
              ".dl-inline>dt:not(:first-of-type) {padding-left: .5ex}\n",
              "</style><dl class=dl-inline><dt>R1</dt><dd>1</dd><dt>R2</dt><dd>2</dd><dt>R3</dt><dd>3</dd><dt>R4</dt><dd>4</dd></dl>\n"
            ]
          },
          "metadata": {}
        }
      ]
    },
    {
      "cell_type": "code",
      "source": [
        "?as.matrix"
      ],
      "metadata": {
        "id": "lAsPrOr0I-D_"
      },
      "execution_count": null,
      "outputs": []
    },
    {
      "cell_type": "code",
      "source": [
        "x2 <- seq(1, 2, by=0.1)\n",
        "x2"
      ],
      "metadata": {
        "colab": {
          "base_uri": "https://localhost:8080/",
          "height": 34
        },
        "id": "osPIYDKUJD54",
        "outputId": "049b5163-55db-4a66-f035-4394e2e3d8bd"
      },
      "execution_count": null,
      "outputs": [
        {
          "output_type": "display_data",
          "data": {
            "text/plain": [
              " [1] 1.0 1.1 1.2 1.3 1.4 1.5 1.6 1.7 1.8 1.9 2.0"
            ],
            "text/latex": "\\begin{enumerate*}\n\\item 1\n\\item 1.1\n\\item 1.2\n\\item 1.3\n\\item 1.4\n\\item 1.5\n\\item 1.6\n\\item 1.7\n\\item 1.8\n\\item 1.9\n\\item 2\n\\end{enumerate*}\n",
            "text/markdown": "1. 1\n2. 1.1\n3. 1.2\n4. 1.3\n5. 1.4\n6. 1.5\n7. 1.6\n8. 1.7\n9. 1.8\n10. 1.9\n11. 2\n\n\n",
            "text/html": [
              "<style>\n",
              ".list-inline {list-style: none; margin:0; padding: 0}\n",
              ".list-inline>li {display: inline-block}\n",
              ".list-inline>li:not(:last-child)::after {content: \"\\00b7\"; padding: 0 .5ex}\n",
              "</style>\n",
              "<ol class=list-inline><li>1</li><li>1.1</li><li>1.2</li><li>1.3</li><li>1.4</li><li>1.5</li><li>1.6</li><li>1.7</li><li>1.8</li><li>1.9</li><li>2</li></ol>\n"
            ]
          },
          "metadata": {}
        }
      ]
    },
    {
      "cell_type": "code",
      "source": [
        "m5 <- as.matrix(x2)"
      ],
      "metadata": {
        "id": "T3f7OfwjJaaI"
      },
      "execution_count": null,
      "outputs": []
    },
    {
      "cell_type": "code",
      "source": [
        "m5"
      ],
      "metadata": {
        "colab": {
          "base_uri": "https://localhost:8080/",
          "height": 449
        },
        "id": "CF5JNchUJhZd",
        "outputId": "71671cd5-53b0-4abd-9824-53f5e8afe577"
      },
      "execution_count": null,
      "outputs": [
        {
          "output_type": "display_data",
          "data": {
            "text/plain": [
              "      [,1]\n",
              " [1,] 1.0 \n",
              " [2,] 1.1 \n",
              " [3,] 1.2 \n",
              " [4,] 1.3 \n",
              " [5,] 1.4 \n",
              " [6,] 1.5 \n",
              " [7,] 1.6 \n",
              " [8,] 1.7 \n",
              " [9,] 1.8 \n",
              "[10,] 1.9 \n",
              "[11,] 2.0 "
            ],
            "text/latex": "A matrix: 11 × 1 of type dbl\n\\begin{tabular}{l}\n\t 1.0\\\\\n\t 1.1\\\\\n\t 1.2\\\\\n\t 1.3\\\\\n\t 1.4\\\\\n\t 1.5\\\\\n\t 1.6\\\\\n\t 1.7\\\\\n\t 1.8\\\\\n\t 1.9\\\\\n\t 2.0\\\\\n\\end{tabular}\n",
            "text/markdown": "\nA matrix: 11 × 1 of type dbl\n\n| 1.0 |\n| 1.1 |\n| 1.2 |\n| 1.3 |\n| 1.4 |\n| 1.5 |\n| 1.6 |\n| 1.7 |\n| 1.8 |\n| 1.9 |\n| 2.0 |\n\n",
            "text/html": [
              "<table class=\"dataframe\">\n",
              "<caption>A matrix: 11 × 1 of type dbl</caption>\n",
              "<tbody>\n",
              "\t<tr><td>1.0</td></tr>\n",
              "\t<tr><td>1.1</td></tr>\n",
              "\t<tr><td>1.2</td></tr>\n",
              "\t<tr><td>1.3</td></tr>\n",
              "\t<tr><td>1.4</td></tr>\n",
              "\t<tr><td>1.5</td></tr>\n",
              "\t<tr><td>1.6</td></tr>\n",
              "\t<tr><td>1.7</td></tr>\n",
              "\t<tr><td>1.8</td></tr>\n",
              "\t<tr><td>1.9</td></tr>\n",
              "\t<tr><td>2.0</td></tr>\n",
              "</tbody>\n",
              "</table>\n"
            ]
          },
          "metadata": {}
        }
      ]
    },
    {
      "cell_type": "code",
      "source": [
        "letters"
      ],
      "metadata": {
        "colab": {
          "base_uri": "https://localhost:8080/",
          "height": 34
        },
        "id": "1ZRq_QmqKE7X",
        "outputId": "6effe219-c805-4463-9f4f-1f6f6aae9a17"
      },
      "execution_count": null,
      "outputs": [
        {
          "output_type": "display_data",
          "data": {
            "text/plain": [
              " [1] \"a\" \"b\" \"c\" \"d\" \"e\" \"f\" \"g\" \"h\" \"i\" \"j\" \"k\" \"l\" \"m\" \"n\" \"o\" \"p\" \"q\" \"r\" \"s\"\n",
              "[20] \"t\" \"u\" \"v\" \"w\" \"x\" \"y\" \"z\""
            ],
            "text/latex": "\\begin{enumerate*}\n\\item 'a'\n\\item 'b'\n\\item 'c'\n\\item 'd'\n\\item 'e'\n\\item 'f'\n\\item 'g'\n\\item 'h'\n\\item 'i'\n\\item 'j'\n\\item 'k'\n\\item 'l'\n\\item 'm'\n\\item 'n'\n\\item 'o'\n\\item 'p'\n\\item 'q'\n\\item 'r'\n\\item 's'\n\\item 't'\n\\item 'u'\n\\item 'v'\n\\item 'w'\n\\item 'x'\n\\item 'y'\n\\item 'z'\n\\end{enumerate*}\n",
            "text/markdown": "1. 'a'\n2. 'b'\n3. 'c'\n4. 'd'\n5. 'e'\n6. 'f'\n7. 'g'\n8. 'h'\n9. 'i'\n10. 'j'\n11. 'k'\n12. 'l'\n13. 'm'\n14. 'n'\n15. 'o'\n16. 'p'\n17. 'q'\n18. 'r'\n19. 's'\n20. 't'\n21. 'u'\n22. 'v'\n23. 'w'\n24. 'x'\n25. 'y'\n26. 'z'\n\n\n",
            "text/html": [
              "<style>\n",
              ".list-inline {list-style: none; margin:0; padding: 0}\n",
              ".list-inline>li {display: inline-block}\n",
              ".list-inline>li:not(:last-child)::after {content: \"\\00b7\"; padding: 0 .5ex}\n",
              "</style>\n",
              "<ol class=list-inline><li>'a'</li><li>'b'</li><li>'c'</li><li>'d'</li><li>'e'</li><li>'f'</li><li>'g'</li><li>'h'</li><li>'i'</li><li>'j'</li><li>'k'</li><li>'l'</li><li>'m'</li><li>'n'</li><li>'o'</li><li>'p'</li><li>'q'</li><li>'r'</li><li>'s'</li><li>'t'</li><li>'u'</li><li>'v'</li><li>'w'</li><li>'x'</li><li>'y'</li><li>'z'</li></ol>\n"
            ]
          },
          "metadata": {}
        }
      ]
    },
    {
      "cell_type": "code",
      "source": [
        "m6 <- matrix(letters[1:16], ncol=4)"
      ],
      "metadata": {
        "id": "K3DVY5YfKORX"
      },
      "execution_count": null,
      "outputs": []
    },
    {
      "cell_type": "code",
      "source": [
        "m6"
      ],
      "metadata": {
        "colab": {
          "base_uri": "https://localhost:8080/",
          "height": 177
        },
        "id": "H-qF3kOuKXo9",
        "outputId": "7d2c3653-b247-46c9-fe52-321b34357b89"
      },
      "execution_count": null,
      "outputs": [
        {
          "output_type": "display_data",
          "data": {
            "text/plain": [
              "     [,1] [,2] [,3] [,4]\n",
              "[1,] a    e    i    m   \n",
              "[2,] b    f    j    n   \n",
              "[3,] c    g    k    o   \n",
              "[4,] d    h    l    p   "
            ],
            "text/latex": "A matrix: 4 × 4 of type chr\n\\begin{tabular}{llll}\n\t a & e & i & m\\\\\n\t b & f & j & n\\\\\n\t c & g & k & o\\\\\n\t d & h & l & p\\\\\n\\end{tabular}\n",
            "text/markdown": "\nA matrix: 4 × 4 of type chr\n\n| a | e | i | m |\n| b | f | j | n |\n| c | g | k | o |\n| d | h | l | p |\n\n",
            "text/html": [
              "<table class=\"dataframe\">\n",
              "<caption>A matrix: 4 × 4 of type chr</caption>\n",
              "<tbody>\n",
              "\t<tr><td>a</td><td>e</td><td>i</td><td>m</td></tr>\n",
              "\t<tr><td>b</td><td>f</td><td>j</td><td>n</td></tr>\n",
              "\t<tr><td>c</td><td>g</td><td>k</td><td>o</td></tr>\n",
              "\t<tr><td>d</td><td>h</td><td>l</td><td>p</td></tr>\n",
              "</tbody>\n",
              "</table>\n"
            ]
          },
          "metadata": {}
        }
      ]
    },
    {
      "cell_type": "code",
      "source": [
        "solve(m6)"
      ],
      "metadata": {
        "colab": {
          "base_uri": "https://localhost:8080/",
          "height": 152
        },
        "id": "v2eIoAQsKZd0",
        "outputId": "21d3f884-1c25-421b-cd42-4036b995b5b6"
      },
      "execution_count": null,
      "outputs": [
        {
          "output_type": "error",
          "ename": "ERROR",
          "evalue": "ignored",
          "traceback": [
            "Error in solve.default(m6): 'a' must be a numeric matrix\nTraceback:\n",
            "1. solve(m6)",
            "2. solve.default(m6)"
          ]
        }
      ]
    },
    {
      "cell_type": "markdown",
      "source": [
        "# Data Frames"
      ],
      "metadata": {
        "id": "04Mbype2J9lO"
      }
    },
    {
      "cell_type": "code",
      "source": [
        "x1 = 1:16 \n",
        "x2 = letters[1:16]\n",
        "x3 = rnorm(16)"
      ],
      "metadata": {
        "id": "5U3WIiJVJv5K"
      },
      "execution_count": null,
      "outputs": []
    },
    {
      "cell_type": "code",
      "source": [
        "x1"
      ],
      "metadata": {
        "colab": {
          "base_uri": "https://localhost:8080/",
          "height": 34
        },
        "id": "W5-lhqUWKsUk",
        "outputId": "f4b92e44-2c39-4f46-bd9b-0b2c18343949"
      },
      "execution_count": null,
      "outputs": [
        {
          "output_type": "display_data",
          "data": {
            "text/plain": [
              " [1]  1  2  3  4  5  6  7  8  9 10 11 12 13 14 15 16"
            ],
            "text/latex": "\\begin{enumerate*}\n\\item 1\n\\item 2\n\\item 3\n\\item 4\n\\item 5\n\\item 6\n\\item 7\n\\item 8\n\\item 9\n\\item 10\n\\item 11\n\\item 12\n\\item 13\n\\item 14\n\\item 15\n\\item 16\n\\end{enumerate*}\n",
            "text/markdown": "1. 1\n2. 2\n3. 3\n4. 4\n5. 5\n6. 6\n7. 7\n8. 8\n9. 9\n10. 10\n11. 11\n12. 12\n13. 13\n14. 14\n15. 15\n16. 16\n\n\n",
            "text/html": [
              "<style>\n",
              ".list-inline {list-style: none; margin:0; padding: 0}\n",
              ".list-inline>li {display: inline-block}\n",
              ".list-inline>li:not(:last-child)::after {content: \"\\00b7\"; padding: 0 .5ex}\n",
              "</style>\n",
              "<ol class=list-inline><li>1</li><li>2</li><li>3</li><li>4</li><li>5</li><li>6</li><li>7</li><li>8</li><li>9</li><li>10</li><li>11</li><li>12</li><li>13</li><li>14</li><li>15</li><li>16</li></ol>\n"
            ]
          },
          "metadata": {}
        }
      ]
    },
    {
      "cell_type": "code",
      "source": [
        "x2"
      ],
      "metadata": {
        "colab": {
          "base_uri": "https://localhost:8080/",
          "height": 34
        },
        "id": "YHnKOuHcKuXz",
        "outputId": "ae17172a-f839-4d81-b1fd-eaac1d34c434"
      },
      "execution_count": null,
      "outputs": [
        {
          "output_type": "display_data",
          "data": {
            "text/plain": [
              " [1] \"a\" \"b\" \"c\" \"d\" \"e\" \"f\" \"g\" \"h\" \"i\" \"j\" \"k\" \"l\" \"m\" \"n\" \"o\" \"p\""
            ],
            "text/latex": "\\begin{enumerate*}\n\\item 'a'\n\\item 'b'\n\\item 'c'\n\\item 'd'\n\\item 'e'\n\\item 'f'\n\\item 'g'\n\\item 'h'\n\\item 'i'\n\\item 'j'\n\\item 'k'\n\\item 'l'\n\\item 'm'\n\\item 'n'\n\\item 'o'\n\\item 'p'\n\\end{enumerate*}\n",
            "text/markdown": "1. 'a'\n2. 'b'\n3. 'c'\n4. 'd'\n5. 'e'\n6. 'f'\n7. 'g'\n8. 'h'\n9. 'i'\n10. 'j'\n11. 'k'\n12. 'l'\n13. 'm'\n14. 'n'\n15. 'o'\n16. 'p'\n\n\n",
            "text/html": [
              "<style>\n",
              ".list-inline {list-style: none; margin:0; padding: 0}\n",
              ".list-inline>li {display: inline-block}\n",
              ".list-inline>li:not(:last-child)::after {content: \"\\00b7\"; padding: 0 .5ex}\n",
              "</style>\n",
              "<ol class=list-inline><li>'a'</li><li>'b'</li><li>'c'</li><li>'d'</li><li>'e'</li><li>'f'</li><li>'g'</li><li>'h'</li><li>'i'</li><li>'j'</li><li>'k'</li><li>'l'</li><li>'m'</li><li>'n'</li><li>'o'</li><li>'p'</li></ol>\n"
            ]
          },
          "metadata": {}
        }
      ]
    },
    {
      "cell_type": "code",
      "source": [
        "x3"
      ],
      "metadata": {
        "colab": {
          "base_uri": "https://localhost:8080/",
          "height": 69
        },
        "id": "KhBSnunnLZ4p",
        "outputId": "d3d70369-8d68-4258-8c99-420c4854b449"
      },
      "execution_count": null,
      "outputs": [
        {
          "output_type": "display_data",
          "data": {
            "text/plain": [
              " [1]  0.1271303 -0.2107701 -0.4246119 -0.1401276 -1.1907096  0.2520309\n",
              " [7]  0.9206727  1.2738698  2.1257802 -0.9826555 -0.2014291  1.0011734\n",
              "[13]  1.0413929  0.7416404  1.0263163 -0.1540825"
            ],
            "text/latex": "\\begin{enumerate*}\n\\item 0.127130310770595\n\\item -0.210770134948294\n\\item -0.424611854426265\n\\item -0.140127592824036\n\\item -1.19070956347125\n\\item 0.252030910355757\n\\item 0.92067270567517\n\\item 1.27386976917016\n\\item 2.12578023584466\n\\item -0.982655451449009\n\\item -0.201429089572054\n\\item 1.00117335546213\n\\item 1.04139287763188\n\\item 0.741640352290426\n\\item 1.02631632928735\n\\item -0.154082514375102\n\\end{enumerate*}\n",
            "text/markdown": "1. 0.127130310770595\n2. -0.210770134948294\n3. -0.424611854426265\n4. -0.140127592824036\n5. -1.19070956347125\n6. 0.252030910355757\n7. 0.92067270567517\n8. 1.27386976917016\n9. 2.12578023584466\n10. -0.982655451449009\n11. -0.201429089572054\n12. 1.00117335546213\n13. 1.04139287763188\n14. 0.741640352290426\n15. 1.02631632928735\n16. -0.154082514375102\n\n\n",
            "text/html": [
              "<style>\n",
              ".list-inline {list-style: none; margin:0; padding: 0}\n",
              ".list-inline>li {display: inline-block}\n",
              ".list-inline>li:not(:last-child)::after {content: \"\\00b7\"; padding: 0 .5ex}\n",
              "</style>\n",
              "<ol class=list-inline><li>0.127130310770595</li><li>-0.210770134948294</li><li>-0.424611854426265</li><li>-0.140127592824036</li><li>-1.19070956347125</li><li>0.252030910355757</li><li>0.92067270567517</li><li>1.27386976917016</li><li>2.12578023584466</li><li>-0.982655451449009</li><li>-0.201429089572054</li><li>1.00117335546213</li><li>1.04139287763188</li><li>0.741640352290426</li><li>1.02631632928735</li><li>-0.154082514375102</li></ol>\n"
            ]
          },
          "metadata": {}
        }
      ]
    },
    {
      "cell_type": "code",
      "source": [
        "df1 <- data.frame(numeros = x1, letras = x2, normales=x3)"
      ],
      "metadata": {
        "id": "km9lOc2sKu9z"
      },
      "execution_count": null,
      "outputs": []
    },
    {
      "cell_type": "code",
      "source": [
        "df1"
      ],
      "metadata": {
        "colab": {
          "base_uri": "https://localhost:8080/",
          "height": 600
        },
        "id": "JNOPAHewLGvo",
        "outputId": "f709dd5f-d86f-4080-c5a0-a413bf7cca05"
      },
      "execution_count": null,
      "outputs": [
        {
          "output_type": "display_data",
          "data": {
            "text/plain": [
              "   numeros letras normales  \n",
              "1   1      a       0.1271303\n",
              "2   2      b      -0.2107701\n",
              "3   3      c      -0.4246119\n",
              "4   4      d      -0.1401276\n",
              "5   5      e      -1.1907096\n",
              "6   6      f       0.2520309\n",
              "7   7      g       0.9206727\n",
              "8   8      h       1.2738698\n",
              "9   9      i       2.1257802\n",
              "10 10      j      -0.9826555\n",
              "11 11      k      -0.2014291\n",
              "12 12      l       1.0011734\n",
              "13 13      m       1.0413929\n",
              "14 14      n       0.7416404\n",
              "15 15      o       1.0263163\n",
              "16 16      p      -0.1540825"
            ],
            "text/latex": "A data.frame: 16 × 3\n\\begin{tabular}{lll}\n numeros & letras & normales\\\\\n <int> & <chr> & <dbl>\\\\\n\\hline\n\t  1 & a &  0.1271303\\\\\n\t  2 & b & -0.2107701\\\\\n\t  3 & c & -0.4246119\\\\\n\t  4 & d & -0.1401276\\\\\n\t  5 & e & -1.1907096\\\\\n\t  6 & f &  0.2520309\\\\\n\t  7 & g &  0.9206727\\\\\n\t  8 & h &  1.2738698\\\\\n\t  9 & i &  2.1257802\\\\\n\t 10 & j & -0.9826555\\\\\n\t 11 & k & -0.2014291\\\\\n\t 12 & l &  1.0011734\\\\\n\t 13 & m &  1.0413929\\\\\n\t 14 & n &  0.7416404\\\\\n\t 15 & o &  1.0263163\\\\\n\t 16 & p & -0.1540825\\\\\n\\end{tabular}\n",
            "text/markdown": "\nA data.frame: 16 × 3\n\n| numeros &lt;int&gt; | letras &lt;chr&gt; | normales &lt;dbl&gt; |\n|---|---|---|\n|  1 | a |  0.1271303 |\n|  2 | b | -0.2107701 |\n|  3 | c | -0.4246119 |\n|  4 | d | -0.1401276 |\n|  5 | e | -1.1907096 |\n|  6 | f |  0.2520309 |\n|  7 | g |  0.9206727 |\n|  8 | h |  1.2738698 |\n|  9 | i |  2.1257802 |\n| 10 | j | -0.9826555 |\n| 11 | k | -0.2014291 |\n| 12 | l |  1.0011734 |\n| 13 | m |  1.0413929 |\n| 14 | n |  0.7416404 |\n| 15 | o |  1.0263163 |\n| 16 | p | -0.1540825 |\n\n",
            "text/html": [
              "<table class=\"dataframe\">\n",
              "<caption>A data.frame: 16 × 3</caption>\n",
              "<thead>\n",
              "\t<tr><th scope=col>numeros</th><th scope=col>letras</th><th scope=col>normales</th></tr>\n",
              "\t<tr><th scope=col>&lt;int&gt;</th><th scope=col>&lt;chr&gt;</th><th scope=col>&lt;dbl&gt;</th></tr>\n",
              "</thead>\n",
              "<tbody>\n",
              "\t<tr><td> 1</td><td>a</td><td> 0.1271303</td></tr>\n",
              "\t<tr><td> 2</td><td>b</td><td>-0.2107701</td></tr>\n",
              "\t<tr><td> 3</td><td>c</td><td>-0.4246119</td></tr>\n",
              "\t<tr><td> 4</td><td>d</td><td>-0.1401276</td></tr>\n",
              "\t<tr><td> 5</td><td>e</td><td>-1.1907096</td></tr>\n",
              "\t<tr><td> 6</td><td>f</td><td> 0.2520309</td></tr>\n",
              "\t<tr><td> 7</td><td>g</td><td> 0.9206727</td></tr>\n",
              "\t<tr><td> 8</td><td>h</td><td> 1.2738698</td></tr>\n",
              "\t<tr><td> 9</td><td>i</td><td> 2.1257802</td></tr>\n",
              "\t<tr><td>10</td><td>j</td><td>-0.9826555</td></tr>\n",
              "\t<tr><td>11</td><td>k</td><td>-0.2014291</td></tr>\n",
              "\t<tr><td>12</td><td>l</td><td> 1.0011734</td></tr>\n",
              "\t<tr><td>13</td><td>m</td><td> 1.0413929</td></tr>\n",
              "\t<tr><td>14</td><td>n</td><td> 0.7416404</td></tr>\n",
              "\t<tr><td>15</td><td>o</td><td> 1.0263163</td></tr>\n",
              "\t<tr><td>16</td><td>p</td><td>-0.1540825</td></tr>\n",
              "</tbody>\n",
              "</table>\n"
            ]
          },
          "metadata": {}
        }
      ]
    },
    {
      "cell_type": "code",
      "source": [
        "df1[,\"numeros\"]"
      ],
      "metadata": {
        "colab": {
          "base_uri": "https://localhost:8080/",
          "height": 34
        },
        "id": "zxr3mG48LHfm",
        "outputId": "bf4635d2-3ae4-4757-ce17-b4fb74a66336"
      },
      "execution_count": null,
      "outputs": [
        {
          "output_type": "display_data",
          "data": {
            "text/plain": [
              " [1]  1  2  3  4  5  6  7  8  9 10 11 12 13 14 15 16"
            ],
            "text/latex": "\\begin{enumerate*}\n\\item 1\n\\item 2\n\\item 3\n\\item 4\n\\item 5\n\\item 6\n\\item 7\n\\item 8\n\\item 9\n\\item 10\n\\item 11\n\\item 12\n\\item 13\n\\item 14\n\\item 15\n\\item 16\n\\end{enumerate*}\n",
            "text/markdown": "1. 1\n2. 2\n3. 3\n4. 4\n5. 5\n6. 6\n7. 7\n8. 8\n9. 9\n10. 10\n11. 11\n12. 12\n13. 13\n14. 14\n15. 15\n16. 16\n\n\n",
            "text/html": [
              "<style>\n",
              ".list-inline {list-style: none; margin:0; padding: 0}\n",
              ".list-inline>li {display: inline-block}\n",
              ".list-inline>li:not(:last-child)::after {content: \"\\00b7\"; padding: 0 .5ex}\n",
              "</style>\n",
              "<ol class=list-inline><li>1</li><li>2</li><li>3</li><li>4</li><li>5</li><li>6</li><li>7</li><li>8</li><li>9</li><li>10</li><li>11</li><li>12</li><li>13</li><li>14</li><li>15</li><li>16</li></ol>\n"
            ]
          },
          "metadata": {}
        }
      ]
    },
    {
      "cell_type": "code",
      "source": [
        "df1[,c(\"numeros\", \"normales\")]"
      ],
      "metadata": {
        "colab": {
          "base_uri": "https://localhost:8080/",
          "height": 600
        },
        "id": "9-OXT4OALVNR",
        "outputId": "2f2c6d15-546b-48c8-f55e-98bc9ac75b39"
      },
      "execution_count": null,
      "outputs": [
        {
          "output_type": "display_data",
          "data": {
            "text/plain": [
              "   numeros normales  \n",
              "1   1       0.1271303\n",
              "2   2      -0.2107701\n",
              "3   3      -0.4246119\n",
              "4   4      -0.1401276\n",
              "5   5      -1.1907096\n",
              "6   6       0.2520309\n",
              "7   7       0.9206727\n",
              "8   8       1.2738698\n",
              "9   9       2.1257802\n",
              "10 10      -0.9826555\n",
              "11 11      -0.2014291\n",
              "12 12       1.0011734\n",
              "13 13       1.0413929\n",
              "14 14       0.7416404\n",
              "15 15       1.0263163\n",
              "16 16      -0.1540825"
            ],
            "text/latex": "A data.frame: 16 × 2\n\\begin{tabular}{ll}\n numeros & normales\\\\\n <int> & <dbl>\\\\\n\\hline\n\t  1 &  0.1271303\\\\\n\t  2 & -0.2107701\\\\\n\t  3 & -0.4246119\\\\\n\t  4 & -0.1401276\\\\\n\t  5 & -1.1907096\\\\\n\t  6 &  0.2520309\\\\\n\t  7 &  0.9206727\\\\\n\t  8 &  1.2738698\\\\\n\t  9 &  2.1257802\\\\\n\t 10 & -0.9826555\\\\\n\t 11 & -0.2014291\\\\\n\t 12 &  1.0011734\\\\\n\t 13 &  1.0413929\\\\\n\t 14 &  0.7416404\\\\\n\t 15 &  1.0263163\\\\\n\t 16 & -0.1540825\\\\\n\\end{tabular}\n",
            "text/markdown": "\nA data.frame: 16 × 2\n\n| numeros &lt;int&gt; | normales &lt;dbl&gt; |\n|---|---|\n|  1 |  0.1271303 |\n|  2 | -0.2107701 |\n|  3 | -0.4246119 |\n|  4 | -0.1401276 |\n|  5 | -1.1907096 |\n|  6 |  0.2520309 |\n|  7 |  0.9206727 |\n|  8 |  1.2738698 |\n|  9 |  2.1257802 |\n| 10 | -0.9826555 |\n| 11 | -0.2014291 |\n| 12 |  1.0011734 |\n| 13 |  1.0413929 |\n| 14 |  0.7416404 |\n| 15 |  1.0263163 |\n| 16 | -0.1540825 |\n\n",
            "text/html": [
              "<table class=\"dataframe\">\n",
              "<caption>A data.frame: 16 × 2</caption>\n",
              "<thead>\n",
              "\t<tr><th scope=col>numeros</th><th scope=col>normales</th></tr>\n",
              "\t<tr><th scope=col>&lt;int&gt;</th><th scope=col>&lt;dbl&gt;</th></tr>\n",
              "</thead>\n",
              "<tbody>\n",
              "\t<tr><td> 1</td><td> 0.1271303</td></tr>\n",
              "\t<tr><td> 2</td><td>-0.2107701</td></tr>\n",
              "\t<tr><td> 3</td><td>-0.4246119</td></tr>\n",
              "\t<tr><td> 4</td><td>-0.1401276</td></tr>\n",
              "\t<tr><td> 5</td><td>-1.1907096</td></tr>\n",
              "\t<tr><td> 6</td><td> 0.2520309</td></tr>\n",
              "\t<tr><td> 7</td><td> 0.9206727</td></tr>\n",
              "\t<tr><td> 8</td><td> 1.2738698</td></tr>\n",
              "\t<tr><td> 9</td><td> 2.1257802</td></tr>\n",
              "\t<tr><td>10</td><td>-0.9826555</td></tr>\n",
              "\t<tr><td>11</td><td>-0.2014291</td></tr>\n",
              "\t<tr><td>12</td><td> 1.0011734</td></tr>\n",
              "\t<tr><td>13</td><td> 1.0413929</td></tr>\n",
              "\t<tr><td>14</td><td> 0.7416404</td></tr>\n",
              "\t<tr><td>15</td><td> 1.0263163</td></tr>\n",
              "\t<tr><td>16</td><td>-0.1540825</td></tr>\n",
              "</tbody>\n",
              "</table>\n"
            ]
          },
          "metadata": {}
        }
      ]
    },
    {
      "cell_type": "code",
      "source": [
        "df2 <- df1[,c(\"numeros\", \"normales\")]"
      ],
      "metadata": {
        "id": "ieIknHOBLxxU"
      },
      "execution_count": null,
      "outputs": []
    },
    {
      "cell_type": "code",
      "source": [
        "df2"
      ],
      "metadata": {
        "colab": {
          "base_uri": "https://localhost:8080/",
          "height": 600
        },
        "id": "Vqr4mBVlL-o-",
        "outputId": "a80c69d4-e483-4438-9857-41fac9d8573a"
      },
      "execution_count": null,
      "outputs": [
        {
          "output_type": "display_data",
          "data": {
            "text/plain": [
              "   numeros normales  \n",
              "1   1       0.1271303\n",
              "2   2      -0.2107701\n",
              "3   3      -0.4246119\n",
              "4   4      -0.1401276\n",
              "5   5      -1.1907096\n",
              "6   6       0.2520309\n",
              "7   7       0.9206727\n",
              "8   8       1.2738698\n",
              "9   9       2.1257802\n",
              "10 10      -0.9826555\n",
              "11 11      -0.2014291\n",
              "12 12       1.0011734\n",
              "13 13       1.0413929\n",
              "14 14       0.7416404\n",
              "15 15       1.0263163\n",
              "16 16      -0.1540825"
            ],
            "text/latex": "A data.frame: 16 × 2\n\\begin{tabular}{ll}\n numeros & normales\\\\\n <int> & <dbl>\\\\\n\\hline\n\t  1 &  0.1271303\\\\\n\t  2 & -0.2107701\\\\\n\t  3 & -0.4246119\\\\\n\t  4 & -0.1401276\\\\\n\t  5 & -1.1907096\\\\\n\t  6 &  0.2520309\\\\\n\t  7 &  0.9206727\\\\\n\t  8 &  1.2738698\\\\\n\t  9 &  2.1257802\\\\\n\t 10 & -0.9826555\\\\\n\t 11 & -0.2014291\\\\\n\t 12 &  1.0011734\\\\\n\t 13 &  1.0413929\\\\\n\t 14 &  0.7416404\\\\\n\t 15 &  1.0263163\\\\\n\t 16 & -0.1540825\\\\\n\\end{tabular}\n",
            "text/markdown": "\nA data.frame: 16 × 2\n\n| numeros &lt;int&gt; | normales &lt;dbl&gt; |\n|---|---|\n|  1 |  0.1271303 |\n|  2 | -0.2107701 |\n|  3 | -0.4246119 |\n|  4 | -0.1401276 |\n|  5 | -1.1907096 |\n|  6 |  0.2520309 |\n|  7 |  0.9206727 |\n|  8 |  1.2738698 |\n|  9 |  2.1257802 |\n| 10 | -0.9826555 |\n| 11 | -0.2014291 |\n| 12 |  1.0011734 |\n| 13 |  1.0413929 |\n| 14 |  0.7416404 |\n| 15 |  1.0263163 |\n| 16 | -0.1540825 |\n\n",
            "text/html": [
              "<table class=\"dataframe\">\n",
              "<caption>A data.frame: 16 × 2</caption>\n",
              "<thead>\n",
              "\t<tr><th scope=col>numeros</th><th scope=col>normales</th></tr>\n",
              "\t<tr><th scope=col>&lt;int&gt;</th><th scope=col>&lt;dbl&gt;</th></tr>\n",
              "</thead>\n",
              "<tbody>\n",
              "\t<tr><td> 1</td><td> 0.1271303</td></tr>\n",
              "\t<tr><td> 2</td><td>-0.2107701</td></tr>\n",
              "\t<tr><td> 3</td><td>-0.4246119</td></tr>\n",
              "\t<tr><td> 4</td><td>-0.1401276</td></tr>\n",
              "\t<tr><td> 5</td><td>-1.1907096</td></tr>\n",
              "\t<tr><td> 6</td><td> 0.2520309</td></tr>\n",
              "\t<tr><td> 7</td><td> 0.9206727</td></tr>\n",
              "\t<tr><td> 8</td><td> 1.2738698</td></tr>\n",
              "\t<tr><td> 9</td><td> 2.1257802</td></tr>\n",
              "\t<tr><td>10</td><td>-0.9826555</td></tr>\n",
              "\t<tr><td>11</td><td>-0.2014291</td></tr>\n",
              "\t<tr><td>12</td><td> 1.0011734</td></tr>\n",
              "\t<tr><td>13</td><td> 1.0413929</td></tr>\n",
              "\t<tr><td>14</td><td> 0.7416404</td></tr>\n",
              "\t<tr><td>15</td><td> 1.0263163</td></tr>\n",
              "\t<tr><td>16</td><td>-0.1540825</td></tr>\n",
              "</tbody>\n",
              "</table>\n"
            ]
          },
          "metadata": {}
        }
      ]
    },
    {
      "cell_type": "code",
      "source": [
        "as.matrix(df2)"
      ],
      "metadata": {
        "colab": {
          "base_uri": "https://localhost:8080/",
          "height": 586
        },
        "id": "a1KSYJDFL_Km",
        "outputId": "51b9fcb5-8de8-44e3-c634-17e62051a9c6"
      },
      "execution_count": null,
      "outputs": [
        {
          "output_type": "display_data",
          "data": {
            "text/plain": [
              "      numeros normales  \n",
              " [1,]  1       0.1271303\n",
              " [2,]  2      -0.2107701\n",
              " [3,]  3      -0.4246119\n",
              " [4,]  4      -0.1401276\n",
              " [5,]  5      -1.1907096\n",
              " [6,]  6       0.2520309\n",
              " [7,]  7       0.9206727\n",
              " [8,]  8       1.2738698\n",
              " [9,]  9       2.1257802\n",
              "[10,] 10      -0.9826555\n",
              "[11,] 11      -0.2014291\n",
              "[12,] 12       1.0011734\n",
              "[13,] 13       1.0413929\n",
              "[14,] 14       0.7416404\n",
              "[15,] 15       1.0263163\n",
              "[16,] 16      -0.1540825"
            ],
            "text/latex": "A matrix: 16 × 2 of type dbl\n\\begin{tabular}{ll}\n numeros & normales\\\\\n\\hline\n\t  1 &  0.1271303\\\\\n\t  2 & -0.2107701\\\\\n\t  3 & -0.4246119\\\\\n\t  4 & -0.1401276\\\\\n\t  5 & -1.1907096\\\\\n\t  6 &  0.2520309\\\\\n\t  7 &  0.9206727\\\\\n\t  8 &  1.2738698\\\\\n\t  9 &  2.1257802\\\\\n\t 10 & -0.9826555\\\\\n\t 11 & -0.2014291\\\\\n\t 12 &  1.0011734\\\\\n\t 13 &  1.0413929\\\\\n\t 14 &  0.7416404\\\\\n\t 15 &  1.0263163\\\\\n\t 16 & -0.1540825\\\\\n\\end{tabular}\n",
            "text/markdown": "\nA matrix: 16 × 2 of type dbl\n\n| numeros | normales |\n|---|---|\n|  1 |  0.1271303 |\n|  2 | -0.2107701 |\n|  3 | -0.4246119 |\n|  4 | -0.1401276 |\n|  5 | -1.1907096 |\n|  6 |  0.2520309 |\n|  7 |  0.9206727 |\n|  8 |  1.2738698 |\n|  9 |  2.1257802 |\n| 10 | -0.9826555 |\n| 11 | -0.2014291 |\n| 12 |  1.0011734 |\n| 13 |  1.0413929 |\n| 14 |  0.7416404 |\n| 15 |  1.0263163 |\n| 16 | -0.1540825 |\n\n",
            "text/html": [
              "<table class=\"dataframe\">\n",
              "<caption>A matrix: 16 × 2 of type dbl</caption>\n",
              "<thead>\n",
              "\t<tr><th scope=col>numeros</th><th scope=col>normales</th></tr>\n",
              "</thead>\n",
              "<tbody>\n",
              "\t<tr><td> 1</td><td> 0.1271303</td></tr>\n",
              "\t<tr><td> 2</td><td>-0.2107701</td></tr>\n",
              "\t<tr><td> 3</td><td>-0.4246119</td></tr>\n",
              "\t<tr><td> 4</td><td>-0.1401276</td></tr>\n",
              "\t<tr><td> 5</td><td>-1.1907096</td></tr>\n",
              "\t<tr><td> 6</td><td> 0.2520309</td></tr>\n",
              "\t<tr><td> 7</td><td> 0.9206727</td></tr>\n",
              "\t<tr><td> 8</td><td> 1.2738698</td></tr>\n",
              "\t<tr><td> 9</td><td> 2.1257802</td></tr>\n",
              "\t<tr><td>10</td><td>-0.9826555</td></tr>\n",
              "\t<tr><td>11</td><td>-0.2014291</td></tr>\n",
              "\t<tr><td>12</td><td> 1.0011734</td></tr>\n",
              "\t<tr><td>13</td><td> 1.0413929</td></tr>\n",
              "\t<tr><td>14</td><td> 0.7416404</td></tr>\n",
              "\t<tr><td>15</td><td> 1.0263163</td></tr>\n",
              "\t<tr><td>16</td><td>-0.1540825</td></tr>\n",
              "</tbody>\n",
              "</table>\n"
            ]
          },
          "metadata": {}
        }
      ]
    },
    {
      "cell_type": "code",
      "source": [
        "df1$letras"
      ],
      "metadata": {
        "colab": {
          "base_uri": "https://localhost:8080/",
          "height": 34
        },
        "id": "Q9q24OycMC0e",
        "outputId": "3ed0378a-ba3f-479c-f224-630e1b2ce507"
      },
      "execution_count": null,
      "outputs": [
        {
          "output_type": "display_data",
          "data": {
            "text/plain": [
              " [1] \"a\" \"b\" \"c\" \"d\" \"e\" \"f\" \"g\" \"h\" \"i\" \"j\" \"k\" \"l\" \"m\" \"n\" \"o\" \"p\""
            ],
            "text/latex": "\\begin{enumerate*}\n\\item 'a'\n\\item 'b'\n\\item 'c'\n\\item 'd'\n\\item 'e'\n\\item 'f'\n\\item 'g'\n\\item 'h'\n\\item 'i'\n\\item 'j'\n\\item 'k'\n\\item 'l'\n\\item 'm'\n\\item 'n'\n\\item 'o'\n\\item 'p'\n\\end{enumerate*}\n",
            "text/markdown": "1. 'a'\n2. 'b'\n3. 'c'\n4. 'd'\n5. 'e'\n6. 'f'\n7. 'g'\n8. 'h'\n9. 'i'\n10. 'j'\n11. 'k'\n12. 'l'\n13. 'm'\n14. 'n'\n15. 'o'\n16. 'p'\n\n\n",
            "text/html": [
              "<style>\n",
              ".list-inline {list-style: none; margin:0; padding: 0}\n",
              ".list-inline>li {display: inline-block}\n",
              ".list-inline>li:not(:last-child)::after {content: \"\\00b7\"; padding: 0 .5ex}\n",
              "</style>\n",
              "<ol class=list-inline><li>'a'</li><li>'b'</li><li>'c'</li><li>'d'</li><li>'e'</li><li>'f'</li><li>'g'</li><li>'h'</li><li>'i'</li><li>'j'</li><li>'k'</li><li>'l'</li><li>'m'</li><li>'n'</li><li>'o'</li><li>'p'</li></ol>\n"
            ]
          },
          "metadata": {}
        }
      ]
    },
    {
      "cell_type": "code",
      "source": [
        "m6"
      ],
      "metadata": {
        "colab": {
          "base_uri": "https://localhost:8080/",
          "height": 177
        },
        "id": "7nBA6Ur_MK9K",
        "outputId": "14953f20-b74f-46ae-db11-bd9b4788e4a8"
      },
      "execution_count": null,
      "outputs": [
        {
          "output_type": "display_data",
          "data": {
            "text/plain": [
              "     [,1] [,2] [,3] [,4]\n",
              "[1,] a    e    i    m   \n",
              "[2,] b    f    j    n   \n",
              "[3,] c    g    k    o   \n",
              "[4,] d    h    l    p   "
            ],
            "text/latex": "A matrix: 4 × 4 of type chr\n\\begin{tabular}{llll}\n\t a & e & i & m\\\\\n\t b & f & j & n\\\\\n\t c & g & k & o\\\\\n\t d & h & l & p\\\\\n\\end{tabular}\n",
            "text/markdown": "\nA matrix: 4 × 4 of type chr\n\n| a | e | i | m |\n| b | f | j | n |\n| c | g | k | o |\n| d | h | l | p |\n\n",
            "text/html": [
              "<table class=\"dataframe\">\n",
              "<caption>A matrix: 4 × 4 of type chr</caption>\n",
              "<tbody>\n",
              "\t<tr><td>a</td><td>e</td><td>i</td><td>m</td></tr>\n",
              "\t<tr><td>b</td><td>f</td><td>j</td><td>n</td></tr>\n",
              "\t<tr><td>c</td><td>g</td><td>k</td><td>o</td></tr>\n",
              "\t<tr><td>d</td><td>h</td><td>l</td><td>p</td></tr>\n",
              "</tbody>\n",
              "</table>\n"
            ]
          },
          "metadata": {}
        }
      ]
    },
    {
      "cell_type": "code",
      "source": [
        "df3 <- as.data.frame(m6)"
      ],
      "metadata": {
        "id": "0zjcHTmvMUHP"
      },
      "execution_count": null,
      "outputs": []
    },
    {
      "cell_type": "code",
      "source": [
        "df3"
      ],
      "metadata": {
        "colab": {
          "base_uri": "https://localhost:8080/",
          "height": 223
        },
        "id": "wpXadvdiMf9s",
        "outputId": "37b10dc8-ff1d-4976-c99a-ebc6fe857af6"
      },
      "execution_count": null,
      "outputs": [
        {
          "output_type": "display_data",
          "data": {
            "text/plain": [
              "  V1 V2 V3 V4\n",
              "1 a  e  i  m \n",
              "2 b  f  j  n \n",
              "3 c  g  k  o \n",
              "4 d  h  l  p "
            ],
            "text/latex": "A data.frame: 4 × 4\n\\begin{tabular}{llll}\n V1 & V2 & V3 & V4\\\\\n <chr> & <chr> & <chr> & <chr>\\\\\n\\hline\n\t a & e & i & m\\\\\n\t b & f & j & n\\\\\n\t c & g & k & o\\\\\n\t d & h & l & p\\\\\n\\end{tabular}\n",
            "text/markdown": "\nA data.frame: 4 × 4\n\n| V1 &lt;chr&gt; | V2 &lt;chr&gt; | V3 &lt;chr&gt; | V4 &lt;chr&gt; |\n|---|---|---|---|\n| a | e | i | m |\n| b | f | j | n |\n| c | g | k | o |\n| d | h | l | p |\n\n",
            "text/html": [
              "<table class=\"dataframe\">\n",
              "<caption>A data.frame: 4 × 4</caption>\n",
              "<thead>\n",
              "\t<tr><th scope=col>V1</th><th scope=col>V2</th><th scope=col>V3</th><th scope=col>V4</th></tr>\n",
              "\t<tr><th scope=col>&lt;chr&gt;</th><th scope=col>&lt;chr&gt;</th><th scope=col>&lt;chr&gt;</th><th scope=col>&lt;chr&gt;</th></tr>\n",
              "</thead>\n",
              "<tbody>\n",
              "\t<tr><td>a</td><td>e</td><td>i</td><td>m</td></tr>\n",
              "\t<tr><td>b</td><td>f</td><td>j</td><td>n</td></tr>\n",
              "\t<tr><td>c</td><td>g</td><td>k</td><td>o</td></tr>\n",
              "\t<tr><td>d</td><td>h</td><td>l</td><td>p</td></tr>\n",
              "</tbody>\n",
              "</table>\n"
            ]
          },
          "metadata": {}
        }
      ]
    },
    {
      "cell_type": "code",
      "source": [
        "m4"
      ],
      "metadata": {
        "colab": {
          "base_uri": "https://localhost:8080/",
          "height": 209
        },
        "id": "KKhMOTm-Mg4p",
        "outputId": "e75d17d3-e8bf-4154-902d-bc3f0d52c602"
      },
      "execution_count": null,
      "outputs": [
        {
          "output_type": "display_data",
          "data": {
            "text/plain": [
              "   C1 C2 C3 C4\n",
              "R1 1  5   9 13\n",
              "R2 2  6  10 14\n",
              "R3 3  7  11 15\n",
              "R4 4  8  12 16"
            ],
            "text/latex": "A matrix: 4 × 4 of type int\n\\begin{tabular}{r|llll}\n  & C1 & C2 & C3 & C4\\\\\n\\hline\n\tR1 & 1 & 5 &  9 & 13\\\\\n\tR2 & 2 & 6 & 10 & 14\\\\\n\tR3 & 3 & 7 & 11 & 15\\\\\n\tR4 & 4 & 8 & 12 & 16\\\\\n\\end{tabular}\n",
            "text/markdown": "\nA matrix: 4 × 4 of type int\n\n| <!--/--> | C1 | C2 | C3 | C4 |\n|---|---|---|---|---|\n| R1 | 1 | 5 |  9 | 13 |\n| R2 | 2 | 6 | 10 | 14 |\n| R3 | 3 | 7 | 11 | 15 |\n| R4 | 4 | 8 | 12 | 16 |\n\n",
            "text/html": [
              "<table class=\"dataframe\">\n",
              "<caption>A matrix: 4 × 4 of type int</caption>\n",
              "<thead>\n",
              "\t<tr><th></th><th scope=col>C1</th><th scope=col>C2</th><th scope=col>C3</th><th scope=col>C4</th></tr>\n",
              "</thead>\n",
              "<tbody>\n",
              "\t<tr><th scope=row>R1</th><td>1</td><td>5</td><td> 9</td><td>13</td></tr>\n",
              "\t<tr><th scope=row>R2</th><td>2</td><td>6</td><td>10</td><td>14</td></tr>\n",
              "\t<tr><th scope=row>R3</th><td>3</td><td>7</td><td>11</td><td>15</td></tr>\n",
              "\t<tr><th scope=row>R4</th><td>4</td><td>8</td><td>12</td><td>16</td></tr>\n",
              "</tbody>\n",
              "</table>\n"
            ]
          },
          "metadata": {}
        }
      ]
    },
    {
      "cell_type": "code",
      "source": [
        "df4 <- as.data.frame(m4)"
      ],
      "metadata": {
        "id": "_6pPu240M3Y6"
      },
      "execution_count": null,
      "outputs": []
    },
    {
      "cell_type": "code",
      "source": [
        "df4"
      ],
      "metadata": {
        "colab": {
          "base_uri": "https://localhost:8080/",
          "height": 223
        },
        "id": "pGa9FVeZM9Fo",
        "outputId": "b5626882-bfac-4f1b-f200-672a680e13a7"
      },
      "execution_count": null,
      "outputs": [
        {
          "output_type": "display_data",
          "data": {
            "text/plain": [
              "   C1 C2 C3 C4\n",
              "R1 1  5   9 13\n",
              "R2 2  6  10 14\n",
              "R3 3  7  11 15\n",
              "R4 4  8  12 16"
            ],
            "text/latex": "A data.frame: 4 × 4\n\\begin{tabular}{r|llll}\n  & C1 & C2 & C3 & C4\\\\\n  & <int> & <int> & <int> & <int>\\\\\n\\hline\n\tR1 & 1 & 5 &  9 & 13\\\\\n\tR2 & 2 & 6 & 10 & 14\\\\\n\tR3 & 3 & 7 & 11 & 15\\\\\n\tR4 & 4 & 8 & 12 & 16\\\\\n\\end{tabular}\n",
            "text/markdown": "\nA data.frame: 4 × 4\n\n| <!--/--> | C1 &lt;int&gt; | C2 &lt;int&gt; | C3 &lt;int&gt; | C4 &lt;int&gt; |\n|---|---|---|---|---|\n| R1 | 1 | 5 |  9 | 13 |\n| R2 | 2 | 6 | 10 | 14 |\n| R3 | 3 | 7 | 11 | 15 |\n| R4 | 4 | 8 | 12 | 16 |\n\n",
            "text/html": [
              "<table class=\"dataframe\">\n",
              "<caption>A data.frame: 4 × 4</caption>\n",
              "<thead>\n",
              "\t<tr><th></th><th scope=col>C1</th><th scope=col>C2</th><th scope=col>C3</th><th scope=col>C4</th></tr>\n",
              "\t<tr><th></th><th scope=col>&lt;int&gt;</th><th scope=col>&lt;int&gt;</th><th scope=col>&lt;int&gt;</th><th scope=col>&lt;int&gt;</th></tr>\n",
              "</thead>\n",
              "<tbody>\n",
              "\t<tr><th scope=row>R1</th><td>1</td><td>5</td><td> 9</td><td>13</td></tr>\n",
              "\t<tr><th scope=row>R2</th><td>2</td><td>6</td><td>10</td><td>14</td></tr>\n",
              "\t<tr><th scope=row>R3</th><td>3</td><td>7</td><td>11</td><td>15</td></tr>\n",
              "\t<tr><th scope=row>R4</th><td>4</td><td>8</td><td>12</td><td>16</td></tr>\n",
              "</tbody>\n",
              "</table>\n"
            ]
          },
          "metadata": {}
        }
      ]
    },
    {
      "cell_type": "markdown",
      "source": [
        " # Funciones de resumenes de datos"
      ],
      "metadata": {
        "id": "-nxpSCCCPHgN"
      }
    },
    {
      "cell_type": "code",
      "source": [
        "max(df4)"
      ],
      "metadata": {
        "colab": {
          "base_uri": "https://localhost:8080/",
          "height": 34
        },
        "id": "tTX7P3lEM9zM",
        "outputId": "733daa7d-6824-4b23-9796-444201af46cc"
      },
      "execution_count": null,
      "outputs": [
        {
          "output_type": "display_data",
          "data": {
            "text/plain": [
              "[1] 16"
            ],
            "text/latex": "16",
            "text/markdown": "16",
            "text/html": [
              "16"
            ]
          },
          "metadata": {}
        }
      ]
    },
    {
      "cell_type": "code",
      "source": [
        "max(df4$C1)"
      ],
      "metadata": {
        "colab": {
          "base_uri": "https://localhost:8080/",
          "height": 34
        },
        "id": "Pglz1aghPQ1n",
        "outputId": "19d2f373-67dc-43c8-8678-9fb8f0c52fc6"
      },
      "execution_count": null,
      "outputs": [
        {
          "output_type": "display_data",
          "data": {
            "text/plain": [
              "[1] 4"
            ],
            "text/latex": "4",
            "text/markdown": "4",
            "text/html": [
              "4"
            ]
          },
          "metadata": {}
        }
      ]
    },
    {
      "cell_type": "code",
      "source": [
        "max(df3)"
      ],
      "metadata": {
        "colab": {
          "base_uri": "https://localhost:8080/",
          "height": 330
        },
        "id": "2wWMPJZVPVQp",
        "outputId": "a1e52804-7934-414b-bcc5-7256b1fae5f4"
      },
      "execution_count": null,
      "outputs": [
        {
          "output_type": "error",
          "ename": "ERROR",
          "evalue": "ignored",
          "traceback": [
            "Error in FUN(X[[i]], ...): only defined on a data frame with all numeric-alike variables\nTraceback:\n",
            "1. Summary.data.frame(structure(list(V1 = c(\"a\", \"b\", \"c\", \"d\"), \n .     V2 = c(\"e\", \"f\", \"g\", \"h\"), V3 = c(\"i\", \"j\", \"k\", \"l\"), V4 = c(\"m\", \n .     \"n\", \"o\", \"p\")), class = \"data.frame\", row.names = c(NA, \n . -4L)), na.rm = FALSE)",
            "2. lapply(args, function(x) {\n .     x <- as.matrix(x)\n .     if (!is.numeric(x) && !is.logical(x) && !is.complex(x)) \n .         stop(\"only defined on a data frame with all numeric-alike variables\")\n .     x\n . })",
            "3. FUN(X[[i]], ...)",
            "4. stop(\"only defined on a data frame with all numeric-alike variables\")"
          ]
        }
      ]
    },
    {
      "cell_type": "code",
      "source": [
        "head(df1)"
      ],
      "metadata": {
        "colab": {
          "base_uri": "https://localhost:8080/",
          "height": 286
        },
        "id": "caoOLYcHPhVI",
        "outputId": "a8764a8b-9e8b-404a-a2fc-be1f47103be6"
      },
      "execution_count": null,
      "outputs": [
        {
          "output_type": "display_data",
          "data": {
            "text/plain": [
              "  numeros letras normales  \n",
              "1 1       a       0.1271303\n",
              "2 2       b      -0.2107701\n",
              "3 3       c      -0.4246119\n",
              "4 4       d      -0.1401276\n",
              "5 5       e      -1.1907096\n",
              "6 6       f       0.2520309"
            ],
            "text/latex": "A data.frame: 6 × 3\n\\begin{tabular}{r|lll}\n  & numeros & letras & normales\\\\\n  & <int> & <chr> & <dbl>\\\\\n\\hline\n\t1 & 1 & a &  0.1271303\\\\\n\t2 & 2 & b & -0.2107701\\\\\n\t3 & 3 & c & -0.4246119\\\\\n\t4 & 4 & d & -0.1401276\\\\\n\t5 & 5 & e & -1.1907096\\\\\n\t6 & 6 & f &  0.2520309\\\\\n\\end{tabular}\n",
            "text/markdown": "\nA data.frame: 6 × 3\n\n| <!--/--> | numeros &lt;int&gt; | letras &lt;chr&gt; | normales &lt;dbl&gt; |\n|---|---|---|---|\n| 1 | 1 | a |  0.1271303 |\n| 2 | 2 | b | -0.2107701 |\n| 3 | 3 | c | -0.4246119 |\n| 4 | 4 | d | -0.1401276 |\n| 5 | 5 | e | -1.1907096 |\n| 6 | 6 | f |  0.2520309 |\n\n",
            "text/html": [
              "<table class=\"dataframe\">\n",
              "<caption>A data.frame: 6 × 3</caption>\n",
              "<thead>\n",
              "\t<tr><th></th><th scope=col>numeros</th><th scope=col>letras</th><th scope=col>normales</th></tr>\n",
              "\t<tr><th></th><th scope=col>&lt;int&gt;</th><th scope=col>&lt;chr&gt;</th><th scope=col>&lt;dbl&gt;</th></tr>\n",
              "</thead>\n",
              "<tbody>\n",
              "\t<tr><th scope=row>1</th><td>1</td><td>a</td><td> 0.1271303</td></tr>\n",
              "\t<tr><th scope=row>2</th><td>2</td><td>b</td><td>-0.2107701</td></tr>\n",
              "\t<tr><th scope=row>3</th><td>3</td><td>c</td><td>-0.4246119</td></tr>\n",
              "\t<tr><th scope=row>4</th><td>4</td><td>d</td><td>-0.1401276</td></tr>\n",
              "\t<tr><th scope=row>5</th><td>5</td><td>e</td><td>-1.1907096</td></tr>\n",
              "\t<tr><th scope=row>6</th><td>6</td><td>f</td><td> 0.2520309</td></tr>\n",
              "</tbody>\n",
              "</table>\n"
            ]
          },
          "metadata": {}
        }
      ]
    },
    {
      "cell_type": "code",
      "source": [
        "max(df1)"
      ],
      "metadata": {
        "colab": {
          "base_uri": "https://localhost:8080/",
          "height": 401
        },
        "id": "E2WSvGVkPr2G",
        "outputId": "3eb9392a-71d0-4db4-d24d-5eba37cdd225"
      },
      "execution_count": null,
      "outputs": [
        {
          "output_type": "error",
          "ename": "ERROR",
          "evalue": "ignored",
          "traceback": [
            "Error in FUN(X[[i]], ...): only defined on a data frame with all numeric-alike variables\nTraceback:\n",
            "1. Summary.data.frame(structure(list(numeros = 1:16, letras = c(\"a\", \n . \"b\", \"c\", \"d\", \"e\", \"f\", \"g\", \"h\", \"i\", \"j\", \"k\", \"l\", \"m\", \"n\", \n . \"o\", \"p\"), normales = c(0.127130310770595, -0.210770134948294, \n . -0.424611854426265, -0.140127592824036, -1.19070956347125, 0.252030910355757, \n . 0.92067270567517, 1.27386976917016, 2.12578023584466, -0.982655451449009, \n . -0.201429089572054, 1.00117335546213, 1.04139287763188, 0.741640352290426, \n . 1.02631632928735, -0.154082514375102)), class = \"data.frame\", row.names = c(NA, \n . -16L)), na.rm = FALSE)",
            "2. lapply(args, function(x) {\n .     x <- as.matrix(x)\n .     if (!is.numeric(x) && !is.logical(x) && !is.complex(x)) \n .         stop(\"only defined on a data frame with all numeric-alike variables\")\n .     x\n . })",
            "3. FUN(X[[i]], ...)",
            "4. stop(\"only defined on a data frame with all numeric-alike variables\")"
          ]
        }
      ]
    },
    {
      "cell_type": "code",
      "source": [
        "vec1 <- rnorm(100)"
      ],
      "metadata": {
        "id": "kWdvtO9yP3gx"
      },
      "execution_count": null,
      "outputs": []
    },
    {
      "cell_type": "code",
      "source": [
        "vec1"
      ],
      "metadata": {
        "colab": {
          "base_uri": "https://localhost:8080/",
          "height": 312
        },
        "id": "Hc83t11SP7Fo",
        "outputId": "8b3d7423-e84a-4092-bddb-90f59ea03969"
      },
      "execution_count": null,
      "outputs": [
        {
          "output_type": "display_data",
          "data": {
            "text/plain": [
              "  [1]  1.3180179240 -0.0225040475  0.2345377609 -0.2725175855 -0.2801968364\n",
              "  [6]  0.3534042958  0.0786409935 -0.4228483532  0.8909992347 -0.3221174807\n",
              " [11]  0.6461270252  0.4093657940 -0.2393917955 -0.6738188242  1.0833989257\n",
              " [16] -0.0470088872 -1.1873261632  0.8630136653 -1.1128000087 -0.1752209303\n",
              " [21] -0.0007897251 -0.5112039752 -0.1178595844  1.1234543107 -1.0212256901\n",
              " [26] -1.6956376965 -0.4511093683 -1.0753880644 -0.4433821272  2.1304065683\n",
              " [31] -1.1230994686  0.7953077300 -1.2155159903 -2.5582982080  0.2001350438\n",
              " [36]  0.2129488132  0.1214534543  0.9325616192  0.7443402067 -0.3577602841\n",
              " [41]  1.0601957722 -0.0454378914 -0.1970240732  0.1553411250  0.4335252692\n",
              " [46]  0.5694391747  0.1695274654 -0.2479282514  1.6674895990  0.8810436476\n",
              " [51]  1.1930648769  0.4900429925 -0.0890127034  0.2316445771 -0.4862900830\n",
              " [56] -1.0158821138  1.1985557876 -2.1897476571  1.3152111493  0.9461729887\n",
              " [61] -0.4655745016 -0.5389238085  0.9186867135  0.0917786476  1.2999645295\n",
              " [66]  0.2870425002 -0.1454363429  0.8305432417 -0.9931731932  0.3822457761\n",
              " [71] -0.6892698615 -0.4800749607 -0.5663282468  0.0150278630  0.8905351789\n",
              " [76] -0.4322795999  0.2386019536  1.7808273805  1.2390150716 -0.5621090534\n",
              " [81]  2.1749088829 -0.2967828347  1.3914947378 -0.2943295044 -1.1813695918\n",
              " [86] -1.1408707225  0.7221572351 -0.3323235459 -0.1100814952  1.8499911147\n",
              " [91] -1.8893432309 -0.8254400774  0.8313743375  0.5992124167  0.8653146388\n",
              " [96]  0.7483405075 -1.0909152108 -0.6324306045  0.6511263488  1.4340499262"
            ],
            "text/latex": "\\begin{enumerate*}\n\\item 1.31801792396663\n\\item -0.022504047507969\n\\item 0.234537760936291\n\\item -0.272517585517211\n\\item -0.280196836353811\n\\item 0.353404295809747\n\\item 0.0786409934728929\n\\item -0.42284835324772\n\\item 0.890999234722984\n\\item -0.322117480671287\n\\item 0.646127025220034\n\\item 0.40936579399093\n\\item -0.239391795452219\n\\item -0.673818824176917\n\\item 1.08339892571464\n\\item -0.0470088871975574\n\\item -1.18732616321225\n\\item 0.863013665306545\n\\item -1.11280000873697\n\\item -0.175220930304788\n\\item -0.000789725055426203\n\\item -0.511203975163744\n\\item -0.117859584449524\n\\item 1.123454310747\n\\item -1.02122569006931\n\\item -1.69563769646516\n\\item -0.451109368334849\n\\item -1.07538806438099\n\\item -0.443382127154987\n\\item 2.13040656833191\n\\item -1.12309946860371\n\\item 0.795307730037776\n\\item -1.21551599031676\n\\item -2.55829820803638\n\\item 0.20013504380538\n\\item 0.212948813150984\n\\item 0.121453454316094\n\\item 0.932561619187466\n\\item 0.744340206653347\n\\item -0.357760284130726\n\\item 1.06019577216329\n\\item -0.0454378913880603\n\\item -0.197024073207278\n\\item 0.155341125013083\n\\item 0.433525269225131\n\\item 0.569439174695304\n\\item 0.169527465368226\n\\item -0.247928251441682\n\\item 1.66748959900518\n\\item 0.881043647554318\n\\item 1.19306487685553\n\\item 0.490042992505564\n\\item -0.0890127033560373\n\\item 0.231644577128412\n\\item -0.486290082977053\n\\item -1.01588211375616\n\\item 1.19855578760087\n\\item -2.18974765710389\n\\item 1.31521114927001\n\\item 0.946172988665638\n\\item -0.465574501605073\n\\item -0.538923808460084\n\\item 0.918686713466832\n\\item 0.0917786476389132\n\\item 1.29996452949774\n\\item 0.287042500229084\n\\item -0.145436342942871\n\\item 0.83054324165731\n\\item -0.99317319317523\n\\item 0.382245776148166\n\\item -0.689269861469145\n\\item -0.480074960717527\n\\item -0.566328246771404\n\\item 0.0150278630291586\n\\item 0.890535178914651\n\\item -0.432279599932218\n\\item 0.23860195360391\n\\item 1.78082738046926\n\\item 1.2390150716003\n\\item -0.562109053379906\n\\item 2.17490888290933\n\\item -0.296782834749271\n\\item 1.39149473777157\n\\item -0.29432950443946\n\\item -1.18136959181483\n\\item -1.14087072250676\n\\item 0.722157235127134\n\\item -0.332323545856912\n\\item -0.110081495228964\n\\item 1.84999111471599\n\\item -1.88934323094158\n\\item -0.825440077373119\n\\item 0.831374337486365\n\\item 0.599212416715664\n\\item 0.865314638828363\n\\item 0.748340507465852\n\\item -1.09091521084465\n\\item -0.632430604488002\n\\item 0.65112634883766\n\\item 1.43404992616247\n\\end{enumerate*}\n",
            "text/markdown": "1. 1.31801792396663\n2. -0.022504047507969\n3. 0.234537760936291\n4. -0.272517585517211\n5. -0.280196836353811\n6. 0.353404295809747\n7. 0.0786409934728929\n8. -0.42284835324772\n9. 0.890999234722984\n10. -0.322117480671287\n11. 0.646127025220034\n12. 0.40936579399093\n13. -0.239391795452219\n14. -0.673818824176917\n15. 1.08339892571464\n16. -0.0470088871975574\n17. -1.18732616321225\n18. 0.863013665306545\n19. -1.11280000873697\n20. -0.175220930304788\n21. -0.000789725055426203\n22. -0.511203975163744\n23. -0.117859584449524\n24. 1.123454310747\n25. -1.02122569006931\n26. -1.69563769646516\n27. -0.451109368334849\n28. -1.07538806438099\n29. -0.443382127154987\n30. 2.13040656833191\n31. -1.12309946860371\n32. 0.795307730037776\n33. -1.21551599031676\n34. -2.55829820803638\n35. 0.20013504380538\n36. 0.212948813150984\n37. 0.121453454316094\n38. 0.932561619187466\n39. 0.744340206653347\n40. -0.357760284130726\n41. 1.06019577216329\n42. -0.0454378913880603\n43. -0.197024073207278\n44. 0.155341125013083\n45. 0.433525269225131\n46. 0.569439174695304\n47. 0.169527465368226\n48. -0.247928251441682\n49. 1.66748959900518\n50. 0.881043647554318\n51. 1.19306487685553\n52. 0.490042992505564\n53. -0.0890127033560373\n54. 0.231644577128412\n55. -0.486290082977053\n56. -1.01588211375616\n57. 1.19855578760087\n58. -2.18974765710389\n59. 1.31521114927001\n60. 0.946172988665638\n61. -0.465574501605073\n62. -0.538923808460084\n63. 0.918686713466832\n64. 0.0917786476389132\n65. 1.29996452949774\n66. 0.287042500229084\n67. -0.145436342942871\n68. 0.83054324165731\n69. -0.99317319317523\n70. 0.382245776148166\n71. -0.689269861469145\n72. -0.480074960717527\n73. -0.566328246771404\n74. 0.0150278630291586\n75. 0.890535178914651\n76. -0.432279599932218\n77. 0.23860195360391\n78. 1.78082738046926\n79. 1.2390150716003\n80. -0.562109053379906\n81. 2.17490888290933\n82. -0.296782834749271\n83. 1.39149473777157\n84. -0.29432950443946\n85. -1.18136959181483\n86. -1.14087072250676\n87. 0.722157235127134\n88. -0.332323545856912\n89. -0.110081495228964\n90. 1.84999111471599\n91. -1.88934323094158\n92. -0.825440077373119\n93. 0.831374337486365\n94. 0.599212416715664\n95. 0.865314638828363\n96. 0.748340507465852\n97. -1.09091521084465\n98. -0.632430604488002\n99. 0.65112634883766\n100. 1.43404992616247\n\n\n",
            "text/html": [
              "<style>\n",
              ".list-inline {list-style: none; margin:0; padding: 0}\n",
              ".list-inline>li {display: inline-block}\n",
              ".list-inline>li:not(:last-child)::after {content: \"\\00b7\"; padding: 0 .5ex}\n",
              "</style>\n",
              "<ol class=list-inline><li>1.31801792396663</li><li>-0.022504047507969</li><li>0.234537760936291</li><li>-0.272517585517211</li><li>-0.280196836353811</li><li>0.353404295809747</li><li>0.0786409934728929</li><li>-0.42284835324772</li><li>0.890999234722984</li><li>-0.322117480671287</li><li>0.646127025220034</li><li>0.40936579399093</li><li>-0.239391795452219</li><li>-0.673818824176917</li><li>1.08339892571464</li><li>-0.0470088871975574</li><li>-1.18732616321225</li><li>0.863013665306545</li><li>-1.11280000873697</li><li>-0.175220930304788</li><li>-0.000789725055426203</li><li>-0.511203975163744</li><li>-0.117859584449524</li><li>1.123454310747</li><li>-1.02122569006931</li><li>-1.69563769646516</li><li>-0.451109368334849</li><li>-1.07538806438099</li><li>-0.443382127154987</li><li>2.13040656833191</li><li>-1.12309946860371</li><li>0.795307730037776</li><li>-1.21551599031676</li><li>-2.55829820803638</li><li>0.20013504380538</li><li>0.212948813150984</li><li>0.121453454316094</li><li>0.932561619187466</li><li>0.744340206653347</li><li>-0.357760284130726</li><li>1.06019577216329</li><li>-0.0454378913880603</li><li>-0.197024073207278</li><li>0.155341125013083</li><li>0.433525269225131</li><li>0.569439174695304</li><li>0.169527465368226</li><li>-0.247928251441682</li><li>1.66748959900518</li><li>0.881043647554318</li><li>1.19306487685553</li><li>0.490042992505564</li><li>-0.0890127033560373</li><li>0.231644577128412</li><li>-0.486290082977053</li><li>-1.01588211375616</li><li>1.19855578760087</li><li>-2.18974765710389</li><li>1.31521114927001</li><li>0.946172988665638</li><li>-0.465574501605073</li><li>-0.538923808460084</li><li>0.918686713466832</li><li>0.0917786476389132</li><li>1.29996452949774</li><li>0.287042500229084</li><li>-0.145436342942871</li><li>0.83054324165731</li><li>-0.99317319317523</li><li>0.382245776148166</li><li>-0.689269861469145</li><li>-0.480074960717527</li><li>-0.566328246771404</li><li>0.0150278630291586</li><li>0.890535178914651</li><li>-0.432279599932218</li><li>0.23860195360391</li><li>1.78082738046926</li><li>1.2390150716003</li><li>-0.562109053379906</li><li>2.17490888290933</li><li>-0.296782834749271</li><li>1.39149473777157</li><li>-0.29432950443946</li><li>-1.18136959181483</li><li>-1.14087072250676</li><li>0.722157235127134</li><li>-0.332323545856912</li><li>-0.110081495228964</li><li>1.84999111471599</li><li>-1.88934323094158</li><li>-0.825440077373119</li><li>0.831374337486365</li><li>0.599212416715664</li><li>0.865314638828363</li><li>0.748340507465852</li><li>-1.09091521084465</li><li>-0.632430604488002</li><li>0.65112634883766</li><li>1.43404992616247</li></ol>\n"
            ]
          },
          "metadata": {}
        }
      ]
    },
    {
      "cell_type": "code",
      "source": [
        "max(vec1) # maximo"
      ],
      "metadata": {
        "colab": {
          "base_uri": "https://localhost:8080/",
          "height": 34
        },
        "id": "1SYAn96CQCQk",
        "outputId": "0acda2a2-8a62-437b-e8e0-1e6b4a177cb2"
      },
      "execution_count": null,
      "outputs": [
        {
          "output_type": "display_data",
          "data": {
            "text/plain": [
              "[1] 2.174909"
            ],
            "text/latex": "2.17490888290933",
            "text/markdown": "2.17490888290933",
            "text/html": [
              "2.17490888290933"
            ]
          },
          "metadata": {}
        }
      ]
    },
    {
      "cell_type": "code",
      "source": [
        "min(vec1) # minimo"
      ],
      "metadata": {
        "colab": {
          "base_uri": "https://localhost:8080/",
          "height": 34
        },
        "id": "Jq9bgobwQHxP",
        "outputId": "84f7183d-7746-4c4b-c412-2b21f1062683"
      },
      "execution_count": null,
      "outputs": [
        {
          "output_type": "display_data",
          "data": {
            "text/plain": [
              "[1] -2.558298"
            ],
            "text/latex": "-2.55829820803638",
            "text/markdown": "-2.55829820803638",
            "text/html": [
              "-2.55829820803638"
            ]
          },
          "metadata": {}
        }
      ]
    },
    {
      "cell_type": "code",
      "source": [
        "mean(vec1) # media"
      ],
      "metadata": {
        "colab": {
          "base_uri": "https://localhost:8080/",
          "height": 34
        },
        "id": "EAKJDtc5QJdT",
        "outputId": "f62fcfaf-4ec5-4236-fcc2-834b95a1bd1e"
      },
      "execution_count": null,
      "outputs": [
        {
          "output_type": "display_data",
          "data": {
            "text/plain": [
              "[1] 0.09426207"
            ],
            "text/latex": "0.0942620653822951",
            "text/markdown": "0.0942620653822951",
            "text/html": [
              "0.0942620653822951"
            ]
          },
          "metadata": {}
        }
      ]
    },
    {
      "cell_type": "code",
      "source": [
        "median(vec1) # mediana"
      ],
      "metadata": {
        "colab": {
          "base_uri": "https://localhost:8080/",
          "height": 34
        },
        "id": "QHiZ3SQsQiLj",
        "outputId": "e89e8375-c70b-43c1-c61c-74165daf8f19"
      },
      "execution_count": null,
      "outputs": [
        {
          "output_type": "display_data",
          "data": {
            "text/plain": [
              "[1] 0.04683443"
            ],
            "text/latex": "0.0468344282510258",
            "text/markdown": "0.0468344282510258",
            "text/html": [
              "0.0468344282510258"
            ]
          },
          "metadata": {}
        }
      ]
    },
    {
      "cell_type": "code",
      "source": [
        "var(vec1) # varianza"
      ],
      "metadata": {
        "colab": {
          "base_uri": "https://localhost:8080/",
          "height": 34
        },
        "id": "sd6Eo9k2QsR_",
        "outputId": "0b3605d3-9b7c-4dac-b17e-e38943ff1b15"
      },
      "execution_count": null,
      "outputs": [
        {
          "output_type": "display_data",
          "data": {
            "text/plain": [
              "[1] 0.8547895"
            ],
            "text/latex": "0.854789514152896",
            "text/markdown": "0.854789514152896",
            "text/html": [
              "0.854789514152896"
            ]
          },
          "metadata": {}
        }
      ]
    },
    {
      "cell_type": "code",
      "source": [
        "sd(vec1)"
      ],
      "metadata": {
        "colab": {
          "base_uri": "https://localhost:8080/",
          "height": 34
        },
        "id": "LixgRqlOQxNx",
        "outputId": "fd41eee1-10b5-4a9a-f8c4-faf53a24c9b3"
      },
      "execution_count": null,
      "outputs": [
        {
          "output_type": "display_data",
          "data": {
            "text/plain": [
              "[1] 0.9245483"
            ],
            "text/latex": "0.924548275728691",
            "text/markdown": "0.924548275728691",
            "text/html": [
              "0.924548275728691"
            ]
          },
          "metadata": {}
        }
      ]
    },
    {
      "cell_type": "markdown",
      "source": [
        "# Resumiendo matrices"
      ],
      "metadata": {
        "id": "ewLd7wz6RIdy"
      }
    },
    {
      "cell_type": "code",
      "source": [
        "m4"
      ],
      "metadata": {
        "colab": {
          "base_uri": "https://localhost:8080/",
          "height": 209
        },
        "id": "QV3SA94BRLt-",
        "outputId": "59c84a9e-8266-4504-b2ca-6135c9f94e9f"
      },
      "execution_count": null,
      "outputs": [
        {
          "output_type": "display_data",
          "data": {
            "text/plain": [
              "   C1 C2 C3 C4\n",
              "R1 1  5   9 13\n",
              "R2 2  6  10 14\n",
              "R3 3  7  11 15\n",
              "R4 4  8  12 16"
            ],
            "text/latex": "A matrix: 4 × 4 of type int\n\\begin{tabular}{r|llll}\n  & C1 & C2 & C3 & C4\\\\\n\\hline\n\tR1 & 1 & 5 &  9 & 13\\\\\n\tR2 & 2 & 6 & 10 & 14\\\\\n\tR3 & 3 & 7 & 11 & 15\\\\\n\tR4 & 4 & 8 & 12 & 16\\\\\n\\end{tabular}\n",
            "text/markdown": "\nA matrix: 4 × 4 of type int\n\n| <!--/--> | C1 | C2 | C3 | C4 |\n|---|---|---|---|---|\n| R1 | 1 | 5 |  9 | 13 |\n| R2 | 2 | 6 | 10 | 14 |\n| R3 | 3 | 7 | 11 | 15 |\n| R4 | 4 | 8 | 12 | 16 |\n\n",
            "text/html": [
              "<table class=\"dataframe\">\n",
              "<caption>A matrix: 4 × 4 of type int</caption>\n",
              "<thead>\n",
              "\t<tr><th></th><th scope=col>C1</th><th scope=col>C2</th><th scope=col>C3</th><th scope=col>C4</th></tr>\n",
              "</thead>\n",
              "<tbody>\n",
              "\t<tr><th scope=row>R1</th><td>1</td><td>5</td><td> 9</td><td>13</td></tr>\n",
              "\t<tr><th scope=row>R2</th><td>2</td><td>6</td><td>10</td><td>14</td></tr>\n",
              "\t<tr><th scope=row>R3</th><td>3</td><td>7</td><td>11</td><td>15</td></tr>\n",
              "\t<tr><th scope=row>R4</th><td>4</td><td>8</td><td>12</td><td>16</td></tr>\n",
              "</tbody>\n",
              "</table>\n"
            ]
          },
          "metadata": {}
        }
      ]
    },
    {
      "cell_type": "code",
      "source": [
        "?apply"
      ],
      "metadata": {
        "id": "DN_wGeKpSLuJ"
      },
      "execution_count": null,
      "outputs": []
    },
    {
      "cell_type": "code",
      "source": [
        "apply(m4, 2, mean)"
      ],
      "metadata": {
        "colab": {
          "base_uri": "https://localhost:8080/",
          "height": 34
        },
        "id": "XAplQV_mRnNl",
        "outputId": "cb793921-4fdc-4e49-b62f-a38b36f47ec3"
      },
      "execution_count": null,
      "outputs": [
        {
          "output_type": "display_data",
          "data": {
            "text/plain": [
              "  C1   C2   C3   C4 \n",
              " 2.5  6.5 10.5 14.5 "
            ],
            "text/latex": "\\begin{description*}\n\\item[C1] 2.5\n\\item[C2] 6.5\n\\item[C3] 10.5\n\\item[C4] 14.5\n\\end{description*}\n",
            "text/markdown": "C1\n:   2.5C2\n:   6.5C3\n:   10.5C4\n:   14.5\n\n",
            "text/html": [
              "<style>\n",
              ".dl-inline {width: auto; margin:0; padding: 0}\n",
              ".dl-inline>dt, .dl-inline>dd {float: none; width: auto; display: inline-block}\n",
              ".dl-inline>dt::after {content: \":\\0020\"; padding-right: .5ex}\n",
              ".dl-inline>dt:not(:first-of-type) {padding-left: .5ex}\n",
              "</style><dl class=dl-inline><dt>C1</dt><dd>2.5</dd><dt>C2</dt><dd>6.5</dd><dt>C3</dt><dd>10.5</dd><dt>C4</dt><dd>14.5</dd></dl>\n"
            ]
          },
          "metadata": {}
        }
      ]
    },
    {
      "cell_type": "code",
      "source": [
        "apply(m4, 2, median)"
      ],
      "metadata": {
        "colab": {
          "base_uri": "https://localhost:8080/",
          "height": 34
        },
        "id": "eQkKGsF4StLU",
        "outputId": "548480d4-3998-4f5b-868a-451ff63d34db"
      },
      "execution_count": null,
      "outputs": [
        {
          "output_type": "display_data",
          "data": {
            "text/plain": [
              "  C1   C2   C3   C4 \n",
              " 2.5  6.5 10.5 14.5 "
            ],
            "text/latex": "\\begin{description*}\n\\item[C1] 2.5\n\\item[C2] 6.5\n\\item[C3] 10.5\n\\item[C4] 14.5\n\\end{description*}\n",
            "text/markdown": "C1\n:   2.5C2\n:   6.5C3\n:   10.5C4\n:   14.5\n\n",
            "text/html": [
              "<style>\n",
              ".dl-inline {width: auto; margin:0; padding: 0}\n",
              ".dl-inline>dt, .dl-inline>dd {float: none; width: auto; display: inline-block}\n",
              ".dl-inline>dt::after {content: \":\\0020\"; padding-right: .5ex}\n",
              ".dl-inline>dt:not(:first-of-type) {padding-left: .5ex}\n",
              "</style><dl class=dl-inline><dt>C1</dt><dd>2.5</dd><dt>C2</dt><dd>6.5</dd><dt>C3</dt><dd>10.5</dd><dt>C4</dt><dd>14.5</dd></dl>\n"
            ]
          },
          "metadata": {}
        }
      ]
    },
    {
      "cell_type": "markdown",
      "source": [
        "Calcular la suma por filas. "
      ],
      "metadata": {
        "id": "vFAmSaO5TKuy"
      }
    },
    {
      "cell_type": "code",
      "source": [
        "apply(m4, 1, sum)"
      ],
      "metadata": {
        "colab": {
          "base_uri": "https://localhost:8080/",
          "height": 34
        },
        "id": "avsymPKbTMMI",
        "outputId": "0896d28a-28d4-4670-b0b4-c6fa0cd0ca94"
      },
      "execution_count": null,
      "outputs": [
        {
          "output_type": "display_data",
          "data": {
            "text/plain": [
              "R1 R2 R3 R4 \n",
              "28 32 36 40 "
            ],
            "text/latex": "\\begin{description*}\n\\item[R1] 28\n\\item[R2] 32\n\\item[R3] 36\n\\item[R4] 40\n\\end{description*}\n",
            "text/markdown": "R1\n:   28R2\n:   32R3\n:   36R4\n:   40\n\n",
            "text/html": [
              "<style>\n",
              ".dl-inline {width: auto; margin:0; padding: 0}\n",
              ".dl-inline>dt, .dl-inline>dd {float: none; width: auto; display: inline-block}\n",
              ".dl-inline>dt::after {content: \":\\0020\"; padding-right: .5ex}\n",
              ".dl-inline>dt:not(:first-of-type) {padding-left: .5ex}\n",
              "</style><dl class=dl-inline><dt>R1</dt><dd>28</dd><dt>R2</dt><dd>32</dd><dt>R3</dt><dd>36</dd><dt>R4</dt><dd>40</dd></dl>\n"
            ]
          },
          "metadata": {}
        }
      ]
    },
    {
      "cell_type": "code",
      "source": [
        "colMeans(m4)"
      ],
      "metadata": {
        "colab": {
          "base_uri": "https://localhost:8080/",
          "height": 34
        },
        "id": "JrU45lG0TRVY",
        "outputId": "dd6b03d7-9314-46e1-ee57-6a89028e6eeb"
      },
      "execution_count": null,
      "outputs": [
        {
          "output_type": "display_data",
          "data": {
            "text/plain": [
              "  C1   C2   C3   C4 \n",
              " 2.5  6.5 10.5 14.5 "
            ],
            "text/latex": "\\begin{description*}\n\\item[C1] 2.5\n\\item[C2] 6.5\n\\item[C3] 10.5\n\\item[C4] 14.5\n\\end{description*}\n",
            "text/markdown": "C1\n:   2.5C2\n:   6.5C3\n:   10.5C4\n:   14.5\n\n",
            "text/html": [
              "<style>\n",
              ".dl-inline {width: auto; margin:0; padding: 0}\n",
              ".dl-inline>dt, .dl-inline>dd {float: none; width: auto; display: inline-block}\n",
              ".dl-inline>dt::after {content: \":\\0020\"; padding-right: .5ex}\n",
              ".dl-inline>dt:not(:first-of-type) {padding-left: .5ex}\n",
              "</style><dl class=dl-inline><dt>C1</dt><dd>2.5</dd><dt>C2</dt><dd>6.5</dd><dt>C3</dt><dd>10.5</dd><dt>C4</dt><dd>14.5</dd></dl>\n"
            ]
          },
          "metadata": {}
        }
      ]
    },
    {
      "cell_type": "code",
      "source": [
        "rowMeans(m4)"
      ],
      "metadata": {
        "colab": {
          "base_uri": "https://localhost:8080/",
          "height": 34
        },
        "id": "x93wMI6yTmeg",
        "outputId": "5bf727d1-d6cb-4949-d5b2-0eadc06131b8"
      },
      "execution_count": null,
      "outputs": [
        {
          "output_type": "display_data",
          "data": {
            "text/plain": [
              "R1 R2 R3 R4 \n",
              " 7  8  9 10 "
            ],
            "text/latex": "\\begin{description*}\n\\item[R1] 7\n\\item[R2] 8\n\\item[R3] 9\n\\item[R4] 10\n\\end{description*}\n",
            "text/markdown": "R1\n:   7R2\n:   8R3\n:   9R4\n:   10\n\n",
            "text/html": [
              "<style>\n",
              ".dl-inline {width: auto; margin:0; padding: 0}\n",
              ".dl-inline>dt, .dl-inline>dd {float: none; width: auto; display: inline-block}\n",
              ".dl-inline>dt::after {content: \":\\0020\"; padding-right: .5ex}\n",
              ".dl-inline>dt:not(:first-of-type) {padding-left: .5ex}\n",
              "</style><dl class=dl-inline><dt>R1</dt><dd>7</dd><dt>R2</dt><dd>8</dd><dt>R3</dt><dd>9</dd><dt>R4</dt><dd>10</dd></dl>\n"
            ]
          },
          "metadata": {}
        }
      ]
    },
    {
      "cell_type": "markdown",
      "source": [
        "# Prueba t-student"
      ],
      "metadata": {
        "id": "4BHkWNEhUAeH"
      }
    },
    {
      "cell_type": "code",
      "source": [
        "x <- c(36.25, 35.40, 35.30, 35.15, 35.35, 33.35)"
      ],
      "metadata": {
        "id": "rf5LnvhRUDp2"
      },
      "execution_count": null,
      "outputs": []
    },
    {
      "cell_type": "code",
      "source": [
        "m7 <- matrix(x, ncol=3, byrow = TRUE)"
      ],
      "metadata": {
        "id": "ny77FHFCUYty"
      },
      "execution_count": null,
      "outputs": []
    },
    {
      "cell_type": "code",
      "source": [
        "m7"
      ],
      "metadata": {
        "colab": {
          "base_uri": "https://localhost:8080/",
          "height": 114
        },
        "id": "Gf9MI-14UiQG",
        "outputId": "352bd7a0-68c0-4957-8d4f-8d0b778c6127"
      },
      "execution_count": null,
      "outputs": [
        {
          "output_type": "display_data",
          "data": {
            "text/plain": [
              "     [,1]  [,2]  [,3] \n",
              "[1,] 36.25 35.40 35.30\n",
              "[2,] 35.15 35.35 33.35"
            ],
            "text/latex": "A matrix: 2 × 3 of type dbl\n\\begin{tabular}{lll}\n\t 36.25 & 35.40 & 35.30\\\\\n\t 35.15 & 35.35 & 33.35\\\\\n\\end{tabular}\n",
            "text/markdown": "\nA matrix: 2 × 3 of type dbl\n\n| 36.25 | 35.40 | 35.30 |\n| 35.15 | 35.35 | 33.35 |\n\n",
            "text/html": [
              "<table class=\"dataframe\">\n",
              "<caption>A matrix: 2 × 3 of type dbl</caption>\n",
              "<tbody>\n",
              "\t<tr><td>36.25</td><td>35.40</td><td>35.30</td></tr>\n",
              "\t<tr><td>35.15</td><td>35.35</td><td>33.35</td></tr>\n",
              "</tbody>\n",
              "</table>\n"
            ]
          },
          "metadata": {}
        }
      ]
    },
    {
      "cell_type": "code",
      "source": [
        "colnames(m7) <- c(\"Alicia\", \"Veronica\", \"Carlos\")"
      ],
      "metadata": {
        "id": "p4Q86sUVUi4m"
      },
      "execution_count": null,
      "outputs": []
    },
    {
      "cell_type": "code",
      "source": [
        "m7"
      ],
      "metadata": {
        "colab": {
          "base_uri": "https://localhost:8080/",
          "height": 129
        },
        "id": "1IR-qutfUttC",
        "outputId": "9032608c-717b-4fc2-b163-f7e60685f41f"
      },
      "execution_count": null,
      "outputs": [
        {
          "output_type": "display_data",
          "data": {
            "text/plain": [
              "     Alicia Veronica Carlos\n",
              "[1,] 36.25  35.40    35.30 \n",
              "[2,] 35.15  35.35    33.35 "
            ],
            "text/latex": "A matrix: 2 × 3 of type dbl\n\\begin{tabular}{lll}\n Alicia & Veronica & Carlos\\\\\n\\hline\n\t 36.25 & 35.40 & 35.30\\\\\n\t 35.15 & 35.35 & 33.35\\\\\n\\end{tabular}\n",
            "text/markdown": "\nA matrix: 2 × 3 of type dbl\n\n| Alicia | Veronica | Carlos |\n|---|---|---|\n| 36.25 | 35.40 | 35.30 |\n| 35.15 | 35.35 | 33.35 |\n\n",
            "text/html": [
              "<table class=\"dataframe\">\n",
              "<caption>A matrix: 2 × 3 of type dbl</caption>\n",
              "<thead>\n",
              "\t<tr><th scope=col>Alicia</th><th scope=col>Veronica</th><th scope=col>Carlos</th></tr>\n",
              "</thead>\n",
              "<tbody>\n",
              "\t<tr><td>36.25</td><td>35.40</td><td>35.30</td></tr>\n",
              "\t<tr><td>35.15</td><td>35.35</td><td>33.35</td></tr>\n",
              "</tbody>\n",
              "</table>\n"
            ]
          },
          "metadata": {}
        }
      ]
    },
    {
      "cell_type": "code",
      "source": [
        "m7[1, ]"
      ],
      "metadata": {
        "colab": {
          "base_uri": "https://localhost:8080/",
          "height": 34
        },
        "id": "2vXPaLALUuTZ",
        "outputId": "ea4007df-0a3f-4ff7-fbc6-4aa3d3f7d377"
      },
      "execution_count": null,
      "outputs": [
        {
          "output_type": "display_data",
          "data": {
            "text/plain": [
              "  Alicia Veronica   Carlos \n",
              "   36.25    35.40    35.30 "
            ],
            "text/latex": "\\begin{description*}\n\\item[Alicia] 36.25\n\\item[Veronica] 35.4\n\\item[Carlos] 35.3\n\\end{description*}\n",
            "text/markdown": "Alicia\n:   36.25Veronica\n:   35.4Carlos\n:   35.3\n\n",
            "text/html": [
              "<style>\n",
              ".dl-inline {width: auto; margin:0; padding: 0}\n",
              ".dl-inline>dt, .dl-inline>dd {float: none; width: auto; display: inline-block}\n",
              ".dl-inline>dt::after {content: \":\\0020\"; padding-right: .5ex}\n",
              ".dl-inline>dt:not(:first-of-type) {padding-left: .5ex}\n",
              "</style><dl class=dl-inline><dt>Alicia</dt><dd>36.25</dd><dt>Veronica</dt><dd>35.4</dd><dt>Carlos</dt><dd>35.3</dd></dl>\n"
            ]
          },
          "metadata": {}
        }
      ]
    },
    {
      "cell_type": "code",
      "source": [
        "m7[2, ]"
      ],
      "metadata": {
        "colab": {
          "base_uri": "https://localhost:8080/",
          "height": 34
        },
        "id": "4GQIq6HDU7hG",
        "outputId": "1454ff09-568b-471c-f6c5-8ac669fcd903"
      },
      "execution_count": null,
      "outputs": [
        {
          "output_type": "display_data",
          "data": {
            "text/plain": [
              "  Alicia Veronica   Carlos \n",
              "   35.15    35.35    33.35 "
            ],
            "text/latex": "\\begin{description*}\n\\item[Alicia] 35.15\n\\item[Veronica] 35.35\n\\item[Carlos] 33.35\n\\end{description*}\n",
            "text/markdown": "Alicia\n:   35.15Veronica\n:   35.35Carlos\n:   33.35\n\n",
            "text/html": [
              "<style>\n",
              ".dl-inline {width: auto; margin:0; padding: 0}\n",
              ".dl-inline>dt, .dl-inline>dd {float: none; width: auto; display: inline-block}\n",
              ".dl-inline>dt::after {content: \":\\0020\"; padding-right: .5ex}\n",
              ".dl-inline>dt:not(:first-of-type) {padding-left: .5ex}\n",
              "</style><dl class=dl-inline><dt>Alicia</dt><dd>35.15</dd><dt>Veronica</dt><dd>35.35</dd><dt>Carlos</dt><dd>33.35</dd></dl>\n"
            ]
          },
          "metadata": {}
        }
      ]
    },
    {
      "cell_type": "code",
      "source": [
        "t.test(m7[1, ], m7[2, ]) # realiza una prueba t de dos muestras\n",
        "                        # con datos no-pareados."
      ],
      "metadata": {
        "colab": {
          "base_uri": "https://localhost:8080/",
          "height": 213
        },
        "id": "nujtjNTNU9QE",
        "outputId": "ac95d9a4-cdcc-4585-cb43-c6e9e0fb0f01"
      },
      "execution_count": null,
      "outputs": [
        {
          "output_type": "display_data",
          "data": {
            "text/plain": [
              "\n",
              "\tWelch Two Sample t-test\n",
              "\n",
              "data:  m7[1, ] and m7[2, ]\n",
              "t = 1.4683, df = 2.8552, p-value = 0.2427\n",
              "alternative hypothesis: true difference in means is not equal to 0\n",
              "95 percent confidence interval:\n",
              " -1.271985  3.338652\n",
              "sample estimates:\n",
              "mean of x mean of y \n",
              " 35.65000  34.61667 \n"
            ]
          },
          "metadata": {}
        }
      ]
    },
    {
      "cell_type": "code",
      "source": [
        "t.test(m7[1, ], m7[2, ], paired=TRUE)  # realiza una prueba t de dos muestras\n",
        "                                      # con datos pareados."
      ],
      "metadata": {
        "colab": {
          "base_uri": "https://localhost:8080/",
          "height": 213
        },
        "id": "P02XV6DnVbVT",
        "outputId": "292f8ce1-207b-4289-b0fe-28c2d8f09e25"
      },
      "execution_count": null,
      "outputs": [
        {
          "output_type": "display_data",
          "data": {
            "text/plain": [
              "\n",
              "\tPaired t-test\n",
              "\n",
              "data:  m7[1, ] and m7[2, ]\n",
              "t = 1.8805, df = 2, p-value = 0.2008\n",
              "alternative hypothesis: true difference in means is not equal to 0\n",
              "95 percent confidence interval:\n",
              " -1.330952  3.397618\n",
              "sample estimates:\n",
              "mean of the differences \n",
              "               1.033333 \n"
            ]
          },
          "metadata": {}
        }
      ]
    },
    {
      "cell_type": "code",
      "source": [
        ""
      ],
      "metadata": {
        "id": "E9LP3IOGV6Y5"
      },
      "execution_count": null,
      "outputs": []
    }
  ]
}