{
  "nbformat": 4,
  "nbformat_minor": 0,
  "metadata": {
    "colab": {
      "name": "clase15marzo.ipynb",
      "provenance": [],
      "collapsed_sections": []
    },
    "kernelspec": {
      "name": "ir",
      "display_name": "R"
    },
    "language_info": {
      "name": "R"
    }
  },
  "cells": [
    {
      "cell_type": "markdown",
      "source": [
        "# Ejercicio propuesta clase del 9 de Marzo."
      ],
      "metadata": {
        "id": "z3ym6Je5FTE1"
      }
    },
    {
      "cell_type": "code",
      "source": [
        "install.packages(\"gapminder\")"
      ],
      "metadata": {
        "colab": {
          "base_uri": "https://localhost:8080/"
        },
        "id": "yWNNapxgFVGb",
        "outputId": "4741c8e0-8ad0-43f8-b160-3af07d3e623d"
      },
      "execution_count": null,
      "outputs": [
        {
          "output_type": "stream",
          "name": "stderr",
          "text": [
            "Installing package into ‘/usr/local/lib/R/site-library’\n",
            "(as ‘lib’ is unspecified)\n",
            "\n"
          ]
        }
      ]
    },
    {
      "cell_type": "code",
      "source": [
        "library(\"gapminder\")"
      ],
      "metadata": {
        "id": "15z3Q7kkFbgc"
      },
      "execution_count": null,
      "outputs": []
    },
    {
      "cell_type": "code",
      "source": [
        "?gapminder"
      ],
      "metadata": {
        "id": "z-zFuRdIF1Er"
      },
      "execution_count": null,
      "outputs": []
    },
    {
      "cell_type": "code",
      "source": [
        "typeof(gapminder)"
      ],
      "metadata": {
        "colab": {
          "base_uri": "https://localhost:8080/",
          "height": 34
        },
        "id": "XQ3YcapGF2Ri",
        "outputId": "72c045a1-3f10-4398-d112-9e572fa2daff"
      },
      "execution_count": null,
      "outputs": [
        {
          "output_type": "display_data",
          "data": {
            "text/html": [
              "'list'"
            ],
            "text/markdown": "'list'",
            "text/latex": "'list'",
            "text/plain": [
              "[1] \"list\""
            ]
          },
          "metadata": {}
        }
      ]
    },
    {
      "cell_type": "code",
      "source": [
        "class(gapminder)"
      ],
      "metadata": {
        "colab": {
          "base_uri": "https://localhost:8080/",
          "height": 34
        },
        "id": "vyPIwvHcGxBS",
        "outputId": "9a97bdcb-34eb-49a1-9e35-6e7c8fd471d0"
      },
      "execution_count": null,
      "outputs": [
        {
          "output_type": "display_data",
          "data": {
            "text/html": [
              "<style>\n",
              ".list-inline {list-style: none; margin:0; padding: 0}\n",
              ".list-inline>li {display: inline-block}\n",
              ".list-inline>li:not(:last-child)::after {content: \"\\00b7\"; padding: 0 .5ex}\n",
              "</style>\n",
              "<ol class=list-inline><li>'tbl_df'</li><li>'tbl'</li><li>'data.frame'</li></ol>\n"
            ],
            "text/markdown": "1. 'tbl_df'\n2. 'tbl'\n3. 'data.frame'\n\n\n",
            "text/latex": "\\begin{enumerate*}\n\\item 'tbl\\_df'\n\\item 'tbl'\n\\item 'data.frame'\n\\end{enumerate*}\n",
            "text/plain": [
              "[1] \"tbl_df\"     \"tbl\"        \"data.frame\""
            ]
          },
          "metadata": {}
        }
      ]
    },
    {
      "cell_type": "code",
      "source": [
        "gapminder"
      ],
      "metadata": {
        "colab": {
          "base_uri": "https://localhost:8080/",
          "height": 1000
        },
        "id": "wIkXbO2FGRpZ",
        "outputId": "f07358a2-b249-4dbe-b7c2-e9294d5acb8c"
      },
      "execution_count": null,
      "outputs": [
        {
          "output_type": "display_data",
          "data": {
            "text/html": [
              "<table class=\"dataframe\">\n",
              "<caption>A tibble: 1704 × 6</caption>\n",
              "<thead>\n",
              "\t<tr><th scope=col>country</th><th scope=col>continent</th><th scope=col>year</th><th scope=col>lifeExp</th><th scope=col>pop</th><th scope=col>gdpPercap</th></tr>\n",
              "\t<tr><th scope=col>&lt;fct&gt;</th><th scope=col>&lt;fct&gt;</th><th scope=col>&lt;int&gt;</th><th scope=col>&lt;dbl&gt;</th><th scope=col>&lt;int&gt;</th><th scope=col>&lt;dbl&gt;</th></tr>\n",
              "</thead>\n",
              "<tbody>\n",
              "\t<tr><td>Afghanistan</td><td>Asia  </td><td>1952</td><td>28.801</td><td> 8425333</td><td> 779.4453</td></tr>\n",
              "\t<tr><td>Afghanistan</td><td>Asia  </td><td>1957</td><td>30.332</td><td> 9240934</td><td> 820.8530</td></tr>\n",
              "\t<tr><td>Afghanistan</td><td>Asia  </td><td>1962</td><td>31.997</td><td>10267083</td><td> 853.1007</td></tr>\n",
              "\t<tr><td>Afghanistan</td><td>Asia  </td><td>1967</td><td>34.020</td><td>11537966</td><td> 836.1971</td></tr>\n",
              "\t<tr><td>Afghanistan</td><td>Asia  </td><td>1972</td><td>36.088</td><td>13079460</td><td> 739.9811</td></tr>\n",
              "\t<tr><td>Afghanistan</td><td>Asia  </td><td>1977</td><td>38.438</td><td>14880372</td><td> 786.1134</td></tr>\n",
              "\t<tr><td>Afghanistan</td><td>Asia  </td><td>1982</td><td>39.854</td><td>12881816</td><td> 978.0114</td></tr>\n",
              "\t<tr><td>Afghanistan</td><td>Asia  </td><td>1987</td><td>40.822</td><td>13867957</td><td> 852.3959</td></tr>\n",
              "\t<tr><td>Afghanistan</td><td>Asia  </td><td>1992</td><td>41.674</td><td>16317921</td><td> 649.3414</td></tr>\n",
              "\t<tr><td>Afghanistan</td><td>Asia  </td><td>1997</td><td>41.763</td><td>22227415</td><td> 635.3414</td></tr>\n",
              "\t<tr><td>Afghanistan</td><td>Asia  </td><td>2002</td><td>42.129</td><td>25268405</td><td> 726.7341</td></tr>\n",
              "\t<tr><td>Afghanistan</td><td>Asia  </td><td>2007</td><td>43.828</td><td>31889923</td><td> 974.5803</td></tr>\n",
              "\t<tr><td>Albania    </td><td>Europe</td><td>1952</td><td>55.230</td><td> 1282697</td><td>1601.0561</td></tr>\n",
              "\t<tr><td>Albania    </td><td>Europe</td><td>1957</td><td>59.280</td><td> 1476505</td><td>1942.2842</td></tr>\n",
              "\t<tr><td>Albania    </td><td>Europe</td><td>1962</td><td>64.820</td><td> 1728137</td><td>2312.8890</td></tr>\n",
              "\t<tr><td>Albania    </td><td>Europe</td><td>1967</td><td>66.220</td><td> 1984060</td><td>2760.1969</td></tr>\n",
              "\t<tr><td>Albania    </td><td>Europe</td><td>1972</td><td>67.690</td><td> 2263554</td><td>3313.4222</td></tr>\n",
              "\t<tr><td>Albania    </td><td>Europe</td><td>1977</td><td>68.930</td><td> 2509048</td><td>3533.0039</td></tr>\n",
              "\t<tr><td>Albania    </td><td>Europe</td><td>1982</td><td>70.420</td><td> 2780097</td><td>3630.8807</td></tr>\n",
              "\t<tr><td>Albania    </td><td>Europe</td><td>1987</td><td>72.000</td><td> 3075321</td><td>3738.9327</td></tr>\n",
              "\t<tr><td>Albania    </td><td>Europe</td><td>1992</td><td>71.581</td><td> 3326498</td><td>2497.4379</td></tr>\n",
              "\t<tr><td>Albania    </td><td>Europe</td><td>1997</td><td>72.950</td><td> 3428038</td><td>3193.0546</td></tr>\n",
              "\t<tr><td>Albania    </td><td>Europe</td><td>2002</td><td>75.651</td><td> 3508512</td><td>4604.2117</td></tr>\n",
              "\t<tr><td>Albania    </td><td>Europe</td><td>2007</td><td>76.423</td><td> 3600523</td><td>5937.0295</td></tr>\n",
              "\t<tr><td>Algeria    </td><td>Africa</td><td>1952</td><td>43.077</td><td> 9279525</td><td>2449.0082</td></tr>\n",
              "\t<tr><td>Algeria    </td><td>Africa</td><td>1957</td><td>45.685</td><td>10270856</td><td>3013.9760</td></tr>\n",
              "\t<tr><td>Algeria    </td><td>Africa</td><td>1962</td><td>48.303</td><td>11000948</td><td>2550.8169</td></tr>\n",
              "\t<tr><td>Algeria    </td><td>Africa</td><td>1967</td><td>51.407</td><td>12760499</td><td>3246.9918</td></tr>\n",
              "\t<tr><td>Algeria    </td><td>Africa</td><td>1972</td><td>54.518</td><td>14760787</td><td>4182.6638</td></tr>\n",
              "\t<tr><td>Algeria    </td><td>Africa</td><td>1977</td><td>58.014</td><td>17152804</td><td>4910.4168</td></tr>\n",
              "\t<tr><td>⋮</td><td>⋮</td><td>⋮</td><td>⋮</td><td>⋮</td><td>⋮</td></tr>\n",
              "\t<tr><td>Yemen, Rep.</td><td>Asia  </td><td>1982</td><td>49.113</td><td> 9657618</td><td>1977.5570</td></tr>\n",
              "\t<tr><td>Yemen, Rep.</td><td>Asia  </td><td>1987</td><td>52.922</td><td>11219340</td><td>1971.7415</td></tr>\n",
              "\t<tr><td>Yemen, Rep.</td><td>Asia  </td><td>1992</td><td>55.599</td><td>13367997</td><td>1879.4967</td></tr>\n",
              "\t<tr><td>Yemen, Rep.</td><td>Asia  </td><td>1997</td><td>58.020</td><td>15826497</td><td>2117.4845</td></tr>\n",
              "\t<tr><td>Yemen, Rep.</td><td>Asia  </td><td>2002</td><td>60.308</td><td>18701257</td><td>2234.8208</td></tr>\n",
              "\t<tr><td>Yemen, Rep.</td><td>Asia  </td><td>2007</td><td>62.698</td><td>22211743</td><td>2280.7699</td></tr>\n",
              "\t<tr><td>Zambia     </td><td>Africa</td><td>1952</td><td>42.038</td><td> 2672000</td><td>1147.3888</td></tr>\n",
              "\t<tr><td>Zambia     </td><td>Africa</td><td>1957</td><td>44.077</td><td> 3016000</td><td>1311.9568</td></tr>\n",
              "\t<tr><td>Zambia     </td><td>Africa</td><td>1962</td><td>46.023</td><td> 3421000</td><td>1452.7258</td></tr>\n",
              "\t<tr><td>Zambia     </td><td>Africa</td><td>1967</td><td>47.768</td><td> 3900000</td><td>1777.0773</td></tr>\n",
              "\t<tr><td>Zambia     </td><td>Africa</td><td>1972</td><td>50.107</td><td> 4506497</td><td>1773.4983</td></tr>\n",
              "\t<tr><td>Zambia     </td><td>Africa</td><td>1977</td><td>51.386</td><td> 5216550</td><td>1588.6883</td></tr>\n",
              "\t<tr><td>Zambia     </td><td>Africa</td><td>1982</td><td>51.821</td><td> 6100407</td><td>1408.6786</td></tr>\n",
              "\t<tr><td>Zambia     </td><td>Africa</td><td>1987</td><td>50.821</td><td> 7272406</td><td>1213.3151</td></tr>\n",
              "\t<tr><td>Zambia     </td><td>Africa</td><td>1992</td><td>46.100</td><td> 8381163</td><td>1210.8846</td></tr>\n",
              "\t<tr><td>Zambia     </td><td>Africa</td><td>1997</td><td>40.238</td><td> 9417789</td><td>1071.3538</td></tr>\n",
              "\t<tr><td>Zambia     </td><td>Africa</td><td>2002</td><td>39.193</td><td>10595811</td><td>1071.6139</td></tr>\n",
              "\t<tr><td>Zambia     </td><td>Africa</td><td>2007</td><td>42.384</td><td>11746035</td><td>1271.2116</td></tr>\n",
              "\t<tr><td>Zimbabwe   </td><td>Africa</td><td>1952</td><td>48.451</td><td> 3080907</td><td> 406.8841</td></tr>\n",
              "\t<tr><td>Zimbabwe   </td><td>Africa</td><td>1957</td><td>50.469</td><td> 3646340</td><td> 518.7643</td></tr>\n",
              "\t<tr><td>Zimbabwe   </td><td>Africa</td><td>1962</td><td>52.358</td><td> 4277736</td><td> 527.2722</td></tr>\n",
              "\t<tr><td>Zimbabwe   </td><td>Africa</td><td>1967</td><td>53.995</td><td> 4995432</td><td> 569.7951</td></tr>\n",
              "\t<tr><td>Zimbabwe   </td><td>Africa</td><td>1972</td><td>55.635</td><td> 5861135</td><td> 799.3622</td></tr>\n",
              "\t<tr><td>Zimbabwe   </td><td>Africa</td><td>1977</td><td>57.674</td><td> 6642107</td><td> 685.5877</td></tr>\n",
              "\t<tr><td>Zimbabwe   </td><td>Africa</td><td>1982</td><td>60.363</td><td> 7636524</td><td> 788.8550</td></tr>\n",
              "\t<tr><td>Zimbabwe   </td><td>Africa</td><td>1987</td><td>62.351</td><td> 9216418</td><td> 706.1573</td></tr>\n",
              "\t<tr><td>Zimbabwe   </td><td>Africa</td><td>1992</td><td>60.377</td><td>10704340</td><td> 693.4208</td></tr>\n",
              "\t<tr><td>Zimbabwe   </td><td>Africa</td><td>1997</td><td>46.809</td><td>11404948</td><td> 792.4500</td></tr>\n",
              "\t<tr><td>Zimbabwe   </td><td>Africa</td><td>2002</td><td>39.989</td><td>11926563</td><td> 672.0386</td></tr>\n",
              "\t<tr><td>Zimbabwe   </td><td>Africa</td><td>2007</td><td>43.487</td><td>12311143</td><td> 469.7093</td></tr>\n",
              "</tbody>\n",
              "</table>\n"
            ],
            "text/markdown": "\nA tibble: 1704 × 6\n\n| country &lt;fct&gt; | continent &lt;fct&gt; | year &lt;int&gt; | lifeExp &lt;dbl&gt; | pop &lt;int&gt; | gdpPercap &lt;dbl&gt; |\n|---|---|---|---|---|---|\n| Afghanistan | Asia   | 1952 | 28.801 |  8425333 |  779.4453 |\n| Afghanistan | Asia   | 1957 | 30.332 |  9240934 |  820.8530 |\n| Afghanistan | Asia   | 1962 | 31.997 | 10267083 |  853.1007 |\n| Afghanistan | Asia   | 1967 | 34.020 | 11537966 |  836.1971 |\n| Afghanistan | Asia   | 1972 | 36.088 | 13079460 |  739.9811 |\n| Afghanistan | Asia   | 1977 | 38.438 | 14880372 |  786.1134 |\n| Afghanistan | Asia   | 1982 | 39.854 | 12881816 |  978.0114 |\n| Afghanistan | Asia   | 1987 | 40.822 | 13867957 |  852.3959 |\n| Afghanistan | Asia   | 1992 | 41.674 | 16317921 |  649.3414 |\n| Afghanistan | Asia   | 1997 | 41.763 | 22227415 |  635.3414 |\n| Afghanistan | Asia   | 2002 | 42.129 | 25268405 |  726.7341 |\n| Afghanistan | Asia   | 2007 | 43.828 | 31889923 |  974.5803 |\n| Albania     | Europe | 1952 | 55.230 |  1282697 | 1601.0561 |\n| Albania     | Europe | 1957 | 59.280 |  1476505 | 1942.2842 |\n| Albania     | Europe | 1962 | 64.820 |  1728137 | 2312.8890 |\n| Albania     | Europe | 1967 | 66.220 |  1984060 | 2760.1969 |\n| Albania     | Europe | 1972 | 67.690 |  2263554 | 3313.4222 |\n| Albania     | Europe | 1977 | 68.930 |  2509048 | 3533.0039 |\n| Albania     | Europe | 1982 | 70.420 |  2780097 | 3630.8807 |\n| Albania     | Europe | 1987 | 72.000 |  3075321 | 3738.9327 |\n| Albania     | Europe | 1992 | 71.581 |  3326498 | 2497.4379 |\n| Albania     | Europe | 1997 | 72.950 |  3428038 | 3193.0546 |\n| Albania     | Europe | 2002 | 75.651 |  3508512 | 4604.2117 |\n| Albania     | Europe | 2007 | 76.423 |  3600523 | 5937.0295 |\n| Algeria     | Africa | 1952 | 43.077 |  9279525 | 2449.0082 |\n| Algeria     | Africa | 1957 | 45.685 | 10270856 | 3013.9760 |\n| Algeria     | Africa | 1962 | 48.303 | 11000948 | 2550.8169 |\n| Algeria     | Africa | 1967 | 51.407 | 12760499 | 3246.9918 |\n| Algeria     | Africa | 1972 | 54.518 | 14760787 | 4182.6638 |\n| Algeria     | Africa | 1977 | 58.014 | 17152804 | 4910.4168 |\n| ⋮ | ⋮ | ⋮ | ⋮ | ⋮ | ⋮ |\n| Yemen, Rep. | Asia   | 1982 | 49.113 |  9657618 | 1977.5570 |\n| Yemen, Rep. | Asia   | 1987 | 52.922 | 11219340 | 1971.7415 |\n| Yemen, Rep. | Asia   | 1992 | 55.599 | 13367997 | 1879.4967 |\n| Yemen, Rep. | Asia   | 1997 | 58.020 | 15826497 | 2117.4845 |\n| Yemen, Rep. | Asia   | 2002 | 60.308 | 18701257 | 2234.8208 |\n| Yemen, Rep. | Asia   | 2007 | 62.698 | 22211743 | 2280.7699 |\n| Zambia      | Africa | 1952 | 42.038 |  2672000 | 1147.3888 |\n| Zambia      | Africa | 1957 | 44.077 |  3016000 | 1311.9568 |\n| Zambia      | Africa | 1962 | 46.023 |  3421000 | 1452.7258 |\n| Zambia      | Africa | 1967 | 47.768 |  3900000 | 1777.0773 |\n| Zambia      | Africa | 1972 | 50.107 |  4506497 | 1773.4983 |\n| Zambia      | Africa | 1977 | 51.386 |  5216550 | 1588.6883 |\n| Zambia      | Africa | 1982 | 51.821 |  6100407 | 1408.6786 |\n| Zambia      | Africa | 1987 | 50.821 |  7272406 | 1213.3151 |\n| Zambia      | Africa | 1992 | 46.100 |  8381163 | 1210.8846 |\n| Zambia      | Africa | 1997 | 40.238 |  9417789 | 1071.3538 |\n| Zambia      | Africa | 2002 | 39.193 | 10595811 | 1071.6139 |\n| Zambia      | Africa | 2007 | 42.384 | 11746035 | 1271.2116 |\n| Zimbabwe    | Africa | 1952 | 48.451 |  3080907 |  406.8841 |\n| Zimbabwe    | Africa | 1957 | 50.469 |  3646340 |  518.7643 |\n| Zimbabwe    | Africa | 1962 | 52.358 |  4277736 |  527.2722 |\n| Zimbabwe    | Africa | 1967 | 53.995 |  4995432 |  569.7951 |\n| Zimbabwe    | Africa | 1972 | 55.635 |  5861135 |  799.3622 |\n| Zimbabwe    | Africa | 1977 | 57.674 |  6642107 |  685.5877 |\n| Zimbabwe    | Africa | 1982 | 60.363 |  7636524 |  788.8550 |\n| Zimbabwe    | Africa | 1987 | 62.351 |  9216418 |  706.1573 |\n| Zimbabwe    | Africa | 1992 | 60.377 | 10704340 |  693.4208 |\n| Zimbabwe    | Africa | 1997 | 46.809 | 11404948 |  792.4500 |\n| Zimbabwe    | Africa | 2002 | 39.989 | 11926563 |  672.0386 |\n| Zimbabwe    | Africa | 2007 | 43.487 | 12311143 |  469.7093 |\n\n",
            "text/latex": "A tibble: 1704 × 6\n\\begin{tabular}{llllll}\n country & continent & year & lifeExp & pop & gdpPercap\\\\\n <fct> & <fct> & <int> & <dbl> & <int> & <dbl>\\\\\n\\hline\n\t Afghanistan & Asia   & 1952 & 28.801 &  8425333 &  779.4453\\\\\n\t Afghanistan & Asia   & 1957 & 30.332 &  9240934 &  820.8530\\\\\n\t Afghanistan & Asia   & 1962 & 31.997 & 10267083 &  853.1007\\\\\n\t Afghanistan & Asia   & 1967 & 34.020 & 11537966 &  836.1971\\\\\n\t Afghanistan & Asia   & 1972 & 36.088 & 13079460 &  739.9811\\\\\n\t Afghanistan & Asia   & 1977 & 38.438 & 14880372 &  786.1134\\\\\n\t Afghanistan & Asia   & 1982 & 39.854 & 12881816 &  978.0114\\\\\n\t Afghanistan & Asia   & 1987 & 40.822 & 13867957 &  852.3959\\\\\n\t Afghanistan & Asia   & 1992 & 41.674 & 16317921 &  649.3414\\\\\n\t Afghanistan & Asia   & 1997 & 41.763 & 22227415 &  635.3414\\\\\n\t Afghanistan & Asia   & 2002 & 42.129 & 25268405 &  726.7341\\\\\n\t Afghanistan & Asia   & 2007 & 43.828 & 31889923 &  974.5803\\\\\n\t Albania     & Europe & 1952 & 55.230 &  1282697 & 1601.0561\\\\\n\t Albania     & Europe & 1957 & 59.280 &  1476505 & 1942.2842\\\\\n\t Albania     & Europe & 1962 & 64.820 &  1728137 & 2312.8890\\\\\n\t Albania     & Europe & 1967 & 66.220 &  1984060 & 2760.1969\\\\\n\t Albania     & Europe & 1972 & 67.690 &  2263554 & 3313.4222\\\\\n\t Albania     & Europe & 1977 & 68.930 &  2509048 & 3533.0039\\\\\n\t Albania     & Europe & 1982 & 70.420 &  2780097 & 3630.8807\\\\\n\t Albania     & Europe & 1987 & 72.000 &  3075321 & 3738.9327\\\\\n\t Albania     & Europe & 1992 & 71.581 &  3326498 & 2497.4379\\\\\n\t Albania     & Europe & 1997 & 72.950 &  3428038 & 3193.0546\\\\\n\t Albania     & Europe & 2002 & 75.651 &  3508512 & 4604.2117\\\\\n\t Albania     & Europe & 2007 & 76.423 &  3600523 & 5937.0295\\\\\n\t Algeria     & Africa & 1952 & 43.077 &  9279525 & 2449.0082\\\\\n\t Algeria     & Africa & 1957 & 45.685 & 10270856 & 3013.9760\\\\\n\t Algeria     & Africa & 1962 & 48.303 & 11000948 & 2550.8169\\\\\n\t Algeria     & Africa & 1967 & 51.407 & 12760499 & 3246.9918\\\\\n\t Algeria     & Africa & 1972 & 54.518 & 14760787 & 4182.6638\\\\\n\t Algeria     & Africa & 1977 & 58.014 & 17152804 & 4910.4168\\\\\n\t ⋮ & ⋮ & ⋮ & ⋮ & ⋮ & ⋮\\\\\n\t Yemen, Rep. & Asia   & 1982 & 49.113 &  9657618 & 1977.5570\\\\\n\t Yemen, Rep. & Asia   & 1987 & 52.922 & 11219340 & 1971.7415\\\\\n\t Yemen, Rep. & Asia   & 1992 & 55.599 & 13367997 & 1879.4967\\\\\n\t Yemen, Rep. & Asia   & 1997 & 58.020 & 15826497 & 2117.4845\\\\\n\t Yemen, Rep. & Asia   & 2002 & 60.308 & 18701257 & 2234.8208\\\\\n\t Yemen, Rep. & Asia   & 2007 & 62.698 & 22211743 & 2280.7699\\\\\n\t Zambia      & Africa & 1952 & 42.038 &  2672000 & 1147.3888\\\\\n\t Zambia      & Africa & 1957 & 44.077 &  3016000 & 1311.9568\\\\\n\t Zambia      & Africa & 1962 & 46.023 &  3421000 & 1452.7258\\\\\n\t Zambia      & Africa & 1967 & 47.768 &  3900000 & 1777.0773\\\\\n\t Zambia      & Africa & 1972 & 50.107 &  4506497 & 1773.4983\\\\\n\t Zambia      & Africa & 1977 & 51.386 &  5216550 & 1588.6883\\\\\n\t Zambia      & Africa & 1982 & 51.821 &  6100407 & 1408.6786\\\\\n\t Zambia      & Africa & 1987 & 50.821 &  7272406 & 1213.3151\\\\\n\t Zambia      & Africa & 1992 & 46.100 &  8381163 & 1210.8846\\\\\n\t Zambia      & Africa & 1997 & 40.238 &  9417789 & 1071.3538\\\\\n\t Zambia      & Africa & 2002 & 39.193 & 10595811 & 1071.6139\\\\\n\t Zambia      & Africa & 2007 & 42.384 & 11746035 & 1271.2116\\\\\n\t Zimbabwe    & Africa & 1952 & 48.451 &  3080907 &  406.8841\\\\\n\t Zimbabwe    & Africa & 1957 & 50.469 &  3646340 &  518.7643\\\\\n\t Zimbabwe    & Africa & 1962 & 52.358 &  4277736 &  527.2722\\\\\n\t Zimbabwe    & Africa & 1967 & 53.995 &  4995432 &  569.7951\\\\\n\t Zimbabwe    & Africa & 1972 & 55.635 &  5861135 &  799.3622\\\\\n\t Zimbabwe    & Africa & 1977 & 57.674 &  6642107 &  685.5877\\\\\n\t Zimbabwe    & Africa & 1982 & 60.363 &  7636524 &  788.8550\\\\\n\t Zimbabwe    & Africa & 1987 & 62.351 &  9216418 &  706.1573\\\\\n\t Zimbabwe    & Africa & 1992 & 60.377 & 10704340 &  693.4208\\\\\n\t Zimbabwe    & Africa & 1997 & 46.809 & 11404948 &  792.4500\\\\\n\t Zimbabwe    & Africa & 2002 & 39.989 & 11926563 &  672.0386\\\\\n\t Zimbabwe    & Africa & 2007 & 43.487 & 12311143 &  469.7093\\\\\n\\end{tabular}\n",
            "text/plain": [
              "     country     continent year lifeExp pop      gdpPercap\n",
              "1    Afghanistan Asia      1952 28.801   8425333  779.4453\n",
              "2    Afghanistan Asia      1957 30.332   9240934  820.8530\n",
              "3    Afghanistan Asia      1962 31.997  10267083  853.1007\n",
              "4    Afghanistan Asia      1967 34.020  11537966  836.1971\n",
              "5    Afghanistan Asia      1972 36.088  13079460  739.9811\n",
              "6    Afghanistan Asia      1977 38.438  14880372  786.1134\n",
              "7    Afghanistan Asia      1982 39.854  12881816  978.0114\n",
              "8    Afghanistan Asia      1987 40.822  13867957  852.3959\n",
              "9    Afghanistan Asia      1992 41.674  16317921  649.3414\n",
              "10   Afghanistan Asia      1997 41.763  22227415  635.3414\n",
              "11   Afghanistan Asia      2002 42.129  25268405  726.7341\n",
              "12   Afghanistan Asia      2007 43.828  31889923  974.5803\n",
              "13   Albania     Europe    1952 55.230   1282697 1601.0561\n",
              "14   Albania     Europe    1957 59.280   1476505 1942.2842\n",
              "15   Albania     Europe    1962 64.820   1728137 2312.8890\n",
              "16   Albania     Europe    1967 66.220   1984060 2760.1969\n",
              "17   Albania     Europe    1972 67.690   2263554 3313.4222\n",
              "18   Albania     Europe    1977 68.930   2509048 3533.0039\n",
              "19   Albania     Europe    1982 70.420   2780097 3630.8807\n",
              "20   Albania     Europe    1987 72.000   3075321 3738.9327\n",
              "21   Albania     Europe    1992 71.581   3326498 2497.4379\n",
              "22   Albania     Europe    1997 72.950   3428038 3193.0546\n",
              "23   Albania     Europe    2002 75.651   3508512 4604.2117\n",
              "24   Albania     Europe    2007 76.423   3600523 5937.0295\n",
              "25   Algeria     Africa    1952 43.077   9279525 2449.0082\n",
              "26   Algeria     Africa    1957 45.685  10270856 3013.9760\n",
              "27   Algeria     Africa    1962 48.303  11000948 2550.8169\n",
              "28   Algeria     Africa    1967 51.407  12760499 3246.9918\n",
              "29   Algeria     Africa    1972 54.518  14760787 4182.6638\n",
              "30   Algeria     Africa    1977 58.014  17152804 4910.4168\n",
              "⋮    ⋮           ⋮         ⋮    ⋮       ⋮        ⋮        \n",
              "1675 Yemen, Rep. Asia      1982 49.113   9657618 1977.5570\n",
              "1676 Yemen, Rep. Asia      1987 52.922  11219340 1971.7415\n",
              "1677 Yemen, Rep. Asia      1992 55.599  13367997 1879.4967\n",
              "1678 Yemen, Rep. Asia      1997 58.020  15826497 2117.4845\n",
              "1679 Yemen, Rep. Asia      2002 60.308  18701257 2234.8208\n",
              "1680 Yemen, Rep. Asia      2007 62.698  22211743 2280.7699\n",
              "1681 Zambia      Africa    1952 42.038   2672000 1147.3888\n",
              "1682 Zambia      Africa    1957 44.077   3016000 1311.9568\n",
              "1683 Zambia      Africa    1962 46.023   3421000 1452.7258\n",
              "1684 Zambia      Africa    1967 47.768   3900000 1777.0773\n",
              "1685 Zambia      Africa    1972 50.107   4506497 1773.4983\n",
              "1686 Zambia      Africa    1977 51.386   5216550 1588.6883\n",
              "1687 Zambia      Africa    1982 51.821   6100407 1408.6786\n",
              "1688 Zambia      Africa    1987 50.821   7272406 1213.3151\n",
              "1689 Zambia      Africa    1992 46.100   8381163 1210.8846\n",
              "1690 Zambia      Africa    1997 40.238   9417789 1071.3538\n",
              "1691 Zambia      Africa    2002 39.193  10595811 1071.6139\n",
              "1692 Zambia      Africa    2007 42.384  11746035 1271.2116\n",
              "1693 Zimbabwe    Africa    1952 48.451   3080907  406.8841\n",
              "1694 Zimbabwe    Africa    1957 50.469   3646340  518.7643\n",
              "1695 Zimbabwe    Africa    1962 52.358   4277736  527.2722\n",
              "1696 Zimbabwe    Africa    1967 53.995   4995432  569.7951\n",
              "1697 Zimbabwe    Africa    1972 55.635   5861135  799.3622\n",
              "1698 Zimbabwe    Africa    1977 57.674   6642107  685.5877\n",
              "1699 Zimbabwe    Africa    1982 60.363   7636524  788.8550\n",
              "1700 Zimbabwe    Africa    1987 62.351   9216418  706.1573\n",
              "1701 Zimbabwe    Africa    1992 60.377  10704340  693.4208\n",
              "1702 Zimbabwe    Africa    1997 46.809  11404948  792.4500\n",
              "1703 Zimbabwe    Africa    2002 39.989  11926563  672.0386\n",
              "1704 Zimbabwe    Africa    2007 43.487  12311143  469.7093"
            ]
          },
          "metadata": {}
        }
      ]
    },
    {
      "cell_type": "code",
      "source": [
        "gapminder <- as.data.frame(gapminder)"
      ],
      "metadata": {
        "id": "sW3wZyVuGTl6"
      },
      "execution_count": null,
      "outputs": []
    },
    {
      "cell_type": "code",
      "source": [
        "typeof(gapminder)"
      ],
      "metadata": {
        "colab": {
          "base_uri": "https://localhost:8080/",
          "height": 34
        },
        "id": "PQODjRMxGdBW",
        "outputId": "e2913c25-fb55-4fd7-ebfb-483fc03fcea7"
      },
      "execution_count": null,
      "outputs": [
        {
          "output_type": "display_data",
          "data": {
            "text/html": [
              "'list'"
            ],
            "text/markdown": "'list'",
            "text/latex": "'list'",
            "text/plain": [
              "[1] \"list\""
            ]
          },
          "metadata": {}
        }
      ]
    },
    {
      "cell_type": "code",
      "source": [
        "class(gapminder)"
      ],
      "metadata": {
        "colab": {
          "base_uri": "https://localhost:8080/",
          "height": 34
        },
        "id": "Nz35VdVIGghF",
        "outputId": "3acc54d5-65e5-4f16-8210-886648fe9d95"
      },
      "execution_count": null,
      "outputs": [
        {
          "output_type": "display_data",
          "data": {
            "text/html": [
              "'data.frame'"
            ],
            "text/markdown": "'data.frame'",
            "text/latex": "'data.frame'",
            "text/plain": [
              "[1] \"data.frame\""
            ]
          },
          "metadata": {}
        }
      ]
    },
    {
      "cell_type": "code",
      "source": [
        "head(gapminder)"
      ],
      "metadata": {
        "colab": {
          "base_uri": "https://localhost:8080/",
          "height": 286
        },
        "id": "GC1UGMvnGiCc",
        "outputId": "31229c56-dacc-4698-f08c-e604ef6a5499"
      },
      "execution_count": null,
      "outputs": [
        {
          "output_type": "display_data",
          "data": {
            "text/html": [
              "<table class=\"dataframe\">\n",
              "<caption>A data.frame: 6 × 6</caption>\n",
              "<thead>\n",
              "\t<tr><th></th><th scope=col>country</th><th scope=col>continent</th><th scope=col>year</th><th scope=col>lifeExp</th><th scope=col>pop</th><th scope=col>gdpPercap</th></tr>\n",
              "\t<tr><th></th><th scope=col>&lt;fct&gt;</th><th scope=col>&lt;fct&gt;</th><th scope=col>&lt;int&gt;</th><th scope=col>&lt;dbl&gt;</th><th scope=col>&lt;int&gt;</th><th scope=col>&lt;dbl&gt;</th></tr>\n",
              "</thead>\n",
              "<tbody>\n",
              "\t<tr><th scope=row>1</th><td>Afghanistan</td><td>Asia</td><td>1952</td><td>28.801</td><td> 8425333</td><td>779.4453</td></tr>\n",
              "\t<tr><th scope=row>2</th><td>Afghanistan</td><td>Asia</td><td>1957</td><td>30.332</td><td> 9240934</td><td>820.8530</td></tr>\n",
              "\t<tr><th scope=row>3</th><td>Afghanistan</td><td>Asia</td><td>1962</td><td>31.997</td><td>10267083</td><td>853.1007</td></tr>\n",
              "\t<tr><th scope=row>4</th><td>Afghanistan</td><td>Asia</td><td>1967</td><td>34.020</td><td>11537966</td><td>836.1971</td></tr>\n",
              "\t<tr><th scope=row>5</th><td>Afghanistan</td><td>Asia</td><td>1972</td><td>36.088</td><td>13079460</td><td>739.9811</td></tr>\n",
              "\t<tr><th scope=row>6</th><td>Afghanistan</td><td>Asia</td><td>1977</td><td>38.438</td><td>14880372</td><td>786.1134</td></tr>\n",
              "</tbody>\n",
              "</table>\n"
            ],
            "text/markdown": "\nA data.frame: 6 × 6\n\n| <!--/--> | country &lt;fct&gt; | continent &lt;fct&gt; | year &lt;int&gt; | lifeExp &lt;dbl&gt; | pop &lt;int&gt; | gdpPercap &lt;dbl&gt; |\n|---|---|---|---|---|---|---|\n| 1 | Afghanistan | Asia | 1952 | 28.801 |  8425333 | 779.4453 |\n| 2 | Afghanistan | Asia | 1957 | 30.332 |  9240934 | 820.8530 |\n| 3 | Afghanistan | Asia | 1962 | 31.997 | 10267083 | 853.1007 |\n| 4 | Afghanistan | Asia | 1967 | 34.020 | 11537966 | 836.1971 |\n| 5 | Afghanistan | Asia | 1972 | 36.088 | 13079460 | 739.9811 |\n| 6 | Afghanistan | Asia | 1977 | 38.438 | 14880372 | 786.1134 |\n\n",
            "text/latex": "A data.frame: 6 × 6\n\\begin{tabular}{r|llllll}\n  & country & continent & year & lifeExp & pop & gdpPercap\\\\\n  & <fct> & <fct> & <int> & <dbl> & <int> & <dbl>\\\\\n\\hline\n\t1 & Afghanistan & Asia & 1952 & 28.801 &  8425333 & 779.4453\\\\\n\t2 & Afghanistan & Asia & 1957 & 30.332 &  9240934 & 820.8530\\\\\n\t3 & Afghanistan & Asia & 1962 & 31.997 & 10267083 & 853.1007\\\\\n\t4 & Afghanistan & Asia & 1967 & 34.020 & 11537966 & 836.1971\\\\\n\t5 & Afghanistan & Asia & 1972 & 36.088 & 13079460 & 739.9811\\\\\n\t6 & Afghanistan & Asia & 1977 & 38.438 & 14880372 & 786.1134\\\\\n\\end{tabular}\n",
            "text/plain": [
              "  country     continent year lifeExp pop      gdpPercap\n",
              "1 Afghanistan Asia      1952 28.801   8425333 779.4453 \n",
              "2 Afghanistan Asia      1957 30.332   9240934 820.8530 \n",
              "3 Afghanistan Asia      1962 31.997  10267083 853.1007 \n",
              "4 Afghanistan Asia      1967 34.020  11537966 836.1971 \n",
              "5 Afghanistan Asia      1972 36.088  13079460 739.9811 \n",
              "6 Afghanistan Asia      1977 38.438  14880372 786.1134 "
            ]
          },
          "metadata": {}
        }
      ]
    },
    {
      "cell_type": "code",
      "source": [
        "index_2007 =  gapminder$year == 2007 "
      ],
      "metadata": {
        "id": "s3w2ueTBHKrv"
      },
      "execution_count": null,
      "outputs": []
    },
    {
      "cell_type": "code",
      "source": [
        "str(index_2007)"
      ],
      "metadata": {
        "colab": {
          "base_uri": "https://localhost:8080/"
        },
        "id": "DCxhdOP8Ha5K",
        "outputId": "5d0d1533-b8b6-45fc-b873-8ef169de91eb"
      },
      "execution_count": null,
      "outputs": [
        {
          "output_type": "stream",
          "name": "stdout",
          "text": [
            " logi [1:1704] FALSE FALSE FALSE FALSE FALSE FALSE ...\n"
          ]
        }
      ]
    },
    {
      "cell_type": "code",
      "source": [
        "gapminder_2007 <- gapminder[index_2007, ]"
      ],
      "metadata": {
        "id": "HTbQYEIYHhp_"
      },
      "execution_count": null,
      "outputs": []
    },
    {
      "cell_type": "code",
      "source": [
        "head(gapminder_2007)"
      ],
      "metadata": {
        "colab": {
          "base_uri": "https://localhost:8080/",
          "height": 286
        },
        "id": "kJpAtz7qHwdy",
        "outputId": "d79ee923-5deb-4a1f-c22e-79f2e6a664cc"
      },
      "execution_count": null,
      "outputs": [
        {
          "output_type": "display_data",
          "data": {
            "text/html": [
              "<table class=\"dataframe\">\n",
              "<caption>A data.frame: 6 × 6</caption>\n",
              "<thead>\n",
              "\t<tr><th></th><th scope=col>country</th><th scope=col>continent</th><th scope=col>year</th><th scope=col>lifeExp</th><th scope=col>pop</th><th scope=col>gdpPercap</th></tr>\n",
              "\t<tr><th></th><th scope=col>&lt;fct&gt;</th><th scope=col>&lt;fct&gt;</th><th scope=col>&lt;int&gt;</th><th scope=col>&lt;dbl&gt;</th><th scope=col>&lt;int&gt;</th><th scope=col>&lt;dbl&gt;</th></tr>\n",
              "</thead>\n",
              "<tbody>\n",
              "\t<tr><th scope=row>12</th><td>Afghanistan</td><td>Asia    </td><td>2007</td><td>43.828</td><td>31889923</td><td>  974.5803</td></tr>\n",
              "\t<tr><th scope=row>24</th><td>Albania    </td><td>Europe  </td><td>2007</td><td>76.423</td><td> 3600523</td><td> 5937.0295</td></tr>\n",
              "\t<tr><th scope=row>36</th><td>Algeria    </td><td>Africa  </td><td>2007</td><td>72.301</td><td>33333216</td><td> 6223.3675</td></tr>\n",
              "\t<tr><th scope=row>48</th><td>Angola     </td><td>Africa  </td><td>2007</td><td>42.731</td><td>12420476</td><td> 4797.2313</td></tr>\n",
              "\t<tr><th scope=row>60</th><td>Argentina  </td><td>Americas</td><td>2007</td><td>75.320</td><td>40301927</td><td>12779.3796</td></tr>\n",
              "\t<tr><th scope=row>72</th><td>Australia  </td><td>Oceania </td><td>2007</td><td>81.235</td><td>20434176</td><td>34435.3674</td></tr>\n",
              "</tbody>\n",
              "</table>\n"
            ],
            "text/markdown": "\nA data.frame: 6 × 6\n\n| <!--/--> | country &lt;fct&gt; | continent &lt;fct&gt; | year &lt;int&gt; | lifeExp &lt;dbl&gt; | pop &lt;int&gt; | gdpPercap &lt;dbl&gt; |\n|---|---|---|---|---|---|---|\n| 12 | Afghanistan | Asia     | 2007 | 43.828 | 31889923 |   974.5803 |\n| 24 | Albania     | Europe   | 2007 | 76.423 |  3600523 |  5937.0295 |\n| 36 | Algeria     | Africa   | 2007 | 72.301 | 33333216 |  6223.3675 |\n| 48 | Angola      | Africa   | 2007 | 42.731 | 12420476 |  4797.2313 |\n| 60 | Argentina   | Americas | 2007 | 75.320 | 40301927 | 12779.3796 |\n| 72 | Australia   | Oceania  | 2007 | 81.235 | 20434176 | 34435.3674 |\n\n",
            "text/latex": "A data.frame: 6 × 6\n\\begin{tabular}{r|llllll}\n  & country & continent & year & lifeExp & pop & gdpPercap\\\\\n  & <fct> & <fct> & <int> & <dbl> & <int> & <dbl>\\\\\n\\hline\n\t12 & Afghanistan & Asia     & 2007 & 43.828 & 31889923 &   974.5803\\\\\n\t24 & Albania     & Europe   & 2007 & 76.423 &  3600523 &  5937.0295\\\\\n\t36 & Algeria     & Africa   & 2007 & 72.301 & 33333216 &  6223.3675\\\\\n\t48 & Angola      & Africa   & 2007 & 42.731 & 12420476 &  4797.2313\\\\\n\t60 & Argentina   & Americas & 2007 & 75.320 & 40301927 & 12779.3796\\\\\n\t72 & Australia   & Oceania  & 2007 & 81.235 & 20434176 & 34435.3674\\\\\n\\end{tabular}\n",
            "text/plain": [
              "   country     continent year lifeExp pop      gdpPercap \n",
              "12 Afghanistan Asia      2007 43.828  31889923   974.5803\n",
              "24 Albania     Europe    2007 76.423   3600523  5937.0295\n",
              "36 Algeria     Africa    2007 72.301  33333216  6223.3675\n",
              "48 Angola      Africa    2007 42.731  12420476  4797.2313\n",
              "60 Argentina   Americas  2007 75.320  40301927 12779.3796\n",
              "72 Australia   Oceania   2007 81.235  20434176 34435.3674"
            ]
          },
          "metadata": {}
        }
      ]
    },
    {
      "cell_type": "code",
      "source": [
        "summary(gapminder_2007)"
      ],
      "metadata": {
        "colab": {
          "base_uri": "https://localhost:8080/",
          "height": 302
        },
        "id": "_Jc-l8Y5Hzov",
        "outputId": "22642ab8-2256-4159-bec8-09189fc0fa61"
      },
      "execution_count": null,
      "outputs": [
        {
          "output_type": "display_data",
          "data": {
            "text/plain": [
              "        country       continent       year         lifeExp     \n",
              " Afghanistan:  1   Africa  :52   Min.   :2007   Min.   :39.61  \n",
              " Albania    :  1   Americas:25   1st Qu.:2007   1st Qu.:57.16  \n",
              " Algeria    :  1   Asia    :33   Median :2007   Median :71.94  \n",
              " Angola     :  1   Europe  :30   Mean   :2007   Mean   :67.01  \n",
              " Argentina  :  1   Oceania : 2   3rd Qu.:2007   3rd Qu.:76.41  \n",
              " Australia  :  1                 Max.   :2007   Max.   :82.60  \n",
              " (Other)    :136                                               \n",
              "      pop              gdpPercap      \n",
              " Min.   :1.996e+05   Min.   :  277.6  \n",
              " 1st Qu.:4.508e+06   1st Qu.: 1624.8  \n",
              " Median :1.052e+07   Median : 6124.4  \n",
              " Mean   :4.402e+07   Mean   :11680.1  \n",
              " 3rd Qu.:3.121e+07   3rd Qu.:18008.8  \n",
              " Max.   :1.319e+09   Max.   :49357.2  \n",
              "                                      "
            ]
          },
          "metadata": {}
        }
      ]
    },
    {
      "cell_type": "code",
      "source": [
        "sum(is.na(gapminder_2007))"
      ],
      "metadata": {
        "colab": {
          "base_uri": "https://localhost:8080/",
          "height": 34
        },
        "id": "HP2KfmL8H5Ok",
        "outputId": "7aeb4418-2342-4942-ab1d-f1dd31cc71d0"
      },
      "execution_count": null,
      "outputs": [
        {
          "output_type": "display_data",
          "data": {
            "text/html": [
              "0"
            ],
            "text/markdown": "0",
            "text/latex": "0",
            "text/plain": [
              "[1] 0"
            ]
          },
          "metadata": {}
        }
      ]
    },
    {
      "cell_type": "code",
      "source": [
        "plot(gapminder_2007$gdpPercap, gapminder_2007$lifeExp, xlab=\"Gdp en dollares\", ylab=\"Expectativa de vida en años\", main=\"Gdp vs Expectiva de vida\" )"
      ],
      "metadata": {
        "colab": {
          "base_uri": "https://localhost:8080/",
          "height": 437
        },
        "id": "q__KXJsBIBtT",
        "outputId": "76eb3cab-42fe-41a3-ad15-ad8abb1a30fb"
      },
      "execution_count": null,
      "outputs": [
        {
          "output_type": "display_data",
          "data": {
            "text/plain": [
              "Plot with title “Gdp vs Expectiva de vida”"
            ],
            "image/png": "[encoded data removed]"
          },
          "metadata": {
            "image/png": {
              "width": 420,
              "height": 420
            }
          }
        }
      ]
    },
    {
      "cell_type": "code",
      "source": [
        "plot((gapminder_2007$gdpPercap - mean(gapminder_2007$gdpPercap))/gapminder_2007$gdpPercap , (gapminder_2007$lifeExp - mean(gapminder_2007$lifeExp))/gapminder_2007$lifeExp , xlab=\"Gdp (estandarizada)\", ylab=\"Expectativa de vida (estandarizada)\", main=\"Gdp vs Expectiva de vida\" )"
      ],
      "metadata": {
        "colab": {
          "base_uri": "https://localhost:8080/",
          "height": 437
        },
        "id": "bkgpdmJGIYwb",
        "outputId": "ed0e47f0-1e65-44b2-9611-e5f368c5e73b"
      },
      "execution_count": null,
      "outputs": [
        {
          "output_type": "display_data",
          "data": {
            "text/plain": [
              "Plot with title “Gdp vs Expectiva de vida”"
            ],
            "image/png": "[encoded data removed]"
          },
          "metadata": {
            "image/png": {
              "width": 420,
              "height": 420
            }
          }
        }
      ]
    },
    {
      "cell_type": "code",
      "source": [
        "hist(gapminder_2007$gdpPercap)"
      ],
      "metadata": {
        "colab": {
          "base_uri": "https://localhost:8080/",
          "height": 437
        },
        "id": "0pwdTf4EJ1Qs",
        "outputId": "520b7158-6d84-48db-f85d-1fa957a4104d"
      },
      "execution_count": null,
      "outputs": [
        {
          "output_type": "display_data",
          "data": {
            "text/plain": [
              "Plot with title “Histogram of gapminder_2007$gdpPercap”"
            ],
            "image/png": "[encoded data removed]"
          },
          "metadata": {
            "image/png": {
              "width": 420,
              "height": 420
            }
          }
        }
      ]
    },
    {
      "cell_type": "code",
      "source": [
        "hist(gapminder_2007$lifeExp)"
      ],
      "metadata": {
        "colab": {
          "base_uri": "https://localhost:8080/",
          "height": 437
        },
        "id": "Z1wWpWh0KHk-",
        "outputId": "0638d6bb-6298-4f4d-927f-8d731530f41a"
      },
      "execution_count": null,
      "outputs": [
        {
          "output_type": "display_data",
          "data": {
            "text/plain": [
              "Plot with title “Histogram of gapminder_2007$lifeExp”"
            ],
            "image/png": "[encoded data removed]"
          },
          "metadata": {
            "image/png": {
              "width": 420,
              "height": 420
            }
          }
        }
      ]
    },
    {
      "cell_type": "markdown",
      "source": [
        "# Factores"
      ],
      "metadata": {
        "id": "jl0a0beeK1Sv"
      }
    },
    {
      "cell_type": "code",
      "source": [
        "str(gapminder)"
      ],
      "metadata": {
        "colab": {
          "base_uri": "https://localhost:8080/"
        },
        "id": "FrP_QJwIK48G",
        "outputId": "3ccf7a68-1134-43e3-fd77-4d083e516fb5"
      },
      "execution_count": null,
      "outputs": [
        {
          "output_type": "stream",
          "name": "stdout",
          "text": [
            "'data.frame':\t1704 obs. of  6 variables:\n",
            " $ country  : Factor w/ 142 levels \"Afghanistan\",..: 1 1 1 1 1 1 1 1 1 1 ...\n",
            " $ continent: Factor w/ 5 levels \"Africa\",\"Americas\",..: 3 3 3 3 3 3 3 3 3 3 ...\n",
            " $ year     : int  1952 1957 1962 1967 1972 1977 1982 1987 1992 1997 ...\n",
            " $ lifeExp  : num  28.8 30.3 32 34 36.1 ...\n",
            " $ pop      : int  8425333 9240934 10267083 11537966 13079460 14880372 12881816 13867957 16317921 22227415 ...\n",
            " $ gdpPercap: num  779 821 853 836 740 ...\n"
          ]
        }
      ]
    },
    {
      "cell_type": "code",
      "source": [
        "head(gapminder$continent)"
      ],
      "metadata": {
        "colab": {
          "base_uri": "https://localhost:8080/",
          "height": 53
        },
        "id": "WAIjNms8K6m1",
        "outputId": "ae4783ab-462b-462e-b284-a336f928c6dc"
      },
      "execution_count": null,
      "outputs": [
        {
          "output_type": "display_data",
          "data": {
            "text/html": [
              "<style>\n",
              ".list-inline {list-style: none; margin:0; padding: 0}\n",
              ".list-inline>li {display: inline-block}\n",
              ".list-inline>li:not(:last-child)::after {content: \"\\00b7\"; padding: 0 .5ex}\n",
              "</style>\n",
              "<ol class=list-inline><li>Asia</li><li>Asia</li><li>Asia</li><li>Asia</li><li>Asia</li><li>Asia</li></ol>\n",
              "\n",
              "<details>\n",
              "\t<summary style=display:list-item;cursor:pointer>\n",
              "\t\t<strong>Levels</strong>:\n",
              "\t</summary>\n",
              "\t<style>\n",
              "\t.list-inline {list-style: none; margin:0; padding: 0}\n",
              "\t.list-inline>li {display: inline-block}\n",
              "\t.list-inline>li:not(:last-child)::after {content: \"\\00b7\"; padding: 0 .5ex}\n",
              "\t</style>\n",
              "\t<ol class=list-inline><li>'Africa'</li><li>'Americas'</li><li>'Asia'</li><li>'Europe'</li><li>'Oceania'</li></ol>\n",
              "</details>"
            ],
            "text/markdown": "1. Asia\n2. Asia\n3. Asia\n4. Asia\n5. Asia\n6. Asia\n\n\n\n**Levels**: 1. 'Africa'\n2. 'Americas'\n3. 'Asia'\n4. 'Europe'\n5. 'Oceania'\n\n\n",
            "text/latex": "\\begin{enumerate*}\n\\item Asia\n\\item Asia\n\\item Asia\n\\item Asia\n\\item Asia\n\\item Asia\n\\end{enumerate*}\n\n\\emph{Levels}: \\begin{enumerate*}\n\\item 'Africa'\n\\item 'Americas'\n\\item 'Asia'\n\\item 'Europe'\n\\item 'Oceania'\n\\end{enumerate*}\n",
            "text/plain": [
              "[1] Asia Asia Asia Asia Asia Asia\n",
              "Levels: Africa Americas Asia Europe Oceania"
            ]
          },
          "metadata": {}
        }
      ]
    },
    {
      "cell_type": "code",
      "source": [
        "summary(gapminder$continent)"
      ],
      "metadata": {
        "colab": {
          "base_uri": "https://localhost:8080/",
          "height": 34
        },
        "id": "rCem26XRMlZe",
        "outputId": "bc7901c3-1a79-4051-bb44-107e74c7e5e6"
      },
      "execution_count": null,
      "outputs": [
        {
          "output_type": "display_data",
          "data": {
            "text/html": [
              "<style>\n",
              ".dl-inline {width: auto; margin:0; padding: 0}\n",
              ".dl-inline>dt, .dl-inline>dd {float: none; width: auto; display: inline-block}\n",
              ".dl-inline>dt::after {content: \":\\0020\"; padding-right: .5ex}\n",
              ".dl-inline>dt:not(:first-of-type) {padding-left: .5ex}\n",
              "</style><dl class=dl-inline><dt>Africa</dt><dd>624</dd><dt>Americas</dt><dd>300</dd><dt>Asia</dt><dd>396</dd><dt>Europe</dt><dd>360</dd><dt>Oceania</dt><dd>24</dd></dl>\n"
            ],
            "text/markdown": "Africa\n:   624Americas\n:   300Asia\n:   396Europe\n:   360Oceania\n:   24\n\n",
            "text/latex": "\\begin{description*}\n\\item[Africa] 624\n\\item[Americas] 300\n\\item[Asia] 396\n\\item[Europe] 360\n\\item[Oceania] 24\n\\end{description*}\n",
            "text/plain": [
              "  Africa Americas     Asia   Europe  Oceania \n",
              "     624      300      396      360       24 "
            ]
          },
          "metadata": {}
        }
      ]
    },
    {
      "cell_type": "code",
      "source": [
        "continent <-  as.character(gapminder$continent)"
      ],
      "metadata": {
        "id": "Pg_qdyzvMMhM"
      },
      "execution_count": null,
      "outputs": []
    },
    {
      "cell_type": "code",
      "source": [
        "continent"
      ],
      "metadata": {
        "colab": {
          "base_uri": "https://localhost:8080/",
          "height": 451
        },
        "id": "FmDFYEhHMSaC",
        "outputId": "e2b1b546-34e9-4272-b2e3-e8f5c88b34bb"
      },
      "execution_count": null,
      "outputs": [
        {
          "output_type": "display_data",
          "data": {
            "text/html": [
              "<style>\n",
              ".list-inline {list-style: none; margin:0; padding: 0}\n",
              ".list-inline>li {display: inline-block}\n",
              ".list-inline>li:not(:last-child)::after {content: \"\\00b7\"; padding: 0 .5ex}\n",
              "</style>\n",
              "<ol class=list-inline><li>'Asia'</li><li>'Asia'</li><li>'Asia'</li><li>'Asia'</li><li>'Asia'</li><li>'Asia'</li><li>'Asia'</li><li>'Asia'</li><li>'Asia'</li><li>'Asia'</li><li>'Asia'</li><li>'Asia'</li><li>'Europe'</li><li>'Europe'</li><li>'Europe'</li><li>'Europe'</li><li>'Europe'</li><li>'Europe'</li><li>'Europe'</li><li>'Europe'</li><li>'Europe'</li><li>'Europe'</li><li>'Europe'</li><li>'Europe'</li><li>'Africa'</li><li>'Africa'</li><li>'Africa'</li><li>'Africa'</li><li>'Africa'</li><li>'Africa'</li><li>'Africa'</li><li>'Africa'</li><li>'Africa'</li><li>'Africa'</li><li>'Africa'</li><li>'Africa'</li><li>'Africa'</li><li>'Africa'</li><li>'Africa'</li><li>'Africa'</li><li>'Africa'</li><li>'Africa'</li><li>'Africa'</li><li>'Africa'</li><li>'Africa'</li><li>'Africa'</li><li>'Africa'</li><li>'Africa'</li><li>'Americas'</li><li>'Americas'</li><li>'Americas'</li><li>'Americas'</li><li>'Americas'</li><li>'Americas'</li><li>'Americas'</li><li>'Americas'</li><li>'Americas'</li><li>'Americas'</li><li>'Americas'</li><li>'Americas'</li><li>'Oceania'</li><li>'Oceania'</li><li>'Oceania'</li><li>'Oceania'</li><li>'Oceania'</li><li>'Oceania'</li><li>'Oceania'</li><li>'Oceania'</li><li>'Oceania'</li><li>'Oceania'</li><li>'Oceania'</li><li>'Oceania'</li><li>'Europe'</li><li>'Europe'</li><li>'Europe'</li><li>'Europe'</li><li>'Europe'</li><li>'Europe'</li><li>'Europe'</li><li>'Europe'</li><li>'Europe'</li><li>'Europe'</li><li>'Europe'</li><li>'Europe'</li><li>'Asia'</li><li>'Asia'</li><li>'Asia'</li><li>'Asia'</li><li>'Asia'</li><li>'Asia'</li><li>'Asia'</li><li>'Asia'</li><li>'Asia'</li><li>'Asia'</li><li>'Asia'</li><li>'Asia'</li><li>'Asia'</li><li>'Asia'</li><li>'Asia'</li><li>'Asia'</li><li>'Asia'</li><li>'Asia'</li><li>'Asia'</li><li>'Asia'</li><li>'Asia'</li><li>'Asia'</li><li>'Asia'</li><li>'Asia'</li><li>'Europe'</li><li>'Europe'</li><li>'Europe'</li><li>'Europe'</li><li>'Europe'</li><li>'Europe'</li><li>'Europe'</li><li>'Europe'</li><li>'Europe'</li><li>'Europe'</li><li>'Europe'</li><li>'Europe'</li><li>'Africa'</li><li>'Africa'</li><li>'Africa'</li><li>'Africa'</li><li>'Africa'</li><li>'Africa'</li><li>'Africa'</li><li>'Africa'</li><li>'Africa'</li><li>'Africa'</li><li>'Africa'</li><li>'Africa'</li><li>'Americas'</li><li>'Americas'</li><li>'Americas'</li><li>'Americas'</li><li>'Americas'</li><li>'Americas'</li><li>'Americas'</li><li>'Americas'</li><li>'Americas'</li><li>'Americas'</li><li>'Americas'</li><li>'Americas'</li><li>'Europe'</li><li>'Europe'</li><li>'Europe'</li><li>'Europe'</li><li>'Europe'</li><li>'Europe'</li><li>'Europe'</li><li>'Europe'</li><li>'Europe'</li><li>'Europe'</li><li>'Europe'</li><li>'Europe'</li><li>'Africa'</li><li>'Africa'</li><li>'Africa'</li><li>'Africa'</li><li>'Africa'</li><li>'Africa'</li><li>'Africa'</li><li>'Africa'</li><li>'Africa'</li><li>'Africa'</li><li>'Africa'</li><li>'Africa'</li><li>'Americas'</li><li>'Americas'</li><li>'Americas'</li><li>'Americas'</li><li>'Americas'</li><li>'Americas'</li><li>'Americas'</li><li>'Americas'</li><li>'Americas'</li><li>'Americas'</li><li>'Americas'</li><li>'Americas'</li><li>'Europe'</li><li>'Europe'</li><li>'Europe'</li><li>'Europe'</li><li>'Europe'</li><li>'Europe'</li><li>'Europe'</li><li>'Europe'</li><li>'Europe'</li><li>'Europe'</li><li>'Europe'</li><li>'Europe'</li><li>'Africa'</li><li>'Africa'</li><li>'Africa'</li><li>'Africa'</li><li>'Africa'</li><li>'Africa'</li><li>'Africa'</li><li>'Africa'</li><li>⋯</li><li>'Asia'</li><li>'Asia'</li><li>'Asia'</li><li>'Asia'</li><li>'Asia'</li><li>'Asia'</li><li>'Asia'</li><li>'Asia'</li><li>'Africa'</li><li>'Africa'</li><li>'Africa'</li><li>'Africa'</li><li>'Africa'</li><li>'Africa'</li><li>'Africa'</li><li>'Africa'</li><li>'Africa'</li><li>'Africa'</li><li>'Africa'</li><li>'Africa'</li><li>'Asia'</li><li>'Asia'</li><li>'Asia'</li><li>'Asia'</li><li>'Asia'</li><li>'Asia'</li><li>'Asia'</li><li>'Asia'</li><li>'Asia'</li><li>'Asia'</li><li>'Asia'</li><li>'Asia'</li><li>'Africa'</li><li>'Africa'</li><li>'Africa'</li><li>'Africa'</li><li>'Africa'</li><li>'Africa'</li><li>'Africa'</li><li>'Africa'</li><li>'Africa'</li><li>'Africa'</li><li>'Africa'</li><li>'Africa'</li><li>'Americas'</li><li>'Americas'</li><li>'Americas'</li><li>'Americas'</li><li>'Americas'</li><li>'Americas'</li><li>'Americas'</li><li>'Americas'</li><li>'Americas'</li><li>'Americas'</li><li>'Americas'</li><li>'Americas'</li><li>'Africa'</li><li>'Africa'</li><li>'Africa'</li><li>'Africa'</li><li>'Africa'</li><li>'Africa'</li><li>'Africa'</li><li>'Africa'</li><li>'Africa'</li><li>'Africa'</li><li>'Africa'</li><li>'Africa'</li><li>'Europe'</li><li>'Europe'</li><li>'Europe'</li><li>'Europe'</li><li>'Europe'</li><li>'Europe'</li><li>'Europe'</li><li>'Europe'</li><li>'Europe'</li><li>'Europe'</li><li>'Europe'</li><li>'Europe'</li><li>'Africa'</li><li>'Africa'</li><li>'Africa'</li><li>'Africa'</li><li>'Africa'</li><li>'Africa'</li><li>'Africa'</li><li>'Africa'</li><li>'Africa'</li><li>'Africa'</li><li>'Africa'</li><li>'Africa'</li><li>'Europe'</li><li>'Europe'</li><li>'Europe'</li><li>'Europe'</li><li>'Europe'</li><li>'Europe'</li><li>'Europe'</li><li>'Europe'</li><li>'Europe'</li><li>'Europe'</li><li>'Europe'</li><li>'Europe'</li><li>'Americas'</li><li>'Americas'</li><li>'Americas'</li><li>'Americas'</li><li>'Americas'</li><li>'Americas'</li><li>'Americas'</li><li>'Americas'</li><li>'Americas'</li><li>'Americas'</li><li>'Americas'</li><li>'Americas'</li><li>'Americas'</li><li>'Americas'</li><li>'Americas'</li><li>'Americas'</li><li>'Americas'</li><li>'Americas'</li><li>'Americas'</li><li>'Americas'</li><li>'Americas'</li><li>'Americas'</li><li>'Americas'</li><li>'Americas'</li><li>'Americas'</li><li>'Americas'</li><li>'Americas'</li><li>'Americas'</li><li>'Americas'</li><li>'Americas'</li><li>'Americas'</li><li>'Americas'</li><li>'Americas'</li><li>'Americas'</li><li>'Americas'</li><li>'Americas'</li><li>'Asia'</li><li>'Asia'</li><li>'Asia'</li><li>'Asia'</li><li>'Asia'</li><li>'Asia'</li><li>'Asia'</li><li>'Asia'</li><li>'Asia'</li><li>'Asia'</li><li>'Asia'</li><li>'Asia'</li><li>'Asia'</li><li>'Asia'</li><li>'Asia'</li><li>'Asia'</li><li>'Asia'</li><li>'Asia'</li><li>'Asia'</li><li>'Asia'</li><li>'Asia'</li><li>'Asia'</li><li>'Asia'</li><li>'Asia'</li><li>'Asia'</li><li>'Asia'</li><li>'Asia'</li><li>'Asia'</li><li>'Asia'</li><li>'Asia'</li><li>'Asia'</li><li>'Asia'</li><li>'Asia'</li><li>'Asia'</li><li>'Asia'</li><li>'Asia'</li><li>'Africa'</li><li>'Africa'</li><li>'Africa'</li><li>'Africa'</li><li>'Africa'</li><li>'Africa'</li><li>'Africa'</li><li>'Africa'</li><li>'Africa'</li><li>'Africa'</li><li>'Africa'</li><li>'Africa'</li><li>'Africa'</li><li>'Africa'</li><li>'Africa'</li><li>'Africa'</li><li>'Africa'</li><li>'Africa'</li><li>'Africa'</li><li>'Africa'</li><li>'Africa'</li><li>'Africa'</li><li>'Africa'</li><li>'Africa'</li></ol>\n"
            ],
            "text/markdown": "1. 'Asia'\n2. 'Asia'\n3. 'Asia'\n4. 'Asia'\n5. 'Asia'\n6. 'Asia'\n7. 'Asia'\n8. 'Asia'\n9. 'Asia'\n10. 'Asia'\n11. 'Asia'\n12. 'Asia'\n13. 'Europe'\n14. 'Europe'\n15. 'Europe'\n16. 'Europe'\n17. 'Europe'\n18. 'Europe'\n19. 'Europe'\n20. 'Europe'\n21. 'Europe'\n22. 'Europe'\n23. 'Europe'\n24. 'Europe'\n25. 'Africa'\n26. 'Africa'\n27. 'Africa'\n28. 'Africa'\n29. 'Africa'\n30. 'Africa'\n31. 'Africa'\n32. 'Africa'\n33. 'Africa'\n34. 'Africa'\n35. 'Africa'\n36. 'Africa'\n37. 'Africa'\n38. 'Africa'\n39. 'Africa'\n40. 'Africa'\n41. 'Africa'\n42. 'Africa'\n43. 'Africa'\n44. 'Africa'\n45. 'Africa'\n46. 'Africa'\n47. 'Africa'\n48. 'Africa'\n49. 'Americas'\n50. 'Americas'\n51. 'Americas'\n52. 'Americas'\n53. 'Americas'\n54. 'Americas'\n55. 'Americas'\n56. 'Americas'\n57. 'Americas'\n58. 'Americas'\n59. 'Americas'\n60. 'Americas'\n61. 'Oceania'\n62. 'Oceania'\n63. 'Oceania'\n64. 'Oceania'\n65. 'Oceania'\n66. 'Oceania'\n67. 'Oceania'\n68. 'Oceania'\n69. 'Oceania'\n70. 'Oceania'\n71. 'Oceania'\n72. 'Oceania'\n73. 'Europe'\n74. 'Europe'\n75. 'Europe'\n76. 'Europe'\n77. 'Europe'\n78. 'Europe'\n79. 'Europe'\n80. 'Europe'\n81. 'Europe'\n82. 'Europe'\n83. 'Europe'\n84. 'Europe'\n85. 'Asia'\n86. 'Asia'\n87. 'Asia'\n88. 'Asia'\n89. 'Asia'\n90. 'Asia'\n91. 'Asia'\n92. 'Asia'\n93. 'Asia'\n94. 'Asia'\n95. 'Asia'\n96. 'Asia'\n97. 'Asia'\n98. 'Asia'\n99. 'Asia'\n100. 'Asia'\n101. 'Asia'\n102. 'Asia'\n103. 'Asia'\n104. 'Asia'\n105. 'Asia'\n106. 'Asia'\n107. 'Asia'\n108. 'Asia'\n109. 'Europe'\n110. 'Europe'\n111. 'Europe'\n112. 'Europe'\n113. 'Europe'\n114. 'Europe'\n115. 'Europe'\n116. 'Europe'\n117. 'Europe'\n118. 'Europe'\n119. 'Europe'\n120. 'Europe'\n121. 'Africa'\n122. 'Africa'\n123. 'Africa'\n124. 'Africa'\n125. 'Africa'\n126. 'Africa'\n127. 'Africa'\n128. 'Africa'\n129. 'Africa'\n130. 'Africa'\n131. 'Africa'\n132. 'Africa'\n133. 'Americas'\n134. 'Americas'\n135. 'Americas'\n136. 'Americas'\n137. 'Americas'\n138. 'Americas'\n139. 'Americas'\n140. 'Americas'\n141. 'Americas'\n142. 'Americas'\n143. 'Americas'\n144. 'Americas'\n145. 'Europe'\n146. 'Europe'\n147. 'Europe'\n148. 'Europe'\n149. 'Europe'\n150. 'Europe'\n151. 'Europe'\n152. 'Europe'\n153. 'Europe'\n154. 'Europe'\n155. 'Europe'\n156. 'Europe'\n157. 'Africa'\n158. 'Africa'\n159. 'Africa'\n160. 'Africa'\n161. 'Africa'\n162. 'Africa'\n163. 'Africa'\n164. 'Africa'\n165. 'Africa'\n166. 'Africa'\n167. 'Africa'\n168. 'Africa'\n169. 'Americas'\n170. 'Americas'\n171. 'Americas'\n172. 'Americas'\n173. 'Americas'\n174. 'Americas'\n175. 'Americas'\n176. 'Americas'\n177. 'Americas'\n178. 'Americas'\n179. 'Americas'\n180. 'Americas'\n181. 'Europe'\n182. 'Europe'\n183. 'Europe'\n184. 'Europe'\n185. 'Europe'\n186. 'Europe'\n187. 'Europe'\n188. 'Europe'\n189. 'Europe'\n190. 'Europe'\n191. 'Europe'\n192. 'Europe'\n193. 'Africa'\n194. 'Africa'\n195. 'Africa'\n196. 'Africa'\n197. 'Africa'\n198. 'Africa'\n199. 'Africa'\n200. 'Africa'\n201. ⋯\n202. 'Asia'\n203. 'Asia'\n204. 'Asia'\n205. 'Asia'\n206. 'Asia'\n207. 'Asia'\n208. 'Asia'\n209. 'Asia'\n210. 'Africa'\n211. 'Africa'\n212. 'Africa'\n213. 'Africa'\n214. 'Africa'\n215. 'Africa'\n216. 'Africa'\n217. 'Africa'\n218. 'Africa'\n219. 'Africa'\n220. 'Africa'\n221. 'Africa'\n222. 'Asia'\n223. 'Asia'\n224. 'Asia'\n225. 'Asia'\n226. 'Asia'\n227. 'Asia'\n228. 'Asia'\n229. 'Asia'\n230. 'Asia'\n231. 'Asia'\n232. 'Asia'\n233. 'Asia'\n234. 'Africa'\n235. 'Africa'\n236. 'Africa'\n237. 'Africa'\n238. 'Africa'\n239. 'Africa'\n240. 'Africa'\n241. 'Africa'\n242. 'Africa'\n243. 'Africa'\n244. 'Africa'\n245. 'Africa'\n246. 'Americas'\n247. 'Americas'\n248. 'Americas'\n249. 'Americas'\n250. 'Americas'\n251. 'Americas'\n252. 'Americas'\n253. 'Americas'\n254. 'Americas'\n255. 'Americas'\n256. 'Americas'\n257. 'Americas'\n258. 'Africa'\n259. 'Africa'\n260. 'Africa'\n261. 'Africa'\n262. 'Africa'\n263. 'Africa'\n264. 'Africa'\n265. 'Africa'\n266. 'Africa'\n267. 'Africa'\n268. 'Africa'\n269. 'Africa'\n270. 'Europe'\n271. 'Europe'\n272. 'Europe'\n273. 'Europe'\n274. 'Europe'\n275. 'Europe'\n276. 'Europe'\n277. 'Europe'\n278. 'Europe'\n279. 'Europe'\n280. 'Europe'\n281. 'Europe'\n282. 'Africa'\n283. 'Africa'\n284. 'Africa'\n285. 'Africa'\n286. 'Africa'\n287. 'Africa'\n288. 'Africa'\n289. 'Africa'\n290. 'Africa'\n291. 'Africa'\n292. 'Africa'\n293. 'Africa'\n294. 'Europe'\n295. 'Europe'\n296. 'Europe'\n297. 'Europe'\n298. 'Europe'\n299. 'Europe'\n300. 'Europe'\n301. 'Europe'\n302. 'Europe'\n303. 'Europe'\n304. 'Europe'\n305. 'Europe'\n306. 'Americas'\n307. 'Americas'\n308. 'Americas'\n309. 'Americas'\n310. 'Americas'\n311. 'Americas'\n312. 'Americas'\n313. 'Americas'\n314. 'Americas'\n315. 'Americas'\n316. 'Americas'\n317. 'Americas'\n318. 'Americas'\n319. 'Americas'\n320. 'Americas'\n321. 'Americas'\n322. 'Americas'\n323. 'Americas'\n324. 'Americas'\n325. 'Americas'\n326. 'Americas'\n327. 'Americas'\n328. 'Americas'\n329. 'Americas'\n330. 'Americas'\n331. 'Americas'\n332. 'Americas'\n333. 'Americas'\n334. 'Americas'\n335. 'Americas'\n336. 'Americas'\n337. 'Americas'\n338. 'Americas'\n339. 'Americas'\n340. 'Americas'\n341. 'Americas'\n342. 'Asia'\n343. 'Asia'\n344. 'Asia'\n345. 'Asia'\n346. 'Asia'\n347. 'Asia'\n348. 'Asia'\n349. 'Asia'\n350. 'Asia'\n351. 'Asia'\n352. 'Asia'\n353. 'Asia'\n354. 'Asia'\n355. 'Asia'\n356. 'Asia'\n357. 'Asia'\n358. 'Asia'\n359. 'Asia'\n360. 'Asia'\n361. 'Asia'\n362. 'Asia'\n363. 'Asia'\n364. 'Asia'\n365. 'Asia'\n366. 'Asia'\n367. 'Asia'\n368. 'Asia'\n369. 'Asia'\n370. 'Asia'\n371. 'Asia'\n372. 'Asia'\n373. 'Asia'\n374. 'Asia'\n375. 'Asia'\n376. 'Asia'\n377. 'Asia'\n378. 'Africa'\n379. 'Africa'\n380. 'Africa'\n381. 'Africa'\n382. 'Africa'\n383. 'Africa'\n384. 'Africa'\n385. 'Africa'\n386. 'Africa'\n387. 'Africa'\n388. 'Africa'\n389. 'Africa'\n390. 'Africa'\n391. 'Africa'\n392. 'Africa'\n393. 'Africa'\n394. 'Africa'\n395. 'Africa'\n396. 'Africa'\n397. 'Africa'\n398. 'Africa'\n399. 'Africa'\n400. 'Africa'\n401. 'Africa'\n\n\n",
            "text/latex": "\\begin{enumerate*}\n\\item 'Asia'\n\\item 'Asia'\n\\item 'Asia'\n\\item 'Asia'\n\\item 'Asia'\n\\item 'Asia'\n\\item 'Asia'\n\\item 'Asia'\n\\item 'Asia'\n\\item 'Asia'\n\\item 'Asia'\n\\item 'Asia'\n\\item 'Europe'\n\\item 'Europe'\n\\item 'Europe'\n\\item 'Europe'\n\\item 'Europe'\n\\item 'Europe'\n\\item 'Europe'\n\\item 'Europe'\n\\item 'Europe'\n\\item 'Europe'\n\\item 'Europe'\n\\item 'Europe'\n\\item 'Africa'\n\\item 'Africa'\n\\item 'Africa'\n\\item 'Africa'\n\\item 'Africa'\n\\item 'Africa'\n\\item 'Africa'\n\\item 'Africa'\n\\item 'Africa'\n\\item 'Africa'\n\\item 'Africa'\n\\item 'Africa'\n\\item 'Africa'\n\\item 'Africa'\n\\item 'Africa'\n\\item 'Africa'\n\\item 'Africa'\n\\item 'Africa'\n\\item 'Africa'\n\\item 'Africa'\n\\item 'Africa'\n\\item 'Africa'\n\\item 'Africa'\n\\item 'Africa'\n\\item 'Americas'\n\\item 'Americas'\n\\item 'Americas'\n\\item 'Americas'\n\\item 'Americas'\n\\item 'Americas'\n\\item 'Americas'\n\\item 'Americas'\n\\item 'Americas'\n\\item 'Americas'\n\\item 'Americas'\n\\item 'Americas'\n\\item 'Oceania'\n\\item 'Oceania'\n\\item 'Oceania'\n\\item 'Oceania'\n\\item 'Oceania'\n\\item 'Oceania'\n\\item 'Oceania'\n\\item 'Oceania'\n\\item 'Oceania'\n\\item 'Oceania'\n\\item 'Oceania'\n\\item 'Oceania'\n\\item 'Europe'\n\\item 'Europe'\n\\item 'Europe'\n\\item 'Europe'\n\\item 'Europe'\n\\item 'Europe'\n\\item 'Europe'\n\\item 'Europe'\n\\item 'Europe'\n\\item 'Europe'\n\\item 'Europe'\n\\item 'Europe'\n\\item 'Asia'\n\\item 'Asia'\n\\item 'Asia'\n\\item 'Asia'\n\\item 'Asia'\n\\item 'Asia'\n\\item 'Asia'\n\\item 'Asia'\n\\item 'Asia'\n\\item 'Asia'\n\\item 'Asia'\n\\item 'Asia'\n\\item 'Asia'\n\\item 'Asia'\n\\item 'Asia'\n\\item 'Asia'\n\\item 'Asia'\n\\item 'Asia'\n\\item 'Asia'\n\\item 'Asia'\n\\item 'Asia'\n\\item 'Asia'\n\\item 'Asia'\n\\item 'Asia'\n\\item 'Europe'\n\\item 'Europe'\n\\item 'Europe'\n\\item 'Europe'\n\\item 'Europe'\n\\item 'Europe'\n\\item 'Europe'\n\\item 'Europe'\n\\item 'Europe'\n\\item 'Europe'\n\\item 'Europe'\n\\item 'Europe'\n\\item 'Africa'\n\\item 'Africa'\n\\item 'Africa'\n\\item 'Africa'\n\\item 'Africa'\n\\item 'Africa'\n\\item 'Africa'\n\\item 'Africa'\n\\item 'Africa'\n\\item 'Africa'\n\\item 'Africa'\n\\item 'Africa'\n\\item 'Americas'\n\\item 'Americas'\n\\item 'Americas'\n\\item 'Americas'\n\\item 'Americas'\n\\item 'Americas'\n\\item 'Americas'\n\\item 'Americas'\n\\item 'Americas'\n\\item 'Americas'\n\\item 'Americas'\n\\item 'Americas'\n\\item 'Europe'\n\\item 'Europe'\n\\item 'Europe'\n\\item 'Europe'\n\\item 'Europe'\n\\item 'Europe'\n\\item 'Europe'\n\\item 'Europe'\n\\item 'Europe'\n\\item 'Europe'\n\\item 'Europe'\n\\item 'Europe'\n\\item 'Africa'\n\\item 'Africa'\n\\item 'Africa'\n\\item 'Africa'\n\\item 'Africa'\n\\item 'Africa'\n\\item 'Africa'\n\\item 'Africa'\n\\item 'Africa'\n\\item 'Africa'\n\\item 'Africa'\n\\item 'Africa'\n\\item 'Americas'\n\\item 'Americas'\n\\item 'Americas'\n\\item 'Americas'\n\\item 'Americas'\n\\item 'Americas'\n\\item 'Americas'\n\\item 'Americas'\n\\item 'Americas'\n\\item 'Americas'\n\\item 'Americas'\n\\item 'Americas'\n\\item 'Europe'\n\\item 'Europe'\n\\item 'Europe'\n\\item 'Europe'\n\\item 'Europe'\n\\item 'Europe'\n\\item 'Europe'\n\\item 'Europe'\n\\item 'Europe'\n\\item 'Europe'\n\\item 'Europe'\n\\item 'Europe'\n\\item 'Africa'\n\\item 'Africa'\n\\item 'Africa'\n\\item 'Africa'\n\\item 'Africa'\n\\item 'Africa'\n\\item 'Africa'\n\\item 'Africa'\n\\item ⋯\n\\item 'Asia'\n\\item 'Asia'\n\\item 'Asia'\n\\item 'Asia'\n\\item 'Asia'\n\\item 'Asia'\n\\item 'Asia'\n\\item 'Asia'\n\\item 'Africa'\n\\item 'Africa'\n\\item 'Africa'\n\\item 'Africa'\n\\item 'Africa'\n\\item 'Africa'\n\\item 'Africa'\n\\item 'Africa'\n\\item 'Africa'\n\\item 'Africa'\n\\item 'Africa'\n\\item 'Africa'\n\\item 'Asia'\n\\item 'Asia'\n\\item 'Asia'\n\\item 'Asia'\n\\item 'Asia'\n\\item 'Asia'\n\\item 'Asia'\n\\item 'Asia'\n\\item 'Asia'\n\\item 'Asia'\n\\item 'Asia'\n\\item 'Asia'\n\\item 'Africa'\n\\item 'Africa'\n\\item 'Africa'\n\\item 'Africa'\n\\item 'Africa'\n\\item 'Africa'\n\\item 'Africa'\n\\item 'Africa'\n\\item 'Africa'\n\\item 'Africa'\n\\item 'Africa'\n\\item 'Africa'\n\\item 'Americas'\n\\item 'Americas'\n\\item 'Americas'\n\\item 'Americas'\n\\item 'Americas'\n\\item 'Americas'\n\\item 'Americas'\n\\item 'Americas'\n\\item 'Americas'\n\\item 'Americas'\n\\item 'Americas'\n\\item 'Americas'\n\\item 'Africa'\n\\item 'Africa'\n\\item 'Africa'\n\\item 'Africa'\n\\item 'Africa'\n\\item 'Africa'\n\\item 'Africa'\n\\item 'Africa'\n\\item 'Africa'\n\\item 'Africa'\n\\item 'Africa'\n\\item 'Africa'\n\\item 'Europe'\n\\item 'Europe'\n\\item 'Europe'\n\\item 'Europe'\n\\item 'Europe'\n\\item 'Europe'\n\\item 'Europe'\n\\item 'Europe'\n\\item 'Europe'\n\\item 'Europe'\n\\item 'Europe'\n\\item 'Europe'\n\\item 'Africa'\n\\item 'Africa'\n\\item 'Africa'\n\\item 'Africa'\n\\item 'Africa'\n\\item 'Africa'\n\\item 'Africa'\n\\item 'Africa'\n\\item 'Africa'\n\\item 'Africa'\n\\item 'Africa'\n\\item 'Africa'\n\\item 'Europe'\n\\item 'Europe'\n\\item 'Europe'\n\\item 'Europe'\n\\item 'Europe'\n\\item 'Europe'\n\\item 'Europe'\n\\item 'Europe'\n\\item 'Europe'\n\\item 'Europe'\n\\item 'Europe'\n\\item 'Europe'\n\\item 'Americas'\n\\item 'Americas'\n\\item 'Americas'\n\\item 'Americas'\n\\item 'Americas'\n\\item 'Americas'\n\\item 'Americas'\n\\item 'Americas'\n\\item 'Americas'\n\\item 'Americas'\n\\item 'Americas'\n\\item 'Americas'\n\\item 'Americas'\n\\item 'Americas'\n\\item 'Americas'\n\\item 'Americas'\n\\item 'Americas'\n\\item 'Americas'\n\\item 'Americas'\n\\item 'Americas'\n\\item 'Americas'\n\\item 'Americas'\n\\item 'Americas'\n\\item 'Americas'\n\\item 'Americas'\n\\item 'Americas'\n\\item 'Americas'\n\\item 'Americas'\n\\item 'Americas'\n\\item 'Americas'\n\\item 'Americas'\n\\item 'Americas'\n\\item 'Americas'\n\\item 'Americas'\n\\item 'Americas'\n\\item 'Americas'\n\\item 'Asia'\n\\item 'Asia'\n\\item 'Asia'\n\\item 'Asia'\n\\item 'Asia'\n\\item 'Asia'\n\\item 'Asia'\n\\item 'Asia'\n\\item 'Asia'\n\\item 'Asia'\n\\item 'Asia'\n\\item 'Asia'\n\\item 'Asia'\n\\item 'Asia'\n\\item 'Asia'\n\\item 'Asia'\n\\item 'Asia'\n\\item 'Asia'\n\\item 'Asia'\n\\item 'Asia'\n\\item 'Asia'\n\\item 'Asia'\n\\item 'Asia'\n\\item 'Asia'\n\\item 'Asia'\n\\item 'Asia'\n\\item 'Asia'\n\\item 'Asia'\n\\item 'Asia'\n\\item 'Asia'\n\\item 'Asia'\n\\item 'Asia'\n\\item 'Asia'\n\\item 'Asia'\n\\item 'Asia'\n\\item 'Asia'\n\\item 'Africa'\n\\item 'Africa'\n\\item 'Africa'\n\\item 'Africa'\n\\item 'Africa'\n\\item 'Africa'\n\\item 'Africa'\n\\item 'Africa'\n\\item 'Africa'\n\\item 'Africa'\n\\item 'Africa'\n\\item 'Africa'\n\\item 'Africa'\n\\item 'Africa'\n\\item 'Africa'\n\\item 'Africa'\n\\item 'Africa'\n\\item 'Africa'\n\\item 'Africa'\n\\item 'Africa'\n\\item 'Africa'\n\\item 'Africa'\n\\item 'Africa'\n\\item 'Africa'\n\\end{enumerate*}\n",
            "text/plain": [
              "   [1] \"Asia\"     \"Asia\"     \"Asia\"     \"Asia\"     \"Asia\"     \"Asia\"    \n",
              "   [7] \"Asia\"     \"Asia\"     \"Asia\"     \"Asia\"     \"Asia\"     \"Asia\"    \n",
              "  [13] \"Europe\"   \"Europe\"   \"Europe\"   \"Europe\"   \"Europe\"   \"Europe\"  \n",
              "  [19] \"Europe\"   \"Europe\"   \"Europe\"   \"Europe\"   \"Europe\"   \"Europe\"  \n",
              "  [25] \"Africa\"   \"Africa\"   \"Africa\"   \"Africa\"   \"Africa\"   \"Africa\"  \n",
              "  [31] \"Africa\"   \"Africa\"   \"Africa\"   \"Africa\"   \"Africa\"   \"Africa\"  \n",
              "  [37] \"Africa\"   \"Africa\"   \"Africa\"   \"Africa\"   \"Africa\"   \"Africa\"  \n",
              "  [43] \"Africa\"   \"Africa\"   \"Africa\"   \"Africa\"   \"Africa\"   \"Africa\"  \n",
              "  [49] \"Americas\" \"Americas\" \"Americas\" \"Americas\" \"Americas\" \"Americas\"\n",
              "  [55] \"Americas\" \"Americas\" \"Americas\" \"Americas\" \"Americas\" \"Americas\"\n",
              "  [61] \"Oceania\"  \"Oceania\"  \"Oceania\"  \"Oceania\"  \"Oceania\"  \"Oceania\" \n",
              "  [67] \"Oceania\"  \"Oceania\"  \"Oceania\"  \"Oceania\"  \"Oceania\"  \"Oceania\" \n",
              "  [73] \"Europe\"   \"Europe\"   \"Europe\"   \"Europe\"   \"Europe\"   \"Europe\"  \n",
              "  [79] \"Europe\"   \"Europe\"   \"Europe\"   \"Europe\"   \"Europe\"   \"Europe\"  \n",
              "  [85] \"Asia\"     \"Asia\"     \"Asia\"     \"Asia\"     \"Asia\"     \"Asia\"    \n",
              "  [91] \"Asia\"     \"Asia\"     \"Asia\"     \"Asia\"     \"Asia\"     \"Asia\"    \n",
              "  [97] \"Asia\"     \"Asia\"     \"Asia\"     \"Asia\"     \"Asia\"     \"Asia\"    \n",
              " [103] \"Asia\"     \"Asia\"     \"Asia\"     \"Asia\"     \"Asia\"     \"Asia\"    \n",
              " [109] \"Europe\"   \"Europe\"   \"Europe\"   \"Europe\"   \"Europe\"   \"Europe\"  \n",
              " [115] \"Europe\"   \"Europe\"   \"Europe\"   \"Europe\"   \"Europe\"   \"Europe\"  \n",
              " [121] \"Africa\"   \"Africa\"   \"Africa\"   \"Africa\"   \"Africa\"   \"Africa\"  \n",
              " [127] \"Africa\"   \"Africa\"   \"Africa\"   \"Africa\"   \"Africa\"   \"Africa\"  \n",
              " [133] \"Americas\" \"Americas\" \"Americas\" \"Americas\" \"Americas\" \"Americas\"\n",
              " [139] \"Americas\" \"Americas\" \"Americas\" \"Americas\" \"Americas\" \"Americas\"\n",
              " [145] \"Europe\"   \"Europe\"   \"Europe\"   \"Europe\"   \"Europe\"   \"Europe\"  \n",
              " [151] \"Europe\"   \"Europe\"   \"Europe\"   \"Europe\"   \"Europe\"   \"Europe\"  \n",
              " [157] \"Africa\"   \"Africa\"   \"Africa\"   \"Africa\"   \"Africa\"   \"Africa\"  \n",
              " [163] \"Africa\"   \"Africa\"   \"Africa\"   \"Africa\"   \"Africa\"   \"Africa\"  \n",
              " [169] \"Americas\" \"Americas\" \"Americas\" \"Americas\" \"Americas\" \"Americas\"\n",
              " [175] \"Americas\" \"Americas\" \"Americas\" \"Americas\" \"Americas\" \"Americas\"\n",
              " [181] \"Europe\"   \"Europe\"   \"Europe\"   \"Europe\"   \"Europe\"   \"Europe\"  \n",
              " [187] \"Europe\"   \"Europe\"   \"Europe\"   \"Europe\"   \"Europe\"   \"Europe\"  \n",
              " [193] \"Africa\"   \"Africa\"   \"Africa\"   \"Africa\"   \"Africa\"   \"Africa\"  \n",
              " [199] \"Africa\"   \"Africa\"   \"Africa\"   \"Africa\"   \"Africa\"   \"Africa\"  \n",
              " [205] \"Africa\"   \"Africa\"   \"Africa\"   \"Africa\"   \"Africa\"   \"Africa\"  \n",
              " [211] \"Africa\"   \"Africa\"   \"Africa\"   \"Africa\"   \"Africa\"   \"Africa\"  \n",
              " [217] \"Asia\"     \"Asia\"     \"Asia\"     \"Asia\"     \"Asia\"     \"Asia\"    \n",
              " [223] \"Asia\"     \"Asia\"     \"Asia\"     \"Asia\"     \"Asia\"     \"Asia\"    \n",
              " [229] \"Africa\"   \"Africa\"   \"Africa\"   \"Africa\"   \"Africa\"   \"Africa\"  \n",
              " [235] \"Africa\"   \"Africa\"   \"Africa\"   \"Africa\"   \"Africa\"   \"Africa\"  \n",
              " [241] \"Americas\" \"Americas\" \"Americas\" \"Americas\" \"Americas\" \"Americas\"\n",
              " [247] \"Americas\" \"Americas\" \"Americas\" \"Americas\" \"Americas\" \"Americas\"\n",
              " [253] \"Africa\"   \"Africa\"   \"Africa\"   \"Africa\"   \"Africa\"   \"Africa\"  \n",
              " [259] \"Africa\"   \"Africa\"   \"Africa\"   \"Africa\"   \"Africa\"   \"Africa\"  \n",
              " [265] \"Africa\"   \"Africa\"   \"Africa\"   \"Africa\"   \"Africa\"   \"Africa\"  \n",
              " [271] \"Africa\"   \"Africa\"   \"Africa\"   \"Africa\"   \"Africa\"   \"Africa\"  \n",
              " [277] \"Americas\" \"Americas\" \"Americas\" \"Americas\" \"Americas\" \"Americas\"\n",
              " [283] \"Americas\" \"Americas\" \"Americas\" \"Americas\" \"Americas\" \"Americas\"\n",
              " [289] \"Asia\"     \"Asia\"     \"Asia\"     \"Asia\"     \"Asia\"     \"Asia\"    \n",
              " [295] \"Asia\"     \"Asia\"     \"Asia\"     \"Asia\"     \"Asia\"     \"Asia\"    \n",
              " [301] \"Americas\" \"Americas\" \"Americas\" \"Americas\" \"Americas\" \"Americas\"\n",
              " [307] \"Americas\" \"Americas\" \"Americas\" \"Americas\" \"Americas\" \"Americas\"\n",
              " [313] \"Africa\"   \"Africa\"   \"Africa\"   \"Africa\"   \"Africa\"   \"Africa\"  \n",
              " [319] \"Africa\"   \"Africa\"   \"Africa\"   \"Africa\"   \"Africa\"   \"Africa\"  \n",
              " [325] \"Africa\"   \"Africa\"   \"Africa\"   \"Africa\"   \"Africa\"   \"Africa\"  \n",
              " [331] \"Africa\"   \"Africa\"   \"Africa\"   \"Africa\"   \"Africa\"   \"Africa\"  \n",
              " [337] \"Africa\"   \"Africa\"   \"Africa\"   \"Africa\"   \"Africa\"   \"Africa\"  \n",
              " [343] \"Africa\"   \"Africa\"   \"Africa\"   \"Africa\"   \"Africa\"   \"Africa\"  \n",
              " [349] \"Americas\" \"Americas\" \"Americas\" \"Americas\" \"Americas\" \"Americas\"\n",
              " [355] \"Americas\" \"Americas\" \"Americas\" \"Americas\" \"Americas\" \"Americas\"\n",
              " [361] \"Africa\"   \"Africa\"   \"Africa\"   \"Africa\"   \"Africa\"   \"Africa\"  \n",
              " [367] \"Africa\"   \"Africa\"   \"Africa\"   \"Africa\"   \"Africa\"   \"Africa\"  \n",
              " [373] \"Europe\"   \"Europe\"   \"Europe\"   \"Europe\"   \"Europe\"   \"Europe\"  \n",
              " [379] \"Europe\"   \"Europe\"   \"Europe\"   \"Europe\"   \"Europe\"   \"Europe\"  \n",
              " [385] \"Americas\" \"Americas\" \"Americas\" \"Americas\" \"Americas\" \"Americas\"\n",
              " [391] \"Americas\" \"Americas\" \"Americas\" \"Americas\" \"Americas\" \"Americas\"\n",
              " [397] \"Europe\"   \"Europe\"   \"Europe\"   \"Europe\"   \"Europe\"   \"Europe\"  \n",
              " [403] \"Europe\"   \"Europe\"   \"Europe\"   \"Europe\"   \"Europe\"   \"Europe\"  \n",
              " [409] \"Europe\"   \"Europe\"   \"Europe\"   \"Europe\"   \"Europe\"   \"Europe\"  \n",
              " [415] \"Europe\"   \"Europe\"   \"Europe\"   \"Europe\"   \"Europe\"   \"Europe\"  \n",
              " [421] \"Africa\"   \"Africa\"   \"Africa\"   \"Africa\"   \"Africa\"   \"Africa\"  \n",
              " [427] \"Africa\"   \"Africa\"   \"Africa\"   \"Africa\"   \"Africa\"   \"Africa\"  \n",
              " [433] \"Americas\" \"Americas\" \"Americas\" \"Americas\" \"Americas\" \"Americas\"\n",
              " [439] \"Americas\" \"Americas\" \"Americas\" \"Americas\" \"Americas\" \"Americas\"\n",
              " [445] \"Americas\" \"Americas\" \"Americas\" \"Americas\" \"Americas\" \"Americas\"\n",
              " [451] \"Americas\" \"Americas\" \"Americas\" \"Americas\" \"Americas\" \"Americas\"\n",
              " [457] \"Africa\"   \"Africa\"   \"Africa\"   \"Africa\"   \"Africa\"   \"Africa\"  \n",
              " [463] \"Africa\"   \"Africa\"   \"Africa\"   \"Africa\"   \"Africa\"   \"Africa\"  \n",
              " [469] \"Americas\" \"Americas\" \"Americas\" \"Americas\" \"Americas\" \"Americas\"\n",
              " [475] \"Americas\" \"Americas\" \"Americas\" \"Americas\" \"Americas\" \"Americas\"\n",
              " [481] \"Africa\"   \"Africa\"   \"Africa\"   \"Africa\"   \"Africa\"   \"Africa\"  \n",
              " [487] \"Africa\"   \"Africa\"   \"Africa\"   \"Africa\"   \"Africa\"   \"Africa\"  \n",
              " [493] \"Africa\"   \"Africa\"   \"Africa\"   \"Africa\"   \"Africa\"   \"Africa\"  \n",
              " [499] \"Africa\"   \"Africa\"   \"Africa\"   \"Africa\"   \"Africa\"   \"Africa\"  \n",
              " [505] \"Africa\"   \"Africa\"   \"Africa\"   \"Africa\"   \"Africa\"   \"Africa\"  \n",
              " [511] \"Africa\"   \"Africa\"   \"Africa\"   \"Africa\"   \"Africa\"   \"Africa\"  \n",
              " [517] \"Europe\"   \"Europe\"   \"Europe\"   \"Europe\"   \"Europe\"   \"Europe\"  \n",
              " [523] \"Europe\"   \"Europe\"   \"Europe\"   \"Europe\"   \"Europe\"   \"Europe\"  \n",
              " [529] \"Europe\"   \"Europe\"   \"Europe\"   \"Europe\"   \"Europe\"   \"Europe\"  \n",
              " [535] \"Europe\"   \"Europe\"   \"Europe\"   \"Europe\"   \"Europe\"   \"Europe\"  \n",
              " [541] \"Africa\"   \"Africa\"   \"Africa\"   \"Africa\"   \"Africa\"   \"Africa\"  \n",
              " [547] \"Africa\"   \"Africa\"   \"Africa\"   \"Africa\"   \"Africa\"   \"Africa\"  \n",
              " [553] \"Africa\"   \"Africa\"   \"Africa\"   \"Africa\"   \"Africa\"   \"Africa\"  \n",
              " [559] \"Africa\"   \"Africa\"   \"Africa\"   \"Africa\"   \"Africa\"   \"Africa\"  \n",
              " [565] \"Europe\"   \"Europe\"   \"Europe\"   \"Europe\"   \"Europe\"   \"Europe\"  \n",
              " [571] \"Europe\"   \"Europe\"   \"Europe\"   \"Europe\"   \"Europe\"   \"Europe\"  \n",
              " [577] \"Africa\"   \"Africa\"   \"Africa\"   \"Africa\"   \"Africa\"   \"Africa\"  \n",
              " [583] \"Africa\"   \"Africa\"   \"Africa\"   \"Africa\"   \"Africa\"   \"Africa\"  \n",
              " [589] \"Europe\"   \"Europe\"   \"Europe\"   \"Europe\"   \"Europe\"   \"Europe\"  \n",
              " [595] \"Europe\"   \"Europe\"   \"Europe\"   \"Europe\"   \"Europe\"   \"Europe\"  \n",
              " [601] \"Americas\" \"Americas\" \"Americas\" \"Americas\" \"Americas\" \"Americas\"\n",
              " [607] \"Americas\" \"Americas\" \"Americas\" \"Americas\" \"Americas\" \"Americas\"\n",
              " [613] \"Africa\"   \"Africa\"   \"Africa\"   \"Africa\"   \"Africa\"   \"Africa\"  \n",
              " [619] \"Africa\"   \"Africa\"   \"Africa\"   \"Africa\"   \"Africa\"   \"Africa\"  \n",
              " [625] \"Africa\"   \"Africa\"   \"Africa\"   \"Africa\"   \"Africa\"   \"Africa\"  \n",
              " [631] \"Africa\"   \"Africa\"   \"Africa\"   \"Africa\"   \"Africa\"   \"Africa\"  \n",
              " [637] \"Americas\" \"Americas\" \"Americas\" \"Americas\" \"Americas\" \"Americas\"\n",
              " [643] \"Americas\" \"Americas\" \"Americas\" \"Americas\" \"Americas\" \"Americas\"\n",
              " [649] \"Americas\" \"Americas\" \"Americas\" \"Americas\" \"Americas\" \"Americas\"\n",
              " [655] \"Americas\" \"Americas\" \"Americas\" \"Americas\" \"Americas\" \"Americas\"\n",
              " [661] \"Asia\"     \"Asia\"     \"Asia\"     \"Asia\"     \"Asia\"     \"Asia\"    \n",
              " [667] \"Asia\"     \"Asia\"     \"Asia\"     \"Asia\"     \"Asia\"     \"Asia\"    \n",
              " [673] \"Europe\"   \"Europe\"   \"Europe\"   \"Europe\"   \"Europe\"   \"Europe\"  \n",
              " [679] \"Europe\"   \"Europe\"   \"Europe\"   \"Europe\"   \"Europe\"   \"Europe\"  \n",
              " [685] \"Europe\"   \"Europe\"   \"Europe\"   \"Europe\"   \"Europe\"   \"Europe\"  \n",
              " [691] \"Europe\"   \"Europe\"   \"Europe\"   \"Europe\"   \"Europe\"   \"Europe\"  \n",
              " [697] \"Asia\"     \"Asia\"     \"Asia\"     \"Asia\"     \"Asia\"     \"Asia\"    \n",
              " [703] \"Asia\"     \"Asia\"     \"Asia\"     \"Asia\"     \"Asia\"     \"Asia\"    \n",
              " [709] \"Asia\"     \"Asia\"     \"Asia\"     \"Asia\"     \"Asia\"     \"Asia\"    \n",
              " [715] \"Asia\"     \"Asia\"     \"Asia\"     \"Asia\"     \"Asia\"     \"Asia\"    \n",
              " [721] \"Asia\"     \"Asia\"     \"Asia\"     \"Asia\"     \"Asia\"     \"Asia\"    \n",
              " [727] \"Asia\"     \"Asia\"     \"Asia\"     \"Asia\"     \"Asia\"     \"Asia\"    \n",
              " [733] \"Asia\"     \"Asia\"     \"Asia\"     \"Asia\"     \"Asia\"     \"Asia\"    \n",
              " [739] \"Asia\"     \"Asia\"     \"Asia\"     \"Asia\"     \"Asia\"     \"Asia\"    \n",
              " [745] \"Europe\"   \"Europe\"   \"Europe\"   \"Europe\"   \"Europe\"   \"Europe\"  \n",
              " [751] \"Europe\"   \"Europe\"   \"Europe\"   \"Europe\"   \"Europe\"   \"Europe\"  \n",
              " [757] \"Asia\"     \"Asia\"     \"Asia\"     \"Asia\"     \"Asia\"     \"Asia\"    \n",
              " [763] \"Asia\"     \"Asia\"     \"Asia\"     \"Asia\"     \"Asia\"     \"Asia\"    \n",
              " [769] \"Europe\"   \"Europe\"   \"Europe\"   \"Europe\"   \"Europe\"   \"Europe\"  \n",
              " [775] \"Europe\"   \"Europe\"   \"Europe\"   \"Europe\"   \"Europe\"   \"Europe\"  \n",
              " [781] \"Americas\" \"Americas\" \"Americas\" \"Americas\" \"Americas\" \"Americas\"\n",
              " [787] \"Americas\" \"Americas\" \"Americas\" \"Americas\" \"Americas\" \"Americas\"\n",
              " [793] \"Asia\"     \"Asia\"     \"Asia\"     \"Asia\"     \"Asia\"     \"Asia\"    \n",
              " [799] \"Asia\"     \"Asia\"     \"Asia\"     \"Asia\"     \"Asia\"     \"Asia\"    \n",
              " [805] \"Asia\"     \"Asia\"     \"Asia\"     \"Asia\"     \"Asia\"     \"Asia\"    \n",
              " [811] \"Asia\"     \"Asia\"     \"Asia\"     \"Asia\"     \"Asia\"     \"Asia\"    \n",
              " [817] \"Africa\"   \"Africa\"   \"Africa\"   \"Africa\"   \"Africa\"   \"Africa\"  \n",
              " [823] \"Africa\"   \"Africa\"   \"Africa\"   \"Africa\"   \"Africa\"   \"Africa\"  \n",
              " [829] \"Asia\"     \"Asia\"     \"Asia\"     \"Asia\"     \"Asia\"     \"Asia\"    \n",
              " [835] \"Asia\"     \"Asia\"     \"Asia\"     \"Asia\"     \"Asia\"     \"Asia\"    \n",
              " [841] \"Asia\"     \"Asia\"     \"Asia\"     \"Asia\"     \"Asia\"     \"Asia\"    \n",
              " [847] \"Asia\"     \"Asia\"     \"Asia\"     \"Asia\"     \"Asia\"     \"Asia\"    \n",
              " [853] \"Asia\"     \"Asia\"     \"Asia\"     \"Asia\"     \"Asia\"     \"Asia\"    \n",
              " [859] \"Asia\"     \"Asia\"     \"Asia\"     \"Asia\"     \"Asia\"     \"Asia\"    \n",
              " [865] \"Asia\"     \"Asia\"     \"Asia\"     \"Asia\"     \"Asia\"     \"Asia\"    \n",
              " [871] \"Asia\"     \"Asia\"     \"Asia\"     \"Asia\"     \"Asia\"     \"Asia\"    \n",
              " [877] \"Africa\"   \"Africa\"   \"Africa\"   \"Africa\"   \"Africa\"   \"Africa\"  \n",
              " [883] \"Africa\"   \"Africa\"   \"Africa\"   \"Africa\"   \"Africa\"   \"Africa\"  \n",
              " [889] \"Africa\"   \"Africa\"   \"Africa\"   \"Africa\"   \"Africa\"   \"Africa\"  \n",
              " [895] \"Africa\"   \"Africa\"   \"Africa\"   \"Africa\"   \"Africa\"   \"Africa\"  \n",
              " [901] \"Africa\"   \"Africa\"   \"Africa\"   \"Africa\"   \"Africa\"   \"Africa\"  \n",
              " [907] \"Africa\"   \"Africa\"   \"Africa\"   \"Africa\"   \"Africa\"   \"Africa\"  \n",
              " [913] \"Africa\"   \"Africa\"   \"Africa\"   \"Africa\"   \"Africa\"   \"Africa\"  \n",
              " [919] \"Africa\"   \"Africa\"   \"Africa\"   \"Africa\"   \"Africa\"   \"Africa\"  \n",
              " [925] \"Africa\"   \"Africa\"   \"Africa\"   \"Africa\"   \"Africa\"   \"Africa\"  \n",
              " [931] \"Africa\"   \"Africa\"   \"Africa\"   \"Africa\"   \"Africa\"   \"Africa\"  \n",
              " [937] \"Asia\"     \"Asia\"     \"Asia\"     \"Asia\"     \"Asia\"     \"Asia\"    \n",
              " [943] \"Asia\"     \"Asia\"     \"Asia\"     \"Asia\"     \"Asia\"     \"Asia\"    \n",
              " [949] \"Africa\"   \"Africa\"   \"Africa\"   \"Africa\"   \"Africa\"   \"Africa\"  \n",
              " [955] \"Africa\"   \"Africa\"   \"Africa\"   \"Africa\"   \"Africa\"   \"Africa\"  \n",
              " [961] \"Africa\"   \"Africa\"   \"Africa\"   \"Africa\"   \"Africa\"   \"Africa\"  \n",
              " [967] \"Africa\"   \"Africa\"   \"Africa\"   \"Africa\"   \"Africa\"   \"Africa\"  \n",
              " [973] \"Africa\"   \"Africa\"   \"Africa\"   \"Africa\"   \"Africa\"   \"Africa\"  \n",
              " [979] \"Africa\"   \"Africa\"   \"Africa\"   \"Africa\"   \"Africa\"   \"Africa\"  \n",
              " [985] \"Americas\" \"Americas\" \"Americas\" \"Americas\" \"Americas\" \"Americas\"\n",
              " [991] \"Americas\" \"Americas\" \"Americas\" \"Americas\" \"Americas\" \"Americas\"\n",
              " [997] \"Asia\"     \"Asia\"     \"Asia\"     \"Asia\"     \"Asia\"     \"Asia\"    \n",
              "[1003] \"Asia\"     \"Asia\"     \"Asia\"     \"Asia\"     \"Asia\"     \"Asia\"    \n",
              "[1009] \"Europe\"   \"Europe\"   \"Europe\"   \"Europe\"   \"Europe\"   \"Europe\"  \n",
              "[1015] \"Europe\"   \"Europe\"   \"Europe\"   \"Europe\"   \"Europe\"   \"Europe\"  \n",
              "[1021] \"Africa\"   \"Africa\"   \"Africa\"   \"Africa\"   \"Africa\"   \"Africa\"  \n",
              "[1027] \"Africa\"   \"Africa\"   \"Africa\"   \"Africa\"   \"Africa\"   \"Africa\"  \n",
              "[1033] \"Africa\"   \"Africa\"   \"Africa\"   \"Africa\"   \"Africa\"   \"Africa\"  \n",
              "[1039] \"Africa\"   \"Africa\"   \"Africa\"   \"Africa\"   \"Africa\"   \"Africa\"  \n",
              "[1045] \"Asia\"     \"Asia\"     \"Asia\"     \"Asia\"     \"Asia\"     \"Asia\"    \n",
              "[1051] \"Asia\"     \"Asia\"     \"Asia\"     \"Asia\"     \"Asia\"     \"Asia\"    \n",
              "[1057] \"Africa\"   \"Africa\"   \"Africa\"   \"Africa\"   \"Africa\"   \"Africa\"  \n",
              "[1063] \"Africa\"   \"Africa\"   \"Africa\"   \"Africa\"   \"Africa\"   \"Africa\"  \n",
              "[1069] \"Asia\"     \"Asia\"     \"Asia\"     \"Asia\"     \"Asia\"     \"Asia\"    \n",
              "[1075] \"Asia\"     \"Asia\"     \"Asia\"     \"Asia\"     \"Asia\"     \"Asia\"    \n",
              "[1081] \"Europe\"   \"Europe\"   \"Europe\"   \"Europe\"   \"Europe\"   \"Europe\"  \n",
              "[1087] \"Europe\"   \"Europe\"   \"Europe\"   \"Europe\"   \"Europe\"   \"Europe\"  \n",
              "[1093] \"Oceania\"  \"Oceania\"  \"Oceania\"  \"Oceania\"  \"Oceania\"  \"Oceania\" \n",
              "[1099] \"Oceania\"  \"Oceania\"  \"Oceania\"  \"Oceania\"  \"Oceania\"  \"Oceania\" \n",
              "[1105] \"Americas\" \"Americas\" \"Americas\" \"Americas\" \"Americas\" \"Americas\"\n",
              "[1111] \"Americas\" \"Americas\" \"Americas\" \"Americas\" \"Americas\" \"Americas\"\n",
              "[1117] \"Africa\"   \"Africa\"   \"Africa\"   \"Africa\"   \"Africa\"   \"Africa\"  \n",
              "[1123] \"Africa\"   \"Africa\"   \"Africa\"   \"Africa\"   \"Africa\"   \"Africa\"  \n",
              "[1129] \"Africa\"   \"Africa\"   \"Africa\"   \"Africa\"   \"Africa\"   \"Africa\"  \n",
              "[1135] \"Africa\"   \"Africa\"   \"Africa\"   \"Africa\"   \"Africa\"   \"Africa\"  \n",
              "[1141] \"Europe\"   \"Europe\"   \"Europe\"   \"Europe\"   \"Europe\"   \"Europe\"  \n",
              "[1147] \"Europe\"   \"Europe\"   \"Europe\"   \"Europe\"   \"Europe\"   \"Europe\"  \n",
              "[1153] \"Asia\"     \"Asia\"     \"Asia\"     \"Asia\"     \"Asia\"     \"Asia\"    \n",
              "[1159] \"Asia\"     \"Asia\"     \"Asia\"     \"Asia\"     \"Asia\"     \"Asia\"    \n",
              "[1165] \"Asia\"     \"Asia\"     \"Asia\"     \"Asia\"     \"Asia\"     \"Asia\"    \n",
              "[1171] \"Asia\"     \"Asia\"     \"Asia\"     \"Asia\"     \"Asia\"     \"Asia\"    \n",
              "[1177] \"Americas\" \"Americas\" \"Americas\" \"Americas\" \"Americas\" \"Americas\"\n",
              "[1183] \"Americas\" \"Americas\" \"Americas\" \"Americas\" \"Americas\" \"Americas\"\n",
              "[1189] \"Americas\" \"Americas\" \"Americas\" \"Americas\" \"Americas\" \"Americas\"\n",
              "[1195] \"Americas\" \"Americas\" \"Americas\" \"Americas\" \"Americas\" \"Americas\"\n",
              "[1201] \"Americas\" \"Americas\" \"Americas\" \"Americas\" \"Americas\" \"Americas\"\n",
              "[1207] \"Americas\" \"Americas\" \"Americas\" \"Americas\" \"Americas\" \"Americas\"\n",
              "[1213] \"Asia\"     \"Asia\"     \"Asia\"     \"Asia\"     \"Asia\"     \"Asia\"    \n",
              "[1219] \"Asia\"     \"Asia\"     \"Asia\"     \"Asia\"     \"Asia\"     \"Asia\"    \n",
              "[1225] \"Europe\"   \"Europe\"   \"Europe\"   \"Europe\"   \"Europe\"   \"Europe\"  \n",
              "[1231] \"Europe\"   \"Europe\"   \"Europe\"   \"Europe\"   \"Europe\"   \"Europe\"  \n",
              "[1237] \"Europe\"   \"Europe\"   \"Europe\"   \"Europe\"   \"Europe\"   \"Europe\"  \n",
              "[1243] \"Europe\"   \"Europe\"   \"Europe\"   \"Europe\"   \"Europe\"   \"Europe\"  \n",
              "[1249] \"Americas\" \"Americas\" \"Americas\" \"Americas\" \"Americas\" \"Americas\"\n",
              "[1255] \"Americas\" \"Americas\" \"Americas\" \"Americas\" \"Americas\" \"Americas\"\n",
              "[1261] \"Africa\"   \"Africa\"   \"Africa\"   \"Africa\"   \"Africa\"   \"Africa\"  \n",
              "[1267] \"Africa\"   \"Africa\"   \"Africa\"   \"Africa\"   \"Africa\"   \"Africa\"  \n",
              "[1273] \"Europe\"   \"Europe\"   \"Europe\"   \"Europe\"   \"Europe\"   \"Europe\"  \n",
              "[1279] \"Europe\"   \"Europe\"   \"Europe\"   \"Europe\"   \"Europe\"   \"Europe\"  \n",
              "[1285] \"Africa\"   \"Africa\"   \"Africa\"   \"Africa\"   \"Africa\"   \"Africa\"  \n",
              "[1291] \"Africa\"   \"Africa\"   \"Africa\"   \"Africa\"   \"Africa\"   \"Africa\"  \n",
              "[1297] \"Africa\"   \"Africa\"   \"Africa\"   \"Africa\"   \"Africa\"   \"Africa\"  \n",
              "[1303] \"Africa\"   \"Africa\"   \"Africa\"   \"Africa\"   \"Africa\"   \"Africa\"  \n",
              "[1309] \"Asia\"     \"Asia\"     \"Asia\"     \"Asia\"     \"Asia\"     \"Asia\"    \n",
              "[1315] \"Asia\"     \"Asia\"     \"Asia\"     \"Asia\"     \"Asia\"     \"Asia\"    \n",
              "[1321] \"Africa\"   \"Africa\"   \"Africa\"   \"Africa\"   \"Africa\"   \"Africa\"  \n",
              "[1327] \"Africa\"   \"Africa\"   \"Africa\"   \"Africa\"   \"Africa\"   \"Africa\"  \n",
              "[1333] \"Europe\"   \"Europe\"   \"Europe\"   \"Europe\"   \"Europe\"   \"Europe\"  \n",
              "[1339] \"Europe\"   \"Europe\"   \"Europe\"   \"Europe\"   \"Europe\"   \"Europe\"  \n",
              "[1345] \"Africa\"   \"Africa\"   \"Africa\"   \"Africa\"   \"Africa\"   \"Africa\"  \n",
              "[1351] \"Africa\"   \"Africa\"   \"Africa\"   \"Africa\"   \"Africa\"   \"Africa\"  \n",
              "[1357] \"Asia\"     \"Asia\"     \"Asia\"     \"Asia\"     \"Asia\"     \"Asia\"    \n",
              "[1363] \"Asia\"     \"Asia\"     \"Asia\"     \"Asia\"     \"Asia\"     \"Asia\"    \n",
              "[1369] \"Europe\"   \"Europe\"   \"Europe\"   \"Europe\"   \"Europe\"   \"Europe\"  \n",
              "[1375] \"Europe\"   \"Europe\"   \"Europe\"   \"Europe\"   \"Europe\"   \"Europe\"  \n",
              "[1381] \"Europe\"   \"Europe\"   \"Europe\"   \"Europe\"   \"Europe\"   \"Europe\"  \n",
              "[1387] \"Europe\"   \"Europe\"   \"Europe\"   \"Europe\"   \"Europe\"   \"Europe\"  \n",
              "[1393] \"Africa\"   \"Africa\"   \"Africa\"   \"Africa\"   \"Africa\"   \"Africa\"  \n",
              "[1399] \"Africa\"   \"Africa\"   \"Africa\"   \"Africa\"   \"Africa\"   \"Africa\"  \n",
              "[1405] \"Africa\"   \"Africa\"   \"Africa\"   \"Africa\"   \"Africa\"   \"Africa\"  \n",
              "[1411] \"Africa\"   \"Africa\"   \"Africa\"   \"Africa\"   \"Africa\"   \"Africa\"  \n",
              "[1417] \"Europe\"   \"Europe\"   \"Europe\"   \"Europe\"   \"Europe\"   \"Europe\"  \n",
              "[1423] \"Europe\"   \"Europe\"   \"Europe\"   \"Europe\"   \"Europe\"   \"Europe\"  \n",
              "[1429] \"Asia\"     \"Asia\"     \"Asia\"     \"Asia\"     \"Asia\"     \"Asia\"    \n",
              "[1435] \"Asia\"     \"Asia\"     \"Asia\"     \"Asia\"     \"Asia\"     \"Asia\"    \n",
              "[1441] \"Africa\"   \"Africa\"   \"Africa\"   \"Africa\"   \"Africa\"   \"Africa\"  \n",
              "[1447] \"Africa\"   \"Africa\"   \"Africa\"   \"Africa\"   \"Africa\"   \"Africa\"  \n",
              "[1453] \"Africa\"   \"Africa\"   \"Africa\"   \"Africa\"   \"Africa\"   \"Africa\"  \n",
              "[1459] \"Africa\"   \"Africa\"   \"Africa\"   \"Africa\"   \"Africa\"   \"Africa\"  \n",
              "[1465] \"Europe\"   \"Europe\"   \"Europe\"   \"Europe\"   \"Europe\"   \"Europe\"  \n",
              "[1471] \"Europe\"   \"Europe\"   \"Europe\"   \"Europe\"   \"Europe\"   \"Europe\"  \n",
              "[1477] \"Europe\"   \"Europe\"   \"Europe\"   \"Europe\"   \"Europe\"   \"Europe\"  \n",
              "[1483] \"Europe\"   \"Europe\"   \"Europe\"   \"Europe\"   \"Europe\"   \"Europe\"  \n",
              "[1489] \"Asia\"     \"Asia\"     \"Asia\"     \"Asia\"     \"Asia\"     \"Asia\"    \n",
              "[1495] \"Asia\"     \"Asia\"     \"Asia\"     \"Asia\"     \"Asia\"     \"Asia\"    \n",
              "[1501] \"Asia\"     \"Asia\"     \"Asia\"     \"Asia\"     \"Asia\"     \"Asia\"    \n",
              "[1507] \"Asia\"     \"Asia\"     \"Asia\"     \"Asia\"     \"Asia\"     \"Asia\"    \n",
              "[1513] \"Africa\"   \"Africa\"   \"Africa\"   \"Africa\"   \"Africa\"   \"Africa\"  \n",
              "[1519] \"Africa\"   \"Africa\"   \"Africa\"   \"Africa\"   \"Africa\"   \"Africa\"  \n",
              "[1525] \"Asia\"     \"Asia\"     \"Asia\"     \"Asia\"     \"Asia\"     \"Asia\"    \n",
              "[1531] \"Asia\"     \"Asia\"     \"Asia\"     \"Asia\"     \"Asia\"     \"Asia\"    \n",
              "[1537] \"Africa\"   \"Africa\"   \"Africa\"   \"Africa\"   \"Africa\"   \"Africa\"  \n",
              "[1543] \"Africa\"   \"Africa\"   \"Africa\"   \"Africa\"   \"Africa\"   \"Africa\"  \n",
              "[1549] \"Americas\" \"Americas\" \"Americas\" \"Americas\" \"Americas\" \"Americas\"\n",
              "[1555] \"Americas\" \"Americas\" \"Americas\" \"Americas\" \"Americas\" \"Americas\"\n",
              "[1561] \"Africa\"   \"Africa\"   \"Africa\"   \"Africa\"   \"Africa\"   \"Africa\"  \n",
              "[1567] \"Africa\"   \"Africa\"   \"Africa\"   \"Africa\"   \"Africa\"   \"Africa\"  \n",
              "[1573] \"Europe\"   \"Europe\"   \"Europe\"   \"Europe\"   \"Europe\"   \"Europe\"  \n",
              "[1579] \"Europe\"   \"Europe\"   \"Europe\"   \"Europe\"   \"Europe\"   \"Europe\"  \n",
              "[1585] \"Africa\"   \"Africa\"   \"Africa\"   \"Africa\"   \"Africa\"   \"Africa\"  \n",
              "[1591] \"Africa\"   \"Africa\"   \"Africa\"   \"Africa\"   \"Africa\"   \"Africa\"  \n",
              "[1597] \"Europe\"   \"Europe\"   \"Europe\"   \"Europe\"   \"Europe\"   \"Europe\"  \n",
              "[1603] \"Europe\"   \"Europe\"   \"Europe\"   \"Europe\"   \"Europe\"   \"Europe\"  \n",
              "[1609] \"Americas\" \"Americas\" \"Americas\" \"Americas\" \"Americas\" \"Americas\"\n",
              "[1615] \"Americas\" \"Americas\" \"Americas\" \"Americas\" \"Americas\" \"Americas\"\n",
              "[1621] \"Americas\" \"Americas\" \"Americas\" \"Americas\" \"Americas\" \"Americas\"\n",
              "[1627] \"Americas\" \"Americas\" \"Americas\" \"Americas\" \"Americas\" \"Americas\"\n",
              "[1633] \"Americas\" \"Americas\" \"Americas\" \"Americas\" \"Americas\" \"Americas\"\n",
              "[1639] \"Americas\" \"Americas\" \"Americas\" \"Americas\" \"Americas\" \"Americas\"\n",
              "[1645] \"Asia\"     \"Asia\"     \"Asia\"     \"Asia\"     \"Asia\"     \"Asia\"    \n",
              "[1651] \"Asia\"     \"Asia\"     \"Asia\"     \"Asia\"     \"Asia\"     \"Asia\"    \n",
              "[1657] \"Asia\"     \"Asia\"     \"Asia\"     \"Asia\"     \"Asia\"     \"Asia\"    \n",
              "[1663] \"Asia\"     \"Asia\"     \"Asia\"     \"Asia\"     \"Asia\"     \"Asia\"    \n",
              "[1669] \"Asia\"     \"Asia\"     \"Asia\"     \"Asia\"     \"Asia\"     \"Asia\"    \n",
              "[1675] \"Asia\"     \"Asia\"     \"Asia\"     \"Asia\"     \"Asia\"     \"Asia\"    \n",
              "[1681] \"Africa\"   \"Africa\"   \"Africa\"   \"Africa\"   \"Africa\"   \"Africa\"  \n",
              "[1687] \"Africa\"   \"Africa\"   \"Africa\"   \"Africa\"   \"Africa\"   \"Africa\"  \n",
              "[1693] \"Africa\"   \"Africa\"   \"Africa\"   \"Africa\"   \"Africa\"   \"Africa\"  \n",
              "[1699] \"Africa\"   \"Africa\"   \"Africa\"   \"Africa\"   \"Africa\"   \"Africa\"  "
            ]
          },
          "metadata": {}
        }
      ]
    },
    {
      "cell_type": "code",
      "source": [
        "summary(continent)"
      ],
      "metadata": {
        "colab": {
          "base_uri": "https://localhost:8080/",
          "height": 53
        },
        "id": "ZUEVfetnMTH6",
        "outputId": "40f82048-c0ba-4129-e68c-6b54b9fc172a"
      },
      "execution_count": null,
      "outputs": [
        {
          "output_type": "display_data",
          "data": {
            "text/plain": [
              "   Length     Class      Mode \n",
              "     1704 character character "
            ]
          },
          "metadata": {}
        }
      ]
    },
    {
      "cell_type": "markdown",
      "source": [
        "creando factores."
      ],
      "metadata": {
        "id": "HLZMTteoMwCc"
      }
    },
    {
      "cell_type": "code",
      "source": [
        "rend_estudiantes <- c(  rep(\"Bajo\", 5), rep(\"Medio\", 4), rep(\"Alto\", 7) )"
      ],
      "metadata": {
        "id": "Pz29jr0tM2ee"
      },
      "execution_count": null,
      "outputs": []
    },
    {
      "cell_type": "code",
      "source": [
        "class(rend_estudiantes)"
      ],
      "metadata": {
        "colab": {
          "base_uri": "https://localhost:8080/",
          "height": 34
        },
        "id": "XBTYtkd6NOQw",
        "outputId": "8a50c3b3-f5c6-477b-a99f-28dec44bcd46"
      },
      "execution_count": null,
      "outputs": [
        {
          "output_type": "display_data",
          "data": {
            "text/html": [
              "'character'"
            ],
            "text/markdown": "'character'",
            "text/latex": "'character'",
            "text/plain": [
              "[1] \"character\""
            ]
          },
          "metadata": {}
        }
      ]
    },
    {
      "cell_type": "code",
      "source": [
        "rend_estudiantes_f <- factor(rendimiento_estudiantes, levels=c( \"Bajo\" , \"Medio\",   \"Alto\")) # factor no ordenado"
      ],
      "metadata": {
        "id": "kyoIrDLCNQG_"
      },
      "execution_count": null,
      "outputs": []
    },
    {
      "cell_type": "code",
      "source": [
        "rend_estudiantes_f"
      ],
      "metadata": {
        "colab": {
          "base_uri": "https://localhost:8080/",
          "height": 53
        },
        "id": "zoUoFTVINnif",
        "outputId": "12b9438c-e46b-48a1-95ce-9acdb096335f"
      },
      "execution_count": null,
      "outputs": [
        {
          "output_type": "display_data",
          "data": {
            "text/html": [
              "<style>\n",
              ".list-inline {list-style: none; margin:0; padding: 0}\n",
              ".list-inline>li {display: inline-block}\n",
              ".list-inline>li:not(:last-child)::after {content: \"\\00b7\"; padding: 0 .5ex}\n",
              "</style>\n",
              "<ol class=list-inline><li>Bajo</li><li>Bajo</li><li>Bajo</li><li>Bajo</li><li>Bajo</li><li>Medio</li><li>Medio</li><li>Medio</li><li>Medio</li><li>Alto</li><li>Alto</li><li>Alto</li><li>Alto</li><li>Alto</li><li>Alto</li><li>Alto</li></ol>\n",
              "\n",
              "<details>\n",
              "\t<summary style=display:list-item;cursor:pointer>\n",
              "\t\t<strong>Levels</strong>:\n",
              "\t</summary>\n",
              "\t<style>\n",
              "\t.list-inline {list-style: none; margin:0; padding: 0}\n",
              "\t.list-inline>li {display: inline-block}\n",
              "\t.list-inline>li:not(:last-child)::after {content: \"\\00b7\"; padding: 0 .5ex}\n",
              "\t</style>\n",
              "\t<ol class=list-inline><li>'Bajo'</li><li>'Medio'</li><li>'Alto'</li></ol>\n",
              "</details>"
            ],
            "text/markdown": "1. Bajo\n2. Bajo\n3. Bajo\n4. Bajo\n5. Bajo\n6. Medio\n7. Medio\n8. Medio\n9. Medio\n10. Alto\n11. Alto\n12. Alto\n13. Alto\n14. Alto\n15. Alto\n16. Alto\n\n\n\n**Levels**: 1. 'Bajo'\n2. 'Medio'\n3. 'Alto'\n\n\n",
            "text/latex": "\\begin{enumerate*}\n\\item Bajo\n\\item Bajo\n\\item Bajo\n\\item Bajo\n\\item Bajo\n\\item Medio\n\\item Medio\n\\item Medio\n\\item Medio\n\\item Alto\n\\item Alto\n\\item Alto\n\\item Alto\n\\item Alto\n\\item Alto\n\\item Alto\n\\end{enumerate*}\n\n\\emph{Levels}: \\begin{enumerate*}\n\\item 'Bajo'\n\\item 'Medio'\n\\item 'Alto'\n\\end{enumerate*}\n",
            "text/plain": [
              " [1] Bajo  Bajo  Bajo  Bajo  Bajo  Medio Medio Medio Medio Alto  Alto  Alto \n",
              "[13] Alto  Alto  Alto  Alto \n",
              "Levels: Bajo Medio Alto"
            ]
          },
          "metadata": {}
        }
      ]
    },
    {
      "cell_type": "code",
      "source": [
        "rend_estudiantes_f[1]"
      ],
      "metadata": {
        "colab": {
          "base_uri": "https://localhost:8080/",
          "height": 53
        },
        "id": "HQps5EaUNptW",
        "outputId": "6bc850bb-52ac-42d5-8bfb-1d4951ff08aa"
      },
      "execution_count": null,
      "outputs": [
        {
          "output_type": "display_data",
          "data": {
            "text/html": [
              "Bajo\n",
              "<details>\n",
              "\t<summary style=display:list-item;cursor:pointer>\n",
              "\t\t<strong>Levels</strong>:\n",
              "\t</summary>\n",
              "\t<style>\n",
              "\t.list-inline {list-style: none; margin:0; padding: 0}\n",
              "\t.list-inline>li {display: inline-block}\n",
              "\t.list-inline>li:not(:last-child)::after {content: \"\\00b7\"; padding: 0 .5ex}\n",
              "\t</style>\n",
              "\t<ol class=list-inline><li>'Bajo'</li><li>'Medio'</li><li>'Alto'</li></ol>\n",
              "</details>"
            ],
            "text/markdown": "Bajo\n**Levels**: 1. 'Bajo'\n2. 'Medio'\n3. 'Alto'\n\n\n",
            "text/latex": "Bajo\n\\emph{Levels}: \\begin{enumerate*}\n\\item 'Bajo'\n\\item 'Medio'\n\\item 'Alto'\n\\end{enumerate*}\n",
            "text/plain": [
              "[1] Bajo\n",
              "Levels: Bajo Medio Alto"
            ]
          },
          "metadata": {}
        }
      ]
    },
    {
      "cell_type": "code",
      "source": [
        "rend_estudiantes_f[6]"
      ],
      "metadata": {
        "colab": {
          "base_uri": "https://localhost:8080/",
          "height": 53
        },
        "id": "nfcWbl0YNxtt",
        "outputId": "d0902c33-537f-433c-b17f-53bf6c77a860"
      },
      "execution_count": null,
      "outputs": [
        {
          "output_type": "display_data",
          "data": {
            "text/html": [
              "Medio\n",
              "<details>\n",
              "\t<summary style=display:list-item;cursor:pointer>\n",
              "\t\t<strong>Levels</strong>:\n",
              "\t</summary>\n",
              "\t<style>\n",
              "\t.list-inline {list-style: none; margin:0; padding: 0}\n",
              "\t.list-inline>li {display: inline-block}\n",
              "\t.list-inline>li:not(:last-child)::after {content: \"\\00b7\"; padding: 0 .5ex}\n",
              "\t</style>\n",
              "\t<ol class=list-inline><li>'Bajo'</li><li>'Medio'</li><li>'Alto'</li></ol>\n",
              "</details>"
            ],
            "text/markdown": "Medio\n**Levels**: 1. 'Bajo'\n2. 'Medio'\n3. 'Alto'\n\n\n",
            "text/latex": "Medio\n\\emph{Levels}: \\begin{enumerate*}\n\\item 'Bajo'\n\\item 'Medio'\n\\item 'Alto'\n\\end{enumerate*}\n",
            "text/plain": [
              "[1] Medio\n",
              "Levels: Bajo Medio Alto"
            ]
          },
          "metadata": {}
        }
      ]
    },
    {
      "cell_type": "code",
      "source": [
        "rend_estudiantes_f[1] < rend_estudiantes_f[6]"
      ],
      "metadata": {
        "colab": {
          "base_uri": "https://localhost:8080/",
          "height": 70
        },
        "id": "1hQE5LCaN4-j",
        "outputId": "e847b2ab-d604-49b3-abfc-50112555d15f"
      },
      "execution_count": null,
      "outputs": [
        {
          "output_type": "stream",
          "name": "stderr",
          "text": [
            "Warning message in Ops.factor(rend_estudiantes_f[1], rend_estudiantes_f[6]):\n",
            "“‘<’ not meaningful for factors”\n"
          ]
        },
        {
          "output_type": "display_data",
          "data": {
            "text/html": [
              "&lt;NA&gt;"
            ],
            "text/markdown": "&lt;NA&gt;",
            "text/latex": "<NA>",
            "text/plain": [
              "[1] NA"
            ]
          },
          "metadata": {}
        }
      ]
    },
    {
      "cell_type": "code",
      "source": [
        "rend_estudiantes_f_ord <- factor(rendimiento_estudiantes, levels=c(\"Bajo\", \"Medio\", \"Alto\"), ordered = TRUE) # factor no ordenado"
      ],
      "metadata": {
        "id": "yoomDln5OBpX"
      },
      "execution_count": null,
      "outputs": []
    },
    {
      "cell_type": "code",
      "source": [
        "rend_estudiantes_f_ord"
      ],
      "metadata": {
        "colab": {
          "base_uri": "https://localhost:8080/",
          "height": 53
        },
        "id": "P3TjJftJOL3m",
        "outputId": "568b32d7-fe56-46b1-b067-e82b7d26bd49"
      },
      "execution_count": null,
      "outputs": [
        {
          "output_type": "display_data",
          "data": {
            "text/html": [
              "<style>\n",
              ".list-inline {list-style: none; margin:0; padding: 0}\n",
              ".list-inline>li {display: inline-block}\n",
              ".list-inline>li:not(:last-child)::after {content: \"\\00b7\"; padding: 0 .5ex}\n",
              "</style>\n",
              "<ol class=list-inline><li>Bajo</li><li>Bajo</li><li>Bajo</li><li>Bajo</li><li>Bajo</li><li>Medio</li><li>Medio</li><li>Medio</li><li>Medio</li><li>Alto</li><li>Alto</li><li>Alto</li><li>Alto</li><li>Alto</li><li>Alto</li><li>Alto</li></ol>\n",
              "\n",
              "<details>\n",
              "\t<summary style=display:list-item;cursor:pointer>\n",
              "\t\t<strong>Levels</strong>:\n",
              "\t</summary>\n",
              "\t<style>\n",
              "\t.list-inline {list-style: none; margin:0; padding: 0}\n",
              "\t.list-inline>li {display: inline-block}\n",
              "\t.list-inline>li:not(:last-child)::after {content: \"\\00b7\"; padding: 0 .5ex}\n",
              "\t</style>\n",
              "\t<ol class=list-inline><li>'Bajo'</li><li>'Medio'</li><li>'Alto'</li></ol>\n",
              "</details>"
            ],
            "text/markdown": "1. Bajo\n2. Bajo\n3. Bajo\n4. Bajo\n5. Bajo\n6. Medio\n7. Medio\n8. Medio\n9. Medio\n10. Alto\n11. Alto\n12. Alto\n13. Alto\n14. Alto\n15. Alto\n16. Alto\n\n\n\n**Levels**: 1. 'Bajo'\n2. 'Medio'\n3. 'Alto'\n\n\n",
            "text/latex": "\\begin{enumerate*}\n\\item Bajo\n\\item Bajo\n\\item Bajo\n\\item Bajo\n\\item Bajo\n\\item Medio\n\\item Medio\n\\item Medio\n\\item Medio\n\\item Alto\n\\item Alto\n\\item Alto\n\\item Alto\n\\item Alto\n\\item Alto\n\\item Alto\n\\end{enumerate*}\n\n\\emph{Levels}: \\begin{enumerate*}\n\\item 'Bajo'\n\\item 'Medio'\n\\item 'Alto'\n\\end{enumerate*}\n",
            "text/plain": [
              " [1] Bajo  Bajo  Bajo  Bajo  Bajo  Medio Medio Medio Medio Alto  Alto  Alto \n",
              "[13] Alto  Alto  Alto  Alto \n",
              "Levels: Bajo < Medio < Alto"
            ]
          },
          "metadata": {}
        }
      ]
    },
    {
      "cell_type": "code",
      "source": [
        "rend_estudiantes_f_ord[1] < rend_estudiantes_f_ord[6]"
      ],
      "metadata": {
        "colab": {
          "base_uri": "https://localhost:8080/",
          "height": 34
        },
        "id": "ZG9s-1mnOcD_",
        "outputId": "98af4387-c452-4936-d1e6-4dcf4e020a23"
      },
      "execution_count": null,
      "outputs": [
        {
          "output_type": "display_data",
          "data": {
            "text/html": [
              "TRUE"
            ],
            "text/markdown": "TRUE",
            "text/latex": "TRUE",
            "text/plain": [
              "[1] TRUE"
            ]
          },
          "metadata": {}
        }
      ]
    },
    {
      "cell_type": "code",
      "source": [
        "plot(rend_estudiantes_f)"
      ],
      "metadata": {
        "colab": {
          "base_uri": "https://localhost:8080/",
          "height": 437
        },
        "id": "FFuNDtPDOg0V",
        "outputId": "6b71f808-1dbf-4f9b-883d-9755bf8c415f"
      },
      "execution_count": null,
      "outputs": [
        {
          "output_type": "display_data",
          "data": {
            "text/plain": [
              "plot without title"
            ],
            "image/png": "[encoded data removed]"
          },
          "metadata": {
            "image/png": {
              "width": 420,
              "height": 420
            }
          }
        }
      ]
    },
    {
      "cell_type": "code",
      "source": [
        "plot(rend_estudiantes_f_ord)"
      ],
      "metadata": {
        "colab": {
          "base_uri": "https://localhost:8080/",
          "height": 437
        },
        "id": "fjXxxSJdO4lm",
        "outputId": "3dbb7f5e-f204-4f2e-e4f6-be309e0999cf"
      },
      "execution_count": null,
      "outputs": [
        {
          "output_type": "display_data",
          "data": {
            "text/plain": [
              "plot without title"
            ],
            "image/png": "[encoded data removed]"
          },
          "metadata": {
            "image/png": {
              "width": 420,
              "height": 420
            }
          }
        }
      ]
    },
    {
      "cell_type": "code",
      "source": [
        "origen_estudiantes <- c(  rep(\"Occidente\", 2), rep(\"Centro\", 9), rep(\"Oriente\", 5) )"
      ],
      "metadata": {
        "id": "NC6tj_NwPK9e"
      },
      "execution_count": null,
      "outputs": []
    },
    {
      "cell_type": "code",
      "source": [
        "origen_estudiantes_f <- factor(origen_estudiantes, levels=c(\"Occidente\", \"Centro\", \"Oriente\"))"
      ],
      "metadata": {
        "id": "A6amRsD8Pj9q"
      },
      "execution_count": null,
      "outputs": []
    },
    {
      "cell_type": "code",
      "source": [
        "summary(origen_estudiantes_f)"
      ],
      "metadata": {
        "colab": {
          "base_uri": "https://localhost:8080/",
          "height": 34
        },
        "id": "ZUvS913nP-XK",
        "outputId": "074392b1-388f-41be-a7f2-e2fc49966b0b"
      },
      "execution_count": null,
      "outputs": [
        {
          "output_type": "display_data",
          "data": {
            "text/html": [
              "<style>\n",
              ".dl-inline {width: auto; margin:0; padding: 0}\n",
              ".dl-inline>dt, .dl-inline>dd {float: none; width: auto; display: inline-block}\n",
              ".dl-inline>dt::after {content: \":\\0020\"; padding-right: .5ex}\n",
              ".dl-inline>dt:not(:first-of-type) {padding-left: .5ex}\n",
              "</style><dl class=dl-inline><dt>Occidente</dt><dd>2</dd><dt>Centro</dt><dd>9</dd><dt>Oriente</dt><dd>5</dd></dl>\n"
            ],
            "text/markdown": "Occidente\n:   2Centro\n:   9Oriente\n:   5\n\n",
            "text/latex": "\\begin{description*}\n\\item[Occidente] 2\n\\item[Centro] 9\n\\item[Oriente] 5\n\\end{description*}\n",
            "text/plain": [
              "Occidente    Centro   Oriente \n",
              "        2         9         5 "
            ]
          },
          "metadata": {}
        }
      ]
    },
    {
      "cell_type": "code",
      "source": [
        "plot(rend_estudiantes_f, origen_estudiantes_f)"
      ],
      "metadata": {
        "colab": {
          "base_uri": "https://localhost:8080/",
          "height": 437
        },
        "id": "ZJSvlC9IQBdA",
        "outputId": "323ff98c-96b9-49e8-d1bf-26308fd52375"
      },
      "execution_count": null,
      "outputs": [
        {
          "output_type": "display_data",
          "data": {
            "text/plain": [
              "Plot with title “”"
            ],
            "image/png": "[encoded data removed]"
          },
          "metadata": {
            "image/png": {
              "width": 420,
              "height": 420
            }
          }
        }
      ]
    },
    {
      "cell_type": "code",
      "source": [
        "origen_estudiantes_f_ord <- factor(origen_estudiantes_f, levels=c(\"Oriente\", \"Occidente\",  \"Centro\"), ordered = TRUE)"
      ],
      "metadata": {
        "id": "-4H42Tp1SJUg"
      },
      "execution_count": null,
      "outputs": []
    },
    {
      "cell_type": "code",
      "source": [
        "plot(rend_estudiantes_f, origen_estudiantes_f_ord)"
      ],
      "metadata": {
        "colab": {
          "base_uri": "https://localhost:8080/",
          "height": 437
        },
        "id": "oAB-or1oS0-Z",
        "outputId": "9f33a8ce-b3a7-4628-87a2-37886ddff24b"
      },
      "execution_count": null,
      "outputs": [
        {
          "output_type": "display_data",
          "data": {
            "text/plain": [
              "Plot with title “”"
            ],
            "image/png": "[encoded data removed]"
          },
          "metadata": {
            "image/png": {
              "width": 420,
              "height": 420
            }
          }
        }
      ]
    },
    {
      "cell_type": "markdown",
      "source": [
        "Resumiendo factores. "
      ],
      "metadata": {
        "id": "nA7U8WEcVar4"
      }
    },
    {
      "cell_type": "code",
      "source": [
        "summary(rend_estudiantes_f)"
      ],
      "metadata": {
        "colab": {
          "base_uri": "https://localhost:8080/",
          "height": 34
        },
        "id": "Rj8cvlrbS8M4",
        "outputId": "7e33a1f2-b4c9-4a60-e3a2-5478b211d294"
      },
      "execution_count": null,
      "outputs": [
        {
          "output_type": "display_data",
          "data": {
            "text/html": [
              "<style>\n",
              ".dl-inline {width: auto; margin:0; padding: 0}\n",
              ".dl-inline>dt, .dl-inline>dd {float: none; width: auto; display: inline-block}\n",
              ".dl-inline>dt::after {content: \":\\0020\"; padding-right: .5ex}\n",
              ".dl-inline>dt:not(:first-of-type) {padding-left: .5ex}\n",
              "</style><dl class=dl-inline><dt>Bajo</dt><dd>5</dd><dt>Medio</dt><dd>4</dd><dt>Alto</dt><dd>7</dd></dl>\n"
            ],
            "text/markdown": "Bajo\n:   5Medio\n:   4Alto\n:   7\n\n",
            "text/latex": "\\begin{description*}\n\\item[Bajo] 5\n\\item[Medio] 4\n\\item[Alto] 7\n\\end{description*}\n",
            "text/plain": [
              " Bajo Medio  Alto \n",
              "    5     4     7 "
            ]
          },
          "metadata": {}
        }
      ]
    },
    {
      "cell_type": "code",
      "source": [
        "table(rend_estudiantes_f)"
      ],
      "metadata": {
        "colab": {
          "base_uri": "https://localhost:8080/",
          "height": 70
        },
        "id": "KyXQt7GyVs0H",
        "outputId": "9343f330-64cf-4268-a3b0-628b75830826"
      },
      "execution_count": null,
      "outputs": [
        {
          "output_type": "display_data",
          "data": {
            "text/plain": [
              "rend_estudiantes_f\n",
              " Bajo Medio  Alto \n",
              "    5     4     7 "
            ]
          },
          "metadata": {}
        }
      ]
    },
    {
      "cell_type": "code",
      "source": [
        "table(rend_estudiantes_f, origen_estudiantes_f_ord)"
      ],
      "metadata": {
        "colab": {
          "base_uri": "https://localhost:8080/",
          "height": 106
        },
        "id": "Sw4G44hyVu7l",
        "outputId": "43f29780-7be8-4c4d-f27d-ad84eee5610e"
      },
      "execution_count": null,
      "outputs": [
        {
          "output_type": "display_data",
          "data": {
            "text/plain": [
              "                  origen_estudiantes_f_ord\n",
              "rend_estudiantes_f Oriente Occidente Centro\n",
              "             Bajo        0         2      3\n",
              "             Medio       0         0      4\n",
              "             Alto        5         0      2"
            ]
          },
          "metadata": {}
        }
      ]
    },
    {
      "cell_type": "code",
      "source": [
        "fisher.test(table(rend_estudiantes_f, origen_estudiantes_f_ord))"
      ],
      "metadata": {
        "colab": {
          "base_uri": "https://localhost:8080/",
          "height": 124
        },
        "id": "quAn-xeyWesm",
        "outputId": "83121565-2f9f-4cda-f35a-48611e519c61"
      },
      "execution_count": null,
      "outputs": [
        {
          "output_type": "display_data",
          "data": {
            "text/plain": [
              "\n",
              "\tFisher's Exact Test for Count Data\n",
              "\n",
              "data:  table(rend_estudiantes_f, origen_estudiantes_f_ord)\n",
              "p-value = 0.0127\n",
              "alternative hypothesis: two.sided\n"
            ]
          },
          "metadata": {}
        }
      ]
    },
    {
      "cell_type": "markdown",
      "source": [
        "Resuminedo data frames con factores\n",
        "\n",
        "Antes vimos apply. "
      ],
      "metadata": {
        "id": "6pM7a2CoXhMB"
      }
    },
    {
      "cell_type": "code",
      "source": [
        "rownames(gapminder_2007) <- NULL"
      ],
      "metadata": {
        "id": "zMqttdzGXziR"
      },
      "execution_count": null,
      "outputs": []
    },
    {
      "cell_type": "code",
      "source": [
        "head(gapminder_2007)"
      ],
      "metadata": {
        "colab": {
          "base_uri": "https://localhost:8080/",
          "height": 286
        },
        "id": "v27Q-iNrXjcq",
        "outputId": "f57a4660-f99e-444e-afb9-d1079a182924"
      },
      "execution_count": null,
      "outputs": [
        {
          "output_type": "display_data",
          "data": {
            "text/html": [
              "<table class=\"dataframe\">\n",
              "<caption>A data.frame: 6 × 6</caption>\n",
              "<thead>\n",
              "\t<tr><th></th><th scope=col>country</th><th scope=col>continent</th><th scope=col>year</th><th scope=col>lifeExp</th><th scope=col>pop</th><th scope=col>gdpPercap</th></tr>\n",
              "\t<tr><th></th><th scope=col>&lt;fct&gt;</th><th scope=col>&lt;fct&gt;</th><th scope=col>&lt;int&gt;</th><th scope=col>&lt;dbl&gt;</th><th scope=col>&lt;int&gt;</th><th scope=col>&lt;dbl&gt;</th></tr>\n",
              "</thead>\n",
              "<tbody>\n",
              "\t<tr><th scope=row>1</th><td>Afghanistan</td><td>Asia    </td><td>2007</td><td>43.828</td><td>31889923</td><td>  974.5803</td></tr>\n",
              "\t<tr><th scope=row>2</th><td>Albania    </td><td>Europe  </td><td>2007</td><td>76.423</td><td> 3600523</td><td> 5937.0295</td></tr>\n",
              "\t<tr><th scope=row>3</th><td>Algeria    </td><td>Africa  </td><td>2007</td><td>72.301</td><td>33333216</td><td> 6223.3675</td></tr>\n",
              "\t<tr><th scope=row>4</th><td>Angola     </td><td>Africa  </td><td>2007</td><td>42.731</td><td>12420476</td><td> 4797.2313</td></tr>\n",
              "\t<tr><th scope=row>5</th><td>Argentina  </td><td>Americas</td><td>2007</td><td>75.320</td><td>40301927</td><td>12779.3796</td></tr>\n",
              "\t<tr><th scope=row>6</th><td>Australia  </td><td>Oceania </td><td>2007</td><td>81.235</td><td>20434176</td><td>34435.3674</td></tr>\n",
              "</tbody>\n",
              "</table>\n"
            ],
            "text/markdown": "\nA data.frame: 6 × 6\n\n| <!--/--> | country &lt;fct&gt; | continent &lt;fct&gt; | year &lt;int&gt; | lifeExp &lt;dbl&gt; | pop &lt;int&gt; | gdpPercap &lt;dbl&gt; |\n|---|---|---|---|---|---|---|\n| 1 | Afghanistan | Asia     | 2007 | 43.828 | 31889923 |   974.5803 |\n| 2 | Albania     | Europe   | 2007 | 76.423 |  3600523 |  5937.0295 |\n| 3 | Algeria     | Africa   | 2007 | 72.301 | 33333216 |  6223.3675 |\n| 4 | Angola      | Africa   | 2007 | 42.731 | 12420476 |  4797.2313 |\n| 5 | Argentina   | Americas | 2007 | 75.320 | 40301927 | 12779.3796 |\n| 6 | Australia   | Oceania  | 2007 | 81.235 | 20434176 | 34435.3674 |\n\n",
            "text/latex": "A data.frame: 6 × 6\n\\begin{tabular}{r|llllll}\n  & country & continent & year & lifeExp & pop & gdpPercap\\\\\n  & <fct> & <fct> & <int> & <dbl> & <int> & <dbl>\\\\\n\\hline\n\t1 & Afghanistan & Asia     & 2007 & 43.828 & 31889923 &   974.5803\\\\\n\t2 & Albania     & Europe   & 2007 & 76.423 &  3600523 &  5937.0295\\\\\n\t3 & Algeria     & Africa   & 2007 & 72.301 & 33333216 &  6223.3675\\\\\n\t4 & Angola      & Africa   & 2007 & 42.731 & 12420476 &  4797.2313\\\\\n\t5 & Argentina   & Americas & 2007 & 75.320 & 40301927 & 12779.3796\\\\\n\t6 & Australia   & Oceania  & 2007 & 81.235 & 20434176 & 34435.3674\\\\\n\\end{tabular}\n",
            "text/plain": [
              "  country     continent year lifeExp pop      gdpPercap \n",
              "1 Afghanistan Asia      2007 43.828  31889923   974.5803\n",
              "2 Albania     Europe    2007 76.423   3600523  5937.0295\n",
              "3 Algeria     Africa    2007 72.301  33333216  6223.3675\n",
              "4 Angola      Africa    2007 42.731  12420476  4797.2313\n",
              "5 Argentina   Americas  2007 75.320  40301927 12779.3796\n",
              "6 Australia   Oceania   2007 81.235  20434176 34435.3674"
            ]
          },
          "metadata": {}
        }
      ]
    },
    {
      "cell_type": "code",
      "source": [
        "apply(gapminder_2007, 2, max)"
      ],
      "metadata": {
        "colab": {
          "base_uri": "https://localhost:8080/",
          "height": 34
        },
        "id": "vo_CxHkWXptV",
        "outputId": "e8e81826-42f6-4dc1-aa6e-2b1e428c0d5f"
      },
      "execution_count": null,
      "outputs": [
        {
          "output_type": "display_data",
          "data": {
            "text/html": [
              "<style>\n",
              ".dl-inline {width: auto; margin:0; padding: 0}\n",
              ".dl-inline>dt, .dl-inline>dd {float: none; width: auto; display: inline-block}\n",
              ".dl-inline>dt::after {content: \":\\0020\"; padding-right: .5ex}\n",
              ".dl-inline>dt:not(:first-of-type) {padding-left: .5ex}\n",
              "</style><dl class=dl-inline><dt>country</dt><dd>'Zimbabwe'</dd><dt>continent</dt><dd>'Oceania'</dd><dt>year</dt><dd>'2007'</dd><dt>lifeExp</dt><dd>'82.603'</dd><dt>pop</dt><dd>'1318683096'</dd><dt>gdpPercap</dt><dd>'49357.1902'</dd></dl>\n"
            ],
            "text/markdown": "country\n:   'Zimbabwe'continent\n:   'Oceania'year\n:   '2007'lifeExp\n:   '82.603'pop\n:   '1318683096'gdpPercap\n:   '49357.1902'\n\n",
            "text/latex": "\\begin{description*}\n\\item[country] 'Zimbabwe'\n\\item[continent] 'Oceania'\n\\item[year] '2007'\n\\item[lifeExp] '82.603'\n\\item[pop] '1318683096'\n\\item[gdpPercap] '49357.1902'\n\\end{description*}\n",
            "text/plain": [
              "     country    continent         year      lifeExp          pop    gdpPercap \n",
              "  \"Zimbabwe\"    \"Oceania\"       \"2007\"     \"82.603\" \"1318683096\" \"49357.1902\" "
            ]
          },
          "metadata": {}
        }
      ]
    },
    {
      "cell_type": "markdown",
      "source": [
        "Quiero sacar los máximos valores de la expectativa de vida por continente. "
      ],
      "metadata": {
        "id": "9WxL-dSQYoQt"
      }
    },
    {
      "cell_type": "code",
      "source": [
        "tapply(gapminder_2007$lifeExp, gapminder_2007$continent, max)"
      ],
      "metadata": {
        "colab": {
          "base_uri": "https://localhost:8080/",
          "height": 34
        },
        "id": "rKcvxgomYwq_",
        "outputId": "cb874175-64a0-4866-cd78-5e8f3f2d28c1"
      },
      "execution_count": null,
      "outputs": [
        {
          "output_type": "display_data",
          "data": {
            "text/html": [
              "<style>\n",
              ".dl-inline {width: auto; margin:0; padding: 0}\n",
              ".dl-inline>dt, .dl-inline>dd {float: none; width: auto; display: inline-block}\n",
              ".dl-inline>dt::after {content: \":\\0020\"; padding-right: .5ex}\n",
              ".dl-inline>dt:not(:first-of-type) {padding-left: .5ex}\n",
              "</style><dl class=dl-inline><dt>Africa</dt><dd>76.442</dd><dt>Americas</dt><dd>80.653</dd><dt>Asia</dt><dd>82.603</dd><dt>Europe</dt><dd>81.757</dd><dt>Oceania</dt><dd>81.235</dd></dl>\n"
            ],
            "text/markdown": "Africa\n:   76.442Americas\n:   80.653Asia\n:   82.603Europe\n:   81.757Oceania\n:   81.235\n\n",
            "text/latex": "\\begin{description*}\n\\item[Africa] 76.442\n\\item[Americas] 80.653\n\\item[Asia] 82.603\n\\item[Europe] 81.757\n\\item[Oceania] 81.235\n\\end{description*}\n",
            "text/plain": [
              "  Africa Americas     Asia   Europe  Oceania \n",
              "  76.442   80.653   82.603   81.757   81.235 "
            ]
          },
          "metadata": {}
        }
      ]
    }
  ]
}