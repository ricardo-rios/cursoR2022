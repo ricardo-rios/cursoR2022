{
  "nbformat": 4,
  "nbformat_minor": 0,
  "metadata": {
    "colab": {
      "name": "clase9marzo.ipynb",
      "provenance": [],
      "collapsed_sections": []
    },
    "kernelspec": {
      "name": "ir",
      "display_name": "R"
    },
    "language_info": {
      "name": "R"
    }
  },
  "cells": [
    {
      "cell_type": "code",
      "execution_count": null,
      "metadata": {
        "id": "9CKKx-BhEzNX",
        "colab": {
          "base_uri": "https://localhost:8080/",
          "height": 34
        },
        "outputId": "2f270182-c202-4704-86a9-3331e830be65"
      },
      "outputs": [
        {
          "output_type": "display_data",
          "data": {
            "text/plain": [
              "[1] 2"
            ],
            "text/latex": "2",
            "text/markdown": "2",
            "text/html": [
              "2"
            ]
          },
          "metadata": {}
        }
      ],
      "source": [
        "#1 + 1 "
      ]
    },
    {
      "cell_type": "markdown",
      "source": [
        "# Ejemplo de markdown \n",
        "\n",
        "Esto es una prueba \n",
        "## Titulo 2\n",
        "\n",
        "Esto es una prueba \n",
        "\n",
        "## Titulo 3\n",
        "\n",
        "Esto es una prueba \n",
        "\n",
        "\n",
        "# Titulo 4\n",
        "\n",
        "[Enlace](https://google.com)\n",
        "\n",
        "$$ z^2 = x^2 + y^2  $$\n",
        "\n",
        "Esta es una ecuación $ \\alpha = \\beta + 1 $.\n",
        "\n",
        "\n",
        "| Altura | Peso |\n",
        "|--------|------|\n",
        "| 1.7    | 150  |\n"
      ],
      "metadata": {
        "id": "SLuO6KIEGub-"
      }
    },
    {
      "cell_type": "markdown",
      "source": [
        "# Operadores en R "
      ],
      "metadata": {
        "id": "fUnND873LPog"
      }
    },
    {
      "cell_type": "code",
      "source": [
        "2 + 2"
      ],
      "metadata": {
        "colab": {
          "base_uri": "https://localhost:8080/",
          "height": 34
        },
        "id": "B-PakVg0LShG",
        "outputId": "bbbbcf4a-6ab0-401c-9e93-22597dc6e6e5"
      },
      "execution_count": null,
      "outputs": [
        {
          "output_type": "display_data",
          "data": {
            "text/plain": [
              "[1] 4"
            ],
            "text/latex": "4",
            "text/markdown": "4",
            "text/html": [
              "4"
            ]
          },
          "metadata": {}
        }
      ]
    },
    {
      "cell_type": "code",
      "source": [
        "1 + 2 * 3 "
      ],
      "metadata": {
        "colab": {
          "base_uri": "https://localhost:8080/",
          "height": 34
        },
        "id": "7xYwZqQZLTyi",
        "outputId": "c30d90df-6f03-41f5-e35d-e4ee98663dc6"
      },
      "execution_count": null,
      "outputs": [
        {
          "output_type": "display_data",
          "data": {
            "text/plain": [
              "[1] 7"
            ],
            "text/latex": "7",
            "text/markdown": "7",
            "text/html": [
              "7"
            ]
          },
          "metadata": {}
        }
      ]
    },
    {
      "cell_type": "code",
      "source": [
        "(1 + 2) * 3 "
      ],
      "metadata": {
        "colab": {
          "base_uri": "https://localhost:8080/",
          "height": 34
        },
        "id": "tJ6O7I35LWM3",
        "outputId": "2fa7b02e-800e-4be1-c531-ff17badf26cf"
      },
      "execution_count": null,
      "outputs": [
        {
          "output_type": "display_data",
          "data": {
            "text/plain": [
              "[1] 9"
            ],
            "text/latex": "9",
            "text/markdown": "9",
            "text/html": [
              "9"
            ]
          },
          "metadata": {}
        }
      ]
    },
    {
      "cell_type": "code",
      "source": [
        "(2 * 2) == 4"
      ],
      "metadata": {
        "colab": {
          "base_uri": "https://localhost:8080/",
          "height": 34
        },
        "id": "9YrnGV_KLmuU",
        "outputId": "263f40b0-0117-4a80-a932-8728a63caeff"
      },
      "execution_count": null,
      "outputs": [
        {
          "output_type": "display_data",
          "data": {
            "text/plain": [
              "[1] TRUE"
            ],
            "text/latex": "TRUE",
            "text/markdown": "TRUE",
            "text/html": [
              "TRUE"
            ]
          },
          "metadata": {}
        }
      ]
    },
    {
      "cell_type": "code",
      "source": [
        "pi "
      ],
      "metadata": {
        "colab": {
          "base_uri": "https://localhost:8080/",
          "height": 34
        },
        "id": "nAO-47FpLzid",
        "outputId": "ebcc885d-ac9d-4929-9367-b5030a3f3402"
      },
      "execution_count": null,
      "outputs": [
        {
          "output_type": "display_data",
          "data": {
            "text/plain": [
              "[1] 3.141593"
            ],
            "text/latex": "3.14159265358979",
            "text/markdown": "3.14159265358979",
            "text/html": [
              "3.14159265358979"
            ]
          },
          "metadata": {}
        }
      ]
    },
    {
      "cell_type": "code",
      "source": [
        "pi >= 10"
      ],
      "metadata": {
        "colab": {
          "base_uri": "https://localhost:8080/",
          "height": 34
        },
        "id": "yRw6-AuLMLRs",
        "outputId": "8734043b-052a-4b70-dd21-5d2f19e02d31"
      },
      "execution_count": null,
      "outputs": [
        {
          "output_type": "display_data",
          "data": {
            "text/plain": [
              "[1] FALSE"
            ],
            "text/latex": "FALSE",
            "text/markdown": "FALSE",
            "text/html": [
              "FALSE"
            ]
          },
          "metadata": {}
        }
      ]
    },
    {
      "cell_type": "code",
      "source": [
        "pi < 1"
      ],
      "metadata": {
        "colab": {
          "base_uri": "https://localhost:8080/",
          "height": 34
        },
        "id": "rc8fzYsIMNXT",
        "outputId": "e4b3d176-07a6-4547-e029-b80b69bd35a5"
      },
      "execution_count": null,
      "outputs": [
        {
          "output_type": "display_data",
          "data": {
            "text/plain": [
              "[1] FALSE"
            ],
            "text/latex": "FALSE",
            "text/markdown": "FALSE",
            "text/html": [
              "FALSE"
            ]
          },
          "metadata": {}
        }
      ]
    },
    {
      "cell_type": "markdown",
      "source": [
        "# Variables\n",
        "\n",
        "Digamos que una persona pesa 55 kilogramos y queremos almacenar esta información en una variable, esto lo podes hacer de la siguiente manera. "
      ],
      "metadata": {
        "id": "Q65sTJAuMY3M"
      }
    },
    {
      "cell_type": "code",
      "source": [
        "weight_kg1 = 55"
      ],
      "metadata": {
        "id": "bY48aiNKMbiG"
      },
      "execution_count": null,
      "outputs": []
    },
    {
      "cell_type": "code",
      "source": [
        "weight_kg2 <- 55"
      ],
      "metadata": {
        "id": "Cyf-23ohMwOG"
      },
      "execution_count": null,
      "outputs": []
    },
    {
      "cell_type": "code",
      "source": [
        "weight_kg1 == weight_kg2"
      ],
      "metadata": {
        "colab": {
          "base_uri": "https://localhost:8080/",
          "height": 34
        },
        "id": "g926ujvMNFoW",
        "outputId": "16a3ad39-c468-4b81-c5c2-daabc4e3d092"
      },
      "execution_count": null,
      "outputs": [
        {
          "output_type": "display_data",
          "data": {
            "text/plain": [
              "[1] TRUE"
            ],
            "text/latex": "TRUE",
            "text/markdown": "TRUE",
            "text/html": [
              "TRUE"
            ]
          },
          "metadata": {}
        }
      ]
    },
    {
      "cell_type": "markdown",
      "source": [
        "De aqui en adelante vamos a usar el operador de asignación <- en lugar del =. La elección de esto es por conveniencia, sin embargo, en un ambiente profesional se le podria dar mas prioridad al =. "
      ],
      "metadata": {
        "id": "K3P7noaLPcft"
      }
    },
    {
      "cell_type": "code",
      "source": [
        "hola mundo <- 10 # no es un nombre valido de variable."
      ],
      "metadata": {
        "colab": {
          "base_uri": "https://localhost:8080/",
          "height": 134
        },
        "id": "0dLhwVhYNIMH",
        "outputId": "76c71f5a-ded5-461e-cd05-fe8bcb04be08"
      },
      "execution_count": null,
      "outputs": [
        {
          "output_type": "error",
          "ename": "ERROR",
          "evalue": "ignored",
          "traceback": [
            "Error in parse(text = x, srcfile = src): <text>:1:6: unexpected symbol\n1: hola mundo\n         ^\nTraceback:\n"
          ]
        }
      ]
    },
    {
      "cell_type": "code",
      "source": [
        "canción <- \"el himno de la alegria\""
      ],
      "metadata": {
        "id": "fIE9ZlbKPbcu"
      },
      "execution_count": null,
      "outputs": []
    },
    {
      "cell_type": "code",
      "source": [
        "canción"
      ],
      "metadata": {
        "colab": {
          "base_uri": "https://localhost:8080/",
          "height": 34
        },
        "id": "JKcDLcoiP4Nc",
        "outputId": "f9386130-5843-4f7b-e504-4121a3ac1692"
      },
      "execution_count": null,
      "outputs": [
        {
          "output_type": "display_data",
          "data": {
            "text/plain": [
              "[1] \"el himno de la alegria\""
            ],
            "text/latex": "'el himno de la alegria'",
            "text/markdown": "'el himno de la alegria'",
            "text/html": [
              "'el himno de la alegria'"
            ]
          },
          "metadata": {}
        }
      ]
    },
    {
      "cell_type": "markdown",
      "source": [
        "Poner acentos en las variables es una mala práctica, no lo hagan puede crear confusión con personas que no hablen español. "
      ],
      "metadata": {
        "id": "-j2geMluP7YB"
      }
    },
    {
      "cell_type": "code",
      "source": [
        "2.2 * weight_kg1 # haciendo aritmetica con variables"
      ],
      "metadata": {
        "colab": {
          "base_uri": "https://localhost:8080/",
          "height": 34
        },
        "id": "k3MZwcTMP6I0",
        "outputId": "0f5ae1b7-7b3f-4e50-c1d7-9c3f5c306dd0"
      },
      "execution_count": null,
      "outputs": [
        {
          "output_type": "display_data",
          "data": {
            "text/plain": [
              "[1] 121"
            ],
            "text/latex": "121",
            "text/markdown": "121",
            "text/html": [
              "121"
            ]
          },
          "metadata": {}
        }
      ]
    },
    {
      "cell_type": "code",
      "source": [
        "weight_kg1 <- 57.5 # reasignando valores \n",
        "weight_kg1"
      ],
      "metadata": {
        "colab": {
          "base_uri": "https://localhost:8080/",
          "height": 34
        },
        "id": "5xJqSNgBQiZE",
        "outputId": "3e8b82e2-1e13-4268-cd51-61e51ef36d16"
      },
      "execution_count": null,
      "outputs": [
        {
          "output_type": "display_data",
          "data": {
            "text/plain": [
              "[1] 57.5"
            ],
            "text/latex": "57.5",
            "text/markdown": "57.5",
            "text/html": [
              "57.5"
            ]
          },
          "metadata": {}
        }
      ]
    },
    {
      "cell_type": "code",
      "source": [
        "weight_kg1 <- 2.2 * weight_kg1\n",
        "weight_kg1 "
      ],
      "metadata": {
        "colab": {
          "base_uri": "https://localhost:8080/",
          "height": 34
        },
        "id": "sdLcjxtEQvz_",
        "outputId": "66ee1b62-b1a2-4423-a020-2a84ae2fb8c6"
      },
      "execution_count": null,
      "outputs": [
        {
          "output_type": "display_data",
          "data": {
            "text/plain": [
              "[1] 126.5"
            ],
            "text/latex": "126.5",
            "text/markdown": "126.5",
            "text/html": [
              "126.5"
            ]
          },
          "metadata": {}
        }
      ]
    },
    {
      "cell_type": "code",
      "source": [
        "weight_lb1 <- 2.2 * weight_kg1\n",
        "weight_lb1\n",
        "weight_kg1"
      ],
      "metadata": {
        "colab": {
          "base_uri": "https://localhost:8080/",
          "height": 52
        },
        "id": "cI_76BGOQ2TG",
        "outputId": "b712f5c9-c23a-46fb-89a3-d5aa76d8b15b"
      },
      "execution_count": null,
      "outputs": [
        {
          "output_type": "display_data",
          "data": {
            "text/plain": [
              "[1] 278.3"
            ],
            "text/latex": "278.3",
            "text/markdown": "278.3",
            "text/html": [
              "278.3"
            ]
          },
          "metadata": {}
        },
        {
          "output_type": "display_data",
          "data": {
            "text/plain": [
              "[1] 126.5"
            ],
            "text/latex": "126.5",
            "text/markdown": "126.5",
            "text/html": [
              "126.5"
            ]
          },
          "metadata": {}
        }
      ]
    },
    {
      "cell_type": "code",
      "source": [
        "weight_kg1 <- 100.0 \n",
        "weight_kg1"
      ],
      "metadata": {
        "colab": {
          "base_uri": "https://localhost:8080/",
          "height": 34
        },
        "id": "5mNCtoSPRUb8",
        "outputId": "0908268d-8b70-4150-9915-a90485bcadb6"
      },
      "execution_count": null,
      "outputs": [
        {
          "output_type": "display_data",
          "data": {
            "text/plain": [
              "[1] 100"
            ],
            "text/latex": "100",
            "text/markdown": "100",
            "text/html": [
              "100"
            ]
          },
          "metadata": {}
        }
      ]
    },
    {
      "cell_type": "code",
      "source": [
        "weight_lb1"
      ],
      "metadata": {
        "colab": {
          "base_uri": "https://localhost:8080/",
          "height": 34
        },
        "id": "lmUGXHGzRkte",
        "outputId": "14d99a4b-fcf6-4a66-c24a-3b1d92434786"
      },
      "execution_count": null,
      "outputs": [
        {
          "output_type": "display_data",
          "data": {
            "text/plain": [
              "[1] 278.3"
            ],
            "text/latex": "278.3",
            "text/markdown": "278.3",
            "text/html": [
              "278.3"
            ]
          },
          "metadata": {}
        }
      ]
    },
    {
      "cell_type": "markdown",
      "source": [
        "# Vectores\n",
        "\n",
        "Un vector de numeros es una colección de numeros. Los miembros individuales se les llama elementos. "
      ],
      "metadata": {
        "id": "O0iAhbR-SBgF"
      }
    },
    {
      "cell_type": "code",
      "source": [
        "myvec <- c(10, 20, 30, 40, 50) # creamos un vector numerico de 5 elementos."
      ],
      "metadata": {
        "id": "RYiCfvDvSEt8"
      },
      "execution_count": null,
      "outputs": []
    },
    {
      "cell_type": "code",
      "source": [
        "myvec"
      ],
      "metadata": {
        "colab": {
          "base_uri": "https://localhost:8080/",
          "height": 34
        },
        "id": "kwhIjLT5Sde2",
        "outputId": "a23a1b5d-cc7b-4e43-d798-b40fadc3bc2a"
      },
      "execution_count": null,
      "outputs": [
        {
          "output_type": "display_data",
          "data": {
            "text/plain": [
              "[1] 10 20 30 40 50"
            ],
            "text/latex": "\\begin{enumerate*}\n\\item 10\n\\item 20\n\\item 30\n\\item 40\n\\item 50\n\\end{enumerate*}\n",
            "text/markdown": "1. 10\n2. 20\n3. 30\n4. 40\n5. 50\n\n\n",
            "text/html": [
              "<style>\n",
              ".list-inline {list-style: none; margin:0; padding: 0}\n",
              ".list-inline>li {display: inline-block}\n",
              ".list-inline>li:not(:last-child)::after {content: \"\\00b7\"; padding: 0 .5ex}\n",
              "</style>\n",
              "<ol class=list-inline><li>10</li><li>20</li><li>30</li><li>40</li><li>50</li></ol>\n"
            ]
          },
          "metadata": {}
        }
      ]
    },
    {
      "cell_type": "code",
      "source": [
        "str(myvec)"
      ],
      "metadata": {
        "colab": {
          "base_uri": "https://localhost:8080/"
        },
        "id": "Y0e_sctmSf_t",
        "outputId": "52a50383-52f9-4f0e-d003-285ea7b9dbb3"
      },
      "execution_count": null,
      "outputs": [
        {
          "output_type": "stream",
          "name": "stdout",
          "text": [
            " num [1:5] 10 20 30 40 50\n"
          ]
        }
      ]
    },
    {
      "cell_type": "code",
      "source": [
        "myvec + 1 "
      ],
      "metadata": {
        "colab": {
          "base_uri": "https://localhost:8080/",
          "height": 34
        },
        "id": "i-mtcB6rSirL",
        "outputId": "aeedff09-af2c-44ea-f0ff-d7e9522e0397"
      },
      "execution_count": null,
      "outputs": [
        {
          "output_type": "display_data",
          "data": {
            "text/plain": [
              "[1] 11 21 31 41 51"
            ],
            "text/latex": "\\begin{enumerate*}\n\\item 11\n\\item 21\n\\item 31\n\\item 41\n\\item 51\n\\end{enumerate*}\n",
            "text/markdown": "1. 11\n2. 21\n3. 31\n4. 41\n5. 51\n\n\n",
            "text/html": [
              "<style>\n",
              ".list-inline {list-style: none; margin:0; padding: 0}\n",
              ".list-inline>li {display: inline-block}\n",
              ".list-inline>li:not(:last-child)::after {content: \"\\00b7\"; padding: 0 .5ex}\n",
              "</style>\n",
              "<ol class=list-inline><li>11</li><li>21</li><li>31</li><li>41</li><li>51</li></ol>\n"
            ]
          },
          "metadata": {}
        }
      ]
    },
    {
      "cell_type": "code",
      "source": [
        "myvec + myvec "
      ],
      "metadata": {
        "colab": {
          "base_uri": "https://localhost:8080/",
          "height": 34
        },
        "id": "yzP61xUCSpcp",
        "outputId": "f3e20c90-cd6d-4af1-f179-488647c82daa"
      },
      "execution_count": null,
      "outputs": [
        {
          "output_type": "display_data",
          "data": {
            "text/plain": [
              "[1]  20  40  60  80 100"
            ],
            "text/latex": "\\begin{enumerate*}\n\\item 20\n\\item 40\n\\item 60\n\\item 80\n\\item 100\n\\end{enumerate*}\n",
            "text/markdown": "1. 20\n2. 40\n3. 60\n4. 80\n5. 100\n\n\n",
            "text/html": [
              "<style>\n",
              ".list-inline {list-style: none; margin:0; padding: 0}\n",
              ".list-inline>li {display: inline-block}\n",
              ".list-inline>li:not(:last-child)::after {content: \"\\00b7\"; padding: 0 .5ex}\n",
              "</style>\n",
              "<ol class=list-inline><li>20</li><li>40</li><li>60</li><li>80</li><li>100</li></ol>\n"
            ]
          },
          "metadata": {}
        }
      ]
    },
    {
      "cell_type": "code",
      "source": [
        "length(myvec)"
      ],
      "metadata": {
        "colab": {
          "base_uri": "https://localhost:8080/",
          "height": 34
        },
        "id": "98z279KZStMA",
        "outputId": "2d732a8a-29ee-49ee-f0bf-e85ca8a5b0ab"
      },
      "execution_count": null,
      "outputs": [
        {
          "output_type": "display_data",
          "data": {
            "text/plain": [
              "[1] 5"
            ],
            "text/latex": "5",
            "text/markdown": "5",
            "text/html": [
              "5"
            ]
          },
          "metadata": {}
        }
      ]
    },
    {
      "cell_type": "code",
      "source": [
        "c(60, myvec)"
      ],
      "metadata": {
        "colab": {
          "base_uri": "https://localhost:8080/",
          "height": 34
        },
        "id": "7hkO4fFsSv8g",
        "outputId": "3cf8c939-8364-4238-ec72-a6b43477ec0b"
      },
      "execution_count": null,
      "outputs": [
        {
          "output_type": "display_data",
          "data": {
            "text/plain": [
              "[1] 60 10 20 30 40 50"
            ],
            "text/latex": "\\begin{enumerate*}\n\\item 60\n\\item 10\n\\item 20\n\\item 30\n\\item 40\n\\item 50\n\\end{enumerate*}\n",
            "text/markdown": "1. 60\n2. 10\n3. 20\n4. 30\n5. 40\n6. 50\n\n\n",
            "text/html": [
              "<style>\n",
              ".list-inline {list-style: none; margin:0; padding: 0}\n",
              ".list-inline>li {display: inline-block}\n",
              ".list-inline>li:not(:last-child)::after {content: \"\\00b7\"; padding: 0 .5ex}\n",
              "</style>\n",
              "<ol class=list-inline><li>60</li><li>10</li><li>20</li><li>30</li><li>40</li><li>50</li></ol>\n"
            ]
          },
          "metadata": {}
        }
      ]
    },
    {
      "cell_type": "code",
      "source": [
        "myvec2 <- c(60, myvec)"
      ],
      "metadata": {
        "id": "EDAmVTM4S9Yt"
      },
      "execution_count": null,
      "outputs": []
    },
    {
      "cell_type": "code",
      "source": [
        "myvec2"
      ],
      "metadata": {
        "id": "rNhapTmkTDNx",
        "outputId": "b7259878-a523-4681-8cba-fc00802c6d22",
        "colab": {
          "base_uri": "https://localhost:8080/",
          "height": 34
        }
      },
      "execution_count": null,
      "outputs": [
        {
          "output_type": "display_data",
          "data": {
            "text/plain": [
              "[1] 60 10 20 30 40 50"
            ],
            "text/latex": "\\begin{enumerate*}\n\\item 60\n\\item 10\n\\item 20\n\\item 30\n\\item 40\n\\item 50\n\\end{enumerate*}\n",
            "text/markdown": "1. 60\n2. 10\n3. 20\n4. 30\n5. 40\n6. 50\n\n\n",
            "text/html": [
              "<style>\n",
              ".list-inline {list-style: none; margin:0; padding: 0}\n",
              ".list-inline>li {display: inline-block}\n",
              ".list-inline>li:not(:last-child)::after {content: \"\\00b7\"; padding: 0 .5ex}\n",
              "</style>\n",
              "<ol class=list-inline><li>60</li><li>10</li><li>20</li><li>30</li><li>40</li><li>50</li></ol>\n"
            ]
          },
          "metadata": {}
        }
      ]
    },
    {
      "cell_type": "code",
      "source": [
        "c(myvec, myvec)"
      ],
      "metadata": {
        "id": "IlOQ7y_ETEUa",
        "outputId": "6be2719b-ab20-4f38-9f36-18d8097783ed",
        "colab": {
          "base_uri": "https://localhost:8080/",
          "height": 34
        }
      },
      "execution_count": null,
      "outputs": [
        {
          "output_type": "display_data",
          "data": {
            "text/plain": [
              " [1] 10 20 30 40 50 10 20 30 40 50"
            ],
            "text/latex": "\\begin{enumerate*}\n\\item 10\n\\item 20\n\\item 30\n\\item 40\n\\item 50\n\\item 10\n\\item 20\n\\item 30\n\\item 40\n\\item 50\n\\end{enumerate*}\n",
            "text/markdown": "1. 10\n2. 20\n3. 30\n4. 40\n5. 50\n6. 10\n7. 20\n8. 30\n9. 40\n10. 50\n\n\n",
            "text/html": [
              "<style>\n",
              ".list-inline {list-style: none; margin:0; padding: 0}\n",
              ".list-inline>li {display: inline-block}\n",
              ".list-inline>li:not(:last-child)::after {content: \"\\00b7\"; padding: 0 .5ex}\n",
              "</style>\n",
              "<ol class=list-inline><li>10</li><li>20</li><li>30</li><li>40</li><li>50</li><li>10</li><li>20</li><li>30</li><li>40</li><li>50</li></ol>\n"
            ]
          },
          "metadata": {}
        }
      ]
    },
    {
      "cell_type": "markdown",
      "source": [
        "Crear un vector con las notas que obtuviste el anterior ciclo y asignarlo a la variable notas."
      ],
      "metadata": {
        "id": "-x8h0fCaJOLP"
      }
    },
    {
      "cell_type": "code",
      "source": [
        "notas <- c(10, 7, 8, 9)\n",
        "notas"
      ],
      "metadata": {
        "id": "txazbV89TIYI",
        "colab": {
          "base_uri": "https://localhost:8080/",
          "height": 34
        },
        "outputId": "dcd9cfba-9bfc-489d-c940-9be926046268"
      },
      "execution_count": null,
      "outputs": [
        {
          "output_type": "display_data",
          "data": {
            "text/plain": [
              "[1] 10  7  8  9"
            ],
            "text/latex": "\\begin{enumerate*}\n\\item 10\n\\item 7\n\\item 8\n\\item 9\n\\end{enumerate*}\n",
            "text/markdown": "1. 10\n2. 7\n3. 8\n4. 9\n\n\n",
            "text/html": [
              "<style>\n",
              ".list-inline {list-style: none; margin:0; padding: 0}\n",
              ".list-inline>li {display: inline-block}\n",
              ".list-inline>li:not(:last-child)::after {content: \"\\00b7\"; padding: 0 .5ex}\n",
              "</style>\n",
              "<ol class=list-inline><li>10</li><li>7</li><li>8</li><li>9</li></ol>\n"
            ]
          },
          "metadata": {}
        }
      ]
    },
    {
      "cell_type": "markdown",
      "source": [
        "## Tipos de vectores "
      ],
      "metadata": {
        "id": "mW8FB-t-J_lM"
      }
    },
    {
      "cell_type": "code",
      "source": [
        "vector_cadenas = c(\"hola\", \"mundo\") # vector de cadenas"
      ],
      "metadata": {
        "id": "JSZzU9piKCj1"
      },
      "execution_count": null,
      "outputs": []
    },
    {
      "cell_type": "code",
      "source": [
        "vector_cadenas"
      ],
      "metadata": {
        "colab": {
          "base_uri": "https://localhost:8080/",
          "height": 34
        },
        "id": "FpNyUfxgKIbt",
        "outputId": "1498d46f-bf2f-4596-fe87-2e40344d3409"
      },
      "execution_count": null,
      "outputs": [
        {
          "output_type": "display_data",
          "data": {
            "text/plain": [
              "[1] \"hola\"  \"mundo\""
            ],
            "text/latex": "\\begin{enumerate*}\n\\item 'hola'\n\\item 'mundo'\n\\end{enumerate*}\n",
            "text/markdown": "1. 'hola'\n2. 'mundo'\n\n\n",
            "text/html": [
              "<style>\n",
              ".list-inline {list-style: none; margin:0; padding: 0}\n",
              ".list-inline>li {display: inline-block}\n",
              ".list-inline>li:not(:last-child)::after {content: \"\\00b7\"; padding: 0 .5ex}\n",
              "</style>\n",
              "<ol class=list-inline><li>'hola'</li><li>'mundo'</li></ol>\n"
            ]
          },
          "metadata": {}
        }
      ]
    },
    {
      "cell_type": "code",
      "source": [
        "vector_logicos = c(TRUE, FALSE, TRUE, TRUE) # vector de valores logicos\n",
        "vector_logicos"
      ],
      "metadata": {
        "colab": {
          "base_uri": "https://localhost:8080/",
          "height": 34
        },
        "id": "XaB1pDy-KJZc",
        "outputId": "bf0d884e-1b83-409d-90da-2fb2dd6665cd"
      },
      "execution_count": null,
      "outputs": [
        {
          "output_type": "display_data",
          "data": {
            "text/plain": [
              "[1]  TRUE FALSE  TRUE  TRUE"
            ],
            "text/latex": "\\begin{enumerate*}\n\\item TRUE\n\\item FALSE\n\\item TRUE\n\\item TRUE\n\\end{enumerate*}\n",
            "text/markdown": "1. TRUE\n2. FALSE\n3. TRUE\n4. TRUE\n\n\n",
            "text/html": [
              "<style>\n",
              ".list-inline {list-style: none; margin:0; padding: 0}\n",
              ".list-inline>li {display: inline-block}\n",
              ".list-inline>li:not(:last-child)::after {content: \"\\00b7\"; padding: 0 .5ex}\n",
              "</style>\n",
              "<ol class=list-inline><li>TRUE</li><li>FALSE</li><li>TRUE</li><li>TRUE</li></ol>\n"
            ]
          },
          "metadata": {}
        }
      ]
    },
    {
      "cell_type": "markdown",
      "source": [
        "¿Que pasa si creo un vector que tenga a su vez valores númericos y valores tipo cadena (string)? "
      ],
      "metadata": {
        "id": "vr71uU8NKlZN"
      }
    },
    {
      "cell_type": "code",
      "source": [
        "vector_logico_y_cadena = c(10, \"Hola\", 9, \"mundo\")"
      ],
      "metadata": {
        "id": "yOH7wsMGKU_X"
      },
      "execution_count": null,
      "outputs": []
    },
    {
      "cell_type": "code",
      "source": [
        "vector_logico_y_cadena"
      ],
      "metadata": {
        "colab": {
          "base_uri": "https://localhost:8080/",
          "height": 34
        },
        "id": "Y4RsxXl9LM-X",
        "outputId": "3eacb819-939f-491d-8e3c-3ce686e4eaab"
      },
      "execution_count": null,
      "outputs": [
        {
          "output_type": "display_data",
          "data": {
            "text/plain": [
              "[1] \"10\"    \"Hola\"  \"9\"     \"mundo\""
            ],
            "text/latex": "\\begin{enumerate*}\n\\item '10'\n\\item 'Hola'\n\\item '9'\n\\item 'mundo'\n\\end{enumerate*}\n",
            "text/markdown": "1. '10'\n2. 'Hola'\n3. '9'\n4. 'mundo'\n\n\n",
            "text/html": [
              "<style>\n",
              ".list-inline {list-style: none; margin:0; padding: 0}\n",
              ".list-inline>li {display: inline-block}\n",
              ".list-inline>li:not(:last-child)::after {content: \"\\00b7\"; padding: 0 .5ex}\n",
              "</style>\n",
              "<ol class=list-inline><li>'10'</li><li>'Hola'</li><li>'9'</li><li>'mundo'</li></ol>\n"
            ]
          },
          "metadata": {}
        }
      ]
    },
    {
      "cell_type": "code",
      "source": [
        "vector_enteros_y_flotantes = c(10, 10.9, pi)\n",
        "vector_enteros_y_flotantes"
      ],
      "metadata": {
        "colab": {
          "base_uri": "https://localhost:8080/",
          "height": 34
        },
        "id": "GZiqNZZtLOZ2",
        "outputId": "088b83c3-57cb-4100-fc0d-3aeee059afc8"
      },
      "execution_count": null,
      "outputs": [
        {
          "output_type": "display_data",
          "data": {
            "text/plain": [
              "[1] 10.000000 10.900000  3.141593"
            ],
            "text/latex": "\\begin{enumerate*}\n\\item 10\n\\item 10.9\n\\item 3.14159265358979\n\\end{enumerate*}\n",
            "text/markdown": "1. 10\n2. 10.9\n3. 3.14159265358979\n\n\n",
            "text/html": [
              "<style>\n",
              ".list-inline {list-style: none; margin:0; padding: 0}\n",
              ".list-inline>li {display: inline-block}\n",
              ".list-inline>li:not(:last-child)::after {content: \"\\00b7\"; padding: 0 .5ex}\n",
              "</style>\n",
              "<ol class=list-inline><li>10</li><li>10.9</li><li>3.14159265358979</li></ol>\n"
            ]
          },
          "metadata": {}
        }
      ]
    },
    {
      "cell_type": "markdown",
      "source": [
        "## Indexamiento de vectores"
      ],
      "metadata": {
        "id": "YNmLkF_4Lr_c"
      }
    },
    {
      "cell_type": "code",
      "source": [
        "myvec"
      ],
      "metadata": {
        "colab": {
          "base_uri": "https://localhost:8080/",
          "height": 34
        },
        "id": "ijKNW7_eLt_Y",
        "outputId": "c7816b39-8770-48cc-acf6-469c73965da1"
      },
      "execution_count": null,
      "outputs": [
        {
          "output_type": "display_data",
          "data": {
            "text/plain": [
              "[1] 10 20 30 40 50"
            ],
            "text/latex": "\\begin{enumerate*}\n\\item 10\n\\item 20\n\\item 30\n\\item 40\n\\item 50\n\\end{enumerate*}\n",
            "text/markdown": "1. 10\n2. 20\n3. 30\n4. 40\n5. 50\n\n\n",
            "text/html": [
              "<style>\n",
              ".list-inline {list-style: none; margin:0; padding: 0}\n",
              ".list-inline>li {display: inline-block}\n",
              ".list-inline>li:not(:last-child)::after {content: \"\\00b7\"; padding: 0 .5ex}\n",
              "</style>\n",
              "<ol class=list-inline><li>10</li><li>20</li><li>30</li><li>40</li><li>50</li></ol>\n"
            ]
          },
          "metadata": {}
        }
      ]
    },
    {
      "cell_type": "code",
      "source": [
        "myvec[1] # accesando al primer elemento "
      ],
      "metadata": {
        "colab": {
          "base_uri": "https://localhost:8080/",
          "height": 34
        },
        "id": "zkxBDRw3LxjY",
        "outputId": "d25418b2-30b1-4654-a8cb-54e919de2e73"
      },
      "execution_count": null,
      "outputs": [
        {
          "output_type": "display_data",
          "data": {
            "text/plain": [
              "[1] 10"
            ],
            "text/latex": "10",
            "text/markdown": "10",
            "text/html": [
              "10"
            ]
          },
          "metadata": {}
        }
      ]
    },
    {
      "cell_type": "code",
      "source": [
        "myvec[2]"
      ],
      "metadata": {
        "colab": {
          "base_uri": "https://localhost:8080/",
          "height": 34
        },
        "id": "oGeDhzLvL1aO",
        "outputId": "bd46f0c7-9283-43f7-9f1b-10040fc9d725"
      },
      "execution_count": null,
      "outputs": [
        {
          "output_type": "display_data",
          "data": {
            "text/plain": [
              "[1] 20"
            ],
            "text/latex": "20",
            "text/markdown": "20",
            "text/html": [
              "20"
            ]
          },
          "metadata": {}
        }
      ]
    },
    {
      "cell_type": "code",
      "source": [
        "myvec[2] <- 5"
      ],
      "metadata": {
        "id": "HUz0RreuL7LM"
      },
      "execution_count": null,
      "outputs": []
    },
    {
      "cell_type": "code",
      "source": [
        "myvec"
      ],
      "metadata": {
        "colab": {
          "base_uri": "https://localhost:8080/",
          "height": 34
        },
        "id": "rX5cb9GpMAXU",
        "outputId": "49808d01-c7fd-4548-ff23-823f5c599915"
      },
      "execution_count": null,
      "outputs": [
        {
          "output_type": "display_data",
          "data": {
            "text/plain": [
              "[1] 10  5 30 40 50"
            ],
            "text/latex": "\\begin{enumerate*}\n\\item 10\n\\item 5\n\\item 30\n\\item 40\n\\item 50\n\\end{enumerate*}\n",
            "text/markdown": "1. 10\n2. 5\n3. 30\n4. 40\n5. 50\n\n\n",
            "text/html": [
              "<style>\n",
              ".list-inline {list-style: none; margin:0; padding: 0}\n",
              ".list-inline>li {display: inline-block}\n",
              ".list-inline>li:not(:last-child)::after {content: \"\\00b7\"; padding: 0 .5ex}\n",
              "</style>\n",
              "<ol class=list-inline><li>10</li><li>5</li><li>30</li><li>40</li><li>50</li></ol>\n"
            ]
          },
          "metadata": {}
        }
      ]
    },
    {
      "cell_type": "markdown",
      "source": [
        "¿Podemos usar un vector para indexar un vector? "
      ],
      "metadata": {
        "id": "rNcsTfDCMFhR"
      }
    },
    {
      "cell_type": "code",
      "source": [
        "myvec[c(4, 3, 2)]"
      ],
      "metadata": {
        "colab": {
          "base_uri": "https://localhost:8080/",
          "height": 34
        },
        "id": "Fle6xUnvMBAJ",
        "outputId": "75627c8f-b209-4df4-c188-c8f0733b411a"
      },
      "execution_count": null,
      "outputs": [
        {
          "output_type": "display_data",
          "data": {
            "text/plain": [
              "[1] 40 30  5"
            ],
            "text/latex": "\\begin{enumerate*}\n\\item 40\n\\item 30\n\\item 5\n\\end{enumerate*}\n",
            "text/markdown": "1. 40\n2. 30\n3. 5\n\n\n",
            "text/html": [
              "<style>\n",
              ".list-inline {list-style: none; margin:0; padding: 0}\n",
              ".list-inline>li {display: inline-block}\n",
              ".list-inline>li:not(:last-child)::after {content: \"\\00b7\"; padding: 0 .5ex}\n",
              "</style>\n",
              "<ol class=list-inline><li>40</li><li>30</li><li>5</li></ol>\n"
            ]
          },
          "metadata": {}
        }
      ]
    },
    {
      "cell_type": "code",
      "source": [
        "myind <- c(4, 3, 4)\n",
        "myvec[myind]"
      ],
      "metadata": {
        "colab": {
          "base_uri": "https://localhost:8080/",
          "height": 34
        },
        "id": "p3yCBZ3zMbiH",
        "outputId": "6f9393e4-a417-4a2c-c029-4fea6ea48fa0"
      },
      "execution_count": null,
      "outputs": [
        {
          "output_type": "display_data",
          "data": {
            "text/plain": [
              "[1] 40 30 40"
            ],
            "text/latex": "\\begin{enumerate*}\n\\item 40\n\\item 30\n\\item 40\n\\end{enumerate*}\n",
            "text/markdown": "1. 40\n2. 30\n3. 40\n\n\n",
            "text/html": [
              "<style>\n",
              ".list-inline {list-style: none; margin:0; padding: 0}\n",
              ".list-inline>li {display: inline-block}\n",
              ".list-inline>li:not(:last-child)::after {content: \"\\00b7\"; padding: 0 .5ex}\n",
              "</style>\n",
              "<ol class=list-inline><li>40</li><li>30</li><li>40</li></ol>\n"
            ]
          },
          "metadata": {}
        }
      ]
    },
    {
      "cell_type": "code",
      "source": [
        "1:10"
      ],
      "metadata": {
        "colab": {
          "base_uri": "https://localhost:8080/",
          "height": 34
        },
        "id": "5zDOwJV9Mq6g",
        "outputId": "c1a02b22-ce18-412a-be07-5eb3913bb604"
      },
      "execution_count": null,
      "outputs": [
        {
          "output_type": "display_data",
          "data": {
            "text/plain": [
              " [1]  1  2  3  4  5  6  7  8  9 10"
            ],
            "text/latex": "\\begin{enumerate*}\n\\item 1\n\\item 2\n\\item 3\n\\item 4\n\\item 5\n\\item 6\n\\item 7\n\\item 8\n\\item 9\n\\item 10\n\\end{enumerate*}\n",
            "text/markdown": "1. 1\n2. 2\n3. 3\n4. 4\n5. 5\n6. 6\n7. 7\n8. 8\n9. 9\n10. 10\n\n\n",
            "text/html": [
              "<style>\n",
              ".list-inline {list-style: none; margin:0; padding: 0}\n",
              ".list-inline>li {display: inline-block}\n",
              ".list-inline>li:not(:last-child)::after {content: \"\\00b7\"; padding: 0 .5ex}\n",
              "</style>\n",
              "<ol class=list-inline><li>1</li><li>2</li><li>3</li><li>4</li><li>5</li><li>6</li><li>7</li><li>8</li><li>9</li><li>10</li></ol>\n"
            ]
          },
          "metadata": {}
        }
      ]
    },
    {
      "cell_type": "code",
      "source": [
        "myvec[2:4]"
      ],
      "metadata": {
        "colab": {
          "base_uri": "https://localhost:8080/",
          "height": 34
        },
        "id": "SOwi7dpXMzwl",
        "outputId": "268e1d42-92e4-443f-af8e-72b551fe446f"
      },
      "execution_count": null,
      "outputs": [
        {
          "output_type": "display_data",
          "data": {
            "text/plain": [
              "[1]  5 30 40"
            ],
            "text/latex": "\\begin{enumerate*}\n\\item 5\n\\item 30\n\\item 40\n\\end{enumerate*}\n",
            "text/markdown": "1. 5\n2. 30\n3. 40\n\n\n",
            "text/html": [
              "<style>\n",
              ".list-inline {list-style: none; margin:0; padding: 0}\n",
              ".list-inline>li {display: inline-block}\n",
              ".list-inline>li:not(:last-child)::after {content: \"\\00b7\"; padding: 0 .5ex}\n",
              "</style>\n",
              "<ol class=list-inline><li>5</li><li>30</li><li>40</li></ol>\n"
            ]
          },
          "metadata": {}
        }
      ]
    },
    {
      "cell_type": "code",
      "source": [
        "myvec[4:2]"
      ],
      "metadata": {
        "colab": {
          "base_uri": "https://localhost:8080/",
          "height": 34
        },
        "id": "PO7vEa8zM9Gx",
        "outputId": "e5a6e0fc-b548-4e4a-c259-bad48551d552"
      },
      "execution_count": null,
      "outputs": [
        {
          "output_type": "display_data",
          "data": {
            "text/plain": [
              "[1] 40 30  5"
            ],
            "text/latex": "\\begin{enumerate*}\n\\item 40\n\\item 30\n\\item 5\n\\end{enumerate*}\n",
            "text/markdown": "1. 40\n2. 30\n3. 5\n\n\n",
            "text/html": [
              "<style>\n",
              ".list-inline {list-style: none; margin:0; padding: 0}\n",
              ".list-inline>li {display: inline-block}\n",
              ".list-inline>li:not(:last-child)::after {content: \"\\00b7\"; padding: 0 .5ex}\n",
              "</style>\n",
              "<ol class=list-inline><li>40</li><li>30</li><li>5</li></ol>\n"
            ]
          },
          "metadata": {}
        }
      ]
    },
    {
      "cell_type": "code",
      "source": [
        "10:5"
      ],
      "metadata": {
        "colab": {
          "base_uri": "https://localhost:8080/",
          "height": 34
        },
        "id": "h3IRU7uUNDbG",
        "outputId": "86808c42-c766-4a54-92d3-c6be6739fdb4"
      },
      "execution_count": null,
      "outputs": [
        {
          "output_type": "display_data",
          "data": {
            "text/plain": [
              "[1] 10  9  8  7  6  5"
            ],
            "text/latex": "\\begin{enumerate*}\n\\item 10\n\\item 9\n\\item 8\n\\item 7\n\\item 6\n\\item 5\n\\end{enumerate*}\n",
            "text/markdown": "1. 10\n2. 9\n3. 8\n4. 7\n5. 6\n6. 5\n\n\n",
            "text/html": [
              "<style>\n",
              ".list-inline {list-style: none; margin:0; padding: 0}\n",
              ".list-inline>li {display: inline-block}\n",
              ".list-inline>li:not(:last-child)::after {content: \"\\00b7\"; padding: 0 .5ex}\n",
              "</style>\n",
              "<ol class=list-inline><li>10</li><li>9</li><li>8</li><li>7</li><li>6</li><li>5</li></ol>\n"
            ]
          },
          "metadata": {}
        }
      ]
    },
    {
      "cell_type": "code",
      "source": [
        "1:50"
      ],
      "metadata": {
        "colab": {
          "base_uri": "https://localhost:8080/",
          "height": 52
        },
        "id": "L767VXIcNHpO",
        "outputId": "ee791d1b-810f-4d9b-dcb0-1f17d34bf287"
      },
      "execution_count": null,
      "outputs": [
        {
          "output_type": "display_data",
          "data": {
            "text/plain": [
              " [1]  1  2  3  4  5  6  7  8  9 10 11 12 13 14 15 16 17 18 19 20 21 22 23 24 25\n",
              "[26] 26 27 28 29 30 31 32 33 34 35 36 37 38 39 40 41 42 43 44 45 46 47 48 49 50"
            ],
            "text/latex": "\\begin{enumerate*}\n\\item 1\n\\item 2\n\\item 3\n\\item 4\n\\item 5\n\\item 6\n\\item 7\n\\item 8\n\\item 9\n\\item 10\n\\item 11\n\\item 12\n\\item 13\n\\item 14\n\\item 15\n\\item 16\n\\item 17\n\\item 18\n\\item 19\n\\item 20\n\\item 21\n\\item 22\n\\item 23\n\\item 24\n\\item 25\n\\item 26\n\\item 27\n\\item 28\n\\item 29\n\\item 30\n\\item 31\n\\item 32\n\\item 33\n\\item 34\n\\item 35\n\\item 36\n\\item 37\n\\item 38\n\\item 39\n\\item 40\n\\item 41\n\\item 42\n\\item 43\n\\item 44\n\\item 45\n\\item 46\n\\item 47\n\\item 48\n\\item 49\n\\item 50\n\\end{enumerate*}\n",
            "text/markdown": "1. 1\n2. 2\n3. 3\n4. 4\n5. 5\n6. 6\n7. 7\n8. 8\n9. 9\n10. 10\n11. 11\n12. 12\n13. 13\n14. 14\n15. 15\n16. 16\n17. 17\n18. 18\n19. 19\n20. 20\n21. 21\n22. 22\n23. 23\n24. 24\n25. 25\n26. 26\n27. 27\n28. 28\n29. 29\n30. 30\n31. 31\n32. 32\n33. 33\n34. 34\n35. 35\n36. 36\n37. 37\n38. 38\n39. 39\n40. 40\n41. 41\n42. 42\n43. 43\n44. 44\n45. 45\n46. 46\n47. 47\n48. 48\n49. 49\n50. 50\n\n\n",
            "text/html": [
              "<style>\n",
              ".list-inline {list-style: none; margin:0; padding: 0}\n",
              ".list-inline>li {display: inline-block}\n",
              ".list-inline>li:not(:last-child)::after {content: \"\\00b7\"; padding: 0 .5ex}\n",
              "</style>\n",
              "<ol class=list-inline><li>1</li><li>2</li><li>3</li><li>4</li><li>5</li><li>6</li><li>7</li><li>8</li><li>9</li><li>10</li><li>11</li><li>12</li><li>13</li><li>14</li><li>15</li><li>16</li><li>17</li><li>18</li><li>19</li><li>20</li><li>21</li><li>22</li><li>23</li><li>24</li><li>25</li><li>26</li><li>27</li><li>28</li><li>29</li><li>30</li><li>31</li><li>32</li><li>33</li><li>34</li><li>35</li><li>36</li><li>37</li><li>38</li><li>39</li><li>40</li><li>41</li><li>42</li><li>43</li><li>44</li><li>45</li><li>46</li><li>47</li><li>48</li><li>49</li><li>50</li></ol>\n"
            ]
          },
          "metadata": {}
        }
      ]
    },
    {
      "cell_type": "markdown",
      "source": [
        "¿Como obtener de los números del 1 al 10 sus cuadrados? "
      ],
      "metadata": {
        "id": "VY5zdVcbNe3f"
      }
    },
    {
      "cell_type": "code",
      "source": [
        "numbers <- 1:10 "
      ],
      "metadata": {
        "id": "GEmlw2erNXRG"
      },
      "execution_count": null,
      "outputs": []
    },
    {
      "cell_type": "code",
      "source": [
        "numbers * numbers"
      ],
      "metadata": {
        "colab": {
          "base_uri": "https://localhost:8080/",
          "height": 34
        },
        "id": "Ra-08q5kNnlP",
        "outputId": "de292a31-6808-4415-f926-6e842fdd1f01"
      },
      "execution_count": null,
      "outputs": [
        {
          "output_type": "display_data",
          "data": {
            "text/plain": [
              " [1]   1   4   9  16  25  36  49  64  81 100"
            ],
            "text/latex": "\\begin{enumerate*}\n\\item 1\n\\item 4\n\\item 9\n\\item 16\n\\item 25\n\\item 36\n\\item 49\n\\item 64\n\\item 81\n\\item 100\n\\end{enumerate*}\n",
            "text/markdown": "1. 1\n2. 4\n3. 9\n4. 16\n5. 25\n6. 36\n7. 49\n8. 64\n9. 81\n10. 100\n\n\n",
            "text/html": [
              "<style>\n",
              ".list-inline {list-style: none; margin:0; padding: 0}\n",
              ".list-inline>li {display: inline-block}\n",
              ".list-inline>li:not(:last-child)::after {content: \"\\00b7\"; padding: 0 .5ex}\n",
              "</style>\n",
              "<ol class=list-inline><li>1</li><li>4</li><li>9</li><li>16</li><li>25</li><li>36</li><li>49</li><li>64</li><li>81</li><li>100</li></ol>\n"
            ]
          },
          "metadata": {}
        }
      ]
    },
    {
      "cell_type": "code",
      "source": [
        "numbers^2 "
      ],
      "metadata": {
        "colab": {
          "base_uri": "https://localhost:8080/",
          "height": 34
        },
        "id": "GAGUjoIZNo8X",
        "outputId": "12d0b4fc-2f05-4ad8-bd8e-da8fa89a17a5"
      },
      "execution_count": null,
      "outputs": [
        {
          "output_type": "display_data",
          "data": {
            "text/plain": [
              " [1]   1   4   9  16  25  36  49  64  81 100"
            ],
            "text/latex": "\\begin{enumerate*}\n\\item 1\n\\item 4\n\\item 9\n\\item 16\n\\item 25\n\\item 36\n\\item 49\n\\item 64\n\\item 81\n\\item 100\n\\end{enumerate*}\n",
            "text/markdown": "1. 1\n2. 4\n3. 9\n4. 16\n5. 25\n6. 36\n7. 49\n8. 64\n9. 81\n10. 100\n\n\n",
            "text/html": [
              "<style>\n",
              ".list-inline {list-style: none; margin:0; padding: 0}\n",
              ".list-inline>li {display: inline-block}\n",
              ".list-inline>li:not(:last-child)::after {content: \"\\00b7\"; padding: 0 .5ex}\n",
              "</style>\n",
              "<ol class=list-inline><li>1</li><li>4</li><li>9</li><li>16</li><li>25</li><li>36</li><li>49</li><li>64</li><li>81</li><li>100</li></ol>\n"
            ]
          },
          "metadata": {}
        }
      ]
    },
    {
      "cell_type": "markdown",
      "source": [
        "Ejercicio:"
      ],
      "metadata": {
        "id": "YWzy5LpgN1Kw"
      }
    },
    {
      "cell_type": "code",
      "source": [
        "phrase <- c(\"Yo\", \"no\", \"se\", \"Yo\", \"se\")"
      ],
      "metadata": {
        "id": "JYBWaS7ON4bZ"
      },
      "execution_count": null,
      "outputs": []
    },
    {
      "cell_type": "code",
      "source": [
        "phrase[1:3]"
      ],
      "metadata": {
        "colab": {
          "base_uri": "https://localhost:8080/",
          "height": 34
        },
        "id": "edugRu-rOFoc",
        "outputId": "83385862-fb5a-40c2-9479-bdf70edfab22"
      },
      "execution_count": null,
      "outputs": [
        {
          "output_type": "display_data",
          "data": {
            "text/plain": [
              "[1] \"Yo\" \"no\" \"se\""
            ],
            "text/latex": "\\begin{enumerate*}\n\\item 'Yo'\n\\item 'no'\n\\item 'se'\n\\end{enumerate*}\n",
            "text/markdown": "1. 'Yo'\n2. 'no'\n3. 'se'\n\n\n",
            "text/html": [
              "<style>\n",
              ".list-inline {list-style: none; margin:0; padding: 0}\n",
              ".list-inline>li {display: inline-block}\n",
              ".list-inline>li:not(:last-child)::after {content: \"\\00b7\"; padding: 0 .5ex}\n",
              "</style>\n",
              "<ol class=list-inline><li>'Yo'</li><li>'no'</li><li>'se'</li></ol>\n"
            ]
          },
          "metadata": {}
        }
      ]
    },
    {
      "cell_type": "code",
      "source": [
        "phrase[3:5]"
      ],
      "metadata": {
        "colab": {
          "base_uri": "https://localhost:8080/",
          "height": 34
        },
        "id": "SDfQ53uiOIhi",
        "outputId": "3baf96f8-e010-499f-e23c-eaf0a9497a6a"
      },
      "execution_count": null,
      "outputs": [
        {
          "output_type": "display_data",
          "data": {
            "text/plain": [
              "[1] \"se\" \"Yo\" \"se\""
            ],
            "text/latex": "\\begin{enumerate*}\n\\item 'se'\n\\item 'Yo'\n\\item 'se'\n\\end{enumerate*}\n",
            "text/markdown": "1. 'se'\n2. 'Yo'\n3. 'se'\n\n\n",
            "text/html": [
              "<style>\n",
              ".list-inline {list-style: none; margin:0; padding: 0}\n",
              ".list-inline>li {display: inline-block}\n",
              ".list-inline>li:not(:last-child)::after {content: \"\\00b7\"; padding: 0 .5ex}\n",
              "</style>\n",
              "<ol class=list-inline><li>'se'</li><li>'Yo'</li><li>'se'</li></ol>\n"
            ]
          },
          "metadata": {}
        }
      ]
    },
    {
      "cell_type": "code",
      "source": [
        "phrase[3:] # no se puede dejar vacio el elemento final si uso el operador secuencia :."
      ],
      "metadata": {
        "colab": {
          "base_uri": "https://localhost:8080/",
          "height": 134
        },
        "id": "FaEvi6w3OQq3",
        "outputId": "06de00af-a41d-4e80-8506-02e0d79de072"
      },
      "execution_count": null,
      "outputs": [
        {
          "output_type": "error",
          "ename": "ERROR",
          "evalue": "ignored",
          "traceback": [
            "Error in parse(text = x, srcfile = src): <text>:1:10: unexpected ']'\n1: phrase[3:]\n             ^\nTraceback:\n"
          ]
        }
      ]
    },
    {
      "cell_type": "markdown",
      "source": [
        "¿Del vector phrase yo se que las primeras 4 palabras las puedo obtener con phrase[1:4]. Como puedo obtener las primeras 4 palabras pero en reversa. "
      ],
      "metadata": {
        "id": "CExQIutTOpPm"
      }
    },
    {
      "cell_type": "code",
      "source": [
        "phrase[1:4]"
      ],
      "metadata": {
        "colab": {
          "base_uri": "https://localhost:8080/",
          "height": 34
        },
        "id": "F78xVl15OerS",
        "outputId": "49515c2e-3633-4446-a118-e00a49af8a8c"
      },
      "execution_count": null,
      "outputs": [
        {
          "output_type": "display_data",
          "data": {
            "text/plain": [
              "[1] \"Yo\" \"no\" \"se\" \"Yo\""
            ],
            "text/latex": "\\begin{enumerate*}\n\\item 'Yo'\n\\item 'no'\n\\item 'se'\n\\item 'Yo'\n\\end{enumerate*}\n",
            "text/markdown": "1. 'Yo'\n2. 'no'\n3. 'se'\n4. 'Yo'\n\n\n",
            "text/html": [
              "<style>\n",
              ".list-inline {list-style: none; margin:0; padding: 0}\n",
              ".list-inline>li {display: inline-block}\n",
              ".list-inline>li:not(:last-child)::after {content: \"\\00b7\"; padding: 0 .5ex}\n",
              "</style>\n",
              "<ol class=list-inline><li>'Yo'</li><li>'no'</li><li>'se'</li><li>'Yo'</li></ol>\n"
            ]
          },
          "metadata": {}
        }
      ]
    },
    {
      "cell_type": "code",
      "source": [
        "phrase[4:1]"
      ],
      "metadata": {
        "colab": {
          "base_uri": "https://localhost:8080/",
          "height": 34
        },
        "id": "miRtRCtZO8dc",
        "outputId": "eb84fbc0-399c-402a-deeb-79cb5c1cb6f7"
      },
      "execution_count": null,
      "outputs": [
        {
          "output_type": "display_data",
          "data": {
            "text/plain": [
              "[1] \"Yo\" \"se\" \"no\" \"Yo\""
            ],
            "text/latex": "\\begin{enumerate*}\n\\item 'Yo'\n\\item 'se'\n\\item 'no'\n\\item 'Yo'\n\\end{enumerate*}\n",
            "text/markdown": "1. 'Yo'\n2. 'se'\n3. 'no'\n4. 'Yo'\n\n\n",
            "text/html": [
              "<style>\n",
              ".list-inline {list-style: none; margin:0; padding: 0}\n",
              ".list-inline>li {display: inline-block}\n",
              ".list-inline>li:not(:last-child)::after {content: \"\\00b7\"; padding: 0 .5ex}\n",
              "</style>\n",
              "<ol class=list-inline><li>'Yo'</li><li>'se'</li><li>'no'</li><li>'Yo'</li></ol>\n"
            ]
          },
          "metadata": {}
        }
      ]
    },
    {
      "cell_type": "markdown",
      "source": [
        "Probar lo siguiente y deducir que pasa:  \n",
        "* phrase[-2]\n",
        "* phrase[-5]\n",
        "* phrase[-1:-3]\n",
        "\n"
      ],
      "metadata": {
        "id": "WJtB6g27PIoq"
      }
    },
    {
      "cell_type": "code",
      "source": [
        "phrase"
      ],
      "metadata": {
        "colab": {
          "base_uri": "https://localhost:8080/",
          "height": 34
        },
        "id": "MFoFnBO1PCLj",
        "outputId": "51f9e86e-280b-40c1-9224-69794574b3c9"
      },
      "execution_count": null,
      "outputs": [
        {
          "output_type": "display_data",
          "data": {
            "text/plain": [
              "[1] \"Yo\" \"no\" \"se\" \"Yo\" \"se\""
            ],
            "text/latex": "\\begin{enumerate*}\n\\item 'Yo'\n\\item 'no'\n\\item 'se'\n\\item 'Yo'\n\\item 'se'\n\\end{enumerate*}\n",
            "text/markdown": "1. 'Yo'\n2. 'no'\n3. 'se'\n4. 'Yo'\n5. 'se'\n\n\n",
            "text/html": [
              "<style>\n",
              ".list-inline {list-style: none; margin:0; padding: 0}\n",
              ".list-inline>li {display: inline-block}\n",
              ".list-inline>li:not(:last-child)::after {content: \"\\00b7\"; padding: 0 .5ex}\n",
              "</style>\n",
              "<ol class=list-inline><li>'Yo'</li><li>'no'</li><li>'se'</li><li>'Yo'</li><li>'se'</li></ol>\n"
            ]
          },
          "metadata": {}
        }
      ]
    },
    {
      "cell_type": "code",
      "source": [
        "phrase[-2]"
      ],
      "metadata": {
        "colab": {
          "base_uri": "https://localhost:8080/",
          "height": 34
        },
        "id": "CkcmTVW3QAKR",
        "outputId": "2d54cf37-cabd-420f-f7a8-d526a360ea2d"
      },
      "execution_count": null,
      "outputs": [
        {
          "output_type": "display_data",
          "data": {
            "text/plain": [
              "[1] \"Yo\" \"se\" \"Yo\" \"se\""
            ],
            "text/latex": "\\begin{enumerate*}\n\\item 'Yo'\n\\item 'se'\n\\item 'Yo'\n\\item 'se'\n\\end{enumerate*}\n",
            "text/markdown": "1. 'Yo'\n2. 'se'\n3. 'Yo'\n4. 'se'\n\n\n",
            "text/html": [
              "<style>\n",
              ".list-inline {list-style: none; margin:0; padding: 0}\n",
              ".list-inline>li {display: inline-block}\n",
              ".list-inline>li:not(:last-child)::after {content: \"\\00b7\"; padding: 0 .5ex}\n",
              "</style>\n",
              "<ol class=list-inline><li>'Yo'</li><li>'se'</li><li>'Yo'</li><li>'se'</li></ol>\n"
            ]
          },
          "metadata": {}
        }
      ]
    },
    {
      "cell_type": "code",
      "source": [
        "phrase = c(\"uno\",\"dos\",\"tres\",\"cuatro\",\"cinco\")"
      ],
      "metadata": {
        "id": "C5HPfW0DQBb_"
      },
      "execution_count": null,
      "outputs": []
    },
    {
      "cell_type": "code",
      "source": [
        "phrase"
      ],
      "metadata": {
        "colab": {
          "base_uri": "https://localhost:8080/",
          "height": 34
        },
        "id": "oO3Z18RMQT-4",
        "outputId": "76d74bb4-c872-4fe5-acce-2f8436bb06c5"
      },
      "execution_count": null,
      "outputs": [
        {
          "output_type": "display_data",
          "data": {
            "text/plain": [
              "[1] \"uno\"    \"dos\"    \"tres\"   \"cuatro\" \"cinco\" "
            ],
            "text/latex": "\\begin{enumerate*}\n\\item 'uno'\n\\item 'dos'\n\\item 'tres'\n\\item 'cuatro'\n\\item 'cinco'\n\\end{enumerate*}\n",
            "text/markdown": "1. 'uno'\n2. 'dos'\n3. 'tres'\n4. 'cuatro'\n5. 'cinco'\n\n\n",
            "text/html": [
              "<style>\n",
              ".list-inline {list-style: none; margin:0; padding: 0}\n",
              ".list-inline>li {display: inline-block}\n",
              ".list-inline>li:not(:last-child)::after {content: \"\\00b7\"; padding: 0 .5ex}\n",
              "</style>\n",
              "<ol class=list-inline><li>'uno'</li><li>'dos'</li><li>'tres'</li><li>'cuatro'</li><li>'cinco'</li></ol>\n"
            ]
          },
          "metadata": {}
        }
      ]
    },
    {
      "cell_type": "code",
      "source": [
        "phrase[-2]"
      ],
      "metadata": {
        "colab": {
          "base_uri": "https://localhost:8080/",
          "height": 34
        },
        "id": "LsJoJDtBQVnQ",
        "outputId": "6ea5409e-ab03-47f2-eb7f-b365b38e120c"
      },
      "execution_count": null,
      "outputs": [
        {
          "output_type": "display_data",
          "data": {
            "text/plain": [
              "[1] \"uno\"    \"tres\"   \"cuatro\" \"cinco\" "
            ],
            "text/latex": "\\begin{enumerate*}\n\\item 'uno'\n\\item 'tres'\n\\item 'cuatro'\n\\item 'cinco'\n\\end{enumerate*}\n",
            "text/markdown": "1. 'uno'\n2. 'tres'\n3. 'cuatro'\n4. 'cinco'\n\n\n",
            "text/html": [
              "<style>\n",
              ".list-inline {list-style: none; margin:0; padding: 0}\n",
              ".list-inline>li {display: inline-block}\n",
              ".list-inline>li:not(:last-child)::after {content: \"\\00b7\"; padding: 0 .5ex}\n",
              "</style>\n",
              "<ol class=list-inline><li>'uno'</li><li>'tres'</li><li>'cuatro'</li><li>'cinco'</li></ol>\n"
            ]
          },
          "metadata": {}
        }
      ]
    },
    {
      "cell_type": "code",
      "source": [
        "phrase[-5]"
      ],
      "metadata": {
        "colab": {
          "base_uri": "https://localhost:8080/",
          "height": 34
        },
        "id": "2oGElbdaQYiA",
        "outputId": "95fa6016-6325-4c01-ff22-ca8213bd8c75"
      },
      "execution_count": null,
      "outputs": [
        {
          "output_type": "display_data",
          "data": {
            "text/plain": [
              "[1] \"uno\"    \"dos\"    \"tres\"   \"cuatro\""
            ],
            "text/latex": "\\begin{enumerate*}\n\\item 'uno'\n\\item 'dos'\n\\item 'tres'\n\\item 'cuatro'\n\\end{enumerate*}\n",
            "text/markdown": "1. 'uno'\n2. 'dos'\n3. 'tres'\n4. 'cuatro'\n\n\n",
            "text/html": [
              "<style>\n",
              ".list-inline {list-style: none; margin:0; padding: 0}\n",
              ".list-inline>li {display: inline-block}\n",
              ".list-inline>li:not(:last-child)::after {content: \"\\00b7\"; padding: 0 .5ex}\n",
              "</style>\n",
              "<ol class=list-inline><li>'uno'</li><li>'dos'</li><li>'tres'</li><li>'cuatro'</li></ol>\n"
            ]
          },
          "metadata": {}
        }
      ]
    },
    {
      "cell_type": "code",
      "source": [
        "phrase[-1:-3]"
      ],
      "metadata": {
        "colab": {
          "base_uri": "https://localhost:8080/",
          "height": 34
        },
        "id": "IpQcLoz_Qopo",
        "outputId": "302d7659-42bb-4128-e63e-34634e4aaabd"
      },
      "execution_count": null,
      "outputs": [
        {
          "output_type": "display_data",
          "data": {
            "text/plain": [
              "[1] \"cuatro\" \"cinco\" "
            ],
            "text/latex": "\\begin{enumerate*}\n\\item 'cuatro'\n\\item 'cinco'\n\\end{enumerate*}\n",
            "text/markdown": "1. 'cuatro'\n2. 'cinco'\n\n\n",
            "text/html": [
              "<style>\n",
              ".list-inline {list-style: none; margin:0; padding: 0}\n",
              ".list-inline>li {display: inline-block}\n",
              ".list-inline>li:not(:last-child)::after {content: \"\\00b7\"; padding: 0 .5ex}\n",
              "</style>\n",
              "<ol class=list-inline><li>'cuatro'</li><li>'cinco'</li></ol>\n"
            ]
          },
          "metadata": {}
        }
      ]
    },
    {
      "cell_type": "markdown",
      "source": [
        "De: \n",
        "\n",
        "phrase = c(\"uno\",\"dos\",\"tres\",\"cuatro\",\"cinco\")\n",
        "\n",
        "Quitar los elementos dos y cuatro."
      ],
      "metadata": {
        "id": "I93hcBVPQ0tl"
      }
    },
    {
      "cell_type": "code",
      "source": [
        "phrase = c(\"uno\",\"dos\",\"tres\",\"cuatro\",\"cinco\")"
      ],
      "metadata": {
        "id": "GerhRDMVQ4-f"
      },
      "execution_count": null,
      "outputs": []
    },
    {
      "cell_type": "code",
      "source": [
        "phrase <- phrase[c(-2, -4)]"
      ],
      "metadata": {
        "id": "vQMHCk6MQ6zg"
      },
      "execution_count": null,
      "outputs": []
    },
    {
      "cell_type": "code",
      "source": [
        "phrase"
      ],
      "metadata": {
        "colab": {
          "base_uri": "https://localhost:8080/",
          "height": 34
        },
        "id": "z0JED8snQ-Ye",
        "outputId": "a684eadd-c987-44f8-afbc-85acad03f53b"
      },
      "execution_count": null,
      "outputs": [
        {
          "output_type": "display_data",
          "data": {
            "text/plain": [
              "[1] \"uno\"   \"tres\"  \"cinco\""
            ],
            "text/latex": "\\begin{enumerate*}\n\\item 'uno'\n\\item 'tres'\n\\item 'cinco'\n\\end{enumerate*}\n",
            "text/markdown": "1. 'uno'\n2. 'tres'\n3. 'cinco'\n\n\n",
            "text/html": [
              "<style>\n",
              ".list-inline {list-style: none; margin:0; padding: 0}\n",
              ".list-inline>li {display: inline-block}\n",
              ".list-inline>li:not(:last-child)::after {content: \"\\00b7\"; padding: 0 .5ex}\n",
              "</style>\n",
              "<ol class=list-inline><li>'uno'</li><li>'tres'</li><li>'cinco'</li></ol>\n"
            ]
          },
          "metadata": {}
        }
      ]
    },
    {
      "cell_type": "markdown",
      "source": [
        "# Funciones\n",
        "\n",
        "Vamos a revisar la función sum que actua sobre vectores."
      ],
      "metadata": {
        "id": "7DfTw-BURIqt"
      }
    },
    {
      "cell_type": "code",
      "source": [
        "?sum  # con ? accedo a la ayuda"
      ],
      "metadata": {
        "id": "VFPHa2YHRLa4"
      },
      "execution_count": null,
      "outputs": []
    },
    {
      "cell_type": "code",
      "source": [
        "sum(myvec)"
      ],
      "metadata": {
        "colab": {
          "base_uri": "https://localhost:8080/",
          "height": 34
        },
        "id": "h5XAbV4_R2hX",
        "outputId": "34a1ff50-5caa-4d60-cbe8-db6174436399"
      },
      "execution_count": null,
      "outputs": [
        {
          "output_type": "display_data",
          "data": {
            "text/plain": [
              "[1] 135"
            ],
            "text/latex": "135",
            "text/markdown": "135",
            "text/html": [
              "135"
            ]
          },
          "metadata": {}
        }
      ]
    },
    {
      "cell_type": "code",
      "source": [
        "myvec"
      ],
      "metadata": {
        "colab": {
          "base_uri": "https://localhost:8080/",
          "height": 34
        },
        "id": "NxWgSg51SWoU",
        "outputId": "f1405f06-d0cc-4bdb-ebd4-7c8e9a68b548"
      },
      "execution_count": null,
      "outputs": [
        {
          "output_type": "display_data",
          "data": {
            "text/plain": [
              "[1] 10  5 30 40 50"
            ],
            "text/latex": "\\begin{enumerate*}\n\\item 10\n\\item 5\n\\item 30\n\\item 40\n\\item 50\n\\end{enumerate*}\n",
            "text/markdown": "1. 10\n2. 5\n3. 30\n4. 40\n5. 50\n\n\n",
            "text/html": [
              "<style>\n",
              ".list-inline {list-style: none; margin:0; padding: 0}\n",
              ".list-inline>li {display: inline-block}\n",
              ".list-inline>li:not(:last-child)::after {content: \"\\00b7\"; padding: 0 .5ex}\n",
              "</style>\n",
              "<ol class=list-inline><li>10</li><li>5</li><li>30</li><li>40</li><li>50</li></ol>\n"
            ]
          },
          "metadata": {}
        }
      ]
    },
    {
      "cell_type": "code",
      "source": [
        "sum(myvec, myvec)"
      ],
      "metadata": {
        "colab": {
          "base_uri": "https://localhost:8080/",
          "height": 34
        },
        "id": "fzGpg1qRSXzN",
        "outputId": "7c09fbf3-8065-461c-d08f-4a56dca5c63c"
      },
      "execution_count": null,
      "outputs": [
        {
          "output_type": "display_data",
          "data": {
            "text/plain": [
              "[1] 270"
            ],
            "text/latex": "270",
            "text/markdown": "270",
            "text/html": [
              "270"
            ]
          },
          "metadata": {}
        }
      ]
    },
    {
      "cell_type": "code",
      "source": [
        "myvec3 <- c(10, 15, 7, NA, 0)"
      ],
      "metadata": {
        "id": "mt8dGeUvSgHT"
      },
      "execution_count": null,
      "outputs": []
    },
    {
      "cell_type": "code",
      "source": [
        "myvec3"
      ],
      "metadata": {
        "colab": {
          "base_uri": "https://localhost:8080/",
          "height": 34
        },
        "id": "u1C956DqSysS",
        "outputId": "3f224580-0c1b-4afa-ed09-2d010074abf9"
      },
      "execution_count": null,
      "outputs": [
        {
          "output_type": "display_data",
          "data": {
            "text/plain": [
              "[1] 10 15  7 NA  0"
            ],
            "text/latex": "\\begin{enumerate*}\n\\item 10\n\\item 15\n\\item 7\n\\item <NA>\n\\item 0\n\\end{enumerate*}\n",
            "text/markdown": "1. 10\n2. 15\n3. 7\n4. &lt;NA&gt;\n5. 0\n\n\n",
            "text/html": [
              "<style>\n",
              ".list-inline {list-style: none; margin:0; padding: 0}\n",
              ".list-inline>li {display: inline-block}\n",
              ".list-inline>li:not(:last-child)::after {content: \"\\00b7\"; padding: 0 .5ex}\n",
              "</style>\n",
              "<ol class=list-inline><li>10</li><li>15</li><li>7</li><li>&lt;NA&gt;</li><li>0</li></ol>\n"
            ]
          },
          "metadata": {}
        }
      ]
    },
    {
      "cell_type": "code",
      "source": [
        "?NA"
      ],
      "metadata": {
        "id": "7e5Pni3yS4ln"
      },
      "execution_count": null,
      "outputs": []
    },
    {
      "cell_type": "code",
      "source": [
        "is.na(myvec3)"
      ],
      "metadata": {
        "colab": {
          "base_uri": "https://localhost:8080/",
          "height": 34
        },
        "id": "9hhZTa19S9B5",
        "outputId": "b62d2d4b-94e4-42a1-d882-6e535d5369d5"
      },
      "execution_count": null,
      "outputs": [
        {
          "output_type": "display_data",
          "data": {
            "text/plain": [
              "[1] FALSE FALSE FALSE  TRUE FALSE"
            ],
            "text/latex": "\\begin{enumerate*}\n\\item FALSE\n\\item FALSE\n\\item FALSE\n\\item TRUE\n\\item FALSE\n\\end{enumerate*}\n",
            "text/markdown": "1. FALSE\n2. FALSE\n3. FALSE\n4. TRUE\n5. FALSE\n\n\n",
            "text/html": [
              "<style>\n",
              ".list-inline {list-style: none; margin:0; padding: 0}\n",
              ".list-inline>li {display: inline-block}\n",
              ".list-inline>li:not(:last-child)::after {content: \"\\00b7\"; padding: 0 .5ex}\n",
              "</style>\n",
              "<ol class=list-inline><li>FALSE</li><li>FALSE</li><li>FALSE</li><li>TRUE</li><li>FALSE</li></ol>\n"
            ]
          },
          "metadata": {}
        }
      ]
    },
    {
      "cell_type": "code",
      "source": [
        "sum(is.na(myvec3)) # cuantos NA's hay."
      ],
      "metadata": {
        "colab": {
          "base_uri": "https://localhost:8080/",
          "height": 34
        },
        "id": "zA9LezztTOOF",
        "outputId": "307870ee-1ae3-4aa0-ac74-198d0ef18a79"
      },
      "execution_count": null,
      "outputs": [
        {
          "output_type": "display_data",
          "data": {
            "text/plain": [
              "[1] 1"
            ],
            "text/latex": "1",
            "text/markdown": "1",
            "text/html": [
              "1"
            ]
          },
          "metadata": {}
        }
      ]
    },
    {
      "cell_type": "code",
      "source": [
        "sum(myvec3)"
      ],
      "metadata": {
        "colab": {
          "base_uri": "https://localhost:8080/",
          "height": 34
        },
        "id": "7sUVNybQTZ3q",
        "outputId": "30177fb8-aca0-44e3-8a14-b5c875ceeccf"
      },
      "execution_count": null,
      "outputs": [
        {
          "output_type": "display_data",
          "data": {
            "text/plain": [
              "[1] NA"
            ],
            "text/latex": "<NA>",
            "text/markdown": "&lt;NA&gt;",
            "text/html": [
              "&lt;NA&gt;"
            ]
          },
          "metadata": {}
        }
      ]
    },
    {
      "cell_type": "code",
      "source": [
        "sum(myvec3, na.rm=TRUE)"
      ],
      "metadata": {
        "colab": {
          "base_uri": "https://localhost:8080/",
          "height": 34
        },
        "id": "sYMOdH3mULln",
        "outputId": "1c5de6d0-dda4-4355-acc3-239706846403"
      },
      "execution_count": null,
      "outputs": [
        {
          "output_type": "display_data",
          "data": {
            "text/plain": [
              "[1] 32"
            ],
            "text/latex": "32",
            "text/markdown": "32",
            "text/html": [
              "32"
            ]
          },
          "metadata": {}
        }
      ]
    },
    {
      "cell_type": "markdown",
      "source": [
        "Puedo calcular la suma de los valores diferentes a null usando el hecho que is.na(myvec3) te da los indices de los elementos que son na como TRUE entonces con el operador ! puedo negarlo y luego hacer la suma. Pero este codigo es peligroso muy dificil de leer y no recomendable de manera profesional, hay que tratar de escribir código legible."
      ],
      "metadata": {
        "id": "EkkUjiqZU1KS"
      }
    },
    {
      "cell_type": "code",
      "source": [
        "myvec3"
      ],
      "metadata": {
        "colab": {
          "base_uri": "https://localhost:8080/",
          "height": 34
        },
        "id": "O7ERaTXXVYL1",
        "outputId": "134adefb-c81d-45db-9678-8bb14524f7e0"
      },
      "execution_count": null,
      "outputs": [
        {
          "output_type": "display_data",
          "data": {
            "text/plain": [
              "[1] 10 15  7 NA  0"
            ],
            "text/latex": "\\begin{enumerate*}\n\\item 10\n\\item 15\n\\item 7\n\\item <NA>\n\\item 0\n\\end{enumerate*}\n",
            "text/markdown": "1. 10\n2. 15\n3. 7\n4. &lt;NA&gt;\n5. 0\n\n\n",
            "text/html": [
              "<style>\n",
              ".list-inline {list-style: none; margin:0; padding: 0}\n",
              ".list-inline>li {display: inline-block}\n",
              ".list-inline>li:not(:last-child)::after {content: \"\\00b7\"; padding: 0 .5ex}\n",
              "</style>\n",
              "<ol class=list-inline><li>10</li><li>15</li><li>7</li><li>&lt;NA&gt;</li><li>0</li></ol>\n"
            ]
          },
          "metadata": {}
        }
      ]
    },
    {
      "cell_type": "code",
      "source": [
        "index_not_na = !is.na(myvec3)\n",
        "index_not_na "
      ],
      "metadata": {
        "colab": {
          "base_uri": "https://localhost:8080/",
          "height": 34
        },
        "id": "VjjX3dkDVErI",
        "outputId": "3bf649f4-a8fd-4ad4-9be2-e7e35e5f1cd7"
      },
      "execution_count": null,
      "outputs": [
        {
          "output_type": "display_data",
          "data": {
            "text/plain": [
              "[1]  TRUE  TRUE  TRUE FALSE  TRUE"
            ],
            "text/latex": "\\begin{enumerate*}\n\\item TRUE\n\\item TRUE\n\\item TRUE\n\\item FALSE\n\\item TRUE\n\\end{enumerate*}\n",
            "text/markdown": "1. TRUE\n2. TRUE\n3. TRUE\n4. FALSE\n5. TRUE\n\n\n",
            "text/html": [
              "<style>\n",
              ".list-inline {list-style: none; margin:0; padding: 0}\n",
              ".list-inline>li {display: inline-block}\n",
              ".list-inline>li:not(:last-child)::after {content: \"\\00b7\"; padding: 0 .5ex}\n",
              "</style>\n",
              "<ol class=list-inline><li>TRUE</li><li>TRUE</li><li>TRUE</li><li>FALSE</li><li>TRUE</li></ol>\n"
            ]
          },
          "metadata": {}
        }
      ]
    },
    {
      "cell_type": "code",
      "source": [
        "sum(myvec3[index_not_na]) # este codigo es confuso y solo se ha hecho \n",
        "                          # para efectos pedagogicos, es mucho mejor \n",
        "                          # sum(myvec3, na.rm=TRUE)"
      ],
      "metadata": {
        "colab": {
          "base_uri": "https://localhost:8080/",
          "height": 34
        },
        "id": "DXQJ1w4MVg-4",
        "outputId": "593a56fc-4b1d-455d-e66f-8eb53efe9589"
      },
      "execution_count": null,
      "outputs": [
        {
          "output_type": "display_data",
          "data": {
            "text/plain": [
              "[1] 32"
            ],
            "text/latex": "32",
            "text/markdown": "32",
            "text/html": [
              "32"
            ]
          },
          "metadata": {}
        }
      ]
    },
    {
      "cell_type": "code",
      "source": [
        "?rep"
      ],
      "metadata": {
        "id": "Z2B9XmHbVmwu"
      },
      "execution_count": null,
      "outputs": []
    },
    {
      "cell_type": "code",
      "source": [
        "?sum"
      ],
      "metadata": {
        "id": "kHtR3gWDV6Oi"
      },
      "execution_count": null,
      "outputs": []
    },
    {
      "cell_type": "markdown",
      "source": [
        "Repetir el valor 42 unas 10 veces en un vector, lo puedo hacer con rep."
      ],
      "metadata": {
        "id": "Ow8erRxaWOYB"
      }
    },
    {
      "cell_type": "code",
      "source": [
        "rep(42, 10)"
      ],
      "metadata": {
        "colab": {
          "base_uri": "https://localhost:8080/",
          "height": 34
        },
        "id": "vJLvST6JWGXs",
        "outputId": "551660a7-f36b-4b9d-9f62-989578928c20"
      },
      "execution_count": null,
      "outputs": [
        {
          "output_type": "display_data",
          "data": {
            "text/plain": [
              " [1] 42 42 42 42 42 42 42 42 42 42"
            ],
            "text/latex": "\\begin{enumerate*}\n\\item 42\n\\item 42\n\\item 42\n\\item 42\n\\item 42\n\\item 42\n\\item 42\n\\item 42\n\\item 42\n\\item 42\n\\end{enumerate*}\n",
            "text/markdown": "1. 42\n2. 42\n3. 42\n4. 42\n5. 42\n6. 42\n7. 42\n8. 42\n9. 42\n10. 42\n\n\n",
            "text/html": [
              "<style>\n",
              ".list-inline {list-style: none; margin:0; padding: 0}\n",
              ".list-inline>li {display: inline-block}\n",
              ".list-inline>li:not(:last-child)::after {content: \"\\00b7\"; padding: 0 .5ex}\n",
              "</style>\n",
              "<ol class=list-inline><li>42</li><li>42</li><li>42</li><li>42</li><li>42</li><li>42</li><li>42</li><li>42</li><li>42</li><li>42</li></ol>\n"
            ]
          },
          "metadata": {}
        }
      ]
    },
    {
      "cell_type": "code",
      "source": [
        "rep(c(1, 2, 3), 10)"
      ],
      "metadata": {
        "colab": {
          "base_uri": "https://localhost:8080/",
          "height": 34
        },
        "id": "a42m0A8pWKU8",
        "outputId": "da346ce9-606a-4151-cb80-2bd356dd7f6d"
      },
      "execution_count": null,
      "outputs": [
        {
          "output_type": "display_data",
          "data": {
            "text/plain": [
              " [1] 1 2 3 1 2 3 1 2 3 1 2 3 1 2 3 1 2 3 1 2 3 1 2 3 1 2 3 1 2 3"
            ],
            "text/latex": "\\begin{enumerate*}\n\\item 1\n\\item 2\n\\item 3\n\\item 1\n\\item 2\n\\item 3\n\\item 1\n\\item 2\n\\item 3\n\\item 1\n\\item 2\n\\item 3\n\\item 1\n\\item 2\n\\item 3\n\\item 1\n\\item 2\n\\item 3\n\\item 1\n\\item 2\n\\item 3\n\\item 1\n\\item 2\n\\item 3\n\\item 1\n\\item 2\n\\item 3\n\\item 1\n\\item 2\n\\item 3\n\\end{enumerate*}\n",
            "text/markdown": "1. 1\n2. 2\n3. 3\n4. 1\n5. 2\n6. 3\n7. 1\n8. 2\n9. 3\n10. 1\n11. 2\n12. 3\n13. 1\n14. 2\n15. 3\n16. 1\n17. 2\n18. 3\n19. 1\n20. 2\n21. 3\n22. 1\n23. 2\n24. 3\n25. 1\n26. 2\n27. 3\n28. 1\n29. 2\n30. 3\n\n\n",
            "text/html": [
              "<style>\n",
              ".list-inline {list-style: none; margin:0; padding: 0}\n",
              ".list-inline>li {display: inline-block}\n",
              ".list-inline>li:not(:last-child)::after {content: \"\\00b7\"; padding: 0 .5ex}\n",
              "</style>\n",
              "<ol class=list-inline><li>1</li><li>2</li><li>3</li><li>1</li><li>2</li><li>3</li><li>1</li><li>2</li><li>3</li><li>1</li><li>2</li><li>3</li><li>1</li><li>2</li><li>3</li><li>1</li><li>2</li><li>3</li><li>1</li><li>2</li><li>3</li><li>1</li><li>2</li><li>3</li><li>1</li><li>2</li><li>3</li><li>1</li><li>2</li><li>3</li></ol>\n"
            ]
          },
          "metadata": {}
        }
      ]
    },
    {
      "cell_type": "code",
      "source": [
        "rep(c(1,2,3), times=10)"
      ],
      "metadata": {
        "colab": {
          "base_uri": "https://localhost:8080/",
          "height": 34
        },
        "id": "RexjKcEXWrNq",
        "outputId": "7914002a-fb5c-4449-ecfb-eb64540ff639"
      },
      "execution_count": null,
      "outputs": [
        {
          "output_type": "display_data",
          "data": {
            "text/plain": [
              " [1] 1 2 3 1 2 3 1 2 3 1 2 3 1 2 3 1 2 3 1 2 3 1 2 3 1 2 3 1 2 3"
            ],
            "text/latex": "\\begin{enumerate*}\n\\item 1\n\\item 2\n\\item 3\n\\item 1\n\\item 2\n\\item 3\n\\item 1\n\\item 2\n\\item 3\n\\item 1\n\\item 2\n\\item 3\n\\item 1\n\\item 2\n\\item 3\n\\item 1\n\\item 2\n\\item 3\n\\item 1\n\\item 2\n\\item 3\n\\item 1\n\\item 2\n\\item 3\n\\item 1\n\\item 2\n\\item 3\n\\item 1\n\\item 2\n\\item 3\n\\end{enumerate*}\n",
            "text/markdown": "1. 1\n2. 2\n3. 3\n4. 1\n5. 2\n6. 3\n7. 1\n8. 2\n9. 3\n10. 1\n11. 2\n12. 3\n13. 1\n14. 2\n15. 3\n16. 1\n17. 2\n18. 3\n19. 1\n20. 2\n21. 3\n22. 1\n23. 2\n24. 3\n25. 1\n26. 2\n27. 3\n28. 1\n29. 2\n30. 3\n\n\n",
            "text/html": [
              "<style>\n",
              ".list-inline {list-style: none; margin:0; padding: 0}\n",
              ".list-inline>li {display: inline-block}\n",
              ".list-inline>li:not(:last-child)::after {content: \"\\00b7\"; padding: 0 .5ex}\n",
              "</style>\n",
              "<ol class=list-inline><li>1</li><li>2</li><li>3</li><li>1</li><li>2</li><li>3</li><li>1</li><li>2</li><li>3</li><li>1</li><li>2</li><li>3</li><li>1</li><li>2</li><li>3</li><li>1</li><li>2</li><li>3</li><li>1</li><li>2</li><li>3</li><li>1</li><li>2</li><li>3</li><li>1</li><li>2</li><li>3</li><li>1</li><li>2</li><li>3</li></ol>\n"
            ]
          },
          "metadata": {}
        }
      ]
    },
    {
      "cell_type": "code",
      "source": [
        "rep(x=c(1,2,3), times=10)"
      ],
      "metadata": {
        "colab": {
          "base_uri": "https://localhost:8080/",
          "height": 34
        },
        "id": "mtGmwalhW2P4",
        "outputId": "7098d66d-5481-4a24-fa66-f5b50f797df9"
      },
      "execution_count": null,
      "outputs": [
        {
          "output_type": "display_data",
          "data": {
            "text/plain": [
              " [1] 1 2 3 1 2 3 1 2 3 1 2 3 1 2 3 1 2 3 1 2 3 1 2 3 1 2 3 1 2 3"
            ],
            "text/latex": "\\begin{enumerate*}\n\\item 1\n\\item 2\n\\item 3\n\\item 1\n\\item 2\n\\item 3\n\\item 1\n\\item 2\n\\item 3\n\\item 1\n\\item 2\n\\item 3\n\\item 1\n\\item 2\n\\item 3\n\\item 1\n\\item 2\n\\item 3\n\\item 1\n\\item 2\n\\item 3\n\\item 1\n\\item 2\n\\item 3\n\\item 1\n\\item 2\n\\item 3\n\\item 1\n\\item 2\n\\item 3\n\\end{enumerate*}\n",
            "text/markdown": "1. 1\n2. 2\n3. 3\n4. 1\n5. 2\n6. 3\n7. 1\n8. 2\n9. 3\n10. 1\n11. 2\n12. 3\n13. 1\n14. 2\n15. 3\n16. 1\n17. 2\n18. 3\n19. 1\n20. 2\n21. 3\n22. 1\n23. 2\n24. 3\n25. 1\n26. 2\n27. 3\n28. 1\n29. 2\n30. 3\n\n\n",
            "text/html": [
              "<style>\n",
              ".list-inline {list-style: none; margin:0; padding: 0}\n",
              ".list-inline>li {display: inline-block}\n",
              ".list-inline>li:not(:last-child)::after {content: \"\\00b7\"; padding: 0 .5ex}\n",
              "</style>\n",
              "<ol class=list-inline><li>1</li><li>2</li><li>3</li><li>1</li><li>2</li><li>3</li><li>1</li><li>2</li><li>3</li><li>1</li><li>2</li><li>3</li><li>1</li><li>2</li><li>3</li><li>1</li><li>2</li><li>3</li><li>1</li><li>2</li><li>3</li><li>1</li><li>2</li><li>3</li><li>1</li><li>2</li><li>3</li><li>1</li><li>2</li><li>3</li></ol>\n"
            ]
          },
          "metadata": {}
        }
      ]
    },
    {
      "cell_type": "code",
      "source": [
        "rep(times=10, x=c(1,2,3))"
      ],
      "metadata": {
        "colab": {
          "base_uri": "https://localhost:8080/",
          "height": 34
        },
        "id": "UmK_UnGiW5u1",
        "outputId": "0b17996b-90a0-4084-e572-e6406751e994"
      },
      "execution_count": null,
      "outputs": [
        {
          "output_type": "display_data",
          "data": {
            "text/plain": [
              " [1] 1 2 3 1 2 3 1 2 3 1 2 3 1 2 3 1 2 3 1 2 3 1 2 3 1 2 3 1 2 3"
            ],
            "text/latex": "\\begin{enumerate*}\n\\item 1\n\\item 2\n\\item 3\n\\item 1\n\\item 2\n\\item 3\n\\item 1\n\\item 2\n\\item 3\n\\item 1\n\\item 2\n\\item 3\n\\item 1\n\\item 2\n\\item 3\n\\item 1\n\\item 2\n\\item 3\n\\item 1\n\\item 2\n\\item 3\n\\item 1\n\\item 2\n\\item 3\n\\item 1\n\\item 2\n\\item 3\n\\item 1\n\\item 2\n\\item 3\n\\end{enumerate*}\n",
            "text/markdown": "1. 1\n2. 2\n3. 3\n4. 1\n5. 2\n6. 3\n7. 1\n8. 2\n9. 3\n10. 1\n11. 2\n12. 3\n13. 1\n14. 2\n15. 3\n16. 1\n17. 2\n18. 3\n19. 1\n20. 2\n21. 3\n22. 1\n23. 2\n24. 3\n25. 1\n26. 2\n27. 3\n28. 1\n29. 2\n30. 3\n\n\n",
            "text/html": [
              "<style>\n",
              ".list-inline {list-style: none; margin:0; padding: 0}\n",
              ".list-inline>li {display: inline-block}\n",
              ".list-inline>li:not(:last-child)::after {content: \"\\00b7\"; padding: 0 .5ex}\n",
              "</style>\n",
              "<ol class=list-inline><li>1</li><li>2</li><li>3</li><li>1</li><li>2</li><li>3</li><li>1</li><li>2</li><li>3</li><li>1</li><li>2</li><li>3</li><li>1</li><li>2</li><li>3</li><li>1</li><li>2</li><li>3</li><li>1</li><li>2</li><li>3</li><li>1</li><li>2</li><li>3</li><li>1</li><li>2</li><li>3</li><li>1</li><li>2</li><li>3</li></ol>\n"
            ]
          },
          "metadata": {}
        }
      ]
    },
    {
      "cell_type": "code",
      "source": [
        "rep(10, c(1,2,3))"
      ],
      "metadata": {
        "colab": {
          "base_uri": "https://localhost:8080/",
          "height": 99
        },
        "id": "FCtDU0mgXBGO",
        "outputId": "d0b7c910-8c58-4e68-e9d7-66d44e413aab"
      },
      "execution_count": null,
      "outputs": [
        {
          "output_type": "error",
          "ename": "ERROR",
          "evalue": "ignored",
          "traceback": [
            "Error in rep(10, c(1, 2, 3)): invalid 'times' argument\nTraceback:\n"
          ]
        }
      ]
    },
    {
      "cell_type": "code",
      "source": [
        "rep(c(1,2,3), times=10)"
      ],
      "metadata": {
        "colab": {
          "base_uri": "https://localhost:8080/",
          "height": 34
        },
        "id": "x4Bu4IyaXPt4",
        "outputId": "c550f1af-4da5-4070-e5fa-e56f5eacd838"
      },
      "execution_count": null,
      "outputs": [
        {
          "output_type": "display_data",
          "data": {
            "text/plain": [
              " [1] 1 2 3 1 2 3 1 2 3 1 2 3 1 2 3 1 2 3 1 2 3 1 2 3 1 2 3 1 2 3"
            ],
            "text/latex": "\\begin{enumerate*}\n\\item 1\n\\item 2\n\\item 3\n\\item 1\n\\item 2\n\\item 3\n\\item 1\n\\item 2\n\\item 3\n\\item 1\n\\item 2\n\\item 3\n\\item 1\n\\item 2\n\\item 3\n\\item 1\n\\item 2\n\\item 3\n\\item 1\n\\item 2\n\\item 3\n\\item 1\n\\item 2\n\\item 3\n\\item 1\n\\item 2\n\\item 3\n\\item 1\n\\item 2\n\\item 3\n\\end{enumerate*}\n",
            "text/markdown": "1. 1\n2. 2\n3. 3\n4. 1\n5. 2\n6. 3\n7. 1\n8. 2\n9. 3\n10. 1\n11. 2\n12. 3\n13. 1\n14. 2\n15. 3\n16. 1\n17. 2\n18. 3\n19. 1\n20. 2\n21. 3\n22. 1\n23. 2\n24. 3\n25. 1\n26. 2\n27. 3\n28. 1\n29. 2\n30. 3\n\n\n",
            "text/html": [
              "<style>\n",
              ".list-inline {list-style: none; margin:0; padding: 0}\n",
              ".list-inline>li {display: inline-block}\n",
              ".list-inline>li:not(:last-child)::after {content: \"\\00b7\"; padding: 0 .5ex}\n",
              "</style>\n",
              "<ol class=list-inline><li>1</li><li>2</li><li>3</li><li>1</li><li>2</li><li>3</li><li>1</li><li>2</li><li>3</li><li>1</li><li>2</li><li>3</li><li>1</li><li>2</li><li>3</li><li>1</li><li>2</li><li>3</li><li>1</li><li>2</li><li>3</li><li>1</li><li>2</li><li>3</li><li>1</li><li>2</li><li>3</li><li>1</li><li>2</li><li>3</li></ol>\n"
            ]
          },
          "metadata": {}
        }
      ]
    },
    {
      "cell_type": "code",
      "source": [
        "rep(c(1,2,3), times=10, each=1)"
      ],
      "metadata": {
        "colab": {
          "base_uri": "https://localhost:8080/",
          "height": 34
        },
        "id": "7jnddADSXxN8",
        "outputId": "38977eca-a8a5-4f59-d043-9a5aecb37d1b"
      },
      "execution_count": null,
      "outputs": [
        {
          "output_type": "display_data",
          "data": {
            "text/plain": [
              " [1] 1 2 3 1 2 3 1 2 3 1 2 3 1 2 3 1 2 3 1 2 3 1 2 3 1 2 3 1 2 3"
            ],
            "text/latex": "\\begin{enumerate*}\n\\item 1\n\\item 2\n\\item 3\n\\item 1\n\\item 2\n\\item 3\n\\item 1\n\\item 2\n\\item 3\n\\item 1\n\\item 2\n\\item 3\n\\item 1\n\\item 2\n\\item 3\n\\item 1\n\\item 2\n\\item 3\n\\item 1\n\\item 2\n\\item 3\n\\item 1\n\\item 2\n\\item 3\n\\item 1\n\\item 2\n\\item 3\n\\item 1\n\\item 2\n\\item 3\n\\end{enumerate*}\n",
            "text/markdown": "1. 1\n2. 2\n3. 3\n4. 1\n5. 2\n6. 3\n7. 1\n8. 2\n9. 3\n10. 1\n11. 2\n12. 3\n13. 1\n14. 2\n15. 3\n16. 1\n17. 2\n18. 3\n19. 1\n20. 2\n21. 3\n22. 1\n23. 2\n24. 3\n25. 1\n26. 2\n27. 3\n28. 1\n29. 2\n30. 3\n\n\n",
            "text/html": [
              "<style>\n",
              ".list-inline {list-style: none; margin:0; padding: 0}\n",
              ".list-inline>li {display: inline-block}\n",
              ".list-inline>li:not(:last-child)::after {content: \"\\00b7\"; padding: 0 .5ex}\n",
              "</style>\n",
              "<ol class=list-inline><li>1</li><li>2</li><li>3</li><li>1</li><li>2</li><li>3</li><li>1</li><li>2</li><li>3</li><li>1</li><li>2</li><li>3</li><li>1</li><li>2</li><li>3</li><li>1</li><li>2</li><li>3</li><li>1</li><li>2</li><li>3</li><li>1</li><li>2</li><li>3</li><li>1</li><li>2</li><li>3</li><li>1</li><li>2</li><li>3</li></ol>\n"
            ]
          },
          "metadata": {}
        }
      ]
    },
    {
      "cell_type": "code",
      "source": [
        "rep(c(1,2,3), times=10, each=2)"
      ],
      "metadata": {
        "colab": {
          "base_uri": "https://localhost:8080/",
          "height": 52
        },
        "id": "CZiJhVMVXzNT",
        "outputId": "15f4e950-129b-4cf2-d776-63855d76c448"
      },
      "execution_count": null,
      "outputs": [
        {
          "output_type": "display_data",
          "data": {
            "text/plain": [
              " [1] 1 1 2 2 3 3 1 1 2 2 3 3 1 1 2 2 3 3 1 1 2 2 3 3 1 1 2 2 3 3 1 1 2 2 3 3 1 1\n",
              "[39] 2 2 3 3 1 1 2 2 3 3 1 1 2 2 3 3 1 1 2 2 3 3"
            ],
            "text/latex": "\\begin{enumerate*}\n\\item 1\n\\item 1\n\\item 2\n\\item 2\n\\item 3\n\\item 3\n\\item 1\n\\item 1\n\\item 2\n\\item 2\n\\item 3\n\\item 3\n\\item 1\n\\item 1\n\\item 2\n\\item 2\n\\item 3\n\\item 3\n\\item 1\n\\item 1\n\\item 2\n\\item 2\n\\item 3\n\\item 3\n\\item 1\n\\item 1\n\\item 2\n\\item 2\n\\item 3\n\\item 3\n\\item 1\n\\item 1\n\\item 2\n\\item 2\n\\item 3\n\\item 3\n\\item 1\n\\item 1\n\\item 2\n\\item 2\n\\item 3\n\\item 3\n\\item 1\n\\item 1\n\\item 2\n\\item 2\n\\item 3\n\\item 3\n\\item 1\n\\item 1\n\\item 2\n\\item 2\n\\item 3\n\\item 3\n\\item 1\n\\item 1\n\\item 2\n\\item 2\n\\item 3\n\\item 3\n\\end{enumerate*}\n",
            "text/markdown": "1. 1\n2. 1\n3. 2\n4. 2\n5. 3\n6. 3\n7. 1\n8. 1\n9. 2\n10. 2\n11. 3\n12. 3\n13. 1\n14. 1\n15. 2\n16. 2\n17. 3\n18. 3\n19. 1\n20. 1\n21. 2\n22. 2\n23. 3\n24. 3\n25. 1\n26. 1\n27. 2\n28. 2\n29. 3\n30. 3\n31. 1\n32. 1\n33. 2\n34. 2\n35. 3\n36. 3\n37. 1\n38. 1\n39. 2\n40. 2\n41. 3\n42. 3\n43. 1\n44. 1\n45. 2\n46. 2\n47. 3\n48. 3\n49. 1\n50. 1\n51. 2\n52. 2\n53. 3\n54. 3\n55. 1\n56. 1\n57. 2\n58. 2\n59. 3\n60. 3\n\n\n",
            "text/html": [
              "<style>\n",
              ".list-inline {list-style: none; margin:0; padding: 0}\n",
              ".list-inline>li {display: inline-block}\n",
              ".list-inline>li:not(:last-child)::after {content: \"\\00b7\"; padding: 0 .5ex}\n",
              "</style>\n",
              "<ol class=list-inline><li>1</li><li>1</li><li>2</li><li>2</li><li>3</li><li>3</li><li>1</li><li>1</li><li>2</li><li>2</li><li>3</li><li>3</li><li>1</li><li>1</li><li>2</li><li>2</li><li>3</li><li>3</li><li>1</li><li>1</li><li>2</li><li>2</li><li>3</li><li>3</li><li>1</li><li>1</li><li>2</li><li>2</li><li>3</li><li>3</li><li>1</li><li>1</li><li>2</li><li>2</li><li>3</li><li>3</li><li>1</li><li>1</li><li>2</li><li>2</li><li>3</li><li>3</li><li>1</li><li>1</li><li>2</li><li>2</li><li>3</li><li>3</li><li>1</li><li>1</li><li>2</li><li>2</li><li>3</li><li>3</li><li>1</li><li>1</li><li>2</li><li>2</li><li>3</li><li>3</li></ol>\n"
            ]
          },
          "metadata": {}
        }
      ]
    },
    {
      "cell_type": "code",
      "source": [
        "rep(c(1,2,3), times=10, each=4)"
      ],
      "metadata": {
        "colab": {
          "base_uri": "https://localhost:8080/",
          "height": 69
        },
        "id": "LNNmD3CVX3i0",
        "outputId": "d70518e1-8acd-4291-845f-37453ef5f460"
      },
      "execution_count": null,
      "outputs": [
        {
          "output_type": "display_data",
          "data": {
            "text/plain": [
              "  [1] 1 1 1 1 2 2 2 2 3 3 3 3 1 1 1 1 2 2 2 2 3 3 3 3 1 1 1 1 2 2 2 2 3 3 3 3 1\n",
              " [38] 1 1 1 2 2 2 2 3 3 3 3 1 1 1 1 2 2 2 2 3 3 3 3 1 1 1 1 2 2 2 2 3 3 3 3 1 1\n",
              " [75] 1 1 2 2 2 2 3 3 3 3 1 1 1 1 2 2 2 2 3 3 3 3 1 1 1 1 2 2 2 2 3 3 3 3 1 1 1\n",
              "[112] 1 2 2 2 2 3 3 3 3"
            ],
            "text/latex": "\\begin{enumerate*}\n\\item 1\n\\item 1\n\\item 1\n\\item 1\n\\item 2\n\\item 2\n\\item 2\n\\item 2\n\\item 3\n\\item 3\n\\item 3\n\\item 3\n\\item 1\n\\item 1\n\\item 1\n\\item 1\n\\item 2\n\\item 2\n\\item 2\n\\item 2\n\\item 3\n\\item 3\n\\item 3\n\\item 3\n\\item 1\n\\item 1\n\\item 1\n\\item 1\n\\item 2\n\\item 2\n\\item 2\n\\item 2\n\\item 3\n\\item 3\n\\item 3\n\\item 3\n\\item 1\n\\item 1\n\\item 1\n\\item 1\n\\item 2\n\\item 2\n\\item 2\n\\item 2\n\\item 3\n\\item 3\n\\item 3\n\\item 3\n\\item 1\n\\item 1\n\\item 1\n\\item 1\n\\item 2\n\\item 2\n\\item 2\n\\item 2\n\\item 3\n\\item 3\n\\item 3\n\\item 3\n\\item 1\n\\item 1\n\\item 1\n\\item 1\n\\item 2\n\\item 2\n\\item 2\n\\item 2\n\\item 3\n\\item 3\n\\item 3\n\\item 3\n\\item 1\n\\item 1\n\\item 1\n\\item 1\n\\item 2\n\\item 2\n\\item 2\n\\item 2\n\\item 3\n\\item 3\n\\item 3\n\\item 3\n\\item 1\n\\item 1\n\\item 1\n\\item 1\n\\item 2\n\\item 2\n\\item 2\n\\item 2\n\\item 3\n\\item 3\n\\item 3\n\\item 3\n\\item 1\n\\item 1\n\\item 1\n\\item 1\n\\item 2\n\\item 2\n\\item 2\n\\item 2\n\\item 3\n\\item 3\n\\item 3\n\\item 3\n\\item 1\n\\item 1\n\\item 1\n\\item 1\n\\item 2\n\\item 2\n\\item 2\n\\item 2\n\\item 3\n\\item 3\n\\item 3\n\\item 3\n\\end{enumerate*}\n",
            "text/markdown": "1. 1\n2. 1\n3. 1\n4. 1\n5. 2\n6. 2\n7. 2\n8. 2\n9. 3\n10. 3\n11. 3\n12. 3\n13. 1\n14. 1\n15. 1\n16. 1\n17. 2\n18. 2\n19. 2\n20. 2\n21. 3\n22. 3\n23. 3\n24. 3\n25. 1\n26. 1\n27. 1\n28. 1\n29. 2\n30. 2\n31. 2\n32. 2\n33. 3\n34. 3\n35. 3\n36. 3\n37. 1\n38. 1\n39. 1\n40. 1\n41. 2\n42. 2\n43. 2\n44. 2\n45. 3\n46. 3\n47. 3\n48. 3\n49. 1\n50. 1\n51. 1\n52. 1\n53. 2\n54. 2\n55. 2\n56. 2\n57. 3\n58. 3\n59. 3\n60. 3\n61. 1\n62. 1\n63. 1\n64. 1\n65. 2\n66. 2\n67. 2\n68. 2\n69. 3\n70. 3\n71. 3\n72. 3\n73. 1\n74. 1\n75. 1\n76. 1\n77. 2\n78. 2\n79. 2\n80. 2\n81. 3\n82. 3\n83. 3\n84. 3\n85. 1\n86. 1\n87. 1\n88. 1\n89. 2\n90. 2\n91. 2\n92. 2\n93. 3\n94. 3\n95. 3\n96. 3\n97. 1\n98. 1\n99. 1\n100. 1\n101. 2\n102. 2\n103. 2\n104. 2\n105. 3\n106. 3\n107. 3\n108. 3\n109. 1\n110. 1\n111. 1\n112. 1\n113. 2\n114. 2\n115. 2\n116. 2\n117. 3\n118. 3\n119. 3\n120. 3\n\n\n",
            "text/html": [
              "<style>\n",
              ".list-inline {list-style: none; margin:0; padding: 0}\n",
              ".list-inline>li {display: inline-block}\n",
              ".list-inline>li:not(:last-child)::after {content: \"\\00b7\"; padding: 0 .5ex}\n",
              "</style>\n",
              "<ol class=list-inline><li>1</li><li>1</li><li>1</li><li>1</li><li>2</li><li>2</li><li>2</li><li>2</li><li>3</li><li>3</li><li>3</li><li>3</li><li>1</li><li>1</li><li>1</li><li>1</li><li>2</li><li>2</li><li>2</li><li>2</li><li>3</li><li>3</li><li>3</li><li>3</li><li>1</li><li>1</li><li>1</li><li>1</li><li>2</li><li>2</li><li>2</li><li>2</li><li>3</li><li>3</li><li>3</li><li>3</li><li>1</li><li>1</li><li>1</li><li>1</li><li>2</li><li>2</li><li>2</li><li>2</li><li>3</li><li>3</li><li>3</li><li>3</li><li>1</li><li>1</li><li>1</li><li>1</li><li>2</li><li>2</li><li>2</li><li>2</li><li>3</li><li>3</li><li>3</li><li>3</li><li>1</li><li>1</li><li>1</li><li>1</li><li>2</li><li>2</li><li>2</li><li>2</li><li>3</li><li>3</li><li>3</li><li>3</li><li>1</li><li>1</li><li>1</li><li>1</li><li>2</li><li>2</li><li>2</li><li>2</li><li>3</li><li>3</li><li>3</li><li>3</li><li>1</li><li>1</li><li>1</li><li>1</li><li>2</li><li>2</li><li>2</li><li>2</li><li>3</li><li>3</li><li>3</li><li>3</li><li>1</li><li>1</li><li>1</li><li>1</li><li>2</li><li>2</li><li>2</li><li>2</li><li>3</li><li>3</li><li>3</li><li>3</li><li>1</li><li>1</li><li>1</li><li>1</li><li>2</li><li>2</li><li>2</li><li>2</li><li>3</li><li>3</li><li>3</li><li>3</li></ol>\n"
            ]
          },
          "metadata": {}
        }
      ]
    },
    {
      "cell_type": "markdown",
      "source": [
        "# Listas"
      ],
      "metadata": {
        "id": "aaatq5dOajFj"
      }
    },
    {
      "cell_type": "code",
      "source": [
        "my_list <- list(num=42, greeting=\"Hello world\")"
      ],
      "metadata": {
        "id": "Uy4d_zo5am0u"
      },
      "execution_count": null,
      "outputs": []
    },
    {
      "cell_type": "code",
      "source": [
        "my_list"
      ],
      "metadata": {
        "colab": {
          "base_uri": "https://localhost:8080/",
          "height": 114
        },
        "id": "ROuGojcSa235",
        "outputId": "03c28985-c50b-46fb-846f-3d1a7446a199"
      },
      "execution_count": null,
      "outputs": [
        {
          "output_type": "display_data",
          "data": {
            "text/plain": [
              "$num\n",
              "[1] 42\n",
              "\n",
              "$greeting\n",
              "[1] \"Hello world\"\n"
            ],
            "text/latex": "\\begin{description}\n\\item[\\$num] 42\n\\item[\\$greeting] 'Hello world'\n\\end{description}\n",
            "text/markdown": "$num\n:   42\n$greeting\n:   'Hello world'\n\n\n",
            "text/html": [
              "<dl>\n",
              "\t<dt>$num</dt>\n",
              "\t\t<dd>42</dd>\n",
              "\t<dt>$greeting</dt>\n",
              "\t\t<dd>'Hello world'</dd>\n",
              "</dl>\n"
            ]
          },
          "metadata": {}
        }
      ]
    },
    {
      "cell_type": "code",
      "source": [
        "my_list$num"
      ],
      "metadata": {
        "colab": {
          "base_uri": "https://localhost:8080/",
          "height": 34
        },
        "id": "eluaSsjna66P",
        "outputId": "e86006da-f459-4560-cd8c-92fb758bf058"
      },
      "execution_count": null,
      "outputs": [
        {
          "output_type": "display_data",
          "data": {
            "text/plain": [
              "[1] 42"
            ],
            "text/latex": "42",
            "text/markdown": "42",
            "text/html": [
              "42"
            ]
          },
          "metadata": {}
        }
      ]
    },
    {
      "cell_type": "code",
      "source": [
        "my_list$greeting"
      ],
      "metadata": {
        "colab": {
          "base_uri": "https://localhost:8080/",
          "height": 34
        },
        "id": "tMr3XGoza_hs",
        "outputId": "6cbe0f2a-fdf9-4e3b-a070-a36831da7b5c"
      },
      "execution_count": null,
      "outputs": [
        {
          "output_type": "display_data",
          "data": {
            "text/plain": [
              "[1] \"Hello world\""
            ],
            "text/latex": "'Hello world'",
            "text/markdown": "'Hello world'",
            "text/html": [
              "'Hello world'"
            ]
          },
          "metadata": {}
        }
      ]
    },
    {
      "cell_type": "code",
      "source": [
        "my_list[1] # Me devuelve el elemento 1 como una lista. "
      ],
      "metadata": {
        "colab": {
          "base_uri": "https://localhost:8080/",
          "height": 34
        },
        "id": "L3ux-R3nbE-7",
        "outputId": "61b8687c-815a-42c6-a41e-3949e16cc67a"
      },
      "execution_count": null,
      "outputs": [
        {
          "output_type": "display_data",
          "data": {
            "text/plain": [
              "$num\n",
              "[1] 42\n"
            ],
            "text/latex": "\\textbf{\\$num} = 42",
            "text/markdown": "**$num** = 42",
            "text/html": [
              "<strong>$num</strong> = 42"
            ]
          },
          "metadata": {}
        }
      ]
    },
    {
      "cell_type": "code",
      "source": [
        "my_list[[1]] # Accesando al elemento num de la lista.  "
      ],
      "metadata": {
        "colab": {
          "base_uri": "https://localhost:8080/",
          "height": 34
        },
        "id": "bq6M79e5bJyg",
        "outputId": "a837a72c-23ad-4fac-f88d-722f1d87c08d"
      },
      "execution_count": null,
      "outputs": [
        {
          "output_type": "display_data",
          "data": {
            "text/plain": [
              "[1] 42"
            ],
            "text/latex": "42",
            "text/markdown": "42",
            "text/html": [
              "42"
            ]
          },
          "metadata": {}
        }
      ]
    },
    {
      "cell_type": "code",
      "source": [
        "my_list[[2]]"
      ],
      "metadata": {
        "colab": {
          "base_uri": "https://localhost:8080/",
          "height": 34
        },
        "id": "7zXdP769bd9J",
        "outputId": "dc8a70d6-3439-41e0-d351-d3a36b5d3586"
      },
      "execution_count": null,
      "outputs": [
        {
          "output_type": "display_data",
          "data": {
            "text/plain": [
              "[1] \"Hello world\""
            ],
            "text/latex": "'Hello world'",
            "text/markdown": "'Hello world'",
            "text/html": [
              "'Hello world'"
            ]
          },
          "metadata": {}
        }
      ]
    },
    {
      "cell_type": "markdown",
      "source": [
        "Ejemplo de como nombrar los elementos de un vector. "
      ],
      "metadata": {
        "id": "Ssw91zDrcQg1"
      }
    },
    {
      "cell_type": "code",
      "source": [
        "numeros <- c(1, 2, 3)"
      ],
      "metadata": {
        "id": "6zjNxB_3bpSX"
      },
      "execution_count": null,
      "outputs": []
    },
    {
      "cell_type": "code",
      "source": [
        "numeros"
      ],
      "metadata": {
        "colab": {
          "base_uri": "https://localhost:8080/",
          "height": 34
        },
        "id": "HyCDyQ0lcc8V",
        "outputId": "24dc4bf4-83b8-47f6-9657-7dc621920851"
      },
      "execution_count": null,
      "outputs": [
        {
          "output_type": "display_data",
          "data": {
            "text/plain": [
              "[1] 1 2 3"
            ],
            "text/latex": "\\begin{enumerate*}\n\\item 1\n\\item 2\n\\item 3\n\\end{enumerate*}\n",
            "text/markdown": "1. 1\n2. 2\n3. 3\n\n\n",
            "text/html": [
              "<style>\n",
              ".list-inline {list-style: none; margin:0; padding: 0}\n",
              ".list-inline>li {display: inline-block}\n",
              ".list-inline>li:not(:last-child)::after {content: \"\\00b7\"; padding: 0 .5ex}\n",
              "</style>\n",
              "<ol class=list-inline><li>1</li><li>2</li><li>3</li></ol>\n"
            ]
          },
          "metadata": {}
        }
      ]
    },
    {
      "cell_type": "code",
      "source": [
        "names(numeros)"
      ],
      "metadata": {
        "colab": {
          "base_uri": "https://localhost:8080/",
          "height": 35
        },
        "id": "l2j2P6W4ceCN",
        "outputId": "69304506-2465-40c6-f3c7-857707fb3171"
      },
      "execution_count": null,
      "outputs": [
        {
          "output_type": "display_data",
          "data": {
            "text/plain": [
              "NULL"
            ]
          },
          "metadata": {}
        }
      ]
    },
    {
      "cell_type": "code",
      "source": [
        "names(numeros) <- c(\"primero\", \"segundo\", \"tercero\")"
      ],
      "metadata": {
        "id": "XHtf_B4DchuU"
      },
      "execution_count": null,
      "outputs": []
    },
    {
      "cell_type": "code",
      "source": [
        "numeros"
      ],
      "metadata": {
        "colab": {
          "base_uri": "https://localhost:8080/",
          "height": 34
        },
        "id": "gHQujpgqcnIE",
        "outputId": "a5a3f024-6146-4d24-b3d4-b272e46cda50"
      },
      "execution_count": null,
      "outputs": [
        {
          "output_type": "display_data",
          "data": {
            "text/plain": [
              "primero segundo tercero \n",
              "      1       2       3 "
            ],
            "text/latex": "\\begin{description*}\n\\item[primero] 1\n\\item[segundo] 2\n\\item[tercero] 3\n\\end{description*}\n",
            "text/markdown": "primero\n:   1segundo\n:   2tercero\n:   3\n\n",
            "text/html": [
              "<style>\n",
              ".dl-inline {width: auto; margin:0; padding: 0}\n",
              ".dl-inline>dt, .dl-inline>dd {float: none; width: auto; display: inline-block}\n",
              ".dl-inline>dt::after {content: \":\\0020\"; padding-right: .5ex}\n",
              ".dl-inline>dt:not(:first-of-type) {padding-left: .5ex}\n",
              "</style><dl class=dl-inline><dt>primero</dt><dd>1</dd><dt>segundo</dt><dd>2</dd><dt>tercero</dt><dd>3</dd></dl>\n"
            ]
          },
          "metadata": {}
        }
      ]
    },
    {
      "cell_type": "markdown",
      "source": [
        "Si no estoy seguro del tipo de objeto puedo usar las siguientes funciones: \n"
      ],
      "metadata": {
        "id": "tluGtiZBc5ti"
      }
    },
    {
      "cell_type": "code",
      "source": [
        "class(myvec)"
      ],
      "metadata": {
        "colab": {
          "base_uri": "https://localhost:8080/",
          "height": 34
        },
        "id": "PzjasLJucnxx",
        "outputId": "4bf1b4f8-ffb4-4102-c54b-a2595f4748c7"
      },
      "execution_count": null,
      "outputs": [
        {
          "output_type": "display_data",
          "data": {
            "text/plain": [
              "[1] \"numeric\""
            ],
            "text/latex": "'numeric'",
            "text/markdown": "'numeric'",
            "text/html": [
              "'numeric'"
            ]
          },
          "metadata": {}
        }
      ]
    },
    {
      "cell_type": "code",
      "source": [
        "typeof(myvec)"
      ],
      "metadata": {
        "colab": {
          "base_uri": "https://localhost:8080/",
          "height": 34
        },
        "id": "yJZVj1zydFWx",
        "outputId": "b3bc8a93-ea7f-4462-af45-fdb101a5e0d1"
      },
      "execution_count": null,
      "outputs": [
        {
          "output_type": "display_data",
          "data": {
            "text/plain": [
              "[1] \"double\""
            ],
            "text/latex": "'double'",
            "text/markdown": "'double'",
            "text/html": [
              "'double'"
            ]
          },
          "metadata": {}
        }
      ]
    },
    {
      "cell_type": "code",
      "source": [
        "str(myvec)"
      ],
      "metadata": {
        "colab": {
          "base_uri": "https://localhost:8080/"
        },
        "id": "J-9F1foWdOBJ",
        "outputId": "37a4a210-2a98-475c-d102-6a73ac948934"
      },
      "execution_count": null,
      "outputs": [
        {
          "output_type": "stream",
          "name": "stdout",
          "text": [
            " num [1:5] 10 5 30 40 50\n"
          ]
        }
      ]
    },
    {
      "cell_type": "code",
      "source": [
        "class(my_list)"
      ],
      "metadata": {
        "colab": {
          "base_uri": "https://localhost:8080/",
          "height": 34
        },
        "id": "UoP7ZiFWdGrR",
        "outputId": "ca8024a6-9c04-4d3f-a344-3768fe5ae385"
      },
      "execution_count": null,
      "outputs": [
        {
          "output_type": "display_data",
          "data": {
            "text/plain": [
              "[1] \"list\""
            ],
            "text/latex": "'list'",
            "text/markdown": "'list'",
            "text/html": [
              "'list'"
            ]
          },
          "metadata": {}
        }
      ]
    },
    {
      "cell_type": "code",
      "source": [
        "typeof(my_list)"
      ],
      "metadata": {
        "colab": {
          "base_uri": "https://localhost:8080/",
          "height": 34
        },
        "id": "sAUB2xvAdJpw",
        "outputId": "77b3eb8d-7516-4677-b389-cf7aa91f694c"
      },
      "execution_count": null,
      "outputs": [
        {
          "output_type": "display_data",
          "data": {
            "text/plain": [
              "[1] \"list\""
            ],
            "text/latex": "'list'",
            "text/markdown": "'list'",
            "text/html": [
              "'list'"
            ]
          },
          "metadata": {}
        }
      ]
    },
    {
      "cell_type": "code",
      "source": [
        "str(my_list)"
      ],
      "metadata": {
        "colab": {
          "base_uri": "https://localhost:8080/"
        },
        "id": "SUgT8Q-cdTRU",
        "outputId": "6e992a33-7cb6-4b34-f33b-1ce4783b3a96"
      },
      "execution_count": null,
      "outputs": [
        {
          "output_type": "stream",
          "name": "stdout",
          "text": [
            "List of 2\n",
            " $ num     : num 42\n",
            " $ greeting: chr \"Hello world\"\n"
          ]
        }
      ]
    },
    {
      "cell_type": "markdown",
      "source": [
        "**Ejercicios propuestos**"
      ],
      "metadata": {
        "id": "XpVeKz-4Bmtq"
      }
    },
    {
      "cell_type": "code",
      "source": [
        "sum(1:5)"
      ],
      "metadata": {
        "colab": {
          "base_uri": "https://localhost:8080/",
          "height": 34
        },
        "id": "kE5tPKg2Bp2W",
        "outputId": "88a6deaa-1965-4aa9-8a91-2b50b204de78"
      },
      "execution_count": null,
      "outputs": [
        {
          "output_type": "display_data",
          "data": {
            "text/plain": [
              "[1] 15"
            ],
            "text/latex": "15",
            "text/markdown": "15",
            "text/html": [
              "15"
            ]
          },
          "metadata": {}
        }
      ]
    },
    {
      "cell_type": "code",
      "source": [
        "sum(1:10000)"
      ],
      "metadata": {
        "colab": {
          "base_uri": "https://localhost:8080/",
          "height": 34
        },
        "id": "LvCfYzrVBsuR",
        "outputId": "fc78ef33-9eb8-4808-cc31-edda24d38831"
      },
      "execution_count": null,
      "outputs": [
        {
          "output_type": "display_data",
          "data": {
            "text/plain": [
              "[1] 50005000"
            ],
            "text/latex": "50005000",
            "text/markdown": "50005000",
            "text/html": [
              "50005000"
            ]
          },
          "metadata": {}
        }
      ]
    },
    {
      "cell_type": "code",
      "source": [
        "(10000*10001)/2"
      ],
      "metadata": {
        "colab": {
          "base_uri": "https://localhost:8080/",
          "height": 34
        },
        "id": "DRn5oJbbB69z",
        "outputId": "f0ae8300-6b53-4fa7-de26-be4ff3300e3e"
      },
      "execution_count": null,
      "outputs": [
        {
          "output_type": "display_data",
          "data": {
            "text/plain": [
              "[1] 50005000"
            ],
            "text/latex": "50005000",
            "text/markdown": "50005000",
            "text/html": [
              "50005000"
            ]
          },
          "metadata": {}
        }
      ]
    },
    {
      "cell_type": "code",
      "source": [
        "help(seq)"
      ],
      "metadata": {
        "id": "hUGd_mOACB15"
      },
      "execution_count": null,
      "outputs": []
    },
    {
      "cell_type": "code",
      "source": [
        "seq(from=1, to=100, by=2) # numeros impares entre 1 y 100"
      ],
      "metadata": {
        "colab": {
          "base_uri": "https://localhost:8080/",
          "height": 69
        },
        "id": "COF71tASCH8P",
        "outputId": "1ce566d0-b09b-42a2-f83a-765589a2fa66"
      },
      "execution_count": null,
      "outputs": [
        {
          "output_type": "display_data",
          "data": {
            "text/plain": [
              " [1]  1  3  5  7  9 11 13 15 17 19 21 23 25 27 29 31 33 35 37 39 41 43 45 47 49\n",
              "[26] 51 53 55 57 59 61 63 65 67 69 71 73 75 77 79 81 83 85 87 89 91 93 95 97 99"
            ],
            "text/latex": "\\begin{enumerate*}\n\\item 1\n\\item 3\n\\item 5\n\\item 7\n\\item 9\n\\item 11\n\\item 13\n\\item 15\n\\item 17\n\\item 19\n\\item 21\n\\item 23\n\\item 25\n\\item 27\n\\item 29\n\\item 31\n\\item 33\n\\item 35\n\\item 37\n\\item 39\n\\item 41\n\\item 43\n\\item 45\n\\item 47\n\\item 49\n\\item 51\n\\item 53\n\\item 55\n\\item 57\n\\item 59\n\\item 61\n\\item 63\n\\item 65\n\\item 67\n\\item 69\n\\item 71\n\\item 73\n\\item 75\n\\item 77\n\\item 79\n\\item 81\n\\item 83\n\\item 85\n\\item 87\n\\item 89\n\\item 91\n\\item 93\n\\item 95\n\\item 97\n\\item 99\n\\end{enumerate*}\n",
            "text/markdown": "1. 1\n2. 3\n3. 5\n4. 7\n5. 9\n6. 11\n7. 13\n8. 15\n9. 17\n10. 19\n11. 21\n12. 23\n13. 25\n14. 27\n15. 29\n16. 31\n17. 33\n18. 35\n19. 37\n20. 39\n21. 41\n22. 43\n23. 45\n24. 47\n25. 49\n26. 51\n27. 53\n28. 55\n29. 57\n30. 59\n31. 61\n32. 63\n33. 65\n34. 67\n35. 69\n36. 71\n37. 73\n38. 75\n39. 77\n40. 79\n41. 81\n42. 83\n43. 85\n44. 87\n45. 89\n46. 91\n47. 93\n48. 95\n49. 97\n50. 99\n\n\n",
            "text/html": [
              "<style>\n",
              ".list-inline {list-style: none; margin:0; padding: 0}\n",
              ".list-inline>li {display: inline-block}\n",
              ".list-inline>li:not(:last-child)::after {content: \"\\00b7\"; padding: 0 .5ex}\n",
              "</style>\n",
              "<ol class=list-inline><li>1</li><li>3</li><li>5</li><li>7</li><li>9</li><li>11</li><li>13</li><li>15</li><li>17</li><li>19</li><li>21</li><li>23</li><li>25</li><li>27</li><li>29</li><li>31</li><li>33</li><li>35</li><li>37</li><li>39</li><li>41</li><li>43</li><li>45</li><li>47</li><li>49</li><li>51</li><li>53</li><li>55</li><li>57</li><li>59</li><li>61</li><li>63</li><li>65</li><li>67</li><li>69</li><li>71</li><li>73</li><li>75</li><li>77</li><li>79</li><li>81</li><li>83</li><li>85</li><li>87</li><li>89</li><li>91</li><li>93</li><li>95</li><li>97</li><li>99</li></ol>\n"
            ]
          },
          "metadata": {}
        }
      ]
    },
    {
      "cell_type": "code",
      "source": [
        "seq(from=2, to=100, by=2)"
      ],
      "metadata": {
        "colab": {
          "base_uri": "https://localhost:8080/",
          "height": 52
        },
        "id": "0V9ZvSa_DJJQ",
        "outputId": "806279d7-c27e-494f-b233-eb2cf0faa235"
      },
      "execution_count": null,
      "outputs": [
        {
          "output_type": "display_data",
          "data": {
            "text/plain": [
              " [1]   2   4   6   8  10  12  14  16  18  20  22  24  26  28  30  32  34  36  38\n",
              "[20]  40  42  44  46  48  50  52  54  56  58  60  62  64  66  68  70  72  74  76\n",
              "[39]  78  80  82  84  86  88  90  92  94  96  98 100"
            ],
            "text/latex": "\\begin{enumerate*}\n\\item 2\n\\item 4\n\\item 6\n\\item 8\n\\item 10\n\\item 12\n\\item 14\n\\item 16\n\\item 18\n\\item 20\n\\item 22\n\\item 24\n\\item 26\n\\item 28\n\\item 30\n\\item 32\n\\item 34\n\\item 36\n\\item 38\n\\item 40\n\\item 42\n\\item 44\n\\item 46\n\\item 48\n\\item 50\n\\item 52\n\\item 54\n\\item 56\n\\item 58\n\\item 60\n\\item 62\n\\item 64\n\\item 66\n\\item 68\n\\item 70\n\\item 72\n\\item 74\n\\item 76\n\\item 78\n\\item 80\n\\item 82\n\\item 84\n\\item 86\n\\item 88\n\\item 90\n\\item 92\n\\item 94\n\\item 96\n\\item 98\n\\item 100\n\\end{enumerate*}\n",
            "text/markdown": "1. 2\n2. 4\n3. 6\n4. 8\n5. 10\n6. 12\n7. 14\n8. 16\n9. 18\n10. 20\n11. 22\n12. 24\n13. 26\n14. 28\n15. 30\n16. 32\n17. 34\n18. 36\n19. 38\n20. 40\n21. 42\n22. 44\n23. 46\n24. 48\n25. 50\n26. 52\n27. 54\n28. 56\n29. 58\n30. 60\n31. 62\n32. 64\n33. 66\n34. 68\n35. 70\n36. 72\n37. 74\n38. 76\n39. 78\n40. 80\n41. 82\n42. 84\n43. 86\n44. 88\n45. 90\n46. 92\n47. 94\n48. 96\n49. 98\n50. 100\n\n\n",
            "text/html": [
              "<style>\n",
              ".list-inline {list-style: none; margin:0; padding: 0}\n",
              ".list-inline>li {display: inline-block}\n",
              ".list-inline>li:not(:last-child)::after {content: \"\\00b7\"; padding: 0 .5ex}\n",
              "</style>\n",
              "<ol class=list-inline><li>2</li><li>4</li><li>6</li><li>8</li><li>10</li><li>12</li><li>14</li><li>16</li><li>18</li><li>20</li><li>22</li><li>24</li><li>26</li><li>28</li><li>30</li><li>32</li><li>34</li><li>36</li><li>38</li><li>40</li><li>42</li><li>44</li><li>46</li><li>48</li><li>50</li><li>52</li><li>54</li><li>56</li><li>58</li><li>60</li><li>62</li><li>64</li><li>66</li><li>68</li><li>70</li><li>72</li><li>74</li><li>76</li><li>78</li><li>80</li><li>82</li><li>84</li><li>86</li><li>88</li><li>90</li><li>92</li><li>94</li><li>96</li><li>98</li><li>100</li></ol>\n"
            ]
          },
          "metadata": {}
        }
      ]
    },
    {
      "cell_type": "code",
      "source": [
        "seq(from=1, to=100, by=2)  +  1"
      ],
      "metadata": {
        "colab": {
          "base_uri": "https://localhost:8080/",
          "height": 69
        },
        "id": "MTkspjVqDVRR",
        "outputId": "8d8e06f0-4555-4e10-f0ac-c57bdeaebbe7"
      },
      "execution_count": null,
      "outputs": [
        {
          "output_type": "display_data",
          "data": {
            "text/plain": [
              " [1]   2   4   6   8  10  12  14  16  18  20  22  24  26  28  30  32  34  36  38\n",
              "[20]  40  42  44  46  48  50  52  54  56  58  60  62  64  66  68  70  72  74  76\n",
              "[39]  78  80  82  84  86  88  90  92  94  96  98 100"
            ],
            "text/latex": "\\begin{enumerate*}\n\\item 2\n\\item 4\n\\item 6\n\\item 8\n\\item 10\n\\item 12\n\\item 14\n\\item 16\n\\item 18\n\\item 20\n\\item 22\n\\item 24\n\\item 26\n\\item 28\n\\item 30\n\\item 32\n\\item 34\n\\item 36\n\\item 38\n\\item 40\n\\item 42\n\\item 44\n\\item 46\n\\item 48\n\\item 50\n\\item 52\n\\item 54\n\\item 56\n\\item 58\n\\item 60\n\\item 62\n\\item 64\n\\item 66\n\\item 68\n\\item 70\n\\item 72\n\\item 74\n\\item 76\n\\item 78\n\\item 80\n\\item 82\n\\item 84\n\\item 86\n\\item 88\n\\item 90\n\\item 92\n\\item 94\n\\item 96\n\\item 98\n\\item 100\n\\end{enumerate*}\n",
            "text/markdown": "1. 2\n2. 4\n3. 6\n4. 8\n5. 10\n6. 12\n7. 14\n8. 16\n9. 18\n10. 20\n11. 22\n12. 24\n13. 26\n14. 28\n15. 30\n16. 32\n17. 34\n18. 36\n19. 38\n20. 40\n21. 42\n22. 44\n23. 46\n24. 48\n25. 50\n26. 52\n27. 54\n28. 56\n29. 58\n30. 60\n31. 62\n32. 64\n33. 66\n34. 68\n35. 70\n36. 72\n37. 74\n38. 76\n39. 78\n40. 80\n41. 82\n42. 84\n43. 86\n44. 88\n45. 90\n46. 92\n47. 94\n48. 96\n49. 98\n50. 100\n\n\n",
            "text/html": [
              "<style>\n",
              ".list-inline {list-style: none; margin:0; padding: 0}\n",
              ".list-inline>li {display: inline-block}\n",
              ".list-inline>li:not(:last-child)::after {content: \"\\00b7\"; padding: 0 .5ex}\n",
              "</style>\n",
              "<ol class=list-inline><li>2</li><li>4</li><li>6</li><li>8</li><li>10</li><li>12</li><li>14</li><li>16</li><li>18</li><li>20</li><li>22</li><li>24</li><li>26</li><li>28</li><li>30</li><li>32</li><li>34</li><li>36</li><li>38</li><li>40</li><li>42</li><li>44</li><li>46</li><li>48</li><li>50</li><li>52</li><li>54</li><li>56</li><li>58</li><li>60</li><li>62</li><li>64</li><li>66</li><li>68</li><li>70</li><li>72</li><li>74</li><li>76</li><li>78</li><li>80</li><li>82</li><li>84</li><li>86</li><li>88</li><li>90</li><li>92</li><li>94</li><li>96</li><li>98</li><li>100</li></ol>\n"
            ]
          },
          "metadata": {}
        }
      ]
    },
    {
      "cell_type": "markdown",
      "source": [
        "# Matrices"
      ],
      "metadata": {
        "id": "vhGWTrAYDkh5"
      }
    },
    {
      "cell_type": "code",
      "source": [
        "x <- 1:9 "
      ],
      "metadata": {
        "id": "YoINJzayDnTC"
      },
      "execution_count": null,
      "outputs": []
    },
    {
      "cell_type": "code",
      "source": [
        "x"
      ],
      "metadata": {
        "colab": {
          "base_uri": "https://localhost:8080/",
          "height": 34
        },
        "id": "Fu5Us5AoD7-V",
        "outputId": "94e6a701-b0d8-4727-eb3b-40cf433aefa4"
      },
      "execution_count": null,
      "outputs": [
        {
          "output_type": "display_data",
          "data": {
            "text/plain": [
              "[1] 1 2 3 4 5 6 7 8 9"
            ],
            "text/latex": "\\begin{enumerate*}\n\\item 1\n\\item 2\n\\item 3\n\\item 4\n\\item 5\n\\item 6\n\\item 7\n\\item 8\n\\item 9\n\\end{enumerate*}\n",
            "text/markdown": "1. 1\n2. 2\n3. 3\n4. 4\n5. 5\n6. 6\n7. 7\n8. 8\n9. 9\n\n\n",
            "text/html": [
              "<style>\n",
              ".list-inline {list-style: none; margin:0; padding: 0}\n",
              ".list-inline>li {display: inline-block}\n",
              ".list-inline>li:not(:last-child)::after {content: \"\\00b7\"; padding: 0 .5ex}\n",
              "</style>\n",
              "<ol class=list-inline><li>1</li><li>2</li><li>3</li><li>4</li><li>5</li><li>6</li><li>7</li><li>8</li><li>9</li></ol>\n"
            ]
          },
          "metadata": {}
        }
      ]
    },
    {
      "cell_type": "code",
      "source": [
        "m <- matrix(x)"
      ],
      "metadata": {
        "id": "pzwof4uAD8k7"
      },
      "execution_count": null,
      "outputs": []
    },
    {
      "cell_type": "code",
      "source": [
        "m"
      ],
      "metadata": {
        "colab": {
          "base_uri": "https://localhost:8080/",
          "height": 386
        },
        "id": "5-rYL-snElwH",
        "outputId": "2db16827-747f-4b15-ffc9-6ab92e3b71f6"
      },
      "execution_count": null,
      "outputs": [
        {
          "output_type": "display_data",
          "data": {
            "text/plain": [
              "      [,1]\n",
              " [1,] 1   \n",
              " [2,] 2   \n",
              " [3,] 3   \n",
              " [4,] 4   \n",
              " [5,] 5   \n",
              " [6,] 6   \n",
              " [7,] 7   \n",
              " [8,] 8   \n",
              " [9,] 9   "
            ],
            "text/latex": "A matrix: 9 × 1 of type int\n\\begin{tabular}{l}\n\t 1\\\\\n\t 2\\\\\n\t 3\\\\\n\t 4\\\\\n\t 5\\\\\n\t 6\\\\\n\t 7\\\\\n\t 8\\\\\n\t 9\\\\\n\\end{tabular}\n",
            "text/markdown": "\nA matrix: 9 × 1 of type int\n\n| 1 |\n| 2 |\n| 3 |\n| 4 |\n| 5 |\n| 6 |\n| 7 |\n| 8 |\n| 9 |\n\n",
            "text/html": [
              "<table class=\"dataframe\">\n",
              "<caption>A matrix: 9 × 1 of type int</caption>\n",
              "<tbody>\n",
              "\t<tr><td>1</td></tr>\n",
              "\t<tr><td>2</td></tr>\n",
              "\t<tr><td>3</td></tr>\n",
              "\t<tr><td>4</td></tr>\n",
              "\t<tr><td>5</td></tr>\n",
              "\t<tr><td>6</td></tr>\n",
              "\t<tr><td>7</td></tr>\n",
              "\t<tr><td>8</td></tr>\n",
              "\t<tr><td>9</td></tr>\n",
              "</tbody>\n",
              "</table>\n"
            ]
          },
          "metadata": {}
        }
      ]
    },
    {
      "cell_type": "markdown",
      "source": [
        "Lo que quiero es la siguiente matriz: \n",
        "\n",
        "\n",
        "$$\\begin{bmatrix}1 & 4 & 7\\\\\n",
        "2 & 5 & 8\\\\\n",
        "3 & 6 & 9\n",
        "\\end{bmatrix}$$\n"
      ],
      "metadata": {
        "id": "LzMBoyBlErlz"
      }
    },
    {
      "cell_type": "code",
      "source": [
        "?matrix"
      ],
      "metadata": {
        "id": "Y7ldKS_MEn4S"
      },
      "execution_count": null,
      "outputs": []
    },
    {
      "cell_type": "code",
      "source": [
        "m <- matrix(x, ncol=3)"
      ],
      "metadata": {
        "id": "7GFjzpq7Fukx"
      },
      "execution_count": null,
      "outputs": []
    },
    {
      "cell_type": "code",
      "source": [
        "m"
      ],
      "metadata": {
        "colab": {
          "base_uri": "https://localhost:8080/",
          "height": 163
        },
        "id": "0G0lIhV3F-ge",
        "outputId": "5651a4b4-628e-414e-f2f8-edcda43ed7d8"
      },
      "execution_count": null,
      "outputs": [
        {
          "output_type": "display_data",
          "data": {
            "text/plain": [
              "     [,1] [,2] [,3]\n",
              "[1,] 1    4    7   \n",
              "[2,] 2    5    8   \n",
              "[3,] 3    6    9   "
            ],
            "text/latex": "A matrix: 3 × 3 of type int\n\\begin{tabular}{lll}\n\t 1 & 4 & 7\\\\\n\t 2 & 5 & 8\\\\\n\t 3 & 6 & 9\\\\\n\\end{tabular}\n",
            "text/markdown": "\nA matrix: 3 × 3 of type int\n\n| 1 | 4 | 7 |\n| 2 | 5 | 8 |\n| 3 | 6 | 9 |\n\n",
            "text/html": [
              "<table class=\"dataframe\">\n",
              "<caption>A matrix: 3 × 3 of type int</caption>\n",
              "<tbody>\n",
              "\t<tr><td>1</td><td>4</td><td>7</td></tr>\n",
              "\t<tr><td>2</td><td>5</td><td>8</td></tr>\n",
              "\t<tr><td>3</td><td>6</td><td>9</td></tr>\n",
              "</tbody>\n",
              "</table>\n"
            ]
          },
          "metadata": {}
        }
      ]
    },
    {
      "cell_type": "code",
      "source": [
        "m <- matrix(x, ncol=3, byrow=FALSE)"
      ],
      "metadata": {
        "id": "tE1KT6-hGCsU"
      },
      "execution_count": null,
      "outputs": []
    },
    {
      "cell_type": "code",
      "source": [
        "m"
      ],
      "metadata": {
        "colab": {
          "base_uri": "https://localhost:8080/",
          "height": 163
        },
        "id": "pu6QooN_GIL6",
        "outputId": "18b35176-17d5-4524-a231-ccecbd9263c2"
      },
      "execution_count": null,
      "outputs": [
        {
          "output_type": "display_data",
          "data": {
            "text/plain": [
              "     [,1] [,2] [,3]\n",
              "[1,] 1    4    7   \n",
              "[2,] 2    5    8   \n",
              "[3,] 3    6    9   "
            ],
            "text/latex": "A matrix: 3 × 3 of type int\n\\begin{tabular}{lll}\n\t 1 & 4 & 7\\\\\n\t 2 & 5 & 8\\\\\n\t 3 & 6 & 9\\\\\n\\end{tabular}\n",
            "text/markdown": "\nA matrix: 3 × 3 of type int\n\n| 1 | 4 | 7 |\n| 2 | 5 | 8 |\n| 3 | 6 | 9 |\n\n",
            "text/html": [
              "<table class=\"dataframe\">\n",
              "<caption>A matrix: 3 × 3 of type int</caption>\n",
              "<tbody>\n",
              "\t<tr><td>1</td><td>4</td><td>7</td></tr>\n",
              "\t<tr><td>2</td><td>5</td><td>8</td></tr>\n",
              "\t<tr><td>3</td><td>6</td><td>9</td></tr>\n",
              "</tbody>\n",
              "</table>\n"
            ]
          },
          "metadata": {}
        }
      ]
    },
    {
      "cell_type": "code",
      "source": [
        "m <- matrix(x, ncol=3, byrow=TRUE)"
      ],
      "metadata": {
        "id": "xdfE5KB6GIks"
      },
      "execution_count": null,
      "outputs": []
    },
    {
      "cell_type": "code",
      "source": [
        "m"
      ],
      "metadata": {
        "colab": {
          "base_uri": "https://localhost:8080/",
          "height": 163
        },
        "id": "sUcTRi4vGO_I",
        "outputId": "861233d0-8ab2-4168-d613-cb9706a6275b"
      },
      "execution_count": null,
      "outputs": [
        {
          "output_type": "display_data",
          "data": {
            "text/plain": [
              "     [,1] [,2] [,3]\n",
              "[1,] 1    2    3   \n",
              "[2,] 4    5    6   \n",
              "[3,] 7    8    9   "
            ],
            "text/latex": "A matrix: 3 × 3 of type int\n\\begin{tabular}{lll}\n\t 1 & 2 & 3\\\\\n\t 4 & 5 & 6\\\\\n\t 7 & 8 & 9\\\\\n\\end{tabular}\n",
            "text/markdown": "\nA matrix: 3 × 3 of type int\n\n| 1 | 2 | 3 |\n| 4 | 5 | 6 |\n| 7 | 8 | 9 |\n\n",
            "text/html": [
              "<table class=\"dataframe\">\n",
              "<caption>A matrix: 3 × 3 of type int</caption>\n",
              "<tbody>\n",
              "\t<tr><td>1</td><td>2</td><td>3</td></tr>\n",
              "\t<tr><td>4</td><td>5</td><td>6</td></tr>\n",
              "\t<tr><td>7</td><td>8</td><td>9</td></tr>\n",
              "</tbody>\n",
              "</table>\n"
            ]
          },
          "metadata": {}
        }
      ]
    },
    {
      "cell_type": "code",
      "source": [
        "m + m "
      ],
      "metadata": {
        "colab": {
          "base_uri": "https://localhost:8080/",
          "height": 146
        },
        "id": "8bQv8h-fGPaX",
        "outputId": "bdcf9b0c-03c9-466d-cbcf-ae9f02239a0a"
      },
      "execution_count": null,
      "outputs": [
        {
          "output_type": "display_data",
          "data": {
            "text/plain": [
              "     [,1] [,2] [,3]\n",
              "[1,]  2    4    6  \n",
              "[2,]  8   10   12  \n",
              "[3,] 14   16   18  "
            ],
            "text/latex": "A matrix: 3 × 3 of type int\n\\begin{tabular}{lll}\n\t  2 &  4 &  6\\\\\n\t  8 & 10 & 12\\\\\n\t 14 & 16 & 18\\\\\n\\end{tabular}\n",
            "text/markdown": "\nA matrix: 3 × 3 of type int\n\n|  2 |  4 |  6 |\n|  8 | 10 | 12 |\n| 14 | 16 | 18 |\n\n",
            "text/html": [
              "<table class=\"dataframe\">\n",
              "<caption>A matrix: 3 × 3 of type int</caption>\n",
              "<tbody>\n",
              "\t<tr><td> 2</td><td> 4</td><td> 6</td></tr>\n",
              "\t<tr><td> 8</td><td>10</td><td>12</td></tr>\n",
              "\t<tr><td>14</td><td>16</td><td>18</td></tr>\n",
              "</tbody>\n",
              "</table>\n"
            ]
          },
          "metadata": {}
        }
      ]
    },
    {
      "cell_type": "code",
      "source": [
        "solve(m)"
      ],
      "metadata": {
        "colab": {
          "base_uri": "https://localhost:8080/",
          "height": 152
        },
        "id": "-yZzJgZFGe2E",
        "outputId": "de4ce5f9-a1e9-41f4-d4c5-4428a06f3365"
      },
      "execution_count": null,
      "outputs": [
        {
          "output_type": "error",
          "ename": "ERROR",
          "evalue": "ignored",
          "traceback": [
            "Error in solve.default(m): Lapack routine dgesv: system is exactly singular: U[3,3] = 0\nTraceback:\n",
            "1. solve(m)",
            "2. solve.default(m)"
          ]
        }
      ]
    },
    {
      "cell_type": "code",
      "source": [
        "m2 = matrix(c(4,2,1,5), ncol=2)"
      ],
      "metadata": {
        "id": "Cc-0prdsGjOa"
      },
      "execution_count": null,
      "outputs": []
    },
    {
      "cell_type": "code",
      "source": [
        "m2"
      ],
      "metadata": {
        "colab": {
          "base_uri": "https://localhost:8080/",
          "height": 167
        },
        "id": "6FJhn4o3GxlO",
        "outputId": "ece813f7-2241-48e8-b183-bedee273a0fa"
      },
      "execution_count": null,
      "outputs": [
        {
          "output_type": "display_data",
          "data": {
            "text/plain": [
              "     [,1] [,2]\n",
              "[1,] 4    1   \n",
              "[2,] 2    5   "
            ],
            "text/latex": "A matrix: 2 × 2 of type dbl\n\\begin{tabular}{ll}\n\t 4 & 1\\\\\n\t 2 & 5\\\\\n\\end{tabular}\n",
            "text/markdown": "\nA matrix: 2 × 2 of type dbl\n\n| 4 | 1 |\n| 2 | 5 |\n\n",
            "text/html": [
              "<table class=\"dataframe\">\n",
              "<caption>A matrix: 2 × 2 of type dbl</caption>\n",
              "<tbody>\n",
              "\t<tr><td>4</td><td>1</td></tr>\n",
              "\t<tr><td>2</td><td>5</td></tr>\n",
              "</tbody>\n",
              "</table>\n"
            ]
          },
          "metadata": {}
        }
      ]
    },
    {
      "cell_type": "code",
      "source": [
        "solve(m2)"
      ],
      "metadata": {
        "colab": {
          "base_uri": "https://localhost:8080/",
          "height": 97
        },
        "id": "oRSt61rhGx-1",
        "outputId": "e95094f9-6a0a-4e61-990a-cf276c8daf15"
      },
      "execution_count": null,
      "outputs": [
        {
          "output_type": "display_data",
          "data": {
            "text/plain": [
              "     [,1]       [,2]       \n",
              "[1,]  0.2777778 -0.05555556\n",
              "[2,] -0.1111111  0.22222222"
            ],
            "text/latex": "A matrix: 2 × 2 of type dbl\n\\begin{tabular}{ll}\n\t  0.2777778 & -0.05555556\\\\\n\t -0.1111111 &  0.22222222\\\\\n\\end{tabular}\n",
            "text/markdown": "\nA matrix: 2 × 2 of type dbl\n\n|  0.2777778 | -0.05555556 |\n| -0.1111111 |  0.22222222 |\n\n",
            "text/html": [
              "<table class=\"dataframe\">\n",
              "<caption>A matrix: 2 × 2 of type dbl</caption>\n",
              "<tbody>\n",
              "\t<tr><td> 0.2777778</td><td>-0.05555556</td></tr>\n",
              "\t<tr><td>-0.1111111</td><td> 0.22222222</td></tr>\n",
              "</tbody>\n",
              "</table>\n"
            ]
          },
          "metadata": {}
        }
      ]
    },
    {
      "cell_type": "code",
      "source": [
        "m3 <- solve(m2)"
      ],
      "metadata": {
        "id": "A-Uhb_GfGzZv"
      },
      "execution_count": null,
      "outputs": []
    },
    {
      "cell_type": "code",
      "source": [
        "m2 %*% m3"
      ],
      "metadata": {
        "colab": {
          "base_uri": "https://localhost:8080/",
          "height": 114
        },
        "id": "_bPwoDNUG2ud",
        "outputId": "cf5a6440-9b0b-4c90-94b8-7aafb520b6a4"
      },
      "execution_count": null,
      "outputs": [
        {
          "output_type": "display_data",
          "data": {
            "text/plain": [
              "     [,1]         [,2]\n",
              "[1,] 1.000000e+00 0   \n",
              "[2,] 5.551115e-17 1   "
            ],
            "text/latex": "A matrix: 2 × 2 of type dbl\n\\begin{tabular}{ll}\n\t 1.000000e+00 & 0\\\\\n\t 5.551115e-17 & 1\\\\\n\\end{tabular}\n",
            "text/markdown": "\nA matrix: 2 × 2 of type dbl\n\n| 1.000000e+00 | 0 |\n| 5.551115e-17 | 1 |\n\n",
            "text/html": [
              "<table class=\"dataframe\">\n",
              "<caption>A matrix: 2 × 2 of type dbl</caption>\n",
              "<tbody>\n",
              "\t<tr><td>1.000000e+00</td><td>0</td></tr>\n",
              "\t<tr><td>5.551115e-17</td><td>1</td></tr>\n",
              "</tbody>\n",
              "</table>\n"
            ]
          },
          "metadata": {}
        }
      ]
    },
    {
      "cell_type": "code",
      "source": [
        "m3"
      ],
      "metadata": {
        "colab": {
          "base_uri": "https://localhost:8080/",
          "height": 97
        },
        "id": "qqlv6044G6ai",
        "outputId": "c56e8c76-c5e2-4087-f3b2-9efd11abb69b"
      },
      "execution_count": null,
      "outputs": [
        {
          "output_type": "display_data",
          "data": {
            "text/plain": [
              "     [,1]       [,2]       \n",
              "[1,]  0.2777778 -0.05555556\n",
              "[2,] -0.1111111  0.22222222"
            ],
            "text/latex": "A matrix: 2 × 2 of type dbl\n\\begin{tabular}{ll}\n\t  0.2777778 & -0.05555556\\\\\n\t -0.1111111 &  0.22222222\\\\\n\\end{tabular}\n",
            "text/markdown": "\nA matrix: 2 × 2 of type dbl\n\n|  0.2777778 | -0.05555556 |\n| -0.1111111 |  0.22222222 |\n\n",
            "text/html": [
              "<table class=\"dataframe\">\n",
              "<caption>A matrix: 2 × 2 of type dbl</caption>\n",
              "<tbody>\n",
              "\t<tr><td> 0.2777778</td><td>-0.05555556</td></tr>\n",
              "\t<tr><td>-0.1111111</td><td> 0.22222222</td></tr>\n",
              "</tbody>\n",
              "</table>\n"
            ]
          },
          "metadata": {}
        }
      ]
    },
    {
      "cell_type": "code",
      "source": [
        "m3[1, ] # accesando a la primera fila"
      ],
      "metadata": {
        "colab": {
          "base_uri": "https://localhost:8080/",
          "height": 34
        },
        "id": "6-mbXgfaHHRQ",
        "outputId": "8b163d0e-6c1d-4ded-888f-42fde0a2957e"
      },
      "execution_count": null,
      "outputs": [
        {
          "output_type": "display_data",
          "data": {
            "text/plain": [
              "[1]  0.27777778 -0.05555556"
            ],
            "text/latex": "\\begin{enumerate*}\n\\item 0.277777777777778\n\\item -0.0555555555555556\n\\end{enumerate*}\n",
            "text/markdown": "1. 0.277777777777778\n2. -0.0555555555555556\n\n\n",
            "text/html": [
              "<style>\n",
              ".list-inline {list-style: none; margin:0; padding: 0}\n",
              ".list-inline>li {display: inline-block}\n",
              ".list-inline>li:not(:last-child)::after {content: \"\\00b7\"; padding: 0 .5ex}\n",
              "</style>\n",
              "<ol class=list-inline><li>0.277777777777778</li><li>-0.0555555555555556</li></ol>\n"
            ]
          },
          "metadata": {}
        }
      ]
    },
    {
      "cell_type": "code",
      "source": [
        "m3[, 2]  # accesando a la segunda columna "
      ],
      "metadata": {
        "colab": {
          "base_uri": "https://localhost:8080/",
          "height": 34
        },
        "id": "ca-lJaHwHLMY",
        "outputId": "592ea609-388a-45e9-da33-c05d482f429a"
      },
      "execution_count": null,
      "outputs": [
        {
          "output_type": "display_data",
          "data": {
            "text/plain": [
              "[1] -0.05555556  0.22222222"
            ],
            "text/latex": "\\begin{enumerate*}\n\\item -0.0555555555555556\n\\item 0.222222222222222\n\\end{enumerate*}\n",
            "text/markdown": "1. -0.0555555555555556\n2. 0.222222222222222\n\n\n",
            "text/html": [
              "<style>\n",
              ".list-inline {list-style: none; margin:0; padding: 0}\n",
              ".list-inline>li {display: inline-block}\n",
              ".list-inline>li:not(:last-child)::after {content: \"\\00b7\"; padding: 0 .5ex}\n",
              "</style>\n",
              "<ol class=list-inline><li>-0.0555555555555556</li><li>0.222222222222222</li></ol>\n"
            ]
          },
          "metadata": {}
        }
      ]
    },
    {
      "cell_type": "code",
      "source": [
        "m4 <- matrix(1:16, ncol=4)"
      ],
      "metadata": {
        "id": "2SexDhIuHYLc"
      },
      "execution_count": null,
      "outputs": []
    },
    {
      "cell_type": "code",
      "source": [
        "m4"
      ],
      "metadata": {
        "colab": {
          "base_uri": "https://localhost:8080/",
          "height": 177
        },
        "id": "p4ZjEp7yHh4B",
        "outputId": "a0636c2b-ab92-4ca9-9b26-15c165fbf792"
      },
      "execution_count": null,
      "outputs": [
        {
          "output_type": "display_data",
          "data": {
            "text/plain": [
              "     [,1] [,2] [,3] [,4]\n",
              "[1,] 1    5     9   13  \n",
              "[2,] 2    6    10   14  \n",
              "[3,] 3    7    11   15  \n",
              "[4,] 4    8    12   16  "
            ],
            "text/latex": "A matrix: 4 × 4 of type int\n\\begin{tabular}{llll}\n\t 1 & 5 &  9 & 13\\\\\n\t 2 & 6 & 10 & 14\\\\\n\t 3 & 7 & 11 & 15\\\\\n\t 4 & 8 & 12 & 16\\\\\n\\end{tabular}\n",
            "text/markdown": "\nA matrix: 4 × 4 of type int\n\n| 1 | 5 |  9 | 13 |\n| 2 | 6 | 10 | 14 |\n| 3 | 7 | 11 | 15 |\n| 4 | 8 | 12 | 16 |\n\n",
            "text/html": [
              "<table class=\"dataframe\">\n",
              "<caption>A matrix: 4 × 4 of type int</caption>\n",
              "<tbody>\n",
              "\t<tr><td>1</td><td>5</td><td> 9</td><td>13</td></tr>\n",
              "\t<tr><td>2</td><td>6</td><td>10</td><td>14</td></tr>\n",
              "\t<tr><td>3</td><td>7</td><td>11</td><td>15</td></tr>\n",
              "\t<tr><td>4</td><td>8</td><td>12</td><td>16</td></tr>\n",
              "</tbody>\n",
              "</table>\n"
            ]
          },
          "metadata": {}
        }
      ]
    },
    {
      "cell_type": "code",
      "source": [
        "m4[, c(2, 4)]"
      ],
      "metadata": {
        "colab": {
          "base_uri": "https://localhost:8080/",
          "height": 212
        },
        "id": "W2C3MTCsHiVR",
        "outputId": "e871ae3a-1e84-4bc0-f531-99fd658f44e4"
      },
      "execution_count": null,
      "outputs": [
        {
          "output_type": "display_data",
          "data": {
            "text/plain": [
              "     [,1] [,2]\n",
              "[1,] 5    13  \n",
              "[2,] 6    14  \n",
              "[3,] 7    15  \n",
              "[4,] 8    16  "
            ],
            "text/latex": "A matrix: 4 × 2 of type int\n\\begin{tabular}{ll}\n\t 5 & 13\\\\\n\t 6 & 14\\\\\n\t 7 & 15\\\\\n\t 8 & 16\\\\\n\\end{tabular}\n",
            "text/markdown": "\nA matrix: 4 × 2 of type int\n\n| 5 | 13 |\n| 6 | 14 |\n| 7 | 15 |\n| 8 | 16 |\n\n",
            "text/html": [
              "<table class=\"dataframe\">\n",
              "<caption>A matrix: 4 × 2 of type int</caption>\n",
              "<tbody>\n",
              "\t<tr><td>5</td><td>13</td></tr>\n",
              "\t<tr><td>6</td><td>14</td></tr>\n",
              "\t<tr><td>7</td><td>15</td></tr>\n",
              "\t<tr><td>8</td><td>16</td></tr>\n",
              "</tbody>\n",
              "</table>\n"
            ]
          },
          "metadata": {}
        }
      ]
    },
    {
      "cell_type": "code",
      "source": [
        "m4[1:2, ]"
      ],
      "metadata": {
        "colab": {
          "base_uri": "https://localhost:8080/",
          "height": 114
        },
        "id": "fgssAXePHqQ3",
        "outputId": "f19daf1e-d107-4e36-b957-e6df413ea6d6"
      },
      "execution_count": null,
      "outputs": [
        {
          "output_type": "display_data",
          "data": {
            "text/plain": [
              "     [,1] [,2] [,3] [,4]\n",
              "[1,] 1    5     9   13  \n",
              "[2,] 2    6    10   14  "
            ],
            "text/latex": "A matrix: 2 × 4 of type int\n\\begin{tabular}{llll}\n\t 1 & 5 &  9 & 13\\\\\n\t 2 & 6 & 10 & 14\\\\\n\\end{tabular}\n",
            "text/markdown": "\nA matrix: 2 × 4 of type int\n\n| 1 | 5 |  9 | 13 |\n| 2 | 6 | 10 | 14 |\n\n",
            "text/html": [
              "<table class=\"dataframe\">\n",
              "<caption>A matrix: 2 × 4 of type int</caption>\n",
              "<tbody>\n",
              "\t<tr><td>1</td><td>5</td><td> 9</td><td>13</td></tr>\n",
              "\t<tr><td>2</td><td>6</td><td>10</td><td>14</td></tr>\n",
              "</tbody>\n",
              "</table>\n"
            ]
          },
          "metadata": {}
        }
      ]
    },
    {
      "cell_type": "code",
      "source": [
        "m4[c(1,2), ]"
      ],
      "metadata": {
        "colab": {
          "base_uri": "https://localhost:8080/",
          "height": 114
        },
        "id": "T0_dEY1QHvQ2",
        "outputId": "a3d76d24-bad8-4a9f-c4fe-9a6acbfee0ac"
      },
      "execution_count": null,
      "outputs": [
        {
          "output_type": "display_data",
          "data": {
            "text/plain": [
              "     [,1] [,2] [,3] [,4]\n",
              "[1,] 1    5     9   13  \n",
              "[2,] 2    6    10   14  "
            ],
            "text/latex": "A matrix: 2 × 4 of type int\n\\begin{tabular}{llll}\n\t 1 & 5 &  9 & 13\\\\\n\t 2 & 6 & 10 & 14\\\\\n\\end{tabular}\n",
            "text/markdown": "\nA matrix: 2 × 4 of type int\n\n| 1 | 5 |  9 | 13 |\n| 2 | 6 | 10 | 14 |\n\n",
            "text/html": [
              "<table class=\"dataframe\">\n",
              "<caption>A matrix: 2 × 4 of type int</caption>\n",
              "<tbody>\n",
              "\t<tr><td>1</td><td>5</td><td> 9</td><td>13</td></tr>\n",
              "\t<tr><td>2</td><td>6</td><td>10</td><td>14</td></tr>\n",
              "</tbody>\n",
              "</table>\n"
            ]
          },
          "metadata": {}
        }
      ]
    },
    {
      "cell_type": "code",
      "source": [
        "m4"
      ],
      "metadata": {
        "colab": {
          "base_uri": "https://localhost:8080/",
          "height": 177
        },
        "id": "HgoNU0-THyXs",
        "outputId": "8f99f50c-24a6-4106-feef-2a2ad3a97e2a"
      },
      "execution_count": null,
      "outputs": [
        {
          "output_type": "display_data",
          "data": {
            "text/plain": [
              "     [,1] [,2] [,3] [,4]\n",
              "[1,] 1    5     9   13  \n",
              "[2,] 2    6    10   14  \n",
              "[3,] 3    7    11   15  \n",
              "[4,] 4    8    12   16  "
            ],
            "text/latex": "A matrix: 4 × 4 of type int\n\\begin{tabular}{llll}\n\t 1 & 5 &  9 & 13\\\\\n\t 2 & 6 & 10 & 14\\\\\n\t 3 & 7 & 11 & 15\\\\\n\t 4 & 8 & 12 & 16\\\\\n\\end{tabular}\n",
            "text/markdown": "\nA matrix: 4 × 4 of type int\n\n| 1 | 5 |  9 | 13 |\n| 2 | 6 | 10 | 14 |\n| 3 | 7 | 11 | 15 |\n| 4 | 8 | 12 | 16 |\n\n",
            "text/html": [
              "<table class=\"dataframe\">\n",
              "<caption>A matrix: 4 × 4 of type int</caption>\n",
              "<tbody>\n",
              "\t<tr><td>1</td><td>5</td><td> 9</td><td>13</td></tr>\n",
              "\t<tr><td>2</td><td>6</td><td>10</td><td>14</td></tr>\n",
              "\t<tr><td>3</td><td>7</td><td>11</td><td>15</td></tr>\n",
              "\t<tr><td>4</td><td>8</td><td>12</td><td>16</td></tr>\n",
              "</tbody>\n",
              "</table>\n"
            ]
          },
          "metadata": {}
        }
      ]
    },
    {
      "cell_type": "markdown",
      "source": [
        "Puedo nombrar las columnas y filas."
      ],
      "metadata": {
        "id": "CS_9C6OFIIwR"
      }
    },
    {
      "cell_type": "code",
      "source": [
        "colnames(m4)"
      ],
      "metadata": {
        "colab": {
          "base_uri": "https://localhost:8080/",
          "height": 35
        },
        "id": "0WiMVG22IH7A",
        "outputId": "fc226d24-2635-47f5-e4b0-0332c196a67f"
      },
      "execution_count": null,
      "outputs": [
        {
          "output_type": "display_data",
          "data": {
            "text/plain": [
              "NULL"
            ]
          },
          "metadata": {}
        }
      ]
    },
    {
      "cell_type": "code",
      "source": [
        "rownames(m4)"
      ],
      "metadata": {
        "colab": {
          "base_uri": "https://localhost:8080/",
          "height": 35
        },
        "id": "AAzdKPr-IM9N",
        "outputId": "5312a173-7158-47cc-8584-e6a296c52292"
      },
      "execution_count": null,
      "outputs": [
        {
          "output_type": "display_data",
          "data": {
            "text/plain": [
              "NULL"
            ]
          },
          "metadata": {}
        }
      ]
    },
    {
      "cell_type": "code",
      "source": [
        "colnames(m4) <- c(\"C1\", \"C2\", \"C3\", \"C4\")"
      ],
      "metadata": {
        "id": "MXcLUdtEIOx6"
      },
      "execution_count": null,
      "outputs": []
    },
    {
      "cell_type": "code",
      "source": [
        "m4"
      ],
      "metadata": {
        "colab": {
          "base_uri": "https://localhost:8080/",
          "height": 209
        },
        "id": "6aMH8NO2IW1j",
        "outputId": "94f403fa-5fd7-4466-cf20-8c372b215f7a"
      },
      "execution_count": null,
      "outputs": [
        {
          "output_type": "display_data",
          "data": {
            "text/plain": [
              "     C1 C2 C3 C4\n",
              "[1,] 1  5   9 13\n",
              "[2,] 2  6  10 14\n",
              "[3,] 3  7  11 15\n",
              "[4,] 4  8  12 16"
            ],
            "text/latex": "A matrix: 4 × 4 of type int\n\\begin{tabular}{llll}\n C1 & C2 & C3 & C4\\\\\n\\hline\n\t 1 & 5 &  9 & 13\\\\\n\t 2 & 6 & 10 & 14\\\\\n\t 3 & 7 & 11 & 15\\\\\n\t 4 & 8 & 12 & 16\\\\\n\\end{tabular}\n",
            "text/markdown": "\nA matrix: 4 × 4 of type int\n\n| C1 | C2 | C3 | C4 |\n|---|---|---|---|\n| 1 | 5 |  9 | 13 |\n| 2 | 6 | 10 | 14 |\n| 3 | 7 | 11 | 15 |\n| 4 | 8 | 12 | 16 |\n\n",
            "text/html": [
              "<table class=\"dataframe\">\n",
              "<caption>A matrix: 4 × 4 of type int</caption>\n",
              "<thead>\n",
              "\t<tr><th scope=col>C1</th><th scope=col>C2</th><th scope=col>C3</th><th scope=col>C4</th></tr>\n",
              "</thead>\n",
              "<tbody>\n",
              "\t<tr><td>1</td><td>5</td><td> 9</td><td>13</td></tr>\n",
              "\t<tr><td>2</td><td>6</td><td>10</td><td>14</td></tr>\n",
              "\t<tr><td>3</td><td>7</td><td>11</td><td>15</td></tr>\n",
              "\t<tr><td>4</td><td>8</td><td>12</td><td>16</td></tr>\n",
              "</tbody>\n",
              "</table>\n"
            ]
          },
          "metadata": {}
        }
      ]
    },
    {
      "cell_type": "code",
      "source": [
        "rownames(m4) <- c(\"R1\", \"R2\", \"R3\", \"R4\")"
      ],
      "metadata": {
        "id": "JJFm_W5JIaRb"
      },
      "execution_count": null,
      "outputs": []
    },
    {
      "cell_type": "code",
      "source": [
        "m4"
      ],
      "metadata": {
        "colab": {
          "base_uri": "https://localhost:8080/",
          "height": 209
        },
        "id": "rs_YQbMpIqrX",
        "outputId": "f500c207-c9d1-4e4f-9b94-019363a8e938"
      },
      "execution_count": null,
      "outputs": [
        {
          "output_type": "display_data",
          "data": {
            "text/plain": [
              "   C1 C2 C3 C4\n",
              "R1 1  5   9 13\n",
              "R2 2  6  10 14\n",
              "R3 3  7  11 15\n",
              "R4 4  8  12 16"
            ],
            "text/latex": "A matrix: 4 × 4 of type int\n\\begin{tabular}{r|llll}\n  & C1 & C2 & C3 & C4\\\\\n\\hline\n\tR1 & 1 & 5 &  9 & 13\\\\\n\tR2 & 2 & 6 & 10 & 14\\\\\n\tR3 & 3 & 7 & 11 & 15\\\\\n\tR4 & 4 & 8 & 12 & 16\\\\\n\\end{tabular}\n",
            "text/markdown": "\nA matrix: 4 × 4 of type int\n\n| <!--/--> | C1 | C2 | C3 | C4 |\n|---|---|---|---|---|\n| R1 | 1 | 5 |  9 | 13 |\n| R2 | 2 | 6 | 10 | 14 |\n| R3 | 3 | 7 | 11 | 15 |\n| R4 | 4 | 8 | 12 | 16 |\n\n",
            "text/html": [
              "<table class=\"dataframe\">\n",
              "<caption>A matrix: 4 × 4 of type int</caption>\n",
              "<thead>\n",
              "\t<tr><th></th><th scope=col>C1</th><th scope=col>C2</th><th scope=col>C3</th><th scope=col>C4</th></tr>\n",
              "</thead>\n",
              "<tbody>\n",
              "\t<tr><th scope=row>R1</th><td>1</td><td>5</td><td> 9</td><td>13</td></tr>\n",
              "\t<tr><th scope=row>R2</th><td>2</td><td>6</td><td>10</td><td>14</td></tr>\n",
              "\t<tr><th scope=row>R3</th><td>3</td><td>7</td><td>11</td><td>15</td></tr>\n",
              "\t<tr><th scope=row>R4</th><td>4</td><td>8</td><td>12</td><td>16</td></tr>\n",
              "</tbody>\n",
              "</table>\n"
            ]
          },
          "metadata": {}
        }
      ]
    },
    {
      "cell_type": "code",
      "source": [
        "m4[C1, ]"
      ],
      "metadata": {
        "colab": {
          "base_uri": "https://localhost:8080/",
          "height": 99
        },
        "id": "1Xd8z7z6IrZ-",
        "outputId": "76390c28-9e5b-48b9-b835-ca0d53c61f14"
      },
      "execution_count": null,
      "outputs": [
        {
          "output_type": "error",
          "ename": "ERROR",
          "evalue": "ignored",
          "traceback": [
            "Error in eval(expr, envir, enclos): object 'C1' not found\nTraceback:\n"
          ]
        }
      ]
    },
    {
      "cell_type": "code",
      "source": [
        "m4[\"R1\", ]"
      ],
      "metadata": {
        "colab": {
          "base_uri": "https://localhost:8080/",
          "height": 34
        },
        "id": "3Uazk48EIx67",
        "outputId": "2972f9ee-257a-46d6-8e79-d68ee30feb28"
      },
      "execution_count": null,
      "outputs": [
        {
          "output_type": "display_data",
          "data": {
            "text/plain": [
              "C1 C2 C3 C4 \n",
              " 1  5  9 13 "
            ],
            "text/latex": "\\begin{description*}\n\\item[C1] 1\n\\item[C2] 5\n\\item[C3] 9\n\\item[C4] 13\n\\end{description*}\n",
            "text/markdown": "C1\n:   1C2\n:   5C3\n:   9C4\n:   13\n\n",
            "text/html": [
              "<style>\n",
              ".dl-inline {width: auto; margin:0; padding: 0}\n",
              ".dl-inline>dt, .dl-inline>dd {float: none; width: auto; display: inline-block}\n",
              ".dl-inline>dt::after {content: \":\\0020\"; padding-right: .5ex}\n",
              ".dl-inline>dt:not(:first-of-type) {padding-left: .5ex}\n",
              "</style><dl class=dl-inline><dt>C1</dt><dd>1</dd><dt>C2</dt><dd>5</dd><dt>C3</dt><dd>9</dd><dt>C4</dt><dd>13</dd></dl>\n"
            ]
          },
          "metadata": {}
        }
      ]
    },
    {
      "cell_type": "code",
      "source": [
        "m4[, \"C1\"]"
      ],
      "metadata": {
        "colab": {
          "base_uri": "https://localhost:8080/",
          "height": 34
        },
        "id": "Oxa1MEiTI0yq",
        "outputId": "68bbda2a-56e9-43b0-bc70-41aad620ed40"
      },
      "execution_count": null,
      "outputs": [
        {
          "output_type": "display_data",
          "data": {
            "text/plain": [
              "R1 R2 R3 R4 \n",
              " 1  2  3  4 "
            ],
            "text/latex": "\\begin{description*}\n\\item[R1] 1\n\\item[R2] 2\n\\item[R3] 3\n\\item[R4] 4\n\\end{description*}\n",
            "text/markdown": "R1\n:   1R2\n:   2R3\n:   3R4\n:   4\n\n",
            "text/html": [
              "<style>\n",
              ".dl-inline {width: auto; margin:0; padding: 0}\n",
              ".dl-inline>dt, .dl-inline>dd {float: none; width: auto; display: inline-block}\n",
              ".dl-inline>dt::after {content: \":\\0020\"; padding-right: .5ex}\n",
              ".dl-inline>dt:not(:first-of-type) {padding-left: .5ex}\n",
              "</style><dl class=dl-inline><dt>R1</dt><dd>1</dd><dt>R2</dt><dd>2</dd><dt>R3</dt><dd>3</dd><dt>R4</dt><dd>4</dd></dl>\n"
            ]
          },
          "metadata": {}
        }
      ]
    },
    {
      "cell_type": "code",
      "source": [
        "?as.matrix"
      ],
      "metadata": {
        "id": "lAsPrOr0I-D_"
      },
      "execution_count": null,
      "outputs": []
    },
    {
      "cell_type": "code",
      "source": [
        "x2 <- seq(1, 2, by=0.1)\n",
        "x2"
      ],
      "metadata": {
        "colab": {
          "base_uri": "https://localhost:8080/",
          "height": 34
        },
        "id": "osPIYDKUJD54",
        "outputId": "049b5163-55db-4a66-f035-4394e2e3d8bd"
      },
      "execution_count": null,
      "outputs": [
        {
          "output_type": "display_data",
          "data": {
            "text/plain": [
              " [1] 1.0 1.1 1.2 1.3 1.4 1.5 1.6 1.7 1.8 1.9 2.0"
            ],
            "text/latex": "\\begin{enumerate*}\n\\item 1\n\\item 1.1\n\\item 1.2\n\\item 1.3\n\\item 1.4\n\\item 1.5\n\\item 1.6\n\\item 1.7\n\\item 1.8\n\\item 1.9\n\\item 2\n\\end{enumerate*}\n",
            "text/markdown": "1. 1\n2. 1.1\n3. 1.2\n4. 1.3\n5. 1.4\n6. 1.5\n7. 1.6\n8. 1.7\n9. 1.8\n10. 1.9\n11. 2\n\n\n",
            "text/html": [
              "<style>\n",
              ".list-inline {list-style: none; margin:0; padding: 0}\n",
              ".list-inline>li {display: inline-block}\n",
              ".list-inline>li:not(:last-child)::after {content: \"\\00b7\"; padding: 0 .5ex}\n",
              "</style>\n",
              "<ol class=list-inline><li>1</li><li>1.1</li><li>1.2</li><li>1.3</li><li>1.4</li><li>1.5</li><li>1.6</li><li>1.7</li><li>1.8</li><li>1.9</li><li>2</li></ol>\n"
            ]
          },
          "metadata": {}
        }
      ]
    },
    {
      "cell_type": "code",
      "source": [
        "m5 <- as.matrix(x2)"
      ],
      "metadata": {
        "id": "T3f7OfwjJaaI"
      },
      "execution_count": null,
      "outputs": []
    },
    {
      "cell_type": "code",
      "source": [
        "m5"
      ],
      "metadata": {
        "colab": {
          "base_uri": "https://localhost:8080/",
          "height": 449
        },
        "id": "CF5JNchUJhZd",
        "outputId": "71671cd5-53b0-4abd-9824-53f5e8afe577"
      },
      "execution_count": null,
      "outputs": [
        {
          "output_type": "display_data",
          "data": {
            "text/plain": [
              "      [,1]\n",
              " [1,] 1.0 \n",
              " [2,] 1.1 \n",
              " [3,] 1.2 \n",
              " [4,] 1.3 \n",
              " [5,] 1.4 \n",
              " [6,] 1.5 \n",
              " [7,] 1.6 \n",
              " [8,] 1.7 \n",
              " [9,] 1.8 \n",
              "[10,] 1.9 \n",
              "[11,] 2.0 "
            ],
            "text/latex": "A matrix: 11 × 1 of type dbl\n\\begin{tabular}{l}\n\t 1.0\\\\\n\t 1.1\\\\\n\t 1.2\\\\\n\t 1.3\\\\\n\t 1.4\\\\\n\t 1.5\\\\\n\t 1.6\\\\\n\t 1.7\\\\\n\t 1.8\\\\\n\t 1.9\\\\\n\t 2.0\\\\\n\\end{tabular}\n",
            "text/markdown": "\nA matrix: 11 × 1 of type dbl\n\n| 1.0 |\n| 1.1 |\n| 1.2 |\n| 1.3 |\n| 1.4 |\n| 1.5 |\n| 1.6 |\n| 1.7 |\n| 1.8 |\n| 1.9 |\n| 2.0 |\n\n",
            "text/html": [
              "<table class=\"dataframe\">\n",
              "<caption>A matrix: 11 × 1 of type dbl</caption>\n",
              "<tbody>\n",
              "\t<tr><td>1.0</td></tr>\n",
              "\t<tr><td>1.1</td></tr>\n",
              "\t<tr><td>1.2</td></tr>\n",
              "\t<tr><td>1.3</td></tr>\n",
              "\t<tr><td>1.4</td></tr>\n",
              "\t<tr><td>1.5</td></tr>\n",
              "\t<tr><td>1.6</td></tr>\n",
              "\t<tr><td>1.7</td></tr>\n",
              "\t<tr><td>1.8</td></tr>\n",
              "\t<tr><td>1.9</td></tr>\n",
              "\t<tr><td>2.0</td></tr>\n",
              "</tbody>\n",
              "</table>\n"
            ]
          },
          "metadata": {}
        }
      ]
    },
    {
      "cell_type": "code",
      "source": [
        "letters"
      ],
      "metadata": {
        "colab": {
          "base_uri": "https://localhost:8080/",
          "height": 34
        },
        "id": "1ZRq_QmqKE7X",
        "outputId": "6effe219-c805-4463-9f4f-1f6f6aae9a17"
      },
      "execution_count": null,
      "outputs": [
        {
          "output_type": "display_data",
          "data": {
            "text/plain": [
              " [1] \"a\" \"b\" \"c\" \"d\" \"e\" \"f\" \"g\" \"h\" \"i\" \"j\" \"k\" \"l\" \"m\" \"n\" \"o\" \"p\" \"q\" \"r\" \"s\"\n",
              "[20] \"t\" \"u\" \"v\" \"w\" \"x\" \"y\" \"z\""
            ],
            "text/latex": "\\begin{enumerate*}\n\\item 'a'\n\\item 'b'\n\\item 'c'\n\\item 'd'\n\\item 'e'\n\\item 'f'\n\\item 'g'\n\\item 'h'\n\\item 'i'\n\\item 'j'\n\\item 'k'\n\\item 'l'\n\\item 'm'\n\\item 'n'\n\\item 'o'\n\\item 'p'\n\\item 'q'\n\\item 'r'\n\\item 's'\n\\item 't'\n\\item 'u'\n\\item 'v'\n\\item 'w'\n\\item 'x'\n\\item 'y'\n\\item 'z'\n\\end{enumerate*}\n",
            "text/markdown": "1. 'a'\n2. 'b'\n3. 'c'\n4. 'd'\n5. 'e'\n6. 'f'\n7. 'g'\n8. 'h'\n9. 'i'\n10. 'j'\n11. 'k'\n12. 'l'\n13. 'm'\n14. 'n'\n15. 'o'\n16. 'p'\n17. 'q'\n18. 'r'\n19. 's'\n20. 't'\n21. 'u'\n22. 'v'\n23. 'w'\n24. 'x'\n25. 'y'\n26. 'z'\n\n\n",
            "text/html": [
              "<style>\n",
              ".list-inline {list-style: none; margin:0; padding: 0}\n",
              ".list-inline>li {display: inline-block}\n",
              ".list-inline>li:not(:last-child)::after {content: \"\\00b7\"; padding: 0 .5ex}\n",
              "</style>\n",
              "<ol class=list-inline><li>'a'</li><li>'b'</li><li>'c'</li><li>'d'</li><li>'e'</li><li>'f'</li><li>'g'</li><li>'h'</li><li>'i'</li><li>'j'</li><li>'k'</li><li>'l'</li><li>'m'</li><li>'n'</li><li>'o'</li><li>'p'</li><li>'q'</li><li>'r'</li><li>'s'</li><li>'t'</li><li>'u'</li><li>'v'</li><li>'w'</li><li>'x'</li><li>'y'</li><li>'z'</li></ol>\n"
            ]
          },
          "metadata": {}
        }
      ]
    },
    {
      "cell_type": "code",
      "source": [
        "m6 <- matrix(letters[1:16], ncol=4)"
      ],
      "metadata": {
        "id": "K3DVY5YfKORX"
      },
      "execution_count": null,
      "outputs": []
    },
    {
      "cell_type": "code",
      "source": [
        "m6"
      ],
      "metadata": {
        "colab": {
          "base_uri": "https://localhost:8080/",
          "height": 177
        },
        "id": "H-qF3kOuKXo9",
        "outputId": "7d2c3653-b247-46c9-fe52-321b34357b89"
      },
      "execution_count": null,
      "outputs": [
        {
          "output_type": "display_data",
          "data": {
            "text/plain": [
              "     [,1] [,2] [,3] [,4]\n",
              "[1,] a    e    i    m   \n",
              "[2,] b    f    j    n   \n",
              "[3,] c    g    k    o   \n",
              "[4,] d    h    l    p   "
            ],
            "text/latex": "A matrix: 4 × 4 of type chr\n\\begin{tabular}{llll}\n\t a & e & i & m\\\\\n\t b & f & j & n\\\\\n\t c & g & k & o\\\\\n\t d & h & l & p\\\\\n\\end{tabular}\n",
            "text/markdown": "\nA matrix: 4 × 4 of type chr\n\n| a | e | i | m |\n| b | f | j | n |\n| c | g | k | o |\n| d | h | l | p |\n\n",
            "text/html": [
              "<table class=\"dataframe\">\n",
              "<caption>A matrix: 4 × 4 of type chr</caption>\n",
              "<tbody>\n",
              "\t<tr><td>a</td><td>e</td><td>i</td><td>m</td></tr>\n",
              "\t<tr><td>b</td><td>f</td><td>j</td><td>n</td></tr>\n",
              "\t<tr><td>c</td><td>g</td><td>k</td><td>o</td></tr>\n",
              "\t<tr><td>d</td><td>h</td><td>l</td><td>p</td></tr>\n",
              "</tbody>\n",
              "</table>\n"
            ]
          },
          "metadata": {}
        }
      ]
    },
    {
      "cell_type": "code",
      "source": [
        "solve(m6)"
      ],
      "metadata": {
        "colab": {
          "base_uri": "https://localhost:8080/",
          "height": 152
        },
        "id": "v2eIoAQsKZd0",
        "outputId": "21d3f884-1c25-421b-cd42-4036b995b5b6"
      },
      "execution_count": null,
      "outputs": [
        {
          "output_type": "error",
          "ename": "ERROR",
          "evalue": "ignored",
          "traceback": [
            "Error in solve.default(m6): 'a' must be a numeric matrix\nTraceback:\n",
            "1. solve(m6)",
            "2. solve.default(m6)"
          ]
        }
      ]
    },
    {
      "cell_type": "markdown",
      "source": [
        "# Data Frames"
      ],
      "metadata": {
        "id": "04Mbype2J9lO"
      }
    },
    {
      "cell_type": "code",
      "source": [
        "x1 = 1:16 \n",
        "x2 = letters[1:16]\n",
        "x3 = rnorm(16)"
      ],
      "metadata": {
        "id": "5U3WIiJVJv5K"
      },
      "execution_count": null,
      "outputs": []
    },
    {
      "cell_type": "code",
      "source": [
        "x1"
      ],
      "metadata": {
        "colab": {
          "base_uri": "https://localhost:8080/",
          "height": 34
        },
        "id": "W5-lhqUWKsUk",
        "outputId": "f4b92e44-2c39-4f46-bd9b-0b2c18343949"
      },
      "execution_count": null,
      "outputs": [
        {
          "output_type": "display_data",
          "data": {
            "text/plain": [
              " [1]  1  2  3  4  5  6  7  8  9 10 11 12 13 14 15 16"
            ],
            "text/latex": "\\begin{enumerate*}\n\\item 1\n\\item 2\n\\item 3\n\\item 4\n\\item 5\n\\item 6\n\\item 7\n\\item 8\n\\item 9\n\\item 10\n\\item 11\n\\item 12\n\\item 13\n\\item 14\n\\item 15\n\\item 16\n\\end{enumerate*}\n",
            "text/markdown": "1. 1\n2. 2\n3. 3\n4. 4\n5. 5\n6. 6\n7. 7\n8. 8\n9. 9\n10. 10\n11. 11\n12. 12\n13. 13\n14. 14\n15. 15\n16. 16\n\n\n",
            "text/html": [
              "<style>\n",
              ".list-inline {list-style: none; margin:0; padding: 0}\n",
              ".list-inline>li {display: inline-block}\n",
              ".list-inline>li:not(:last-child)::after {content: \"\\00b7\"; padding: 0 .5ex}\n",
              "</style>\n",
              "<ol class=list-inline><li>1</li><li>2</li><li>3</li><li>4</li><li>5</li><li>6</li><li>7</li><li>8</li><li>9</li><li>10</li><li>11</li><li>12</li><li>13</li><li>14</li><li>15</li><li>16</li></ol>\n"
            ]
          },
          "metadata": {}
        }
      ]
    },
    {
      "cell_type": "code",
      "source": [
        "x2"
      ],
      "metadata": {
        "colab": {
          "base_uri": "https://localhost:8080/",
          "height": 34
        },
        "id": "YHnKOuHcKuXz",
        "outputId": "ae17172a-f839-4d81-b1fd-eaac1d34c434"
      },
      "execution_count": null,
      "outputs": [
        {
          "output_type": "display_data",
          "data": {
            "text/plain": [
              " [1] \"a\" \"b\" \"c\" \"d\" \"e\" \"f\" \"g\" \"h\" \"i\" \"j\" \"k\" \"l\" \"m\" \"n\" \"o\" \"p\""
            ],
            "text/latex": "\\begin{enumerate*}\n\\item 'a'\n\\item 'b'\n\\item 'c'\n\\item 'd'\n\\item 'e'\n\\item 'f'\n\\item 'g'\n\\item 'h'\n\\item 'i'\n\\item 'j'\n\\item 'k'\n\\item 'l'\n\\item 'm'\n\\item 'n'\n\\item 'o'\n\\item 'p'\n\\end{enumerate*}\n",
            "text/markdown": "1. 'a'\n2. 'b'\n3. 'c'\n4. 'd'\n5. 'e'\n6. 'f'\n7. 'g'\n8. 'h'\n9. 'i'\n10. 'j'\n11. 'k'\n12. 'l'\n13. 'm'\n14. 'n'\n15. 'o'\n16. 'p'\n\n\n",
            "text/html": [
              "<style>\n",
              ".list-inline {list-style: none; margin:0; padding: 0}\n",
              ".list-inline>li {display: inline-block}\n",
              ".list-inline>li:not(:last-child)::after {content: \"\\00b7\"; padding: 0 .5ex}\n",
              "</style>\n",
              "<ol class=list-inline><li>'a'</li><li>'b'</li><li>'c'</li><li>'d'</li><li>'e'</li><li>'f'</li><li>'g'</li><li>'h'</li><li>'i'</li><li>'j'</li><li>'k'</li><li>'l'</li><li>'m'</li><li>'n'</li><li>'o'</li><li>'p'</li></ol>\n"
            ]
          },
          "metadata": {}
        }
      ]
    },
    {
      "cell_type": "code",
      "source": [
        "x3"
      ],
      "metadata": {
        "colab": {
          "base_uri": "https://localhost:8080/",
          "height": 69
        },
        "id": "KhBSnunnLZ4p",
        "outputId": "d3d70369-8d68-4258-8c99-420c4854b449"
      },
      "execution_count": null,
      "outputs": [
        {
          "output_type": "display_data",
          "data": {
            "text/plain": [
              " [1]  0.1271303 -0.2107701 -0.4246119 -0.1401276 -1.1907096  0.2520309\n",
              " [7]  0.9206727  1.2738698  2.1257802 -0.9826555 -0.2014291  1.0011734\n",
              "[13]  1.0413929  0.7416404  1.0263163 -0.1540825"
            ],
            "text/latex": "\\begin{enumerate*}\n\\item 0.127130310770595\n\\item -0.210770134948294\n\\item -0.424611854426265\n\\item -0.140127592824036\n\\item -1.19070956347125\n\\item 0.252030910355757\n\\item 0.92067270567517\n\\item 1.27386976917016\n\\item 2.12578023584466\n\\item -0.982655451449009\n\\item -0.201429089572054\n\\item 1.00117335546213\n\\item 1.04139287763188\n\\item 0.741640352290426\n\\item 1.02631632928735\n\\item -0.154082514375102\n\\end{enumerate*}\n",
            "text/markdown": "1. 0.127130310770595\n2. -0.210770134948294\n3. -0.424611854426265\n4. -0.140127592824036\n5. -1.19070956347125\n6. 0.252030910355757\n7. 0.92067270567517\n8. 1.27386976917016\n9. 2.12578023584466\n10. -0.982655451449009\n11. -0.201429089572054\n12. 1.00117335546213\n13. 1.04139287763188\n14. 0.741640352290426\n15. 1.02631632928735\n16. -0.154082514375102\n\n\n",
            "text/html": [
              "<style>\n",
              ".list-inline {list-style: none; margin:0; padding: 0}\n",
              ".list-inline>li {display: inline-block}\n",
              ".list-inline>li:not(:last-child)::after {content: \"\\00b7\"; padding: 0 .5ex}\n",
              "</style>\n",
              "<ol class=list-inline><li>0.127130310770595</li><li>-0.210770134948294</li><li>-0.424611854426265</li><li>-0.140127592824036</li><li>-1.19070956347125</li><li>0.252030910355757</li><li>0.92067270567517</li><li>1.27386976917016</li><li>2.12578023584466</li><li>-0.982655451449009</li><li>-0.201429089572054</li><li>1.00117335546213</li><li>1.04139287763188</li><li>0.741640352290426</li><li>1.02631632928735</li><li>-0.154082514375102</li></ol>\n"
            ]
          },
          "metadata": {}
        }
      ]
    },
    {
      "cell_type": "code",
      "source": [
        "df1 <- data.frame(numeros = x1, letras = x2, normales=x3)"
      ],
      "metadata": {
        "id": "km9lOc2sKu9z"
      },
      "execution_count": null,
      "outputs": []
    },
    {
      "cell_type": "code",
      "source": [
        "df1"
      ],
      "metadata": {
        "colab": {
          "base_uri": "https://localhost:8080/",
          "height": 600
        },
        "id": "JNOPAHewLGvo",
        "outputId": "f709dd5f-d86f-4080-c5a0-a413bf7cca05"
      },
      "execution_count": null,
      "outputs": [
        {
          "output_type": "display_data",
          "data": {
            "text/plain": [
              "   numeros letras normales  \n",
              "1   1      a       0.1271303\n",
              "2   2      b      -0.2107701\n",
              "3   3      c      -0.4246119\n",
              "4   4      d      -0.1401276\n",
              "5   5      e      -1.1907096\n",
              "6   6      f       0.2520309\n",
              "7   7      g       0.9206727\n",
              "8   8      h       1.2738698\n",
              "9   9      i       2.1257802\n",
              "10 10      j      -0.9826555\n",
              "11 11      k      -0.2014291\n",
              "12 12      l       1.0011734\n",
              "13 13      m       1.0413929\n",
              "14 14      n       0.7416404\n",
              "15 15      o       1.0263163\n",
              "16 16      p      -0.1540825"
            ],
            "text/latex": "A data.frame: 16 × 3\n\\begin{tabular}{lll}\n numeros & letras & normales\\\\\n <int> & <chr> & <dbl>\\\\\n\\hline\n\t  1 & a &  0.1271303\\\\\n\t  2 & b & -0.2107701\\\\\n\t  3 & c & -0.4246119\\\\\n\t  4 & d & -0.1401276\\\\\n\t  5 & e & -1.1907096\\\\\n\t  6 & f &  0.2520309\\\\\n\t  7 & g &  0.9206727\\\\\n\t  8 & h &  1.2738698\\\\\n\t  9 & i &  2.1257802\\\\\n\t 10 & j & -0.9826555\\\\\n\t 11 & k & -0.2014291\\\\\n\t 12 & l &  1.0011734\\\\\n\t 13 & m &  1.0413929\\\\\n\t 14 & n &  0.7416404\\\\\n\t 15 & o &  1.0263163\\\\\n\t 16 & p & -0.1540825\\\\\n\\end{tabular}\n",
            "text/markdown": "\nA data.frame: 16 × 3\n\n| numeros &lt;int&gt; | letras &lt;chr&gt; | normales &lt;dbl&gt; |\n|---|---|---|\n|  1 | a |  0.1271303 |\n|  2 | b | -0.2107701 |\n|  3 | c | -0.4246119 |\n|  4 | d | -0.1401276 |\n|  5 | e | -1.1907096 |\n|  6 | f |  0.2520309 |\n|  7 | g |  0.9206727 |\n|  8 | h |  1.2738698 |\n|  9 | i |  2.1257802 |\n| 10 | j | -0.9826555 |\n| 11 | k | -0.2014291 |\n| 12 | l |  1.0011734 |\n| 13 | m |  1.0413929 |\n| 14 | n |  0.7416404 |\n| 15 | o |  1.0263163 |\n| 16 | p | -0.1540825 |\n\n",
            "text/html": [
              "<table class=\"dataframe\">\n",
              "<caption>A data.frame: 16 × 3</caption>\n",
              "<thead>\n",
              "\t<tr><th scope=col>numeros</th><th scope=col>letras</th><th scope=col>normales</th></tr>\n",
              "\t<tr><th scope=col>&lt;int&gt;</th><th scope=col>&lt;chr&gt;</th><th scope=col>&lt;dbl&gt;</th></tr>\n",
              "</thead>\n",
              "<tbody>\n",
              "\t<tr><td> 1</td><td>a</td><td> 0.1271303</td></tr>\n",
              "\t<tr><td> 2</td><td>b</td><td>-0.2107701</td></tr>\n",
              "\t<tr><td> 3</td><td>c</td><td>-0.4246119</td></tr>\n",
              "\t<tr><td> 4</td><td>d</td><td>-0.1401276</td></tr>\n",
              "\t<tr><td> 5</td><td>e</td><td>-1.1907096</td></tr>\n",
              "\t<tr><td> 6</td><td>f</td><td> 0.2520309</td></tr>\n",
              "\t<tr><td> 7</td><td>g</td><td> 0.9206727</td></tr>\n",
              "\t<tr><td> 8</td><td>h</td><td> 1.2738698</td></tr>\n",
              "\t<tr><td> 9</td><td>i</td><td> 2.1257802</td></tr>\n",
              "\t<tr><td>10</td><td>j</td><td>-0.9826555</td></tr>\n",
              "\t<tr><td>11</td><td>k</td><td>-0.2014291</td></tr>\n",
              "\t<tr><td>12</td><td>l</td><td> 1.0011734</td></tr>\n",
              "\t<tr><td>13</td><td>m</td><td> 1.0413929</td></tr>\n",
              "\t<tr><td>14</td><td>n</td><td> 0.7416404</td></tr>\n",
              "\t<tr><td>15</td><td>o</td><td> 1.0263163</td></tr>\n",
              "\t<tr><td>16</td><td>p</td><td>-0.1540825</td></tr>\n",
              "</tbody>\n",
              "</table>\n"
            ]
          },
          "metadata": {}
        }
      ]
    },
    {
      "cell_type": "code",
      "source": [
        "df1[,\"numeros\"]"
      ],
      "metadata": {
        "colab": {
          "base_uri": "https://localhost:8080/",
          "height": 34
        },
        "id": "zxr3mG48LHfm",
        "outputId": "bf4635d2-3ae4-4757-ce17-b4fb74a66336"
      },
      "execution_count": null,
      "outputs": [
        {
          "output_type": "display_data",
          "data": {
            "text/plain": [
              " [1]  1  2  3  4  5  6  7  8  9 10 11 12 13 14 15 16"
            ],
            "text/latex": "\\begin{enumerate*}\n\\item 1\n\\item 2\n\\item 3\n\\item 4\n\\item 5\n\\item 6\n\\item 7\n\\item 8\n\\item 9\n\\item 10\n\\item 11\n\\item 12\n\\item 13\n\\item 14\n\\item 15\n\\item 16\n\\end{enumerate*}\n",
            "text/markdown": "1. 1\n2. 2\n3. 3\n4. 4\n5. 5\n6. 6\n7. 7\n8. 8\n9. 9\n10. 10\n11. 11\n12. 12\n13. 13\n14. 14\n15. 15\n16. 16\n\n\n",
            "text/html": [
              "<style>\n",
              ".list-inline {list-style: none; margin:0; padding: 0}\n",
              ".list-inline>li {display: inline-block}\n",
              ".list-inline>li:not(:last-child)::after {content: \"\\00b7\"; padding: 0 .5ex}\n",
              "</style>\n",
              "<ol class=list-inline><li>1</li><li>2</li><li>3</li><li>4</li><li>5</li><li>6</li><li>7</li><li>8</li><li>9</li><li>10</li><li>11</li><li>12</li><li>13</li><li>14</li><li>15</li><li>16</li></ol>\n"
            ]
          },
          "metadata": {}
        }
      ]
    },
    {
      "cell_type": "code",
      "source": [
        "df1[,c(\"numeros\", \"normales\")]"
      ],
      "metadata": {
        "colab": {
          "base_uri": "https://localhost:8080/",
          "height": 600
        },
        "id": "9-OXT4OALVNR",
        "outputId": "2f2c6d15-546b-48c8-f55e-98bc9ac75b39"
      },
      "execution_count": null,
      "outputs": [
        {
          "output_type": "display_data",
          "data": {
            "text/plain": [
              "   numeros normales  \n",
              "1   1       0.1271303\n",
              "2   2      -0.2107701\n",
              "3   3      -0.4246119\n",
              "4   4      -0.1401276\n",
              "5   5      -1.1907096\n",
              "6   6       0.2520309\n",
              "7   7       0.9206727\n",
              "8   8       1.2738698\n",
              "9   9       2.1257802\n",
              "10 10      -0.9826555\n",
              "11 11      -0.2014291\n",
              "12 12       1.0011734\n",
              "13 13       1.0413929\n",
              "14 14       0.7416404\n",
              "15 15       1.0263163\n",
              "16 16      -0.1540825"
            ],
            "text/latex": "A data.frame: 16 × 2\n\\begin{tabular}{ll}\n numeros & normales\\\\\n <int> & <dbl>\\\\\n\\hline\n\t  1 &  0.1271303\\\\\n\t  2 & -0.2107701\\\\\n\t  3 & -0.4246119\\\\\n\t  4 & -0.1401276\\\\\n\t  5 & -1.1907096\\\\\n\t  6 &  0.2520309\\\\\n\t  7 &  0.9206727\\\\\n\t  8 &  1.2738698\\\\\n\t  9 &  2.1257802\\\\\n\t 10 & -0.9826555\\\\\n\t 11 & -0.2014291\\\\\n\t 12 &  1.0011734\\\\\n\t 13 &  1.0413929\\\\\n\t 14 &  0.7416404\\\\\n\t 15 &  1.0263163\\\\\n\t 16 & -0.1540825\\\\\n\\end{tabular}\n",
            "text/markdown": "\nA data.frame: 16 × 2\n\n| numeros &lt;int&gt; | normales &lt;dbl&gt; |\n|---|---|\n|  1 |  0.1271303 |\n|  2 | -0.2107701 |\n|  3 | -0.4246119 |\n|  4 | -0.1401276 |\n|  5 | -1.1907096 |\n|  6 |  0.2520309 |\n|  7 |  0.9206727 |\n|  8 |  1.2738698 |\n|  9 |  2.1257802 |\n| 10 | -0.9826555 |\n| 11 | -0.2014291 |\n| 12 |  1.0011734 |\n| 13 |  1.0413929 |\n| 14 |  0.7416404 |\n| 15 |  1.0263163 |\n| 16 | -0.1540825 |\n\n",
            "text/html": [
              "<table class=\"dataframe\">\n",
              "<caption>A data.frame: 16 × 2</caption>\n",
              "<thead>\n",
              "\t<tr><th scope=col>numeros</th><th scope=col>normales</th></tr>\n",
              "\t<tr><th scope=col>&lt;int&gt;</th><th scope=col>&lt;dbl&gt;</th></tr>\n",
              "</thead>\n",
              "<tbody>\n",
              "\t<tr><td> 1</td><td> 0.1271303</td></tr>\n",
              "\t<tr><td> 2</td><td>-0.2107701</td></tr>\n",
              "\t<tr><td> 3</td><td>-0.4246119</td></tr>\n",
              "\t<tr><td> 4</td><td>-0.1401276</td></tr>\n",
              "\t<tr><td> 5</td><td>-1.1907096</td></tr>\n",
              "\t<tr><td> 6</td><td> 0.2520309</td></tr>\n",
              "\t<tr><td> 7</td><td> 0.9206727</td></tr>\n",
              "\t<tr><td> 8</td><td> 1.2738698</td></tr>\n",
              "\t<tr><td> 9</td><td> 2.1257802</td></tr>\n",
              "\t<tr><td>10</td><td>-0.9826555</td></tr>\n",
              "\t<tr><td>11</td><td>-0.2014291</td></tr>\n",
              "\t<tr><td>12</td><td> 1.0011734</td></tr>\n",
              "\t<tr><td>13</td><td> 1.0413929</td></tr>\n",
              "\t<tr><td>14</td><td> 0.7416404</td></tr>\n",
              "\t<tr><td>15</td><td> 1.0263163</td></tr>\n",
              "\t<tr><td>16</td><td>-0.1540825</td></tr>\n",
              "</tbody>\n",
              "</table>\n"
            ]
          },
          "metadata": {}
        }
      ]
    },
    {
      "cell_type": "code",
      "source": [
        "df2 <- df1[,c(\"numeros\", \"normales\")]"
      ],
      "metadata": {
        "id": "ieIknHOBLxxU"
      },
      "execution_count": null,
      "outputs": []
    },
    {
      "cell_type": "code",
      "source": [
        "df2"
      ],
      "metadata": {
        "colab": {
          "base_uri": "https://localhost:8080/",
          "height": 600
        },
        "id": "Vqr4mBVlL-o-",
        "outputId": "a80c69d4-e483-4438-9857-41fac9d8573a"
      },
      "execution_count": null,
      "outputs": [
        {
          "output_type": "display_data",
          "data": {
            "text/plain": [
              "   numeros normales  \n",
              "1   1       0.1271303\n",
              "2   2      -0.2107701\n",
              "3   3      -0.4246119\n",
              "4   4      -0.1401276\n",
              "5   5      -1.1907096\n",
              "6   6       0.2520309\n",
              "7   7       0.9206727\n",
              "8   8       1.2738698\n",
              "9   9       2.1257802\n",
              "10 10      -0.9826555\n",
              "11 11      -0.2014291\n",
              "12 12       1.0011734\n",
              "13 13       1.0413929\n",
              "14 14       0.7416404\n",
              "15 15       1.0263163\n",
              "16 16      -0.1540825"
            ],
            "text/latex": "A data.frame: 16 × 2\n\\begin{tabular}{ll}\n numeros & normales\\\\\n <int> & <dbl>\\\\\n\\hline\n\t  1 &  0.1271303\\\\\n\t  2 & -0.2107701\\\\\n\t  3 & -0.4246119\\\\\n\t  4 & -0.1401276\\\\\n\t  5 & -1.1907096\\\\\n\t  6 &  0.2520309\\\\\n\t  7 &  0.9206727\\\\\n\t  8 &  1.2738698\\\\\n\t  9 &  2.1257802\\\\\n\t 10 & -0.9826555\\\\\n\t 11 & -0.2014291\\\\\n\t 12 &  1.0011734\\\\\n\t 13 &  1.0413929\\\\\n\t 14 &  0.7416404\\\\\n\t 15 &  1.0263163\\\\\n\t 16 & -0.1540825\\\\\n\\end{tabular}\n",
            "text/markdown": "\nA data.frame: 16 × 2\n\n| numeros &lt;int&gt; | normales &lt;dbl&gt; |\n|---|---|\n|  1 |  0.1271303 |\n|  2 | -0.2107701 |\n|  3 | -0.4246119 |\n|  4 | -0.1401276 |\n|  5 | -1.1907096 |\n|  6 |  0.2520309 |\n|  7 |  0.9206727 |\n|  8 |  1.2738698 |\n|  9 |  2.1257802 |\n| 10 | -0.9826555 |\n| 11 | -0.2014291 |\n| 12 |  1.0011734 |\n| 13 |  1.0413929 |\n| 14 |  0.7416404 |\n| 15 |  1.0263163 |\n| 16 | -0.1540825 |\n\n",
            "text/html": [
              "<table class=\"dataframe\">\n",
              "<caption>A data.frame: 16 × 2</caption>\n",
              "<thead>\n",
              "\t<tr><th scope=col>numeros</th><th scope=col>normales</th></tr>\n",
              "\t<tr><th scope=col>&lt;int&gt;</th><th scope=col>&lt;dbl&gt;</th></tr>\n",
              "</thead>\n",
              "<tbody>\n",
              "\t<tr><td> 1</td><td> 0.1271303</td></tr>\n",
              "\t<tr><td> 2</td><td>-0.2107701</td></tr>\n",
              "\t<tr><td> 3</td><td>-0.4246119</td></tr>\n",
              "\t<tr><td> 4</td><td>-0.1401276</td></tr>\n",
              "\t<tr><td> 5</td><td>-1.1907096</td></tr>\n",
              "\t<tr><td> 6</td><td> 0.2520309</td></tr>\n",
              "\t<tr><td> 7</td><td> 0.9206727</td></tr>\n",
              "\t<tr><td> 8</td><td> 1.2738698</td></tr>\n",
              "\t<tr><td> 9</td><td> 2.1257802</td></tr>\n",
              "\t<tr><td>10</td><td>-0.9826555</td></tr>\n",
              "\t<tr><td>11</td><td>-0.2014291</td></tr>\n",
              "\t<tr><td>12</td><td> 1.0011734</td></tr>\n",
              "\t<tr><td>13</td><td> 1.0413929</td></tr>\n",
              "\t<tr><td>14</td><td> 0.7416404</td></tr>\n",
              "\t<tr><td>15</td><td> 1.0263163</td></tr>\n",
              "\t<tr><td>16</td><td>-0.1540825</td></tr>\n",
              "</tbody>\n",
              "</table>\n"
            ]
          },
          "metadata": {}
        }
      ]
    },
    {
      "cell_type": "code",
      "source": [
        "as.matrix(df2)"
      ],
      "metadata": {
        "colab": {
          "base_uri": "https://localhost:8080/",
          "height": 586
        },
        "id": "a1KSYJDFL_Km",
        "outputId": "51b9fcb5-8de8-44e3-c634-17e62051a9c6"
      },
      "execution_count": null,
      "outputs": [
        {
          "output_type": "display_data",
          "data": {
            "text/plain": [
              "      numeros normales  \n",
              " [1,]  1       0.1271303\n",
              " [2,]  2      -0.2107701\n",
              " [3,]  3      -0.4246119\n",
              " [4,]  4      -0.1401276\n",
              " [5,]  5      -1.1907096\n",
              " [6,]  6       0.2520309\n",
              " [7,]  7       0.9206727\n",
              " [8,]  8       1.2738698\n",
              " [9,]  9       2.1257802\n",
              "[10,] 10      -0.9826555\n",
              "[11,] 11      -0.2014291\n",
              "[12,] 12       1.0011734\n",
              "[13,] 13       1.0413929\n",
              "[14,] 14       0.7416404\n",
              "[15,] 15       1.0263163\n",
              "[16,] 16      -0.1540825"
            ],
            "text/latex": "A matrix: 16 × 2 of type dbl\n\\begin{tabular}{ll}\n numeros & normales\\\\\n\\hline\n\t  1 &  0.1271303\\\\\n\t  2 & -0.2107701\\\\\n\t  3 & -0.4246119\\\\\n\t  4 & -0.1401276\\\\\n\t  5 & -1.1907096\\\\\n\t  6 &  0.2520309\\\\\n\t  7 &  0.9206727\\\\\n\t  8 &  1.2738698\\\\\n\t  9 &  2.1257802\\\\\n\t 10 & -0.9826555\\\\\n\t 11 & -0.2014291\\\\\n\t 12 &  1.0011734\\\\\n\t 13 &  1.0413929\\\\\n\t 14 &  0.7416404\\\\\n\t 15 &  1.0263163\\\\\n\t 16 & -0.1540825\\\\\n\\end{tabular}\n",
            "text/markdown": "\nA matrix: 16 × 2 of type dbl\n\n| numeros | normales |\n|---|---|\n|  1 |  0.1271303 |\n|  2 | -0.2107701 |\n|  3 | -0.4246119 |\n|  4 | -0.1401276 |\n|  5 | -1.1907096 |\n|  6 |  0.2520309 |\n|  7 |  0.9206727 |\n|  8 |  1.2738698 |\n|  9 |  2.1257802 |\n| 10 | -0.9826555 |\n| 11 | -0.2014291 |\n| 12 |  1.0011734 |\n| 13 |  1.0413929 |\n| 14 |  0.7416404 |\n| 15 |  1.0263163 |\n| 16 | -0.1540825 |\n\n",
            "text/html": [
              "<table class=\"dataframe\">\n",
              "<caption>A matrix: 16 × 2 of type dbl</caption>\n",
              "<thead>\n",
              "\t<tr><th scope=col>numeros</th><th scope=col>normales</th></tr>\n",
              "</thead>\n",
              "<tbody>\n",
              "\t<tr><td> 1</td><td> 0.1271303</td></tr>\n",
              "\t<tr><td> 2</td><td>-0.2107701</td></tr>\n",
              "\t<tr><td> 3</td><td>-0.4246119</td></tr>\n",
              "\t<tr><td> 4</td><td>-0.1401276</td></tr>\n",
              "\t<tr><td> 5</td><td>-1.1907096</td></tr>\n",
              "\t<tr><td> 6</td><td> 0.2520309</td></tr>\n",
              "\t<tr><td> 7</td><td> 0.9206727</td></tr>\n",
              "\t<tr><td> 8</td><td> 1.2738698</td></tr>\n",
              "\t<tr><td> 9</td><td> 2.1257802</td></tr>\n",
              "\t<tr><td>10</td><td>-0.9826555</td></tr>\n",
              "\t<tr><td>11</td><td>-0.2014291</td></tr>\n",
              "\t<tr><td>12</td><td> 1.0011734</td></tr>\n",
              "\t<tr><td>13</td><td> 1.0413929</td></tr>\n",
              "\t<tr><td>14</td><td> 0.7416404</td></tr>\n",
              "\t<tr><td>15</td><td> 1.0263163</td></tr>\n",
              "\t<tr><td>16</td><td>-0.1540825</td></tr>\n",
              "</tbody>\n",
              "</table>\n"
            ]
          },
          "metadata": {}
        }
      ]
    },
    {
      "cell_type": "code",
      "source": [
        "df1$letras"
      ],
      "metadata": {
        "colab": {
          "base_uri": "https://localhost:8080/",
          "height": 34
        },
        "id": "Q9q24OycMC0e",
        "outputId": "3ed0378a-ba3f-479c-f224-630e1b2ce507"
      },
      "execution_count": null,
      "outputs": [
        {
          "output_type": "display_data",
          "data": {
            "text/plain": [
              " [1] \"a\" \"b\" \"c\" \"d\" \"e\" \"f\" \"g\" \"h\" \"i\" \"j\" \"k\" \"l\" \"m\" \"n\" \"o\" \"p\""
            ],
            "text/latex": "\\begin{enumerate*}\n\\item 'a'\n\\item 'b'\n\\item 'c'\n\\item 'd'\n\\item 'e'\n\\item 'f'\n\\item 'g'\n\\item 'h'\n\\item 'i'\n\\item 'j'\n\\item 'k'\n\\item 'l'\n\\item 'm'\n\\item 'n'\n\\item 'o'\n\\item 'p'\n\\end{enumerate*}\n",
            "text/markdown": "1. 'a'\n2. 'b'\n3. 'c'\n4. 'd'\n5. 'e'\n6. 'f'\n7. 'g'\n8. 'h'\n9. 'i'\n10. 'j'\n11. 'k'\n12. 'l'\n13. 'm'\n14. 'n'\n15. 'o'\n16. 'p'\n\n\n",
            "text/html": [
              "<style>\n",
              ".list-inline {list-style: none; margin:0; padding: 0}\n",
              ".list-inline>li {display: inline-block}\n",
              ".list-inline>li:not(:last-child)::after {content: \"\\00b7\"; padding: 0 .5ex}\n",
              "</style>\n",
              "<ol class=list-inline><li>'a'</li><li>'b'</li><li>'c'</li><li>'d'</li><li>'e'</li><li>'f'</li><li>'g'</li><li>'h'</li><li>'i'</li><li>'j'</li><li>'k'</li><li>'l'</li><li>'m'</li><li>'n'</li><li>'o'</li><li>'p'</li></ol>\n"
            ]
          },
          "metadata": {}
        }
      ]
    },
    {
      "cell_type": "code",
      "source": [
        "m6"
      ],
      "metadata": {
        "colab": {
          "base_uri": "https://localhost:8080/",
          "height": 177
        },
        "id": "7nBA6Ur_MK9K",
        "outputId": "14953f20-b74f-46ae-db11-bd9b4788e4a8"
      },
      "execution_count": null,
      "outputs": [
        {
          "output_type": "display_data",
          "data": {
            "text/plain": [
              "     [,1] [,2] [,3] [,4]\n",
              "[1,] a    e    i    m   \n",
              "[2,] b    f    j    n   \n",
              "[3,] c    g    k    o   \n",
              "[4,] d    h    l    p   "
            ],
            "text/latex": "A matrix: 4 × 4 of type chr\n\\begin{tabular}{llll}\n\t a & e & i & m\\\\\n\t b & f & j & n\\\\\n\t c & g & k & o\\\\\n\t d & h & l & p\\\\\n\\end{tabular}\n",
            "text/markdown": "\nA matrix: 4 × 4 of type chr\n\n| a | e | i | m |\n| b | f | j | n |\n| c | g | k | o |\n| d | h | l | p |\n\n",
            "text/html": [
              "<table class=\"dataframe\">\n",
              "<caption>A matrix: 4 × 4 of type chr</caption>\n",
              "<tbody>\n",
              "\t<tr><td>a</td><td>e</td><td>i</td><td>m</td></tr>\n",
              "\t<tr><td>b</td><td>f</td><td>j</td><td>n</td></tr>\n",
              "\t<tr><td>c</td><td>g</td><td>k</td><td>o</td></tr>\n",
              "\t<tr><td>d</td><td>h</td><td>l</td><td>p</td></tr>\n",
              "</tbody>\n",
              "</table>\n"
            ]
          },
          "metadata": {}
        }
      ]
    },
    {
      "cell_type": "code",
      "source": [
        "df3 <- as.data.frame(m6)"
      ],
      "metadata": {
        "id": "0zjcHTmvMUHP"
      },
      "execution_count": null,
      "outputs": []
    },
    {
      "cell_type": "code",
      "source": [
        "df3"
      ],
      "metadata": {
        "colab": {
          "base_uri": "https://localhost:8080/",
          "height": 223
        },
        "id": "wpXadvdiMf9s",
        "outputId": "37b10dc8-ff1d-4976-c99a-ebc6fe857af6"
      },
      "execution_count": null,
      "outputs": [
        {
          "output_type": "display_data",
          "data": {
            "text/plain": [
              "  V1 V2 V3 V4\n",
              "1 a  e  i  m \n",
              "2 b  f  j  n \n",
              "3 c  g  k  o \n",
              "4 d  h  l  p "
            ],
            "text/latex": "A data.frame: 4 × 4\n\\begin{tabular}{llll}\n V1 & V2 & V3 & V4\\\\\n <chr> & <chr> & <chr> & <chr>\\\\\n\\hline\n\t a & e & i & m\\\\\n\t b & f & j & n\\\\\n\t c & g & k & o\\\\\n\t d & h & l & p\\\\\n\\end{tabular}\n",
            "text/markdown": "\nA data.frame: 4 × 4\n\n| V1 &lt;chr&gt; | V2 &lt;chr&gt; | V3 &lt;chr&gt; | V4 &lt;chr&gt; |\n|---|---|---|---|\n| a | e | i | m |\n| b | f | j | n |\n| c | g | k | o |\n| d | h | l | p |\n\n",
            "text/html": [
              "<table class=\"dataframe\">\n",
              "<caption>A data.frame: 4 × 4</caption>\n",
              "<thead>\n",
              "\t<tr><th scope=col>V1</th><th scope=col>V2</th><th scope=col>V3</th><th scope=col>V4</th></tr>\n",
              "\t<tr><th scope=col>&lt;chr&gt;</th><th scope=col>&lt;chr&gt;</th><th scope=col>&lt;chr&gt;</th><th scope=col>&lt;chr&gt;</th></tr>\n",
              "</thead>\n",
              "<tbody>\n",
              "\t<tr><td>a</td><td>e</td><td>i</td><td>m</td></tr>\n",
              "\t<tr><td>b</td><td>f</td><td>j</td><td>n</td></tr>\n",
              "\t<tr><td>c</td><td>g</td><td>k</td><td>o</td></tr>\n",
              "\t<tr><td>d</td><td>h</td><td>l</td><td>p</td></tr>\n",
              "</tbody>\n",
              "</table>\n"
            ]
          },
          "metadata": {}
        }
      ]
    },
    {
      "cell_type": "code",
      "source": [
        "m4"
      ],
      "metadata": {
        "colab": {
          "base_uri": "https://localhost:8080/",
          "height": 209
        },
        "id": "KKhMOTm-Mg4p",
        "outputId": "e75d17d3-e8bf-4154-902d-bc3f0d52c602"
      },
      "execution_count": null,
      "outputs": [
        {
          "output_type": "display_data",
          "data": {
            "text/plain": [
              "   C1 C2 C3 C4\n",
              "R1 1  5   9 13\n",
              "R2 2  6  10 14\n",
              "R3 3  7  11 15\n",
              "R4 4  8  12 16"
            ],
            "text/latex": "A matrix: 4 × 4 of type int\n\\begin{tabular}{r|llll}\n  & C1 & C2 & C3 & C4\\\\\n\\hline\n\tR1 & 1 & 5 &  9 & 13\\\\\n\tR2 & 2 & 6 & 10 & 14\\\\\n\tR3 & 3 & 7 & 11 & 15\\\\\n\tR4 & 4 & 8 & 12 & 16\\\\\n\\end{tabular}\n",
            "text/markdown": "\nA matrix: 4 × 4 of type int\n\n| <!--/--> | C1 | C2 | C3 | C4 |\n|---|---|---|---|---|\n| R1 | 1 | 5 |  9 | 13 |\n| R2 | 2 | 6 | 10 | 14 |\n| R3 | 3 | 7 | 11 | 15 |\n| R4 | 4 | 8 | 12 | 16 |\n\n",
            "text/html": [
              "<table class=\"dataframe\">\n",
              "<caption>A matrix: 4 × 4 of type int</caption>\n",
              "<thead>\n",
              "\t<tr><th></th><th scope=col>C1</th><th scope=col>C2</th><th scope=col>C3</th><th scope=col>C4</th></tr>\n",
              "</thead>\n",
              "<tbody>\n",
              "\t<tr><th scope=row>R1</th><td>1</td><td>5</td><td> 9</td><td>13</td></tr>\n",
              "\t<tr><th scope=row>R2</th><td>2</td><td>6</td><td>10</td><td>14</td></tr>\n",
              "\t<tr><th scope=row>R3</th><td>3</td><td>7</td><td>11</td><td>15</td></tr>\n",
              "\t<tr><th scope=row>R4</th><td>4</td><td>8</td><td>12</td><td>16</td></tr>\n",
              "</tbody>\n",
              "</table>\n"
            ]
          },
          "metadata": {}
        }
      ]
    },
    {
      "cell_type": "code",
      "source": [
        "df4 <- as.data.frame(m4)"
      ],
      "metadata": {
        "id": "_6pPu240M3Y6"
      },
      "execution_count": null,
      "outputs": []
    },
    {
      "cell_type": "code",
      "source": [
        "df4"
      ],
      "metadata": {
        "colab": {
          "base_uri": "https://localhost:8080/",
          "height": 223
        },
        "id": "pGa9FVeZM9Fo",
        "outputId": "b5626882-bfac-4f1b-f200-672a680e13a7"
      },
      "execution_count": null,
      "outputs": [
        {
          "output_type": "display_data",
          "data": {
            "text/plain": [
              "   C1 C2 C3 C4\n",
              "R1 1  5   9 13\n",
              "R2 2  6  10 14\n",
              "R3 3  7  11 15\n",
              "R4 4  8  12 16"
            ],
            "text/latex": "A data.frame: 4 × 4\n\\begin{tabular}{r|llll}\n  & C1 & C2 & C3 & C4\\\\\n  & <int> & <int> & <int> & <int>\\\\\n\\hline\n\tR1 & 1 & 5 &  9 & 13\\\\\n\tR2 & 2 & 6 & 10 & 14\\\\\n\tR3 & 3 & 7 & 11 & 15\\\\\n\tR4 & 4 & 8 & 12 & 16\\\\\n\\end{tabular}\n",
            "text/markdown": "\nA data.frame: 4 × 4\n\n| <!--/--> | C1 &lt;int&gt; | C2 &lt;int&gt; | C3 &lt;int&gt; | C4 &lt;int&gt; |\n|---|---|---|---|---|\n| R1 | 1 | 5 |  9 | 13 |\n| R2 | 2 | 6 | 10 | 14 |\n| R3 | 3 | 7 | 11 | 15 |\n| R4 | 4 | 8 | 12 | 16 |\n\n",
            "text/html": [
              "<table class=\"dataframe\">\n",
              "<caption>A data.frame: 4 × 4</caption>\n",
              "<thead>\n",
              "\t<tr><th></th><th scope=col>C1</th><th scope=col>C2</th><th scope=col>C3</th><th scope=col>C4</th></tr>\n",
              "\t<tr><th></th><th scope=col>&lt;int&gt;</th><th scope=col>&lt;int&gt;</th><th scope=col>&lt;int&gt;</th><th scope=col>&lt;int&gt;</th></tr>\n",
              "</thead>\n",
              "<tbody>\n",
              "\t<tr><th scope=row>R1</th><td>1</td><td>5</td><td> 9</td><td>13</td></tr>\n",
              "\t<tr><th scope=row>R2</th><td>2</td><td>6</td><td>10</td><td>14</td></tr>\n",
              "\t<tr><th scope=row>R3</th><td>3</td><td>7</td><td>11</td><td>15</td></tr>\n",
              "\t<tr><th scope=row>R4</th><td>4</td><td>8</td><td>12</td><td>16</td></tr>\n",
              "</tbody>\n",
              "</table>\n"
            ]
          },
          "metadata": {}
        }
      ]
    },
    {
      "cell_type": "markdown",
      "source": [
        " # Funciones de resumenes de datos"
      ],
      "metadata": {
        "id": "-nxpSCCCPHgN"
      }
    },
    {
      "cell_type": "code",
      "source": [
        "max(df4)"
      ],
      "metadata": {
        "colab": {
          "base_uri": "https://localhost:8080/",
          "height": 34
        },
        "id": "tTX7P3lEM9zM",
        "outputId": "733daa7d-6824-4b23-9796-444201af46cc"
      },
      "execution_count": null,
      "outputs": [
        {
          "output_type": "display_data",
          "data": {
            "text/plain": [
              "[1] 16"
            ],
            "text/latex": "16",
            "text/markdown": "16",
            "text/html": [
              "16"
            ]
          },
          "metadata": {}
        }
      ]
    },
    {
      "cell_type": "code",
      "source": [
        "max(df4$C1)"
      ],
      "metadata": {
        "colab": {
          "base_uri": "https://localhost:8080/",
          "height": 34
        },
        "id": "Pglz1aghPQ1n",
        "outputId": "19d2f373-67dc-43c8-8678-9fb8f0c52fc6"
      },
      "execution_count": null,
      "outputs": [
        {
          "output_type": "display_data",
          "data": {
            "text/plain": [
              "[1] 4"
            ],
            "text/latex": "4",
            "text/markdown": "4",
            "text/html": [
              "4"
            ]
          },
          "metadata": {}
        }
      ]
    },
    {
      "cell_type": "code",
      "source": [
        "max(df3)"
      ],
      "metadata": {
        "colab": {
          "base_uri": "https://localhost:8080/",
          "height": 330
        },
        "id": "2wWMPJZVPVQp",
        "outputId": "a1e52804-7934-414b-bcc5-7256b1fae5f4"
      },
      "execution_count": null,
      "outputs": [
        {
          "output_type": "error",
          "ename": "ERROR",
          "evalue": "ignored",
          "traceback": [
            "Error in FUN(X[[i]], ...): only defined on a data frame with all numeric-alike variables\nTraceback:\n",
            "1. Summary.data.frame(structure(list(V1 = c(\"a\", \"b\", \"c\", \"d\"), \n .     V2 = c(\"e\", \"f\", \"g\", \"h\"), V3 = c(\"i\", \"j\", \"k\", \"l\"), V4 = c(\"m\", \n .     \"n\", \"o\", \"p\")), class = \"data.frame\", row.names = c(NA, \n . -4L)), na.rm = FALSE)",
            "2. lapply(args, function(x) {\n .     x <- as.matrix(x)\n .     if (!is.numeric(x) && !is.logical(x) && !is.complex(x)) \n .         stop(\"only defined on a data frame with all numeric-alike variables\")\n .     x\n . })",
            "3. FUN(X[[i]], ...)",
            "4. stop(\"only defined on a data frame with all numeric-alike variables\")"
          ]
        }
      ]
    },
    {
      "cell_type": "code",
      "source": [
        "head(df1)"
      ],
      "metadata": {
        "colab": {
          "base_uri": "https://localhost:8080/",
          "height": 286
        },
        "id": "caoOLYcHPhVI",
        "outputId": "a8764a8b-9e8b-404a-a2fc-be1f47103be6"
      },
      "execution_count": null,
      "outputs": [
        {
          "output_type": "display_data",
          "data": {
            "text/plain": [
              "  numeros letras normales  \n",
              "1 1       a       0.1271303\n",
              "2 2       b      -0.2107701\n",
              "3 3       c      -0.4246119\n",
              "4 4       d      -0.1401276\n",
              "5 5       e      -1.1907096\n",
              "6 6       f       0.2520309"
            ],
            "text/latex": "A data.frame: 6 × 3\n\\begin{tabular}{r|lll}\n  & numeros & letras & normales\\\\\n  & <int> & <chr> & <dbl>\\\\\n\\hline\n\t1 & 1 & a &  0.1271303\\\\\n\t2 & 2 & b & -0.2107701\\\\\n\t3 & 3 & c & -0.4246119\\\\\n\t4 & 4 & d & -0.1401276\\\\\n\t5 & 5 & e & -1.1907096\\\\\n\t6 & 6 & f &  0.2520309\\\\\n\\end{tabular}\n",
            "text/markdown": "\nA data.frame: 6 × 3\n\n| <!--/--> | numeros &lt;int&gt; | letras &lt;chr&gt; | normales &lt;dbl&gt; |\n|---|---|---|---|\n| 1 | 1 | a |  0.1271303 |\n| 2 | 2 | b | -0.2107701 |\n| 3 | 3 | c | -0.4246119 |\n| 4 | 4 | d | -0.1401276 |\n| 5 | 5 | e | -1.1907096 |\n| 6 | 6 | f |  0.2520309 |\n\n",
            "text/html": [
              "<table class=\"dataframe\">\n",
              "<caption>A data.frame: 6 × 3</caption>\n",
              "<thead>\n",
              "\t<tr><th></th><th scope=col>numeros</th><th scope=col>letras</th><th scope=col>normales</th></tr>\n",
              "\t<tr><th></th><th scope=col>&lt;int&gt;</th><th scope=col>&lt;chr&gt;</th><th scope=col>&lt;dbl&gt;</th></tr>\n",
              "</thead>\n",
              "<tbody>\n",
              "\t<tr><th scope=row>1</th><td>1</td><td>a</td><td> 0.1271303</td></tr>\n",
              "\t<tr><th scope=row>2</th><td>2</td><td>b</td><td>-0.2107701</td></tr>\n",
              "\t<tr><th scope=row>3</th><td>3</td><td>c</td><td>-0.4246119</td></tr>\n",
              "\t<tr><th scope=row>4</th><td>4</td><td>d</td><td>-0.1401276</td></tr>\n",
              "\t<tr><th scope=row>5</th><td>5</td><td>e</td><td>-1.1907096</td></tr>\n",
              "\t<tr><th scope=row>6</th><td>6</td><td>f</td><td> 0.2520309</td></tr>\n",
              "</tbody>\n",
              "</table>\n"
            ]
          },
          "metadata": {}
        }
      ]
    },
    {
      "cell_type": "code",
      "source": [
        "max(df1)"
      ],
      "metadata": {
        "colab": {
          "base_uri": "https://localhost:8080/",
          "height": 401
        },
        "id": "E2WSvGVkPr2G",
        "outputId": "3eb9392a-71d0-4db4-d24d-5eba37cdd225"
      },
      "execution_count": null,
      "outputs": [
        {
          "output_type": "error",
          "ename": "ERROR",
          "evalue": "ignored",
          "traceback": [
            "Error in FUN(X[[i]], ...): only defined on a data frame with all numeric-alike variables\nTraceback:\n",
            "1. Summary.data.frame(structure(list(numeros = 1:16, letras = c(\"a\", \n . \"b\", \"c\", \"d\", \"e\", \"f\", \"g\", \"h\", \"i\", \"j\", \"k\", \"l\", \"m\", \"n\", \n . \"o\", \"p\"), normales = c(0.127130310770595, -0.210770134948294, \n . -0.424611854426265, -0.140127592824036, -1.19070956347125, 0.252030910355757, \n . 0.92067270567517, 1.27386976917016, 2.12578023584466, -0.982655451449009, \n . -0.201429089572054, 1.00117335546213, 1.04139287763188, 0.741640352290426, \n . 1.02631632928735, -0.154082514375102)), class = \"data.frame\", row.names = c(NA, \n . -16L)), na.rm = FALSE)",
            "2. lapply(args, function(x) {\n .     x <- as.matrix(x)\n .     if (!is.numeric(x) && !is.logical(x) && !is.complex(x)) \n .         stop(\"only defined on a data frame with all numeric-alike variables\")\n .     x\n . })",
            "3. FUN(X[[i]], ...)",
            "4. stop(\"only defined on a data frame with all numeric-alike variables\")"
          ]
        }
      ]
    },
    {
      "cell_type": "code",
      "source": [
        "vec1 <- rnorm(100)"
      ],
      "metadata": {
        "id": "kWdvtO9yP3gx"
      },
      "execution_count": null,
      "outputs": []
    },
    {
      "cell_type": "code",
      "source": [
        "vec1"
      ],
      "metadata": {
        "colab": {
          "base_uri": "https://localhost:8080/",
          "height": 312
        },
        "id": "Hc83t11SP7Fo",
        "outputId": "8b3d7423-e84a-4092-bddb-90f59ea03969"
      },
      "execution_count": null,
      "outputs": [
        {
          "output_type": "display_data",
          "data": {
            "text/plain": [
              "  [1]  1.3180179240 -0.0225040475  0.2345377609 -0.2725175855 -0.2801968364\n",
              "  [6]  0.3534042958  0.0786409935 -0.4228483532  0.8909992347 -0.3221174807\n",
              " [11]  0.6461270252  0.4093657940 -0.2393917955 -0.6738188242  1.0833989257\n",
              " [16] -0.0470088872 -1.1873261632  0.8630136653 -1.1128000087 -0.1752209303\n",
              " [21] -0.0007897251 -0.5112039752 -0.1178595844  1.1234543107 -1.0212256901\n",
              " [26] -1.6956376965 -0.4511093683 -1.0753880644 -0.4433821272  2.1304065683\n",
              " [31] -1.1230994686  0.7953077300 -1.2155159903 -2.5582982080  0.2001350438\n",
              " [36]  0.2129488132  0.1214534543  0.9325616192  0.7443402067 -0.3577602841\n",
              " [41]  1.0601957722 -0.0454378914 -0.1970240732  0.1553411250  0.4335252692\n",
              " [46]  0.5694391747  0.1695274654 -0.2479282514  1.6674895990  0.8810436476\n",
              " [51]  1.1930648769  0.4900429925 -0.0890127034  0.2316445771 -0.4862900830\n",
              " [56] -1.0158821138  1.1985557876 -2.1897476571  1.3152111493  0.9461729887\n",
              " [61] -0.4655745016 -0.5389238085  0.9186867135  0.0917786476  1.2999645295\n",
              " [66]  0.2870425002 -0.1454363429  0.8305432417 -0.9931731932  0.3822457761\n",
              " [71] -0.6892698615 -0.4800749607 -0.5663282468  0.0150278630  0.8905351789\n",
              " [76] -0.4322795999  0.2386019536  1.7808273805  1.2390150716 -0.5621090534\n",
              " [81]  2.1749088829 -0.2967828347  1.3914947378 -0.2943295044 -1.1813695918\n",
              " [86] -1.1408707225  0.7221572351 -0.3323235459 -0.1100814952  1.8499911147\n",
              " [91] -1.8893432309 -0.8254400774  0.8313743375  0.5992124167  0.8653146388\n",
              " [96]  0.7483405075 -1.0909152108 -0.6324306045  0.6511263488  1.4340499262"
            ],
            "text/latex": "\\begin{enumerate*}\n\\item 1.31801792396663\n\\item -0.022504047507969\n\\item 0.234537760936291\n\\item -0.272517585517211\n\\item -0.280196836353811\n\\item 0.353404295809747\n\\item 0.0786409934728929\n\\item -0.42284835324772\n\\item 0.890999234722984\n\\item -0.322117480671287\n\\item 0.646127025220034\n\\item 0.40936579399093\n\\item -0.239391795452219\n\\item -0.673818824176917\n\\item 1.08339892571464\n\\item -0.0470088871975574\n\\item -1.18732616321225\n\\item 0.863013665306545\n\\item -1.11280000873697\n\\item -0.175220930304788\n\\item -0.000789725055426203\n\\item -0.511203975163744\n\\item -0.117859584449524\n\\item 1.123454310747\n\\item -1.02122569006931\n\\item -1.69563769646516\n\\item -0.451109368334849\n\\item -1.07538806438099\n\\item -0.443382127154987\n\\item 2.13040656833191\n\\item -1.12309946860371\n\\item 0.795307730037776\n\\item -1.21551599031676\n\\item -2.55829820803638\n\\item 0.20013504380538\n\\item 0.212948813150984\n\\item 0.121453454316094\n\\item 0.932561619187466\n\\item 0.744340206653347\n\\item -0.357760284130726\n\\item 1.06019577216329\n\\item -0.0454378913880603\n\\item -0.197024073207278\n\\item 0.155341125013083\n\\item 0.433525269225131\n\\item 0.569439174695304\n\\item 0.169527465368226\n\\item -0.247928251441682\n\\item 1.66748959900518\n\\item 0.881043647554318\n\\item 1.19306487685553\n\\item 0.490042992505564\n\\item -0.0890127033560373\n\\item 0.231644577128412\n\\item -0.486290082977053\n\\item -1.01588211375616\n\\item 1.19855578760087\n\\item -2.18974765710389\n\\item 1.31521114927001\n\\item 0.946172988665638\n\\item -0.465574501605073\n\\item -0.538923808460084\n\\item 0.918686713466832\n\\item 0.0917786476389132\n\\item 1.29996452949774\n\\item 0.287042500229084\n\\item -0.145436342942871\n\\item 0.83054324165731\n\\item -0.99317319317523\n\\item 0.382245776148166\n\\item -0.689269861469145\n\\item -0.480074960717527\n\\item -0.566328246771404\n\\item 0.0150278630291586\n\\item 0.890535178914651\n\\item -0.432279599932218\n\\item 0.23860195360391\n\\item 1.78082738046926\n\\item 1.2390150716003\n\\item -0.562109053379906\n\\item 2.17490888290933\n\\item -0.296782834749271\n\\item 1.39149473777157\n\\item -0.29432950443946\n\\item -1.18136959181483\n\\item -1.14087072250676\n\\item 0.722157235127134\n\\item -0.332323545856912\n\\item -0.110081495228964\n\\item 1.84999111471599\n\\item -1.88934323094158\n\\item -0.825440077373119\n\\item 0.831374337486365\n\\item 0.599212416715664\n\\item 0.865314638828363\n\\item 0.748340507465852\n\\item -1.09091521084465\n\\item -0.632430604488002\n\\item 0.65112634883766\n\\item 1.43404992616247\n\\end{enumerate*}\n",
            "text/markdown": "1. 1.31801792396663\n2. -0.022504047507969\n3. 0.234537760936291\n4. -0.272517585517211\n5. -0.280196836353811\n6. 0.353404295809747\n7. 0.0786409934728929\n8. -0.42284835324772\n9. 0.890999234722984\n10. -0.322117480671287\n11. 0.646127025220034\n12. 0.40936579399093\n13. -0.239391795452219\n14. -0.673818824176917\n15. 1.08339892571464\n16. -0.0470088871975574\n17. -1.18732616321225\n18. 0.863013665306545\n19. -1.11280000873697\n20. -0.175220930304788\n21. -0.000789725055426203\n22. -0.511203975163744\n23. -0.117859584449524\n24. 1.123454310747\n25. -1.02122569006931\n26. -1.69563769646516\n27. -0.451109368334849\n28. -1.07538806438099\n29. -0.443382127154987\n30. 2.13040656833191\n31. -1.12309946860371\n32. 0.795307730037776\n33. -1.21551599031676\n34. -2.55829820803638\n35. 0.20013504380538\n36. 0.212948813150984\n37. 0.121453454316094\n38. 0.932561619187466\n39. 0.744340206653347\n40. -0.357760284130726\n41. 1.06019577216329\n42. -0.0454378913880603\n43. -0.197024073207278\n44. 0.155341125013083\n45. 0.433525269225131\n46. 0.569439174695304\n47. 0.169527465368226\n48. -0.247928251441682\n49. 1.66748959900518\n50. 0.881043647554318\n51. 1.19306487685553\n52. 0.490042992505564\n53. -0.0890127033560373\n54. 0.231644577128412\n55. -0.486290082977053\n56. -1.01588211375616\n57. 1.19855578760087\n58. -2.18974765710389\n59. 1.31521114927001\n60. 0.946172988665638\n61. -0.465574501605073\n62. -0.538923808460084\n63. 0.918686713466832\n64. 0.0917786476389132\n65. 1.29996452949774\n66. 0.287042500229084\n67. -0.145436342942871\n68. 0.83054324165731\n69. -0.99317319317523\n70. 0.382245776148166\n71. -0.689269861469145\n72. -0.480074960717527\n73. -0.566328246771404\n74. 0.0150278630291586\n75. 0.890535178914651\n76. -0.432279599932218\n77. 0.23860195360391\n78. 1.78082738046926\n79. 1.2390150716003\n80. -0.562109053379906\n81. 2.17490888290933\n82. -0.296782834749271\n83. 1.39149473777157\n84. -0.29432950443946\n85. -1.18136959181483\n86. -1.14087072250676\n87. 0.722157235127134\n88. -0.332323545856912\n89. -0.110081495228964\n90. 1.84999111471599\n91. -1.88934323094158\n92. -0.825440077373119\n93. 0.831374337486365\n94. 0.599212416715664\n95. 0.865314638828363\n96. 0.748340507465852\n97. -1.09091521084465\n98. -0.632430604488002\n99. 0.65112634883766\n100. 1.43404992616247\n\n\n",
            "text/html": [
              "<style>\n",
              ".list-inline {list-style: none; margin:0; padding: 0}\n",
              ".list-inline>li {display: inline-block}\n",
              ".list-inline>li:not(:last-child)::after {content: \"\\00b7\"; padding: 0 .5ex}\n",
              "</style>\n",
              "<ol class=list-inline><li>1.31801792396663</li><li>-0.022504047507969</li><li>0.234537760936291</li><li>-0.272517585517211</li><li>-0.280196836353811</li><li>0.353404295809747</li><li>0.0786409934728929</li><li>-0.42284835324772</li><li>0.890999234722984</li><li>-0.322117480671287</li><li>0.646127025220034</li><li>0.40936579399093</li><li>-0.239391795452219</li><li>-0.673818824176917</li><li>1.08339892571464</li><li>-0.0470088871975574</li><li>-1.18732616321225</li><li>0.863013665306545</li><li>-1.11280000873697</li><li>-0.175220930304788</li><li>-0.000789725055426203</li><li>-0.511203975163744</li><li>-0.117859584449524</li><li>1.123454310747</li><li>-1.02122569006931</li><li>-1.69563769646516</li><li>-0.451109368334849</li><li>-1.07538806438099</li><li>-0.443382127154987</li><li>2.13040656833191</li><li>-1.12309946860371</li><li>0.795307730037776</li><li>-1.21551599031676</li><li>-2.55829820803638</li><li>0.20013504380538</li><li>0.212948813150984</li><li>0.121453454316094</li><li>0.932561619187466</li><li>0.744340206653347</li><li>-0.357760284130726</li><li>1.06019577216329</li><li>-0.0454378913880603</li><li>-0.197024073207278</li><li>0.155341125013083</li><li>0.433525269225131</li><li>0.569439174695304</li><li>0.169527465368226</li><li>-0.247928251441682</li><li>1.66748959900518</li><li>0.881043647554318</li><li>1.19306487685553</li><li>0.490042992505564</li><li>-0.0890127033560373</li><li>0.231644577128412</li><li>-0.486290082977053</li><li>-1.01588211375616</li><li>1.19855578760087</li><li>-2.18974765710389</li><li>1.31521114927001</li><li>0.946172988665638</li><li>-0.465574501605073</li><li>-0.538923808460084</li><li>0.918686713466832</li><li>0.0917786476389132</li><li>1.29996452949774</li><li>0.287042500229084</li><li>-0.145436342942871</li><li>0.83054324165731</li><li>-0.99317319317523</li><li>0.382245776148166</li><li>-0.689269861469145</li><li>-0.480074960717527</li><li>-0.566328246771404</li><li>0.0150278630291586</li><li>0.890535178914651</li><li>-0.432279599932218</li><li>0.23860195360391</li><li>1.78082738046926</li><li>1.2390150716003</li><li>-0.562109053379906</li><li>2.17490888290933</li><li>-0.296782834749271</li><li>1.39149473777157</li><li>-0.29432950443946</li><li>-1.18136959181483</li><li>-1.14087072250676</li><li>0.722157235127134</li><li>-0.332323545856912</li><li>-0.110081495228964</li><li>1.84999111471599</li><li>-1.88934323094158</li><li>-0.825440077373119</li><li>0.831374337486365</li><li>0.599212416715664</li><li>0.865314638828363</li><li>0.748340507465852</li><li>-1.09091521084465</li><li>-0.632430604488002</li><li>0.65112634883766</li><li>1.43404992616247</li></ol>\n"
            ]
          },
          "metadata": {}
        }
      ]
    },
    {
      "cell_type": "code",
      "source": [
        "max(vec1) # maximo"
      ],
      "metadata": {
        "colab": {
          "base_uri": "https://localhost:8080/",
          "height": 34
        },
        "id": "1SYAn96CQCQk",
        "outputId": "0acda2a2-8a62-437b-e8e0-1e6b4a177cb2"
      },
      "execution_count": null,
      "outputs": [
        {
          "output_type": "display_data",
          "data": {
            "text/plain": [
              "[1] 2.174909"
            ],
            "text/latex": "2.17490888290933",
            "text/markdown": "2.17490888290933",
            "text/html": [
              "2.17490888290933"
            ]
          },
          "metadata": {}
        }
      ]
    },
    {
      "cell_type": "code",
      "source": [
        "min(vec1) # minimo"
      ],
      "metadata": {
        "colab": {
          "base_uri": "https://localhost:8080/",
          "height": 34
        },
        "id": "Jq9bgobwQHxP",
        "outputId": "84f7183d-7746-4c4b-c412-2b21f1062683"
      },
      "execution_count": null,
      "outputs": [
        {
          "output_type": "display_data",
          "data": {
            "text/plain": [
              "[1] -2.558298"
            ],
            "text/latex": "-2.55829820803638",
            "text/markdown": "-2.55829820803638",
            "text/html": [
              "-2.55829820803638"
            ]
          },
          "metadata": {}
        }
      ]
    },
    {
      "cell_type": "code",
      "source": [
        "mean(vec1) # media"
      ],
      "metadata": {
        "colab": {
          "base_uri": "https://localhost:8080/",
          "height": 34
        },
        "id": "EAKJDtc5QJdT",
        "outputId": "f62fcfaf-4ec5-4236-fcc2-834b95a1bd1e"
      },
      "execution_count": null,
      "outputs": [
        {
          "output_type": "display_data",
          "data": {
            "text/plain": [
              "[1] 0.09426207"
            ],
            "text/latex": "0.0942620653822951",
            "text/markdown": "0.0942620653822951",
            "text/html": [
              "0.0942620653822951"
            ]
          },
          "metadata": {}
        }
      ]
    },
    {
      "cell_type": "code",
      "source": [
        "median(vec1) # mediana"
      ],
      "metadata": {
        "colab": {
          "base_uri": "https://localhost:8080/",
          "height": 34
        },
        "id": "QHiZ3SQsQiLj",
        "outputId": "e89e8375-c70b-43c1-c61c-74165daf8f19"
      },
      "execution_count": null,
      "outputs": [
        {
          "output_type": "display_data",
          "data": {
            "text/plain": [
              "[1] 0.04683443"
            ],
            "text/latex": "0.0468344282510258",
            "text/markdown": "0.0468344282510258",
            "text/html": [
              "0.0468344282510258"
            ]
          },
          "metadata": {}
        }
      ]
    },
    {
      "cell_type": "code",
      "source": [
        "var(vec1) # varianza"
      ],
      "metadata": {
        "colab": {
          "base_uri": "https://localhost:8080/",
          "height": 34
        },
        "id": "sd6Eo9k2QsR_",
        "outputId": "0b3605d3-9b7c-4dac-b17e-e38943ff1b15"
      },
      "execution_count": null,
      "outputs": [
        {
          "output_type": "display_data",
          "data": {
            "text/plain": [
              "[1] 0.8547895"
            ],
            "text/latex": "0.854789514152896",
            "text/markdown": "0.854789514152896",
            "text/html": [
              "0.854789514152896"
            ]
          },
          "metadata": {}
        }
      ]
    },
    {
      "cell_type": "code",
      "source": [
        "sd(vec1)"
      ],
      "metadata": {
        "colab": {
          "base_uri": "https://localhost:8080/",
          "height": 34
        },
        "id": "LixgRqlOQxNx",
        "outputId": "fd41eee1-10b5-4a9a-f8c4-faf53a24c9b3"
      },
      "execution_count": null,
      "outputs": [
        {
          "output_type": "display_data",
          "data": {
            "text/plain": [
              "[1] 0.9245483"
            ],
            "text/latex": "0.924548275728691",
            "text/markdown": "0.924548275728691",
            "text/html": [
              "0.924548275728691"
            ]
          },
          "metadata": {}
        }
      ]
    },
    {
      "cell_type": "markdown",
      "source": [
        "# Resumiendo matrices"
      ],
      "metadata": {
        "id": "ewLd7wz6RIdy"
      }
    },
    {
      "cell_type": "code",
      "source": [
        "m4"
      ],
      "metadata": {
        "colab": {
          "base_uri": "https://localhost:8080/",
          "height": 209
        },
        "id": "QV3SA94BRLt-",
        "outputId": "59c84a9e-8266-4504-b2ca-6135c9f94e9f"
      },
      "execution_count": null,
      "outputs": [
        {
          "output_type": "display_data",
          "data": {
            "text/plain": [
              "   C1 C2 C3 C4\n",
              "R1 1  5   9 13\n",
              "R2 2  6  10 14\n",
              "R3 3  7  11 15\n",
              "R4 4  8  12 16"
            ],
            "text/latex": "A matrix: 4 × 4 of type int\n\\begin{tabular}{r|llll}\n  & C1 & C2 & C3 & C4\\\\\n\\hline\n\tR1 & 1 & 5 &  9 & 13\\\\\n\tR2 & 2 & 6 & 10 & 14\\\\\n\tR3 & 3 & 7 & 11 & 15\\\\\n\tR4 & 4 & 8 & 12 & 16\\\\\n\\end{tabular}\n",
            "text/markdown": "\nA matrix: 4 × 4 of type int\n\n| <!--/--> | C1 | C2 | C3 | C4 |\n|---|---|---|---|---|\n| R1 | 1 | 5 |  9 | 13 |\n| R2 | 2 | 6 | 10 | 14 |\n| R3 | 3 | 7 | 11 | 15 |\n| R4 | 4 | 8 | 12 | 16 |\n\n",
            "text/html": [
              "<table class=\"dataframe\">\n",
              "<caption>A matrix: 4 × 4 of type int</caption>\n",
              "<thead>\n",
              "\t<tr><th></th><th scope=col>C1</th><th scope=col>C2</th><th scope=col>C3</th><th scope=col>C4</th></tr>\n",
              "</thead>\n",
              "<tbody>\n",
              "\t<tr><th scope=row>R1</th><td>1</td><td>5</td><td> 9</td><td>13</td></tr>\n",
              "\t<tr><th scope=row>R2</th><td>2</td><td>6</td><td>10</td><td>14</td></tr>\n",
              "\t<tr><th scope=row>R3</th><td>3</td><td>7</td><td>11</td><td>15</td></tr>\n",
              "\t<tr><th scope=row>R4</th><td>4</td><td>8</td><td>12</td><td>16</td></tr>\n",
              "</tbody>\n",
              "</table>\n"
            ]
          },
          "metadata": {}
        }
      ]
    },
    {
      "cell_type": "code",
      "source": [
        "?apply"
      ],
      "metadata": {
        "id": "DN_wGeKpSLuJ"
      },
      "execution_count": null,
      "outputs": []
    },
    {
      "cell_type": "code",
      "source": [
        "apply(m4, 2, mean)"
      ],
      "metadata": {
        "colab": {
          "base_uri": "https://localhost:8080/",
          "height": 34
        },
        "id": "XAplQV_mRnNl",
        "outputId": "cb793921-4fdc-4e49-b62f-a38b36f47ec3"
      },
      "execution_count": null,
      "outputs": [
        {
          "output_type": "display_data",
          "data": {
            "text/plain": [
              "  C1   C2   C3   C4 \n",
              " 2.5  6.5 10.5 14.5 "
            ],
            "text/latex": "\\begin{description*}\n\\item[C1] 2.5\n\\item[C2] 6.5\n\\item[C3] 10.5\n\\item[C4] 14.5\n\\end{description*}\n",
            "text/markdown": "C1\n:   2.5C2\n:   6.5C3\n:   10.5C4\n:   14.5\n\n",
            "text/html": [
              "<style>\n",
              ".dl-inline {width: auto; margin:0; padding: 0}\n",
              ".dl-inline>dt, .dl-inline>dd {float: none; width: auto; display: inline-block}\n",
              ".dl-inline>dt::after {content: \":\\0020\"; padding-right: .5ex}\n",
              ".dl-inline>dt:not(:first-of-type) {padding-left: .5ex}\n",
              "</style><dl class=dl-inline><dt>C1</dt><dd>2.5</dd><dt>C2</dt><dd>6.5</dd><dt>C3</dt><dd>10.5</dd><dt>C4</dt><dd>14.5</dd></dl>\n"
            ]
          },
          "metadata": {}
        }
      ]
    },
    {
      "cell_type": "code",
      "source": [
        "apply(m4, 2, median)"
      ],
      "metadata": {
        "colab": {
          "base_uri": "https://localhost:8080/",
          "height": 34
        },
        "id": "eQkKGsF4StLU",
        "outputId": "548480d4-3998-4f5b-868a-451ff63d34db"
      },
      "execution_count": null,
      "outputs": [
        {
          "output_type": "display_data",
          "data": {
            "text/plain": [
              "  C1   C2   C3   C4 \n",
              " 2.5  6.5 10.5 14.5 "
            ],
            "text/latex": "\\begin{description*}\n\\item[C1] 2.5\n\\item[C2] 6.5\n\\item[C3] 10.5\n\\item[C4] 14.5\n\\end{description*}\n",
            "text/markdown": "C1\n:   2.5C2\n:   6.5C3\n:   10.5C4\n:   14.5\n\n",
            "text/html": [
              "<style>\n",
              ".dl-inline {width: auto; margin:0; padding: 0}\n",
              ".dl-inline>dt, .dl-inline>dd {float: none; width: auto; display: inline-block}\n",
              ".dl-inline>dt::after {content: \":\\0020\"; padding-right: .5ex}\n",
              ".dl-inline>dt:not(:first-of-type) {padding-left: .5ex}\n",
              "</style><dl class=dl-inline><dt>C1</dt><dd>2.5</dd><dt>C2</dt><dd>6.5</dd><dt>C3</dt><dd>10.5</dd><dt>C4</dt><dd>14.5</dd></dl>\n"
            ]
          },
          "metadata": {}
        }
      ]
    },
    {
      "cell_type": "markdown",
      "source": [
        "Calcular la suma por filas. "
      ],
      "metadata": {
        "id": "vFAmSaO5TKuy"
      }
    },
    {
      "cell_type": "code",
      "source": [
        "apply(m4, 1, sum)"
      ],
      "metadata": {
        "colab": {
          "base_uri": "https://localhost:8080/",
          "height": 34
        },
        "id": "avsymPKbTMMI",
        "outputId": "0896d28a-28d4-4670-b0b4-c6fa0cd0ca94"
      },
      "execution_count": null,
      "outputs": [
        {
          "output_type": "display_data",
          "data": {
            "text/plain": [
              "R1 R2 R3 R4 \n",
              "28 32 36 40 "
            ],
            "text/latex": "\\begin{description*}\n\\item[R1] 28\n\\item[R2] 32\n\\item[R3] 36\n\\item[R4] 40\n\\end{description*}\n",
            "text/markdown": "R1\n:   28R2\n:   32R3\n:   36R4\n:   40\n\n",
            "text/html": [
              "<style>\n",
              ".dl-inline {width: auto; margin:0; padding: 0}\n",
              ".dl-inline>dt, .dl-inline>dd {float: none; width: auto; display: inline-block}\n",
              ".dl-inline>dt::after {content: \":\\0020\"; padding-right: .5ex}\n",
              ".dl-inline>dt:not(:first-of-type) {padding-left: .5ex}\n",
              "</style><dl class=dl-inline><dt>R1</dt><dd>28</dd><dt>R2</dt><dd>32</dd><dt>R3</dt><dd>36</dd><dt>R4</dt><dd>40</dd></dl>\n"
            ]
          },
          "metadata": {}
        }
      ]
    },
    {
      "cell_type": "code",
      "source": [
        "colMeans(m4)"
      ],
      "metadata": {
        "colab": {
          "base_uri": "https://localhost:8080/",
          "height": 34
        },
        "id": "JrU45lG0TRVY",
        "outputId": "dd6b03d7-9314-46e1-ee57-6a89028e6eeb"
      },
      "execution_count": null,
      "outputs": [
        {
          "output_type": "display_data",
          "data": {
            "text/plain": [
              "  C1   C2   C3   C4 \n",
              " 2.5  6.5 10.5 14.5 "
            ],
            "text/latex": "\\begin{description*}\n\\item[C1] 2.5\n\\item[C2] 6.5\n\\item[C3] 10.5\n\\item[C4] 14.5\n\\end{description*}\n",
            "text/markdown": "C1\n:   2.5C2\n:   6.5C3\n:   10.5C4\n:   14.5\n\n",
            "text/html": [
              "<style>\n",
              ".dl-inline {width: auto; margin:0; padding: 0}\n",
              ".dl-inline>dt, .dl-inline>dd {float: none; width: auto; display: inline-block}\n",
              ".dl-inline>dt::after {content: \":\\0020\"; padding-right: .5ex}\n",
              ".dl-inline>dt:not(:first-of-type) {padding-left: .5ex}\n",
              "</style><dl class=dl-inline><dt>C1</dt><dd>2.5</dd><dt>C2</dt><dd>6.5</dd><dt>C3</dt><dd>10.5</dd><dt>C4</dt><dd>14.5</dd></dl>\n"
            ]
          },
          "metadata": {}
        }
      ]
    },
    {
      "cell_type": "code",
      "source": [
        "rowMeans(m4)"
      ],
      "metadata": {
        "colab": {
          "base_uri": "https://localhost:8080/",
          "height": 34
        },
        "id": "x93wMI6yTmeg",
        "outputId": "5bf727d1-d6cb-4949-d5b2-0eadc06131b8"
      },
      "execution_count": null,
      "outputs": [
        {
          "output_type": "display_data",
          "data": {
            "text/plain": [
              "R1 R2 R3 R4 \n",
              " 7  8  9 10 "
            ],
            "text/latex": "\\begin{description*}\n\\item[R1] 7\n\\item[R2] 8\n\\item[R3] 9\n\\item[R4] 10\n\\end{description*}\n",
            "text/markdown": "R1\n:   7R2\n:   8R3\n:   9R4\n:   10\n\n",
            "text/html": [
              "<style>\n",
              ".dl-inline {width: auto; margin:0; padding: 0}\n",
              ".dl-inline>dt, .dl-inline>dd {float: none; width: auto; display: inline-block}\n",
              ".dl-inline>dt::after {content: \":\\0020\"; padding-right: .5ex}\n",
              ".dl-inline>dt:not(:first-of-type) {padding-left: .5ex}\n",
              "</style><dl class=dl-inline><dt>R1</dt><dd>7</dd><dt>R2</dt><dd>8</dd><dt>R3</dt><dd>9</dd><dt>R4</dt><dd>10</dd></dl>\n"
            ]
          },
          "metadata": {}
        }
      ]
    },
    {
      "cell_type": "markdown",
      "source": [
        "# Prueba t-student"
      ],
      "metadata": {
        "id": "4BHkWNEhUAeH"
      }
    },
    {
      "cell_type": "code",
      "source": [
        "x <- c(36.25, 35.40, 35.30, 35.15, 35.35, 33.35)"
      ],
      "metadata": {
        "id": "rf5LnvhRUDp2"
      },
      "execution_count": null,
      "outputs": []
    },
    {
      "cell_type": "code",
      "source": [
        "m7 <- matrix(x, ncol=3, byrow = TRUE)"
      ],
      "metadata": {
        "id": "ny77FHFCUYty"
      },
      "execution_count": null,
      "outputs": []
    },
    {
      "cell_type": "code",
      "source": [
        "m7"
      ],
      "metadata": {
        "colab": {
          "base_uri": "https://localhost:8080/",
          "height": 114
        },
        "id": "Gf9MI-14UiQG",
        "outputId": "352bd7a0-68c0-4957-8d4f-8d0b778c6127"
      },
      "execution_count": null,
      "outputs": [
        {
          "output_type": "display_data",
          "data": {
            "text/plain": [
              "     [,1]  [,2]  [,3] \n",
              "[1,] 36.25 35.40 35.30\n",
              "[2,] 35.15 35.35 33.35"
            ],
            "text/latex": "A matrix: 2 × 3 of type dbl\n\\begin{tabular}{lll}\n\t 36.25 & 35.40 & 35.30\\\\\n\t 35.15 & 35.35 & 33.35\\\\\n\\end{tabular}\n",
            "text/markdown": "\nA matrix: 2 × 3 of type dbl\n\n| 36.25 | 35.40 | 35.30 |\n| 35.15 | 35.35 | 33.35 |\n\n",
            "text/html": [
              "<table class=\"dataframe\">\n",
              "<caption>A matrix: 2 × 3 of type dbl</caption>\n",
              "<tbody>\n",
              "\t<tr><td>36.25</td><td>35.40</td><td>35.30</td></tr>\n",
              "\t<tr><td>35.15</td><td>35.35</td><td>33.35</td></tr>\n",
              "</tbody>\n",
              "</table>\n"
            ]
          },
          "metadata": {}
        }
      ]
    },
    {
      "cell_type": "code",
      "source": [
        "colnames(m7) <- c(\"Alicia\", \"Veronica\", \"Carlos\")"
      ],
      "metadata": {
        "id": "p4Q86sUVUi4m"
      },
      "execution_count": null,
      "outputs": []
    },
    {
      "cell_type": "code",
      "source": [
        "m7"
      ],
      "metadata": {
        "colab": {
          "base_uri": "https://localhost:8080/",
          "height": 129
        },
        "id": "1IR-qutfUttC",
        "outputId": "9032608c-717b-4fc2-b163-f7e60685f41f"
      },
      "execution_count": null,
      "outputs": [
        {
          "output_type": "display_data",
          "data": {
            "text/plain": [
              "     Alicia Veronica Carlos\n",
              "[1,] 36.25  35.40    35.30 \n",
              "[2,] 35.15  35.35    33.35 "
            ],
            "text/latex": "A matrix: 2 × 3 of type dbl\n\\begin{tabular}{lll}\n Alicia & Veronica & Carlos\\\\\n\\hline\n\t 36.25 & 35.40 & 35.30\\\\\n\t 35.15 & 35.35 & 33.35\\\\\n\\end{tabular}\n",
            "text/markdown": "\nA matrix: 2 × 3 of type dbl\n\n| Alicia | Veronica | Carlos |\n|---|---|---|\n| 36.25 | 35.40 | 35.30 |\n| 35.15 | 35.35 | 33.35 |\n\n",
            "text/html": [
              "<table class=\"dataframe\">\n",
              "<caption>A matrix: 2 × 3 of type dbl</caption>\n",
              "<thead>\n",
              "\t<tr><th scope=col>Alicia</th><th scope=col>Veronica</th><th scope=col>Carlos</th></tr>\n",
              "</thead>\n",
              "<tbody>\n",
              "\t<tr><td>36.25</td><td>35.40</td><td>35.30</td></tr>\n",
              "\t<tr><td>35.15</td><td>35.35</td><td>33.35</td></tr>\n",
              "</tbody>\n",
              "</table>\n"
            ]
          },
          "metadata": {}
        }
      ]
    },
    {
      "cell_type": "code",
      "source": [
        "m7[1, ]"
      ],
      "metadata": {
        "colab": {
          "base_uri": "https://localhost:8080/",
          "height": 34
        },
        "id": "2vXPaLALUuTZ",
        "outputId": "ea4007df-0a3f-4ff7-fbc6-4aa3d3f7d377"
      },
      "execution_count": null,
      "outputs": [
        {
          "output_type": "display_data",
          "data": {
            "text/plain": [
              "  Alicia Veronica   Carlos \n",
              "   36.25    35.40    35.30 "
            ],
            "text/latex": "\\begin{description*}\n\\item[Alicia] 36.25\n\\item[Veronica] 35.4\n\\item[Carlos] 35.3\n\\end{description*}\n",
            "text/markdown": "Alicia\n:   36.25Veronica\n:   35.4Carlos\n:   35.3\n\n",
            "text/html": [
              "<style>\n",
              ".dl-inline {width: auto; margin:0; padding: 0}\n",
              ".dl-inline>dt, .dl-inline>dd {float: none; width: auto; display: inline-block}\n",
              ".dl-inline>dt::after {content: \":\\0020\"; padding-right: .5ex}\n",
              ".dl-inline>dt:not(:first-of-type) {padding-left: .5ex}\n",
              "</style><dl class=dl-inline><dt>Alicia</dt><dd>36.25</dd><dt>Veronica</dt><dd>35.4</dd><dt>Carlos</dt><dd>35.3</dd></dl>\n"
            ]
          },
          "metadata": {}
        }
      ]
    },
    {
      "cell_type": "code",
      "source": [
        "m7[2, ]"
      ],
      "metadata": {
        "colab": {
          "base_uri": "https://localhost:8080/",
          "height": 34
        },
        "id": "4GQIq6HDU7hG",
        "outputId": "1454ff09-568b-471c-f6c5-8ac669fcd903"
      },
      "execution_count": null,
      "outputs": [
        {
          "output_type": "display_data",
          "data": {
            "text/plain": [
              "  Alicia Veronica   Carlos \n",
              "   35.15    35.35    33.35 "
            ],
            "text/latex": "\\begin{description*}\n\\item[Alicia] 35.15\n\\item[Veronica] 35.35\n\\item[Carlos] 33.35\n\\end{description*}\n",
            "text/markdown": "Alicia\n:   35.15Veronica\n:   35.35Carlos\n:   33.35\n\n",
            "text/html": [
              "<style>\n",
              ".dl-inline {width: auto; margin:0; padding: 0}\n",
              ".dl-inline>dt, .dl-inline>dd {float: none; width: auto; display: inline-block}\n",
              ".dl-inline>dt::after {content: \":\\0020\"; padding-right: .5ex}\n",
              ".dl-inline>dt:not(:first-of-type) {padding-left: .5ex}\n",
              "</style><dl class=dl-inline><dt>Alicia</dt><dd>35.15</dd><dt>Veronica</dt><dd>35.35</dd><dt>Carlos</dt><dd>33.35</dd></dl>\n"
            ]
          },
          "metadata": {}
        }
      ]
    },
    {
      "cell_type": "code",
      "source": [
        "t.test(m7[1, ], m7[2, ]) # realiza una prueba t de dos muestras\n",
        "                        # con datos no-pareados."
      ],
      "metadata": {
        "colab": {
          "base_uri": "https://localhost:8080/",
          "height": 213
        },
        "id": "nujtjNTNU9QE",
        "outputId": "ac95d9a4-cdcc-4585-cb43-c6e9e0fb0f01"
      },
      "execution_count": null,
      "outputs": [
        {
          "output_type": "display_data",
          "data": {
            "text/plain": [
              "\n",
              "\tWelch Two Sample t-test\n",
              "\n",
              "data:  m7[1, ] and m7[2, ]\n",
              "t = 1.4683, df = 2.8552, p-value = 0.2427\n",
              "alternative hypothesis: true difference in means is not equal to 0\n",
              "95 percent confidence interval:\n",
              " -1.271985  3.338652\n",
              "sample estimates:\n",
              "mean of x mean of y \n",
              " 35.65000  34.61667 \n"
            ]
          },
          "metadata": {}
        }
      ]
    },
    {
      "cell_type": "code",
      "source": [
        "t.test(m7[1, ], m7[2, ], paired=TRUE)  # realiza una prueba t de dos muestras\n",
        "                                      # con datos pareados."
      ],
      "metadata": {
        "colab": {
          "base_uri": "https://localhost:8080/",
          "height": 213
        },
        "id": "P02XV6DnVbVT",
        "outputId": "292f8ce1-207b-4289-b0fe-28c2d8f09e25"
      },
      "execution_count": null,
      "outputs": [
        {
          "output_type": "display_data",
          "data": {
            "text/plain": [
              "\n",
              "\tPaired t-test\n",
              "\n",
              "data:  m7[1, ] and m7[2, ]\n",
              "t = 1.8805, df = 2, p-value = 0.2008\n",
              "alternative hypothesis: true difference in means is not equal to 0\n",
              "95 percent confidence interval:\n",
              " -1.330952  3.397618\n",
              "sample estimates:\n",
              "mean of the differences \n",
              "               1.033333 \n"
            ]
          },
          "metadata": {}
        }
      ]
    },
    {
      "cell_type": "code",
      "source": [
        ""
      ],
      "metadata": {
        "id": "E9LP3IOGV6Y5"
      },
      "execution_count": null,
      "outputs": []
    },
    {
      "cell_type": "markdown",
      "source": [
        "# Graficando"
      ],
      "metadata": {
        "id": "wUQZq2qfK1qH"
      }
    },
    {
      "cell_type": "code",
      "source": [
        "x = rpois(25, 10 )"
      ],
      "metadata": {
        "id": "UnQiR0KqK3oe"
      },
      "execution_count": null,
      "outputs": []
    },
    {
      "cell_type": "code",
      "source": [
        "class(x)"
      ],
      "metadata": {
        "colab": {
          "base_uri": "https://localhost:8080/",
          "height": 34
        },
        "id": "taD7Szc0LSAg",
        "outputId": "67b7741c-45f8-4709-b3a1-4ae3a86d58ae"
      },
      "execution_count": null,
      "outputs": [
        {
          "output_type": "display_data",
          "data": {
            "text/plain": [
              "[1] \"integer\""
            ],
            "text/latex": "'integer'",
            "text/markdown": "'integer'",
            "text/html": [
              "'integer'"
            ]
          },
          "metadata": {}
        }
      ]
    },
    {
      "cell_type": "code",
      "source": [
        "typeof(x)"
      ],
      "metadata": {
        "colab": {
          "base_uri": "https://localhost:8080/",
          "height": 34
        },
        "id": "4FHYj1RALdrt",
        "outputId": "2f6b0b91-b9b6-4a5b-d8f7-1b0135e68f60"
      },
      "execution_count": null,
      "outputs": [
        {
          "output_type": "display_data",
          "data": {
            "text/plain": [
              "[1] \"integer\""
            ],
            "text/latex": "'integer'",
            "text/markdown": "'integer'",
            "text/html": [
              "'integer'"
            ]
          },
          "metadata": {}
        }
      ]
    },
    {
      "cell_type": "code",
      "source": [
        "x"
      ],
      "metadata": {
        "colab": {
          "base_uri": "https://localhost:8080/",
          "height": 34
        },
        "id": "agwRKhIYLe16",
        "outputId": "52bee755-a648-404f-c837-3340a379b7ac"
      },
      "execution_count": null,
      "outputs": [
        {
          "output_type": "display_data",
          "data": {
            "text/plain": [
              " [1] 14 10  7 10  7 16  6 14  9 11 17  9 11 13  8  5 17 15 11 12  9 11 10 14  9"
            ],
            "text/latex": "\\begin{enumerate*}\n\\item 14\n\\item 10\n\\item 7\n\\item 10\n\\item 7\n\\item 16\n\\item 6\n\\item 14\n\\item 9\n\\item 11\n\\item 17\n\\item 9\n\\item 11\n\\item 13\n\\item 8\n\\item 5\n\\item 17\n\\item 15\n\\item 11\n\\item 12\n\\item 9\n\\item 11\n\\item 10\n\\item 14\n\\item 9\n\\end{enumerate*}\n",
            "text/markdown": "1. 14\n2. 10\n3. 7\n4. 10\n5. 7\n6. 16\n7. 6\n8. 14\n9. 9\n10. 11\n11. 17\n12. 9\n13. 11\n14. 13\n15. 8\n16. 5\n17. 17\n18. 15\n19. 11\n20. 12\n21. 9\n22. 11\n23. 10\n24. 14\n25. 9\n\n\n",
            "text/html": [
              "<style>\n",
              ".list-inline {list-style: none; margin:0; padding: 0}\n",
              ".list-inline>li {display: inline-block}\n",
              ".list-inline>li:not(:last-child)::after {content: \"\\00b7\"; padding: 0 .5ex}\n",
              "</style>\n",
              "<ol class=list-inline><li>14</li><li>10</li><li>7</li><li>10</li><li>7</li><li>16</li><li>6</li><li>14</li><li>9</li><li>11</li><li>17</li><li>9</li><li>11</li><li>13</li><li>8</li><li>5</li><li>17</li><li>15</li><li>11</li><li>12</li><li>9</li><li>11</li><li>10</li><li>14</li><li>9</li></ol>\n"
            ]
          },
          "metadata": {}
        }
      ]
    },
    {
      "cell_type": "code",
      "source": [
        "str(x)"
      ],
      "metadata": {
        "colab": {
          "base_uri": "https://localhost:8080/"
        },
        "id": "CzcgSKPvLgDJ",
        "outputId": "4d59ae7c-7599-4d71-ba25-b38c9a9f3c0e"
      },
      "execution_count": null,
      "outputs": [
        {
          "output_type": "stream",
          "name": "stdout",
          "text": [
            " int [1:25] 14 10 7 10 7 16 6 14 9 11 ...\n"
          ]
        }
      ]
    },
    {
      "cell_type": "code",
      "source": [
        "plot(x)"
      ],
      "metadata": {
        "colab": {
          "base_uri": "https://localhost:8080/",
          "height": 437
        },
        "id": "n8V0ojP7LhSx",
        "outputId": "b6f47631-9221-40cc-aa39-b04e87031327"
      },
      "execution_count": null,
      "outputs": [
        {
          "output_type": "display_data",
          "data": {
            "image/png": "[encoded data removed]",
            "text/plain": [
              "plot without title"
            ]
          },
          "metadata": {
            "image/png": {
              "width": 420,
              "height": 420
            }
          }
        }
      ]
    },
    {
      "cell_type": "code",
      "source": [
        "plot(x, xlab=\"Identificador\", ylab=\"Número de chispas de chocolate\", main=\"Chispas de Chocolate \\n de la fábrica ACME.\", type=\"b\", pch=22 )"
      ],
      "metadata": {
        "colab": {
          "base_uri": "https://localhost:8080/",
          "height": 437
        },
        "id": "KTy5bGykLuqx",
        "outputId": "d846359d-ed5a-419f-9aae-49a042789592"
      },
      "execution_count": null,
      "outputs": [
        {
          "output_type": "display_data",
          "data": {
            "image/png": "[encoded data removed]",
            "text/plain": [
              "Plot with title “Chispas de Chocolate \n",
              " de la fábrica ACME.”"
            ]
          },
          "metadata": {
            "image/png": {
              "width": 420,
              "height": 420
            }
          }
        }
      ]
    },
    {
      "cell_type": "code",
      "source": [
        "# Salvando gráficos a disco\n",
        "pdf(\"test.pdf\")\n",
        "plot(x, xlab=\"Identificador\", ylab=\"Número de chispas de chocolate\", main=\"Chispas de Chocolate \\n de la fábrica ACME.\", type=\"b\" )\n",
        "dev.off()"
      ],
      "metadata": {
        "colab": {
          "base_uri": "https://localhost:8080/",
          "height": 34
        },
        "id": "HNVu_cV4NUCH",
        "outputId": "8b44c6c9-1358-49dd-e8c8-4c67b78ac359"
      },
      "execution_count": null,
      "outputs": [
        {
          "output_type": "display_data",
          "data": {
            "text/plain": [
              "png \n",
              "  2 "
            ],
            "text/latex": "\\textbf{png:} 2",
            "text/markdown": "**png:** 2",
            "text/html": [
              "<strong>png:</strong> 2"
            ]
          },
          "metadata": {}
        }
      ]
    },
    {
      "cell_type": "code",
      "source": [
        "png(\"test.png\")\n",
        "plot(x, xlab=\"Identificador\", ylab=\"Número de chispas de chocolate\", main=\"Chispas de Chocolate \\n de la fábrica ACME.\", type=\"b\" )\n",
        "dev.off()"
      ],
      "metadata": {
        "colab": {
          "base_uri": "https://localhost:8080/",
          "height": 34
        },
        "id": "VO9a8hx2N56A",
        "outputId": "3c2cf6ae-2bc2-4b70-8fb7-458827d0fd3a"
      },
      "execution_count": null,
      "outputs": [
        {
          "output_type": "display_data",
          "data": {
            "text/plain": [
              "png \n",
              "  2 "
            ],
            "text/latex": "\\textbf{png:} 2",
            "text/markdown": "**png:** 2",
            "text/html": [
              "<strong>png:</strong> 2"
            ]
          },
          "metadata": {}
        }
      ]
    },
    {
      "cell_type": "markdown",
      "source": [
        "# Trabajando con datos en un data frame."
      ],
      "metadata": {
        "id": "9YUbL9uiQSVE"
      }
    },
    {
      "cell_type": "code",
      "source": [
        "install.packages(\"gapminder\")"
      ],
      "metadata": {
        "colab": {
          "base_uri": "https://localhost:8080/"
        },
        "id": "N6DNQBneP54k",
        "outputId": "e88c4168-e0b7-48bf-9a9f-b2136cd1aef3"
      },
      "execution_count": null,
      "outputs": [
        {
          "output_type": "stream",
          "name": "stderr",
          "text": [
            "Installing package into ‘/usr/local/lib/R/site-library’\n",
            "(as ‘lib’ is unspecified)\n",
            "\n"
          ]
        }
      ]
    },
    {
      "cell_type": "code",
      "source": [
        "library(\"gapminder\")"
      ],
      "metadata": {
        "id": "Ml0LtijsQdFZ"
      },
      "execution_count": null,
      "outputs": []
    },
    {
      "cell_type": "code",
      "source": [
        "class(gapminder)"
      ],
      "metadata": {
        "colab": {
          "base_uri": "https://localhost:8080/",
          "height": 34
        },
        "id": "rdt52Kb7QlWm",
        "outputId": "503d97b4-b190-4107-8ed7-cd2765675bb1"
      },
      "execution_count": null,
      "outputs": [
        {
          "output_type": "display_data",
          "data": {
            "text/plain": [
              "[1] \"tbl_df\"     \"tbl\"        \"data.frame\""
            ],
            "text/latex": "\\begin{enumerate*}\n\\item 'tbl\\_df'\n\\item 'tbl'\n\\item 'data.frame'\n\\end{enumerate*}\n",
            "text/markdown": "1. 'tbl_df'\n2. 'tbl'\n3. 'data.frame'\n\n\n",
            "text/html": [
              "<style>\n",
              ".list-inline {list-style: none; margin:0; padding: 0}\n",
              ".list-inline>li {display: inline-block}\n",
              ".list-inline>li:not(:last-child)::after {content: \"\\00b7\"; padding: 0 .5ex}\n",
              "</style>\n",
              "<ol class=list-inline><li>'tbl_df'</li><li>'tbl'</li><li>'data.frame'</li></ol>\n"
            ]
          },
          "metadata": {}
        }
      ]
    },
    {
      "cell_type": "code",
      "source": [
        "dat <- as.data.frame(gapminder)"
      ],
      "metadata": {
        "id": "v2NJAeLDQ3Wv"
      },
      "execution_count": null,
      "outputs": []
    },
    {
      "cell_type": "code",
      "source": [
        "class(dat)"
      ],
      "metadata": {
        "colab": {
          "base_uri": "https://localhost:8080/",
          "height": 34
        },
        "id": "XCgIyudnQ9mj",
        "outputId": "83fac64c-9d5e-4326-e14a-77bc4df98926"
      },
      "execution_count": null,
      "outputs": [
        {
          "output_type": "display_data",
          "data": {
            "text/plain": [
              "[1] \"data.frame\""
            ],
            "text/latex": "'data.frame'",
            "text/markdown": "'data.frame'",
            "text/html": [
              "'data.frame'"
            ]
          },
          "metadata": {}
        }
      ]
    },
    {
      "cell_type": "code",
      "source": [
        "head(dat)"
      ],
      "metadata": {
        "colab": {
          "base_uri": "https://localhost:8080/",
          "height": 286
        },
        "id": "xW4yAdncQ-vS",
        "outputId": "5f0f8952-d6fe-4136-f0ec-ce29b7b1b6d6"
      },
      "execution_count": null,
      "outputs": [
        {
          "output_type": "display_data",
          "data": {
            "text/plain": [
              "  country     continent year lifeExp pop      gdpPercap\n",
              "1 Afghanistan Asia      1952 28.801   8425333 779.4453 \n",
              "2 Afghanistan Asia      1957 30.332   9240934 820.8530 \n",
              "3 Afghanistan Asia      1962 31.997  10267083 853.1007 \n",
              "4 Afghanistan Asia      1967 34.020  11537966 836.1971 \n",
              "5 Afghanistan Asia      1972 36.088  13079460 739.9811 \n",
              "6 Afghanistan Asia      1977 38.438  14880372 786.1134 "
            ],
            "text/latex": "A data.frame: 6 × 6\n\\begin{tabular}{r|llllll}\n  & country & continent & year & lifeExp & pop & gdpPercap\\\\\n  & <fct> & <fct> & <int> & <dbl> & <int> & <dbl>\\\\\n\\hline\n\t1 & Afghanistan & Asia & 1952 & 28.801 &  8425333 & 779.4453\\\\\n\t2 & Afghanistan & Asia & 1957 & 30.332 &  9240934 & 820.8530\\\\\n\t3 & Afghanistan & Asia & 1962 & 31.997 & 10267083 & 853.1007\\\\\n\t4 & Afghanistan & Asia & 1967 & 34.020 & 11537966 & 836.1971\\\\\n\t5 & Afghanistan & Asia & 1972 & 36.088 & 13079460 & 739.9811\\\\\n\t6 & Afghanistan & Asia & 1977 & 38.438 & 14880372 & 786.1134\\\\\n\\end{tabular}\n",
            "text/markdown": "\nA data.frame: 6 × 6\n\n| <!--/--> | country &lt;fct&gt; | continent &lt;fct&gt; | year &lt;int&gt; | lifeExp &lt;dbl&gt; | pop &lt;int&gt; | gdpPercap &lt;dbl&gt; |\n|---|---|---|---|---|---|---|\n| 1 | Afghanistan | Asia | 1952 | 28.801 |  8425333 | 779.4453 |\n| 2 | Afghanistan | Asia | 1957 | 30.332 |  9240934 | 820.8530 |\n| 3 | Afghanistan | Asia | 1962 | 31.997 | 10267083 | 853.1007 |\n| 4 | Afghanistan | Asia | 1967 | 34.020 | 11537966 | 836.1971 |\n| 5 | Afghanistan | Asia | 1972 | 36.088 | 13079460 | 739.9811 |\n| 6 | Afghanistan | Asia | 1977 | 38.438 | 14880372 | 786.1134 |\n\n",
            "text/html": [
              "<table class=\"dataframe\">\n",
              "<caption>A data.frame: 6 × 6</caption>\n",
              "<thead>\n",
              "\t<tr><th></th><th scope=col>country</th><th scope=col>continent</th><th scope=col>year</th><th scope=col>lifeExp</th><th scope=col>pop</th><th scope=col>gdpPercap</th></tr>\n",
              "\t<tr><th></th><th scope=col>&lt;fct&gt;</th><th scope=col>&lt;fct&gt;</th><th scope=col>&lt;int&gt;</th><th scope=col>&lt;dbl&gt;</th><th scope=col>&lt;int&gt;</th><th scope=col>&lt;dbl&gt;</th></tr>\n",
              "</thead>\n",
              "<tbody>\n",
              "\t<tr><th scope=row>1</th><td>Afghanistan</td><td>Asia</td><td>1952</td><td>28.801</td><td> 8425333</td><td>779.4453</td></tr>\n",
              "\t<tr><th scope=row>2</th><td>Afghanistan</td><td>Asia</td><td>1957</td><td>30.332</td><td> 9240934</td><td>820.8530</td></tr>\n",
              "\t<tr><th scope=row>3</th><td>Afghanistan</td><td>Asia</td><td>1962</td><td>31.997</td><td>10267083</td><td>853.1007</td></tr>\n",
              "\t<tr><th scope=row>4</th><td>Afghanistan</td><td>Asia</td><td>1967</td><td>34.020</td><td>11537966</td><td>836.1971</td></tr>\n",
              "\t<tr><th scope=row>5</th><td>Afghanistan</td><td>Asia</td><td>1972</td><td>36.088</td><td>13079460</td><td>739.9811</td></tr>\n",
              "\t<tr><th scope=row>6</th><td>Afghanistan</td><td>Asia</td><td>1977</td><td>38.438</td><td>14880372</td><td>786.1134</td></tr>\n",
              "</tbody>\n",
              "</table>\n"
            ]
          },
          "metadata": {}
        }
      ]
    },
    {
      "cell_type": "code",
      "source": [
        "dat[4, 4]"
      ],
      "metadata": {
        "colab": {
          "base_uri": "https://localhost:8080/",
          "height": 34
        },
        "id": "zRvlPlR3Rkf_",
        "outputId": "8895bd94-dd4c-4fd2-dc1e-baf5af1f173a"
      },
      "execution_count": null,
      "outputs": [
        {
          "output_type": "display_data",
          "data": {
            "text/plain": [
              "[1] 34.02"
            ],
            "text/latex": "34.02",
            "text/markdown": "34.02",
            "text/html": [
              "34.02"
            ]
          },
          "metadata": {}
        }
      ]
    },
    {
      "cell_type": "code",
      "source": [
        "dat[, 4]"
      ],
      "metadata": {
        "colab": {
          "base_uri": "https://localhost:8080/",
          "height": 399
        },
        "id": "5oXE6JYBR9ze",
        "outputId": "87c126fe-f027-46d2-9ae4-6b4acea27d8b"
      },
      "execution_count": null,
      "outputs": [
        {
          "output_type": "display_data",
          "data": {
            "text/plain": [
              "   [1] 28.80100 30.33200 31.99700 34.02000 36.08800 38.43800 39.85400 40.82200\n",
              "   [9] 41.67400 41.76300 42.12900 43.82800 55.23000 59.28000 64.82000 66.22000\n",
              "  [17] 67.69000 68.93000 70.42000 72.00000 71.58100 72.95000 75.65100 76.42300\n",
              "  [25] 43.07700 45.68500 48.30300 51.40700 54.51800 58.01400 61.36800 65.79900\n",
              "  [33] 67.74400 69.15200 70.99400 72.30100 30.01500 31.99900 34.00000 35.98500\n",
              "  [41] 37.92800 39.48300 39.94200 39.90600 40.64700 40.96300 41.00300 42.73100\n",
              "  [49] 62.48500 64.39900 65.14200 65.63400 67.06500 68.48100 69.94200 70.77400\n",
              "  [57] 71.86800 73.27500 74.34000 75.32000 69.12000 70.33000 70.93000 71.10000\n",
              "  [65] 71.93000 73.49000 74.74000 76.32000 77.56000 78.83000 80.37000 81.23500\n",
              "  [73] 66.80000 67.48000 69.54000 70.14000 70.63000 72.17000 73.18000 74.94000\n",
              "  [81] 76.04000 77.51000 78.98000 79.82900 50.93900 53.83200 56.92300 59.92300\n",
              "  [89] 63.30000 65.59300 69.05200 70.75000 72.60100 73.92500 74.79500 75.63500\n",
              "  [97] 37.48400 39.34800 41.21600 43.45300 45.25200 46.92300 50.00900 52.81900\n",
              " [105] 56.01800 59.41200 62.01300 64.06200 68.00000 69.24000 70.25000 70.94000\n",
              " [113] 71.44000 72.80000 73.93000 75.35000 76.46000 77.53000 78.32000 79.44100\n",
              " [121] 38.22300 40.35800 42.61800 44.88500 47.01400 49.19000 50.90400 52.33700\n",
              " [129] 53.91900 54.77700 54.40600 56.72800 40.41400 41.89000 43.42800 45.03200\n",
              " [137] 46.71400 50.02300 53.85900 57.25100 59.95700 62.05000 63.88300 65.55400\n",
              " [145] 53.82000 58.45000 61.93000 64.79000 67.45000 69.86000 70.69000 71.14000\n",
              " [153] 72.17800 73.24400 74.09000 74.85200 47.62200 49.61800 51.52000 53.29800\n",
              " [161] 56.02400 59.31900 61.48400 63.62200 62.74500 52.55600 46.63400 50.72800\n",
              " [169] 50.91700 53.28500 55.66500 57.63200 59.50400 61.48900 63.33600 65.20500\n",
              " [177] 67.05700 69.38800 71.00600 72.39000 59.60000 66.61000 69.51000 70.42000\n",
              " [185] 70.90000 70.81000 71.08000 71.34000 71.19000 70.32000 72.14000 73.00500\n",
              " [193] 31.97500 34.90600 37.81400 40.69700 43.59100 46.13700 48.12200 49.55700\n",
              " [201] 50.26000 50.32400 50.65000 52.29500 39.03100 40.53300 42.04500 43.54800\n",
              " [209] 44.05700 45.91000 47.47100 48.21100 44.73600 45.32600 47.36000 49.58000\n",
              " [217] 39.41700 41.36600 43.41500 45.41500 40.31700 31.22000 50.95700 53.91400\n",
              " [225] 55.80300 56.53400 56.75200 59.72300 38.52300 40.42800 42.64300 44.79900\n",
              " [233] 47.04900 49.35500 52.96100 54.98500 54.31400 52.19900 49.85600 50.43000\n",
              " [241] 68.75000 69.96000 71.30000 72.13000 72.88000 74.21000 75.76000 76.86000\n",
              " [249] 77.95000 78.61000 79.77000 80.65300 35.46300 37.46400 39.47500 41.47800\n",
              " [257] 43.45700 46.77500 48.29500 50.48500 49.39600 46.06600 43.30800 44.74100\n",
              " [265] 38.09200 39.88100 41.71600 43.60100 45.56900 47.38300 49.51700 51.05100\n",
              " [273] 51.72400 51.57300 50.52500 50.65100 54.74500 56.07400 57.92400 60.52300\n",
              " [281] 63.44100 67.05200 70.56500 72.49200 74.12600 75.81600 77.86000 78.55300\n",
              " [289] 44.00000 50.54896 44.50136 58.38112 63.11888 63.96736 65.52500 67.27400\n",
              " [297] 68.69000 70.42600 72.02800 72.96100 50.64300 55.11800 57.86300 59.96300\n",
              " [305] 61.62300 63.83700 66.65300 67.76800 68.42100 70.31300 71.68200 72.88900\n",
              " [313] 40.71500 42.46000 44.46700 46.47200 48.94400 50.93900 52.93300 54.92600\n",
              " [321] 57.93900 60.66000 62.97400 65.15200 39.14300 40.65200 42.12200 44.05600\n",
              " [329] 45.98900 47.80400 47.78400 47.41200 45.54800 42.58700 44.96600 46.46200\n",
              " [337] 42.11100 45.05300 48.43500 52.04000 54.90700 55.62500 56.69500 57.47000\n",
              " [345] 56.43300 52.96200 52.97000 55.32200 57.20600 60.02600 62.84200 65.42400\n",
              " [353] 67.84900 70.75000 73.45000 74.75200 75.71300 77.26000 78.12300 78.78200\n",
              " [361] 40.47700 42.46900 44.93000 47.35000 49.80100 52.37400 53.98300 54.65500\n",
              " [369] 52.04400 47.99100 46.83200 48.32800 61.21000 64.77000 67.13000 68.50000\n",
              " [377] 69.61000 70.64000 70.46000 71.52000 72.52700 73.68000 74.87600 75.74800\n",
              " [385] 59.42100 62.32500 65.24600 68.29000 70.72300 72.64900 73.71700 74.17400\n",
              " [393] 74.41400 76.15100 77.15800 78.27300 66.87000 69.03000 69.90000 70.38000\n",
              " [401] 70.29000 70.71000 70.96000 71.58000 72.40000 74.01000 75.51000 76.48600\n",
              " [409] 70.78000 71.81000 72.35000 72.96000 73.47000 74.69000 74.63000 74.80000\n",
              " [417] 75.33000 76.11000 77.18000 78.33200 34.81200 37.32800 39.69300 42.07400\n",
              " [425] 44.36600 46.51900 48.81200 50.04000 51.60400 53.15700 53.37300 54.79100\n",
              " [433] 45.92800 49.82800 53.45900 56.75100 59.63100 61.78800 63.72700 66.04600\n",
              " [441] 68.45700 69.95700 70.84700 72.23500 48.35700 51.35600 54.64000 56.67800\n",
              " [449] 58.79600 61.31000 64.34200 67.23100 69.61300 72.31200 74.17300 74.99400\n",
              " [457] 41.89300 44.44400 46.99200 49.29300 51.13700 53.31900 56.00600 59.79700\n",
              " [465] 63.67400 67.21700 69.80600 71.33800 45.26200 48.57000 52.30700 55.85500\n",
              " [473] 58.20700 56.69600 56.60400 63.15400 66.79800 69.53500 70.73400 71.87800\n",
              " [481] 34.48200 35.98300 37.48500 38.98700 40.51600 42.02400 43.66200 45.66400\n",
              " [489] 47.54500 48.24500 49.34800 51.57900 35.92800 38.04700 40.15800 42.18900\n",
              " [497] 44.14200 44.53500 43.89000 46.45300 49.99100 53.37800 55.24000 58.04000\n",
              " [505] 34.07800 36.66700 40.05900 42.11500 43.51500 44.51000 44.91600 46.68400\n",
              " [513] 48.09100 49.40200 50.72500 52.94700 66.55000 67.49000 68.75000 69.83000\n",
              " [521] 70.87000 72.52000 74.55000 74.83000 75.70000 77.13000 78.37000 79.31300\n",
              " [529] 67.41000 68.93000 70.51000 71.55000 72.38000 73.83000 74.89000 76.34000\n",
              " [537] 77.46000 78.64000 79.59000 80.65700 37.00300 38.99900 40.48900 44.59800\n",
              " [545] 48.69000 52.79000 56.56400 60.19000 61.36600 60.46100 56.76100 56.73500\n",
              " [553] 30.00000 32.06500 33.89600 35.85700 38.30800 41.84200 45.58000 49.26500\n",
              " [561] 52.64400 55.86100 58.04100 59.44800 67.50000 69.10000 70.30000 70.80000\n",
              " [569] 71.00000 72.50000 73.80000 74.84700 76.07000 77.34000 78.67000 79.40600\n",
              " [577] 43.14900 44.77900 46.45200 48.07200 49.87500 51.75600 53.74400 55.72900\n",
              " [585] 57.50100 58.55600 58.45300 60.02200 65.86000 67.86000 69.51000 71.00000\n",
              " [593] 72.34000 73.68000 75.24000 76.67000 77.03000 77.86900 78.25600 79.48300\n",
              " [601] 42.02300 44.14200 46.95400 50.01600 53.73800 56.02900 58.13700 60.78200\n",
              " [609] 63.37300 66.32200 68.97800 70.25900 33.60900 34.55800 35.75300 37.19700\n",
              " [617] 38.84200 40.76200 42.89100 45.55200 48.57600 51.45500 53.67600 56.00700\n",
              " [625] 32.50000 33.48900 34.48800 35.49200 36.48600 37.46500 39.32700 41.24500\n",
              " [633] 43.26600 44.87300 45.50400 46.38800 37.57900 40.69600 43.59000 46.24300\n",
              " [641] 48.04200 49.92300 51.46100 53.63600 55.08900 56.67100 58.13700 60.91600\n",
              " [649] 41.91200 44.66500 48.04100 50.92400 53.88400 57.40200 60.90900 64.49200\n",
              " [657] 66.39900 67.65900 68.56500 70.19800 60.96000 64.75000 67.65000 70.00000\n",
              " [665] 72.00000 73.60000 75.45000 76.20000 77.60100 80.00000 81.49500 82.20800\n",
              " [673] 64.03000 66.41000 67.96000 69.50000 69.76000 69.95000 69.39000 69.58000\n",
              " [681] 69.17000 71.04000 72.59000 73.33800 72.49000 73.47000 73.68000 73.73000\n",
              " [689] 74.46000 76.11000 76.99000 77.23000 78.77000 78.95000 80.50000 81.75700\n",
              " [697] 37.37300 40.24900 43.60500 47.19300 50.65100 54.20800 56.59600 58.55300\n",
              " [705] 60.22300 61.76500 62.87900 64.69800 37.46800 39.91800 42.51800 45.96400\n",
              " [713] 49.20300 52.70200 56.15900 60.13700 62.68100 66.04100 68.58800 70.65000\n",
              " [721] 44.86900 47.18100 49.32500 52.46900 55.23400 57.70200 59.62000 63.04000\n",
              " [729] 65.74200 68.04200 69.45100 70.96400 45.32000 48.43700 51.45700 54.45900\n",
              " [737] 56.95000 60.41300 62.03800 65.04400 59.46100 58.81100 57.04600 59.54500\n",
              " [745] 66.91000 68.90000 70.29000 71.08000 71.28000 72.03000 73.10000 74.36000\n",
              " [753] 75.46700 76.12200 77.78300 78.88500 65.39000 67.84000 69.39000 70.75000\n",
              " [761] 71.63000 73.06000 74.45000 75.60000 76.93000 78.26900 79.69600 80.74500\n",
              " [769] 65.94000 67.81000 69.24000 71.06000 72.19000 73.48000 74.98000 76.42000\n",
              " [777] 77.44000 78.82000 80.24000 80.54600 58.53000 62.61000 65.61000 67.51000\n",
              " [785] 69.00000 70.11000 71.21000 71.77000 71.76600 72.26200 72.04700 72.56700\n",
              " [793] 63.03000 65.50000 68.73000 71.43000 73.42000 75.38000 77.11000 78.67000\n",
              " [801] 79.36000 80.69000 82.00000 82.60300 43.15800 45.66900 48.12600 51.62900\n",
              " [809] 56.52800 61.13400 63.73900 65.86900 68.01500 69.77200 71.26300 72.53500\n",
              " [817] 42.27000 44.68600 47.94900 50.65400 53.55900 56.15500 58.76600 59.33900\n",
              " [825] 59.28500 54.40700 50.99200 54.11000 50.05600 54.08100 56.65600 59.94200\n",
              " [833] 63.98300 67.15900 69.10000 70.64700 69.97800 67.72700 66.66200 67.29700\n",
              " [841] 47.45300 52.68100 55.29200 57.71600 62.61200 64.76600 67.12300 69.81000\n",
              " [849] 72.24400 74.64700 77.04500 78.62300 55.56500 58.03300 60.47000 64.62400\n",
              " [857] 67.71200 69.34300 71.30900 74.17400 75.19000 76.15600 76.90400 77.58800\n",
              " [865] 55.92800 59.48900 62.09400 63.87000 65.42100 66.09900 66.98300 67.92600\n",
              " [873] 69.29200 70.26500 71.02800 71.99300 42.13800 45.04700 47.74700 48.49200\n",
              " [881] 49.76700 52.20800 55.07800 57.18000 59.68500 55.55800 44.59300 42.59200\n",
              " [889] 38.48000 39.48600 40.50200 41.53600 42.61400 43.76400 44.85200 46.02700\n",
              " [897] 40.80200 42.22100 43.75300 45.67800 42.72300 45.28900 47.80800 50.22700\n",
              " [905] 52.77300 57.44200 62.15500 66.23400 68.75500 71.55500 72.73700 73.95200\n",
              " [913] 36.68100 38.86500 40.84800 42.88100 44.85100 46.88100 48.96900 49.35000\n",
              " [921] 52.21400 54.97800 57.28600 59.44300 36.25600 37.20700 38.41000 39.48700\n",
              " [929] 41.76600 43.76700 45.64200 47.45700 49.42000 47.49500 45.00900 48.30300\n",
              " [937] 48.46300 52.10200 55.73700 59.37100 63.01000 65.25600 68.00000 69.50000\n",
              " [945] 70.69300 71.93800 73.04400 74.24100 33.68500 35.30700 36.93600 38.48700\n",
              " [953] 39.97700 41.71400 43.91600 46.36400 48.38800 49.90300 51.81800 54.46700\n",
              " [961] 40.54300 42.33800 44.24800 46.28900 48.43700 50.85200 53.59900 56.14500\n",
              " [969] 58.33300 60.43000 62.24700 64.16400 50.98600 58.08900 60.24600 61.55700\n",
              " [977] 62.94400 64.93000 66.71100 68.74000 69.74500 70.73600 71.95400 72.80100\n",
              " [985] 50.78900 55.19000 58.29900 60.11000 62.36100 65.03200 67.40500 69.49800\n",
              " [993] 71.45500 73.67000 74.90200 76.19500 42.24400 45.24800 48.25100 51.25300\n",
              "[1001] 53.75400 55.49100 57.48900 60.22200 61.27100 63.62500 65.03300 66.80300\n",
              "[1009] 59.16400 61.44800 63.72800 67.17800 70.63600 73.06600 74.10100 74.86500\n",
              "[1017] 75.43500 75.44500 73.98100 74.54300 42.87300 45.42300 47.92400 50.33500\n",
              "[1025] 52.86200 55.73000 59.65000 62.67700 65.39300 67.66000 69.61500 71.16400\n",
              "[1033] 31.28600 33.77900 36.16100 38.11300 40.32800 42.49500 42.79500 42.86100\n",
              "[1041] 44.28400 46.34400 44.02600 42.08200 36.31900 41.90500 45.10800 49.37900\n",
              "[1049] 53.07000 56.05900 58.05600 58.33900 59.32000 60.32800 59.90800 62.06900\n",
              "[1057] 41.72500 45.22600 48.38600 51.15900 53.86700 56.43700 58.96800 60.83500\n",
              "[1065] 61.99900 58.90900 51.47900 52.90600 36.15700 37.68600 39.39300 41.47200\n",
              "[1073] 43.97100 46.74800 49.59400 52.53700 55.72700 59.42600 61.34000 63.78500\n",
              "[1081] 72.13000 72.99000 73.23000 73.82000 73.75000 75.24000 76.05000 76.83000\n",
              "[1089] 77.42000 78.03000 78.53000 79.76200 69.39000 70.26000 71.24000 71.52000\n",
              "[1097] 71.89000 72.22000 73.84000 74.32000 76.33000 77.55000 79.11000 80.20400\n",
              "[1105] 42.31400 45.43200 48.63200 51.88400 55.15100 57.47000 59.29800 62.00800\n",
              "[1113] 65.84300 68.42600 70.83600 72.89900 37.44400 38.59800 39.48700 40.11800\n",
              "[1121] 40.54600 41.29100 42.59800 44.55500 47.39100 51.31300 54.49600 56.86700\n",
              "[1129] 36.32400 37.80200 39.36000 41.04000 42.82100 44.51400 45.82600 46.88600\n",
              "[1137] 47.47200 47.46400 46.60800 46.85900 72.67000 73.44000 73.47000 74.08000\n",
              "[1145] 74.34000 75.37000 75.97000 75.89000 77.32000 78.32000 79.05000 80.19600\n",
              "[1153] 37.57800 40.08000 43.16500 46.98800 52.14300 57.36700 62.72800 67.73400\n",
              "[1161] 71.19700 72.49900 74.19300 75.64000 43.43600 45.55700 47.67000 49.80000\n",
              "[1169] 51.92900 54.04300 56.15800 58.24500 60.83800 61.81800 63.61000 65.48300\n",
              "[1177] 55.19100 59.20100 61.81700 64.07100 66.21600 68.68100 70.47200 71.52300\n",
              "[1185] 72.46200 73.73800 74.71200 75.53700 62.64900 63.19600 64.36100 64.95100\n",
              "[1193] 65.81500 66.35300 66.87400 67.37800 68.22500 69.40000 70.75500 71.75200\n",
              "[1201] 43.90200 46.26300 49.09600 51.44500 55.44800 58.44700 61.40600 64.13400\n",
              "[1209] 66.45800 68.38600 69.90600 71.42100 47.75200 51.33400 54.75700 56.39300\n",
              "[1217] 58.06500 60.06000 62.08200 64.15100 66.45800 68.56400 70.30300 71.68800\n",
              "[1225] 61.31000 65.77000 67.64000 69.61000 70.85000 70.67000 71.32000 70.98000\n",
              "[1233] 70.99000 72.75000 74.67000 75.56300 59.82000 61.51000 64.39000 66.60000\n",
              "[1241] 69.26000 70.41000 72.77000 74.06000 74.86000 75.97000 77.29000 78.09800\n",
              "[1249] 64.28000 68.54000 69.62000 71.10000 72.16000 73.44000 73.75000 74.63000\n",
              "[1257] 73.91100 74.91700 77.77800 78.74600 52.72400 55.09000 57.66600 60.54200\n",
              "[1265] 64.27400 67.06400 69.88500 71.91300 73.61500 74.77200 75.74400 76.44200\n",
              "[1273] 61.05000 64.10000 66.80000 66.80000 69.21000 69.46000 69.66000 69.53000\n",
              "[1281] 69.36000 69.72000 71.32200 72.47600 40.00000 41.50000 43.00000 44.10000\n",
              "[1289] 44.60000 45.00000 46.21800 44.02000 23.59900 36.08700 43.41300 46.24200\n",
              "[1297] 46.47100 48.94500 51.89300 54.42500 56.48000 58.55000 60.35100 61.72800\n",
              "[1305] 62.74200 63.30600 64.33700 65.52800 39.87500 42.86800 45.91400 49.90100\n",
              "[1313] 53.88600 58.69000 63.01200 66.29500 68.76800 70.53300 71.62600 72.77700\n",
              "[1321] 37.27800 39.32900 41.45400 43.56300 45.81500 48.87900 52.37900 55.76900\n",
              "[1329] 58.19600 60.18700 61.60000 63.06200 57.99600 61.68500 64.53100 66.91400\n",
              "[1337] 68.70000 70.30000 70.16200 71.21800 71.65900 72.23200 73.21300 74.00200\n",
              "[1345] 30.33100 31.57000 32.76700 34.11300 35.40000 36.78800 38.44500 40.00600\n",
              "[1353] 38.33300 39.89700 41.01200 42.56800 60.39600 63.17900 65.79800 67.94600\n",
              "[1361] 69.52100 70.79500 71.76000 73.56000 75.78800 77.15800 78.77000 79.97200\n",
              "[1369] 64.36000 67.45000 70.33000 70.98000 70.35000 70.45000 70.80000 71.08000\n",
              "[1377] 71.38000 72.71000 73.80000 74.66300 65.57000 67.85000 69.15000 69.18000\n",
              "[1385] 69.82000 70.97000 71.06300 72.25000 73.64000 75.13000 76.66000 77.92600\n",
              "[1393] 32.97800 34.97700 36.98100 38.97700 40.97300 41.97400 42.95500 44.50100\n",
              "[1401] 39.65800 43.79500 45.93600 48.15900 45.00900 47.98500 49.95100 51.92700\n",
              "[1409] 53.69600 55.52700 58.16100 60.83400 61.88800 60.23600 53.36500 49.33900\n",
              "[1417] 64.94000 66.66000 69.69000 71.44000 73.06000 74.39000 76.30000 76.90000\n",
              "[1425] 77.57000 78.77000 79.78000 80.94100 57.59300 61.45600 62.19200 64.26600\n",
              "[1433] 65.04200 65.94900 68.75700 69.01100 70.37900 70.45700 70.81500 72.39600\n",
              "[1441] 38.63500 39.62400 40.87000 42.85800 45.08300 47.80000 50.33800 51.74400\n",
              "[1449] 53.55600 55.37300 56.36900 58.55600 41.40700 43.42400 44.99200 46.63300\n",
              "[1457] 49.55200 52.53700 55.56100 57.67800 58.47400 54.28900 43.86900 39.61300\n",
              "[1465] 71.86000 72.49000 73.37000 74.16000 74.72000 75.44000 76.42000 77.19000\n",
              "[1473] 78.16000 79.39000 80.04000 80.88400 69.62000 70.56000 71.32000 72.77000\n",
              "[1481] 73.78000 75.39000 76.21000 77.41000 78.03000 79.37000 80.62000 81.70100\n",
              "[1489] 45.88300 48.28400 50.30500 53.65500 57.29600 61.19500 64.59000 66.97400\n",
              "[1497] 69.24900 71.52700 73.05300 74.14300 58.50000 62.40000 65.20000 67.50000\n",
              "[1505] 69.39000 70.59000 72.16000 73.40000 74.26000 75.25000 76.99000 78.40000\n",
              "[1513] 41.21500 42.97400 44.24600 45.75700 47.62000 49.91900 50.60800 51.53500\n",
              "[1521] 50.44000 48.46600 49.65100 52.51700 50.84800 53.63000 56.06100 58.28500\n",
              "[1529] 60.40500 62.49400 64.59700 66.08400 67.29800 67.52100 68.56400 70.61600\n",
              "[1537] 38.59600 41.20800 43.92200 46.76900 49.75900 52.88700 55.47100 56.94100\n",
              "[1545] 58.06100 58.39000 57.56100 58.42000 59.10000 61.80000 64.90000 65.40000\n",
              "[1553] 65.90000 68.30000 68.83200 69.58200 69.86200 69.46500 68.97600 69.81900\n",
              "[1561] 44.60000 47.10000 49.57900 52.05300 55.60200 59.83700 64.04800 66.89400\n",
              "[1569] 70.00100 71.97300 73.04200 73.92300 43.58500 48.07900 52.09800 54.33600\n",
              "[1577] 57.00500 59.50700 61.03600 63.10800 66.14600 68.83500 70.84500 71.77700\n",
              "[1585] 39.97800 42.57100 45.34400 48.05100 51.01600 50.35000 49.84900 51.50900\n",
              "[1593] 48.82500 44.57800 47.81300 51.54200 69.18000 70.42000 70.76000 71.36000\n",
              "[1601] 72.01000 72.76000 74.04000 75.00700 76.42000 77.21800 78.47100 79.42500\n",
              "[1609] 68.44000 69.49000 70.21000 70.76000 71.34000 73.38000 74.65000 75.02000\n",
              "[1617] 76.09000 76.81000 77.31000 78.24200 66.07100 67.04400 68.25300 68.46800\n",
              "[1625] 68.67300 69.48100 70.80500 71.91800 72.75200 74.22300 75.30700 76.38400\n",
              "[1633] 55.08800 57.90700 60.77000 63.47900 65.71200 67.45600 68.55700 70.19000\n",
              "[1641] 71.15000 72.14600 72.76600 73.74700 40.41200 42.88700 45.36300 47.83800\n",
              "[1649] 50.25400 55.76400 58.81600 62.82000 67.66200 70.67200 73.01700 74.24900\n",
              "[1657] 43.16000 45.67100 48.12700 51.63100 56.53200 60.76500 64.40600 67.04600\n",
              "[1665] 69.71800 71.09600 72.37000 73.42200 32.54800 33.97000 35.18000 36.98400\n",
              "[1673] 39.84800 44.17500 49.11300 52.92200 55.59900 58.02000 60.30800 62.69800\n",
              "[1681] 42.03800 44.07700 46.02300 47.76800 50.10700 51.38600 51.82100 50.82100\n",
              "[1689] 46.10000 40.23800 39.19300 42.38400 48.45100 50.46900 52.35800 53.99500\n",
              "[1697] 55.63500 57.67400 60.36300 62.35100 60.37700 46.80900 39.98900 43.48700"
            ],
            "text/latex": "\\begin{enumerate*}\n\\item 28.801\n\\item 30.332\n\\item 31.997\n\\item 34.02\n\\item 36.088\n\\item 38.438\n\\item 39.854\n\\item 40.822\n\\item 41.674\n\\item 41.763\n\\item 42.129\n\\item 43.828\n\\item 55.23\n\\item 59.28\n\\item 64.82\n\\item 66.22\n\\item 67.69\n\\item 68.93\n\\item 70.42\n\\item 72\n\\item 71.581\n\\item 72.95\n\\item 75.651\n\\item 76.423\n\\item 43.077\n\\item 45.685\n\\item 48.303\n\\item 51.407\n\\item 54.518\n\\item 58.014\n\\item 61.368\n\\item 65.799\n\\item 67.744\n\\item 69.152\n\\item 70.994\n\\item 72.301\n\\item 30.015\n\\item 31.999\n\\item 34\n\\item 35.985\n\\item 37.928\n\\item 39.483\n\\item 39.942\n\\item 39.906\n\\item 40.647\n\\item 40.963\n\\item 41.003\n\\item 42.731\n\\item 62.485\n\\item 64.399\n\\item 65.142\n\\item 65.634\n\\item 67.065\n\\item 68.481\n\\item 69.942\n\\item 70.774\n\\item 71.868\n\\item 73.275\n\\item 74.34\n\\item 75.32\n\\item 69.12\n\\item 70.33\n\\item 70.93\n\\item 71.1\n\\item 71.93\n\\item 73.49\n\\item 74.74\n\\item 76.32\n\\item 77.56\n\\item 78.83\n\\item 80.37\n\\item 81.235\n\\item 66.8\n\\item 67.48\n\\item 69.54\n\\item 70.14\n\\item 70.63\n\\item 72.17\n\\item 73.18\n\\item 74.94\n\\item 76.04\n\\item 77.51\n\\item 78.98\n\\item 79.829\n\\item 50.939\n\\item 53.832\n\\item 56.923\n\\item 59.923\n\\item 63.3\n\\item 65.593\n\\item 69.052\n\\item 70.75\n\\item 72.601\n\\item 73.925\n\\item 74.795\n\\item 75.635\n\\item 37.484\n\\item 39.348\n\\item 41.216\n\\item 43.453\n\\item 45.252\n\\item 46.923\n\\item 50.009\n\\item 52.819\n\\item 56.018\n\\item 59.412\n\\item 62.013\n\\item 64.062\n\\item 68\n\\item 69.24\n\\item 70.25\n\\item 70.94\n\\item 71.44\n\\item 72.8\n\\item 73.93\n\\item 75.35\n\\item 76.46\n\\item 77.53\n\\item 78.32\n\\item 79.441\n\\item 38.223\n\\item 40.358\n\\item 42.618\n\\item 44.885\n\\item 47.014\n\\item 49.19\n\\item 50.904\n\\item 52.337\n\\item 53.919\n\\item 54.777\n\\item 54.406\n\\item 56.728\n\\item 40.414\n\\item 41.89\n\\item 43.428\n\\item 45.032\n\\item 46.714\n\\item 50.023\n\\item 53.859\n\\item 57.251\n\\item 59.957\n\\item 62.05\n\\item 63.883\n\\item 65.554\n\\item 53.82\n\\item 58.45\n\\item 61.93\n\\item 64.79\n\\item 67.45\n\\item 69.86\n\\item 70.69\n\\item 71.14\n\\item 72.178\n\\item 73.244\n\\item 74.09\n\\item 74.852\n\\item 47.622\n\\item 49.618\n\\item 51.52\n\\item 53.298\n\\item 56.024\n\\item 59.319\n\\item 61.484\n\\item 63.622\n\\item 62.745\n\\item 52.556\n\\item 46.634\n\\item 50.728\n\\item 50.917\n\\item 53.285\n\\item 55.665\n\\item 57.632\n\\item 59.504\n\\item 61.489\n\\item 63.336\n\\item 65.205\n\\item 67.057\n\\item 69.388\n\\item 71.006\n\\item 72.39\n\\item 59.6\n\\item 66.61\n\\item 69.51\n\\item 70.42\n\\item 70.9\n\\item 70.81\n\\item 71.08\n\\item 71.34\n\\item 71.19\n\\item 70.32\n\\item 72.14\n\\item 73.005\n\\item 31.975\n\\item 34.906\n\\item 37.814\n\\item 40.697\n\\item 43.591\n\\item 46.137\n\\item 48.122\n\\item 49.557\n\\item ⋯\n\\item 69.39\n\\item 70.59\n\\item 72.16\n\\item 73.4\n\\item 74.26\n\\item 75.25\n\\item 76.99\n\\item 78.4\n\\item 41.215\n\\item 42.974\n\\item 44.246\n\\item 45.757\n\\item 47.62\n\\item 49.919\n\\item 50.608\n\\item 51.535\n\\item 50.44\n\\item 48.466\n\\item 49.651\n\\item 52.517\n\\item 50.848\n\\item 53.63\n\\item 56.061\n\\item 58.285\n\\item 60.405\n\\item 62.494\n\\item 64.597\n\\item 66.084\n\\item 67.298\n\\item 67.521\n\\item 68.564\n\\item 70.616\n\\item 38.596\n\\item 41.208\n\\item 43.922\n\\item 46.769\n\\item 49.759\n\\item 52.887\n\\item 55.471\n\\item 56.941\n\\item 58.061\n\\item 58.39\n\\item 57.561\n\\item 58.42\n\\item 59.1\n\\item 61.8\n\\item 64.9\n\\item 65.4\n\\item 65.9\n\\item 68.3\n\\item 68.832\n\\item 69.582\n\\item 69.862\n\\item 69.465\n\\item 68.976\n\\item 69.819\n\\item 44.6\n\\item 47.1\n\\item 49.579\n\\item 52.053\n\\item 55.602\n\\item 59.837\n\\item 64.048\n\\item 66.894\n\\item 70.001\n\\item 71.973\n\\item 73.042\n\\item 73.923\n\\item 43.585\n\\item 48.079\n\\item 52.098\n\\item 54.336\n\\item 57.005\n\\item 59.507\n\\item 61.036\n\\item 63.108\n\\item 66.146\n\\item 68.835\n\\item 70.845\n\\item 71.777\n\\item 39.978\n\\item 42.571\n\\item 45.344\n\\item 48.051\n\\item 51.016\n\\item 50.35\n\\item 49.849\n\\item 51.509\n\\item 48.825\n\\item 44.578\n\\item 47.813\n\\item 51.542\n\\item 69.18\n\\item 70.42\n\\item 70.76\n\\item 71.36\n\\item 72.01\n\\item 72.76\n\\item 74.04\n\\item 75.007\n\\item 76.42\n\\item 77.218\n\\item 78.471\n\\item 79.425\n\\item 68.44\n\\item 69.49\n\\item 70.21\n\\item 70.76\n\\item 71.34\n\\item 73.38\n\\item 74.65\n\\item 75.02\n\\item 76.09\n\\item 76.81\n\\item 77.31\n\\item 78.242\n\\item 66.071\n\\item 67.044\n\\item 68.253\n\\item 68.468\n\\item 68.673\n\\item 69.481\n\\item 70.805\n\\item 71.918\n\\item 72.752\n\\item 74.223\n\\item 75.307\n\\item 76.384\n\\item 55.088\n\\item 57.907\n\\item 60.77\n\\item 63.479\n\\item 65.712\n\\item 67.456\n\\item 68.557\n\\item 70.19\n\\item 71.15\n\\item 72.146\n\\item 72.766\n\\item 73.747\n\\item 40.412\n\\item 42.887\n\\item 45.363\n\\item 47.838\n\\item 50.254\n\\item 55.764\n\\item 58.816\n\\item 62.82\n\\item 67.662\n\\item 70.672\n\\item 73.017\n\\item 74.249\n\\item 43.16\n\\item 45.671\n\\item 48.127\n\\item 51.631\n\\item 56.532\n\\item 60.765\n\\item 64.406\n\\item 67.046\n\\item 69.718\n\\item 71.096\n\\item 72.37\n\\item 73.422\n\\item 32.548\n\\item 33.97\n\\item 35.18\n\\item 36.984\n\\item 39.848\n\\item 44.175\n\\item 49.113\n\\item 52.922\n\\item 55.599\n\\item 58.02\n\\item 60.308\n\\item 62.698\n\\item 42.038\n\\item 44.077\n\\item 46.023\n\\item 47.768\n\\item 50.107\n\\item 51.386\n\\item 51.821\n\\item 50.821\n\\item 46.1\n\\item 40.238\n\\item 39.193\n\\item 42.384\n\\item 48.451\n\\item 50.469\n\\item 52.358\n\\item 53.995\n\\item 55.635\n\\item 57.674\n\\item 60.363\n\\item 62.351\n\\item 60.377\n\\item 46.809\n\\item 39.989\n\\item 43.487\n\\end{enumerate*}\n",
            "text/markdown": "1. 28.801\n2. 30.332\n3. 31.997\n4. 34.02\n5. 36.088\n6. 38.438\n7. 39.854\n8. 40.822\n9. 41.674\n10. 41.763\n11. 42.129\n12. 43.828\n13. 55.23\n14. 59.28\n15. 64.82\n16. 66.22\n17. 67.69\n18. 68.93\n19. 70.42\n20. 72\n21. 71.581\n22. 72.95\n23. 75.651\n24. 76.423\n25. 43.077\n26. 45.685\n27. 48.303\n28. 51.407\n29. 54.518\n30. 58.014\n31. 61.368\n32. 65.799\n33. 67.744\n34. 69.152\n35. 70.994\n36. 72.301\n37. 30.015\n38. 31.999\n39. 34\n40. 35.985\n41. 37.928\n42. 39.483\n43. 39.942\n44. 39.906\n45. 40.647\n46. 40.963\n47. 41.003\n48. 42.731\n49. 62.485\n50. 64.399\n51. 65.142\n52. 65.634\n53. 67.065\n54. 68.481\n55. 69.942\n56. 70.774\n57. 71.868\n58. 73.275\n59. 74.34\n60. 75.32\n61. 69.12\n62. 70.33\n63. 70.93\n64. 71.1\n65. 71.93\n66. 73.49\n67. 74.74\n68. 76.32\n69. 77.56\n70. 78.83\n71. 80.37\n72. 81.235\n73. 66.8\n74. 67.48\n75. 69.54\n76. 70.14\n77. 70.63\n78. 72.17\n79. 73.18\n80. 74.94\n81. 76.04\n82. 77.51\n83. 78.98\n84. 79.829\n85. 50.939\n86. 53.832\n87. 56.923\n88. 59.923\n89. 63.3\n90. 65.593\n91. 69.052\n92. 70.75\n93. 72.601\n94. 73.925\n95. 74.795\n96. 75.635\n97. 37.484\n98. 39.348\n99. 41.216\n100. 43.453\n101. 45.252\n102. 46.923\n103. 50.009\n104. 52.819\n105. 56.018\n106. 59.412\n107. 62.013\n108. 64.062\n109. 68\n110. 69.24\n111. 70.25\n112. 70.94\n113. 71.44\n114. 72.8\n115. 73.93\n116. 75.35\n117. 76.46\n118. 77.53\n119. 78.32\n120. 79.441\n121. 38.223\n122. 40.358\n123. 42.618\n124. 44.885\n125. 47.014\n126. 49.19\n127. 50.904\n128. 52.337\n129. 53.919\n130. 54.777\n131. 54.406\n132. 56.728\n133. 40.414\n134. 41.89\n135. 43.428\n136. 45.032\n137. 46.714\n138. 50.023\n139. 53.859\n140. 57.251\n141. 59.957\n142. 62.05\n143. 63.883\n144. 65.554\n145. 53.82\n146. 58.45\n147. 61.93\n148. 64.79\n149. 67.45\n150. 69.86\n151. 70.69\n152. 71.14\n153. 72.178\n154. 73.244\n155. 74.09\n156. 74.852\n157. 47.622\n158. 49.618\n159. 51.52\n160. 53.298\n161. 56.024\n162. 59.319\n163. 61.484\n164. 63.622\n165. 62.745\n166. 52.556\n167. 46.634\n168. 50.728\n169. 50.917\n170. 53.285\n171. 55.665\n172. 57.632\n173. 59.504\n174. 61.489\n175. 63.336\n176. 65.205\n177. 67.057\n178. 69.388\n179. 71.006\n180. 72.39\n181. 59.6\n182. 66.61\n183. 69.51\n184. 70.42\n185. 70.9\n186. 70.81\n187. 71.08\n188. 71.34\n189. 71.19\n190. 70.32\n191. 72.14\n192. 73.005\n193. 31.975\n194. 34.906\n195. 37.814\n196. 40.697\n197. 43.591\n198. 46.137\n199. 48.122\n200. 49.557\n201. ⋯\n202. 69.39\n203. 70.59\n204. 72.16\n205. 73.4\n206. 74.26\n207. 75.25\n208. 76.99\n209. 78.4\n210. 41.215\n211. 42.974\n212. 44.246\n213. 45.757\n214. 47.62\n215. 49.919\n216. 50.608\n217. 51.535\n218. 50.44\n219. 48.466\n220. 49.651\n221. 52.517\n222. 50.848\n223. 53.63\n224. 56.061\n225. 58.285\n226. 60.405\n227. 62.494\n228. 64.597\n229. 66.084\n230. 67.298\n231. 67.521\n232. 68.564\n233. 70.616\n234. 38.596\n235. 41.208\n236. 43.922\n237. 46.769\n238. 49.759\n239. 52.887\n240. 55.471\n241. 56.941\n242. 58.061\n243. 58.39\n244. 57.561\n245. 58.42\n246. 59.1\n247. 61.8\n248. 64.9\n249. 65.4\n250. 65.9\n251. 68.3\n252. 68.832\n253. 69.582\n254. 69.862\n255. 69.465\n256. 68.976\n257. 69.819\n258. 44.6\n259. 47.1\n260. 49.579\n261. 52.053\n262. 55.602\n263. 59.837\n264. 64.048\n265. 66.894\n266. 70.001\n267. 71.973\n268. 73.042\n269. 73.923\n270. 43.585\n271. 48.079\n272. 52.098\n273. 54.336\n274. 57.005\n275. 59.507\n276. 61.036\n277. 63.108\n278. 66.146\n279. 68.835\n280. 70.845\n281. 71.777\n282. 39.978\n283. 42.571\n284. 45.344\n285. 48.051\n286. 51.016\n287. 50.35\n288. 49.849\n289. 51.509\n290. 48.825\n291. 44.578\n292. 47.813\n293. 51.542\n294. 69.18\n295. 70.42\n296. 70.76\n297. 71.36\n298. 72.01\n299. 72.76\n300. 74.04\n301. 75.007\n302. 76.42\n303. 77.218\n304. 78.471\n305. 79.425\n306. 68.44\n307. 69.49\n308. 70.21\n309. 70.76\n310. 71.34\n311. 73.38\n312. 74.65\n313. 75.02\n314. 76.09\n315. 76.81\n316. 77.31\n317. 78.242\n318. 66.071\n319. 67.044\n320. 68.253\n321. 68.468\n322. 68.673\n323. 69.481\n324. 70.805\n325. 71.918\n326. 72.752\n327. 74.223\n328. 75.307\n329. 76.384\n330. 55.088\n331. 57.907\n332. 60.77\n333. 63.479\n334. 65.712\n335. 67.456\n336. 68.557\n337. 70.19\n338. 71.15\n339. 72.146\n340. 72.766\n341. 73.747\n342. 40.412\n343. 42.887\n344. 45.363\n345. 47.838\n346. 50.254\n347. 55.764\n348. 58.816\n349. 62.82\n350. 67.662\n351. 70.672\n352. 73.017\n353. 74.249\n354. 43.16\n355. 45.671\n356. 48.127\n357. 51.631\n358. 56.532\n359. 60.765\n360. 64.406\n361. 67.046\n362. 69.718\n363. 71.096\n364. 72.37\n365. 73.422\n366. 32.548\n367. 33.97\n368. 35.18\n369. 36.984\n370. 39.848\n371. 44.175\n372. 49.113\n373. 52.922\n374. 55.599\n375. 58.02\n376. 60.308\n377. 62.698\n378. 42.038\n379. 44.077\n380. 46.023\n381. 47.768\n382. 50.107\n383. 51.386\n384. 51.821\n385. 50.821\n386. 46.1\n387. 40.238\n388. 39.193\n389. 42.384\n390. 48.451\n391. 50.469\n392. 52.358\n393. 53.995\n394. 55.635\n395. 57.674\n396. 60.363\n397. 62.351\n398. 60.377\n399. 46.809\n400. 39.989\n401. 43.487\n\n\n",
            "text/html": [
              "<style>\n",
              ".list-inline {list-style: none; margin:0; padding: 0}\n",
              ".list-inline>li {display: inline-block}\n",
              ".list-inline>li:not(:last-child)::after {content: \"\\00b7\"; padding: 0 .5ex}\n",
              "</style>\n",
              "<ol class=list-inline><li>28.801</li><li>30.332</li><li>31.997</li><li>34.02</li><li>36.088</li><li>38.438</li><li>39.854</li><li>40.822</li><li>41.674</li><li>41.763</li><li>42.129</li><li>43.828</li><li>55.23</li><li>59.28</li><li>64.82</li><li>66.22</li><li>67.69</li><li>68.93</li><li>70.42</li><li>72</li><li>71.581</li><li>72.95</li><li>75.651</li><li>76.423</li><li>43.077</li><li>45.685</li><li>48.303</li><li>51.407</li><li>54.518</li><li>58.014</li><li>61.368</li><li>65.799</li><li>67.744</li><li>69.152</li><li>70.994</li><li>72.301</li><li>30.015</li><li>31.999</li><li>34</li><li>35.985</li><li>37.928</li><li>39.483</li><li>39.942</li><li>39.906</li><li>40.647</li><li>40.963</li><li>41.003</li><li>42.731</li><li>62.485</li><li>64.399</li><li>65.142</li><li>65.634</li><li>67.065</li><li>68.481</li><li>69.942</li><li>70.774</li><li>71.868</li><li>73.275</li><li>74.34</li><li>75.32</li><li>69.12</li><li>70.33</li><li>70.93</li><li>71.1</li><li>71.93</li><li>73.49</li><li>74.74</li><li>76.32</li><li>77.56</li><li>78.83</li><li>80.37</li><li>81.235</li><li>66.8</li><li>67.48</li><li>69.54</li><li>70.14</li><li>70.63</li><li>72.17</li><li>73.18</li><li>74.94</li><li>76.04</li><li>77.51</li><li>78.98</li><li>79.829</li><li>50.939</li><li>53.832</li><li>56.923</li><li>59.923</li><li>63.3</li><li>65.593</li><li>69.052</li><li>70.75</li><li>72.601</li><li>73.925</li><li>74.795</li><li>75.635</li><li>37.484</li><li>39.348</li><li>41.216</li><li>43.453</li><li>45.252</li><li>46.923</li><li>50.009</li><li>52.819</li><li>56.018</li><li>59.412</li><li>62.013</li><li>64.062</li><li>68</li><li>69.24</li><li>70.25</li><li>70.94</li><li>71.44</li><li>72.8</li><li>73.93</li><li>75.35</li><li>76.46</li><li>77.53</li><li>78.32</li><li>79.441</li><li>38.223</li><li>40.358</li><li>42.618</li><li>44.885</li><li>47.014</li><li>49.19</li><li>50.904</li><li>52.337</li><li>53.919</li><li>54.777</li><li>54.406</li><li>56.728</li><li>40.414</li><li>41.89</li><li>43.428</li><li>45.032</li><li>46.714</li><li>50.023</li><li>53.859</li><li>57.251</li><li>59.957</li><li>62.05</li><li>63.883</li><li>65.554</li><li>53.82</li><li>58.45</li><li>61.93</li><li>64.79</li><li>67.45</li><li>69.86</li><li>70.69</li><li>71.14</li><li>72.178</li><li>73.244</li><li>74.09</li><li>74.852</li><li>47.622</li><li>49.618</li><li>51.52</li><li>53.298</li><li>56.024</li><li>59.319</li><li>61.484</li><li>63.622</li><li>62.745</li><li>52.556</li><li>46.634</li><li>50.728</li><li>50.917</li><li>53.285</li><li>55.665</li><li>57.632</li><li>59.504</li><li>61.489</li><li>63.336</li><li>65.205</li><li>67.057</li><li>69.388</li><li>71.006</li><li>72.39</li><li>59.6</li><li>66.61</li><li>69.51</li><li>70.42</li><li>70.9</li><li>70.81</li><li>71.08</li><li>71.34</li><li>71.19</li><li>70.32</li><li>72.14</li><li>73.005</li><li>31.975</li><li>34.906</li><li>37.814</li><li>40.697</li><li>43.591</li><li>46.137</li><li>48.122</li><li>49.557</li><li>⋯</li><li>69.39</li><li>70.59</li><li>72.16</li><li>73.4</li><li>74.26</li><li>75.25</li><li>76.99</li><li>78.4</li><li>41.215</li><li>42.974</li><li>44.246</li><li>45.757</li><li>47.62</li><li>49.919</li><li>50.608</li><li>51.535</li><li>50.44</li><li>48.466</li><li>49.651</li><li>52.517</li><li>50.848</li><li>53.63</li><li>56.061</li><li>58.285</li><li>60.405</li><li>62.494</li><li>64.597</li><li>66.084</li><li>67.298</li><li>67.521</li><li>68.564</li><li>70.616</li><li>38.596</li><li>41.208</li><li>43.922</li><li>46.769</li><li>49.759</li><li>52.887</li><li>55.471</li><li>56.941</li><li>58.061</li><li>58.39</li><li>57.561</li><li>58.42</li><li>59.1</li><li>61.8</li><li>64.9</li><li>65.4</li><li>65.9</li><li>68.3</li><li>68.832</li><li>69.582</li><li>69.862</li><li>69.465</li><li>68.976</li><li>69.819</li><li>44.6</li><li>47.1</li><li>49.579</li><li>52.053</li><li>55.602</li><li>59.837</li><li>64.048</li><li>66.894</li><li>70.001</li><li>71.973</li><li>73.042</li><li>73.923</li><li>43.585</li><li>48.079</li><li>52.098</li><li>54.336</li><li>57.005</li><li>59.507</li><li>61.036</li><li>63.108</li><li>66.146</li><li>68.835</li><li>70.845</li><li>71.777</li><li>39.978</li><li>42.571</li><li>45.344</li><li>48.051</li><li>51.016</li><li>50.35</li><li>49.849</li><li>51.509</li><li>48.825</li><li>44.578</li><li>47.813</li><li>51.542</li><li>69.18</li><li>70.42</li><li>70.76</li><li>71.36</li><li>72.01</li><li>72.76</li><li>74.04</li><li>75.007</li><li>76.42</li><li>77.218</li><li>78.471</li><li>79.425</li><li>68.44</li><li>69.49</li><li>70.21</li><li>70.76</li><li>71.34</li><li>73.38</li><li>74.65</li><li>75.02</li><li>76.09</li><li>76.81</li><li>77.31</li><li>78.242</li><li>66.071</li><li>67.044</li><li>68.253</li><li>68.468</li><li>68.673</li><li>69.481</li><li>70.805</li><li>71.918</li><li>72.752</li><li>74.223</li><li>75.307</li><li>76.384</li><li>55.088</li><li>57.907</li><li>60.77</li><li>63.479</li><li>65.712</li><li>67.456</li><li>68.557</li><li>70.19</li><li>71.15</li><li>72.146</li><li>72.766</li><li>73.747</li><li>40.412</li><li>42.887</li><li>45.363</li><li>47.838</li><li>50.254</li><li>55.764</li><li>58.816</li><li>62.82</li><li>67.662</li><li>70.672</li><li>73.017</li><li>74.249</li><li>43.16</li><li>45.671</li><li>48.127</li><li>51.631</li><li>56.532</li><li>60.765</li><li>64.406</li><li>67.046</li><li>69.718</li><li>71.096</li><li>72.37</li><li>73.422</li><li>32.548</li><li>33.97</li><li>35.18</li><li>36.984</li><li>39.848</li><li>44.175</li><li>49.113</li><li>52.922</li><li>55.599</li><li>58.02</li><li>60.308</li><li>62.698</li><li>42.038</li><li>44.077</li><li>46.023</li><li>47.768</li><li>50.107</li><li>51.386</li><li>51.821</li><li>50.821</li><li>46.1</li><li>40.238</li><li>39.193</li><li>42.384</li><li>48.451</li><li>50.469</li><li>52.358</li><li>53.995</li><li>55.635</li><li>57.674</li><li>60.363</li><li>62.351</li><li>60.377</li><li>46.809</li><li>39.989</li><li>43.487</li></ol>\n"
            ]
          },
          "metadata": {}
        }
      ]
    },
    {
      "cell_type": "code",
      "source": [
        "str(dat[, 4])"
      ],
      "metadata": {
        "colab": {
          "base_uri": "https://localhost:8080/"
        },
        "id": "3_8Dzy-eSLjL",
        "outputId": "61998312-9ec7-43e8-9064-c9863b33ee48"
      },
      "execution_count": null,
      "outputs": [
        {
          "output_type": "stream",
          "name": "stdout",
          "text": [
            " num [1:1704] 28.8 30.3 32 34 36.1 ...\n"
          ]
        }
      ]
    },
    {
      "cell_type": "code",
      "source": [
        "dat[1, ]"
      ],
      "metadata": {
        "colab": {
          "base_uri": "https://localhost:8080/",
          "height": 129
        },
        "id": "fxtwNs4OSE_n",
        "outputId": "a8749b3f-e037-4494-a2a2-7ffa403a4ab2"
      },
      "execution_count": null,
      "outputs": [
        {
          "output_type": "display_data",
          "data": {
            "text/plain": [
              "  country     continent year lifeExp pop     gdpPercap\n",
              "1 Afghanistan Asia      1952 28.801  8425333 779.4453 "
            ],
            "text/latex": "A data.frame: 1 × 6\n\\begin{tabular}{r|llllll}\n  & country & continent & year & lifeExp & pop & gdpPercap\\\\\n  & <fct> & <fct> & <int> & <dbl> & <int> & <dbl>\\\\\n\\hline\n\t1 & Afghanistan & Asia & 1952 & 28.801 & 8425333 & 779.4453\\\\\n\\end{tabular}\n",
            "text/markdown": "\nA data.frame: 1 × 6\n\n| <!--/--> | country &lt;fct&gt; | continent &lt;fct&gt; | year &lt;int&gt; | lifeExp &lt;dbl&gt; | pop &lt;int&gt; | gdpPercap &lt;dbl&gt; |\n|---|---|---|---|---|---|---|\n| 1 | Afghanistan | Asia | 1952 | 28.801 | 8425333 | 779.4453 |\n\n",
            "text/html": [
              "<table class=\"dataframe\">\n",
              "<caption>A data.frame: 1 × 6</caption>\n",
              "<thead>\n",
              "\t<tr><th></th><th scope=col>country</th><th scope=col>continent</th><th scope=col>year</th><th scope=col>lifeExp</th><th scope=col>pop</th><th scope=col>gdpPercap</th></tr>\n",
              "\t<tr><th></th><th scope=col>&lt;fct&gt;</th><th scope=col>&lt;fct&gt;</th><th scope=col>&lt;int&gt;</th><th scope=col>&lt;dbl&gt;</th><th scope=col>&lt;int&gt;</th><th scope=col>&lt;dbl&gt;</th></tr>\n",
              "</thead>\n",
              "<tbody>\n",
              "\t<tr><th scope=row>1</th><td>Afghanistan</td><td>Asia</td><td>1952</td><td>28.801</td><td>8425333</td><td>779.4453</td></tr>\n",
              "</tbody>\n",
              "</table>\n"
            ]
          },
          "metadata": {}
        }
      ]
    },
    {
      "cell_type": "code",
      "source": [
        "str(dat[1, ])"
      ],
      "metadata": {
        "colab": {
          "base_uri": "https://localhost:8080/"
        },
        "id": "HVD9TJJRSP5z",
        "outputId": "ad155bdc-cbfc-462e-d12d-d5c8b8025da4"
      },
      "execution_count": null,
      "outputs": [
        {
          "output_type": "stream",
          "name": "stdout",
          "text": [
            "'data.frame':\t1 obs. of  6 variables:\n",
            " $ country  : Factor w/ 142 levels \"Afghanistan\",..: 1\n",
            " $ continent: Factor w/ 5 levels \"Africa\",\"Americas\",..: 3\n",
            " $ year     : int 1952\n",
            " $ lifeExp  : num 28.8\n",
            " $ pop      : int 8425333\n",
            " $ gdpPercap: num 779\n"
          ]
        }
      ]
    },
    {
      "cell_type": "code",
      "source": [
        "str(dat[, c(3,4)])"
      ],
      "metadata": {
        "colab": {
          "base_uri": "https://localhost:8080/"
        },
        "id": "aSnEPan0SoFZ",
        "outputId": "02abbcf8-8089-48ee-f886-6f209f4e29f4"
      },
      "execution_count": null,
      "outputs": [
        {
          "output_type": "stream",
          "name": "stdout",
          "text": [
            "'data.frame':\t1704 obs. of  2 variables:\n",
            " $ year   : int  1952 1957 1962 1967 1972 1977 1982 1987 1992 1997 ...\n",
            " $ lifeExp: num  28.8 30.3 32 34 36.1 ...\n"
          ]
        }
      ]
    },
    {
      "cell_type": "code",
      "source": [
        "str(dat[, c(5,6)])"
      ],
      "metadata": {
        "colab": {
          "base_uri": "https://localhost:8080/"
        },
        "id": "3D89A8xFS06x",
        "outputId": "0b15f2c4-29b9-4377-db2a-a357bb80b6be"
      },
      "execution_count": null,
      "outputs": [
        {
          "output_type": "stream",
          "name": "stdout",
          "text": [
            "'data.frame':\t1704 obs. of  2 variables:\n",
            " $ pop      : int  8425333 9240934 10267083 11537966 13079460 14880372 12881816 13867957 16317921 22227415 ...\n",
            " $ gdpPercap: num  779 821 853 836 740 ...\n"
          ]
        }
      ]
    },
    {
      "cell_type": "markdown",
      "source": [
        "## Indices logicos"
      ],
      "metadata": {
        "id": "7ywkzF8aRSSJ"
      }
    },
    {
      "cell_type": "code",
      "source": [
        "head(dat)"
      ],
      "metadata": {
        "colab": {
          "base_uri": "https://localhost:8080/",
          "height": 286
        },
        "id": "pu7JRpBARURM",
        "outputId": "ea0f324b-12b6-4863-b730-9d256ae9f59c"
      },
      "execution_count": null,
      "outputs": [
        {
          "output_type": "display_data",
          "data": {
            "text/plain": [
              "  country     continent year lifeExp pop      gdpPercap\n",
              "1 Afghanistan Asia      1952 28.801   8425333 779.4453 \n",
              "2 Afghanistan Asia      1957 30.332   9240934 820.8530 \n",
              "3 Afghanistan Asia      1962 31.997  10267083 853.1007 \n",
              "4 Afghanistan Asia      1967 34.020  11537966 836.1971 \n",
              "5 Afghanistan Asia      1972 36.088  13079460 739.9811 \n",
              "6 Afghanistan Asia      1977 38.438  14880372 786.1134 "
            ],
            "text/latex": "A data.frame: 6 × 6\n\\begin{tabular}{r|llllll}\n  & country & continent & year & lifeExp & pop & gdpPercap\\\\\n  & <fct> & <fct> & <int> & <dbl> & <int> & <dbl>\\\\\n\\hline\n\t1 & Afghanistan & Asia & 1952 & 28.801 &  8425333 & 779.4453\\\\\n\t2 & Afghanistan & Asia & 1957 & 30.332 &  9240934 & 820.8530\\\\\n\t3 & Afghanistan & Asia & 1962 & 31.997 & 10267083 & 853.1007\\\\\n\t4 & Afghanistan & Asia & 1967 & 34.020 & 11537966 & 836.1971\\\\\n\t5 & Afghanistan & Asia & 1972 & 36.088 & 13079460 & 739.9811\\\\\n\t6 & Afghanistan & Asia & 1977 & 38.438 & 14880372 & 786.1134\\\\\n\\end{tabular}\n",
            "text/markdown": "\nA data.frame: 6 × 6\n\n| <!--/--> | country &lt;fct&gt; | continent &lt;fct&gt; | year &lt;int&gt; | lifeExp &lt;dbl&gt; | pop &lt;int&gt; | gdpPercap &lt;dbl&gt; |\n|---|---|---|---|---|---|---|\n| 1 | Afghanistan | Asia | 1952 | 28.801 |  8425333 | 779.4453 |\n| 2 | Afghanistan | Asia | 1957 | 30.332 |  9240934 | 820.8530 |\n| 3 | Afghanistan | Asia | 1962 | 31.997 | 10267083 | 853.1007 |\n| 4 | Afghanistan | Asia | 1967 | 34.020 | 11537966 | 836.1971 |\n| 5 | Afghanistan | Asia | 1972 | 36.088 | 13079460 | 739.9811 |\n| 6 | Afghanistan | Asia | 1977 | 38.438 | 14880372 | 786.1134 |\n\n",
            "text/html": [
              "<table class=\"dataframe\">\n",
              "<caption>A data.frame: 6 × 6</caption>\n",
              "<thead>\n",
              "\t<tr><th></th><th scope=col>country</th><th scope=col>continent</th><th scope=col>year</th><th scope=col>lifeExp</th><th scope=col>pop</th><th scope=col>gdpPercap</th></tr>\n",
              "\t<tr><th></th><th scope=col>&lt;fct&gt;</th><th scope=col>&lt;fct&gt;</th><th scope=col>&lt;int&gt;</th><th scope=col>&lt;dbl&gt;</th><th scope=col>&lt;int&gt;</th><th scope=col>&lt;dbl&gt;</th></tr>\n",
              "</thead>\n",
              "<tbody>\n",
              "\t<tr><th scope=row>1</th><td>Afghanistan</td><td>Asia</td><td>1952</td><td>28.801</td><td> 8425333</td><td>779.4453</td></tr>\n",
              "\t<tr><th scope=row>2</th><td>Afghanistan</td><td>Asia</td><td>1957</td><td>30.332</td><td> 9240934</td><td>820.8530</td></tr>\n",
              "\t<tr><th scope=row>3</th><td>Afghanistan</td><td>Asia</td><td>1962</td><td>31.997</td><td>10267083</td><td>853.1007</td></tr>\n",
              "\t<tr><th scope=row>4</th><td>Afghanistan</td><td>Asia</td><td>1967</td><td>34.020</td><td>11537966</td><td>836.1971</td></tr>\n",
              "\t<tr><th scope=row>5</th><td>Afghanistan</td><td>Asia</td><td>1972</td><td>36.088</td><td>13079460</td><td>739.9811</td></tr>\n",
              "\t<tr><th scope=row>6</th><td>Afghanistan</td><td>Asia</td><td>1977</td><td>38.438</td><td>14880372</td><td>786.1134</td></tr>\n",
              "</tbody>\n",
              "</table>\n"
            ]
          },
          "metadata": {}
        }
      ]
    },
    {
      "cell_type": "code",
      "source": [
        "max(dat$year)"
      ],
      "metadata": {
        "colab": {
          "base_uri": "https://localhost:8080/",
          "height": 34
        },
        "id": "yvl9VlnnTAf3",
        "outputId": "2deb012e-0f5a-4594-f6f4-b9222a8e97a5"
      },
      "execution_count": null,
      "outputs": [
        {
          "output_type": "display_data",
          "data": {
            "text/plain": [
              "[1] 2007"
            ],
            "text/latex": "2007",
            "text/markdown": "2007",
            "text/html": [
              "2007"
            ]
          },
          "metadata": {}
        }
      ]
    },
    {
      "cell_type": "code",
      "source": [
        "is_year_2007 <- dat$year == 2007 "
      ],
      "metadata": {
        "id": "1kcsCMOlTHUk"
      },
      "execution_count": null,
      "outputs": []
    },
    {
      "cell_type": "code",
      "source": [
        "head(dat[is_year_2007, ])"
      ],
      "metadata": {
        "colab": {
          "base_uri": "https://localhost:8080/",
          "height": 286
        },
        "id": "ellX4DcNTb-t",
        "outputId": "b191caca-786a-4c9e-f04f-c388e0613007"
      },
      "execution_count": null,
      "outputs": [
        {
          "output_type": "display_data",
          "data": {
            "text/plain": [
              "   country     continent year lifeExp pop      gdpPercap \n",
              "12 Afghanistan Asia      2007 43.828  31889923   974.5803\n",
              "24 Albania     Europe    2007 76.423   3600523  5937.0295\n",
              "36 Algeria     Africa    2007 72.301  33333216  6223.3675\n",
              "48 Angola      Africa    2007 42.731  12420476  4797.2313\n",
              "60 Argentina   Americas  2007 75.320  40301927 12779.3796\n",
              "72 Australia   Oceania   2007 81.235  20434176 34435.3674"
            ],
            "text/latex": "A data.frame: 6 × 6\n\\begin{tabular}{r|llllll}\n  & country & continent & year & lifeExp & pop & gdpPercap\\\\\n  & <fct> & <fct> & <int> & <dbl> & <int> & <dbl>\\\\\n\\hline\n\t12 & Afghanistan & Asia     & 2007 & 43.828 & 31889923 &   974.5803\\\\\n\t24 & Albania     & Europe   & 2007 & 76.423 &  3600523 &  5937.0295\\\\\n\t36 & Algeria     & Africa   & 2007 & 72.301 & 33333216 &  6223.3675\\\\\n\t48 & Angola      & Africa   & 2007 & 42.731 & 12420476 &  4797.2313\\\\\n\t60 & Argentina   & Americas & 2007 & 75.320 & 40301927 & 12779.3796\\\\\n\t72 & Australia   & Oceania  & 2007 & 81.235 & 20434176 & 34435.3674\\\\\n\\end{tabular}\n",
            "text/markdown": "\nA data.frame: 6 × 6\n\n| <!--/--> | country &lt;fct&gt; | continent &lt;fct&gt; | year &lt;int&gt; | lifeExp &lt;dbl&gt; | pop &lt;int&gt; | gdpPercap &lt;dbl&gt; |\n|---|---|---|---|---|---|---|\n| 12 | Afghanistan | Asia     | 2007 | 43.828 | 31889923 |   974.5803 |\n| 24 | Albania     | Europe   | 2007 | 76.423 |  3600523 |  5937.0295 |\n| 36 | Algeria     | Africa   | 2007 | 72.301 | 33333216 |  6223.3675 |\n| 48 | Angola      | Africa   | 2007 | 42.731 | 12420476 |  4797.2313 |\n| 60 | Argentina   | Americas | 2007 | 75.320 | 40301927 | 12779.3796 |\n| 72 | Australia   | Oceania  | 2007 | 81.235 | 20434176 | 34435.3674 |\n\n",
            "text/html": [
              "<table class=\"dataframe\">\n",
              "<caption>A data.frame: 6 × 6</caption>\n",
              "<thead>\n",
              "\t<tr><th></th><th scope=col>country</th><th scope=col>continent</th><th scope=col>year</th><th scope=col>lifeExp</th><th scope=col>pop</th><th scope=col>gdpPercap</th></tr>\n",
              "\t<tr><th></th><th scope=col>&lt;fct&gt;</th><th scope=col>&lt;fct&gt;</th><th scope=col>&lt;int&gt;</th><th scope=col>&lt;dbl&gt;</th><th scope=col>&lt;int&gt;</th><th scope=col>&lt;dbl&gt;</th></tr>\n",
              "</thead>\n",
              "<tbody>\n",
              "\t<tr><th scope=row>12</th><td>Afghanistan</td><td>Asia    </td><td>2007</td><td>43.828</td><td>31889923</td><td>  974.5803</td></tr>\n",
              "\t<tr><th scope=row>24</th><td>Albania    </td><td>Europe  </td><td>2007</td><td>76.423</td><td> 3600523</td><td> 5937.0295</td></tr>\n",
              "\t<tr><th scope=row>36</th><td>Algeria    </td><td>Africa  </td><td>2007</td><td>72.301</td><td>33333216</td><td> 6223.3675</td></tr>\n",
              "\t<tr><th scope=row>48</th><td>Angola     </td><td>Africa  </td><td>2007</td><td>42.731</td><td>12420476</td><td> 4797.2313</td></tr>\n",
              "\t<tr><th scope=row>60</th><td>Argentina  </td><td>Americas</td><td>2007</td><td>75.320</td><td>40301927</td><td>12779.3796</td></tr>\n",
              "\t<tr><th scope=row>72</th><td>Australia  </td><td>Oceania </td><td>2007</td><td>81.235</td><td>20434176</td><td>34435.3674</td></tr>\n",
              "</tbody>\n",
              "</table>\n"
            ]
          },
          "metadata": {}
        }
      ]
    },
    {
      "cell_type": "markdown",
      "source": [
        "Como puedo recuperar los datos de paises de 2007 que tengan una expectativa de vida menor o igual a 50 años. "
      ],
      "metadata": {
        "id": "lRZY2JjeUCXO"
      }
    },
    {
      "cell_type": "code",
      "source": [
        "dat2007 <- dat[is_year_2007, ]"
      ],
      "metadata": {
        "id": "1cmUCfuUT2Ui"
      },
      "execution_count": null,
      "outputs": []
    },
    {
      "cell_type": "code",
      "source": [
        "head(dat2007)"
      ],
      "metadata": {
        "colab": {
          "base_uri": "https://localhost:8080/",
          "height": 286
        },
        "id": "hYtK71zCUf-U",
        "outputId": "bb4d4137-61fb-4b4c-a205-6fdc0abfcfce"
      },
      "execution_count": null,
      "outputs": [
        {
          "output_type": "display_data",
          "data": {
            "text/plain": [
              "   country     continent year lifeExp pop      gdpPercap \n",
              "12 Afghanistan Asia      2007 43.828  31889923   974.5803\n",
              "24 Albania     Europe    2007 76.423   3600523  5937.0295\n",
              "36 Algeria     Africa    2007 72.301  33333216  6223.3675\n",
              "48 Angola      Africa    2007 42.731  12420476  4797.2313\n",
              "60 Argentina   Americas  2007 75.320  40301927 12779.3796\n",
              "72 Australia   Oceania   2007 81.235  20434176 34435.3674"
            ],
            "text/latex": "A data.frame: 6 × 6\n\\begin{tabular}{r|llllll}\n  & country & continent & year & lifeExp & pop & gdpPercap\\\\\n  & <fct> & <fct> & <int> & <dbl> & <int> & <dbl>\\\\\n\\hline\n\t12 & Afghanistan & Asia     & 2007 & 43.828 & 31889923 &   974.5803\\\\\n\t24 & Albania     & Europe   & 2007 & 76.423 &  3600523 &  5937.0295\\\\\n\t36 & Algeria     & Africa   & 2007 & 72.301 & 33333216 &  6223.3675\\\\\n\t48 & Angola      & Africa   & 2007 & 42.731 & 12420476 &  4797.2313\\\\\n\t60 & Argentina   & Americas & 2007 & 75.320 & 40301927 & 12779.3796\\\\\n\t72 & Australia   & Oceania  & 2007 & 81.235 & 20434176 & 34435.3674\\\\\n\\end{tabular}\n",
            "text/markdown": "\nA data.frame: 6 × 6\n\n| <!--/--> | country &lt;fct&gt; | continent &lt;fct&gt; | year &lt;int&gt; | lifeExp &lt;dbl&gt; | pop &lt;int&gt; | gdpPercap &lt;dbl&gt; |\n|---|---|---|---|---|---|---|\n| 12 | Afghanistan | Asia     | 2007 | 43.828 | 31889923 |   974.5803 |\n| 24 | Albania     | Europe   | 2007 | 76.423 |  3600523 |  5937.0295 |\n| 36 | Algeria     | Africa   | 2007 | 72.301 | 33333216 |  6223.3675 |\n| 48 | Angola      | Africa   | 2007 | 42.731 | 12420476 |  4797.2313 |\n| 60 | Argentina   | Americas | 2007 | 75.320 | 40301927 | 12779.3796 |\n| 72 | Australia   | Oceania  | 2007 | 81.235 | 20434176 | 34435.3674 |\n\n",
            "text/html": [
              "<table class=\"dataframe\">\n",
              "<caption>A data.frame: 6 × 6</caption>\n",
              "<thead>\n",
              "\t<tr><th></th><th scope=col>country</th><th scope=col>continent</th><th scope=col>year</th><th scope=col>lifeExp</th><th scope=col>pop</th><th scope=col>gdpPercap</th></tr>\n",
              "\t<tr><th></th><th scope=col>&lt;fct&gt;</th><th scope=col>&lt;fct&gt;</th><th scope=col>&lt;int&gt;</th><th scope=col>&lt;dbl&gt;</th><th scope=col>&lt;int&gt;</th><th scope=col>&lt;dbl&gt;</th></tr>\n",
              "</thead>\n",
              "<tbody>\n",
              "\t<tr><th scope=row>12</th><td>Afghanistan</td><td>Asia    </td><td>2007</td><td>43.828</td><td>31889923</td><td>  974.5803</td></tr>\n",
              "\t<tr><th scope=row>24</th><td>Albania    </td><td>Europe  </td><td>2007</td><td>76.423</td><td> 3600523</td><td> 5937.0295</td></tr>\n",
              "\t<tr><th scope=row>36</th><td>Algeria    </td><td>Africa  </td><td>2007</td><td>72.301</td><td>33333216</td><td> 6223.3675</td></tr>\n",
              "\t<tr><th scope=row>48</th><td>Angola     </td><td>Africa  </td><td>2007</td><td>42.731</td><td>12420476</td><td> 4797.2313</td></tr>\n",
              "\t<tr><th scope=row>60</th><td>Argentina  </td><td>Americas</td><td>2007</td><td>75.320</td><td>40301927</td><td>12779.3796</td></tr>\n",
              "\t<tr><th scope=row>72</th><td>Australia  </td><td>Oceania </td><td>2007</td><td>81.235</td><td>20434176</td><td>34435.3674</td></tr>\n",
              "</tbody>\n",
              "</table>\n"
            ]
          },
          "metadata": {}
        }
      ]
    },
    {
      "cell_type": "code",
      "source": [
        "is_lt_50_life_exp <- dat2007$lifeExp <= 50 "
      ],
      "metadata": {
        "id": "z5uVeYYnUiUz"
      },
      "execution_count": null,
      "outputs": []
    },
    {
      "cell_type": "code",
      "source": [
        "dat2007[is_lt_50_life_exp, ]"
      ],
      "metadata": {
        "colab": {
          "base_uri": "https://localhost:8080/",
          "height": 694
        },
        "id": "_VzTm5blU8yQ",
        "outputId": "693dd2b2-335a-4e2f-86ab-7a93e0fb82dd"
      },
      "execution_count": null,
      "outputs": [
        {
          "output_type": "display_data",
          "data": {
            "text/plain": [
              "     country                  continent year lifeExp pop       gdpPercap\n",
              "12   Afghanistan              Asia      2007 43.828   31889923  974.5803\n",
              "48   Angola                   Africa    2007 42.731   12420476 4797.2313\n",
              "216  Burundi                  Africa    2007 49.580    8390505  430.0707\n",
              "264  Central African Republic Africa    2007 44.741    4369038  706.0165\n",
              "336  Congo, Dem. Rep.         Africa    2007 46.462   64606759  277.5519\n",
              "372  Cote d'Ivoire            Africa    2007 48.328   18013409 1544.7501\n",
              "636  Guinea-Bissau            Africa    2007 46.388    1472041  579.2317\n",
              "888  Lesotho                  Africa    2007 42.592    2012649 1569.3314\n",
              "900  Liberia                  Africa    2007 45.678    3193942  414.5073\n",
              "936  Malawi                   Africa    2007 48.303   13327079  759.3499\n",
              "1044 Mozambique               Africa    2007 42.082   19951656  823.6856\n",
              "1140 Nigeria                  Africa    2007 46.859  135031164 2013.9773\n",
              "1296 Rwanda                   Africa    2007 46.242    8860588  863.0885\n",
              "1356 Sierra Leone             Africa    2007 42.568    6144562  862.5408\n",
              "1404 Somalia                  Africa    2007 48.159    9118773  926.1411\n",
              "1416 South Africa             Africa    2007 49.339   43997828 9269.6578\n",
              "1464 Swaziland                Africa    2007 39.613    1133066 4513.4806\n",
              "1692 Zambia                   Africa    2007 42.384   11746035 1271.2116\n",
              "1704 Zimbabwe                 Africa    2007 43.487   12311143  469.7093"
            ],
            "text/latex": "A data.frame: 19 × 6\n\\begin{tabular}{r|llllll}\n  & country & continent & year & lifeExp & pop & gdpPercap\\\\\n  & <fct> & <fct> & <int> & <dbl> & <int> & <dbl>\\\\\n\\hline\n\t12 & Afghanistan              & Asia   & 2007 & 43.828 &  31889923 &  974.5803\\\\\n\t48 & Angola                   & Africa & 2007 & 42.731 &  12420476 & 4797.2313\\\\\n\t216 & Burundi                  & Africa & 2007 & 49.580 &   8390505 &  430.0707\\\\\n\t264 & Central African Republic & Africa & 2007 & 44.741 &   4369038 &  706.0165\\\\\n\t336 & Congo, Dem. Rep.         & Africa & 2007 & 46.462 &  64606759 &  277.5519\\\\\n\t372 & Cote d'Ivoire            & Africa & 2007 & 48.328 &  18013409 & 1544.7501\\\\\n\t636 & Guinea-Bissau            & Africa & 2007 & 46.388 &   1472041 &  579.2317\\\\\n\t888 & Lesotho                  & Africa & 2007 & 42.592 &   2012649 & 1569.3314\\\\\n\t900 & Liberia                  & Africa & 2007 & 45.678 &   3193942 &  414.5073\\\\\n\t936 & Malawi                   & Africa & 2007 & 48.303 &  13327079 &  759.3499\\\\\n\t1044 & Mozambique               & Africa & 2007 & 42.082 &  19951656 &  823.6856\\\\\n\t1140 & Nigeria                  & Africa & 2007 & 46.859 & 135031164 & 2013.9773\\\\\n\t1296 & Rwanda                   & Africa & 2007 & 46.242 &   8860588 &  863.0885\\\\\n\t1356 & Sierra Leone             & Africa & 2007 & 42.568 &   6144562 &  862.5408\\\\\n\t1404 & Somalia                  & Africa & 2007 & 48.159 &   9118773 &  926.1411\\\\\n\t1416 & South Africa             & Africa & 2007 & 49.339 &  43997828 & 9269.6578\\\\\n\t1464 & Swaziland                & Africa & 2007 & 39.613 &   1133066 & 4513.4806\\\\\n\t1692 & Zambia                   & Africa & 2007 & 42.384 &  11746035 & 1271.2116\\\\\n\t1704 & Zimbabwe                 & Africa & 2007 & 43.487 &  12311143 &  469.7093\\\\\n\\end{tabular}\n",
            "text/markdown": "\nA data.frame: 19 × 6\n\n| <!--/--> | country &lt;fct&gt; | continent &lt;fct&gt; | year &lt;int&gt; | lifeExp &lt;dbl&gt; | pop &lt;int&gt; | gdpPercap &lt;dbl&gt; |\n|---|---|---|---|---|---|---|\n| 12 | Afghanistan              | Asia   | 2007 | 43.828 |  31889923 |  974.5803 |\n| 48 | Angola                   | Africa | 2007 | 42.731 |  12420476 | 4797.2313 |\n| 216 | Burundi                  | Africa | 2007 | 49.580 |   8390505 |  430.0707 |\n| 264 | Central African Republic | Africa | 2007 | 44.741 |   4369038 |  706.0165 |\n| 336 | Congo, Dem. Rep.         | Africa | 2007 | 46.462 |  64606759 |  277.5519 |\n| 372 | Cote d'Ivoire            | Africa | 2007 | 48.328 |  18013409 | 1544.7501 |\n| 636 | Guinea-Bissau            | Africa | 2007 | 46.388 |   1472041 |  579.2317 |\n| 888 | Lesotho                  | Africa | 2007 | 42.592 |   2012649 | 1569.3314 |\n| 900 | Liberia                  | Africa | 2007 | 45.678 |   3193942 |  414.5073 |\n| 936 | Malawi                   | Africa | 2007 | 48.303 |  13327079 |  759.3499 |\n| 1044 | Mozambique               | Africa | 2007 | 42.082 |  19951656 |  823.6856 |\n| 1140 | Nigeria                  | Africa | 2007 | 46.859 | 135031164 | 2013.9773 |\n| 1296 | Rwanda                   | Africa | 2007 | 46.242 |   8860588 |  863.0885 |\n| 1356 | Sierra Leone             | Africa | 2007 | 42.568 |   6144562 |  862.5408 |\n| 1404 | Somalia                  | Africa | 2007 | 48.159 |   9118773 |  926.1411 |\n| 1416 | South Africa             | Africa | 2007 | 49.339 |  43997828 | 9269.6578 |\n| 1464 | Swaziland                | Africa | 2007 | 39.613 |   1133066 | 4513.4806 |\n| 1692 | Zambia                   | Africa | 2007 | 42.384 |  11746035 | 1271.2116 |\n| 1704 | Zimbabwe                 | Africa | 2007 | 43.487 |  12311143 |  469.7093 |\n\n",
            "text/html": [
              "<table class=\"dataframe\">\n",
              "<caption>A data.frame: 19 × 6</caption>\n",
              "<thead>\n",
              "\t<tr><th></th><th scope=col>country</th><th scope=col>continent</th><th scope=col>year</th><th scope=col>lifeExp</th><th scope=col>pop</th><th scope=col>gdpPercap</th></tr>\n",
              "\t<tr><th></th><th scope=col>&lt;fct&gt;</th><th scope=col>&lt;fct&gt;</th><th scope=col>&lt;int&gt;</th><th scope=col>&lt;dbl&gt;</th><th scope=col>&lt;int&gt;</th><th scope=col>&lt;dbl&gt;</th></tr>\n",
              "</thead>\n",
              "<tbody>\n",
              "\t<tr><th scope=row>12</th><td>Afghanistan             </td><td>Asia  </td><td>2007</td><td>43.828</td><td> 31889923</td><td> 974.5803</td></tr>\n",
              "\t<tr><th scope=row>48</th><td>Angola                  </td><td>Africa</td><td>2007</td><td>42.731</td><td> 12420476</td><td>4797.2313</td></tr>\n",
              "\t<tr><th scope=row>216</th><td>Burundi                 </td><td>Africa</td><td>2007</td><td>49.580</td><td>  8390505</td><td> 430.0707</td></tr>\n",
              "\t<tr><th scope=row>264</th><td>Central African Republic</td><td>Africa</td><td>2007</td><td>44.741</td><td>  4369038</td><td> 706.0165</td></tr>\n",
              "\t<tr><th scope=row>336</th><td>Congo, Dem. Rep.        </td><td>Africa</td><td>2007</td><td>46.462</td><td> 64606759</td><td> 277.5519</td></tr>\n",
              "\t<tr><th scope=row>372</th><td>Cote d'Ivoire           </td><td>Africa</td><td>2007</td><td>48.328</td><td> 18013409</td><td>1544.7501</td></tr>\n",
              "\t<tr><th scope=row>636</th><td>Guinea-Bissau           </td><td>Africa</td><td>2007</td><td>46.388</td><td>  1472041</td><td> 579.2317</td></tr>\n",
              "\t<tr><th scope=row>888</th><td>Lesotho                 </td><td>Africa</td><td>2007</td><td>42.592</td><td>  2012649</td><td>1569.3314</td></tr>\n",
              "\t<tr><th scope=row>900</th><td>Liberia                 </td><td>Africa</td><td>2007</td><td>45.678</td><td>  3193942</td><td> 414.5073</td></tr>\n",
              "\t<tr><th scope=row>936</th><td>Malawi                  </td><td>Africa</td><td>2007</td><td>48.303</td><td> 13327079</td><td> 759.3499</td></tr>\n",
              "\t<tr><th scope=row>1044</th><td>Mozambique              </td><td>Africa</td><td>2007</td><td>42.082</td><td> 19951656</td><td> 823.6856</td></tr>\n",
              "\t<tr><th scope=row>1140</th><td>Nigeria                 </td><td>Africa</td><td>2007</td><td>46.859</td><td>135031164</td><td>2013.9773</td></tr>\n",
              "\t<tr><th scope=row>1296</th><td>Rwanda                  </td><td>Africa</td><td>2007</td><td>46.242</td><td>  8860588</td><td> 863.0885</td></tr>\n",
              "\t<tr><th scope=row>1356</th><td>Sierra Leone            </td><td>Africa</td><td>2007</td><td>42.568</td><td>  6144562</td><td> 862.5408</td></tr>\n",
              "\t<tr><th scope=row>1404</th><td>Somalia                 </td><td>Africa</td><td>2007</td><td>48.159</td><td>  9118773</td><td> 926.1411</td></tr>\n",
              "\t<tr><th scope=row>1416</th><td>South Africa            </td><td>Africa</td><td>2007</td><td>49.339</td><td> 43997828</td><td>9269.6578</td></tr>\n",
              "\t<tr><th scope=row>1464</th><td>Swaziland               </td><td>Africa</td><td>2007</td><td>39.613</td><td>  1133066</td><td>4513.4806</td></tr>\n",
              "\t<tr><th scope=row>1692</th><td>Zambia                  </td><td>Africa</td><td>2007</td><td>42.384</td><td> 11746035</td><td>1271.2116</td></tr>\n",
              "\t<tr><th scope=row>1704</th><td>Zimbabwe                </td><td>Africa</td><td>2007</td><td>43.487</td><td> 12311143</td><td> 469.7093</td></tr>\n",
              "</tbody>\n",
              "</table>\n"
            ]
          },
          "metadata": {}
        }
      ]
    },
    {
      "cell_type": "code",
      "source": [
        "positions <- which(is_lt_50_life_exp)\n",
        "positions "
      ],
      "metadata": {
        "colab": {
          "base_uri": "https://localhost:8080/",
          "height": 34
        },
        "id": "n_RGnRUJVc1k",
        "outputId": "d7b46337-15f0-43e4-aed8-91b998acf881"
      },
      "execution_count": null,
      "outputs": [
        {
          "output_type": "display_data",
          "data": {
            "text/plain": [
              " [1]   1   4  18  22  28  31  53  74  75  78  87  95 108 113 117 118 122 141 142"
            ],
            "text/latex": "\\begin{enumerate*}\n\\item 1\n\\item 4\n\\item 18\n\\item 22\n\\item 28\n\\item 31\n\\item 53\n\\item 74\n\\item 75\n\\item 78\n\\item 87\n\\item 95\n\\item 108\n\\item 113\n\\item 117\n\\item 118\n\\item 122\n\\item 141\n\\item 142\n\\end{enumerate*}\n",
            "text/markdown": "1. 1\n2. 4\n3. 18\n4. 22\n5. 28\n6. 31\n7. 53\n8. 74\n9. 75\n10. 78\n11. 87\n12. 95\n13. 108\n14. 113\n15. 117\n16. 118\n17. 122\n18. 141\n19. 142\n\n\n",
            "text/html": [
              "<style>\n",
              ".list-inline {list-style: none; margin:0; padding: 0}\n",
              ".list-inline>li {display: inline-block}\n",
              ".list-inline>li:not(:last-child)::after {content: \"\\00b7\"; padding: 0 .5ex}\n",
              "</style>\n",
              "<ol class=list-inline><li>1</li><li>4</li><li>18</li><li>22</li><li>28</li><li>31</li><li>53</li><li>74</li><li>75</li><li>78</li><li>87</li><li>95</li><li>108</li><li>113</li><li>117</li><li>118</li><li>122</li><li>141</li><li>142</li></ol>\n"
            ]
          },
          "metadata": {}
        }
      ]
    },
    {
      "cell_type": "code",
      "source": [
        "head(dat2007)"
      ],
      "metadata": {
        "colab": {
          "base_uri": "https://localhost:8080/",
          "height": 286
        },
        "id": "b9AKAzEHWVTT",
        "outputId": "99404bd1-5452-4431-b0a5-29ac649742b2"
      },
      "execution_count": null,
      "outputs": [
        {
          "output_type": "display_data",
          "data": {
            "text/plain": [
              "   country     continent year lifeExp pop      gdpPercap \n",
              "12 Afghanistan Asia      2007 43.828  31889923   974.5803\n",
              "24 Albania     Europe    2007 76.423   3600523  5937.0295\n",
              "36 Algeria     Africa    2007 72.301  33333216  6223.3675\n",
              "48 Angola      Africa    2007 42.731  12420476  4797.2313\n",
              "60 Argentina   Americas  2007 75.320  40301927 12779.3796\n",
              "72 Australia   Oceania   2007 81.235  20434176 34435.3674"
            ],
            "text/latex": "A data.frame: 6 × 6\n\\begin{tabular}{r|llllll}\n  & country & continent & year & lifeExp & pop & gdpPercap\\\\\n  & <fct> & <fct> & <int> & <dbl> & <int> & <dbl>\\\\\n\\hline\n\t12 & Afghanistan & Asia     & 2007 & 43.828 & 31889923 &   974.5803\\\\\n\t24 & Albania     & Europe   & 2007 & 76.423 &  3600523 &  5937.0295\\\\\n\t36 & Algeria     & Africa   & 2007 & 72.301 & 33333216 &  6223.3675\\\\\n\t48 & Angola      & Africa   & 2007 & 42.731 & 12420476 &  4797.2313\\\\\n\t60 & Argentina   & Americas & 2007 & 75.320 & 40301927 & 12779.3796\\\\\n\t72 & Australia   & Oceania  & 2007 & 81.235 & 20434176 & 34435.3674\\\\\n\\end{tabular}\n",
            "text/markdown": "\nA data.frame: 6 × 6\n\n| <!--/--> | country &lt;fct&gt; | continent &lt;fct&gt; | year &lt;int&gt; | lifeExp &lt;dbl&gt; | pop &lt;int&gt; | gdpPercap &lt;dbl&gt; |\n|---|---|---|---|---|---|---|\n| 12 | Afghanistan | Asia     | 2007 | 43.828 | 31889923 |   974.5803 |\n| 24 | Albania     | Europe   | 2007 | 76.423 |  3600523 |  5937.0295 |\n| 36 | Algeria     | Africa   | 2007 | 72.301 | 33333216 |  6223.3675 |\n| 48 | Angola      | Africa   | 2007 | 42.731 | 12420476 |  4797.2313 |\n| 60 | Argentina   | Americas | 2007 | 75.320 | 40301927 | 12779.3796 |\n| 72 | Australia   | Oceania  | 2007 | 81.235 | 20434176 | 34435.3674 |\n\n",
            "text/html": [
              "<table class=\"dataframe\">\n",
              "<caption>A data.frame: 6 × 6</caption>\n",
              "<thead>\n",
              "\t<tr><th></th><th scope=col>country</th><th scope=col>continent</th><th scope=col>year</th><th scope=col>lifeExp</th><th scope=col>pop</th><th scope=col>gdpPercap</th></tr>\n",
              "\t<tr><th></th><th scope=col>&lt;fct&gt;</th><th scope=col>&lt;fct&gt;</th><th scope=col>&lt;int&gt;</th><th scope=col>&lt;dbl&gt;</th><th scope=col>&lt;int&gt;</th><th scope=col>&lt;dbl&gt;</th></tr>\n",
              "</thead>\n",
              "<tbody>\n",
              "\t<tr><th scope=row>12</th><td>Afghanistan</td><td>Asia    </td><td>2007</td><td>43.828</td><td>31889923</td><td>  974.5803</td></tr>\n",
              "\t<tr><th scope=row>24</th><td>Albania    </td><td>Europe  </td><td>2007</td><td>76.423</td><td> 3600523</td><td> 5937.0295</td></tr>\n",
              "\t<tr><th scope=row>36</th><td>Algeria    </td><td>Africa  </td><td>2007</td><td>72.301</td><td>33333216</td><td> 6223.3675</td></tr>\n",
              "\t<tr><th scope=row>48</th><td>Angola     </td><td>Africa  </td><td>2007</td><td>42.731</td><td>12420476</td><td> 4797.2313</td></tr>\n",
              "\t<tr><th scope=row>60</th><td>Argentina  </td><td>Americas</td><td>2007</td><td>75.320</td><td>40301927</td><td>12779.3796</td></tr>\n",
              "\t<tr><th scope=row>72</th><td>Australia  </td><td>Oceania </td><td>2007</td><td>81.235</td><td>20434176</td><td>34435.3674</td></tr>\n",
              "</tbody>\n",
              "</table>\n"
            ]
          },
          "metadata": {}
        }
      ]
    },
    {
      "cell_type": "markdown",
      "source": [
        "Podemos quitar los labels de las filas con el siguiente código:"
      ],
      "metadata": {
        "id": "1c1xvblXWyKW"
      }
    },
    {
      "cell_type": "code",
      "source": [
        "rownames(dat2007) <- NULL"
      ],
      "metadata": {
        "id": "NAPwYTdbWYpq"
      },
      "execution_count": null,
      "outputs": []
    },
    {
      "cell_type": "code",
      "source": [
        "head(dat2007)"
      ],
      "metadata": {
        "colab": {
          "base_uri": "https://localhost:8080/",
          "height": 286
        },
        "id": "e5dQyxVZXSx7",
        "outputId": "4f6d4d72-9ea9-4f16-afea-aa5468faf858"
      },
      "execution_count": null,
      "outputs": [
        {
          "output_type": "display_data",
          "data": {
            "text/plain": [
              "  country     continent year lifeExp pop      gdpPercap \n",
              "1 Afghanistan Asia      2007 43.828  31889923   974.5803\n",
              "2 Albania     Europe    2007 76.423   3600523  5937.0295\n",
              "3 Algeria     Africa    2007 72.301  33333216  6223.3675\n",
              "4 Angola      Africa    2007 42.731  12420476  4797.2313\n",
              "5 Argentina   Americas  2007 75.320  40301927 12779.3796\n",
              "6 Australia   Oceania   2007 81.235  20434176 34435.3674"
            ],
            "text/latex": "A data.frame: 6 × 6\n\\begin{tabular}{r|llllll}\n  & country & continent & year & lifeExp & pop & gdpPercap\\\\\n  & <fct> & <fct> & <int> & <dbl> & <int> & <dbl>\\\\\n\\hline\n\t1 & Afghanistan & Asia     & 2007 & 43.828 & 31889923 &   974.5803\\\\\n\t2 & Albania     & Europe   & 2007 & 76.423 &  3600523 &  5937.0295\\\\\n\t3 & Algeria     & Africa   & 2007 & 72.301 & 33333216 &  6223.3675\\\\\n\t4 & Angola      & Africa   & 2007 & 42.731 & 12420476 &  4797.2313\\\\\n\t5 & Argentina   & Americas & 2007 & 75.320 & 40301927 & 12779.3796\\\\\n\t6 & Australia   & Oceania  & 2007 & 81.235 & 20434176 & 34435.3674\\\\\n\\end{tabular}\n",
            "text/markdown": "\nA data.frame: 6 × 6\n\n| <!--/--> | country &lt;fct&gt; | continent &lt;fct&gt; | year &lt;int&gt; | lifeExp &lt;dbl&gt; | pop &lt;int&gt; | gdpPercap &lt;dbl&gt; |\n|---|---|---|---|---|---|---|\n| 1 | Afghanistan | Asia     | 2007 | 43.828 | 31889923 |   974.5803 |\n| 2 | Albania     | Europe   | 2007 | 76.423 |  3600523 |  5937.0295 |\n| 3 | Algeria     | Africa   | 2007 | 72.301 | 33333216 |  6223.3675 |\n| 4 | Angola      | Africa   | 2007 | 42.731 | 12420476 |  4797.2313 |\n| 5 | Argentina   | Americas | 2007 | 75.320 | 40301927 | 12779.3796 |\n| 6 | Australia   | Oceania  | 2007 | 81.235 | 20434176 | 34435.3674 |\n\n",
            "text/html": [
              "<table class=\"dataframe\">\n",
              "<caption>A data.frame: 6 × 6</caption>\n",
              "<thead>\n",
              "\t<tr><th></th><th scope=col>country</th><th scope=col>continent</th><th scope=col>year</th><th scope=col>lifeExp</th><th scope=col>pop</th><th scope=col>gdpPercap</th></tr>\n",
              "\t<tr><th></th><th scope=col>&lt;fct&gt;</th><th scope=col>&lt;fct&gt;</th><th scope=col>&lt;int&gt;</th><th scope=col>&lt;dbl&gt;</th><th scope=col>&lt;int&gt;</th><th scope=col>&lt;dbl&gt;</th></tr>\n",
              "</thead>\n",
              "<tbody>\n",
              "\t<tr><th scope=row>1</th><td>Afghanistan</td><td>Asia    </td><td>2007</td><td>43.828</td><td>31889923</td><td>  974.5803</td></tr>\n",
              "\t<tr><th scope=row>2</th><td>Albania    </td><td>Europe  </td><td>2007</td><td>76.423</td><td> 3600523</td><td> 5937.0295</td></tr>\n",
              "\t<tr><th scope=row>3</th><td>Algeria    </td><td>Africa  </td><td>2007</td><td>72.301</td><td>33333216</td><td> 6223.3675</td></tr>\n",
              "\t<tr><th scope=row>4</th><td>Angola     </td><td>Africa  </td><td>2007</td><td>42.731</td><td>12420476</td><td> 4797.2313</td></tr>\n",
              "\t<tr><th scope=row>5</th><td>Argentina  </td><td>Americas</td><td>2007</td><td>75.320</td><td>40301927</td><td>12779.3796</td></tr>\n",
              "\t<tr><th scope=row>6</th><td>Australia  </td><td>Oceania </td><td>2007</td><td>81.235</td><td>20434176</td><td>34435.3674</td></tr>\n",
              "</tbody>\n",
              "</table>\n"
            ]
          },
          "metadata": {}
        }
      ]
    },
    {
      "cell_type": "code",
      "source": [
        "dat2007[positions, ]"
      ],
      "metadata": {
        "colab": {
          "base_uri": "https://localhost:8080/",
          "height": 694
        },
        "id": "uxB77zmVXUuZ",
        "outputId": "344dbb8e-31bb-447e-80bd-111cdf2140f1"
      },
      "execution_count": null,
      "outputs": [
        {
          "output_type": "display_data",
          "data": {
            "text/plain": [
              "    country                  continent year lifeExp pop       gdpPercap\n",
              "1   Afghanistan              Asia      2007 43.828   31889923  974.5803\n",
              "4   Angola                   Africa    2007 42.731   12420476 4797.2313\n",
              "18  Burundi                  Africa    2007 49.580    8390505  430.0707\n",
              "22  Central African Republic Africa    2007 44.741    4369038  706.0165\n",
              "28  Congo, Dem. Rep.         Africa    2007 46.462   64606759  277.5519\n",
              "31  Cote d'Ivoire            Africa    2007 48.328   18013409 1544.7501\n",
              "53  Guinea-Bissau            Africa    2007 46.388    1472041  579.2317\n",
              "74  Lesotho                  Africa    2007 42.592    2012649 1569.3314\n",
              "75  Liberia                  Africa    2007 45.678    3193942  414.5073\n",
              "78  Malawi                   Africa    2007 48.303   13327079  759.3499\n",
              "87  Mozambique               Africa    2007 42.082   19951656  823.6856\n",
              "95  Nigeria                  Africa    2007 46.859  135031164 2013.9773\n",
              "108 Rwanda                   Africa    2007 46.242    8860588  863.0885\n",
              "113 Sierra Leone             Africa    2007 42.568    6144562  862.5408\n",
              "117 Somalia                  Africa    2007 48.159    9118773  926.1411\n",
              "118 South Africa             Africa    2007 49.339   43997828 9269.6578\n",
              "122 Swaziland                Africa    2007 39.613    1133066 4513.4806\n",
              "141 Zambia                   Africa    2007 42.384   11746035 1271.2116\n",
              "142 Zimbabwe                 Africa    2007 43.487   12311143  469.7093"
            ],
            "text/latex": "A data.frame: 19 × 6\n\\begin{tabular}{r|llllll}\n  & country & continent & year & lifeExp & pop & gdpPercap\\\\\n  & <fct> & <fct> & <int> & <dbl> & <int> & <dbl>\\\\\n\\hline\n\t1 & Afghanistan              & Asia   & 2007 & 43.828 &  31889923 &  974.5803\\\\\n\t4 & Angola                   & Africa & 2007 & 42.731 &  12420476 & 4797.2313\\\\\n\t18 & Burundi                  & Africa & 2007 & 49.580 &   8390505 &  430.0707\\\\\n\t22 & Central African Republic & Africa & 2007 & 44.741 &   4369038 &  706.0165\\\\\n\t28 & Congo, Dem. Rep.         & Africa & 2007 & 46.462 &  64606759 &  277.5519\\\\\n\t31 & Cote d'Ivoire            & Africa & 2007 & 48.328 &  18013409 & 1544.7501\\\\\n\t53 & Guinea-Bissau            & Africa & 2007 & 46.388 &   1472041 &  579.2317\\\\\n\t74 & Lesotho                  & Africa & 2007 & 42.592 &   2012649 & 1569.3314\\\\\n\t75 & Liberia                  & Africa & 2007 & 45.678 &   3193942 &  414.5073\\\\\n\t78 & Malawi                   & Africa & 2007 & 48.303 &  13327079 &  759.3499\\\\\n\t87 & Mozambique               & Africa & 2007 & 42.082 &  19951656 &  823.6856\\\\\n\t95 & Nigeria                  & Africa & 2007 & 46.859 & 135031164 & 2013.9773\\\\\n\t108 & Rwanda                   & Africa & 2007 & 46.242 &   8860588 &  863.0885\\\\\n\t113 & Sierra Leone             & Africa & 2007 & 42.568 &   6144562 &  862.5408\\\\\n\t117 & Somalia                  & Africa & 2007 & 48.159 &   9118773 &  926.1411\\\\\n\t118 & South Africa             & Africa & 2007 & 49.339 &  43997828 & 9269.6578\\\\\n\t122 & Swaziland                & Africa & 2007 & 39.613 &   1133066 & 4513.4806\\\\\n\t141 & Zambia                   & Africa & 2007 & 42.384 &  11746035 & 1271.2116\\\\\n\t142 & Zimbabwe                 & Africa & 2007 & 43.487 &  12311143 &  469.7093\\\\\n\\end{tabular}\n",
            "text/markdown": "\nA data.frame: 19 × 6\n\n| <!--/--> | country &lt;fct&gt; | continent &lt;fct&gt; | year &lt;int&gt; | lifeExp &lt;dbl&gt; | pop &lt;int&gt; | gdpPercap &lt;dbl&gt; |\n|---|---|---|---|---|---|---|\n| 1 | Afghanistan              | Asia   | 2007 | 43.828 |  31889923 |  974.5803 |\n| 4 | Angola                   | Africa | 2007 | 42.731 |  12420476 | 4797.2313 |\n| 18 | Burundi                  | Africa | 2007 | 49.580 |   8390505 |  430.0707 |\n| 22 | Central African Republic | Africa | 2007 | 44.741 |   4369038 |  706.0165 |\n| 28 | Congo, Dem. Rep.         | Africa | 2007 | 46.462 |  64606759 |  277.5519 |\n| 31 | Cote d'Ivoire            | Africa | 2007 | 48.328 |  18013409 | 1544.7501 |\n| 53 | Guinea-Bissau            | Africa | 2007 | 46.388 |   1472041 |  579.2317 |\n| 74 | Lesotho                  | Africa | 2007 | 42.592 |   2012649 | 1569.3314 |\n| 75 | Liberia                  | Africa | 2007 | 45.678 |   3193942 |  414.5073 |\n| 78 | Malawi                   | Africa | 2007 | 48.303 |  13327079 |  759.3499 |\n| 87 | Mozambique               | Africa | 2007 | 42.082 |  19951656 |  823.6856 |\n| 95 | Nigeria                  | Africa | 2007 | 46.859 | 135031164 | 2013.9773 |\n| 108 | Rwanda                   | Africa | 2007 | 46.242 |   8860588 |  863.0885 |\n| 113 | Sierra Leone             | Africa | 2007 | 42.568 |   6144562 |  862.5408 |\n| 117 | Somalia                  | Africa | 2007 | 48.159 |   9118773 |  926.1411 |\n| 118 | South Africa             | Africa | 2007 | 49.339 |  43997828 | 9269.6578 |\n| 122 | Swaziland                | Africa | 2007 | 39.613 |   1133066 | 4513.4806 |\n| 141 | Zambia                   | Africa | 2007 | 42.384 |  11746035 | 1271.2116 |\n| 142 | Zimbabwe                 | Africa | 2007 | 43.487 |  12311143 |  469.7093 |\n\n",
            "text/html": [
              "<table class=\"dataframe\">\n",
              "<caption>A data.frame: 19 × 6</caption>\n",
              "<thead>\n",
              "\t<tr><th></th><th scope=col>country</th><th scope=col>continent</th><th scope=col>year</th><th scope=col>lifeExp</th><th scope=col>pop</th><th scope=col>gdpPercap</th></tr>\n",
              "\t<tr><th></th><th scope=col>&lt;fct&gt;</th><th scope=col>&lt;fct&gt;</th><th scope=col>&lt;int&gt;</th><th scope=col>&lt;dbl&gt;</th><th scope=col>&lt;int&gt;</th><th scope=col>&lt;dbl&gt;</th></tr>\n",
              "</thead>\n",
              "<tbody>\n",
              "\t<tr><th scope=row>1</th><td>Afghanistan             </td><td>Asia  </td><td>2007</td><td>43.828</td><td> 31889923</td><td> 974.5803</td></tr>\n",
              "\t<tr><th scope=row>4</th><td>Angola                  </td><td>Africa</td><td>2007</td><td>42.731</td><td> 12420476</td><td>4797.2313</td></tr>\n",
              "\t<tr><th scope=row>18</th><td>Burundi                 </td><td>Africa</td><td>2007</td><td>49.580</td><td>  8390505</td><td> 430.0707</td></tr>\n",
              "\t<tr><th scope=row>22</th><td>Central African Republic</td><td>Africa</td><td>2007</td><td>44.741</td><td>  4369038</td><td> 706.0165</td></tr>\n",
              "\t<tr><th scope=row>28</th><td>Congo, Dem. Rep.        </td><td>Africa</td><td>2007</td><td>46.462</td><td> 64606759</td><td> 277.5519</td></tr>\n",
              "\t<tr><th scope=row>31</th><td>Cote d'Ivoire           </td><td>Africa</td><td>2007</td><td>48.328</td><td> 18013409</td><td>1544.7501</td></tr>\n",
              "\t<tr><th scope=row>53</th><td>Guinea-Bissau           </td><td>Africa</td><td>2007</td><td>46.388</td><td>  1472041</td><td> 579.2317</td></tr>\n",
              "\t<tr><th scope=row>74</th><td>Lesotho                 </td><td>Africa</td><td>2007</td><td>42.592</td><td>  2012649</td><td>1569.3314</td></tr>\n",
              "\t<tr><th scope=row>75</th><td>Liberia                 </td><td>Africa</td><td>2007</td><td>45.678</td><td>  3193942</td><td> 414.5073</td></tr>\n",
              "\t<tr><th scope=row>78</th><td>Malawi                  </td><td>Africa</td><td>2007</td><td>48.303</td><td> 13327079</td><td> 759.3499</td></tr>\n",
              "\t<tr><th scope=row>87</th><td>Mozambique              </td><td>Africa</td><td>2007</td><td>42.082</td><td> 19951656</td><td> 823.6856</td></tr>\n",
              "\t<tr><th scope=row>95</th><td>Nigeria                 </td><td>Africa</td><td>2007</td><td>46.859</td><td>135031164</td><td>2013.9773</td></tr>\n",
              "\t<tr><th scope=row>108</th><td>Rwanda                  </td><td>Africa</td><td>2007</td><td>46.242</td><td>  8860588</td><td> 863.0885</td></tr>\n",
              "\t<tr><th scope=row>113</th><td>Sierra Leone            </td><td>Africa</td><td>2007</td><td>42.568</td><td>  6144562</td><td> 862.5408</td></tr>\n",
              "\t<tr><th scope=row>117</th><td>Somalia                 </td><td>Africa</td><td>2007</td><td>48.159</td><td>  9118773</td><td> 926.1411</td></tr>\n",
              "\t<tr><th scope=row>118</th><td>South Africa            </td><td>Africa</td><td>2007</td><td>49.339</td><td> 43997828</td><td>9269.6578</td></tr>\n",
              "\t<tr><th scope=row>122</th><td>Swaziland               </td><td>Africa</td><td>2007</td><td>39.613</td><td>  1133066</td><td>4513.4806</td></tr>\n",
              "\t<tr><th scope=row>141</th><td>Zambia                  </td><td>Africa</td><td>2007</td><td>42.384</td><td> 11746035</td><td>1271.2116</td></tr>\n",
              "\t<tr><th scope=row>142</th><td>Zimbabwe                </td><td>Africa</td><td>2007</td><td>43.487</td><td> 12311143</td><td> 469.7093</td></tr>\n",
              "</tbody>\n",
              "</table>\n"
            ]
          },
          "metadata": {}
        }
      ]
    },
    {
      "cell_type": "code",
      "source": [
        "index_selection <- dat$year == 2007 & dat$lifeExp <= 50  # la mejor de hacerlo \n",
        "                                                         # es problematico hacerlo \n",
        "                                                         # haciendo asignaciones \n",
        "                                                         # intermedias."
      ],
      "metadata": {
        "id": "vxB-ZPUjXi7m"
      },
      "execution_count": null,
      "outputs": []
    },
    {
      "cell_type": "code",
      "source": [
        "dat[index_selection, ]"
      ],
      "metadata": {
        "colab": {
          "base_uri": "https://localhost:8080/",
          "height": 694
        },
        "id": "RIbFVFdVX3sA",
        "outputId": "a75adda1-804c-4f52-cdff-e417873c10fe"
      },
      "execution_count": null,
      "outputs": [
        {
          "output_type": "display_data",
          "data": {
            "text/plain": [
              "     country                  continent year lifeExp pop       gdpPercap\n",
              "12   Afghanistan              Asia      2007 43.828   31889923  974.5803\n",
              "48   Angola                   Africa    2007 42.731   12420476 4797.2313\n",
              "216  Burundi                  Africa    2007 49.580    8390505  430.0707\n",
              "264  Central African Republic Africa    2007 44.741    4369038  706.0165\n",
              "336  Congo, Dem. Rep.         Africa    2007 46.462   64606759  277.5519\n",
              "372  Cote d'Ivoire            Africa    2007 48.328   18013409 1544.7501\n",
              "636  Guinea-Bissau            Africa    2007 46.388    1472041  579.2317\n",
              "888  Lesotho                  Africa    2007 42.592    2012649 1569.3314\n",
              "900  Liberia                  Africa    2007 45.678    3193942  414.5073\n",
              "936  Malawi                   Africa    2007 48.303   13327079  759.3499\n",
              "1044 Mozambique               Africa    2007 42.082   19951656  823.6856\n",
              "1140 Nigeria                  Africa    2007 46.859  135031164 2013.9773\n",
              "1296 Rwanda                   Africa    2007 46.242    8860588  863.0885\n",
              "1356 Sierra Leone             Africa    2007 42.568    6144562  862.5408\n",
              "1404 Somalia                  Africa    2007 48.159    9118773  926.1411\n",
              "1416 South Africa             Africa    2007 49.339   43997828 9269.6578\n",
              "1464 Swaziland                Africa    2007 39.613    1133066 4513.4806\n",
              "1692 Zambia                   Africa    2007 42.384   11746035 1271.2116\n",
              "1704 Zimbabwe                 Africa    2007 43.487   12311143  469.7093"
            ],
            "text/latex": "A data.frame: 19 × 6\n\\begin{tabular}{r|llllll}\n  & country & continent & year & lifeExp & pop & gdpPercap\\\\\n  & <fct> & <fct> & <int> & <dbl> & <int> & <dbl>\\\\\n\\hline\n\t12 & Afghanistan              & Asia   & 2007 & 43.828 &  31889923 &  974.5803\\\\\n\t48 & Angola                   & Africa & 2007 & 42.731 &  12420476 & 4797.2313\\\\\n\t216 & Burundi                  & Africa & 2007 & 49.580 &   8390505 &  430.0707\\\\\n\t264 & Central African Republic & Africa & 2007 & 44.741 &   4369038 &  706.0165\\\\\n\t336 & Congo, Dem. Rep.         & Africa & 2007 & 46.462 &  64606759 &  277.5519\\\\\n\t372 & Cote d'Ivoire            & Africa & 2007 & 48.328 &  18013409 & 1544.7501\\\\\n\t636 & Guinea-Bissau            & Africa & 2007 & 46.388 &   1472041 &  579.2317\\\\\n\t888 & Lesotho                  & Africa & 2007 & 42.592 &   2012649 & 1569.3314\\\\\n\t900 & Liberia                  & Africa & 2007 & 45.678 &   3193942 &  414.5073\\\\\n\t936 & Malawi                   & Africa & 2007 & 48.303 &  13327079 &  759.3499\\\\\n\t1044 & Mozambique               & Africa & 2007 & 42.082 &  19951656 &  823.6856\\\\\n\t1140 & Nigeria                  & Africa & 2007 & 46.859 & 135031164 & 2013.9773\\\\\n\t1296 & Rwanda                   & Africa & 2007 & 46.242 &   8860588 &  863.0885\\\\\n\t1356 & Sierra Leone             & Africa & 2007 & 42.568 &   6144562 &  862.5408\\\\\n\t1404 & Somalia                  & Africa & 2007 & 48.159 &   9118773 &  926.1411\\\\\n\t1416 & South Africa             & Africa & 2007 & 49.339 &  43997828 & 9269.6578\\\\\n\t1464 & Swaziland                & Africa & 2007 & 39.613 &   1133066 & 4513.4806\\\\\n\t1692 & Zambia                   & Africa & 2007 & 42.384 &  11746035 & 1271.2116\\\\\n\t1704 & Zimbabwe                 & Africa & 2007 & 43.487 &  12311143 &  469.7093\\\\\n\\end{tabular}\n",
            "text/markdown": "\nA data.frame: 19 × 6\n\n| <!--/--> | country &lt;fct&gt; | continent &lt;fct&gt; | year &lt;int&gt; | lifeExp &lt;dbl&gt; | pop &lt;int&gt; | gdpPercap &lt;dbl&gt; |\n|---|---|---|---|---|---|---|\n| 12 | Afghanistan              | Asia   | 2007 | 43.828 |  31889923 |  974.5803 |\n| 48 | Angola                   | Africa | 2007 | 42.731 |  12420476 | 4797.2313 |\n| 216 | Burundi                  | Africa | 2007 | 49.580 |   8390505 |  430.0707 |\n| 264 | Central African Republic | Africa | 2007 | 44.741 |   4369038 |  706.0165 |\n| 336 | Congo, Dem. Rep.         | Africa | 2007 | 46.462 |  64606759 |  277.5519 |\n| 372 | Cote d'Ivoire            | Africa | 2007 | 48.328 |  18013409 | 1544.7501 |\n| 636 | Guinea-Bissau            | Africa | 2007 | 46.388 |   1472041 |  579.2317 |\n| 888 | Lesotho                  | Africa | 2007 | 42.592 |   2012649 | 1569.3314 |\n| 900 | Liberia                  | Africa | 2007 | 45.678 |   3193942 |  414.5073 |\n| 936 | Malawi                   | Africa | 2007 | 48.303 |  13327079 |  759.3499 |\n| 1044 | Mozambique               | Africa | 2007 | 42.082 |  19951656 |  823.6856 |\n| 1140 | Nigeria                  | Africa | 2007 | 46.859 | 135031164 | 2013.9773 |\n| 1296 | Rwanda                   | Africa | 2007 | 46.242 |   8860588 |  863.0885 |\n| 1356 | Sierra Leone             | Africa | 2007 | 42.568 |   6144562 |  862.5408 |\n| 1404 | Somalia                  | Africa | 2007 | 48.159 |   9118773 |  926.1411 |\n| 1416 | South Africa             | Africa | 2007 | 49.339 |  43997828 | 9269.6578 |\n| 1464 | Swaziland                | Africa | 2007 | 39.613 |   1133066 | 4513.4806 |\n| 1692 | Zambia                   | Africa | 2007 | 42.384 |  11746035 | 1271.2116 |\n| 1704 | Zimbabwe                 | Africa | 2007 | 43.487 |  12311143 |  469.7093 |\n\n",
            "text/html": [
              "<table class=\"dataframe\">\n",
              "<caption>A data.frame: 19 × 6</caption>\n",
              "<thead>\n",
              "\t<tr><th></th><th scope=col>country</th><th scope=col>continent</th><th scope=col>year</th><th scope=col>lifeExp</th><th scope=col>pop</th><th scope=col>gdpPercap</th></tr>\n",
              "\t<tr><th></th><th scope=col>&lt;fct&gt;</th><th scope=col>&lt;fct&gt;</th><th scope=col>&lt;int&gt;</th><th scope=col>&lt;dbl&gt;</th><th scope=col>&lt;int&gt;</th><th scope=col>&lt;dbl&gt;</th></tr>\n",
              "</thead>\n",
              "<tbody>\n",
              "\t<tr><th scope=row>12</th><td>Afghanistan             </td><td>Asia  </td><td>2007</td><td>43.828</td><td> 31889923</td><td> 974.5803</td></tr>\n",
              "\t<tr><th scope=row>48</th><td>Angola                  </td><td>Africa</td><td>2007</td><td>42.731</td><td> 12420476</td><td>4797.2313</td></tr>\n",
              "\t<tr><th scope=row>216</th><td>Burundi                 </td><td>Africa</td><td>2007</td><td>49.580</td><td>  8390505</td><td> 430.0707</td></tr>\n",
              "\t<tr><th scope=row>264</th><td>Central African Republic</td><td>Africa</td><td>2007</td><td>44.741</td><td>  4369038</td><td> 706.0165</td></tr>\n",
              "\t<tr><th scope=row>336</th><td>Congo, Dem. Rep.        </td><td>Africa</td><td>2007</td><td>46.462</td><td> 64606759</td><td> 277.5519</td></tr>\n",
              "\t<tr><th scope=row>372</th><td>Cote d'Ivoire           </td><td>Africa</td><td>2007</td><td>48.328</td><td> 18013409</td><td>1544.7501</td></tr>\n",
              "\t<tr><th scope=row>636</th><td>Guinea-Bissau           </td><td>Africa</td><td>2007</td><td>46.388</td><td>  1472041</td><td> 579.2317</td></tr>\n",
              "\t<tr><th scope=row>888</th><td>Lesotho                 </td><td>Africa</td><td>2007</td><td>42.592</td><td>  2012649</td><td>1569.3314</td></tr>\n",
              "\t<tr><th scope=row>900</th><td>Liberia                 </td><td>Africa</td><td>2007</td><td>45.678</td><td>  3193942</td><td> 414.5073</td></tr>\n",
              "\t<tr><th scope=row>936</th><td>Malawi                  </td><td>Africa</td><td>2007</td><td>48.303</td><td> 13327079</td><td> 759.3499</td></tr>\n",
              "\t<tr><th scope=row>1044</th><td>Mozambique              </td><td>Africa</td><td>2007</td><td>42.082</td><td> 19951656</td><td> 823.6856</td></tr>\n",
              "\t<tr><th scope=row>1140</th><td>Nigeria                 </td><td>Africa</td><td>2007</td><td>46.859</td><td>135031164</td><td>2013.9773</td></tr>\n",
              "\t<tr><th scope=row>1296</th><td>Rwanda                  </td><td>Africa</td><td>2007</td><td>46.242</td><td>  8860588</td><td> 863.0885</td></tr>\n",
              "\t<tr><th scope=row>1356</th><td>Sierra Leone            </td><td>Africa</td><td>2007</td><td>42.568</td><td>  6144562</td><td> 862.5408</td></tr>\n",
              "\t<tr><th scope=row>1404</th><td>Somalia                 </td><td>Africa</td><td>2007</td><td>48.159</td><td>  9118773</td><td> 926.1411</td></tr>\n",
              "\t<tr><th scope=row>1416</th><td>South Africa            </td><td>Africa</td><td>2007</td><td>49.339</td><td> 43997828</td><td>9269.6578</td></tr>\n",
              "\t<tr><th scope=row>1464</th><td>Swaziland               </td><td>Africa</td><td>2007</td><td>39.613</td><td>  1133066</td><td>4513.4806</td></tr>\n",
              "\t<tr><th scope=row>1692</th><td>Zambia                  </td><td>Africa</td><td>2007</td><td>42.384</td><td> 11746035</td><td>1271.2116</td></tr>\n",
              "\t<tr><th scope=row>1704</th><td>Zimbabwe                </td><td>Africa</td><td>2007</td><td>43.487</td><td> 12311143</td><td> 469.7093</td></tr>\n",
              "</tbody>\n",
              "</table>\n"
            ]
          },
          "metadata": {}
        }
      ]
    },
    {
      "cell_type": "markdown",
      "source": [
        "## Operadores de comparación\n",
        "\n",
        "* x == y \n",
        "* x != y \n",
        "* x < y \n",
        "* x > y \n",
        "* x <= y \n",
        "* x >= y \n",
        "\n",
        "## Operadores lógicos \n",
        "\n",
        "* a & b    \"y\" lógico \n",
        "* a | b    \"o\" lógico \n",
        "* ! a      \"no\" lógico"
      ],
      "metadata": {
        "id": "hqPe542YYL3I"
      }
    },
    {
      "cell_type": "markdown",
      "source": [
        "# Datos ausentes"
      ],
      "metadata": {
        "id": "D-FSG72-beOz"
      }
    },
    {
      "cell_type": "code",
      "source": [
        "summary(dat)"
      ],
      "metadata": {
        "colab": {
          "base_uri": "https://localhost:8080/",
          "height": 302
        },
        "id": "kpFwU1xDcAyH",
        "outputId": "2f6f87c5-ca1f-432c-b78b-62a1dcf07d2a"
      },
      "execution_count": null,
      "outputs": [
        {
          "output_type": "display_data",
          "data": {
            "text/plain": [
              "        country        continent        year         lifeExp     \n",
              " Afghanistan:  12   Africa  :624   Min.   :1952   Min.   :23.60  \n",
              " Albania    :  12   Americas:300   1st Qu.:1966   1st Qu.:48.20  \n",
              " Algeria    :  12   Asia    :396   Median :1980   Median :60.71  \n",
              " Angola     :  12   Europe  :360   Mean   :1980   Mean   :59.47  \n",
              " Argentina  :  12   Oceania : 24   3rd Qu.:1993   3rd Qu.:70.85  \n",
              " Australia  :  12                  Max.   :2007   Max.   :82.60  \n",
              " (Other)    :1632                                                \n",
              "      pop              gdpPercap       \n",
              " Min.   :6.001e+04   Min.   :   241.2  \n",
              " 1st Qu.:2.794e+06   1st Qu.:  1202.1  \n",
              " Median :7.024e+06   Median :  3531.8  \n",
              " Mean   :2.960e+07   Mean   :  7215.3  \n",
              " 3rd Qu.:1.959e+07   3rd Qu.:  9325.5  \n",
              " Max.   :1.319e+09   Max.   :113523.1  \n",
              "                                       "
            ]
          },
          "metadata": {}
        }
      ]
    },
    {
      "cell_type": "code",
      "source": [
        "x = rnorm(100)\n",
        "y = rnorm(100)\n",
        "z = rnorm(100)"
      ],
      "metadata": {
        "id": "bWsUdXu0bhLp"
      },
      "execution_count": null,
      "outputs": []
    },
    {
      "cell_type": "code",
      "source": [
        "x[100] <- NA "
      ],
      "metadata": {
        "id": "kJZ1W9zyb9vJ"
      },
      "execution_count": null,
      "outputs": []
    },
    {
      "cell_type": "code",
      "source": [
        "dat_xyz <- data.frame(x=x, y=y, z=z)"
      ],
      "metadata": {
        "id": "kLIPPOaAck0C"
      },
      "execution_count": null,
      "outputs": []
    },
    {
      "cell_type": "code",
      "source": [
        "head(dat_xyz)"
      ],
      "metadata": {
        "colab": {
          "base_uri": "https://localhost:8080/",
          "height": 286
        },
        "id": "vRMHQ756d2mA",
        "outputId": "8612bf51-f1bd-4f63-8892-980471ac595f"
      },
      "execution_count": null,
      "outputs": [
        {
          "output_type": "display_data",
          "data": {
            "text/plain": [
              "  x            y           z         \n",
              "1 -1.522760728 -0.17278385  1.6440702\n",
              "2  0.002336691 -0.03965585 -0.9459399\n",
              "3  0.836284804 -2.13626585 -0.3733436\n",
              "4  1.531894235 -0.27431987  0.3496181\n",
              "5 -1.556432858  0.79602429  0.8842228\n",
              "6  0.336744228  0.99709619  0.2075722"
            ],
            "text/latex": "A data.frame: 6 × 3\n\\begin{tabular}{r|lll}\n  & x & y & z\\\\\n  & <dbl> & <dbl> & <dbl>\\\\\n\\hline\n\t1 & -1.522760728 & -0.17278385 &  1.6440702\\\\\n\t2 &  0.002336691 & -0.03965585 & -0.9459399\\\\\n\t3 &  0.836284804 & -2.13626585 & -0.3733436\\\\\n\t4 &  1.531894235 & -0.27431987 &  0.3496181\\\\\n\t5 & -1.556432858 &  0.79602429 &  0.8842228\\\\\n\t6 &  0.336744228 &  0.99709619 &  0.2075722\\\\\n\\end{tabular}\n",
            "text/markdown": "\nA data.frame: 6 × 3\n\n| <!--/--> | x &lt;dbl&gt; | y &lt;dbl&gt; | z &lt;dbl&gt; |\n|---|---|---|---|\n| 1 | -1.522760728 | -0.17278385 |  1.6440702 |\n| 2 |  0.002336691 | -0.03965585 | -0.9459399 |\n| 3 |  0.836284804 | -2.13626585 | -0.3733436 |\n| 4 |  1.531894235 | -0.27431987 |  0.3496181 |\n| 5 | -1.556432858 |  0.79602429 |  0.8842228 |\n| 6 |  0.336744228 |  0.99709619 |  0.2075722 |\n\n",
            "text/html": [
              "<table class=\"dataframe\">\n",
              "<caption>A data.frame: 6 × 3</caption>\n",
              "<thead>\n",
              "\t<tr><th></th><th scope=col>x</th><th scope=col>y</th><th scope=col>z</th></tr>\n",
              "\t<tr><th></th><th scope=col>&lt;dbl&gt;</th><th scope=col>&lt;dbl&gt;</th><th scope=col>&lt;dbl&gt;</th></tr>\n",
              "</thead>\n",
              "<tbody>\n",
              "\t<tr><th scope=row>1</th><td>-1.522760728</td><td>-0.17278385</td><td> 1.6440702</td></tr>\n",
              "\t<tr><th scope=row>2</th><td> 0.002336691</td><td>-0.03965585</td><td>-0.9459399</td></tr>\n",
              "\t<tr><th scope=row>3</th><td> 0.836284804</td><td>-2.13626585</td><td>-0.3733436</td></tr>\n",
              "\t<tr><th scope=row>4</th><td> 1.531894235</td><td>-0.27431987</td><td> 0.3496181</td></tr>\n",
              "\t<tr><th scope=row>5</th><td>-1.556432858</td><td> 0.79602429</td><td> 0.8842228</td></tr>\n",
              "\t<tr><th scope=row>6</th><td> 0.336744228</td><td> 0.99709619</td><td> 0.2075722</td></tr>\n",
              "</tbody>\n",
              "</table>\n"
            ]
          },
          "metadata": {}
        }
      ]
    },
    {
      "cell_type": "code",
      "source": [
        "summary(dat_xyz)"
      ],
      "metadata": {
        "colab": {
          "base_uri": "https://localhost:8080/",
          "height": 159
        },
        "id": "1OEgR7jWcp-X",
        "outputId": "3275aff4-77ad-4886-b2cb-80c615db0588"
      },
      "execution_count": null,
      "outputs": [
        {
          "output_type": "display_data",
          "data": {
            "text/plain": [
              "       x                  y                  z           \n",
              " Min.   :-2.65329   Min.   :-2.15970   Min.   :-2.08846  \n",
              " 1st Qu.:-0.99292   1st Qu.:-0.75650   1st Qu.:-0.57268  \n",
              " Median :-0.05969   Median :-0.03412   Median : 0.12575  \n",
              " Mean   :-0.12622   Mean   :-0.04251   Mean   : 0.09827  \n",
              " 3rd Qu.: 0.60239   3rd Qu.: 0.78729   3rd Qu.: 0.65687  \n",
              " Max.   : 2.50666   Max.   : 2.73073   Max.   : 2.18655  \n",
              " NA's   :1                                               "
            ]
          },
          "metadata": {}
        }
      ]
    },
    {
      "cell_type": "code",
      "source": [
        "sum(is.na(dat_xyz))"
      ],
      "metadata": {
        "colab": {
          "base_uri": "https://localhost:8080/",
          "height": 34
        },
        "id": "ZQkyz1FMcrZ7",
        "outputId": "b1a7a1a3-4341-4975-982a-d993ffde3d1f"
      },
      "execution_count": null,
      "outputs": [
        {
          "output_type": "display_data",
          "data": {
            "text/plain": [
              "[1] 1"
            ],
            "text/latex": "1",
            "text/markdown": "1",
            "text/html": [
              "1"
            ]
          },
          "metadata": {}
        }
      ]
    },
    {
      "cell_type": "code",
      "source": [
        "1 + NA"
      ],
      "metadata": {
        "colab": {
          "base_uri": "https://localhost:8080/",
          "height": 34
        },
        "id": "1R0wqE3pc37m",
        "outputId": "978a98f3-6973-4e10-93c9-ab6f8f0e5ecf"
      },
      "execution_count": null,
      "outputs": [
        {
          "output_type": "display_data",
          "data": {
            "text/plain": [
              "[1] NA"
            ],
            "text/latex": "<NA>",
            "text/markdown": "&lt;NA&gt;",
            "text/html": [
              "&lt;NA&gt;"
            ]
          },
          "metadata": {}
        }
      ]
    },
    {
      "cell_type": "code",
      "source": [
        "mean(dat_xyz$x)"
      ],
      "metadata": {
        "colab": {
          "base_uri": "https://localhost:8080/",
          "height": 34
        },
        "id": "PhHvOm1zdHg2",
        "outputId": "19a3f519-14ab-4850-f17f-f87bbd05930c"
      },
      "execution_count": null,
      "outputs": [
        {
          "output_type": "display_data",
          "data": {
            "text/plain": [
              "[1] NA"
            ],
            "text/latex": "<NA>",
            "text/markdown": "&lt;NA&gt;",
            "text/html": [
              "&lt;NA&gt;"
            ]
          },
          "metadata": {}
        }
      ]
    },
    {
      "cell_type": "code",
      "source": [
        "mean(dat_xyz$x, na.rm = TRUE) # la mejor opcion"
      ],
      "metadata": {
        "colab": {
          "base_uri": "https://localhost:8080/",
          "height": 34
        },
        "id": "XXxkh3CsdYkn",
        "outputId": "7cb7ce58-7576-411e-8676-504f53a288f7"
      },
      "execution_count": null,
      "outputs": [
        {
          "output_type": "display_data",
          "data": {
            "text/plain": [
              "[1] -0.1262172"
            ],
            "text/latex": "-0.126217179139734",
            "text/markdown": "-0.126217179139734",
            "text/html": [
              "-0.126217179139734"
            ]
          },
          "metadata": {}
        }
      ]
    },
    {
      "cell_type": "markdown",
      "source": [
        "Podria hacer el calcula de la media de la variable x en el dataframe dat_xyz en dos pasos, usando la función is.na. "
      ],
      "metadata": {
        "id": "S6HFXaLbdply"
      }
    },
    {
      "cell_type": "code",
      "source": [
        "not_missing <- !is.na(dat_xyz$x)\n",
        "mean(dat_xyz$x[not_missing])"
      ],
      "metadata": {
        "colab": {
          "base_uri": "https://localhost:8080/",
          "height": 34
        },
        "id": "0W0eYVmwdyIv",
        "outputId": "1aaf2fb9-e6b3-493f-eb95-86b49c53301c"
      },
      "execution_count": null,
      "outputs": [
        {
          "output_type": "display_data",
          "data": {
            "text/plain": [
              "[1] -0.1262172"
            ],
            "text/latex": "-0.126217179139734",
            "text/markdown": "-0.126217179139734",
            "text/html": [
              "-0.126217179139734"
            ]
          },
          "metadata": {}
        }
      ]
    },
    {
      "cell_type": "code",
      "source": [
        "positions <- which(not_missing)\n",
        "positions"
      ],
      "metadata": {
        "colab": {
          "base_uri": "https://localhost:8080/",
          "height": 69
        },
        "id": "Bx5Yes8Yebot",
        "outputId": "dccdba82-afa5-41d6-bf7f-33011dd2c1b9"
      },
      "execution_count": null,
      "outputs": [
        {
          "output_type": "display_data",
          "data": {
            "text/plain": [
              " [1]  1  2  3  4  5  6  7  8  9 10 11 12 13 14 15 16 17 18 19 20 21 22 23 24 25\n",
              "[26] 26 27 28 29 30 31 32 33 34 35 36 37 38 39 40 41 42 43 44 45 46 47 48 49 50\n",
              "[51] 51 52 53 54 55 56 57 58 59 60 61 62 63 64 65 66 67 68 69 70 71 72 73 74 75\n",
              "[76] 76 77 78 79 80 81 82 83 84 85 86 87 88 89 90 91 92 93 94 95 96 97 98 99"
            ],
            "text/latex": "\\begin{enumerate*}\n\\item 1\n\\item 2\n\\item 3\n\\item 4\n\\item 5\n\\item 6\n\\item 7\n\\item 8\n\\item 9\n\\item 10\n\\item 11\n\\item 12\n\\item 13\n\\item 14\n\\item 15\n\\item 16\n\\item 17\n\\item 18\n\\item 19\n\\item 20\n\\item 21\n\\item 22\n\\item 23\n\\item 24\n\\item 25\n\\item 26\n\\item 27\n\\item 28\n\\item 29\n\\item 30\n\\item 31\n\\item 32\n\\item 33\n\\item 34\n\\item 35\n\\item 36\n\\item 37\n\\item 38\n\\item 39\n\\item 40\n\\item 41\n\\item 42\n\\item 43\n\\item 44\n\\item 45\n\\item 46\n\\item 47\n\\item 48\n\\item 49\n\\item 50\n\\item 51\n\\item 52\n\\item 53\n\\item 54\n\\item 55\n\\item 56\n\\item 57\n\\item 58\n\\item 59\n\\item 60\n\\item 61\n\\item 62\n\\item 63\n\\item 64\n\\item 65\n\\item 66\n\\item 67\n\\item 68\n\\item 69\n\\item 70\n\\item 71\n\\item 72\n\\item 73\n\\item 74\n\\item 75\n\\item 76\n\\item 77\n\\item 78\n\\item 79\n\\item 80\n\\item 81\n\\item 82\n\\item 83\n\\item 84\n\\item 85\n\\item 86\n\\item 87\n\\item 88\n\\item 89\n\\item 90\n\\item 91\n\\item 92\n\\item 93\n\\item 94\n\\item 95\n\\item 96\n\\item 97\n\\item 98\n\\item 99\n\\end{enumerate*}\n",
            "text/markdown": "1. 1\n2. 2\n3. 3\n4. 4\n5. 5\n6. 6\n7. 7\n8. 8\n9. 9\n10. 10\n11. 11\n12. 12\n13. 13\n14. 14\n15. 15\n16. 16\n17. 17\n18. 18\n19. 19\n20. 20\n21. 21\n22. 22\n23. 23\n24. 24\n25. 25\n26. 26\n27. 27\n28. 28\n29. 29\n30. 30\n31. 31\n32. 32\n33. 33\n34. 34\n35. 35\n36. 36\n37. 37\n38. 38\n39. 39\n40. 40\n41. 41\n42. 42\n43. 43\n44. 44\n45. 45\n46. 46\n47. 47\n48. 48\n49. 49\n50. 50\n51. 51\n52. 52\n53. 53\n54. 54\n55. 55\n56. 56\n57. 57\n58. 58\n59. 59\n60. 60\n61. 61\n62. 62\n63. 63\n64. 64\n65. 65\n66. 66\n67. 67\n68. 68\n69. 69\n70. 70\n71. 71\n72. 72\n73. 73\n74. 74\n75. 75\n76. 76\n77. 77\n78. 78\n79. 79\n80. 80\n81. 81\n82. 82\n83. 83\n84. 84\n85. 85\n86. 86\n87. 87\n88. 88\n89. 89\n90. 90\n91. 91\n92. 92\n93. 93\n94. 94\n95. 95\n96. 96\n97. 97\n98. 98\n99. 99\n\n\n",
            "text/html": [
              "<style>\n",
              ".list-inline {list-style: none; margin:0; padding: 0}\n",
              ".list-inline>li {display: inline-block}\n",
              ".list-inline>li:not(:last-child)::after {content: \"\\00b7\"; padding: 0 .5ex}\n",
              "</style>\n",
              "<ol class=list-inline><li>1</li><li>2</li><li>3</li><li>4</li><li>5</li><li>6</li><li>7</li><li>8</li><li>9</li><li>10</li><li>11</li><li>12</li><li>13</li><li>14</li><li>15</li><li>16</li><li>17</li><li>18</li><li>19</li><li>20</li><li>21</li><li>22</li><li>23</li><li>24</li><li>25</li><li>26</li><li>27</li><li>28</li><li>29</li><li>30</li><li>31</li><li>32</li><li>33</li><li>34</li><li>35</li><li>36</li><li>37</li><li>38</li><li>39</li><li>40</li><li>41</li><li>42</li><li>43</li><li>44</li><li>45</li><li>46</li><li>47</li><li>48</li><li>49</li><li>50</li><li>51</li><li>52</li><li>53</li><li>54</li><li>55</li><li>56</li><li>57</li><li>58</li><li>59</li><li>60</li><li>61</li><li>62</li><li>63</li><li>64</li><li>65</li><li>66</li><li>67</li><li>68</li><li>69</li><li>70</li><li>71</li><li>72</li><li>73</li><li>74</li><li>75</li><li>76</li><li>77</li><li>78</li><li>79</li><li>80</li><li>81</li><li>82</li><li>83</li><li>84</li><li>85</li><li>86</li><li>87</li><li>88</li><li>89</li><li>90</li><li>91</li><li>92</li><li>93</li><li>94</li><li>95</li><li>96</li><li>97</li><li>98</li><li>99</li></ol>\n"
            ]
          },
          "metadata": {}
        }
      ]
    },
    {
      "cell_type": "code",
      "source": [
        "mean(dat_xyz$x[positions])"
      ],
      "metadata": {
        "colab": {
          "base_uri": "https://localhost:8080/",
          "height": 34
        },
        "id": "0Ksh4Cy1enj_",
        "outputId": "7d279da5-2cf5-438e-e612-a4f95cf98e68"
      },
      "execution_count": null,
      "outputs": [
        {
          "output_type": "display_data",
          "data": {
            "text/plain": [
              "[1] -0.1262172"
            ],
            "text/latex": "-0.126217179139734",
            "text/markdown": "-0.126217179139734",
            "text/html": [
              "-0.126217179139734"
            ]
          },
          "metadata": {}
        }
      ]
    },
    {
      "cell_type": "markdown",
      "source": [
        "Quitando filas que contengan valores ausentes. "
      ],
      "metadata": {
        "id": "9QQwM9YEfC1i"
      }
    },
    {
      "cell_type": "code",
      "source": [
        "dim(dat_xyz)"
      ],
      "metadata": {
        "colab": {
          "base_uri": "https://localhost:8080/",
          "height": 34
        },
        "id": "_k1wTWcJesDQ",
        "outputId": "e27ecab7-2b88-41c9-f3da-0884a391f1cf"
      },
      "execution_count": null,
      "outputs": [
        {
          "output_type": "display_data",
          "data": {
            "text/plain": [
              "[1] 100   3"
            ],
            "text/latex": "\\begin{enumerate*}\n\\item 100\n\\item 3\n\\end{enumerate*}\n",
            "text/markdown": "1. 100\n2. 3\n\n\n",
            "text/html": [
              "<style>\n",
              ".list-inline {list-style: none; margin:0; padding: 0}\n",
              ".list-inline>li {display: inline-block}\n",
              ".list-inline>li:not(:last-child)::after {content: \"\\00b7\"; padding: 0 .5ex}\n",
              "</style>\n",
              "<ol class=list-inline><li>100</li><li>3</li></ol>\n"
            ]
          },
          "metadata": {}
        }
      ]
    },
    {
      "cell_type": "code",
      "source": [
        "dat_xyz <-  na.omit(dat_xyz)"
      ],
      "metadata": {
        "id": "PO4EUgADfInP"
      },
      "execution_count": null,
      "outputs": []
    },
    {
      "cell_type": "code",
      "source": [
        "dim(dat_xyz)"
      ],
      "metadata": {
        "colab": {
          "base_uri": "https://localhost:8080/",
          "height": 34
        },
        "id": "Gb3zKuTvfOkP",
        "outputId": "87da90c4-a31d-4d8f-ceaa-98416670124f"
      },
      "execution_count": null,
      "outputs": [
        {
          "output_type": "display_data",
          "data": {
            "text/plain": [
              "[1] 99  3"
            ],
            "text/latex": "\\begin{enumerate*}\n\\item 99\n\\item 3\n\\end{enumerate*}\n",
            "text/markdown": "1. 99\n2. 3\n\n\n",
            "text/html": [
              "<style>\n",
              ".list-inline {list-style: none; margin:0; padding: 0}\n",
              ".list-inline>li {display: inline-block}\n",
              ".list-inline>li:not(:last-child)::after {content: \"\\00b7\"; padding: 0 .5ex}\n",
              "</style>\n",
              "<ol class=list-inline><li>99</li><li>3</li></ol>\n"
            ]
          },
          "metadata": {}
        }
      ]
    },
    {
      "cell_type": "code",
      "source": [
        "summary(dat_xyz)"
      ],
      "metadata": {
        "colab": {
          "base_uri": "https://localhost:8080/",
          "height": 141
        },
        "id": "PppNeKSWfQNP",
        "outputId": "f3d16b2d-3e7e-41bc-cc77-22ee17af2e01"
      },
      "execution_count": null,
      "outputs": [
        {
          "output_type": "display_data",
          "data": {
            "text/plain": [
              "       x                  y                  z           \n",
              " Min.   :-2.65329   Min.   :-2.15970   Min.   :-2.08846  \n",
              " 1st Qu.:-0.99292   1st Qu.:-0.77627   1st Qu.:-0.58237  \n",
              " Median :-0.05969   Median :-0.03966   Median : 0.09506  \n",
              " Mean   :-0.12622   Mean   :-0.04352   Mean   : 0.09476  \n",
              " 3rd Qu.: 0.60239   3rd Qu.: 0.79020   3rd Qu.: 0.66037  \n",
              " Max.   : 2.50666   Max.   : 2.73073   Max.   : 2.18655  "
            ]
          },
          "metadata": {}
        }
      ]
    },
    {
      "cell_type": "code",
      "source": [
        ""
      ],
      "metadata": {
        "id": "R0se7JFBfTZ1"
      },
      "execution_count": null,
      "outputs": []
    }
  ]
}