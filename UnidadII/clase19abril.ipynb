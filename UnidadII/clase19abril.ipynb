{
  "nbformat": 4,
  "nbformat_minor": 0,
  "metadata": {
    "colab": {
      "name": "clase19abril.ipynb",
      "provenance": [],
      "collapsed_sections": [],
      "authorship_tag": "ABX9TyPyi3X0HgRdOoF9bjDcRJvg",
      "include_colab_link": true
    },
    "kernelspec": {
      "name": "ir",
      "display_name": "R"
    },
    "language_info": {
      "name": "R"
    }
  },
  "cells": [
    {
      "cell_type": "markdown",
      "metadata": {
        "id": "view-in-github",
        "colab_type": "text"
      },
      "source": [
        "<a href=\"https://colab.research.google.com/github/ricardo-rios/cursoR2022/blob/main/UnidadII/clase19abril.ipynb\" target=\"_parent\"><img src=\"https://colab.research.google.com/assets/colab-badge.svg\" alt=\"Open In Colab\"/></a>"
      ]
    },
    {
      "cell_type": "markdown",
      "source": [
        "# Visualización de datos \n",
        "\n",
        "Para visualización de datos usaremos ggplot2 el cual esta basado en el concepto de la gramatica de gráficos. Usaremos el paquete tidyverse el cual tiene incluido a ggplot2."
      ],
      "metadata": {
        "id": "yrmb5BQTafLO"
      }
    },
    {
      "cell_type": "code",
      "source": [
        "library(tidyverse) # cargamos el tidyverse el cual tiene incluido ggplot2"
      ],
      "metadata": {
        "colab": {
          "base_uri": "https://localhost:8080/"
        },
        "id": "siJwpE3Fah88",
        "outputId": "5451698d-b2de-4746-b80f-4a6f96601e4b"
      },
      "execution_count": 1,
      "outputs": [
        {
          "output_type": "stream",
          "name": "stderr",
          "text": [
            "Warning message in system(\"timedatectl\", intern = TRUE):\n",
            "“running command 'timedatectl' had status 1”\n",
            "── \u001b[1mAttaching packages\u001b[22m ─────────────────────────────────────── tidyverse 1.3.1 ──\n",
            "\n",
            "\u001b[32m✔\u001b[39m \u001b[34mggplot2\u001b[39m 3.3.5     \u001b[32m✔\u001b[39m \u001b[34mpurrr  \u001b[39m 0.3.4\n",
            "\u001b[32m✔\u001b[39m \u001b[34mtibble \u001b[39m 3.1.6     \u001b[32m✔\u001b[39m \u001b[34mdplyr  \u001b[39m 1.0.8\n",
            "\u001b[32m✔\u001b[39m \u001b[34mtidyr  \u001b[39m 1.2.0     \u001b[32m✔\u001b[39m \u001b[34mstringr\u001b[39m 1.4.0\n",
            "\u001b[32m✔\u001b[39m \u001b[34mreadr  \u001b[39m 2.1.2     \u001b[32m✔\u001b[39m \u001b[34mforcats\u001b[39m 0.5.1\n",
            "\n",
            "── \u001b[1mConflicts\u001b[22m ────────────────────────────────────────── tidyverse_conflicts() ──\n",
            "\u001b[31m✖\u001b[39m \u001b[34mdplyr\u001b[39m::\u001b[32mfilter()\u001b[39m masks \u001b[34mstats\u001b[39m::filter()\n",
            "\u001b[31m✖\u001b[39m \u001b[34mdplyr\u001b[39m::\u001b[32mlag()\u001b[39m    masks \u001b[34mstats\u001b[39m::lag()\n",
            "\n"
          ]
        }
      ]
    },
    {
      "cell_type": "markdown",
      "source": [
        "El paquete tidyverse ya esta instalado por lo que no es necesario instalarlo.\n",
        "\n",
        "Vamos a responder la siguiente pregunta usando visualización de datos: \n",
        "\n",
        "Carros que tienen motores grandes usan más combustible que carros con pequeños motores. Como es la relación entre el tamaño de un motor y la eficiencia en el consumo de gasolina, será positiva, negativa, lineal o no-lineal.\n",
        "\n",
        "# El dataframe mpg \n",
        "\n",
        "Para responder las anteriores preguntas usaremos el dataframe mpg que viene con el paquete ggplot2."
      ],
      "metadata": {
        "id": "aQXg9Okbc80k"
      }
    },
    {
      "cell_type": "code",
      "source": [
        "mpg "
      ],
      "metadata": {
        "colab": {
          "base_uri": "https://localhost:8080/",
          "height": 1000
        },
        "id": "cPqt6PK1dAXp",
        "outputId": "d6add5a4-d3ff-4b7e-a545-f9ee1cb04914"
      },
      "execution_count": 5,
      "outputs": [
        {
          "output_type": "display_data",
          "data": {
            "text/html": [
              "<table class=\"dataframe\">\n",
              "<caption>A tibble: 234 × 11</caption>\n",
              "<thead>\n",
              "\t<tr><th scope=col>manufacturer</th><th scope=col>model</th><th scope=col>displ</th><th scope=col>year</th><th scope=col>cyl</th><th scope=col>trans</th><th scope=col>drv</th><th scope=col>cty</th><th scope=col>hwy</th><th scope=col>fl</th><th scope=col>class</th></tr>\n",
              "\t<tr><th scope=col>&lt;chr&gt;</th><th scope=col>&lt;chr&gt;</th><th scope=col>&lt;dbl&gt;</th><th scope=col>&lt;int&gt;</th><th scope=col>&lt;int&gt;</th><th scope=col>&lt;chr&gt;</th><th scope=col>&lt;chr&gt;</th><th scope=col>&lt;int&gt;</th><th scope=col>&lt;int&gt;</th><th scope=col>&lt;chr&gt;</th><th scope=col>&lt;chr&gt;</th></tr>\n",
              "</thead>\n",
              "<tbody>\n",
              "\t<tr><td>audi     </td><td>a4                </td><td>1.8</td><td>1999</td><td>4</td><td>auto(l5)  </td><td>f</td><td>18</td><td>29</td><td>p</td><td>compact</td></tr>\n",
              "\t<tr><td>audi     </td><td>a4                </td><td>1.8</td><td>1999</td><td>4</td><td>manual(m5)</td><td>f</td><td>21</td><td>29</td><td>p</td><td>compact</td></tr>\n",
              "\t<tr><td>audi     </td><td>a4                </td><td>2.0</td><td>2008</td><td>4</td><td>manual(m6)</td><td>f</td><td>20</td><td>31</td><td>p</td><td>compact</td></tr>\n",
              "\t<tr><td>audi     </td><td>a4                </td><td>2.0</td><td>2008</td><td>4</td><td>auto(av)  </td><td>f</td><td>21</td><td>30</td><td>p</td><td>compact</td></tr>\n",
              "\t<tr><td>audi     </td><td>a4                </td><td>2.8</td><td>1999</td><td>6</td><td>auto(l5)  </td><td>f</td><td>16</td><td>26</td><td>p</td><td>compact</td></tr>\n",
              "\t<tr><td>audi     </td><td>a4                </td><td>2.8</td><td>1999</td><td>6</td><td>manual(m5)</td><td>f</td><td>18</td><td>26</td><td>p</td><td>compact</td></tr>\n",
              "\t<tr><td>audi     </td><td>a4                </td><td>3.1</td><td>2008</td><td>6</td><td>auto(av)  </td><td>f</td><td>18</td><td>27</td><td>p</td><td>compact</td></tr>\n",
              "\t<tr><td>audi     </td><td>a4 quattro        </td><td>1.8</td><td>1999</td><td>4</td><td>manual(m5)</td><td>4</td><td>18</td><td>26</td><td>p</td><td>compact</td></tr>\n",
              "\t<tr><td>audi     </td><td>a4 quattro        </td><td>1.8</td><td>1999</td><td>4</td><td>auto(l5)  </td><td>4</td><td>16</td><td>25</td><td>p</td><td>compact</td></tr>\n",
              "\t<tr><td>audi     </td><td>a4 quattro        </td><td>2.0</td><td>2008</td><td>4</td><td>manual(m6)</td><td>4</td><td>20</td><td>28</td><td>p</td><td>compact</td></tr>\n",
              "\t<tr><td>audi     </td><td>a4 quattro        </td><td>2.0</td><td>2008</td><td>4</td><td>auto(s6)  </td><td>4</td><td>19</td><td>27</td><td>p</td><td>compact</td></tr>\n",
              "\t<tr><td>audi     </td><td>a4 quattro        </td><td>2.8</td><td>1999</td><td>6</td><td>auto(l5)  </td><td>4</td><td>15</td><td>25</td><td>p</td><td>compact</td></tr>\n",
              "\t<tr><td>audi     </td><td>a4 quattro        </td><td>2.8</td><td>1999</td><td>6</td><td>manual(m5)</td><td>4</td><td>17</td><td>25</td><td>p</td><td>compact</td></tr>\n",
              "\t<tr><td>audi     </td><td>a4 quattro        </td><td>3.1</td><td>2008</td><td>6</td><td>auto(s6)  </td><td>4</td><td>17</td><td>25</td><td>p</td><td>compact</td></tr>\n",
              "\t<tr><td>audi     </td><td>a4 quattro        </td><td>3.1</td><td>2008</td><td>6</td><td>manual(m6)</td><td>4</td><td>15</td><td>25</td><td>p</td><td>compact</td></tr>\n",
              "\t<tr><td>audi     </td><td>a6 quattro        </td><td>2.8</td><td>1999</td><td>6</td><td>auto(l5)  </td><td>4</td><td>15</td><td>24</td><td>p</td><td>midsize</td></tr>\n",
              "\t<tr><td>audi     </td><td>a6 quattro        </td><td>3.1</td><td>2008</td><td>6</td><td>auto(s6)  </td><td>4</td><td>17</td><td>25</td><td>p</td><td>midsize</td></tr>\n",
              "\t<tr><td>audi     </td><td>a6 quattro        </td><td>4.2</td><td>2008</td><td>8</td><td>auto(s6)  </td><td>4</td><td>16</td><td>23</td><td>p</td><td>midsize</td></tr>\n",
              "\t<tr><td>chevrolet</td><td>c1500 suburban 2wd</td><td>5.3</td><td>2008</td><td>8</td><td>auto(l4)  </td><td>r</td><td>14</td><td>20</td><td>r</td><td>suv    </td></tr>\n",
              "\t<tr><td>chevrolet</td><td>c1500 suburban 2wd</td><td>5.3</td><td>2008</td><td>8</td><td>auto(l4)  </td><td>r</td><td>11</td><td>15</td><td>e</td><td>suv    </td></tr>\n",
              "\t<tr><td>chevrolet</td><td>c1500 suburban 2wd</td><td>5.3</td><td>2008</td><td>8</td><td>auto(l4)  </td><td>r</td><td>14</td><td>20</td><td>r</td><td>suv    </td></tr>\n",
              "\t<tr><td>chevrolet</td><td>c1500 suburban 2wd</td><td>5.7</td><td>1999</td><td>8</td><td>auto(l4)  </td><td>r</td><td>13</td><td>17</td><td>r</td><td>suv    </td></tr>\n",
              "\t<tr><td>chevrolet</td><td>c1500 suburban 2wd</td><td>6.0</td><td>2008</td><td>8</td><td>auto(l4)  </td><td>r</td><td>12</td><td>17</td><td>r</td><td>suv    </td></tr>\n",
              "\t<tr><td>chevrolet</td><td>corvette          </td><td>5.7</td><td>1999</td><td>8</td><td>manual(m6)</td><td>r</td><td>16</td><td>26</td><td>p</td><td>2seater</td></tr>\n",
              "\t<tr><td>chevrolet</td><td>corvette          </td><td>5.7</td><td>1999</td><td>8</td><td>auto(l4)  </td><td>r</td><td>15</td><td>23</td><td>p</td><td>2seater</td></tr>\n",
              "\t<tr><td>chevrolet</td><td>corvette          </td><td>6.2</td><td>2008</td><td>8</td><td>manual(m6)</td><td>r</td><td>16</td><td>26</td><td>p</td><td>2seater</td></tr>\n",
              "\t<tr><td>chevrolet</td><td>corvette          </td><td>6.2</td><td>2008</td><td>8</td><td>auto(s6)  </td><td>r</td><td>15</td><td>25</td><td>p</td><td>2seater</td></tr>\n",
              "\t<tr><td>chevrolet</td><td>corvette          </td><td>7.0</td><td>2008</td><td>8</td><td>manual(m6)</td><td>r</td><td>15</td><td>24</td><td>p</td><td>2seater</td></tr>\n",
              "\t<tr><td>chevrolet</td><td>k1500 tahoe 4wd   </td><td>5.3</td><td>2008</td><td>8</td><td>auto(l4)  </td><td>4</td><td>14</td><td>19</td><td>r</td><td>suv    </td></tr>\n",
              "\t<tr><td>chevrolet</td><td>k1500 tahoe 4wd   </td><td>5.3</td><td>2008</td><td>8</td><td>auto(l4)  </td><td>4</td><td>11</td><td>14</td><td>e</td><td>suv    </td></tr>\n",
              "\t<tr><td>⋮</td><td>⋮</td><td>⋮</td><td>⋮</td><td>⋮</td><td>⋮</td><td>⋮</td><td>⋮</td><td>⋮</td><td>⋮</td><td>⋮</td></tr>\n",
              "\t<tr><td>toyota    </td><td>toyota tacoma 4wd</td><td>3.4</td><td>1999</td><td>6</td><td>auto(l4)  </td><td>4</td><td>15</td><td>19</td><td>r</td><td>pickup    </td></tr>\n",
              "\t<tr><td>toyota    </td><td>toyota tacoma 4wd</td><td>4.0</td><td>2008</td><td>6</td><td>manual(m6)</td><td>4</td><td>15</td><td>18</td><td>r</td><td>pickup    </td></tr>\n",
              "\t<tr><td>toyota    </td><td>toyota tacoma 4wd</td><td>4.0</td><td>2008</td><td>6</td><td>auto(l5)  </td><td>4</td><td>16</td><td>20</td><td>r</td><td>pickup    </td></tr>\n",
              "\t<tr><td>volkswagen</td><td>gti              </td><td>2.0</td><td>1999</td><td>4</td><td>manual(m5)</td><td>f</td><td>21</td><td>29</td><td>r</td><td>compact   </td></tr>\n",
              "\t<tr><td>volkswagen</td><td>gti              </td><td>2.0</td><td>1999</td><td>4</td><td>auto(l4)  </td><td>f</td><td>19</td><td>26</td><td>r</td><td>compact   </td></tr>\n",
              "\t<tr><td>volkswagen</td><td>gti              </td><td>2.0</td><td>2008</td><td>4</td><td>manual(m6)</td><td>f</td><td>21</td><td>29</td><td>p</td><td>compact   </td></tr>\n",
              "\t<tr><td>volkswagen</td><td>gti              </td><td>2.0</td><td>2008</td><td>4</td><td>auto(s6)  </td><td>f</td><td>22</td><td>29</td><td>p</td><td>compact   </td></tr>\n",
              "\t<tr><td>volkswagen</td><td>gti              </td><td>2.8</td><td>1999</td><td>6</td><td>manual(m5)</td><td>f</td><td>17</td><td>24</td><td>r</td><td>compact   </td></tr>\n",
              "\t<tr><td>volkswagen</td><td>jetta            </td><td>1.9</td><td>1999</td><td>4</td><td>manual(m5)</td><td>f</td><td>33</td><td>44</td><td>d</td><td>compact   </td></tr>\n",
              "\t<tr><td>volkswagen</td><td>jetta            </td><td>2.0</td><td>1999</td><td>4</td><td>manual(m5)</td><td>f</td><td>21</td><td>29</td><td>r</td><td>compact   </td></tr>\n",
              "\t<tr><td>volkswagen</td><td>jetta            </td><td>2.0</td><td>1999</td><td>4</td><td>auto(l4)  </td><td>f</td><td>19</td><td>26</td><td>r</td><td>compact   </td></tr>\n",
              "\t<tr><td>volkswagen</td><td>jetta            </td><td>2.0</td><td>2008</td><td>4</td><td>auto(s6)  </td><td>f</td><td>22</td><td>29</td><td>p</td><td>compact   </td></tr>\n",
              "\t<tr><td>volkswagen</td><td>jetta            </td><td>2.0</td><td>2008</td><td>4</td><td>manual(m6)</td><td>f</td><td>21</td><td>29</td><td>p</td><td>compact   </td></tr>\n",
              "\t<tr><td>volkswagen</td><td>jetta            </td><td>2.5</td><td>2008</td><td>5</td><td>auto(s6)  </td><td>f</td><td>21</td><td>29</td><td>r</td><td>compact   </td></tr>\n",
              "\t<tr><td>volkswagen</td><td>jetta            </td><td>2.5</td><td>2008</td><td>5</td><td>manual(m5)</td><td>f</td><td>21</td><td>29</td><td>r</td><td>compact   </td></tr>\n",
              "\t<tr><td>volkswagen</td><td>jetta            </td><td>2.8</td><td>1999</td><td>6</td><td>auto(l4)  </td><td>f</td><td>16</td><td>23</td><td>r</td><td>compact   </td></tr>\n",
              "\t<tr><td>volkswagen</td><td>jetta            </td><td>2.8</td><td>1999</td><td>6</td><td>manual(m5)</td><td>f</td><td>17</td><td>24</td><td>r</td><td>compact   </td></tr>\n",
              "\t<tr><td>volkswagen</td><td>new beetle       </td><td>1.9</td><td>1999</td><td>4</td><td>manual(m5)</td><td>f</td><td>35</td><td>44</td><td>d</td><td>subcompact</td></tr>\n",
              "\t<tr><td>volkswagen</td><td>new beetle       </td><td>1.9</td><td>1999</td><td>4</td><td>auto(l4)  </td><td>f</td><td>29</td><td>41</td><td>d</td><td>subcompact</td></tr>\n",
              "\t<tr><td>volkswagen</td><td>new beetle       </td><td>2.0</td><td>1999</td><td>4</td><td>manual(m5)</td><td>f</td><td>21</td><td>29</td><td>r</td><td>subcompact</td></tr>\n",
              "\t<tr><td>volkswagen</td><td>new beetle       </td><td>2.0</td><td>1999</td><td>4</td><td>auto(l4)  </td><td>f</td><td>19</td><td>26</td><td>r</td><td>subcompact</td></tr>\n",
              "\t<tr><td>volkswagen</td><td>new beetle       </td><td>2.5</td><td>2008</td><td>5</td><td>manual(m5)</td><td>f</td><td>20</td><td>28</td><td>r</td><td>subcompact</td></tr>\n",
              "\t<tr><td>volkswagen</td><td>new beetle       </td><td>2.5</td><td>2008</td><td>5</td><td>auto(s6)  </td><td>f</td><td>20</td><td>29</td><td>r</td><td>subcompact</td></tr>\n",
              "\t<tr><td>volkswagen</td><td>passat           </td><td>1.8</td><td>1999</td><td>4</td><td>manual(m5)</td><td>f</td><td>21</td><td>29</td><td>p</td><td>midsize   </td></tr>\n",
              "\t<tr><td>volkswagen</td><td>passat           </td><td>1.8</td><td>1999</td><td>4</td><td>auto(l5)  </td><td>f</td><td>18</td><td>29</td><td>p</td><td>midsize   </td></tr>\n",
              "\t<tr><td>volkswagen</td><td>passat           </td><td>2.0</td><td>2008</td><td>4</td><td>auto(s6)  </td><td>f</td><td>19</td><td>28</td><td>p</td><td>midsize   </td></tr>\n",
              "\t<tr><td>volkswagen</td><td>passat           </td><td>2.0</td><td>2008</td><td>4</td><td>manual(m6)</td><td>f</td><td>21</td><td>29</td><td>p</td><td>midsize   </td></tr>\n",
              "\t<tr><td>volkswagen</td><td>passat           </td><td>2.8</td><td>1999</td><td>6</td><td>auto(l5)  </td><td>f</td><td>16</td><td>26</td><td>p</td><td>midsize   </td></tr>\n",
              "\t<tr><td>volkswagen</td><td>passat           </td><td>2.8</td><td>1999</td><td>6</td><td>manual(m5)</td><td>f</td><td>18</td><td>26</td><td>p</td><td>midsize   </td></tr>\n",
              "\t<tr><td>volkswagen</td><td>passat           </td><td>3.6</td><td>2008</td><td>6</td><td>auto(s6)  </td><td>f</td><td>17</td><td>26</td><td>p</td><td>midsize   </td></tr>\n",
              "</tbody>\n",
              "</table>\n"
            ],
            "text/markdown": "\nA tibble: 234 × 11\n\n| manufacturer &lt;chr&gt; | model &lt;chr&gt; | displ &lt;dbl&gt; | year &lt;int&gt; | cyl &lt;int&gt; | trans &lt;chr&gt; | drv &lt;chr&gt; | cty &lt;int&gt; | hwy &lt;int&gt; | fl &lt;chr&gt; | class &lt;chr&gt; |\n|---|---|---|---|---|---|---|---|---|---|---|\n| audi      | a4                 | 1.8 | 1999 | 4 | auto(l5)   | f | 18 | 29 | p | compact |\n| audi      | a4                 | 1.8 | 1999 | 4 | manual(m5) | f | 21 | 29 | p | compact |\n| audi      | a4                 | 2.0 | 2008 | 4 | manual(m6) | f | 20 | 31 | p | compact |\n| audi      | a4                 | 2.0 | 2008 | 4 | auto(av)   | f | 21 | 30 | p | compact |\n| audi      | a4                 | 2.8 | 1999 | 6 | auto(l5)   | f | 16 | 26 | p | compact |\n| audi      | a4                 | 2.8 | 1999 | 6 | manual(m5) | f | 18 | 26 | p | compact |\n| audi      | a4                 | 3.1 | 2008 | 6 | auto(av)   | f | 18 | 27 | p | compact |\n| audi      | a4 quattro         | 1.8 | 1999 | 4 | manual(m5) | 4 | 18 | 26 | p | compact |\n| audi      | a4 quattro         | 1.8 | 1999 | 4 | auto(l5)   | 4 | 16 | 25 | p | compact |\n| audi      | a4 quattro         | 2.0 | 2008 | 4 | manual(m6) | 4 | 20 | 28 | p | compact |\n| audi      | a4 quattro         | 2.0 | 2008 | 4 | auto(s6)   | 4 | 19 | 27 | p | compact |\n| audi      | a4 quattro         | 2.8 | 1999 | 6 | auto(l5)   | 4 | 15 | 25 | p | compact |\n| audi      | a4 quattro         | 2.8 | 1999 | 6 | manual(m5) | 4 | 17 | 25 | p | compact |\n| audi      | a4 quattro         | 3.1 | 2008 | 6 | auto(s6)   | 4 | 17 | 25 | p | compact |\n| audi      | a4 quattro         | 3.1 | 2008 | 6 | manual(m6) | 4 | 15 | 25 | p | compact |\n| audi      | a6 quattro         | 2.8 | 1999 | 6 | auto(l5)   | 4 | 15 | 24 | p | midsize |\n| audi      | a6 quattro         | 3.1 | 2008 | 6 | auto(s6)   | 4 | 17 | 25 | p | midsize |\n| audi      | a6 quattro         | 4.2 | 2008 | 8 | auto(s6)   | 4 | 16 | 23 | p | midsize |\n| chevrolet | c1500 suburban 2wd | 5.3 | 2008 | 8 | auto(l4)   | r | 14 | 20 | r | suv     |\n| chevrolet | c1500 suburban 2wd | 5.3 | 2008 | 8 | auto(l4)   | r | 11 | 15 | e | suv     |\n| chevrolet | c1500 suburban 2wd | 5.3 | 2008 | 8 | auto(l4)   | r | 14 | 20 | r | suv     |\n| chevrolet | c1500 suburban 2wd | 5.7 | 1999 | 8 | auto(l4)   | r | 13 | 17 | r | suv     |\n| chevrolet | c1500 suburban 2wd | 6.0 | 2008 | 8 | auto(l4)   | r | 12 | 17 | r | suv     |\n| chevrolet | corvette           | 5.7 | 1999 | 8 | manual(m6) | r | 16 | 26 | p | 2seater |\n| chevrolet | corvette           | 5.7 | 1999 | 8 | auto(l4)   | r | 15 | 23 | p | 2seater |\n| chevrolet | corvette           | 6.2 | 2008 | 8 | manual(m6) | r | 16 | 26 | p | 2seater |\n| chevrolet | corvette           | 6.2 | 2008 | 8 | auto(s6)   | r | 15 | 25 | p | 2seater |\n| chevrolet | corvette           | 7.0 | 2008 | 8 | manual(m6) | r | 15 | 24 | p | 2seater |\n| chevrolet | k1500 tahoe 4wd    | 5.3 | 2008 | 8 | auto(l4)   | 4 | 14 | 19 | r | suv     |\n| chevrolet | k1500 tahoe 4wd    | 5.3 | 2008 | 8 | auto(l4)   | 4 | 11 | 14 | e | suv     |\n| ⋮ | ⋮ | ⋮ | ⋮ | ⋮ | ⋮ | ⋮ | ⋮ | ⋮ | ⋮ | ⋮ |\n| toyota     | toyota tacoma 4wd | 3.4 | 1999 | 6 | auto(l4)   | 4 | 15 | 19 | r | pickup     |\n| toyota     | toyota tacoma 4wd | 4.0 | 2008 | 6 | manual(m6) | 4 | 15 | 18 | r | pickup     |\n| toyota     | toyota tacoma 4wd | 4.0 | 2008 | 6 | auto(l5)   | 4 | 16 | 20 | r | pickup     |\n| volkswagen | gti               | 2.0 | 1999 | 4 | manual(m5) | f | 21 | 29 | r | compact    |\n| volkswagen | gti               | 2.0 | 1999 | 4 | auto(l4)   | f | 19 | 26 | r | compact    |\n| volkswagen | gti               | 2.0 | 2008 | 4 | manual(m6) | f | 21 | 29 | p | compact    |\n| volkswagen | gti               | 2.0 | 2008 | 4 | auto(s6)   | f | 22 | 29 | p | compact    |\n| volkswagen | gti               | 2.8 | 1999 | 6 | manual(m5) | f | 17 | 24 | r | compact    |\n| volkswagen | jetta             | 1.9 | 1999 | 4 | manual(m5) | f | 33 | 44 | d | compact    |\n| volkswagen | jetta             | 2.0 | 1999 | 4 | manual(m5) | f | 21 | 29 | r | compact    |\n| volkswagen | jetta             | 2.0 | 1999 | 4 | auto(l4)   | f | 19 | 26 | r | compact    |\n| volkswagen | jetta             | 2.0 | 2008 | 4 | auto(s6)   | f | 22 | 29 | p | compact    |\n| volkswagen | jetta             | 2.0 | 2008 | 4 | manual(m6) | f | 21 | 29 | p | compact    |\n| volkswagen | jetta             | 2.5 | 2008 | 5 | auto(s6)   | f | 21 | 29 | r | compact    |\n| volkswagen | jetta             | 2.5 | 2008 | 5 | manual(m5) | f | 21 | 29 | r | compact    |\n| volkswagen | jetta             | 2.8 | 1999 | 6 | auto(l4)   | f | 16 | 23 | r | compact    |\n| volkswagen | jetta             | 2.8 | 1999 | 6 | manual(m5) | f | 17 | 24 | r | compact    |\n| volkswagen | new beetle        | 1.9 | 1999 | 4 | manual(m5) | f | 35 | 44 | d | subcompact |\n| volkswagen | new beetle        | 1.9 | 1999 | 4 | auto(l4)   | f | 29 | 41 | d | subcompact |\n| volkswagen | new beetle        | 2.0 | 1999 | 4 | manual(m5) | f | 21 | 29 | r | subcompact |\n| volkswagen | new beetle        | 2.0 | 1999 | 4 | auto(l4)   | f | 19 | 26 | r | subcompact |\n| volkswagen | new beetle        | 2.5 | 2008 | 5 | manual(m5) | f | 20 | 28 | r | subcompact |\n| volkswagen | new beetle        | 2.5 | 2008 | 5 | auto(s6)   | f | 20 | 29 | r | subcompact |\n| volkswagen | passat            | 1.8 | 1999 | 4 | manual(m5) | f | 21 | 29 | p | midsize    |\n| volkswagen | passat            | 1.8 | 1999 | 4 | auto(l5)   | f | 18 | 29 | p | midsize    |\n| volkswagen | passat            | 2.0 | 2008 | 4 | auto(s6)   | f | 19 | 28 | p | midsize    |\n| volkswagen | passat            | 2.0 | 2008 | 4 | manual(m6) | f | 21 | 29 | p | midsize    |\n| volkswagen | passat            | 2.8 | 1999 | 6 | auto(l5)   | f | 16 | 26 | p | midsize    |\n| volkswagen | passat            | 2.8 | 1999 | 6 | manual(m5) | f | 18 | 26 | p | midsize    |\n| volkswagen | passat            | 3.6 | 2008 | 6 | auto(s6)   | f | 17 | 26 | p | midsize    |\n\n",
            "text/latex": "A tibble: 234 × 11\n\\begin{tabular}{lllllllllll}\n manufacturer & model & displ & year & cyl & trans & drv & cty & hwy & fl & class\\\\\n <chr> & <chr> & <dbl> & <int> & <int> & <chr> & <chr> & <int> & <int> & <chr> & <chr>\\\\\n\\hline\n\t audi      & a4                 & 1.8 & 1999 & 4 & auto(l5)   & f & 18 & 29 & p & compact\\\\\n\t audi      & a4                 & 1.8 & 1999 & 4 & manual(m5) & f & 21 & 29 & p & compact\\\\\n\t audi      & a4                 & 2.0 & 2008 & 4 & manual(m6) & f & 20 & 31 & p & compact\\\\\n\t audi      & a4                 & 2.0 & 2008 & 4 & auto(av)   & f & 21 & 30 & p & compact\\\\\n\t audi      & a4                 & 2.8 & 1999 & 6 & auto(l5)   & f & 16 & 26 & p & compact\\\\\n\t audi      & a4                 & 2.8 & 1999 & 6 & manual(m5) & f & 18 & 26 & p & compact\\\\\n\t audi      & a4                 & 3.1 & 2008 & 6 & auto(av)   & f & 18 & 27 & p & compact\\\\\n\t audi      & a4 quattro         & 1.8 & 1999 & 4 & manual(m5) & 4 & 18 & 26 & p & compact\\\\\n\t audi      & a4 quattro         & 1.8 & 1999 & 4 & auto(l5)   & 4 & 16 & 25 & p & compact\\\\\n\t audi      & a4 quattro         & 2.0 & 2008 & 4 & manual(m6) & 4 & 20 & 28 & p & compact\\\\\n\t audi      & a4 quattro         & 2.0 & 2008 & 4 & auto(s6)   & 4 & 19 & 27 & p & compact\\\\\n\t audi      & a4 quattro         & 2.8 & 1999 & 6 & auto(l5)   & 4 & 15 & 25 & p & compact\\\\\n\t audi      & a4 quattro         & 2.8 & 1999 & 6 & manual(m5) & 4 & 17 & 25 & p & compact\\\\\n\t audi      & a4 quattro         & 3.1 & 2008 & 6 & auto(s6)   & 4 & 17 & 25 & p & compact\\\\\n\t audi      & a4 quattro         & 3.1 & 2008 & 6 & manual(m6) & 4 & 15 & 25 & p & compact\\\\\n\t audi      & a6 quattro         & 2.8 & 1999 & 6 & auto(l5)   & 4 & 15 & 24 & p & midsize\\\\\n\t audi      & a6 quattro         & 3.1 & 2008 & 6 & auto(s6)   & 4 & 17 & 25 & p & midsize\\\\\n\t audi      & a6 quattro         & 4.2 & 2008 & 8 & auto(s6)   & 4 & 16 & 23 & p & midsize\\\\\n\t chevrolet & c1500 suburban 2wd & 5.3 & 2008 & 8 & auto(l4)   & r & 14 & 20 & r & suv    \\\\\n\t chevrolet & c1500 suburban 2wd & 5.3 & 2008 & 8 & auto(l4)   & r & 11 & 15 & e & suv    \\\\\n\t chevrolet & c1500 suburban 2wd & 5.3 & 2008 & 8 & auto(l4)   & r & 14 & 20 & r & suv    \\\\\n\t chevrolet & c1500 suburban 2wd & 5.7 & 1999 & 8 & auto(l4)   & r & 13 & 17 & r & suv    \\\\\n\t chevrolet & c1500 suburban 2wd & 6.0 & 2008 & 8 & auto(l4)   & r & 12 & 17 & r & suv    \\\\\n\t chevrolet & corvette           & 5.7 & 1999 & 8 & manual(m6) & r & 16 & 26 & p & 2seater\\\\\n\t chevrolet & corvette           & 5.7 & 1999 & 8 & auto(l4)   & r & 15 & 23 & p & 2seater\\\\\n\t chevrolet & corvette           & 6.2 & 2008 & 8 & manual(m6) & r & 16 & 26 & p & 2seater\\\\\n\t chevrolet & corvette           & 6.2 & 2008 & 8 & auto(s6)   & r & 15 & 25 & p & 2seater\\\\\n\t chevrolet & corvette           & 7.0 & 2008 & 8 & manual(m6) & r & 15 & 24 & p & 2seater\\\\\n\t chevrolet & k1500 tahoe 4wd    & 5.3 & 2008 & 8 & auto(l4)   & 4 & 14 & 19 & r & suv    \\\\\n\t chevrolet & k1500 tahoe 4wd    & 5.3 & 2008 & 8 & auto(l4)   & 4 & 11 & 14 & e & suv    \\\\\n\t ⋮ & ⋮ & ⋮ & ⋮ & ⋮ & ⋮ & ⋮ & ⋮ & ⋮ & ⋮ & ⋮\\\\\n\t toyota     & toyota tacoma 4wd & 3.4 & 1999 & 6 & auto(l4)   & 4 & 15 & 19 & r & pickup    \\\\\n\t toyota     & toyota tacoma 4wd & 4.0 & 2008 & 6 & manual(m6) & 4 & 15 & 18 & r & pickup    \\\\\n\t toyota     & toyota tacoma 4wd & 4.0 & 2008 & 6 & auto(l5)   & 4 & 16 & 20 & r & pickup    \\\\\n\t volkswagen & gti               & 2.0 & 1999 & 4 & manual(m5) & f & 21 & 29 & r & compact   \\\\\n\t volkswagen & gti               & 2.0 & 1999 & 4 & auto(l4)   & f & 19 & 26 & r & compact   \\\\\n\t volkswagen & gti               & 2.0 & 2008 & 4 & manual(m6) & f & 21 & 29 & p & compact   \\\\\n\t volkswagen & gti               & 2.0 & 2008 & 4 & auto(s6)   & f & 22 & 29 & p & compact   \\\\\n\t volkswagen & gti               & 2.8 & 1999 & 6 & manual(m5) & f & 17 & 24 & r & compact   \\\\\n\t volkswagen & jetta             & 1.9 & 1999 & 4 & manual(m5) & f & 33 & 44 & d & compact   \\\\\n\t volkswagen & jetta             & 2.0 & 1999 & 4 & manual(m5) & f & 21 & 29 & r & compact   \\\\\n\t volkswagen & jetta             & 2.0 & 1999 & 4 & auto(l4)   & f & 19 & 26 & r & compact   \\\\\n\t volkswagen & jetta             & 2.0 & 2008 & 4 & auto(s6)   & f & 22 & 29 & p & compact   \\\\\n\t volkswagen & jetta             & 2.0 & 2008 & 4 & manual(m6) & f & 21 & 29 & p & compact   \\\\\n\t volkswagen & jetta             & 2.5 & 2008 & 5 & auto(s6)   & f & 21 & 29 & r & compact   \\\\\n\t volkswagen & jetta             & 2.5 & 2008 & 5 & manual(m5) & f & 21 & 29 & r & compact   \\\\\n\t volkswagen & jetta             & 2.8 & 1999 & 6 & auto(l4)   & f & 16 & 23 & r & compact   \\\\\n\t volkswagen & jetta             & 2.8 & 1999 & 6 & manual(m5) & f & 17 & 24 & r & compact   \\\\\n\t volkswagen & new beetle        & 1.9 & 1999 & 4 & manual(m5) & f & 35 & 44 & d & subcompact\\\\\n\t volkswagen & new beetle        & 1.9 & 1999 & 4 & auto(l4)   & f & 29 & 41 & d & subcompact\\\\\n\t volkswagen & new beetle        & 2.0 & 1999 & 4 & manual(m5) & f & 21 & 29 & r & subcompact\\\\\n\t volkswagen & new beetle        & 2.0 & 1999 & 4 & auto(l4)   & f & 19 & 26 & r & subcompact\\\\\n\t volkswagen & new beetle        & 2.5 & 2008 & 5 & manual(m5) & f & 20 & 28 & r & subcompact\\\\\n\t volkswagen & new beetle        & 2.5 & 2008 & 5 & auto(s6)   & f & 20 & 29 & r & subcompact\\\\\n\t volkswagen & passat            & 1.8 & 1999 & 4 & manual(m5) & f & 21 & 29 & p & midsize   \\\\\n\t volkswagen & passat            & 1.8 & 1999 & 4 & auto(l5)   & f & 18 & 29 & p & midsize   \\\\\n\t volkswagen & passat            & 2.0 & 2008 & 4 & auto(s6)   & f & 19 & 28 & p & midsize   \\\\\n\t volkswagen & passat            & 2.0 & 2008 & 4 & manual(m6) & f & 21 & 29 & p & midsize   \\\\\n\t volkswagen & passat            & 2.8 & 1999 & 6 & auto(l5)   & f & 16 & 26 & p & midsize   \\\\\n\t volkswagen & passat            & 2.8 & 1999 & 6 & manual(m5) & f & 18 & 26 & p & midsize   \\\\\n\t volkswagen & passat            & 3.6 & 2008 & 6 & auto(s6)   & f & 17 & 26 & p & midsize   \\\\\n\\end{tabular}\n",
            "text/plain": [
              "    manufacturer model              displ year cyl trans      drv cty hwy fl\n",
              "1   audi         a4                 1.8   1999 4   auto(l5)   f   18  29  p \n",
              "2   audi         a4                 1.8   1999 4   manual(m5) f   21  29  p \n",
              "3   audi         a4                 2.0   2008 4   manual(m6) f   20  31  p \n",
              "4   audi         a4                 2.0   2008 4   auto(av)   f   21  30  p \n",
              "5   audi         a4                 2.8   1999 6   auto(l5)   f   16  26  p \n",
              "6   audi         a4                 2.8   1999 6   manual(m5) f   18  26  p \n",
              "7   audi         a4                 3.1   2008 6   auto(av)   f   18  27  p \n",
              "8   audi         a4 quattro         1.8   1999 4   manual(m5) 4   18  26  p \n",
              "9   audi         a4 quattro         1.8   1999 4   auto(l5)   4   16  25  p \n",
              "10  audi         a4 quattro         2.0   2008 4   manual(m6) 4   20  28  p \n",
              "11  audi         a4 quattro         2.0   2008 4   auto(s6)   4   19  27  p \n",
              "12  audi         a4 quattro         2.8   1999 6   auto(l5)   4   15  25  p \n",
              "13  audi         a4 quattro         2.8   1999 6   manual(m5) 4   17  25  p \n",
              "14  audi         a4 quattro         3.1   2008 6   auto(s6)   4   17  25  p \n",
              "15  audi         a4 quattro         3.1   2008 6   manual(m6) 4   15  25  p \n",
              "16  audi         a6 quattro         2.8   1999 6   auto(l5)   4   15  24  p \n",
              "17  audi         a6 quattro         3.1   2008 6   auto(s6)   4   17  25  p \n",
              "18  audi         a6 quattro         4.2   2008 8   auto(s6)   4   16  23  p \n",
              "19  chevrolet    c1500 suburban 2wd 5.3   2008 8   auto(l4)   r   14  20  r \n",
              "20  chevrolet    c1500 suburban 2wd 5.3   2008 8   auto(l4)   r   11  15  e \n",
              "21  chevrolet    c1500 suburban 2wd 5.3   2008 8   auto(l4)   r   14  20  r \n",
              "22  chevrolet    c1500 suburban 2wd 5.7   1999 8   auto(l4)   r   13  17  r \n",
              "23  chevrolet    c1500 suburban 2wd 6.0   2008 8   auto(l4)   r   12  17  r \n",
              "24  chevrolet    corvette           5.7   1999 8   manual(m6) r   16  26  p \n",
              "25  chevrolet    corvette           5.7   1999 8   auto(l4)   r   15  23  p \n",
              "26  chevrolet    corvette           6.2   2008 8   manual(m6) r   16  26  p \n",
              "27  chevrolet    corvette           6.2   2008 8   auto(s6)   r   15  25  p \n",
              "28  chevrolet    corvette           7.0   2008 8   manual(m6) r   15  24  p \n",
              "29  chevrolet    k1500 tahoe 4wd    5.3   2008 8   auto(l4)   4   14  19  r \n",
              "30  chevrolet    k1500 tahoe 4wd    5.3   2008 8   auto(l4)   4   11  14  e \n",
              "⋮   ⋮            ⋮                  ⋮     ⋮    ⋮   ⋮          ⋮   ⋮   ⋮   ⋮ \n",
              "205 toyota       toyota tacoma 4wd  3.4   1999 6   auto(l4)   4   15  19  r \n",
              "206 toyota       toyota tacoma 4wd  4.0   2008 6   manual(m6) 4   15  18  r \n",
              "207 toyota       toyota tacoma 4wd  4.0   2008 6   auto(l5)   4   16  20  r \n",
              "208 volkswagen   gti                2.0   1999 4   manual(m5) f   21  29  r \n",
              "209 volkswagen   gti                2.0   1999 4   auto(l4)   f   19  26  r \n",
              "210 volkswagen   gti                2.0   2008 4   manual(m6) f   21  29  p \n",
              "211 volkswagen   gti                2.0   2008 4   auto(s6)   f   22  29  p \n",
              "212 volkswagen   gti                2.8   1999 6   manual(m5) f   17  24  r \n",
              "213 volkswagen   jetta              1.9   1999 4   manual(m5) f   33  44  d \n",
              "214 volkswagen   jetta              2.0   1999 4   manual(m5) f   21  29  r \n",
              "215 volkswagen   jetta              2.0   1999 4   auto(l4)   f   19  26  r \n",
              "216 volkswagen   jetta              2.0   2008 4   auto(s6)   f   22  29  p \n",
              "217 volkswagen   jetta              2.0   2008 4   manual(m6) f   21  29  p \n",
              "218 volkswagen   jetta              2.5   2008 5   auto(s6)   f   21  29  r \n",
              "219 volkswagen   jetta              2.5   2008 5   manual(m5) f   21  29  r \n",
              "220 volkswagen   jetta              2.8   1999 6   auto(l4)   f   16  23  r \n",
              "221 volkswagen   jetta              2.8   1999 6   manual(m5) f   17  24  r \n",
              "222 volkswagen   new beetle         1.9   1999 4   manual(m5) f   35  44  d \n",
              "223 volkswagen   new beetle         1.9   1999 4   auto(l4)   f   29  41  d \n",
              "224 volkswagen   new beetle         2.0   1999 4   manual(m5) f   21  29  r \n",
              "225 volkswagen   new beetle         2.0   1999 4   auto(l4)   f   19  26  r \n",
              "226 volkswagen   new beetle         2.5   2008 5   manual(m5) f   20  28  r \n",
              "227 volkswagen   new beetle         2.5   2008 5   auto(s6)   f   20  29  r \n",
              "228 volkswagen   passat             1.8   1999 4   manual(m5) f   21  29  p \n",
              "229 volkswagen   passat             1.8   1999 4   auto(l5)   f   18  29  p \n",
              "230 volkswagen   passat             2.0   2008 4   auto(s6)   f   19  28  p \n",
              "231 volkswagen   passat             2.0   2008 4   manual(m6) f   21  29  p \n",
              "232 volkswagen   passat             2.8   1999 6   auto(l5)   f   16  26  p \n",
              "233 volkswagen   passat             2.8   1999 6   manual(m5) f   18  26  p \n",
              "234 volkswagen   passat             3.6   2008 6   auto(s6)   f   17  26  p \n",
              "    class     \n",
              "1   compact   \n",
              "2   compact   \n",
              "3   compact   \n",
              "4   compact   \n",
              "5   compact   \n",
              "6   compact   \n",
              "7   compact   \n",
              "8   compact   \n",
              "9   compact   \n",
              "10  compact   \n",
              "11  compact   \n",
              "12  compact   \n",
              "13  compact   \n",
              "14  compact   \n",
              "15  compact   \n",
              "16  midsize   \n",
              "17  midsize   \n",
              "18  midsize   \n",
              "19  suv       \n",
              "20  suv       \n",
              "21  suv       \n",
              "22  suv       \n",
              "23  suv       \n",
              "24  2seater   \n",
              "25  2seater   \n",
              "26  2seater   \n",
              "27  2seater   \n",
              "28  2seater   \n",
              "29  suv       \n",
              "30  suv       \n",
              "⋮   ⋮         \n",
              "205 pickup    \n",
              "206 pickup    \n",
              "207 pickup    \n",
              "208 compact   \n",
              "209 compact   \n",
              "210 compact   \n",
              "211 compact   \n",
              "212 compact   \n",
              "213 compact   \n",
              "214 compact   \n",
              "215 compact   \n",
              "216 compact   \n",
              "217 compact   \n",
              "218 compact   \n",
              "219 compact   \n",
              "220 compact   \n",
              "221 compact   \n",
              "222 subcompact\n",
              "223 subcompact\n",
              "224 subcompact\n",
              "225 subcompact\n",
              "226 subcompact\n",
              "227 subcompact\n",
              "228 midsize   \n",
              "229 midsize   \n",
              "230 midsize   \n",
              "231 midsize   \n",
              "232 midsize   \n",
              "233 midsize   \n",
              "234 midsize   "
            ]
          },
          "metadata": {}
        }
      ]
    },
    {
      "cell_type": "markdown",
      "source": [
        "Entre las variables en el tibble (dataframe) mpg estan: \n",
        "\n",
        "* displ: el tamaño del motor en litros.\n",
        "* hwy: la eficiencia del combustible en carretera, en millas por galón. Un carro con baja eficiencia consume más combustible que uno con mayor eficiencia cuando viajan la misma distancia.\n",
        "\n",
        "\n",
        "# Creando un gráfico en ggplot \n"
      ],
      "metadata": {
        "id": "m_PIK3ibhOPX"
      }
    },
    {
      "cell_type": "code",
      "source": [
        "ggplot(data=mpg) + \n",
        "   geom_point(mapping = aes(x = displ, y=hwy) )"
      ],
      "metadata": {
        "colab": {
          "base_uri": "https://localhost:8080/",
          "height": 437
        },
        "id": "74hlQroBhajZ",
        "outputId": "6c2e1708-d956-4c42-bbf9-e389950cc193"
      },
      "execution_count": 10,
      "outputs": [
        {
          "output_type": "display_data",
          "data": {
            "text/plain": [
              "plot without title"
            ],
            "image/png": "[encoded data removed]"
          },
          "metadata": {
            "image/png": {
              "width": 420,
              "height": 420
            }
          }
        }
      ]
    },
    {
      "cell_type": "markdown",
      "source": [
        "El gráfico muestra una relación negativa entre el tamaño del motor (displ) y la eficiencia en el combustible (hwy). En otras palabras, carros con motores grandes usan más combustible. "
      ],
      "metadata": {
        "id": "sXdJ0P61jCgO"
      }
    },
    {
      "cell_type": "markdown",
      "source": [
        "Esto confirma o refuta nuestras hipótesis acerca de la eficiencia en el combustible y el tamaño del motor? "
      ],
      "metadata": {
        "id": "HDpr8FkdjbKW"
      }
    },
    {
      "cell_type": "markdown",
      "source": [
        "# Plantilla de grafico\n",
        "\n",
        "\n",
        "```R\n",
        "ggplot(data = <DATA>) + \n",
        "   <GEOM_FUNCTION>(mapping = aes(<MAPPINGS>))\n",
        "```\n",
        "\n"
      ],
      "metadata": {
        "id": "TdYtAtUzlMIg"
      }
    },
    {
      "cell_type": "markdown",
      "source": [
        "**Ejercicio**:\n",
        "Hacer un gráfico de dispersión entre hwy versus cyl. "
      ],
      "metadata": {
        "id": "PojvmYH3nNvT"
      }
    },
    {
      "cell_type": "code",
      "source": [
        "ggplot(data = mpg) + \n",
        "   geom_point(mapping = aes(x = hwy, y = cyl))"
      ],
      "metadata": {
        "colab": {
          "base_uri": "https://localhost:8080/",
          "height": 437
        },
        "id": "0dOdqa6_oET9",
        "outputId": "2f21b341-8f5c-4664-df4f-06d02611f580"
      },
      "execution_count": 12,
      "outputs": [
        {
          "output_type": "display_data",
          "data": {
            "text/plain": [
              "plot without title"
            ],
            "image/png": "[encoded data removed]"
          },
          "metadata": {
            "image/png": {
              "width": 420,
              "height": 420
            }
          }
        }
      ]
    },
    {
      "cell_type": "code",
      "source": [
        "ggplot(data = mpg) + \n",
        "   geom_point(mapping = aes(x = cyl, y = hwy))"
      ],
      "metadata": {
        "colab": {
          "base_uri": "https://localhost:8080/",
          "height": 437
        },
        "id": "I1Ln4mJepQDc",
        "outputId": "672800cb-321a-4057-e220-fe4ac4e2b25f"
      },
      "execution_count": 13,
      "outputs": [
        {
          "output_type": "display_data",
          "data": {
            "text/plain": [
              "plot without title"
            ],
            "image/png": "[encoded data removed]"
          },
          "metadata": {
            "image/png": {
              "width": 420,
              "height": 420
            }
          }
        }
      ]
    },
    {
      "cell_type": "code",
      "source": [
        ""
      ],
      "metadata": {
        "id": "ylRkG7vYphft"
      },
      "execution_count": null,
      "outputs": []
    }
  ]
}